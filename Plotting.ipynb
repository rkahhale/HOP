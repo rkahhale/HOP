{
 "cells": [
  {
   "cell_type": "code",
   "execution_count": 1,
   "metadata": {},
   "outputs": [],
   "source": [
    "erie"
   ]
  },
  {
   "cell_type": "code",
   "execution_count": 123,
   "metadata": {},
   "outputs": [],
   "source": [
    "apple_sw = pd.read_csv('Data/SoftwareEngineer/SoftwareEngineer_Apple.csv')"
   ]
  },
  {
   "cell_type": "code",
   "execution_count": 124,
   "metadata": {},
   "outputs": [
    {
     "data": {
      "text/plain": [
       "Index(['Unnamed: 0', 'name', 'age', 'gender', 'description', 'source_company',\n",
       "       'source_role', 'current_title', 'current_company',\n",
       "       'current_company_location', 'from', 'to', 'prev_title_1',\n",
       "       'prev_company_1', 'prev_exp_location_1', 'prev_exp_from_1',\n",
       "       'prev_exp_to_1', 'prev_exp_duration_months_1',\n",
       "       'prev_exp_duration_years_1', 'prev_title_2', 'prev_company_2',\n",
       "       'prev_exp_location_2', 'prev_exp_from_2', 'prev_exp_to_2',\n",
       "       'prev_exp_duration_months_2', 'prev_exp_duration_years_2',\n",
       "       'prev_title_3', 'prev_company_3', 'prev_exp_location_3',\n",
       "       'prev_exp_from_3', 'prev_exp_to_3', 'prev_exp_duration_months_3',\n",
       "       'prev_exp_duration_years_3', 'prev_title_4', 'prev_company_4',\n",
       "       'prev_exp_location_4', 'prev_exp_from_4', 'prev_exp_to_4',\n",
       "       'prev_exp_duration_months_4', 'prev_exp_duration_years_4',\n",
       "       'prev_title_5', 'prev_company_5', 'prev_exp_location_5',\n",
       "       'prev_exp_from_5', 'prev_exp_to_5', 'prev_exp_duration_months_5',\n",
       "       'prev_exp_duration_years_5', 'has_PhD', 'major_PhD', 'uni_PhD',\n",
       "       'PhD_from', 'PhD_to', 'has_MS', 'major_MS', 'uni_MS', 'MS_from',\n",
       "       'MS_to', 'has_BS', 'major_BS', 'uni_BS', 'BS_from', 'BS_to',\n",
       "       'other_education', 'total_num_education'],\n",
       "      dtype='object')"
      ]
     },
     "execution_count": 124,
     "metadata": {},
     "output_type": "execute_result"
    }
   ],
   "source": [
    "apple_sw.columns"
   ]
  },
  {
   "cell_type": "code",
   "execution_count": 164,
   "metadata": {},
   "outputs": [
    {
     "data": {
      "text/html": [
       "<div>\n",
       "<style scoped>\n",
       "    .dataframe tbody tr th:only-of-type {\n",
       "        vertical-align: middle;\n",
       "    }\n",
       "\n",
       "    .dataframe tbody tr th {\n",
       "        vertical-align: top;\n",
       "    }\n",
       "\n",
       "    .dataframe thead th {\n",
       "        text-align: right;\n",
       "    }\n",
       "</style>\n",
       "<table border=\"1\" class=\"dataframe\">\n",
       "  <thead>\n",
       "    <tr style=\"text-align: right;\">\n",
       "      <th></th>\n",
       "      <th>Unnamed: 0</th>\n",
       "      <th>name</th>\n",
       "      <th>age</th>\n",
       "      <th>gender</th>\n",
       "      <th>description</th>\n",
       "      <th>source_company</th>\n",
       "      <th>source_role</th>\n",
       "      <th>current_title</th>\n",
       "      <th>current_company</th>\n",
       "      <th>current_company_location</th>\n",
       "      <th>...</th>\n",
       "      <th>uni_MS</th>\n",
       "      <th>MS_from</th>\n",
       "      <th>MS_to</th>\n",
       "      <th>has_BS</th>\n",
       "      <th>major_BS</th>\n",
       "      <th>uni_BS</th>\n",
       "      <th>BS_from</th>\n",
       "      <th>BS_to</th>\n",
       "      <th>other_education</th>\n",
       "      <th>total_num_education</th>\n",
       "    </tr>\n",
       "  </thead>\n",
       "  <tbody>\n",
       "    <tr>\n",
       "      <th>0</th>\n",
       "      <td>Xudong Liu</td>\n",
       "      <td>Xudong Liu</td>\n",
       "      <td>30.0</td>\n",
       "      <td>Male</td>\n",
       "      <td>Experienced software engineer with a passion f...</td>\n",
       "      <td>Apple</td>\n",
       "      <td>SoftwareEngineer</td>\n",
       "      <td>Senior Software Engineer</td>\n",
       "      <td>Apple Inc.</td>\n",
       "      <td>San Francisco, California</td>\n",
       "      <td>...</td>\n",
       "      <td>Northwestern University</td>\n",
       "      <td>2011-01-01 00:00:00</td>\n",
       "      <td>2012-01-01 00:00:00</td>\n",
       "      <td>True</td>\n",
       "      <td>Electrical Engineering</td>\n",
       "      <td>Northwestern University</td>\n",
       "      <td>2009-01-01 00:00:00</td>\n",
       "      <td>2011-01-01 00:00:00</td>\n",
       "      <td>NaN</td>\n",
       "      <td>4.0</td>\n",
       "    </tr>\n",
       "    <tr>\n",
       "      <th>6</th>\n",
       "      <td>Praveen Vasishtha</td>\n",
       "      <td>Praveen Vasishtha</td>\n",
       "      <td>30.0</td>\n",
       "      <td>Male</td>\n",
       "      <td>Extensive experience in Software/Firmware deve...</td>\n",
       "      <td>Apple</td>\n",
       "      <td>SoftwareEngineer</td>\n",
       "      <td>Modem software/firmware engineer</td>\n",
       "      <td>Apple Inc.</td>\n",
       "      <td>San Diego, California</td>\n",
       "      <td>...</td>\n",
       "      <td>University of California - San Diego</td>\n",
       "      <td>2014-01-01 00:00:00</td>\n",
       "      <td>2016-01-01 00:00:00</td>\n",
       "      <td>True</td>\n",
       "      <td>Bachelor of Technology in Electronics &amp; Commun...</td>\n",
       "      <td>Kurukshetra University</td>\n",
       "      <td>1996-01-01 00:00:00</td>\n",
       "      <td>2000-01-01 00:00:00</td>\n",
       "      <td>NaN</td>\n",
       "      <td>2.0</td>\n",
       "    </tr>\n",
       "    <tr>\n",
       "      <th>7</th>\n",
       "      <td>Aroop Ganguly</td>\n",
       "      <td>Aroop Ganguly</td>\n",
       "      <td>36.0</td>\n",
       "      <td>Male</td>\n",
       "      <td>Primarily focused on Big Data and Search techn...</td>\n",
       "      <td>Apple</td>\n",
       "      <td>SoftwareEngineer</td>\n",
       "      <td>Principal Software Engineer - Siri</td>\n",
       "      <td>Apple Inc.</td>\n",
       "      <td>San Francisco, California</td>\n",
       "      <td>...</td>\n",
       "      <td>Carnegie Mellon University</td>\n",
       "      <td>2010-01-01 00:00:00</td>\n",
       "      <td>2011-01-01 00:00:00</td>\n",
       "      <td>True</td>\n",
       "      <td>Information Technology</td>\n",
       "      <td>Rajiv Gandhi Technical University</td>\n",
       "      <td>2003-01-01 00:00:00</td>\n",
       "      <td>2007-01-01 00:00:00</td>\n",
       "      <td>NaN</td>\n",
       "      <td>2.0</td>\n",
       "    </tr>\n",
       "    <tr>\n",
       "      <th>9</th>\n",
       "      <td>Katy Burns</td>\n",
       "      <td>Katy Burns</td>\n",
       "      <td>61.0</td>\n",
       "      <td>Female</td>\n",
       "      <td>Specialties: \\nAutomated  Release &amp; Validation...</td>\n",
       "      <td>Apple</td>\n",
       "      <td>SoftwareEngineer</td>\n",
       "      <td>Senior Software Development Engineer In Test</td>\n",
       "      <td>Apple Inc.</td>\n",
       "      <td>San Francisco, California</td>\n",
       "      <td>...</td>\n",
       "      <td>University of Washington</td>\n",
       "      <td>1984-01-01 00:00:00</td>\n",
       "      <td>1986-01-01 00:00:00</td>\n",
       "      <td>True</td>\n",
       "      <td>NaN</td>\n",
       "      <td>NaN</td>\n",
       "      <td>NaN</td>\n",
       "      <td>NaN</td>\n",
       "      <td>NaN</td>\n",
       "      <td>3.0</td>\n",
       "    </tr>\n",
       "    <tr>\n",
       "      <th>10</th>\n",
       "      <td>Xiaoyuan Tu</td>\n",
       "      <td>Xiaoyuan Tu</td>\n",
       "      <td>53.0</td>\n",
       "      <td>Female</td>\n",
       "      <td>Xiaoyuan Tu (born 1967) is a Chinese researche...</td>\n",
       "      <td>Apple</td>\n",
       "      <td>SoftwareEngineer</td>\n",
       "      <td>Lead Scientist &amp; Senior Software Engineer, iOS...</td>\n",
       "      <td>Apple Inc.</td>\n",
       "      <td>NaN</td>\n",
       "      <td>...</td>\n",
       "      <td>McMaster University</td>\n",
       "      <td>1990-01-01 00:00:00</td>\n",
       "      <td>1991-01-01 00:00:00</td>\n",
       "      <td>True</td>\n",
       "      <td>NaN</td>\n",
       "      <td>NaN</td>\n",
       "      <td>NaN</td>\n",
       "      <td>NaN</td>\n",
       "      <td>NaN</td>\n",
       "      <td>3.0</td>\n",
       "    </tr>\n",
       "    <tr>\n",
       "      <th>...</th>\n",
       "      <td>...</td>\n",
       "      <td>...</td>\n",
       "      <td>...</td>\n",
       "      <td>...</td>\n",
       "      <td>...</td>\n",
       "      <td>...</td>\n",
       "      <td>...</td>\n",
       "      <td>...</td>\n",
       "      <td>...</td>\n",
       "      <td>...</td>\n",
       "      <td>...</td>\n",
       "      <td>...</td>\n",
       "      <td>...</td>\n",
       "      <td>...</td>\n",
       "      <td>...</td>\n",
       "      <td>...</td>\n",
       "      <td>...</td>\n",
       "      <td>...</td>\n",
       "      <td>...</td>\n",
       "      <td>...</td>\n",
       "      <td>...</td>\n",
       "    </tr>\n",
       "    <tr>\n",
       "      <th>770</th>\n",
       "      <td>Robert Carlsen</td>\n",
       "      <td>Robert Carlsen</td>\n",
       "      <td>43.0</td>\n",
       "      <td>Male</td>\n",
       "      <td>I’m an iOS software engineer with a keen inter...</td>\n",
       "      <td>Apple</td>\n",
       "      <td>SoftwareEngineer</td>\n",
       "      <td>iOS Software Engineer</td>\n",
       "      <td>Apple Inc.</td>\n",
       "      <td>Cupertino, California</td>\n",
       "      <td>...</td>\n",
       "      <td>New York University</td>\n",
       "      <td>2008-01-01 00:00:00</td>\n",
       "      <td>2010-01-01 00:00:00</td>\n",
       "      <td>True</td>\n",
       "      <td>Graphic Design</td>\n",
       "      <td>College of New Jersey/The</td>\n",
       "      <td>1996-01-01 00:00:00</td>\n",
       "      <td>2000-01-01 00:00:00</td>\n",
       "      <td>NaN</td>\n",
       "      <td>2.0</td>\n",
       "    </tr>\n",
       "    <tr>\n",
       "      <th>771</th>\n",
       "      <td>Morten Nobel-Jørgensen</td>\n",
       "      <td>Morten Nobel-Jørgensen</td>\n",
       "      <td>35.0</td>\n",
       "      <td>Male</td>\n",
       "      <td>During my professional career, I have touched ...</td>\n",
       "      <td>Apple</td>\n",
       "      <td>SoftwareEngineer</td>\n",
       "      <td>Software Engineer</td>\n",
       "      <td>Apple Inc.</td>\n",
       "      <td>Cupertino, California</td>\n",
       "      <td>...</td>\n",
       "      <td>IT University of Copenhagen</td>\n",
       "      <td>2009-01-01 00:00:00</td>\n",
       "      <td>2012-01-01 00:00:00</td>\n",
       "      <td>True</td>\n",
       "      <td>NaN</td>\n",
       "      <td>NaN</td>\n",
       "      <td>NaN</td>\n",
       "      <td>NaN</td>\n",
       "      <td>NaN</td>\n",
       "      <td>5.0</td>\n",
       "    </tr>\n",
       "    <tr>\n",
       "      <th>784</th>\n",
       "      <td>Shreya Jain</td>\n",
       "      <td>Shreya Jain</td>\n",
       "      <td>26.0</td>\n",
       "      <td>Female</td>\n",
       "      <td>BITS Pilani CS, Cloud programmer, Deep learnin...</td>\n",
       "      <td>Apple</td>\n",
       "      <td>SoftwareEngineer</td>\n",
       "      <td>Software Engineer</td>\n",
       "      <td>Apple Inc.</td>\n",
       "      <td>Seattle, Washington</td>\n",
       "      <td>...</td>\n",
       "      <td>Columbia University in the City of New York</td>\n",
       "      <td>2017-01-01 00:00:00</td>\n",
       "      <td>2018-01-01 00:00:00</td>\n",
       "      <td>True</td>\n",
       "      <td>Computer Science</td>\n",
       "      <td>Birla Institute of Technology and Science, Pilani</td>\n",
       "      <td>2013-01-01 00:00:00</td>\n",
       "      <td>2017-01-01 00:00:00</td>\n",
       "      <td>NaN</td>\n",
       "      <td>4.0</td>\n",
       "    </tr>\n",
       "    <tr>\n",
       "      <th>797</th>\n",
       "      <td>David Silver</td>\n",
       "      <td>David Silver</td>\n",
       "      <td>38.0</td>\n",
       "      <td>Male</td>\n",
       "      <td>David Silver is the founder and CEO of Candida...</td>\n",
       "      <td>Apple</td>\n",
       "      <td>SoftwareEngineer</td>\n",
       "      <td>CEO</td>\n",
       "      <td>Candidate Metrics</td>\n",
       "      <td>NaN</td>\n",
       "      <td>...</td>\n",
       "      <td>Stanford University</td>\n",
       "      <td>2012-01-01 00:00:00</td>\n",
       "      <td>2014-01-01 00:00:00</td>\n",
       "      <td>True</td>\n",
       "      <td>NaN</td>\n",
       "      <td>Santa Clara University</td>\n",
       "      <td>2008-01-01 00:00:00</td>\n",
       "      <td>2012-01-01 00:00:00</td>\n",
       "      <td>NaN</td>\n",
       "      <td>6.0</td>\n",
       "    </tr>\n",
       "    <tr>\n",
       "      <th>799</th>\n",
       "      <td>Roddy Shuler</td>\n",
       "      <td>Roddy Shuler</td>\n",
       "      <td>52.0</td>\n",
       "      <td>Male</td>\n",
       "      <td>• Technical leader with over 20 years experien...</td>\n",
       "      <td>Apple</td>\n",
       "      <td>SoftwareEngineer</td>\n",
       "      <td>Software Engineer</td>\n",
       "      <td>Apple Inc.</td>\n",
       "      <td>Valley, California</td>\n",
       "      <td>...</td>\n",
       "      <td>Stanford University</td>\n",
       "      <td>1991-01-01 00:00:00</td>\n",
       "      <td>1993-01-01 00:00:00</td>\n",
       "      <td>True</td>\n",
       "      <td>Biochemistry</td>\n",
       "      <td>Cornell University</td>\n",
       "      <td>1987-01-01 00:00:00</td>\n",
       "      <td>1991-01-01 00:00:00</td>\n",
       "      <td>NaN</td>\n",
       "      <td>2.0</td>\n",
       "    </tr>\n",
       "  </tbody>\n",
       "</table>\n",
       "<p>171 rows × 64 columns</p>\n",
       "</div>"
      ],
      "text/plain": [
       "                 Unnamed: 0                    name   age  gender  \\\n",
       "0                Xudong Liu              Xudong Liu  30.0    Male   \n",
       "6         Praveen Vasishtha       Praveen Vasishtha  30.0    Male   \n",
       "7             Aroop Ganguly           Aroop Ganguly  36.0    Male   \n",
       "9                Katy Burns              Katy Burns  61.0  Female   \n",
       "10              Xiaoyuan Tu             Xiaoyuan Tu  53.0  Female   \n",
       "..                      ...                     ...   ...     ...   \n",
       "770          Robert Carlsen          Robert Carlsen  43.0    Male   \n",
       "771  Morten Nobel-Jørgensen  Morten Nobel-Jørgensen  35.0    Male   \n",
       "784             Shreya Jain             Shreya Jain  26.0  Female   \n",
       "797            David Silver            David Silver  38.0    Male   \n",
       "799            Roddy Shuler            Roddy Shuler  52.0    Male   \n",
       "\n",
       "                                           description source_company  \\\n",
       "0    Experienced software engineer with a passion f...          Apple   \n",
       "6    Extensive experience in Software/Firmware deve...          Apple   \n",
       "7    Primarily focused on Big Data and Search techn...          Apple   \n",
       "9    Specialties: \\nAutomated  Release & Validation...          Apple   \n",
       "10   Xiaoyuan Tu (born 1967) is a Chinese researche...          Apple   \n",
       "..                                                 ...            ...   \n",
       "770  I’m an iOS software engineer with a keen inter...          Apple   \n",
       "771  During my professional career, I have touched ...          Apple   \n",
       "784  BITS Pilani CS, Cloud programmer, Deep learnin...          Apple   \n",
       "797  David Silver is the founder and CEO of Candida...          Apple   \n",
       "799  • Technical leader with over 20 years experien...          Apple   \n",
       "\n",
       "          source_role                                      current_title  \\\n",
       "0    SoftwareEngineer                           Senior Software Engineer   \n",
       "6    SoftwareEngineer                   Modem software/firmware engineer   \n",
       "7    SoftwareEngineer                 Principal Software Engineer - Siri   \n",
       "9    SoftwareEngineer       Senior Software Development Engineer In Test   \n",
       "10   SoftwareEngineer  Lead Scientist & Senior Software Engineer, iOS...   \n",
       "..                ...                                                ...   \n",
       "770  SoftwareEngineer                              iOS Software Engineer   \n",
       "771  SoftwareEngineer                                  Software Engineer   \n",
       "784  SoftwareEngineer                                  Software Engineer   \n",
       "797  SoftwareEngineer                                                CEO   \n",
       "799  SoftwareEngineer                                  Software Engineer   \n",
       "\n",
       "       current_company   current_company_location  ...  \\\n",
       "0           Apple Inc.  San Francisco, California  ...   \n",
       "6           Apple Inc.      San Diego, California  ...   \n",
       "7           Apple Inc.  San Francisco, California  ...   \n",
       "9           Apple Inc.  San Francisco, California  ...   \n",
       "10          Apple Inc.                        NaN  ...   \n",
       "..                 ...                        ...  ...   \n",
       "770         Apple Inc.      Cupertino, California  ...   \n",
       "771         Apple Inc.      Cupertino, California  ...   \n",
       "784         Apple Inc.        Seattle, Washington  ...   \n",
       "797  Candidate Metrics                        NaN  ...   \n",
       "799         Apple Inc.         Valley, California  ...   \n",
       "\n",
       "                                          uni_MS              MS_from  \\\n",
       "0                        Northwestern University  2011-01-01 00:00:00   \n",
       "6           University of California - San Diego  2014-01-01 00:00:00   \n",
       "7                     Carnegie Mellon University  2010-01-01 00:00:00   \n",
       "9                       University of Washington  1984-01-01 00:00:00   \n",
       "10                           McMaster University  1990-01-01 00:00:00   \n",
       "..                                           ...                  ...   \n",
       "770                          New York University  2008-01-01 00:00:00   \n",
       "771                  IT University of Copenhagen  2009-01-01 00:00:00   \n",
       "784  Columbia University in the City of New York  2017-01-01 00:00:00   \n",
       "797                          Stanford University  2012-01-01 00:00:00   \n",
       "799                          Stanford University  1991-01-01 00:00:00   \n",
       "\n",
       "                   MS_to has_BS  \\\n",
       "0    2012-01-01 00:00:00   True   \n",
       "6    2016-01-01 00:00:00   True   \n",
       "7    2011-01-01 00:00:00   True   \n",
       "9    1986-01-01 00:00:00   True   \n",
       "10   1991-01-01 00:00:00   True   \n",
       "..                   ...    ...   \n",
       "770  2010-01-01 00:00:00   True   \n",
       "771  2012-01-01 00:00:00   True   \n",
       "784  2018-01-01 00:00:00   True   \n",
       "797  2014-01-01 00:00:00   True   \n",
       "799  1993-01-01 00:00:00   True   \n",
       "\n",
       "                                              major_BS  \\\n",
       "0                               Electrical Engineering   \n",
       "6    Bachelor of Technology in Electronics & Commun...   \n",
       "7                               Information Technology   \n",
       "9                                                  NaN   \n",
       "10                                                 NaN   \n",
       "..                                                 ...   \n",
       "770                                     Graphic Design   \n",
       "771                                                NaN   \n",
       "784                                   Computer Science   \n",
       "797                                                NaN   \n",
       "799                                       Biochemistry   \n",
       "\n",
       "                                                uni_BS              BS_from  \\\n",
       "0                              Northwestern University  2009-01-01 00:00:00   \n",
       "6                               Kurukshetra University  1996-01-01 00:00:00   \n",
       "7                    Rajiv Gandhi Technical University  2003-01-01 00:00:00   \n",
       "9                                                  NaN                  NaN   \n",
       "10                                                 NaN                  NaN   \n",
       "..                                                 ...                  ...   \n",
       "770                          College of New Jersey/The  1996-01-01 00:00:00   \n",
       "771                                                NaN                  NaN   \n",
       "784  Birla Institute of Technology and Science, Pilani  2013-01-01 00:00:00   \n",
       "797                             Santa Clara University  2008-01-01 00:00:00   \n",
       "799                                 Cornell University  1987-01-01 00:00:00   \n",
       "\n",
       "                   BS_to  other_education total_num_education  \n",
       "0    2011-01-01 00:00:00              NaN                 4.0  \n",
       "6    2000-01-01 00:00:00              NaN                 2.0  \n",
       "7    2007-01-01 00:00:00              NaN                 2.0  \n",
       "9                    NaN              NaN                 3.0  \n",
       "10                   NaN              NaN                 3.0  \n",
       "..                   ...              ...                 ...  \n",
       "770  2000-01-01 00:00:00              NaN                 2.0  \n",
       "771                  NaN              NaN                 5.0  \n",
       "784  2017-01-01 00:00:00              NaN                 4.0  \n",
       "797  2012-01-01 00:00:00              NaN                 6.0  \n",
       "799  1991-01-01 00:00:00              NaN                 2.0  \n",
       "\n",
       "[171 rows x 64 columns]"
      ]
     },
     "execution_count": 164,
     "metadata": {},
     "output_type": "execute_result"
    }
   ],
   "source": [
    "# Here we use a column with categorical data\n",
    "#fig = px.histogram(apple_sw, x=\"has_PhD\")\n",
    "#fig.show()\n",
    "apple_sw[(apple_sw['has_MS']==True) & (apple_sw['uni_MS'].notna())]"
   ]
  },
  {
   "cell_type": "code",
   "execution_count": 143,
   "metadata": {},
   "outputs": [
    {
     "data": {
      "text/html": [
       "<div>\n",
       "<style scoped>\n",
       "    .dataframe tbody tr th:only-of-type {\n",
       "        vertical-align: middle;\n",
       "    }\n",
       "\n",
       "    .dataframe tbody tr th {\n",
       "        vertical-align: top;\n",
       "    }\n",
       "\n",
       "    .dataframe thead th {\n",
       "        text-align: right;\n",
       "    }\n",
       "</style>\n",
       "<table border=\"1\" class=\"dataframe\">\n",
       "  <thead>\n",
       "    <tr style=\"text-align: right;\">\n",
       "      <th></th>\n",
       "      <th>Unnamed: 0</th>\n",
       "      <th>name</th>\n",
       "      <th>age</th>\n",
       "      <th>gender</th>\n",
       "      <th>description</th>\n",
       "      <th>source_company</th>\n",
       "      <th>source_role</th>\n",
       "      <th>current_title</th>\n",
       "      <th>current_company</th>\n",
       "      <th>current_company_location</th>\n",
       "      <th>...</th>\n",
       "      <th>uni_MS</th>\n",
       "      <th>MS_from</th>\n",
       "      <th>MS_to</th>\n",
       "      <th>has_BS</th>\n",
       "      <th>major_BS</th>\n",
       "      <th>uni_BS</th>\n",
       "      <th>BS_from</th>\n",
       "      <th>BS_to</th>\n",
       "      <th>other_education</th>\n",
       "      <th>total_num_education</th>\n",
       "    </tr>\n",
       "  </thead>\n",
       "  <tbody>\n",
       "    <tr>\n",
       "      <th>5</th>\n",
       "      <td>Lokesh Shrestha</td>\n",
       "      <td>Lokesh Shrestha</td>\n",
       "      <td>43.0</td>\n",
       "      <td>Male</td>\n",
       "      <td>Lokesh Shrestha is a Software Engineer at APPL...</td>\n",
       "      <td>Apple</td>\n",
       "      <td>SoftwareEngineer</td>\n",
       "      <td>Software Engineer</td>\n",
       "      <td>Apple Inc.</td>\n",
       "      <td>Cupertino, California</td>\n",
       "      <td>...</td>\n",
       "      <td>NaN</td>\n",
       "      <td>NaN</td>\n",
       "      <td>NaN</td>\n",
       "      <td>NaN</td>\n",
       "      <td>NaN</td>\n",
       "      <td>NaN</td>\n",
       "      <td>NaN</td>\n",
       "      <td>NaN</td>\n",
       "      <td>Graduate Research</td>\n",
       "      <td>3.0</td>\n",
       "    </tr>\n",
       "    <tr>\n",
       "      <th>15</th>\n",
       "      <td>Chhavi Sharma</td>\n",
       "      <td>Chhavi Sharma</td>\n",
       "      <td>32.0</td>\n",
       "      <td>Female</td>\n",
       "      <td>Presently working as a Software Engineer at Ap...</td>\n",
       "      <td>Apple</td>\n",
       "      <td>SoftwareEngineer</td>\n",
       "      <td>Software Engineer</td>\n",
       "      <td>Apple Inc.</td>\n",
       "      <td>Bengaluru Area, India</td>\n",
       "      <td>...</td>\n",
       "      <td>NaN</td>\n",
       "      <td>NaN</td>\n",
       "      <td>NaN</td>\n",
       "      <td>NaN</td>\n",
       "      <td>NaN</td>\n",
       "      <td>NaN</td>\n",
       "      <td>NaN</td>\n",
       "      <td>NaN</td>\n",
       "      <td>Engineer's Degree</td>\n",
       "      <td>2.0</td>\n",
       "    </tr>\n",
       "    <tr>\n",
       "      <th>22</th>\n",
       "      <td>Peter Steele</td>\n",
       "      <td>Peter Steele</td>\n",
       "      <td>39.0</td>\n",
       "      <td>Male</td>\n",
       "      <td>Software Engineer at Apple Inc working on clie...</td>\n",
       "      <td>Apple</td>\n",
       "      <td>SoftwareEngineer</td>\n",
       "      <td>Software Engineer</td>\n",
       "      <td>Apple Inc.</td>\n",
       "      <td>NaN</td>\n",
       "      <td>...</td>\n",
       "      <td>NaN</td>\n",
       "      <td>NaN</td>\n",
       "      <td>NaN</td>\n",
       "      <td>NaN</td>\n",
       "      <td>NaN</td>\n",
       "      <td>NaN</td>\n",
       "      <td>NaN</td>\n",
       "      <td>NaN</td>\n",
       "      <td>Certificate/License</td>\n",
       "      <td>3.0</td>\n",
       "    </tr>\n",
       "    <tr>\n",
       "      <th>23</th>\n",
       "      <td>Nicholas Olsen</td>\n",
       "      <td>Nicholas Olsen</td>\n",
       "      <td>41.0</td>\n",
       "      <td>Male</td>\n",
       "      <td>I'm a graphic design and web developer. Being ...</td>\n",
       "      <td>Apple</td>\n",
       "      <td>SoftwareEngineer</td>\n",
       "      <td>CTO and Co-founder</td>\n",
       "      <td>Establish Media</td>\n",
       "      <td>London, Canada Area</td>\n",
       "      <td>...</td>\n",
       "      <td>NaN</td>\n",
       "      <td>NaN</td>\n",
       "      <td>NaN</td>\n",
       "      <td>NaN</td>\n",
       "      <td>NaN</td>\n",
       "      <td>NaN</td>\n",
       "      <td>NaN</td>\n",
       "      <td>NaN</td>\n",
       "      <td>Advanced Diploma Interactive Media Development</td>\n",
       "      <td>2.0</td>\n",
       "    </tr>\n",
       "    <tr>\n",
       "      <th>85</th>\n",
       "      <td>Radford Castro</td>\n",
       "      <td>Radford Castro</td>\n",
       "      <td>46.0</td>\n",
       "      <td>Male</td>\n",
       "      <td>Radford Castro is the programmer and lead edit...</td>\n",
       "      <td>Apple</td>\n",
       "      <td>SoftwareEngineer</td>\n",
       "      <td>Founder &amp; Lead Editor</td>\n",
       "      <td>LazyTech TV</td>\n",
       "      <td>NaN</td>\n",
       "      <td>...</td>\n",
       "      <td>NaN</td>\n",
       "      <td>NaN</td>\n",
       "      <td>NaN</td>\n",
       "      <td>NaN</td>\n",
       "      <td>NaN</td>\n",
       "      <td>NaN</td>\n",
       "      <td>NaN</td>\n",
       "      <td>NaN</td>\n",
       "      <td>Associate's (2 year program)</td>\n",
       "      <td>4.0</td>\n",
       "    </tr>\n",
       "    <tr>\n",
       "      <th>122</th>\n",
       "      <td>Devin Breen</td>\n",
       "      <td>Devin Breen</td>\n",
       "      <td>41.0</td>\n",
       "      <td>Male</td>\n",
       "      <td>NOTE: If you need to get a hold of me, email m...</td>\n",
       "      <td>Apple</td>\n",
       "      <td>SoftwareEngineer</td>\n",
       "      <td>President, Co-Founder, CTO</td>\n",
       "      <td>The Chiditarod Foundation</td>\n",
       "      <td>Chicago, Illinois</td>\n",
       "      <td>...</td>\n",
       "      <td>NaN</td>\n",
       "      <td>NaN</td>\n",
       "      <td>NaN</td>\n",
       "      <td>NaN</td>\n",
       "      <td>NaN</td>\n",
       "      <td>NaN</td>\n",
       "      <td>NaN</td>\n",
       "      <td>NaN</td>\n",
       "      <td>Forum &amp; Advanced</td>\n",
       "      <td>2.0</td>\n",
       "    </tr>\n",
       "    <tr>\n",
       "      <th>145</th>\n",
       "      <td>Michael Lonky</td>\n",
       "      <td>Michael Lonky</td>\n",
       "      <td>37.0</td>\n",
       "      <td>Male</td>\n",
       "      <td>Michael Lonky is a Software QA Engineer at APP...</td>\n",
       "      <td>Apple</td>\n",
       "      <td>SoftwareEngineer</td>\n",
       "      <td>Software QA Engineer</td>\n",
       "      <td>Apple Inc.</td>\n",
       "      <td>San Francisco, California</td>\n",
       "      <td>...</td>\n",
       "      <td>NaN</td>\n",
       "      <td>NaN</td>\n",
       "      <td>NaN</td>\n",
       "      <td>NaN</td>\n",
       "      <td>NaN</td>\n",
       "      <td>NaN</td>\n",
       "      <td>NaN</td>\n",
       "      <td>NaN</td>\n",
       "      <td>Certificate/License</td>\n",
       "      <td>2.0</td>\n",
       "    </tr>\n",
       "    <tr>\n",
       "      <th>179</th>\n",
       "      <td>Mark Anderson</td>\n",
       "      <td>Mark Anderson</td>\n",
       "      <td>38.0</td>\n",
       "      <td>Male</td>\n",
       "      <td>I am currently the iOS Developer at MuseAmi, I...</td>\n",
       "      <td>Apple</td>\n",
       "      <td>SoftwareEngineer</td>\n",
       "      <td>Senior Solutions Architect</td>\n",
       "      <td>LTN Global Communications Inc</td>\n",
       "      <td>Greater New York City Area</td>\n",
       "      <td>...</td>\n",
       "      <td>NaN</td>\n",
       "      <td>NaN</td>\n",
       "      <td>NaN</td>\n",
       "      <td>NaN</td>\n",
       "      <td>NaN</td>\n",
       "      <td>NaN</td>\n",
       "      <td>NaN</td>\n",
       "      <td>NaN</td>\n",
       "      <td>Music Technology</td>\n",
       "      <td>6.0</td>\n",
       "    </tr>\n",
       "    <tr>\n",
       "      <th>182</th>\n",
       "      <td>Abhishek Prasad</td>\n",
       "      <td>Abhishek Prasad</td>\n",
       "      <td>27.0</td>\n",
       "      <td>Male</td>\n",
       "      <td>Having 4 years of experience in Identity and A...</td>\n",
       "      <td>Apple</td>\n",
       "      <td>SoftwareEngineer</td>\n",
       "      <td>IAM Consultant</td>\n",
       "      <td>EY</td>\n",
       "      <td>Bengaluru Area, India</td>\n",
       "      <td>...</td>\n",
       "      <td>NaN</td>\n",
       "      <td>NaN</td>\n",
       "      <td>NaN</td>\n",
       "      <td>NaN</td>\n",
       "      <td>NaN</td>\n",
       "      <td>NaN</td>\n",
       "      <td>NaN</td>\n",
       "      <td>NaN</td>\n",
       "      <td>Post Graduate Diploma in Management</td>\n",
       "      <td>8.0</td>\n",
       "    </tr>\n",
       "    <tr>\n",
       "      <th>184</th>\n",
       "      <td>Ben Williamson</td>\n",
       "      <td>Ben Williamson</td>\n",
       "      <td>46.0</td>\n",
       "      <td>Male</td>\n",
       "      <td>Software engineer and team lead. Experienced i...</td>\n",
       "      <td>Apple</td>\n",
       "      <td>SoftwareEngineer</td>\n",
       "      <td>Co Founder</td>\n",
       "      <td>Yoshirt</td>\n",
       "      <td>NaN</td>\n",
       "      <td>...</td>\n",
       "      <td>NaN</td>\n",
       "      <td>NaN</td>\n",
       "      <td>NaN</td>\n",
       "      <td>NaN</td>\n",
       "      <td>NaN</td>\n",
       "      <td>NaN</td>\n",
       "      <td>NaN</td>\n",
       "      <td>NaN</td>\n",
       "      <td>Diploma, Logistics, Materials, and Supply Chai...</td>\n",
       "      <td>4.0</td>\n",
       "    </tr>\n",
       "    <tr>\n",
       "      <th>212</th>\n",
       "      <td>Francisco Granados</td>\n",
       "      <td>Francisco Granados</td>\n",
       "      <td>37.0</td>\n",
       "      <td>Male</td>\n",
       "      <td>I'm a Software Engineer since '08 making apps ...</td>\n",
       "      <td>Apple</td>\n",
       "      <td>SoftwareEngineer</td>\n",
       "      <td>Chief Operations Officer</td>\n",
       "      <td>Bistro Digital</td>\n",
       "      <td>NaN</td>\n",
       "      <td>...</td>\n",
       "      <td>NaN</td>\n",
       "      <td>NaN</td>\n",
       "      <td>NaN</td>\n",
       "      <td>NaN</td>\n",
       "      <td>NaN</td>\n",
       "      <td>NaN</td>\n",
       "      <td>NaN</td>\n",
       "      <td>NaN</td>\n",
       "      <td>LEAD Corporate Innovation</td>\n",
       "      <td>2.0</td>\n",
       "    </tr>\n",
       "    <tr>\n",
       "      <th>232</th>\n",
       "      <td>Robert Castle</td>\n",
       "      <td>Robert Castle</td>\n",
       "      <td>41.0</td>\n",
       "      <td>Male</td>\n",
       "      <td>Freelance consultant at Egomotion Limited, spe...</td>\n",
       "      <td>Apple</td>\n",
       "      <td>SoftwareEngineer</td>\n",
       "      <td>Software Engineer</td>\n",
       "      <td>Apple Inc.</td>\n",
       "      <td>London, United Kingdom</td>\n",
       "      <td>...</td>\n",
       "      <td>NaN</td>\n",
       "      <td>NaN</td>\n",
       "      <td>NaN</td>\n",
       "      <td>NaN</td>\n",
       "      <td>NaN</td>\n",
       "      <td>NaN</td>\n",
       "      <td>NaN</td>\n",
       "      <td>NaN</td>\n",
       "      <td>D.Phil</td>\n",
       "      <td>2.0</td>\n",
       "    </tr>\n",
       "    <tr>\n",
       "      <th>242</th>\n",
       "      <td>Maxime Hadjinlian</td>\n",
       "      <td>Maxime Hadjinlian</td>\n",
       "      <td>35.0</td>\n",
       "      <td>Male</td>\n",
       "      <td>I am a software engineer with a hobby for comp...</td>\n",
       "      <td>Apple</td>\n",
       "      <td>SoftwareEngineer</td>\n",
       "      <td>Senior Software Engineer</td>\n",
       "      <td>Apple Inc.</td>\n",
       "      <td>Zürich Area, Switzerland</td>\n",
       "      <td>...</td>\n",
       "      <td>NaN</td>\n",
       "      <td>NaN</td>\n",
       "      <td>NaN</td>\n",
       "      <td>NaN</td>\n",
       "      <td>NaN</td>\n",
       "      <td>NaN</td>\n",
       "      <td>NaN</td>\n",
       "      <td>NaN</td>\n",
       "      <td>Engineer's degree</td>\n",
       "      <td>2.0</td>\n",
       "    </tr>\n",
       "    <tr>\n",
       "      <th>252</th>\n",
       "      <td>Suzanna Ratcliff</td>\n",
       "      <td>Suzanna Ratcliff</td>\n",
       "      <td>25.0</td>\n",
       "      <td>Female</td>\n",
       "      <td>Suzanna Ratcliff is a Software Engineer at APP...</td>\n",
       "      <td>Apple</td>\n",
       "      <td>SoftwareEngineer</td>\n",
       "      <td>Software Engineer</td>\n",
       "      <td>Apple Inc.</td>\n",
       "      <td>San Francisco, California</td>\n",
       "      <td>...</td>\n",
       "      <td>NaN</td>\n",
       "      <td>NaN</td>\n",
       "      <td>NaN</td>\n",
       "      <td>NaN</td>\n",
       "      <td>NaN</td>\n",
       "      <td>NaN</td>\n",
       "      <td>NaN</td>\n",
       "      <td>NaN</td>\n",
       "      <td>Computer Science</td>\n",
       "      <td>2.0</td>\n",
       "    </tr>\n",
       "    <tr>\n",
       "      <th>283</th>\n",
       "      <td>Jay Upadhyay</td>\n",
       "      <td>Jay Upadhyay</td>\n",
       "      <td>28.0</td>\n",
       "      <td>Male</td>\n",
       "      <td>Data Scientist interested in working in data a...</td>\n",
       "      <td>Apple</td>\n",
       "      <td>SoftwareEngineer</td>\n",
       "      <td>Software Engineer</td>\n",
       "      <td>Apple Inc.</td>\n",
       "      <td>Cupertino, California</td>\n",
       "      <td>...</td>\n",
       "      <td>NaN</td>\n",
       "      <td>NaN</td>\n",
       "      <td>NaN</td>\n",
       "      <td>NaN</td>\n",
       "      <td>NaN</td>\n",
       "      <td>NaN</td>\n",
       "      <td>NaN</td>\n",
       "      <td>NaN</td>\n",
       "      <td>Certificate/License</td>\n",
       "      <td>5.0</td>\n",
       "    </tr>\n",
       "    <tr>\n",
       "      <th>285</th>\n",
       "      <td>Alex G. Rivera</td>\n",
       "      <td>Alex G. Rivera</td>\n",
       "      <td>35.0</td>\n",
       "      <td>Male</td>\n",
       "      <td>Spanish language and culture, translation, loc...</td>\n",
       "      <td>Apple</td>\n",
       "      <td>SoftwareEngineer</td>\n",
       "      <td>Spanish Tester - Freelancer</td>\n",
       "      <td>TransPerfect</td>\n",
       "      <td>San Francisco, California</td>\n",
       "      <td>...</td>\n",
       "      <td>NaN</td>\n",
       "      <td>NaN</td>\n",
       "      <td>NaN</td>\n",
       "      <td>NaN</td>\n",
       "      <td>NaN</td>\n",
       "      <td>NaN</td>\n",
       "      <td>NaN</td>\n",
       "      <td>NaN</td>\n",
       "      <td>Certificate/License</td>\n",
       "      <td>4.0</td>\n",
       "    </tr>\n",
       "    <tr>\n",
       "      <th>338</th>\n",
       "      <td>Weibo Dou</td>\n",
       "      <td>Weibo Dou</td>\n",
       "      <td>NaN</td>\n",
       "      <td>Male</td>\n",
       "      <td>A professional software engineer with over 6 y...</td>\n",
       "      <td>Apple</td>\n",
       "      <td>SoftwareEngineer</td>\n",
       "      <td>Software Development Engineer In Test</td>\n",
       "      <td>Apple Inc.</td>\n",
       "      <td>Cupertino, California</td>\n",
       "      <td>...</td>\n",
       "      <td>NaN</td>\n",
       "      <td>NaN</td>\n",
       "      <td>NaN</td>\n",
       "      <td>NaN</td>\n",
       "      <td>NaN</td>\n",
       "      <td>NaN</td>\n",
       "      <td>NaN</td>\n",
       "      <td>NaN</td>\n",
       "      <td>Certificate/License</td>\n",
       "      <td>2.0</td>\n",
       "    </tr>\n",
       "    <tr>\n",
       "      <th>342</th>\n",
       "      <td>Chun Wu</td>\n",
       "      <td>Chun Wu</td>\n",
       "      <td>32.0</td>\n",
       "      <td>Male</td>\n",
       "      <td>Motivated and result driven individual with a ...</td>\n",
       "      <td>Apple</td>\n",
       "      <td>SoftwareEngineer</td>\n",
       "      <td>Technical Advisor - Application Development / ...</td>\n",
       "      <td>Statistics Canada</td>\n",
       "      <td>Ottawa, Canada Area</td>\n",
       "      <td>...</td>\n",
       "      <td>NaN</td>\n",
       "      <td>NaN</td>\n",
       "      <td>NaN</td>\n",
       "      <td>NaN</td>\n",
       "      <td>NaN</td>\n",
       "      <td>NaN</td>\n",
       "      <td>NaN</td>\n",
       "      <td>NaN</td>\n",
       "      <td>Certificate/License</td>\n",
       "      <td>3.0</td>\n",
       "    </tr>\n",
       "    <tr>\n",
       "      <th>349</th>\n",
       "      <td>Radha Vaidyanathan</td>\n",
       "      <td>Radha Vaidyanathan</td>\n",
       "      <td>NaN</td>\n",
       "      <td>Female</td>\n",
       "      <td>I am a hands-on, roll-my-sleeves-up, get-it-do...</td>\n",
       "      <td>Apple</td>\n",
       "      <td>SoftwareEngineer</td>\n",
       "      <td>Senior Software Engineer</td>\n",
       "      <td>Apple Inc.</td>\n",
       "      <td>Cupertino, California</td>\n",
       "      <td>...</td>\n",
       "      <td>NaN</td>\n",
       "      <td>NaN</td>\n",
       "      <td>NaN</td>\n",
       "      <td>NaN</td>\n",
       "      <td>NaN</td>\n",
       "      <td>NaN</td>\n",
       "      <td>NaN</td>\n",
       "      <td>NaN</td>\n",
       "      <td>Nano Degree</td>\n",
       "      <td>3.0</td>\n",
       "    </tr>\n",
       "    <tr>\n",
       "      <th>358</th>\n",
       "      <td>Steffan Diedrichsen</td>\n",
       "      <td>Steffan Diedrichsen</td>\n",
       "      <td>52.0</td>\n",
       "      <td>Male</td>\n",
       "      <td>Steffan Diedrichsen is a Sr. Software Applicat...</td>\n",
       "      <td>Apple</td>\n",
       "      <td>SoftwareEngineer</td>\n",
       "      <td>Sr. Software Applications Engineer</td>\n",
       "      <td>Apple Inc.</td>\n",
       "      <td>NaN</td>\n",
       "      <td>...</td>\n",
       "      <td>NaN</td>\n",
       "      <td>NaN</td>\n",
       "      <td>NaN</td>\n",
       "      <td>NaN</td>\n",
       "      <td>NaN</td>\n",
       "      <td>NaN</td>\n",
       "      <td>NaN</td>\n",
       "      <td>NaN</td>\n",
       "      <td>Dipl.-Ing., Electrical Engineering</td>\n",
       "      <td>2.0</td>\n",
       "    </tr>\n",
       "    <tr>\n",
       "      <th>368</th>\n",
       "      <td>Joshua J Weldon</td>\n",
       "      <td>Joshua J Weldon</td>\n",
       "      <td>27.0</td>\n",
       "      <td>Male</td>\n",
       "      <td>Worked at Student. Lives in Honolulu, HI. Atte...</td>\n",
       "      <td>Apple</td>\n",
       "      <td>SoftwareEngineer</td>\n",
       "      <td>HomeKit Software Engineer</td>\n",
       "      <td>Apple Inc.</td>\n",
       "      <td>Cupertino, California</td>\n",
       "      <td>...</td>\n",
       "      <td>NaN</td>\n",
       "      <td>NaN</td>\n",
       "      <td>NaN</td>\n",
       "      <td>NaN</td>\n",
       "      <td>NaN</td>\n",
       "      <td>NaN</td>\n",
       "      <td>NaN</td>\n",
       "      <td>NaN</td>\n",
       "      <td>Mathematics; Computer Science, Software Engine...</td>\n",
       "      <td>2.0</td>\n",
       "    </tr>\n",
       "    <tr>\n",
       "      <th>390</th>\n",
       "      <td>Daniel Chao</td>\n",
       "      <td>Daniel Chao</td>\n",
       "      <td>33.0</td>\n",
       "      <td>Male</td>\n",
       "      <td>Code monkey, and functional programming nerd. ...</td>\n",
       "      <td>Apple</td>\n",
       "      <td>SoftwareEngineer</td>\n",
       "      <td>Software Engineer</td>\n",
       "      <td>Apple Inc.</td>\n",
       "      <td>San Francisco, California</td>\n",
       "      <td>...</td>\n",
       "      <td>NaN</td>\n",
       "      <td>NaN</td>\n",
       "      <td>NaN</td>\n",
       "      <td>NaN</td>\n",
       "      <td>NaN</td>\n",
       "      <td>NaN</td>\n",
       "      <td>NaN</td>\n",
       "      <td>NaN</td>\n",
       "      <td>Software Engineering/Full Stack Web Development</td>\n",
       "      <td>2.0</td>\n",
       "    </tr>\n",
       "    <tr>\n",
       "      <th>401</th>\n",
       "      <td>Jerry Wang</td>\n",
       "      <td>Jerry Wang</td>\n",
       "      <td>38.0</td>\n",
       "      <td>Male</td>\n",
       "      <td>“Quality is not an act, it is a habit.”- Arist...</td>\n",
       "      <td>Apple</td>\n",
       "      <td>SoftwareEngineer</td>\n",
       "      <td>Senior Software Engineer</td>\n",
       "      <td>Apple Inc.</td>\n",
       "      <td>Shanghai, Shanghai, China</td>\n",
       "      <td>...</td>\n",
       "      <td>NaN</td>\n",
       "      <td>NaN</td>\n",
       "      <td>NaN</td>\n",
       "      <td>NaN</td>\n",
       "      <td>NaN</td>\n",
       "      <td>NaN</td>\n",
       "      <td>NaN</td>\n",
       "      <td>NaN</td>\n",
       "      <td>Certificate/License</td>\n",
       "      <td>3.0</td>\n",
       "    </tr>\n",
       "    <tr>\n",
       "      <th>417</th>\n",
       "      <td>Scott Andrus</td>\n",
       "      <td>Scott Andrus</td>\n",
       "      <td>29.0</td>\n",
       "      <td>Male</td>\n",
       "      <td>Software engineer with experience delivering p...</td>\n",
       "      <td>Apple</td>\n",
       "      <td>SoftwareEngineer</td>\n",
       "      <td>Senior Software Engineer</td>\n",
       "      <td>Apple Inc.</td>\n",
       "      <td>Cupertino, California</td>\n",
       "      <td>...</td>\n",
       "      <td>NaN</td>\n",
       "      <td>NaN</td>\n",
       "      <td>NaN</td>\n",
       "      <td>NaN</td>\n",
       "      <td>NaN</td>\n",
       "      <td>NaN</td>\n",
       "      <td>NaN</td>\n",
       "      <td>NaN</td>\n",
       "      <td>Computer Science</td>\n",
       "      <td>2.0</td>\n",
       "    </tr>\n",
       "    <tr>\n",
       "      <th>431</th>\n",
       "      <td>Alex Guerra</td>\n",
       "      <td>Alex Guerra</td>\n",
       "      <td>39.0</td>\n",
       "      <td>Male</td>\n",
       "      <td>Software Build Engineer at  \\n/ Formerly cofo...</td>\n",
       "      <td>Apple</td>\n",
       "      <td>SoftwareEngineer</td>\n",
       "      <td>CTO</td>\n",
       "      <td>Moodyo</td>\n",
       "      <td>NaN</td>\n",
       "      <td>...</td>\n",
       "      <td>NaN</td>\n",
       "      <td>NaN</td>\n",
       "      <td>NaN</td>\n",
       "      <td>NaN</td>\n",
       "      <td>NaN</td>\n",
       "      <td>NaN</td>\n",
       "      <td>NaN</td>\n",
       "      <td>NaN</td>\n",
       "      <td>GESE 8</td>\n",
       "      <td>3.0</td>\n",
       "    </tr>\n",
       "    <tr>\n",
       "      <th>439</th>\n",
       "      <td>Matt Ma</td>\n",
       "      <td>Matt Ma</td>\n",
       "      <td>41.0</td>\n",
       "      <td>Male</td>\n",
       "      <td>I am a multi-talented and highly motivated ful...</td>\n",
       "      <td>Apple</td>\n",
       "      <td>SoftwareEngineer</td>\n",
       "      <td>Senior Software Engineer</td>\n",
       "      <td>Apple Inc.</td>\n",
       "      <td>Bahía De San Francisco Y Alrededores Estados U...</td>\n",
       "      <td>...</td>\n",
       "      <td>NaN</td>\n",
       "      <td>NaN</td>\n",
       "      <td>NaN</td>\n",
       "      <td>NaN</td>\n",
       "      <td>NaN</td>\n",
       "      <td>NaN</td>\n",
       "      <td>NaN</td>\n",
       "      <td>NaN</td>\n",
       "      <td>Interactive Web Design Specialization, Web Des...</td>\n",
       "      <td>2.0</td>\n",
       "    </tr>\n",
       "    <tr>\n",
       "      <th>444</th>\n",
       "      <td>William Reimers</td>\n",
       "      <td>William Reimers</td>\n",
       "      <td>45.0</td>\n",
       "      <td>Male</td>\n",
       "      <td>William Reimers is a Software Engineer at APPL...</td>\n",
       "      <td>Apple</td>\n",
       "      <td>SoftwareEngineer</td>\n",
       "      <td>Software Engineer</td>\n",
       "      <td>Apple Inc.</td>\n",
       "      <td>NaN</td>\n",
       "      <td>...</td>\n",
       "      <td>NaN</td>\n",
       "      <td>NaN</td>\n",
       "      <td>NaN</td>\n",
       "      <td>NaN</td>\n",
       "      <td>NaN</td>\n",
       "      <td>NaN</td>\n",
       "      <td>NaN</td>\n",
       "      <td>NaN</td>\n",
       "      <td>, Computer Science</td>\n",
       "      <td>2.0</td>\n",
       "    </tr>\n",
       "    <tr>\n",
       "      <th>478</th>\n",
       "      <td>Michele Orsi</td>\n",
       "      <td>Michele Orsi</td>\n",
       "      <td>36.0</td>\n",
       "      <td>Female</td>\n",
       "      <td>Michele is a lead engineer at grakn.ai. He had...</td>\n",
       "      <td>Apple</td>\n",
       "      <td>SoftwareEngineer</td>\n",
       "      <td>Senior Software Engineer</td>\n",
       "      <td>Apple Inc.</td>\n",
       "      <td>London, United Kingdom</td>\n",
       "      <td>...</td>\n",
       "      <td>NaN</td>\n",
       "      <td>NaN</td>\n",
       "      <td>NaN</td>\n",
       "      <td>NaN</td>\n",
       "      <td>NaN</td>\n",
       "      <td>NaN</td>\n",
       "      <td>NaN</td>\n",
       "      <td>NaN</td>\n",
       "      <td>Accelerator Program, Entrepreneurship/Entrepre...</td>\n",
       "      <td>5.0</td>\n",
       "    </tr>\n",
       "    <tr>\n",
       "      <th>498</th>\n",
       "      <td>Garth Cummings</td>\n",
       "      <td>Garth Cummings</td>\n",
       "      <td>65.0</td>\n",
       "      <td>Male</td>\n",
       "      <td>Garth Cummings is a Software engineer at APPLE...</td>\n",
       "      <td>Apple</td>\n",
       "      <td>SoftwareEngineer</td>\n",
       "      <td>Cellist</td>\n",
       "      <td>Garth Cummings</td>\n",
       "      <td>NaN</td>\n",
       "      <td>...</td>\n",
       "      <td>NaN</td>\n",
       "      <td>NaN</td>\n",
       "      <td>NaN</td>\n",
       "      <td>NaN</td>\n",
       "      <td>NaN</td>\n",
       "      <td>NaN</td>\n",
       "      <td>NaN</td>\n",
       "      <td>NaN</td>\n",
       "      <td>M</td>\n",
       "      <td>2.0</td>\n",
       "    </tr>\n",
       "    <tr>\n",
       "      <th>530</th>\n",
       "      <td>Christie English</td>\n",
       "      <td>Christie English</td>\n",
       "      <td>53.0</td>\n",
       "      <td>Female</td>\n",
       "      <td>·Consistently exhibited ability to rapidly lea...</td>\n",
       "      <td>Apple</td>\n",
       "      <td>SoftwareEngineer</td>\n",
       "      <td>Senior Software Engineer</td>\n",
       "      <td>Apple Inc.</td>\n",
       "      <td>NaN</td>\n",
       "      <td>...</td>\n",
       "      <td>NaN</td>\n",
       "      <td>NaN</td>\n",
       "      <td>NaN</td>\n",
       "      <td>NaN</td>\n",
       "      <td>NaN</td>\n",
       "      <td>NaN</td>\n",
       "      <td>NaN</td>\n",
       "      <td>NaN</td>\n",
       "      <td>Deep Learning Foundation Nanodegree</td>\n",
       "      <td>3.0</td>\n",
       "    </tr>\n",
       "    <tr>\n",
       "      <th>535</th>\n",
       "      <td>Maria Barbu</td>\n",
       "      <td>Maria Barbu</td>\n",
       "      <td>38.0</td>\n",
       "      <td>Female</td>\n",
       "      <td>Specialties: C/C++, Java, Perl, Python, Visual...</td>\n",
       "      <td>Apple</td>\n",
       "      <td>SoftwareEngineer</td>\n",
       "      <td>Software QA Engineer</td>\n",
       "      <td>Apple Inc.</td>\n",
       "      <td>NaN</td>\n",
       "      <td>...</td>\n",
       "      <td>NaN</td>\n",
       "      <td>NaN</td>\n",
       "      <td>NaN</td>\n",
       "      <td>NaN</td>\n",
       "      <td>NaN</td>\n",
       "      <td>NaN</td>\n",
       "      <td>NaN</td>\n",
       "      <td>NaN</td>\n",
       "      <td>Associate's (2 year program)</td>\n",
       "      <td>2.0</td>\n",
       "    </tr>\n",
       "    <tr>\n",
       "      <th>563</th>\n",
       "      <td>Quan Ding</td>\n",
       "      <td>Quan Ding</td>\n",
       "      <td>NaN</td>\n",
       "      <td>NaN</td>\n",
       "      <td>Builder at heart. Years of knowledge on buildi...</td>\n",
       "      <td>Apple</td>\n",
       "      <td>SoftwareEngineer</td>\n",
       "      <td>Principal Software Engineer</td>\n",
       "      <td>Apple Inc.</td>\n",
       "      <td>San Francisco, California</td>\n",
       "      <td>...</td>\n",
       "      <td>NaN</td>\n",
       "      <td>NaN</td>\n",
       "      <td>NaN</td>\n",
       "      <td>NaN</td>\n",
       "      <td>NaN</td>\n",
       "      <td>NaN</td>\n",
       "      <td>NaN</td>\n",
       "      <td>NaN</td>\n",
       "      <td>Android Bootcamp</td>\n",
       "      <td>3.0</td>\n",
       "    </tr>\n",
       "    <tr>\n",
       "      <th>578</th>\n",
       "      <td>Minas Anton</td>\n",
       "      <td>Minas Anton</td>\n",
       "      <td>28.0</td>\n",
       "      <td>Male</td>\n",
       "      <td>Proficient Full Stack Software Engineer, love ...</td>\n",
       "      <td>Apple</td>\n",
       "      <td>SoftwareEngineer</td>\n",
       "      <td>Software Engineer</td>\n",
       "      <td>Apple Inc.</td>\n",
       "      <td>Sunnyvale, California</td>\n",
       "      <td>...</td>\n",
       "      <td>NaN</td>\n",
       "      <td>NaN</td>\n",
       "      <td>NaN</td>\n",
       "      <td>NaN</td>\n",
       "      <td>NaN</td>\n",
       "      <td>NaN</td>\n",
       "      <td>NaN</td>\n",
       "      <td>NaN</td>\n",
       "      <td>Certificate/License</td>\n",
       "      <td>4.0</td>\n",
       "    </tr>\n",
       "    <tr>\n",
       "      <th>591</th>\n",
       "      <td>Jack Briner</td>\n",
       "      <td>Jack Briner</td>\n",
       "      <td>61.0</td>\n",
       "      <td>Male</td>\n",
       "      <td>I am open to positions in development, web dev...</td>\n",
       "      <td>Apple</td>\n",
       "      <td>SoftwareEngineer</td>\n",
       "      <td>Contract Maps Software Engineer</td>\n",
       "      <td>Apple Inc.</td>\n",
       "      <td>Austin, Texas</td>\n",
       "      <td>...</td>\n",
       "      <td>NaN</td>\n",
       "      <td>NaN</td>\n",
       "      <td>NaN</td>\n",
       "      <td>NaN</td>\n",
       "      <td>NaN</td>\n",
       "      <td>NaN</td>\n",
       "      <td>NaN</td>\n",
       "      <td>NaN</td>\n",
       "      <td>Certificate/License</td>\n",
       "      <td>3.0</td>\n",
       "    </tr>\n",
       "    <tr>\n",
       "      <th>593</th>\n",
       "      <td>David Dossot</td>\n",
       "      <td>David Dossot</td>\n",
       "      <td>51.0</td>\n",
       "      <td>Male</td>\n",
       "      <td>Software Engineer &amp; Author. Music enthusiast. ...</td>\n",
       "      <td>Apple</td>\n",
       "      <td>SoftwareEngineer</td>\n",
       "      <td>Senior Software Engineer</td>\n",
       "      <td>Apple Inc.</td>\n",
       "      <td>Vancouver, Canada Area</td>\n",
       "      <td>...</td>\n",
       "      <td>NaN</td>\n",
       "      <td>NaN</td>\n",
       "      <td>NaN</td>\n",
       "      <td>NaN</td>\n",
       "      <td>NaN</td>\n",
       "      <td>NaN</td>\n",
       "      <td>NaN</td>\n",
       "      <td>NaN</td>\n",
       "      <td>Engineering</td>\n",
       "      <td>3.0</td>\n",
       "    </tr>\n",
       "    <tr>\n",
       "      <th>602</th>\n",
       "      <td>Roberto Montagna</td>\n",
       "      <td>Roberto Montagna</td>\n",
       "      <td>37.0</td>\n",
       "      <td>Male</td>\n",
       "      <td>Ampia esperienza nello sviluppo e nella progra...</td>\n",
       "      <td>Apple</td>\n",
       "      <td>SoftwareEngineer</td>\n",
       "      <td>Software Engineer</td>\n",
       "      <td>Apple Inc.</td>\n",
       "      <td>NaN</td>\n",
       "      <td>...</td>\n",
       "      <td>NaN</td>\n",
       "      <td>NaN</td>\n",
       "      <td>NaN</td>\n",
       "      <td>NaN</td>\n",
       "      <td>NaN</td>\n",
       "      <td>NaN</td>\n",
       "      <td>NaN</td>\n",
       "      <td>NaN</td>\n",
       "      <td>Dottorato</td>\n",
       "      <td>2.0</td>\n",
       "    </tr>\n",
       "    <tr>\n",
       "      <th>610</th>\n",
       "      <td>Tim Aerts</td>\n",
       "      <td>Tim Aerts</td>\n",
       "      <td>42.0</td>\n",
       "      <td>Male</td>\n",
       "      <td>Senior Software Engineer &amp; Architect, currentl...</td>\n",
       "      <td>Apple</td>\n",
       "      <td>SoftwareEngineer</td>\n",
       "      <td>Senior Software Engineer</td>\n",
       "      <td>Apple Inc.</td>\n",
       "      <td>Cupertino, California</td>\n",
       "      <td>...</td>\n",
       "      <td>NaN</td>\n",
       "      <td>NaN</td>\n",
       "      <td>NaN</td>\n",
       "      <td>NaN</td>\n",
       "      <td>NaN</td>\n",
       "      <td>NaN</td>\n",
       "      <td>NaN</td>\n",
       "      <td>NaN</td>\n",
       "      <td>Graduaat</td>\n",
       "      <td>3.0</td>\n",
       "    </tr>\n",
       "    <tr>\n",
       "      <th>612</th>\n",
       "      <td>Sebastian Schäfer</td>\n",
       "      <td>Sebastian Schäfer</td>\n",
       "      <td>39.0</td>\n",
       "      <td>Male</td>\n",
       "      <td>Sebastian Schäfer is a Referent Catering &amp; Eve...</td>\n",
       "      <td>Apple</td>\n",
       "      <td>SoftwareEngineer</td>\n",
       "      <td>Referent Catering &amp; Events</td>\n",
       "      <td>Hengeler Mueller</td>\n",
       "      <td>Frankfurt am Main, Hessen, Germany</td>\n",
       "      <td>...</td>\n",
       "      <td>NaN</td>\n",
       "      <td>NaN</td>\n",
       "      <td>NaN</td>\n",
       "      <td>NaN</td>\n",
       "      <td>NaN</td>\n",
       "      <td>NaN</td>\n",
       "      <td>NaN</td>\n",
       "      <td>NaN</td>\n",
       "      <td>Dr. rer. nat.</td>\n",
       "      <td>2.0</td>\n",
       "    </tr>\n",
       "    <tr>\n",
       "      <th>622</th>\n",
       "      <td>Hayden Holligan</td>\n",
       "      <td>Hayden Holligan</td>\n",
       "      <td>25.0</td>\n",
       "      <td>Male</td>\n",
       "      <td>A Computer Science student at the University o...</td>\n",
       "      <td>Apple</td>\n",
       "      <td>SoftwareEngineer</td>\n",
       "      <td>Software Engineer</td>\n",
       "      <td>Apple Inc.</td>\n",
       "      <td>San Francisco, California</td>\n",
       "      <td>...</td>\n",
       "      <td>NaN</td>\n",
       "      <td>NaN</td>\n",
       "      <td>NaN</td>\n",
       "      <td>NaN</td>\n",
       "      <td>NaN</td>\n",
       "      <td>NaN</td>\n",
       "      <td>NaN</td>\n",
       "      <td>NaN</td>\n",
       "      <td>BMath</td>\n",
       "      <td>2.0</td>\n",
       "    </tr>\n",
       "    <tr>\n",
       "      <th>639</th>\n",
       "      <td>Alexander Haas</td>\n",
       "      <td>Alexander Haas</td>\n",
       "      <td>30.0</td>\n",
       "      <td>Male</td>\n",
       "      <td>Works at Northrop Grumman as Web Application D...</td>\n",
       "      <td>Apple</td>\n",
       "      <td>SoftwareEngineer</td>\n",
       "      <td>Full Stack Developer, Co-founder</td>\n",
       "      <td>Nolan Fans</td>\n",
       "      <td>Orlando, Florida</td>\n",
       "      <td>...</td>\n",
       "      <td>NaN</td>\n",
       "      <td>NaN</td>\n",
       "      <td>NaN</td>\n",
       "      <td>NaN</td>\n",
       "      <td>NaN</td>\n",
       "      <td>NaN</td>\n",
       "      <td>NaN</td>\n",
       "      <td>NaN</td>\n",
       "      <td>Computer Engineering</td>\n",
       "      <td>3.0</td>\n",
       "    </tr>\n",
       "    <tr>\n",
       "      <th>646</th>\n",
       "      <td>Bob Zopp</td>\n",
       "      <td>Bob Zopp</td>\n",
       "      <td>NaN</td>\n",
       "      <td>Male</td>\n",
       "      <td>I’m an established professional within the dig...</td>\n",
       "      <td>Apple</td>\n",
       "      <td>SoftwareEngineer</td>\n",
       "      <td>Sr. Software QA Engineer</td>\n",
       "      <td>Apple Inc.</td>\n",
       "      <td>NaN</td>\n",
       "      <td>...</td>\n",
       "      <td>NaN</td>\n",
       "      <td>NaN</td>\n",
       "      <td>NaN</td>\n",
       "      <td>NaN</td>\n",
       "      <td>NaN</td>\n",
       "      <td>NaN</td>\n",
       "      <td>NaN</td>\n",
       "      <td>NaN</td>\n",
       "      <td>Associate's (2 year program)</td>\n",
       "      <td>3.0</td>\n",
       "    </tr>\n",
       "    <tr>\n",
       "      <th>663</th>\n",
       "      <td>Alfonso T.</td>\n",
       "      <td>Alfonso T.</td>\n",
       "      <td>30.0</td>\n",
       "      <td>Male</td>\n",
       "      <td>I am a proactive person with 13 years experien...</td>\n",
       "      <td>Apple</td>\n",
       "      <td>SoftwareEngineer</td>\n",
       "      <td>R&amp;D Mobile Lead Developer / Manager</td>\n",
       "      <td>Paranoid Interactive</td>\n",
       "      <td>Naucalpan De Juárez Area, Mexico</td>\n",
       "      <td>...</td>\n",
       "      <td>NaN</td>\n",
       "      <td>NaN</td>\n",
       "      <td>NaN</td>\n",
       "      <td>NaN</td>\n",
       "      <td>NaN</td>\n",
       "      <td>NaN</td>\n",
       "      <td>NaN</td>\n",
       "      <td>NaN</td>\n",
       "      <td>Diploma, Astrophysics</td>\n",
       "      <td>3.0</td>\n",
       "    </tr>\n",
       "    <tr>\n",
       "      <th>671</th>\n",
       "      <td>Rene Jacober</td>\n",
       "      <td>Rene Jacober</td>\n",
       "      <td>42.0</td>\n",
       "      <td>Male</td>\n",
       "      <td>Rene Jacober is a Senior Software Engineer at ...</td>\n",
       "      <td>Apple</td>\n",
       "      <td>SoftwareEngineer</td>\n",
       "      <td>Senior Software Engineer</td>\n",
       "      <td>Apple Inc.</td>\n",
       "      <td>NaN</td>\n",
       "      <td>...</td>\n",
       "      <td>NaN</td>\n",
       "      <td>NaN</td>\n",
       "      <td>NaN</td>\n",
       "      <td>NaN</td>\n",
       "      <td>NaN</td>\n",
       "      <td>NaN</td>\n",
       "      <td>NaN</td>\n",
       "      <td>NaN</td>\n",
       "      <td>Associate's (2 year program)</td>\n",
       "      <td>2.0</td>\n",
       "    </tr>\n",
       "    <tr>\n",
       "      <th>695</th>\n",
       "      <td>Marcos F.</td>\n",
       "      <td>Marcos F.</td>\n",
       "      <td>33.0</td>\n",
       "      <td>Male</td>\n",
       "      <td>Engineering Manager / Lead Software Engineer w...</td>\n",
       "      <td>Apple</td>\n",
       "      <td>SoftwareEngineer</td>\n",
       "      <td>Lead Software Engineer (Apple Employee)</td>\n",
       "      <td>Apple Inc.</td>\n",
       "      <td>Cupertino, California</td>\n",
       "      <td>...</td>\n",
       "      <td>NaN</td>\n",
       "      <td>NaN</td>\n",
       "      <td>NaN</td>\n",
       "      <td>NaN</td>\n",
       "      <td>NaN</td>\n",
       "      <td>NaN</td>\n",
       "      <td>NaN</td>\n",
       "      <td>NaN</td>\n",
       "      <td>Class</td>\n",
       "      <td>3.0</td>\n",
       "    </tr>\n",
       "    <tr>\n",
       "      <th>698</th>\n",
       "      <td>Diogo Neves</td>\n",
       "      <td>Diogo Neves</td>\n",
       "      <td>34.0</td>\n",
       "      <td>Male</td>\n",
       "      <td>Having fun 1 day at a time, since 84. Love peo...</td>\n",
       "      <td>Apple</td>\n",
       "      <td>SoftwareEngineer</td>\n",
       "      <td>Software Engineer</td>\n",
       "      <td>Apple Inc.</td>\n",
       "      <td>NaN</td>\n",
       "      <td>...</td>\n",
       "      <td>NaN</td>\n",
       "      <td>NaN</td>\n",
       "      <td>NaN</td>\n",
       "      <td>NaN</td>\n",
       "      <td>NaN</td>\n",
       "      <td>NaN</td>\n",
       "      <td>NaN</td>\n",
       "      <td>NaN</td>\n",
       "      <td>High School or Equivalent</td>\n",
       "      <td>2.0</td>\n",
       "    </tr>\n",
       "    <tr>\n",
       "      <th>720</th>\n",
       "      <td>Brian Peters</td>\n",
       "      <td>Brian Peters</td>\n",
       "      <td>28.0</td>\n",
       "      <td>Male</td>\n",
       "      <td>Certified Mac Genius, Web Developer and Design...</td>\n",
       "      <td>Apple</td>\n",
       "      <td>SoftwareEngineer</td>\n",
       "      <td>Software QA Engineer</td>\n",
       "      <td>Apple Inc.</td>\n",
       "      <td>NaN</td>\n",
       "      <td>...</td>\n",
       "      <td>NaN</td>\n",
       "      <td>NaN</td>\n",
       "      <td>NaN</td>\n",
       "      <td>NaN</td>\n",
       "      <td>NaN</td>\n",
       "      <td>NaN</td>\n",
       "      <td>NaN</td>\n",
       "      <td>NaN</td>\n",
       "      <td>Associate's (2 year program)</td>\n",
       "      <td>2.0</td>\n",
       "    </tr>\n",
       "    <tr>\n",
       "      <th>781</th>\n",
       "      <td>Jenner La Fave</td>\n",
       "      <td>Jenner La Fave</td>\n",
       "      <td>28.0</td>\n",
       "      <td>NaN</td>\n",
       "      <td>Jenner La Fave are a Software Engineer at APPL...</td>\n",
       "      <td>Apple</td>\n",
       "      <td>SoftwareEngineer</td>\n",
       "      <td>Software Engineer</td>\n",
       "      <td>Apple Inc.</td>\n",
       "      <td>Cupertino, California</td>\n",
       "      <td>...</td>\n",
       "      <td>NaN</td>\n",
       "      <td>NaN</td>\n",
       "      <td>NaN</td>\n",
       "      <td>NaN</td>\n",
       "      <td>NaN</td>\n",
       "      <td>NaN</td>\n",
       "      <td>NaN</td>\n",
       "      <td>NaN</td>\n",
       "      <td>Computer Science</td>\n",
       "      <td>2.0</td>\n",
       "    </tr>\n",
       "    <tr>\n",
       "      <th>794</th>\n",
       "      <td>ashishpaliwal</td>\n",
       "      <td>ashishpaliwal</td>\n",
       "      <td>43.0</td>\n",
       "      <td>Male</td>\n",
       "      <td>Just another Engineer having fun with Distribu...</td>\n",
       "      <td>Apple</td>\n",
       "      <td>SoftwareEngineer</td>\n",
       "      <td>Software Engineer</td>\n",
       "      <td>Apple Inc.</td>\n",
       "      <td>San Francisco, California</td>\n",
       "      <td>...</td>\n",
       "      <td>NaN</td>\n",
       "      <td>NaN</td>\n",
       "      <td>NaN</td>\n",
       "      <td>NaN</td>\n",
       "      <td>NaN</td>\n",
       "      <td>NaN</td>\n",
       "      <td>NaN</td>\n",
       "      <td>NaN</td>\n",
       "      <td>Certificate/License</td>\n",
       "      <td>2.0</td>\n",
       "    </tr>\n",
       "  </tbody>\n",
       "</table>\n",
       "<p>48 rows × 64 columns</p>\n",
       "</div>"
      ],
      "text/plain": [
       "              Unnamed: 0                 name   age  gender  \\\n",
       "5        Lokesh Shrestha      Lokesh Shrestha  43.0    Male   \n",
       "15         Chhavi Sharma        Chhavi Sharma  32.0  Female   \n",
       "22          Peter Steele         Peter Steele  39.0    Male   \n",
       "23        Nicholas Olsen       Nicholas Olsen  41.0    Male   \n",
       "85        Radford Castro       Radford Castro  46.0    Male   \n",
       "122          Devin Breen          Devin Breen  41.0    Male   \n",
       "145        Michael Lonky        Michael Lonky  37.0    Male   \n",
       "179        Mark Anderson        Mark Anderson  38.0    Male   \n",
       "182      Abhishek Prasad      Abhishek Prasad  27.0    Male   \n",
       "184       Ben Williamson       Ben Williamson  46.0    Male   \n",
       "212   Francisco Granados   Francisco Granados  37.0    Male   \n",
       "232        Robert Castle        Robert Castle  41.0    Male   \n",
       "242    Maxime Hadjinlian    Maxime Hadjinlian  35.0    Male   \n",
       "252     Suzanna Ratcliff     Suzanna Ratcliff  25.0  Female   \n",
       "283         Jay Upadhyay         Jay Upadhyay  28.0    Male   \n",
       "285       Alex G. Rivera       Alex G. Rivera  35.0    Male   \n",
       "338            Weibo Dou            Weibo Dou   NaN    Male   \n",
       "342              Chun Wu              Chun Wu  32.0    Male   \n",
       "349   Radha Vaidyanathan   Radha Vaidyanathan   NaN  Female   \n",
       "358  Steffan Diedrichsen  Steffan Diedrichsen  52.0    Male   \n",
       "368      Joshua J Weldon      Joshua J Weldon  27.0    Male   \n",
       "390          Daniel Chao          Daniel Chao  33.0    Male   \n",
       "401           Jerry Wang           Jerry Wang  38.0    Male   \n",
       "417         Scott Andrus         Scott Andrus  29.0    Male   \n",
       "431          Alex Guerra          Alex Guerra  39.0    Male   \n",
       "439              Matt Ma              Matt Ma  41.0    Male   \n",
       "444      William Reimers      William Reimers  45.0    Male   \n",
       "478         Michele Orsi         Michele Orsi  36.0  Female   \n",
       "498       Garth Cummings       Garth Cummings  65.0    Male   \n",
       "530     Christie English     Christie English  53.0  Female   \n",
       "535          Maria Barbu          Maria Barbu  38.0  Female   \n",
       "563            Quan Ding            Quan Ding   NaN     NaN   \n",
       "578          Minas Anton          Minas Anton  28.0    Male   \n",
       "591          Jack Briner          Jack Briner  61.0    Male   \n",
       "593         David Dossot         David Dossot  51.0    Male   \n",
       "602     Roberto Montagna     Roberto Montagna  37.0    Male   \n",
       "610            Tim Aerts            Tim Aerts  42.0    Male   \n",
       "612    Sebastian Schäfer    Sebastian Schäfer  39.0    Male   \n",
       "622      Hayden Holligan      Hayden Holligan  25.0    Male   \n",
       "639       Alexander Haas       Alexander Haas  30.0    Male   \n",
       "646             Bob Zopp             Bob Zopp   NaN    Male   \n",
       "663           Alfonso T.           Alfonso T.  30.0    Male   \n",
       "671         Rene Jacober         Rene Jacober  42.0    Male   \n",
       "695            Marcos F.            Marcos F.  33.0    Male   \n",
       "698          Diogo Neves          Diogo Neves  34.0    Male   \n",
       "720         Brian Peters         Brian Peters  28.0    Male   \n",
       "781       Jenner La Fave       Jenner La Fave  28.0     NaN   \n",
       "794        ashishpaliwal        ashishpaliwal  43.0    Male   \n",
       "\n",
       "                                           description source_company  \\\n",
       "5    Lokesh Shrestha is a Software Engineer at APPL...          Apple   \n",
       "15   Presently working as a Software Engineer at Ap...          Apple   \n",
       "22   Software Engineer at Apple Inc working on clie...          Apple   \n",
       "23   I'm a graphic design and web developer. Being ...          Apple   \n",
       "85   Radford Castro is the programmer and lead edit...          Apple   \n",
       "122  NOTE: If you need to get a hold of me, email m...          Apple   \n",
       "145  Michael Lonky is a Software QA Engineer at APP...          Apple   \n",
       "179  I am currently the iOS Developer at MuseAmi, I...          Apple   \n",
       "182  Having 4 years of experience in Identity and A...          Apple   \n",
       "184  Software engineer and team lead. Experienced i...          Apple   \n",
       "212  I'm a Software Engineer since '08 making apps ...          Apple   \n",
       "232  Freelance consultant at Egomotion Limited, spe...          Apple   \n",
       "242  I am a software engineer with a hobby for comp...          Apple   \n",
       "252  Suzanna Ratcliff is a Software Engineer at APP...          Apple   \n",
       "283  Data Scientist interested in working in data a...          Apple   \n",
       "285  Spanish language and culture, translation, loc...          Apple   \n",
       "338  A professional software engineer with over 6 y...          Apple   \n",
       "342  Motivated and result driven individual with a ...          Apple   \n",
       "349  I am a hands-on, roll-my-sleeves-up, get-it-do...          Apple   \n",
       "358  Steffan Diedrichsen is a Sr. Software Applicat...          Apple   \n",
       "368  Worked at Student. Lives in Honolulu, HI. Atte...          Apple   \n",
       "390  Code monkey, and functional programming nerd. ...          Apple   \n",
       "401  “Quality is not an act, it is a habit.”- Arist...          Apple   \n",
       "417  Software engineer with experience delivering p...          Apple   \n",
       "431  Software Build Engineer at  \\n/ Formerly cofo...          Apple   \n",
       "439  I am a multi-talented and highly motivated ful...          Apple   \n",
       "444  William Reimers is a Software Engineer at APPL...          Apple   \n",
       "478  Michele is a lead engineer at grakn.ai. He had...          Apple   \n",
       "498  Garth Cummings is a Software engineer at APPLE...          Apple   \n",
       "530  ·Consistently exhibited ability to rapidly lea...          Apple   \n",
       "535  Specialties: C/C++, Java, Perl, Python, Visual...          Apple   \n",
       "563  Builder at heart. Years of knowledge on buildi...          Apple   \n",
       "578  Proficient Full Stack Software Engineer, love ...          Apple   \n",
       "591  I am open to positions in development, web dev...          Apple   \n",
       "593  Software Engineer & Author. Music enthusiast. ...          Apple   \n",
       "602  Ampia esperienza nello sviluppo e nella progra...          Apple   \n",
       "610  Senior Software Engineer & Architect, currentl...          Apple   \n",
       "612  Sebastian Schäfer is a Referent Catering & Eve...          Apple   \n",
       "622  A Computer Science student at the University o...          Apple   \n",
       "639  Works at Northrop Grumman as Web Application D...          Apple   \n",
       "646  I’m an established professional within the dig...          Apple   \n",
       "663  I am a proactive person with 13 years experien...          Apple   \n",
       "671  Rene Jacober is a Senior Software Engineer at ...          Apple   \n",
       "695  Engineering Manager / Lead Software Engineer w...          Apple   \n",
       "698  Having fun 1 day at a time, since 84. Love peo...          Apple   \n",
       "720  Certified Mac Genius, Web Developer and Design...          Apple   \n",
       "781  Jenner La Fave are a Software Engineer at APPL...          Apple   \n",
       "794  Just another Engineer having fun with Distribu...          Apple   \n",
       "\n",
       "          source_role                                      current_title  \\\n",
       "5    SoftwareEngineer                                  Software Engineer   \n",
       "15   SoftwareEngineer                                  Software Engineer   \n",
       "22   SoftwareEngineer                                  Software Engineer   \n",
       "23   SoftwareEngineer                                 CTO and Co-founder   \n",
       "85   SoftwareEngineer                              Founder & Lead Editor   \n",
       "122  SoftwareEngineer                         President, Co-Founder, CTO   \n",
       "145  SoftwareEngineer                               Software QA Engineer   \n",
       "179  SoftwareEngineer                         Senior Solutions Architect   \n",
       "182  SoftwareEngineer                                     IAM Consultant   \n",
       "184  SoftwareEngineer                                         Co Founder   \n",
       "212  SoftwareEngineer                           Chief Operations Officer   \n",
       "232  SoftwareEngineer                                  Software Engineer   \n",
       "242  SoftwareEngineer                           Senior Software Engineer   \n",
       "252  SoftwareEngineer                                  Software Engineer   \n",
       "283  SoftwareEngineer                                  Software Engineer   \n",
       "285  SoftwareEngineer                        Spanish Tester - Freelancer   \n",
       "338  SoftwareEngineer              Software Development Engineer In Test   \n",
       "342  SoftwareEngineer  Technical Advisor - Application Development / ...   \n",
       "349  SoftwareEngineer                           Senior Software Engineer   \n",
       "358  SoftwareEngineer                 Sr. Software Applications Engineer   \n",
       "368  SoftwareEngineer                          HomeKit Software Engineer   \n",
       "390  SoftwareEngineer                                  Software Engineer   \n",
       "401  SoftwareEngineer                           Senior Software Engineer   \n",
       "417  SoftwareEngineer                           Senior Software Engineer   \n",
       "431  SoftwareEngineer                                                CTO   \n",
       "439  SoftwareEngineer                           Senior Software Engineer   \n",
       "444  SoftwareEngineer                                  Software Engineer   \n",
       "478  SoftwareEngineer                           Senior Software Engineer   \n",
       "498  SoftwareEngineer                                            Cellist   \n",
       "530  SoftwareEngineer                           Senior Software Engineer   \n",
       "535  SoftwareEngineer                               Software QA Engineer   \n",
       "563  SoftwareEngineer                        Principal Software Engineer   \n",
       "578  SoftwareEngineer                                  Software Engineer   \n",
       "591  SoftwareEngineer                    Contract Maps Software Engineer   \n",
       "593  SoftwareEngineer                           Senior Software Engineer   \n",
       "602  SoftwareEngineer                                  Software Engineer   \n",
       "610  SoftwareEngineer                           Senior Software Engineer   \n",
       "612  SoftwareEngineer                         Referent Catering & Events   \n",
       "622  SoftwareEngineer                                  Software Engineer   \n",
       "639  SoftwareEngineer                   Full Stack Developer, Co-founder   \n",
       "646  SoftwareEngineer                           Sr. Software QA Engineer   \n",
       "663  SoftwareEngineer                R&D Mobile Lead Developer / Manager   \n",
       "671  SoftwareEngineer                           Senior Software Engineer   \n",
       "695  SoftwareEngineer            Lead Software Engineer (Apple Employee)   \n",
       "698  SoftwareEngineer                                  Software Engineer   \n",
       "720  SoftwareEngineer                               Software QA Engineer   \n",
       "781  SoftwareEngineer                                  Software Engineer   \n",
       "794  SoftwareEngineer                                  Software Engineer   \n",
       "\n",
       "                   current_company  \\\n",
       "5                       Apple Inc.   \n",
       "15                      Apple Inc.   \n",
       "22                      Apple Inc.   \n",
       "23                 Establish Media   \n",
       "85                     LazyTech TV   \n",
       "122      The Chiditarod Foundation   \n",
       "145                     Apple Inc.   \n",
       "179  LTN Global Communications Inc   \n",
       "182                             EY   \n",
       "184                        Yoshirt   \n",
       "212                 Bistro Digital   \n",
       "232                     Apple Inc.   \n",
       "242                     Apple Inc.   \n",
       "252                     Apple Inc.   \n",
       "283                     Apple Inc.   \n",
       "285                   TransPerfect   \n",
       "338                     Apple Inc.   \n",
       "342              Statistics Canada   \n",
       "349                     Apple Inc.   \n",
       "358                     Apple Inc.   \n",
       "368                     Apple Inc.   \n",
       "390                     Apple Inc.   \n",
       "401                     Apple Inc.   \n",
       "417                     Apple Inc.   \n",
       "431                         Moodyo   \n",
       "439                     Apple Inc.   \n",
       "444                     Apple Inc.   \n",
       "478                     Apple Inc.   \n",
       "498                 Garth Cummings   \n",
       "530                     Apple Inc.   \n",
       "535                     Apple Inc.   \n",
       "563                     Apple Inc.   \n",
       "578                     Apple Inc.   \n",
       "591                     Apple Inc.   \n",
       "593                     Apple Inc.   \n",
       "602                     Apple Inc.   \n",
       "610                     Apple Inc.   \n",
       "612               Hengeler Mueller   \n",
       "622                     Apple Inc.   \n",
       "639                     Nolan Fans   \n",
       "646                     Apple Inc.   \n",
       "663           Paranoid Interactive   \n",
       "671                     Apple Inc.   \n",
       "695                     Apple Inc.   \n",
       "698                     Apple Inc.   \n",
       "720                     Apple Inc.   \n",
       "781                     Apple Inc.   \n",
       "794                     Apple Inc.   \n",
       "\n",
       "                              current_company_location  ... uni_MS MS_from  \\\n",
       "5                                Cupertino, California  ...    NaN     NaN   \n",
       "15                               Bengaluru Area, India  ...    NaN     NaN   \n",
       "22                                                 NaN  ...    NaN     NaN   \n",
       "23                                 London, Canada Area  ...    NaN     NaN   \n",
       "85                                                 NaN  ...    NaN     NaN   \n",
       "122                                  Chicago, Illinois  ...    NaN     NaN   \n",
       "145                          San Francisco, California  ...    NaN     NaN   \n",
       "179                         Greater New York City Area  ...    NaN     NaN   \n",
       "182                              Bengaluru Area, India  ...    NaN     NaN   \n",
       "184                                                NaN  ...    NaN     NaN   \n",
       "212                                                NaN  ...    NaN     NaN   \n",
       "232                             London, United Kingdom  ...    NaN     NaN   \n",
       "242                           Zürich Area, Switzerland  ...    NaN     NaN   \n",
       "252                          San Francisco, California  ...    NaN     NaN   \n",
       "283                              Cupertino, California  ...    NaN     NaN   \n",
       "285                          San Francisco, California  ...    NaN     NaN   \n",
       "338                              Cupertino, California  ...    NaN     NaN   \n",
       "342                                Ottawa, Canada Area  ...    NaN     NaN   \n",
       "349                              Cupertino, California  ...    NaN     NaN   \n",
       "358                                                NaN  ...    NaN     NaN   \n",
       "368                              Cupertino, California  ...    NaN     NaN   \n",
       "390                          San Francisco, California  ...    NaN     NaN   \n",
       "401                          Shanghai, Shanghai, China  ...    NaN     NaN   \n",
       "417                              Cupertino, California  ...    NaN     NaN   \n",
       "431                                                NaN  ...    NaN     NaN   \n",
       "439  Bahía De San Francisco Y Alrededores Estados U...  ...    NaN     NaN   \n",
       "444                                                NaN  ...    NaN     NaN   \n",
       "478                             London, United Kingdom  ...    NaN     NaN   \n",
       "498                                                NaN  ...    NaN     NaN   \n",
       "530                                                NaN  ...    NaN     NaN   \n",
       "535                                                NaN  ...    NaN     NaN   \n",
       "563                          San Francisco, California  ...    NaN     NaN   \n",
       "578                              Sunnyvale, California  ...    NaN     NaN   \n",
       "591                                      Austin, Texas  ...    NaN     NaN   \n",
       "593                             Vancouver, Canada Area  ...    NaN     NaN   \n",
       "602                                                NaN  ...    NaN     NaN   \n",
       "610                              Cupertino, California  ...    NaN     NaN   \n",
       "612                 Frankfurt am Main, Hessen, Germany  ...    NaN     NaN   \n",
       "622                          San Francisco, California  ...    NaN     NaN   \n",
       "639                                   Orlando, Florida  ...    NaN     NaN   \n",
       "646                                                NaN  ...    NaN     NaN   \n",
       "663                   Naucalpan De Juárez Area, Mexico  ...    NaN     NaN   \n",
       "671                                                NaN  ...    NaN     NaN   \n",
       "695                              Cupertino, California  ...    NaN     NaN   \n",
       "698                                                NaN  ...    NaN     NaN   \n",
       "720                                                NaN  ...    NaN     NaN   \n",
       "781                              Cupertino, California  ...    NaN     NaN   \n",
       "794                          San Francisco, California  ...    NaN     NaN   \n",
       "\n",
       "    MS_to has_BS major_BS uni_BS BS_from  BS_to  \\\n",
       "5     NaN    NaN      NaN    NaN     NaN    NaN   \n",
       "15    NaN    NaN      NaN    NaN     NaN    NaN   \n",
       "22    NaN    NaN      NaN    NaN     NaN    NaN   \n",
       "23    NaN    NaN      NaN    NaN     NaN    NaN   \n",
       "85    NaN    NaN      NaN    NaN     NaN    NaN   \n",
       "122   NaN    NaN      NaN    NaN     NaN    NaN   \n",
       "145   NaN    NaN      NaN    NaN     NaN    NaN   \n",
       "179   NaN    NaN      NaN    NaN     NaN    NaN   \n",
       "182   NaN    NaN      NaN    NaN     NaN    NaN   \n",
       "184   NaN    NaN      NaN    NaN     NaN    NaN   \n",
       "212   NaN    NaN      NaN    NaN     NaN    NaN   \n",
       "232   NaN    NaN      NaN    NaN     NaN    NaN   \n",
       "242   NaN    NaN      NaN    NaN     NaN    NaN   \n",
       "252   NaN    NaN      NaN    NaN     NaN    NaN   \n",
       "283   NaN    NaN      NaN    NaN     NaN    NaN   \n",
       "285   NaN    NaN      NaN    NaN     NaN    NaN   \n",
       "338   NaN    NaN      NaN    NaN     NaN    NaN   \n",
       "342   NaN    NaN      NaN    NaN     NaN    NaN   \n",
       "349   NaN    NaN      NaN    NaN     NaN    NaN   \n",
       "358   NaN    NaN      NaN    NaN     NaN    NaN   \n",
       "368   NaN    NaN      NaN    NaN     NaN    NaN   \n",
       "390   NaN    NaN      NaN    NaN     NaN    NaN   \n",
       "401   NaN    NaN      NaN    NaN     NaN    NaN   \n",
       "417   NaN    NaN      NaN    NaN     NaN    NaN   \n",
       "431   NaN    NaN      NaN    NaN     NaN    NaN   \n",
       "439   NaN    NaN      NaN    NaN     NaN    NaN   \n",
       "444   NaN    NaN      NaN    NaN     NaN    NaN   \n",
       "478   NaN    NaN      NaN    NaN     NaN    NaN   \n",
       "498   NaN    NaN      NaN    NaN     NaN    NaN   \n",
       "530   NaN    NaN      NaN    NaN     NaN    NaN   \n",
       "535   NaN    NaN      NaN    NaN     NaN    NaN   \n",
       "563   NaN    NaN      NaN    NaN     NaN    NaN   \n",
       "578   NaN    NaN      NaN    NaN     NaN    NaN   \n",
       "591   NaN    NaN      NaN    NaN     NaN    NaN   \n",
       "593   NaN    NaN      NaN    NaN     NaN    NaN   \n",
       "602   NaN    NaN      NaN    NaN     NaN    NaN   \n",
       "610   NaN    NaN      NaN    NaN     NaN    NaN   \n",
       "612   NaN    NaN      NaN    NaN     NaN    NaN   \n",
       "622   NaN    NaN      NaN    NaN     NaN    NaN   \n",
       "639   NaN    NaN      NaN    NaN     NaN    NaN   \n",
       "646   NaN    NaN      NaN    NaN     NaN    NaN   \n",
       "663   NaN    NaN      NaN    NaN     NaN    NaN   \n",
       "671   NaN    NaN      NaN    NaN     NaN    NaN   \n",
       "695   NaN    NaN      NaN    NaN     NaN    NaN   \n",
       "698   NaN    NaN      NaN    NaN     NaN    NaN   \n",
       "720   NaN    NaN      NaN    NaN     NaN    NaN   \n",
       "781   NaN    NaN      NaN    NaN     NaN    NaN   \n",
       "794   NaN    NaN      NaN    NaN     NaN    NaN   \n",
       "\n",
       "                                       other_education total_num_education  \n",
       "5                                    Graduate Research                 3.0  \n",
       "15                                   Engineer's Degree                 2.0  \n",
       "22                                 Certificate/License                 3.0  \n",
       "23      Advanced Diploma Interactive Media Development                 2.0  \n",
       "85                        Associate's (2 year program)                 4.0  \n",
       "122                                   Forum & Advanced                 2.0  \n",
       "145                                Certificate/License                 2.0  \n",
       "179                                   Music Technology                 6.0  \n",
       "182                Post Graduate Diploma in Management                 8.0  \n",
       "184  Diploma, Logistics, Materials, and Supply Chai...                 4.0  \n",
       "212                          LEAD Corporate Innovation                 2.0  \n",
       "232                                             D.Phil                 2.0  \n",
       "242                                  Engineer's degree                 2.0  \n",
       "252                                   Computer Science                 2.0  \n",
       "283                                Certificate/License                 5.0  \n",
       "285                                Certificate/License                 4.0  \n",
       "338                                Certificate/License                 2.0  \n",
       "342                                Certificate/License                 3.0  \n",
       "349                                        Nano Degree                 3.0  \n",
       "358                 Dipl.-Ing., Electrical Engineering                 2.0  \n",
       "368  Mathematics; Computer Science, Software Engine...                 2.0  \n",
       "390    Software Engineering/Full Stack Web Development                 2.0  \n",
       "401                                Certificate/License                 3.0  \n",
       "417                                   Computer Science                 2.0  \n",
       "431                                             GESE 8                 3.0  \n",
       "439  Interactive Web Design Specialization, Web Des...                 2.0  \n",
       "444                                 , Computer Science                 2.0  \n",
       "478  Accelerator Program, Entrepreneurship/Entrepre...                 5.0  \n",
       "498                                                  M                 2.0  \n",
       "530                Deep Learning Foundation Nanodegree                 3.0  \n",
       "535                       Associate's (2 year program)                 2.0  \n",
       "563                                   Android Bootcamp                 3.0  \n",
       "578                                Certificate/License                 4.0  \n",
       "591                                Certificate/License                 3.0  \n",
       "593                                        Engineering                 3.0  \n",
       "602                                          Dottorato                 2.0  \n",
       "610                                           Graduaat                 3.0  \n",
       "612                                      Dr. rer. nat.                 2.0  \n",
       "622                                              BMath                 2.0  \n",
       "639                               Computer Engineering                 3.0  \n",
       "646                       Associate's (2 year program)                 3.0  \n",
       "663                              Diploma, Astrophysics                 3.0  \n",
       "671                       Associate's (2 year program)                 2.0  \n",
       "695                                              Class                 3.0  \n",
       "698                          High School or Equivalent                 2.0  \n",
       "720                       Associate's (2 year program)                 2.0  \n",
       "781                                   Computer Science                 2.0  \n",
       "794                                Certificate/License                 2.0  \n",
       "\n",
       "[48 rows x 64 columns]"
      ]
     },
     "execution_count": 143,
     "metadata": {},
     "output_type": "execute_result"
    }
   ],
   "source": [
    "apple_sw[apple_sw['has_BS'].fillna(False)]['other_education'].notna()\n",
    "apple_sw[apple_sw['other_education'].notna()]"
   ]
  },
  {
   "cell_type": "code",
   "execution_count": 118,
   "metadata": {},
   "outputs": [
    {
     "ename": "NameError",
     "evalue": "name 'apple_sw' is not defined",
     "output_type": "error",
     "traceback": [
      "\u001b[0;31m---------------------------------------------------------------------------\u001b[0m",
      "\u001b[0;31mNameError\u001b[0m                                 Traceback (most recent call last)",
      "\u001b[0;32m<ipython-input-118-bb4b02f5bb5a>\u001b[0m in \u001b[0;36m<module>\u001b[0;34m\u001b[0m\n\u001b[0;32m----> 1\u001b[0;31m \u001b[0mapple_sw\u001b[0m\u001b[0;34m[\u001b[0m\u001b[0mapple_sw\u001b[0m\u001b[0;34m[\u001b[0m\u001b[0;34m'age'\u001b[0m\u001b[0;34m]\u001b[0m\u001b[0;34m.\u001b[0m\u001b[0mnotna\u001b[0m\u001b[0;34m(\u001b[0m\u001b[0;34m)\u001b[0m\u001b[0;34m]\u001b[0m\u001b[0;34m\u001b[0m\u001b[0;34m\u001b[0m\u001b[0m\n\u001b[0m",
      "\u001b[0;31mNameError\u001b[0m: name 'apple_sw' is not defined"
     ]
    }
   ],
   "source": [
    "apple_sw[apple_sw['age'].notna()]"
   ]
  },
  {
   "cell_type": "code",
   "execution_count": 62,
   "metadata": {},
   "outputs": [
    {
     "data": {
      "text/plain": [
       "<matplotlib.axes._subplots.AxesSubplot at 0x7f7fed460b10>"
      ]
     },
     "execution_count": 62,
     "metadata": {},
     "output_type": "execute_result"
    },
    {
     "data": {
      "image/png": "[encoded data removed]",
      "text/plain": [
       "<Figure size 432x288 with 1 Axes>"
      ]
     },
     "metadata": {
      "needs_background": "light"
     },
     "output_type": "display_data"
    }
   ],
   "source": [
    "apple_sw.sort_values('age')['age'].hist()"
   ]
  },
  {
   "cell_type": "code",
   "execution_count": 63,
   "metadata": {},
   "outputs": [
    {
     "data": {
      "text/plain": [
       "<matplotlib.axes._subplots.AxesSubplot at 0x7f800af16dd0>"
      ]
     },
     "execution_count": 63,
     "metadata": {},
     "output_type": "execute_result"
    },
    {
     "data": {
      "image/png": "[encoded data removed]",
      "text/plain": [
       "<Figure size 432x288 with 1 Axes>"
      ]
     },
     "metadata": {
      "needs_background": "light"
     },
     "output_type": "display_data"
    }
   ],
   "source": [
    "apple_sw.sort_values('age')['prev_exp_duration_1'].hist()"
   ]
  },
  {
   "cell_type": "code",
   "execution_count": 90,
   "metadata": {},
   "outputs": [
    {
     "data": {
      "text/plain": [
       "str"
      ]
     },
     "execution_count": 90,
     "metadata": {},
     "output_type": "execute_result"
    }
   ],
   "source": [
    "int(apple_sw['prev_exp_duration_1'][0].split()[0])\n",
    "type(apple_sw[apple_sw['prev_exp_duration_1'].notna()]['prev_exp_duration_1'][0])"
   ]
  },
  {
   "cell_type": "code",
   "execution_count": 105,
   "metadata": {},
   "outputs": [
    {
     "data": {
      "text/plain": [
       "11"
      ]
     },
     "execution_count": 105,
     "metadata": {},
     "output_type": "execute_result"
    }
   ],
   "source": [
    "#ser = math.trunc((apple_sw['prev_exp_duration_1'].split()[0] % 365) / 30)\n",
    "ser = pd.DataFrame(apple_sw[apple_sw['prev_exp_duration_1'].notna()]['prev_exp_duration_1'].apply(lambda x: math.trunc((int(x.split()[0]) % 365) / 30)))\n",
    "ser.sort_values('prev_exp_duration_1')[\"prev_exp_duration_1\"]"
   ]
  },
  {
   "cell_type": "code",
   "execution_count": 109,
   "metadata": {},
   "outputs": [],
   "source": [
    "df['prev_exp_to_1'] = pd.to_datetime(df['prev_exp_to_1'])"
   ]
  },
  {
   "cell_type": "code",
   "execution_count": 113,
   "metadata": {},
   "outputs": [],
   "source": [
    "df['prev_exp_from_1'] = pd.to_datetime(df['prev_exp_from_1'])"
   ]
  },
  {
   "cell_type": "code",
   "execution_count": 117,
   "metadata": {},
   "outputs": [
    {
     "data": {
      "text/plain": [
       "5"
      ]
     },
     "execution_count": 117,
     "metadata": {},
     "output_type": "execute_result"
    }
   ],
   "source": [
    "round((df['prev_exp_to_1'][0] - df['prev_exp_from_1'][0]).days/30)"
   ]
  },
  {
   "cell_type": "code",
   "execution_count": 166,
   "metadata": {},
   "outputs": [],
   "source": [
    "customer_success = pd.read_csv(\"Data/All/CustomerSuccess.csv\")"
   ]
  },
  {
   "cell_type": "code",
   "execution_count": 167,
   "metadata": {},
   "outputs": [
    {
     "data": {
      "text/plain": [
       "(348, 65)"
      ]
     },
     "execution_count": 167,
     "metadata": {},
     "output_type": "execute_result"
    }
   ],
   "source": [
    "customer_success.shape"
   ]
  },
  {
   "cell_type": "code",
   "execution_count": 171,
   "metadata": {},
   "outputs": [
    {
     "data": {
      "application/vnd.plotly.v1+json": {
       "config": {
        "plotlyServerURL": "https://plot.ly"
       },
       "data": [
        {
         "alignmentgroup": "True",
         "bingroup": "x",
         "hovertemplate": "source_company=%{x}<br>count=%{y}<extra></extra>",
         "legendgroup": "",
         "marker": {
          "color": "#636efa"
         },
         "name": "",
         "offsetgroup": "",
         "orientation": "v",
         "showlegend": false,
         "type": "histogram",
         "x": [
          "IBM",
          "IBM",
          "IBM",
          "IBM",
          "IBM",
          "IBM",
          "IBM",
          "IBM",
          "IBM",
          "IBM",
          "IBM",
          "IBM",
          "IBM",
          "IBM",
          "IBM",
          "IBM",
          "IBM",
          "IBM",
          "IBM",
          "IBM",
          "IBM",
          "IBM",
          "Splunk",
          "Splunk",
          "Splunk",
          "Splunk",
          "Splunk",
          "Splunk",
          "Splunk",
          "Splunk",
          "Splunk",
          "Splunk",
          "Splunk",
          "Splunk",
          "Splunk",
          "Splunk",
          "Splunk",
          "Splunk",
          "Splunk",
          "Splunk",
          "Splunk",
          "Splunk",
          "Splunk",
          "Splunk",
          "Splunk",
          "Splunk",
          "Splunk",
          "Splunk",
          "Splunk",
          "Splunk",
          "Splunk",
          "Splunk",
          "Splunk",
          "Splunk",
          "Splunk",
          "Splunk",
          "Splunk",
          "Splunk",
          "Splunk",
          "Splunk",
          "Splunk",
          "Splunk",
          "Splunk",
          "Splunk",
          "Splunk",
          "Splunk",
          "Splunk",
          "Splunk",
          "Microsoft",
          "Microsoft",
          "Microsoft",
          "Microsoft",
          "Microsoft",
          "Microsoft",
          "Microsoft",
          "Microsoft",
          "Microsoft",
          "Microsoft",
          "Microsoft",
          "Microsoft",
          "Microsoft",
          "Microsoft",
          "Microsoft",
          "Microsoft",
          "Microsoft",
          "Microsoft",
          "Microsoft",
          "Microsoft",
          "Microsoft",
          "Microsoft",
          "Microsoft",
          "Microsoft",
          "Microsoft",
          "Microsoft",
          "Microsoft",
          "Microsoft",
          "Microsoft",
          "Microsoft",
          "Microsoft",
          "Microsoft",
          "Microsoft",
          "Microsoft",
          "Microsoft",
          "Microsoft",
          "Microsoft",
          "Microsoft",
          "Microsoft",
          "Microsoft",
          "Microsoft",
          "Microsoft",
          "Microsoft",
          "Microsoft",
          "Microsoft",
          "Microsoft",
          "Microsoft",
          "Microsoft",
          "Microsoft",
          "Microsoft",
          "Microsoft",
          "Microsoft",
          "Microsoft",
          "Microsoft",
          "Microsoft",
          "Microsoft",
          "Microsoft",
          "Microsoft",
          "Microsoft",
          "Microsoft",
          "Microsoft",
          "Microsoft",
          "Microsoft",
          "Microsoft",
          "Microsoft",
          "Microsoft",
          "Microsoft",
          "Microsoft",
          "Microsoft",
          "Microsoft",
          "Microsoft",
          "Microsoft",
          "Microsoft",
          "Microsoft",
          "Microsoft",
          "Microsoft",
          "Microsoft",
          "Microsoft",
          "Microsoft",
          "Microsoft",
          "Microsoft",
          "Microsoft",
          "Microsoft",
          "Microsoft",
          "Microsoft",
          "Microsoft",
          "Microsoft",
          "Microsoft",
          "Microsoft",
          "Microsoft",
          "Microsoft",
          "Microsoft",
          "Microsoft",
          "Microsoft",
          "Microsoft",
          "Microsoft",
          "Microsoft",
          "Microsoft",
          "Microsoft",
          "Microsoft",
          "Microsoft",
          "Microsoft",
          "Microsoft",
          "Microsoft",
          "Microsoft",
          "Microsoft",
          "Microsoft",
          "Microsoft",
          "Microsoft",
          "Microsoft",
          "Microsoft",
          "Microsoft",
          "Microsoft",
          "Microsoft",
          "Microsoft",
          "Microsoft",
          "Facebook",
          "Facebook",
          "Facebook",
          "Facebook",
          "Facebook",
          "Square",
          "Square",
          "Square",
          "Square",
          "Square",
          "Square",
          "Square",
          "Square",
          "Square",
          "Square",
          "Square",
          "Square",
          "Square",
          "Square",
          "Square",
          "Square",
          "Square",
          "Square",
          "Square",
          "Square",
          "Square",
          "Square",
          "Square",
          "Square",
          "Square",
          "Square",
          "Square",
          "Square",
          "Square",
          "Square",
          "Square",
          "Square",
          "Square",
          "Square",
          "Square",
          "Square",
          "Square",
          "Square",
          "Square",
          "Square",
          "Square",
          "Square",
          "Square",
          "Square",
          "Square",
          "Square",
          "Square",
          "Square",
          "Square",
          "Square",
          "Square",
          "Square",
          "Square",
          "Square",
          "Square",
          "Square",
          "Square",
          "Square",
          "Square",
          "Square",
          "Square",
          "Square",
          "Square",
          "Square",
          "Square",
          "Square",
          "Square",
          "Square",
          "Square",
          "Square",
          "Square",
          "Square",
          "Square",
          "Amazon",
          "Amazon",
          "Amazon",
          "Amazon",
          "Amazon",
          "Amazon",
          "Amazon",
          "Amazon",
          "Amazon",
          "Amazon",
          "Amazon",
          "Amazon",
          "Amazon",
          "Amazon",
          "Amazon",
          "Amazon",
          "Amazon",
          "Amazon",
          "Amazon",
          "Amazon",
          "Amazon",
          "Amazon",
          "Amazon",
          "Amazon",
          "Amazon",
          "Amazon",
          "Amazon",
          "Amazon",
          "Amazon",
          "Amazon",
          "Amazon",
          "Amazon",
          "Google",
          "Google",
          "Google",
          "Google",
          "Google",
          "Google",
          "Google",
          "Google",
          "Google",
          "Google",
          "Google",
          "Google",
          "Google",
          "Google",
          "Google",
          "Google",
          "Google",
          "Google",
          "Google",
          "Google",
          "Google",
          "Google",
          "Google",
          "Google",
          "Google",
          "Google",
          "Google",
          "Google",
          "Google",
          "Google",
          "Google",
          "Google",
          "Google",
          "Google",
          "Google",
          "Google",
          "Google",
          "Google",
          "Coursera",
          "Coursera",
          "Coursera",
          "Coursera",
          "Coursera",
          "Coursera",
          "Coursera",
          "Coursera",
          "Coursera",
          "Coursera",
          "Coursera",
          "Coursera",
          "Coursera",
          "Coursera",
          "Coursera",
          "Coursera"
         ],
         "xaxis": "x",
         "yaxis": "y"
        }
       ],
       "layout": {
        "barmode": "relative",
        "legend": {
         "tracegroupgap": 0
        },
        "margin": {
         "t": 60
        },
        "template": {
         "data": {
          "bar": [
           {
            "error_x": {
             "color": "#2a3f5f"
            },
            "error_y": {
             "color": "#2a3f5f"
            },
            "marker": {
             "line": {
              "color": "#E5ECF6",
              "width": 0.5
             }
            },
            "type": "bar"
           }
          ],
          "barpolar": [
           {
            "marker": {
             "line": {
              "color": "#E5ECF6",
              "width": 0.5
             }
            },
            "type": "barpolar"
           }
          ],
          "carpet": [
           {
            "aaxis": {
             "endlinecolor": "#2a3f5f",
             "gridcolor": "white",
             "linecolor": "white",
             "minorgridcolor": "white",
             "startlinecolor": "#2a3f5f"
            },
            "baxis": {
             "endlinecolor": "#2a3f5f",
             "gridcolor": "white",
             "linecolor": "white",
             "minorgridcolor": "white",
             "startlinecolor": "#2a3f5f"
            },
            "type": "carpet"
           }
          ],
          "choropleth": [
           {
            "colorbar": {
             "outlinewidth": 0,
             "ticks": ""
            },
            "type": "choropleth"
           }
          ],
          "contour": [
           {
            "colorbar": {
             "outlinewidth": 0,
             "ticks": ""
            },
            "colorscale": [
             [
              0,
              "#0d0887"
             ],
             [
              0.1111111111111111,
              "#46039f"
             ],
             [
              0.2222222222222222,
              "#7201a8"
             ],
             [
              0.3333333333333333,
              "#9c179e"
             ],
             [
              0.4444444444444444,
              "#bd3786"
             ],
             [
              0.5555555555555556,
              "#d8576b"
             ],
             [
              0.6666666666666666,
              "#ed7953"
             ],
             [
              0.7777777777777778,
              "#fb9f3a"
             ],
             [
              0.8888888888888888,
              "#fdca26"
             ],
             [
              1,
              "#f0f921"
             ]
            ],
            "type": "contour"
           }
          ],
          "contourcarpet": [
           {
            "colorbar": {
             "outlinewidth": 0,
             "ticks": ""
            },
            "type": "contourcarpet"
           }
          ],
          "heatmap": [
           {
            "colorbar": {
             "outlinewidth": 0,
             "ticks": ""
            },
            "colorscale": [
             [
              0,
              "#0d0887"
             ],
             [
              0.1111111111111111,
              "#46039f"
             ],
             [
              0.2222222222222222,
              "#7201a8"
             ],
             [
              0.3333333333333333,
              "#9c179e"
             ],
             [
              0.4444444444444444,
              "#bd3786"
             ],
             [
              0.5555555555555556,
              "#d8576b"
             ],
             [
              0.6666666666666666,
              "#ed7953"
             ],
             [
              0.7777777777777778,
              "#fb9f3a"
             ],
             [
              0.8888888888888888,
              "#fdca26"
             ],
             [
              1,
              "#f0f921"
             ]
            ],
            "type": "heatmap"
           }
          ],
          "heatmapgl": [
           {
            "colorbar": {
             "outlinewidth": 0,
             "ticks": ""
            },
            "colorscale": [
             [
              0,
              "#0d0887"
             ],
             [
              0.1111111111111111,
              "#46039f"
             ],
             [
              0.2222222222222222,
              "#7201a8"
             ],
             [
              0.3333333333333333,
              "#9c179e"
             ],
             [
              0.4444444444444444,
              "#bd3786"
             ],
             [
              0.5555555555555556,
              "#d8576b"
             ],
             [
              0.6666666666666666,
              "#ed7953"
             ],
             [
              0.7777777777777778,
              "#fb9f3a"
             ],
             [
              0.8888888888888888,
              "#fdca26"
             ],
             [
              1,
              "#f0f921"
             ]
            ],
            "type": "heatmapgl"
           }
          ],
          "histogram": [
           {
            "marker": {
             "colorbar": {
              "outlinewidth": 0,
              "ticks": ""
             }
            },
            "type": "histogram"
           }
          ],
          "histogram2d": [
           {
            "colorbar": {
             "outlinewidth": 0,
             "ticks": ""
            },
            "colorscale": [
             [
              0,
              "#0d0887"
             ],
             [
              0.1111111111111111,
              "#46039f"
             ],
             [
              0.2222222222222222,
              "#7201a8"
             ],
             [
              0.3333333333333333,
              "#9c179e"
             ],
             [
              0.4444444444444444,
              "#bd3786"
             ],
             [
              0.5555555555555556,
              "#d8576b"
             ],
             [
              0.6666666666666666,
              "#ed7953"
             ],
             [
              0.7777777777777778,
              "#fb9f3a"
             ],
             [
              0.8888888888888888,
              "#fdca26"
             ],
             [
              1,
              "#f0f921"
             ]
            ],
            "type": "histogram2d"
           }
          ],
          "histogram2dcontour": [
           {
            "colorbar": {
             "outlinewidth": 0,
             "ticks": ""
            },
            "colorscale": [
             [
              0,
              "#0d0887"
             ],
             [
              0.1111111111111111,
              "#46039f"
             ],
             [
              0.2222222222222222,
              "#7201a8"
             ],
             [
              0.3333333333333333,
              "#9c179e"
             ],
             [
              0.4444444444444444,
              "#bd3786"
             ],
             [
              0.5555555555555556,
              "#d8576b"
             ],
             [
              0.6666666666666666,
              "#ed7953"
             ],
             [
              0.7777777777777778,
              "#fb9f3a"
             ],
             [
              0.8888888888888888,
              "#fdca26"
             ],
             [
              1,
              "#f0f921"
             ]
            ],
            "type": "histogram2dcontour"
           }
          ],
          "mesh3d": [
           {
            "colorbar": {
             "outlinewidth": 0,
             "ticks": ""
            },
            "type": "mesh3d"
           }
          ],
          "parcoords": [
           {
            "line": {
             "colorbar": {
              "outlinewidth": 0,
              "ticks": ""
             }
            },
            "type": "parcoords"
           }
          ],
          "pie": [
           {
            "automargin": true,
            "type": "pie"
           }
          ],
          "scatter": [
           {
            "marker": {
             "colorbar": {
              "outlinewidth": 0,
              "ticks": ""
             }
            },
            "type": "scatter"
           }
          ],
          "scatter3d": [
           {
            "line": {
             "colorbar": {
              "outlinewidth": 0,
              "ticks": ""
             }
            },
            "marker": {
             "colorbar": {
              "outlinewidth": 0,
              "ticks": ""
             }
            },
            "type": "scatter3d"
           }
          ],
          "scattercarpet": [
           {
            "marker": {
             "colorbar": {
              "outlinewidth": 0,
              "ticks": ""
             }
            },
            "type": "scattercarpet"
           }
          ],
          "scattergeo": [
           {
            "marker": {
             "colorbar": {
              "outlinewidth": 0,
              "ticks": ""
             }
            },
            "type": "scattergeo"
           }
          ],
          "scattergl": [
           {
            "marker": {
             "colorbar": {
              "outlinewidth": 0,
              "ticks": ""
             }
            },
            "type": "scattergl"
           }
          ],
          "scattermapbox": [
           {
            "marker": {
             "colorbar": {
              "outlinewidth": 0,
              "ticks": ""
             }
            },
            "type": "scattermapbox"
           }
          ],
          "scatterpolar": [
           {
            "marker": {
             "colorbar": {
              "outlinewidth": 0,
              "ticks": ""
             }
            },
            "type": "scatterpolar"
           }
          ],
          "scatterpolargl": [
           {
            "marker": {
             "colorbar": {
              "outlinewidth": 0,
              "ticks": ""
             }
            },
            "type": "scatterpolargl"
           }
          ],
          "scatterternary": [
           {
            "marker": {
             "colorbar": {
              "outlinewidth": 0,
              "ticks": ""
             }
            },
            "type": "scatterternary"
           }
          ],
          "surface": [
           {
            "colorbar": {
             "outlinewidth": 0,
             "ticks": ""
            },
            "colorscale": [
             [
              0,
              "#0d0887"
             ],
             [
              0.1111111111111111,
              "#46039f"
             ],
             [
              0.2222222222222222,
              "#7201a8"
             ],
             [
              0.3333333333333333,
              "#9c179e"
             ],
             [
              0.4444444444444444,
              "#bd3786"
             ],
             [
              0.5555555555555556,
              "#d8576b"
             ],
             [
              0.6666666666666666,
              "#ed7953"
             ],
             [
              0.7777777777777778,
              "#fb9f3a"
             ],
             [
              0.8888888888888888,
              "#fdca26"
             ],
             [
              1,
              "#f0f921"
             ]
            ],
            "type": "surface"
           }
          ],
          "table": [
           {
            "cells": {
             "fill": {
              "color": "#EBF0F8"
             },
             "line": {
              "color": "white"
             }
            },
            "header": {
             "fill": {
              "color": "#C8D4E3"
             },
             "line": {
              "color": "white"
             }
            },
            "type": "table"
           }
          ]
         },
         "layout": {
          "annotationdefaults": {
           "arrowcolor": "#2a3f5f",
           "arrowhead": 0,
           "arrowwidth": 1
          },
          "coloraxis": {
           "colorbar": {
            "outlinewidth": 0,
            "ticks": ""
           }
          },
          "colorscale": {
           "diverging": [
            [
             0,
             "#8e0152"
            ],
            [
             0.1,
             "#c51b7d"
            ],
            [
             0.2,
             "#de77ae"
            ],
            [
             0.3,
             "#f1b6da"
            ],
            [
             0.4,
             "#fde0ef"
            ],
            [
             0.5,
             "#f7f7f7"
            ],
            [
             0.6,
             "#e6f5d0"
            ],
            [
             0.7,
             "#b8e186"
            ],
            [
             0.8,
             "#7fbc41"
            ],
            [
             0.9,
             "#4d9221"
            ],
            [
             1,
             "#276419"
            ]
           ],
           "sequential": [
            [
             0,
             "#0d0887"
            ],
            [
             0.1111111111111111,
             "#46039f"
            ],
            [
             0.2222222222222222,
             "#7201a8"
            ],
            [
             0.3333333333333333,
             "#9c179e"
            ],
            [
             0.4444444444444444,
             "#bd3786"
            ],
            [
             0.5555555555555556,
             "#d8576b"
            ],
            [
             0.6666666666666666,
             "#ed7953"
            ],
            [
             0.7777777777777778,
             "#fb9f3a"
            ],
            [
             0.8888888888888888,
             "#fdca26"
            ],
            [
             1,
             "#f0f921"
            ]
           ],
           "sequentialminus": [
            [
             0,
             "#0d0887"
            ],
            [
             0.1111111111111111,
             "#46039f"
            ],
            [
             0.2222222222222222,
             "#7201a8"
            ],
            [
             0.3333333333333333,
             "#9c179e"
            ],
            [
             0.4444444444444444,
             "#bd3786"
            ],
            [
             0.5555555555555556,
             "#d8576b"
            ],
            [
             0.6666666666666666,
             "#ed7953"
            ],
            [
             0.7777777777777778,
             "#fb9f3a"
            ],
            [
             0.8888888888888888,
             "#fdca26"
            ],
            [
             1,
             "#f0f921"
            ]
           ]
          },
          "colorway": [
           "#636efa",
           "#EF553B",
           "#00cc96",
           "#ab63fa",
           "#FFA15A",
           "#19d3f3",
           "#FF6692",
           "#B6E880",
           "#FF97FF",
           "#FECB52"
          ],
          "font": {
           "color": "#2a3f5f"
          },
          "geo": {
           "bgcolor": "white",
           "lakecolor": "white",
           "landcolor": "#E5ECF6",
           "showlakes": true,
           "showland": true,
           "subunitcolor": "white"
          },
          "hoverlabel": {
           "align": "left"
          },
          "hovermode": "closest",
          "mapbox": {
           "style": "light"
          },
          "paper_bgcolor": "white",
          "plot_bgcolor": "#E5ECF6",
          "polar": {
           "angularaxis": {
            "gridcolor": "white",
            "linecolor": "white",
            "ticks": ""
           },
           "bgcolor": "#E5ECF6",
           "radialaxis": {
            "gridcolor": "white",
            "linecolor": "white",
            "ticks": ""
           }
          },
          "scene": {
           "xaxis": {
            "backgroundcolor": "#E5ECF6",
            "gridcolor": "white",
            "gridwidth": 2,
            "linecolor": "white",
            "showbackground": true,
            "ticks": "",
            "zerolinecolor": "white"
           },
           "yaxis": {
            "backgroundcolor": "#E5ECF6",
            "gridcolor": "white",
            "gridwidth": 2,
            "linecolor": "white",
            "showbackground": true,
            "ticks": "",
            "zerolinecolor": "white"
           },
           "zaxis": {
            "backgroundcolor": "#E5ECF6",
            "gridcolor": "white",
            "gridwidth": 2,
            "linecolor": "white",
            "showbackground": true,
            "ticks": "",
            "zerolinecolor": "white"
           }
          },
          "shapedefaults": {
           "line": {
            "color": "#2a3f5f"
           }
          },
          "ternary": {
           "aaxis": {
            "gridcolor": "white",
            "linecolor": "white",
            "ticks": ""
           },
           "baxis": {
            "gridcolor": "white",
            "linecolor": "white",
            "ticks": ""
           },
           "bgcolor": "#E5ECF6",
           "caxis": {
            "gridcolor": "white",
            "linecolor": "white",
            "ticks": ""
           }
          },
          "title": {
           "x": 0.05
          },
          "xaxis": {
           "automargin": true,
           "gridcolor": "white",
           "linecolor": "white",
           "ticks": "",
           "title": {
            "standoff": 15
           },
           "zerolinecolor": "white",
           "zerolinewidth": 2
          },
          "yaxis": {
           "automargin": true,
           "gridcolor": "white",
           "linecolor": "white",
           "ticks": "",
           "title": {
            "standoff": 15
           },
           "zerolinecolor": "white",
           "zerolinewidth": 2
          }
         }
        },
        "xaxis": {
         "anchor": "y",
         "domain": [
          0,
          1
         ],
         "title": {
          "text": "source_company"
         }
        },
        "yaxis": {
         "anchor": "x",
         "domain": [
          0,
          1
         ],
         "title": {
          "text": "count"
         }
        }
       }
      },
      "text/html": [
       "<div>\n",
       "        \n",
       "        \n",
       "            <div id=\"f2a76845-d2d5-4de6-b959-0259c4302ebf\" class=\"plotly-graph-div\" style=\"height:525px; width:100%;\"></div>\n",
       "            <script type=\"text/javascript\">\n",
       "                require([\"plotly\"], function(Plotly) {\n",
       "                    window.PLOTLYENV=window.PLOTLYENV || {};\n",
       "                    \n",
       "                if (document.getElementById(\"f2a76845-d2d5-4de6-b959-0259c4302ebf\")) {\n",
       "                    Plotly.newPlot(\n",
       "                        'f2a76845-d2d5-4de6-b959-0259c4302ebf',\n",
       "                        [{\"alignmentgroup\": \"True\", \"bingroup\": \"x\", \"hovertemplate\": \"source_company=%{x}<br>count=%{y}<extra></extra>\", \"legendgroup\": \"\", \"marker\": {\"color\": \"#636efa\"}, \"name\": \"\", \"offsetgroup\": \"\", \"orientation\": \"v\", \"showlegend\": false, \"type\": \"histogram\", \"x\": [\"IBM\", \"IBM\", \"IBM\", \"IBM\", \"IBM\", \"IBM\", \"IBM\", \"IBM\", \"IBM\", \"IBM\", \"IBM\", \"IBM\", \"IBM\", \"IBM\", \"IBM\", \"IBM\", \"IBM\", \"IBM\", \"IBM\", \"IBM\", \"IBM\", \"IBM\", \"Splunk\", \"Splunk\", \"Splunk\", \"Splunk\", \"Splunk\", \"Splunk\", \"Splunk\", \"Splunk\", \"Splunk\", \"Splunk\", \"Splunk\", \"Splunk\", \"Splunk\", \"Splunk\", \"Splunk\", \"Splunk\", \"Splunk\", \"Splunk\", \"Splunk\", \"Splunk\", \"Splunk\", \"Splunk\", \"Splunk\", \"Splunk\", \"Splunk\", \"Splunk\", \"Splunk\", \"Splunk\", \"Splunk\", \"Splunk\", \"Splunk\", \"Splunk\", \"Splunk\", \"Splunk\", \"Splunk\", \"Splunk\", \"Splunk\", \"Splunk\", \"Splunk\", \"Splunk\", \"Splunk\", \"Splunk\", \"Splunk\", \"Splunk\", \"Splunk\", \"Splunk\", \"Microsoft\", \"Microsoft\", \"Microsoft\", \"Microsoft\", \"Microsoft\", \"Microsoft\", \"Microsoft\", \"Microsoft\", \"Microsoft\", \"Microsoft\", \"Microsoft\", \"Microsoft\", \"Microsoft\", \"Microsoft\", \"Microsoft\", \"Microsoft\", \"Microsoft\", \"Microsoft\", \"Microsoft\", \"Microsoft\", \"Microsoft\", \"Microsoft\", \"Microsoft\", \"Microsoft\", \"Microsoft\", \"Microsoft\", \"Microsoft\", \"Microsoft\", \"Microsoft\", \"Microsoft\", \"Microsoft\", \"Microsoft\", \"Microsoft\", \"Microsoft\", \"Microsoft\", \"Microsoft\", \"Microsoft\", \"Microsoft\", \"Microsoft\", \"Microsoft\", \"Microsoft\", \"Microsoft\", \"Microsoft\", \"Microsoft\", \"Microsoft\", \"Microsoft\", \"Microsoft\", \"Microsoft\", \"Microsoft\", \"Microsoft\", \"Microsoft\", \"Microsoft\", \"Microsoft\", \"Microsoft\", \"Microsoft\", \"Microsoft\", \"Microsoft\", \"Microsoft\", \"Microsoft\", \"Microsoft\", \"Microsoft\", \"Microsoft\", \"Microsoft\", \"Microsoft\", \"Microsoft\", \"Microsoft\", \"Microsoft\", \"Microsoft\", \"Microsoft\", \"Microsoft\", \"Microsoft\", \"Microsoft\", \"Microsoft\", \"Microsoft\", \"Microsoft\", \"Microsoft\", \"Microsoft\", \"Microsoft\", \"Microsoft\", \"Microsoft\", \"Microsoft\", \"Microsoft\", \"Microsoft\", \"Microsoft\", \"Microsoft\", \"Microsoft\", \"Microsoft\", \"Microsoft\", \"Microsoft\", \"Microsoft\", \"Microsoft\", \"Microsoft\", \"Microsoft\", \"Microsoft\", \"Microsoft\", \"Microsoft\", \"Microsoft\", \"Microsoft\", \"Microsoft\", \"Microsoft\", \"Microsoft\", \"Microsoft\", \"Microsoft\", \"Microsoft\", \"Microsoft\", \"Microsoft\", \"Microsoft\", \"Microsoft\", \"Microsoft\", \"Microsoft\", \"Microsoft\", \"Microsoft\", \"Microsoft\", \"Microsoft\", \"Microsoft\", \"Microsoft\", \"Facebook\", \"Facebook\", \"Facebook\", \"Facebook\", \"Facebook\", \"Square\", \"Square\", \"Square\", \"Square\", \"Square\", \"Square\", \"Square\", \"Square\", \"Square\", \"Square\", \"Square\", \"Square\", \"Square\", \"Square\", \"Square\", \"Square\", \"Square\", \"Square\", \"Square\", \"Square\", \"Square\", \"Square\", \"Square\", \"Square\", \"Square\", \"Square\", \"Square\", \"Square\", \"Square\", \"Square\", \"Square\", \"Square\", \"Square\", \"Square\", \"Square\", \"Square\", \"Square\", \"Square\", \"Square\", \"Square\", \"Square\", \"Square\", \"Square\", \"Square\", \"Square\", \"Square\", \"Square\", \"Square\", \"Square\", \"Square\", \"Square\", \"Square\", \"Square\", \"Square\", \"Square\", \"Square\", \"Square\", \"Square\", \"Square\", \"Square\", \"Square\", \"Square\", \"Square\", \"Square\", \"Square\", \"Square\", \"Square\", \"Square\", \"Square\", \"Square\", \"Square\", \"Square\", \"Square\", \"Amazon\", \"Amazon\", \"Amazon\", \"Amazon\", \"Amazon\", \"Amazon\", \"Amazon\", \"Amazon\", \"Amazon\", \"Amazon\", \"Amazon\", \"Amazon\", \"Amazon\", \"Amazon\", \"Amazon\", \"Amazon\", \"Amazon\", \"Amazon\", \"Amazon\", \"Amazon\", \"Amazon\", \"Amazon\", \"Amazon\", \"Amazon\", \"Amazon\", \"Amazon\", \"Amazon\", \"Amazon\", \"Amazon\", \"Amazon\", \"Amazon\", \"Amazon\", \"Google\", \"Google\", \"Google\", \"Google\", \"Google\", \"Google\", \"Google\", \"Google\", \"Google\", \"Google\", \"Google\", \"Google\", \"Google\", \"Google\", \"Google\", \"Google\", \"Google\", \"Google\", \"Google\", \"Google\", \"Google\", \"Google\", \"Google\", \"Google\", \"Google\", \"Google\", \"Google\", \"Google\", \"Google\", \"Google\", \"Google\", \"Google\", \"Google\", \"Google\", \"Google\", \"Google\", \"Google\", \"Google\", \"Coursera\", \"Coursera\", \"Coursera\", \"Coursera\", \"Coursera\", \"Coursera\", \"Coursera\", \"Coursera\", \"Coursera\", \"Coursera\", \"Coursera\", \"Coursera\", \"Coursera\", \"Coursera\", \"Coursera\", \"Coursera\"], \"xaxis\": \"x\", \"yaxis\": \"y\"}],\n",
       "                        {\"barmode\": \"relative\", \"legend\": {\"tracegroupgap\": 0}, \"margin\": {\"t\": 60}, \"template\": {\"data\": {\"bar\": [{\"error_x\": {\"color\": \"#2a3f5f\"}, \"error_y\": {\"color\": \"#2a3f5f\"}, \"marker\": {\"line\": {\"color\": \"#E5ECF6\", \"width\": 0.5}}, \"type\": \"bar\"}], \"barpolar\": [{\"marker\": {\"line\": {\"color\": \"#E5ECF6\", \"width\": 0.5}}, \"type\": \"barpolar\"}], \"carpet\": [{\"aaxis\": {\"endlinecolor\": \"#2a3f5f\", \"gridcolor\": \"white\", \"linecolor\": \"white\", \"minorgridcolor\": \"white\", \"startlinecolor\": \"#2a3f5f\"}, \"baxis\": {\"endlinecolor\": \"#2a3f5f\", \"gridcolor\": \"white\", \"linecolor\": \"white\", \"minorgridcolor\": \"white\", \"startlinecolor\": \"#2a3f5f\"}, \"type\": \"carpet\"}], \"choropleth\": [{\"colorbar\": {\"outlinewidth\": 0, \"ticks\": \"\"}, \"type\": \"choropleth\"}], \"contour\": [{\"colorbar\": {\"outlinewidth\": 0, \"ticks\": \"\"}, \"colorscale\": [[0.0, \"#0d0887\"], [0.1111111111111111, \"#46039f\"], [0.2222222222222222, \"#7201a8\"], [0.3333333333333333, \"#9c179e\"], [0.4444444444444444, \"#bd3786\"], [0.5555555555555556, \"#d8576b\"], [0.6666666666666666, \"#ed7953\"], [0.7777777777777778, \"#fb9f3a\"], [0.8888888888888888, \"#fdca26\"], [1.0, \"#f0f921\"]], \"type\": \"contour\"}], \"contourcarpet\": [{\"colorbar\": {\"outlinewidth\": 0, \"ticks\": \"\"}, \"type\": \"contourcarpet\"}], \"heatmap\": [{\"colorbar\": {\"outlinewidth\": 0, \"ticks\": \"\"}, \"colorscale\": [[0.0, \"#0d0887\"], [0.1111111111111111, \"#46039f\"], [0.2222222222222222, \"#7201a8\"], [0.3333333333333333, \"#9c179e\"], [0.4444444444444444, \"#bd3786\"], [0.5555555555555556, \"#d8576b\"], [0.6666666666666666, \"#ed7953\"], [0.7777777777777778, \"#fb9f3a\"], [0.8888888888888888, \"#fdca26\"], [1.0, \"#f0f921\"]], \"type\": \"heatmap\"}], \"heatmapgl\": [{\"colorbar\": {\"outlinewidth\": 0, \"ticks\": \"\"}, \"colorscale\": [[0.0, \"#0d0887\"], [0.1111111111111111, \"#46039f\"], [0.2222222222222222, \"#7201a8\"], [0.3333333333333333, \"#9c179e\"], [0.4444444444444444, \"#bd3786\"], [0.5555555555555556, \"#d8576b\"], [0.6666666666666666, \"#ed7953\"], [0.7777777777777778, \"#fb9f3a\"], [0.8888888888888888, \"#fdca26\"], [1.0, \"#f0f921\"]], \"type\": \"heatmapgl\"}], \"histogram\": [{\"marker\": {\"colorbar\": {\"outlinewidth\": 0, \"ticks\": \"\"}}, \"type\": \"histogram\"}], \"histogram2d\": [{\"colorbar\": {\"outlinewidth\": 0, \"ticks\": \"\"}, \"colorscale\": [[0.0, \"#0d0887\"], [0.1111111111111111, \"#46039f\"], [0.2222222222222222, \"#7201a8\"], [0.3333333333333333, \"#9c179e\"], [0.4444444444444444, \"#bd3786\"], [0.5555555555555556, \"#d8576b\"], [0.6666666666666666, \"#ed7953\"], [0.7777777777777778, \"#fb9f3a\"], [0.8888888888888888, \"#fdca26\"], [1.0, \"#f0f921\"]], \"type\": \"histogram2d\"}], \"histogram2dcontour\": [{\"colorbar\": {\"outlinewidth\": 0, \"ticks\": \"\"}, \"colorscale\": [[0.0, \"#0d0887\"], [0.1111111111111111, \"#46039f\"], [0.2222222222222222, \"#7201a8\"], [0.3333333333333333, \"#9c179e\"], [0.4444444444444444, \"#bd3786\"], [0.5555555555555556, \"#d8576b\"], [0.6666666666666666, \"#ed7953\"], [0.7777777777777778, \"#fb9f3a\"], [0.8888888888888888, \"#fdca26\"], [1.0, \"#f0f921\"]], \"type\": \"histogram2dcontour\"}], \"mesh3d\": [{\"colorbar\": {\"outlinewidth\": 0, \"ticks\": \"\"}, \"type\": \"mesh3d\"}], \"parcoords\": [{\"line\": {\"colorbar\": {\"outlinewidth\": 0, \"ticks\": \"\"}}, \"type\": \"parcoords\"}], \"pie\": [{\"automargin\": true, \"type\": \"pie\"}], \"scatter\": [{\"marker\": {\"colorbar\": {\"outlinewidth\": 0, \"ticks\": \"\"}}, \"type\": \"scatter\"}], \"scatter3d\": [{\"line\": {\"colorbar\": {\"outlinewidth\": 0, \"ticks\": \"\"}}, \"marker\": {\"colorbar\": {\"outlinewidth\": 0, \"ticks\": \"\"}}, \"type\": \"scatter3d\"}], \"scattercarpet\": [{\"marker\": {\"colorbar\": {\"outlinewidth\": 0, \"ticks\": \"\"}}, \"type\": \"scattercarpet\"}], \"scattergeo\": [{\"marker\": {\"colorbar\": {\"outlinewidth\": 0, \"ticks\": \"\"}}, \"type\": \"scattergeo\"}], \"scattergl\": [{\"marker\": {\"colorbar\": {\"outlinewidth\": 0, \"ticks\": \"\"}}, \"type\": \"scattergl\"}], \"scattermapbox\": [{\"marker\": {\"colorbar\": {\"outlinewidth\": 0, \"ticks\": \"\"}}, \"type\": \"scattermapbox\"}], \"scatterpolar\": [{\"marker\": {\"colorbar\": {\"outlinewidth\": 0, \"ticks\": \"\"}}, \"type\": \"scatterpolar\"}], \"scatterpolargl\": [{\"marker\": {\"colorbar\": {\"outlinewidth\": 0, \"ticks\": \"\"}}, \"type\": \"scatterpolargl\"}], \"scatterternary\": [{\"marker\": {\"colorbar\": {\"outlinewidth\": 0, \"ticks\": \"\"}}, \"type\": \"scatterternary\"}], \"surface\": [{\"colorbar\": {\"outlinewidth\": 0, \"ticks\": \"\"}, \"colorscale\": [[0.0, \"#0d0887\"], [0.1111111111111111, \"#46039f\"], [0.2222222222222222, \"#7201a8\"], [0.3333333333333333, \"#9c179e\"], [0.4444444444444444, \"#bd3786\"], [0.5555555555555556, \"#d8576b\"], [0.6666666666666666, \"#ed7953\"], [0.7777777777777778, \"#fb9f3a\"], [0.8888888888888888, \"#fdca26\"], [1.0, \"#f0f921\"]], \"type\": \"surface\"}], \"table\": [{\"cells\": {\"fill\": {\"color\": \"#EBF0F8\"}, \"line\": {\"color\": \"white\"}}, \"header\": {\"fill\": {\"color\": \"#C8D4E3\"}, \"line\": {\"color\": \"white\"}}, \"type\": \"table\"}]}, \"layout\": {\"annotationdefaults\": {\"arrowcolor\": \"#2a3f5f\", \"arrowhead\": 0, \"arrowwidth\": 1}, \"coloraxis\": {\"colorbar\": {\"outlinewidth\": 0, \"ticks\": \"\"}}, \"colorscale\": {\"diverging\": [[0, \"#8e0152\"], [0.1, \"#c51b7d\"], [0.2, \"#de77ae\"], [0.3, \"#f1b6da\"], [0.4, \"#fde0ef\"], [0.5, \"#f7f7f7\"], [0.6, \"#e6f5d0\"], [0.7, \"#b8e186\"], [0.8, \"#7fbc41\"], [0.9, \"#4d9221\"], [1, \"#276419\"]], \"sequential\": [[0.0, \"#0d0887\"], [0.1111111111111111, \"#46039f\"], [0.2222222222222222, \"#7201a8\"], [0.3333333333333333, \"#9c179e\"], [0.4444444444444444, \"#bd3786\"], [0.5555555555555556, \"#d8576b\"], [0.6666666666666666, \"#ed7953\"], [0.7777777777777778, \"#fb9f3a\"], [0.8888888888888888, \"#fdca26\"], [1.0, \"#f0f921\"]], \"sequentialminus\": [[0.0, \"#0d0887\"], [0.1111111111111111, \"#46039f\"], [0.2222222222222222, \"#7201a8\"], [0.3333333333333333, \"#9c179e\"], [0.4444444444444444, \"#bd3786\"], [0.5555555555555556, \"#d8576b\"], [0.6666666666666666, \"#ed7953\"], [0.7777777777777778, \"#fb9f3a\"], [0.8888888888888888, \"#fdca26\"], [1.0, \"#f0f921\"]]}, \"colorway\": [\"#636efa\", \"#EF553B\", \"#00cc96\", \"#ab63fa\", \"#FFA15A\", \"#19d3f3\", \"#FF6692\", \"#B6E880\", \"#FF97FF\", \"#FECB52\"], \"font\": {\"color\": \"#2a3f5f\"}, \"geo\": {\"bgcolor\": \"white\", \"lakecolor\": \"white\", \"landcolor\": \"#E5ECF6\", \"showlakes\": true, \"showland\": true, \"subunitcolor\": \"white\"}, \"hoverlabel\": {\"align\": \"left\"}, \"hovermode\": \"closest\", \"mapbox\": {\"style\": \"light\"}, \"paper_bgcolor\": \"white\", \"plot_bgcolor\": \"#E5ECF6\", \"polar\": {\"angularaxis\": {\"gridcolor\": \"white\", \"linecolor\": \"white\", \"ticks\": \"\"}, \"bgcolor\": \"#E5ECF6\", \"radialaxis\": {\"gridcolor\": \"white\", \"linecolor\": \"white\", \"ticks\": \"\"}}, \"scene\": {\"xaxis\": {\"backgroundcolor\": \"#E5ECF6\", \"gridcolor\": \"white\", \"gridwidth\": 2, \"linecolor\": \"white\", \"showbackground\": true, \"ticks\": \"\", \"zerolinecolor\": \"white\"}, \"yaxis\": {\"backgroundcolor\": \"#E5ECF6\", \"gridcolor\": \"white\", \"gridwidth\": 2, \"linecolor\": \"white\", \"showbackground\": true, \"ticks\": \"\", \"zerolinecolor\": \"white\"}, \"zaxis\": {\"backgroundcolor\": \"#E5ECF6\", \"gridcolor\": \"white\", \"gridwidth\": 2, \"linecolor\": \"white\", \"showbackground\": true, \"ticks\": \"\", \"zerolinecolor\": \"white\"}}, \"shapedefaults\": {\"line\": {\"color\": \"#2a3f5f\"}}, \"ternary\": {\"aaxis\": {\"gridcolor\": \"white\", \"linecolor\": \"white\", \"ticks\": \"\"}, \"baxis\": {\"gridcolor\": \"white\", \"linecolor\": \"white\", \"ticks\": \"\"}, \"bgcolor\": \"#E5ECF6\", \"caxis\": {\"gridcolor\": \"white\", \"linecolor\": \"white\", \"ticks\": \"\"}}, \"title\": {\"x\": 0.05}, \"xaxis\": {\"automargin\": true, \"gridcolor\": \"white\", \"linecolor\": \"white\", \"ticks\": \"\", \"title\": {\"standoff\": 15}, \"zerolinecolor\": \"white\", \"zerolinewidth\": 2}, \"yaxis\": {\"automargin\": true, \"gridcolor\": \"white\", \"linecolor\": \"white\", \"ticks\": \"\", \"title\": {\"standoff\": 15}, \"zerolinecolor\": \"white\", \"zerolinewidth\": 2}}}, \"xaxis\": {\"anchor\": \"y\", \"domain\": [0.0, 1.0], \"title\": {\"text\": \"source_company\"}}, \"yaxis\": {\"anchor\": \"x\", \"domain\": [0.0, 1.0], \"title\": {\"text\": \"count\"}}},\n",
       "                        {\"responsive\": true}\n",
       "                    ).then(function(){\n",
       "                            \n",
       "var gd = document.getElementById('f2a76845-d2d5-4de6-b959-0259c4302ebf');\n",
       "var x = new MutationObserver(function (mutations, observer) {{\n",
       "        var display = window.getComputedStyle(gd).display;\n",
       "        if (!display || display === 'none') {{\n",
       "            console.log([gd, 'removed!']);\n",
       "            Plotly.purge(gd);\n",
       "            observer.disconnect();\n",
       "        }}\n",
       "}});\n",
       "\n",
       "// Listen for the removal of the full notebook cells\n",
       "var notebookContainer = gd.closest('#notebook-container');\n",
       "if (notebookContainer) {{\n",
       "    x.observe(notebookContainer, {childList: true});\n",
       "}}\n",
       "\n",
       "// Listen for the clearing of the current output cell\n",
       "var outputEl = gd.closest('.output');\n",
       "if (outputEl) {{\n",
       "    x.observe(outputEl, {childList: true});\n",
       "}}\n",
       "\n",
       "                        })\n",
       "                };\n",
       "                });\n",
       "            </script>\n",
       "        </div>"
      ]
     },
     "metadata": {},
     "output_type": "display_data"
    }
   ],
   "source": [
    "import plotly.express as px\n",
    "\n",
    "fig = px.histogram(customer_success, x=\"source_company\")\n",
    "fig.show()"
   ]
  },
  {
   "cell_type": "code",
   "execution_count": 173,
   "metadata": {},
   "outputs": [
    {
     "data": {
      "application/vnd.plotly.v1+json": {
       "config": {
        "plotlyServerURL": "https://plot.ly"
       },
       "data": [
        {
         "alignmentgroup": "True",
         "bingroup": "x",
         "hovertemplate": "major_bachelors=%{x}<br>count=%{y}<extra></extra>",
         "legendgroup": "",
         "marker": {
          "color": "#636efa"
         },
         "name": "",
         "offsetgroup": "",
         "orientation": "v",
         "showlegend": false,
         "type": "histogram",
         "x": [
          "Information Management --Magna Cum Laude",
          "Business Administration and Computer Science",
          "Economics",
          "Computer Science",
          "Business Administration",
          "Interpersonal Communication",
          "Computer Science",
          "International Business Administration",
          "Economics and Religion",
          "Major:  Management Information Systems, Minor: Computer Science",
          "Business/MIS",
          null,
          null,
          "Humanities",
          "Computer Science and Engineering",
          "Bachelor of Arts in Political Science",
          "Computer Science",
          "Bachelor of Arts in Business Economics",
          "Biology",
          null,
          "Business Administration",
          "Communication And Marketing",
          "Business Administration and Management, General",
          "Information Communication Technology",
          "Entrepreneurship & Business Strategy, Operations Management",
          null,
          "Structural Engineering",
          null,
          null,
          null,
          null,
          null,
          "Environmental Studies",
          "Information Technology",
          "B.S. in Computer Science",
          "Finance",
          null,
          null,
          null,
          "Communications",
          "Computer Science",
          "Agricultural and Biological Engineering",
          "BA in Finance",
          null,
          "Double Major in Economics and Political Science",
          "Computing in Business",
          "Systems Engineering",
          "International Relations and Affairs",
          "Computer Science and Engineering",
          "Computer Networking and Security",
          null,
          "Information Technology",
          "Finance and Financial Management Services, Legal Studies",
          "Communication and Media Studies",
          "Sociology",
          "Information Systems",
          "Mathematics, Art Studio Design - Minor",
          null,
          "Computer Science and Information Systems",
          "Technology Management",
          "Mathematics and Computer Science",
          null,
          null,
          "Philosophy",
          null,
          "BA in English Language",
          null,
          null,
          null,
          null,
          "Electrical & Electronics Engineering",
          "Media Arts",
          null,
          null,
          null,
          "Computer Science",
          "Economics",
          "Economics - Marketing",
          "Industrial Psychology",
          null,
          null,
          null,
          null,
          null,
          "Business and IT",
          "Business and Computer Science",
          "Economics and Business Administration",
          null,
          null,
          "Communications Engineering",
          "Management Science & Engineering",
          null,
          "Accounting and Finance",
          "Human Nutrition",
          "Business Administration and Management, General",
          "Diploma in Mechanical Engineering",
          "Mathematics and Computer Science",
          "Computer Information Systems",
          null,
          null,
          null,
          "Journalism",
          "Information Systems, General",
          "Computer Science",
          null,
          "Geographic Information Systems",
          null,
          "Communication Studies, Specialized in PR and Journalism",
          "Philosophy",
          "Business Information Systems",
          null,
          "Mechanical Engineering",
          "Information Systems",
          "Marketing, Business",
          null,
          "Special Education",
          "Information Technology",
          "Information Technology",
          "Legal Studies and Sociology",
          "Industrial Engineering",
          "Mechanical Engineering",
          "Marketing",
          null,
          null,
          "Management and Economics",
          "Mathematics & Economics (Double Major)",
          "Computer Engineering",
          null,
          null,
          "Accounting and Finance",
          "Lady Shri Ram College",
          null,
          "Electrical and Electronics Engineering",
          null,
          "スペイン語 / Spanish",
          "Marketing",
          "Bachelor of Science in Business Administration",
          null,
          "Organizational Studies",
          null,
          "Television and Film",
          null,
          null,
          "Strategy and International Business",
          "Economics",
          null,
          null,
          "BS in Computer Information Systems and Management",
          "2001",
          "English",
          null,
          "Business Administration",
          "Industrial Engineering",
          "Computer Science",
          "Computer Science & Engineering",
          "Linguistics, English and German literature",
          "Education and Minor in French",
          "Electronics and Telecommunications",
          null,
          "International Business/Japanese dual major",
          "Management, Marketing, Business Strategy",
          "Marketing, , Minor in Information Systems",
          null,
          "Management Information Systems, General",
          "Bachelor's",
          null,
          "Computer Science & Engineering",
          "Bus Admin/ Finance",
          null,
          null,
          "Business Administration, Economics and Management",
          null,
          "Statistics, Mathematics, Physics",
          "Marketing",
          "Telecommunications Management",
          "Corporate Communications",
          "Business Administration, MIS",
          null,
          "Accountancy",
          "Chemistry",
          null,
          "Electronics & Electrical Engineering",
          null,
          "Political Science",
          "BS in Marketing",
          null,
          "Maths and Computer Science",
          "English",
          null,
          "Anthropology",
          "Business and Management Systems",
          "Human Resources Management",
          "Acting",
          "Psychology",
          "Registered Nursing/Registered Nurse",
          null,
          "Communications; Advertising / Public relations",
          "International Studies",
          "Digital Cinema, Screenwriting Concentration",
          "Computer Graphics",
          "Middle Eastern and North African Studies, Arabic",
          "International Relations Global Business",
          "Mass Communication/Media Studies",
          "Sociology",
          null,
          "Law",
          "Clinical Concentration",
          "Journalism",
          null,
          "Marketing",
          null,
          null,
          "Business Administration and Management, General",
          "Communication: Public, Professional, and Organizational",
          "Environmental Policy and Planning - Minor: Building Construction",
          null,
          null,
          null,
          "Major: Business Marketing",
          "Psychology",
          "Business Administration and Management, General",
          "Health Services Administration; Minors in Public Health, Business, and Music Studies",
          "Communication",
          null,
          "Finance",
          null,
          "Organizational Communication",
          "International Relations",
          "Gender, Queer, and Sexuality Studies",
          null,
          null,
          "Theatre/Theater",
          "Bachelor of Art B.A., Communications-Film & Media Arts",
          null,
          "Spanish Language and Literature; Latin American Studies; Communication",
          "Mathematics and Statistics",
          null,
          "Bachelor of Arts in Marketing & Sales Essentials",
          null,
          null,
          "Fashion Merchandising",
          null,
          "Economics",
          "Philosophy",
          "Biology and Communication",
          "Political Science and Government",
          null,
          "Urban Affairs & Public Administration",
          "Criminal Justice/Law Enforcement Administration",
          "Communication and Media Studies",
          "English: Creative Writing, Communications",
          "Behavioral Sciences",
          "Photography",
          "Bachelor's in Communications",
          "Organizational Leadership and Rehabilitation Services",
          null,
          null,
          "Multi/Interdisciplinary Studies",
          null,
          null,
          null,
          "Economics, Public Policy",
          "Communications",
          "Psychology",
          "Art History, Medieval Art",
          "Hospitality Business Management",
          null,
          "Psychology",
          "Mass Communications",
          "B.A. in Business Administration",
          "Spanish Language and Literature",
          "Communications",
          "English Literature (British and Commonwealth)",
          "Economics and Political Science",
          "Psychology",
          "Global Studies & Business Management",
          "Finance, General",
          null,
          "Business/Managerial Economics",
          "International Business",
          null,
          "Government & Politics / French",
          null,
          "Management Information Systems",
          "Accountancy",
          null,
          null,
          null,
          null,
          "2003 - 2007",
          "Business Administration and Management, General",
          null,
          "E-Business",
          "Strategic Communications",
          "Communications and Business Administration",
          null,
          "Environmental Studies & Politics Minor",
          null,
          null,
          "Instrumentation",
          "Economics, Law & Ethics, English",
          "Marketing",
          "Psychology with a minor in Mathematics",
          null,
          "Swedish",
          "Economics & Business Management",
          "Electrical and Electronics Engineering",
          "Computers",
          "Aerospace Engineering",
          null,
          "Computer Science",
          "Computer Science",
          "Business, Management, Marketing, and Related Support Services",
          "Communication",
          "Sociology",
          "Finance, General",
          "Bachelor of Science in Economics",
          "Socio-cultural Anthropology, Economics",
          "Marketing",
          null,
          null,
          "Psychological and Brain Sciences",
          "Communications",
          null,
          null,
          "Computer Science",
          "Marketing/Management",
          null,
          "Economics, B.A., International Relations",
          "University of Mumbai",
          "Management, Spanish minor",
          "Systems Engineering",
          null,
          "Commerce Maj. Accounting",
          "Behavioral Sciences",
          null,
          null,
          "Mechanical Engineering",
          null,
          "International Relations and Affairs",
          null,
          "English Studies",
          null,
          "Economics",
          "International Business, Finance, Management, Marketing",
          null,
          "Gender Studies",
          "Communications and Marketing"
         ],
         "xaxis": "x",
         "yaxis": "y"
        }
       ],
       "layout": {
        "barmode": "relative",
        "legend": {
         "tracegroupgap": 0
        },
        "margin": {
         "t": 60
        },
        "template": {
         "data": {
          "bar": [
           {
            "error_x": {
             "color": "#2a3f5f"
            },
            "error_y": {
             "color": "#2a3f5f"
            },
            "marker": {
             "line": {
              "color": "#E5ECF6",
              "width": 0.5
             }
            },
            "type": "bar"
           }
          ],
          "barpolar": [
           {
            "marker": {
             "line": {
              "color": "#E5ECF6",
              "width": 0.5
             }
            },
            "type": "barpolar"
           }
          ],
          "carpet": [
           {
            "aaxis": {
             "endlinecolor": "#2a3f5f",
             "gridcolor": "white",
             "linecolor": "white",
             "minorgridcolor": "white",
             "startlinecolor": "#2a3f5f"
            },
            "baxis": {
             "endlinecolor": "#2a3f5f",
             "gridcolor": "white",
             "linecolor": "white",
             "minorgridcolor": "white",
             "startlinecolor": "#2a3f5f"
            },
            "type": "carpet"
           }
          ],
          "choropleth": [
           {
            "colorbar": {
             "outlinewidth": 0,
             "ticks": ""
            },
            "type": "choropleth"
           }
          ],
          "contour": [
           {
            "colorbar": {
             "outlinewidth": 0,
             "ticks": ""
            },
            "colorscale": [
             [
              0,
              "#0d0887"
             ],
             [
              0.1111111111111111,
              "#46039f"
             ],
             [
              0.2222222222222222,
              "#7201a8"
             ],
             [
              0.3333333333333333,
              "#9c179e"
             ],
             [
              0.4444444444444444,
              "#bd3786"
             ],
             [
              0.5555555555555556,
              "#d8576b"
             ],
             [
              0.6666666666666666,
              "#ed7953"
             ],
             [
              0.7777777777777778,
              "#fb9f3a"
             ],
             [
              0.8888888888888888,
              "#fdca26"
             ],
             [
              1,
              "#f0f921"
             ]
            ],
            "type": "contour"
           }
          ],
          "contourcarpet": [
           {
            "colorbar": {
             "outlinewidth": 0,
             "ticks": ""
            },
            "type": "contourcarpet"
           }
          ],
          "heatmap": [
           {
            "colorbar": {
             "outlinewidth": 0,
             "ticks": ""
            },
            "colorscale": [
             [
              0,
              "#0d0887"
             ],
             [
              0.1111111111111111,
              "#46039f"
             ],
             [
              0.2222222222222222,
              "#7201a8"
             ],
             [
              0.3333333333333333,
              "#9c179e"
             ],
             [
              0.4444444444444444,
              "#bd3786"
             ],
             [
              0.5555555555555556,
              "#d8576b"
             ],
             [
              0.6666666666666666,
              "#ed7953"
             ],
             [
              0.7777777777777778,
              "#fb9f3a"
             ],
             [
              0.8888888888888888,
              "#fdca26"
             ],
             [
              1,
              "#f0f921"
             ]
            ],
            "type": "heatmap"
           }
          ],
          "heatmapgl": [
           {
            "colorbar": {
             "outlinewidth": 0,
             "ticks": ""
            },
            "colorscale": [
             [
              0,
              "#0d0887"
             ],
             [
              0.1111111111111111,
              "#46039f"
             ],
             [
              0.2222222222222222,
              "#7201a8"
             ],
             [
              0.3333333333333333,
              "#9c179e"
             ],
             [
              0.4444444444444444,
              "#bd3786"
             ],
             [
              0.5555555555555556,
              "#d8576b"
             ],
             [
              0.6666666666666666,
              "#ed7953"
             ],
             [
              0.7777777777777778,
              "#fb9f3a"
             ],
             [
              0.8888888888888888,
              "#fdca26"
             ],
             [
              1,
              "#f0f921"
             ]
            ],
            "type": "heatmapgl"
           }
          ],
          "histogram": [
           {
            "marker": {
             "colorbar": {
              "outlinewidth": 0,
              "ticks": ""
             }
            },
            "type": "histogram"
           }
          ],
          "histogram2d": [
           {
            "colorbar": {
             "outlinewidth": 0,
             "ticks": ""
            },
            "colorscale": [
             [
              0,
              "#0d0887"
             ],
             [
              0.1111111111111111,
              "#46039f"
             ],
             [
              0.2222222222222222,
              "#7201a8"
             ],
             [
              0.3333333333333333,
              "#9c179e"
             ],
             [
              0.4444444444444444,
              "#bd3786"
             ],
             [
              0.5555555555555556,
              "#d8576b"
             ],
             [
              0.6666666666666666,
              "#ed7953"
             ],
             [
              0.7777777777777778,
              "#fb9f3a"
             ],
             [
              0.8888888888888888,
              "#fdca26"
             ],
             [
              1,
              "#f0f921"
             ]
            ],
            "type": "histogram2d"
           }
          ],
          "histogram2dcontour": [
           {
            "colorbar": {
             "outlinewidth": 0,
             "ticks": ""
            },
            "colorscale": [
             [
              0,
              "#0d0887"
             ],
             [
              0.1111111111111111,
              "#46039f"
             ],
             [
              0.2222222222222222,
              "#7201a8"
             ],
             [
              0.3333333333333333,
              "#9c179e"
             ],
             [
              0.4444444444444444,
              "#bd3786"
             ],
             [
              0.5555555555555556,
              "#d8576b"
             ],
             [
              0.6666666666666666,
              "#ed7953"
             ],
             [
              0.7777777777777778,
              "#fb9f3a"
             ],
             [
              0.8888888888888888,
              "#fdca26"
             ],
             [
              1,
              "#f0f921"
             ]
            ],
            "type": "histogram2dcontour"
           }
          ],
          "mesh3d": [
           {
            "colorbar": {
             "outlinewidth": 0,
             "ticks": ""
            },
            "type": "mesh3d"
           }
          ],
          "parcoords": [
           {
            "line": {
             "colorbar": {
              "outlinewidth": 0,
              "ticks": ""
             }
            },
            "type": "parcoords"
           }
          ],
          "pie": [
           {
            "automargin": true,
            "type": "pie"
           }
          ],
          "scatter": [
           {
            "marker": {
             "colorbar": {
              "outlinewidth": 0,
              "ticks": ""
             }
            },
            "type": "scatter"
           }
          ],
          "scatter3d": [
           {
            "line": {
             "colorbar": {
              "outlinewidth": 0,
              "ticks": ""
             }
            },
            "marker": {
             "colorbar": {
              "outlinewidth": 0,
              "ticks": ""
             }
            },
            "type": "scatter3d"
           }
          ],
          "scattercarpet": [
           {
            "marker": {
             "colorbar": {
              "outlinewidth": 0,
              "ticks": ""
             }
            },
            "type": "scattercarpet"
           }
          ],
          "scattergeo": [
           {
            "marker": {
             "colorbar": {
              "outlinewidth": 0,
              "ticks": ""
             }
            },
            "type": "scattergeo"
           }
          ],
          "scattergl": [
           {
            "marker": {
             "colorbar": {
              "outlinewidth": 0,
              "ticks": ""
             }
            },
            "type": "scattergl"
           }
          ],
          "scattermapbox": [
           {
            "marker": {
             "colorbar": {
              "outlinewidth": 0,
              "ticks": ""
             }
            },
            "type": "scattermapbox"
           }
          ],
          "scatterpolar": [
           {
            "marker": {
             "colorbar": {
              "outlinewidth": 0,
              "ticks": ""
             }
            },
            "type": "scatterpolar"
           }
          ],
          "scatterpolargl": [
           {
            "marker": {
             "colorbar": {
              "outlinewidth": 0,
              "ticks": ""
             }
            },
            "type": "scatterpolargl"
           }
          ],
          "scatterternary": [
           {
            "marker": {
             "colorbar": {
              "outlinewidth": 0,
              "ticks": ""
             }
            },
            "type": "scatterternary"
           }
          ],
          "surface": [
           {
            "colorbar": {
             "outlinewidth": 0,
             "ticks": ""
            },
            "colorscale": [
             [
              0,
              "#0d0887"
             ],
             [
              0.1111111111111111,
              "#46039f"
             ],
             [
              0.2222222222222222,
              "#7201a8"
             ],
             [
              0.3333333333333333,
              "#9c179e"
             ],
             [
              0.4444444444444444,
              "#bd3786"
             ],
             [
              0.5555555555555556,
              "#d8576b"
             ],
             [
              0.6666666666666666,
              "#ed7953"
             ],
             [
              0.7777777777777778,
              "#fb9f3a"
             ],
             [
              0.8888888888888888,
              "#fdca26"
             ],
             [
              1,
              "#f0f921"
             ]
            ],
            "type": "surface"
           }
          ],
          "table": [
           {
            "cells": {
             "fill": {
              "color": "#EBF0F8"
             },
             "line": {
              "color": "white"
             }
            },
            "header": {
             "fill": {
              "color": "#C8D4E3"
             },
             "line": {
              "color": "white"
             }
            },
            "type": "table"
           }
          ]
         },
         "layout": {
          "annotationdefaults": {
           "arrowcolor": "#2a3f5f",
           "arrowhead": 0,
           "arrowwidth": 1
          },
          "coloraxis": {
           "colorbar": {
            "outlinewidth": 0,
            "ticks": ""
           }
          },
          "colorscale": {
           "diverging": [
            [
             0,
             "#8e0152"
            ],
            [
             0.1,
             "#c51b7d"
            ],
            [
             0.2,
             "#de77ae"
            ],
            [
             0.3,
             "#f1b6da"
            ],
            [
             0.4,
             "#fde0ef"
            ],
            [
             0.5,
             "#f7f7f7"
            ],
            [
             0.6,
             "#e6f5d0"
            ],
            [
             0.7,
             "#b8e186"
            ],
            [
             0.8,
             "#7fbc41"
            ],
            [
             0.9,
             "#4d9221"
            ],
            [
             1,
             "#276419"
            ]
           ],
           "sequential": [
            [
             0,
             "#0d0887"
            ],
            [
             0.1111111111111111,
             "#46039f"
            ],
            [
             0.2222222222222222,
             "#7201a8"
            ],
            [
             0.3333333333333333,
             "#9c179e"
            ],
            [
             0.4444444444444444,
             "#bd3786"
            ],
            [
             0.5555555555555556,
             "#d8576b"
            ],
            [
             0.6666666666666666,
             "#ed7953"
            ],
            [
             0.7777777777777778,
             "#fb9f3a"
            ],
            [
             0.8888888888888888,
             "#fdca26"
            ],
            [
             1,
             "#f0f921"
            ]
           ],
           "sequentialminus": [
            [
             0,
             "#0d0887"
            ],
            [
             0.1111111111111111,
             "#46039f"
            ],
            [
             0.2222222222222222,
             "#7201a8"
            ],
            [
             0.3333333333333333,
             "#9c179e"
            ],
            [
             0.4444444444444444,
             "#bd3786"
            ],
            [
             0.5555555555555556,
             "#d8576b"
            ],
            [
             0.6666666666666666,
             "#ed7953"
            ],
            [
             0.7777777777777778,
             "#fb9f3a"
            ],
            [
             0.8888888888888888,
             "#fdca26"
            ],
            [
             1,
             "#f0f921"
            ]
           ]
          },
          "colorway": [
           "#636efa",
           "#EF553B",
           "#00cc96",
           "#ab63fa",
           "#FFA15A",
           "#19d3f3",
           "#FF6692",
           "#B6E880",
           "#FF97FF",
           "#FECB52"
          ],
          "font": {
           "color": "#2a3f5f"
          },
          "geo": {
           "bgcolor": "white",
           "lakecolor": "white",
           "landcolor": "#E5ECF6",
           "showlakes": true,
           "showland": true,
           "subunitcolor": "white"
          },
          "hoverlabel": {
           "align": "left"
          },
          "hovermode": "closest",
          "mapbox": {
           "style": "light"
          },
          "paper_bgcolor": "white",
          "plot_bgcolor": "#E5ECF6",
          "polar": {
           "angularaxis": {
            "gridcolor": "white",
            "linecolor": "white",
            "ticks": ""
           },
           "bgcolor": "#E5ECF6",
           "radialaxis": {
            "gridcolor": "white",
            "linecolor": "white",
            "ticks": ""
           }
          },
          "scene": {
           "xaxis": {
            "backgroundcolor": "#E5ECF6",
            "gridcolor": "white",
            "gridwidth": 2,
            "linecolor": "white",
            "showbackground": true,
            "ticks": "",
            "zerolinecolor": "white"
           },
           "yaxis": {
            "backgroundcolor": "#E5ECF6",
            "gridcolor": "white",
            "gridwidth": 2,
            "linecolor": "white",
            "showbackground": true,
            "ticks": "",
            "zerolinecolor": "white"
           },
           "zaxis": {
            "backgroundcolor": "#E5ECF6",
            "gridcolor": "white",
            "gridwidth": 2,
            "linecolor": "white",
            "showbackground": true,
            "ticks": "",
            "zerolinecolor": "white"
           }
          },
          "shapedefaults": {
           "line": {
            "color": "#2a3f5f"
           }
          },
          "ternary": {
           "aaxis": {
            "gridcolor": "white",
            "linecolor": "white",
            "ticks": ""
           },
           "baxis": {
            "gridcolor": "white",
            "linecolor": "white",
            "ticks": ""
           },
           "bgcolor": "#E5ECF6",
           "caxis": {
            "gridcolor": "white",
            "linecolor": "white",
            "ticks": ""
           }
          },
          "title": {
           "x": 0.05
          },
          "xaxis": {
           "automargin": true,
           "gridcolor": "white",
           "linecolor": "white",
           "ticks": "",
           "title": {
            "standoff": 15
           },
           "zerolinecolor": "white",
           "zerolinewidth": 2
          },
          "yaxis": {
           "automargin": true,
           "gridcolor": "white",
           "linecolor": "white",
           "ticks": "",
           "title": {
            "standoff": 15
           },
           "zerolinecolor": "white",
           "zerolinewidth": 2
          }
         }
        },
        "xaxis": {
         "anchor": "y",
         "domain": [
          0,
          1
         ],
         "title": {
          "text": "major_bachelors"
         }
        },
        "yaxis": {
         "anchor": "x",
         "domain": [
          0,
          1
         ],
         "title": {
          "text": "count"
         }
        }
       }
      },
      "text/html": [
       "<div>\n",
       "        \n",
       "        \n",
       "            <div id=\"966cb7be-5c26-4c55-a68e-1c10df204616\" class=\"plotly-graph-div\" style=\"height:525px; width:100%;\"></div>\n",
       "            <script type=\"text/javascript\">\n",
       "                require([\"plotly\"], function(Plotly) {\n",
       "                    window.PLOTLYENV=window.PLOTLYENV || {};\n",
       "                    \n",
       "                if (document.getElementById(\"966cb7be-5c26-4c55-a68e-1c10df204616\")) {\n",
       "                    Plotly.newPlot(\n",
       "                        '966cb7be-5c26-4c55-a68e-1c10df204616',\n",
       "                        [{\"alignmentgroup\": \"True\", \"bingroup\": \"x\", \"hovertemplate\": \"major_bachelors=%{x}<br>count=%{y}<extra></extra>\", \"legendgroup\": \"\", \"marker\": {\"color\": \"#636efa\"}, \"name\": \"\", \"offsetgroup\": \"\", \"orientation\": \"v\", \"showlegend\": false, \"type\": \"histogram\", \"x\": [\"Information Management --Magna Cum Laude\", \"Business Administration and Computer Science\", \"Economics\", \"Computer Science\", \"Business Administration\", \"Interpersonal Communication\", \"Computer Science\", \"International Business Administration\", \"Economics and Religion\", \"Major:  Management Information Systems, Minor: Computer Science\", \"Business/MIS\", null, null, \"Humanities\", \"Computer Science and Engineering\", \"Bachelor of Arts in Political Science\", \"Computer Science\", \"Bachelor of Arts in Business Economics\", \"Biology\", null, \"Business Administration\", \"Communication And Marketing\", \"Business Administration and Management, General\", \"Information Communication Technology\", \"Entrepreneurship & Business Strategy, Operations Management\", null, \"Structural Engineering\", null, null, null, null, null, \"Environmental Studies\", \"Information Technology\", \"B.S. in Computer Science\", \"Finance\", null, null, null, \"Communications\", \"Computer Science\", \"Agricultural and Biological Engineering\", \"BA in Finance\", null, \"Double Major in Economics and Political Science\", \"Computing in Business\", \"Systems Engineering\", \"International Relations and Affairs\", \"Computer Science and Engineering\", \"Computer Networking and Security\", null, \"Information Technology\", \"Finance and Financial Management Services, Legal Studies\", \"Communication and Media Studies\", \"Sociology\", \"Information Systems\", \"Mathematics, Art Studio Design - Minor\", null, \"Computer Science and Information Systems\", \"Technology Management\", \"Mathematics and Computer Science\", null, null, \"Philosophy\", null, \"BA in English Language\", null, null, null, null, \"Electrical & Electronics Engineering\", \"Media Arts\", null, null, null, \"Computer Science\", \"Economics\", \"Economics - Marketing\", \"Industrial Psychology\", null, null, null, null, null, \"Business and IT\", \"Business and Computer Science\", \"Economics and Business Administration\", null, null, \"Communications Engineering\", \"Management Science & Engineering\", null, \"Accounting and Finance\", \"Human Nutrition\", \"Business Administration and Management, General\", \"Diploma in Mechanical Engineering\", \"Mathematics and Computer Science\", \"Computer Information Systems\", null, null, null, \"Journalism\", \"Information Systems, General\", \"Computer Science\", null, \"Geographic Information Systems\", null, \"Communication Studies, Specialized in PR and Journalism\", \"Philosophy\", \"Business Information Systems\", null, \"Mechanical Engineering\", \"Information Systems\", \"Marketing, Business\", null, \"Special Education\", \"Information Technology\", \"Information Technology\", \"Legal Studies and Sociology\", \"Industrial Engineering\", \"Mechanical Engineering\", \"Marketing\", null, null, \"Management and Economics\", \"Mathematics & Economics (Double Major)\", \"Computer Engineering\", null, null, \"Accounting and Finance\", \"Lady Shri Ram College\", null, \"Electrical and Electronics Engineering\", null, \"\\u30b9\\u30da\\u30a4\\u30f3\\u8a9e / Spanish\", \"Marketing\", \"Bachelor of Science in Business Administration\", null, \"Organizational Studies\", null, \"Television and Film\", null, null, \"Strategy and International Business\", \"Economics\", null, null, \"BS in Computer Information Systems and Management\", \"2001\", \"English\", null, \"Business Administration\", \"Industrial Engineering\", \"Computer Science\", \"Computer Science & Engineering\", \"Linguistics, English and German literature\", \"Education and Minor in French\", \"Electronics and Telecommunications\", null, \"International Business/Japanese dual major\", \"Management, Marketing, Business Strategy\", \"Marketing, , Minor in Information Systems\", null, \"Management Information Systems, General\", \"Bachelor's\", null, \"Computer Science & Engineering\", \"Bus Admin/ Finance\", null, null, \"Business Administration, Economics and Management\", null, \"Statistics, Mathematics, Physics\", \"Marketing\", \"Telecommunications Management\", \"Corporate Communications\", \"Business Administration, MIS\", null, \"Accountancy\", \"Chemistry\", null, \"Electronics & Electrical Engineering\", null, \"Political Science\", \"BS in Marketing\", null, \"Maths and Computer Science\", \"English\", null, \"Anthropology\", \"Business and Management Systems\", \"Human Resources Management\", \"Acting\", \"Psychology\", \"Registered Nursing/Registered Nurse\", null, \"Communications; Advertising / Public relations\", \"International Studies\", \"Digital Cinema, Screenwriting Concentration\", \"Computer Graphics\", \"Middle Eastern and North African Studies, Arabic\", \"International Relations Global Business\", \"Mass Communication/Media Studies\", \"Sociology\", null, \"Law\", \"Clinical Concentration\", \"Journalism\", null, \"Marketing\", null, null, \"Business Administration and Management, General\", \"Communication: Public, Professional, and Organizational\", \"Environmental Policy and Planning - Minor: Building Construction\", null, null, null, \"Major: Business Marketing\", \"Psychology\", \"Business Administration and Management, General\", \"Health Services Administration; Minors in Public Health, Business, and Music Studies\", \"Communication\", null, \"Finance\", null, \"Organizational Communication\", \"International Relations\", \"Gender, Queer, and Sexuality Studies\", null, null, \"Theatre/Theater\", \"Bachelor of Art B.A., Communications-Film & Media Arts\", null, \"Spanish Language and Literature; Latin American Studies; Communication\", \"Mathematics and Statistics\", null, \"Bachelor of Arts in Marketing & Sales Essentials\", null, null, \"Fashion Merchandising\", null, \"Economics\", \"Philosophy\", \"Biology and Communication\", \"Political Science and Government\", null, \"Urban Affairs & Public Administration\", \"Criminal Justice/Law Enforcement Administration\", \"Communication and Media Studies\", \"English: Creative Writing, Communications\", \"Behavioral Sciences\", \"Photography\", \"Bachelor's in Communications\", \"Organizational Leadership and Rehabilitation Services\", null, null, \"Multi/Interdisciplinary Studies\", null, null, null, \"Economics, Public Policy\", \"Communications\", \"Psychology\", \"Art History, Medieval Art\", \"Hospitality Business Management\", null, \"Psychology\", \"Mass Communications\", \"B.A. in Business Administration\", \"Spanish Language and Literature\", \"Communications\", \"English Literature (British and Commonwealth)\", \"Economics and Political Science\", \"Psychology\", \"Global Studies & Business Management\", \"Finance, General\", null, \"Business/Managerial Economics\", \"International Business\", null, \"Government & Politics / French\", null, \"Management Information Systems\", \"Accountancy\", null, null, null, null, \"2003 - 2007\", \"Business Administration and Management, General\", null, \"E-Business\", \"Strategic Communications\", \"Communications and Business Administration\", null, \"Environmental Studies & Politics Minor\", null, null, \"Instrumentation\", \"Economics, Law & Ethics, English\", \"Marketing\", \"Psychology with a minor in Mathematics\", null, \"Swedish\", \"Economics & Business Management\", \"Electrical and Electronics Engineering\", \"Computers\", \"Aerospace Engineering\", null, \"Computer Science\", \"Computer Science\", \"Business, Management, Marketing, and Related Support Services\", \"Communication\", \"Sociology\", \"Finance, General\", \"Bachelor of Science in Economics\", \"Socio-cultural Anthropology, Economics\", \"Marketing\", null, null, \"Psychological and Brain Sciences\", \"Communications\", null, null, \"Computer Science\", \"Marketing/Management\", null, \"Economics, B.A., International Relations\", \"University of Mumbai\", \"Management, Spanish minor\", \"Systems Engineering\", null, \"Commerce Maj. Accounting\", \"Behavioral Sciences\", null, null, \"Mechanical Engineering\", null, \"International Relations and Affairs\", null, \"English Studies\", null, \"Economics\", \"International Business, Finance, Management, Marketing\", null, \"Gender Studies\", \"Communications and Marketing\"], \"xaxis\": \"x\", \"yaxis\": \"y\"}],\n",
       "                        {\"barmode\": \"relative\", \"legend\": {\"tracegroupgap\": 0}, \"margin\": {\"t\": 60}, \"template\": {\"data\": {\"bar\": [{\"error_x\": {\"color\": \"#2a3f5f\"}, \"error_y\": {\"color\": \"#2a3f5f\"}, \"marker\": {\"line\": {\"color\": \"#E5ECF6\", \"width\": 0.5}}, \"type\": \"bar\"}], \"barpolar\": [{\"marker\": {\"line\": {\"color\": \"#E5ECF6\", \"width\": 0.5}}, \"type\": \"barpolar\"}], \"carpet\": [{\"aaxis\": {\"endlinecolor\": \"#2a3f5f\", \"gridcolor\": \"white\", \"linecolor\": \"white\", \"minorgridcolor\": \"white\", \"startlinecolor\": \"#2a3f5f\"}, \"baxis\": {\"endlinecolor\": \"#2a3f5f\", \"gridcolor\": \"white\", \"linecolor\": \"white\", \"minorgridcolor\": \"white\", \"startlinecolor\": \"#2a3f5f\"}, \"type\": \"carpet\"}], \"choropleth\": [{\"colorbar\": {\"outlinewidth\": 0, \"ticks\": \"\"}, \"type\": \"choropleth\"}], \"contour\": [{\"colorbar\": {\"outlinewidth\": 0, \"ticks\": \"\"}, \"colorscale\": [[0.0, \"#0d0887\"], [0.1111111111111111, \"#46039f\"], [0.2222222222222222, \"#7201a8\"], [0.3333333333333333, \"#9c179e\"], [0.4444444444444444, \"#bd3786\"], [0.5555555555555556, \"#d8576b\"], [0.6666666666666666, \"#ed7953\"], [0.7777777777777778, \"#fb9f3a\"], [0.8888888888888888, \"#fdca26\"], [1.0, \"#f0f921\"]], \"type\": \"contour\"}], \"contourcarpet\": [{\"colorbar\": {\"outlinewidth\": 0, \"ticks\": \"\"}, \"type\": \"contourcarpet\"}], \"heatmap\": [{\"colorbar\": {\"outlinewidth\": 0, \"ticks\": \"\"}, \"colorscale\": [[0.0, \"#0d0887\"], [0.1111111111111111, \"#46039f\"], [0.2222222222222222, \"#7201a8\"], [0.3333333333333333, \"#9c179e\"], [0.4444444444444444, \"#bd3786\"], [0.5555555555555556, \"#d8576b\"], [0.6666666666666666, \"#ed7953\"], [0.7777777777777778, \"#fb9f3a\"], [0.8888888888888888, \"#fdca26\"], [1.0, \"#f0f921\"]], \"type\": \"heatmap\"}], \"heatmapgl\": [{\"colorbar\": {\"outlinewidth\": 0, \"ticks\": \"\"}, \"colorscale\": [[0.0, \"#0d0887\"], [0.1111111111111111, \"#46039f\"], [0.2222222222222222, \"#7201a8\"], [0.3333333333333333, \"#9c179e\"], [0.4444444444444444, \"#bd3786\"], [0.5555555555555556, \"#d8576b\"], [0.6666666666666666, \"#ed7953\"], [0.7777777777777778, \"#fb9f3a\"], [0.8888888888888888, \"#fdca26\"], [1.0, \"#f0f921\"]], \"type\": \"heatmapgl\"}], \"histogram\": [{\"marker\": {\"colorbar\": {\"outlinewidth\": 0, \"ticks\": \"\"}}, \"type\": \"histogram\"}], \"histogram2d\": [{\"colorbar\": {\"outlinewidth\": 0, \"ticks\": \"\"}, \"colorscale\": [[0.0, \"#0d0887\"], [0.1111111111111111, \"#46039f\"], [0.2222222222222222, \"#7201a8\"], [0.3333333333333333, \"#9c179e\"], [0.4444444444444444, \"#bd3786\"], [0.5555555555555556, \"#d8576b\"], [0.6666666666666666, \"#ed7953\"], [0.7777777777777778, \"#fb9f3a\"], [0.8888888888888888, \"#fdca26\"], [1.0, \"#f0f921\"]], \"type\": \"histogram2d\"}], \"histogram2dcontour\": [{\"colorbar\": {\"outlinewidth\": 0, \"ticks\": \"\"}, \"colorscale\": [[0.0, \"#0d0887\"], [0.1111111111111111, \"#46039f\"], [0.2222222222222222, \"#7201a8\"], [0.3333333333333333, \"#9c179e\"], [0.4444444444444444, \"#bd3786\"], [0.5555555555555556, \"#d8576b\"], [0.6666666666666666, \"#ed7953\"], [0.7777777777777778, \"#fb9f3a\"], [0.8888888888888888, \"#fdca26\"], [1.0, \"#f0f921\"]], \"type\": \"histogram2dcontour\"}], \"mesh3d\": [{\"colorbar\": {\"outlinewidth\": 0, \"ticks\": \"\"}, \"type\": \"mesh3d\"}], \"parcoords\": [{\"line\": {\"colorbar\": {\"outlinewidth\": 0, \"ticks\": \"\"}}, \"type\": \"parcoords\"}], \"pie\": [{\"automargin\": true, \"type\": \"pie\"}], \"scatter\": [{\"marker\": {\"colorbar\": {\"outlinewidth\": 0, \"ticks\": \"\"}}, \"type\": \"scatter\"}], \"scatter3d\": [{\"line\": {\"colorbar\": {\"outlinewidth\": 0, \"ticks\": \"\"}}, \"marker\": {\"colorbar\": {\"outlinewidth\": 0, \"ticks\": \"\"}}, \"type\": \"scatter3d\"}], \"scattercarpet\": [{\"marker\": {\"colorbar\": {\"outlinewidth\": 0, \"ticks\": \"\"}}, \"type\": \"scattercarpet\"}], \"scattergeo\": [{\"marker\": {\"colorbar\": {\"outlinewidth\": 0, \"ticks\": \"\"}}, \"type\": \"scattergeo\"}], \"scattergl\": [{\"marker\": {\"colorbar\": {\"outlinewidth\": 0, \"ticks\": \"\"}}, \"type\": \"scattergl\"}], \"scattermapbox\": [{\"marker\": {\"colorbar\": {\"outlinewidth\": 0, \"ticks\": \"\"}}, \"type\": \"scattermapbox\"}], \"scatterpolar\": [{\"marker\": {\"colorbar\": {\"outlinewidth\": 0, \"ticks\": \"\"}}, \"type\": \"scatterpolar\"}], \"scatterpolargl\": [{\"marker\": {\"colorbar\": {\"outlinewidth\": 0, \"ticks\": \"\"}}, \"type\": \"scatterpolargl\"}], \"scatterternary\": [{\"marker\": {\"colorbar\": {\"outlinewidth\": 0, \"ticks\": \"\"}}, \"type\": \"scatterternary\"}], \"surface\": [{\"colorbar\": {\"outlinewidth\": 0, \"ticks\": \"\"}, \"colorscale\": [[0.0, \"#0d0887\"], [0.1111111111111111, \"#46039f\"], [0.2222222222222222, \"#7201a8\"], [0.3333333333333333, \"#9c179e\"], [0.4444444444444444, \"#bd3786\"], [0.5555555555555556, \"#d8576b\"], [0.6666666666666666, \"#ed7953\"], [0.7777777777777778, \"#fb9f3a\"], [0.8888888888888888, \"#fdca26\"], [1.0, \"#f0f921\"]], \"type\": \"surface\"}], \"table\": [{\"cells\": {\"fill\": {\"color\": \"#EBF0F8\"}, \"line\": {\"color\": \"white\"}}, \"header\": {\"fill\": {\"color\": \"#C8D4E3\"}, \"line\": {\"color\": \"white\"}}, \"type\": \"table\"}]}, \"layout\": {\"annotationdefaults\": {\"arrowcolor\": \"#2a3f5f\", \"arrowhead\": 0, \"arrowwidth\": 1}, \"coloraxis\": {\"colorbar\": {\"outlinewidth\": 0, \"ticks\": \"\"}}, \"colorscale\": {\"diverging\": [[0, \"#8e0152\"], [0.1, \"#c51b7d\"], [0.2, \"#de77ae\"], [0.3, \"#f1b6da\"], [0.4, \"#fde0ef\"], [0.5, \"#f7f7f7\"], [0.6, \"#e6f5d0\"], [0.7, \"#b8e186\"], [0.8, \"#7fbc41\"], [0.9, \"#4d9221\"], [1, \"#276419\"]], \"sequential\": [[0.0, \"#0d0887\"], [0.1111111111111111, \"#46039f\"], [0.2222222222222222, \"#7201a8\"], [0.3333333333333333, \"#9c179e\"], [0.4444444444444444, \"#bd3786\"], [0.5555555555555556, \"#d8576b\"], [0.6666666666666666, \"#ed7953\"], [0.7777777777777778, \"#fb9f3a\"], [0.8888888888888888, \"#fdca26\"], [1.0, \"#f0f921\"]], \"sequentialminus\": [[0.0, \"#0d0887\"], [0.1111111111111111, \"#46039f\"], [0.2222222222222222, \"#7201a8\"], [0.3333333333333333, \"#9c179e\"], [0.4444444444444444, \"#bd3786\"], [0.5555555555555556, \"#d8576b\"], [0.6666666666666666, \"#ed7953\"], [0.7777777777777778, \"#fb9f3a\"], [0.8888888888888888, \"#fdca26\"], [1.0, \"#f0f921\"]]}, \"colorway\": [\"#636efa\", \"#EF553B\", \"#00cc96\", \"#ab63fa\", \"#FFA15A\", \"#19d3f3\", \"#FF6692\", \"#B6E880\", \"#FF97FF\", \"#FECB52\"], \"font\": {\"color\": \"#2a3f5f\"}, \"geo\": {\"bgcolor\": \"white\", \"lakecolor\": \"white\", \"landcolor\": \"#E5ECF6\", \"showlakes\": true, \"showland\": true, \"subunitcolor\": \"white\"}, \"hoverlabel\": {\"align\": \"left\"}, \"hovermode\": \"closest\", \"mapbox\": {\"style\": \"light\"}, \"paper_bgcolor\": \"white\", \"plot_bgcolor\": \"#E5ECF6\", \"polar\": {\"angularaxis\": {\"gridcolor\": \"white\", \"linecolor\": \"white\", \"ticks\": \"\"}, \"bgcolor\": \"#E5ECF6\", \"radialaxis\": {\"gridcolor\": \"white\", \"linecolor\": \"white\", \"ticks\": \"\"}}, \"scene\": {\"xaxis\": {\"backgroundcolor\": \"#E5ECF6\", \"gridcolor\": \"white\", \"gridwidth\": 2, \"linecolor\": \"white\", \"showbackground\": true, \"ticks\": \"\", \"zerolinecolor\": \"white\"}, \"yaxis\": {\"backgroundcolor\": \"#E5ECF6\", \"gridcolor\": \"white\", \"gridwidth\": 2, \"linecolor\": \"white\", \"showbackground\": true, \"ticks\": \"\", \"zerolinecolor\": \"white\"}, \"zaxis\": {\"backgroundcolor\": \"#E5ECF6\", \"gridcolor\": \"white\", \"gridwidth\": 2, \"linecolor\": \"white\", \"showbackground\": true, \"ticks\": \"\", \"zerolinecolor\": \"white\"}}, \"shapedefaults\": {\"line\": {\"color\": \"#2a3f5f\"}}, \"ternary\": {\"aaxis\": {\"gridcolor\": \"white\", \"linecolor\": \"white\", \"ticks\": \"\"}, \"baxis\": {\"gridcolor\": \"white\", \"linecolor\": \"white\", \"ticks\": \"\"}, \"bgcolor\": \"#E5ECF6\", \"caxis\": {\"gridcolor\": \"white\", \"linecolor\": \"white\", \"ticks\": \"\"}}, \"title\": {\"x\": 0.05}, \"xaxis\": {\"automargin\": true, \"gridcolor\": \"white\", \"linecolor\": \"white\", \"ticks\": \"\", \"title\": {\"standoff\": 15}, \"zerolinecolor\": \"white\", \"zerolinewidth\": 2}, \"yaxis\": {\"automargin\": true, \"gridcolor\": \"white\", \"linecolor\": \"white\", \"ticks\": \"\", \"title\": {\"standoff\": 15}, \"zerolinecolor\": \"white\", \"zerolinewidth\": 2}}}, \"xaxis\": {\"anchor\": \"y\", \"domain\": [0.0, 1.0], \"title\": {\"text\": \"major_bachelors\"}}, \"yaxis\": {\"anchor\": \"x\", \"domain\": [0.0, 1.0], \"title\": {\"text\": \"count\"}}},\n",
       "                        {\"responsive\": true}\n",
       "                    ).then(function(){\n",
       "                            \n",
       "var gd = document.getElementById('966cb7be-5c26-4c55-a68e-1c10df204616');\n",
       "var x = new MutationObserver(function (mutations, observer) {{\n",
       "        var display = window.getComputedStyle(gd).display;\n",
       "        if (!display || display === 'none') {{\n",
       "            console.log([gd, 'removed!']);\n",
       "            Plotly.purge(gd);\n",
       "            observer.disconnect();\n",
       "        }}\n",
       "}});\n",
       "\n",
       "// Listen for the removal of the full notebook cells\n",
       "var notebookContainer = gd.closest('#notebook-container');\n",
       "if (notebookContainer) {{\n",
       "    x.observe(notebookContainer, {childList: true});\n",
       "}}\n",
       "\n",
       "// Listen for the clearing of the current output cell\n",
       "var outputEl = gd.closest('.output');\n",
       "if (outputEl) {{\n",
       "    x.observe(outputEl, {childList: true});\n",
       "}}\n",
       "\n",
       "                        })\n",
       "                };\n",
       "                });\n",
       "            </script>\n",
       "        </div>"
      ]
     },
     "metadata": {},
     "output_type": "display_data"
    }
   ],
   "source": [
    "fig = px.histogram(customer_success, x=\"major_bachelors\")\n",
    "fig.show()"
   ]
  }
 ],
 "metadata": {
  "kernelspec": {
   "display_name": "Python 3",
   "language": "python",
   "name": "python3"
  },
  "language_info": {
   "codemirror_mode": {
    "name": "ipython",
    "version": 3
   },
   "file_extension": ".py",
   "mimetype": "text/x-python",
   "name": "python",
   "nbconvert_exporter": "python",
   "pygments_lexer": "ipython3",
   "version": "3.7.6"
  }
 },
 "nbformat": 4,
 "nbformat_minor": 4
}
