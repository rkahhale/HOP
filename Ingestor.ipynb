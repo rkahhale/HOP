{
 "cells": [
  {
   "cell_type": "code",
   "execution_count": 421,
   "metadata": {},
   "outputs": [],
   "source": [
    "import pandas as pd\n",
    "import numpy as np\n",
    "import seaborn as sns\n",
    "import json\n",
    "import glob \n",
    "import os\n",
    "import datetime\n",
    "from PyDictionary import PyDictionary\n",
    "import plotly.express as px\n",
    "import matplotlib.pyplot as plt\n",
    "pd.set_option('display.max_columns', 70)"
   ]
  },
  {
   "cell_type": "code",
   "execution_count": 192,
   "metadata": {},
   "outputs": [],
   "source": [
    "# type:Person employments.{isCurrent:true title:\"Software Engineer\" employer.diffbotUri:\"http://diffbot.com/entity/CHb0_0NEcMwyY8b083taTTw\"}\n",
    "\n",
    "companies_map = { # include employer.diffbotUri:\n",
    "    \"Accenture\": \"https://www.diffbot.com/entity/CCSWlgoj9O5qPbQW8JWdDMQ\",\n",
    "    \"Amazon\": \"https://app.diffbot.com/entity/CU2HJUnMcNoWE3nR1cGBcZg\" ,\n",
    "    \"AMEX\": \"https://app.diffbot.com/entity/C0WfaIUi8O5OJiCbVRwdj5Q\",\n",
    "    \"Apple\": \"http://diffbot.com/entity/CHb0_0NEcMwyY8b083taTTw\",\n",
    "    \"Coursera\": \"https://app.diffbot.com/entity/O3riEaNWePCq6lg3BvV8NBw\",\n",
    "    \"Facebook\": \"https://app.diffbot.com/entity/Cg08yHNmgNRiif5mB-LHAyQ\",\n",
    "    \"Google\": \"https://www.diffbot.com/entity/CUFq-3WlpNsq0pvfUYWXOEA\",\n",
    "    \"Honey\": \"https://app.diffbot.com/entity/CoLspFVudPiOzJolZSl740w\",\n",
    "    \"Hulu\": \"https://app.diffbot.com/entity/C1K2ux2TCOiGrJ0-wwuprcQ\",\n",
    "    \"IBM\": \"https://www.diffbot.com/entity/CPdsrDmLiMQCskvBLp_dloQ\",\n",
    "    \"Illumina\": \"https://app.diffbot.com/entity/CNCDiq_4MPkWqzPQwVbUyFg\",\n",
    "    \"Instagram\": \"https://app.diffbot.com/entity/PEZ6-VdJBNNaNEU33MmvyAw\",\n",
    "    \"Microsoft\": \"https://www.diffbot.com/entity/CIsFKrN_ZNLSWsvxdQfWutQ\",\n",
    "    \"Netflix\": \"https://app.diffbot.com/entity/C9QcCMms9Ozy69yX2_IKUKw\",\n",
    "    \"Pfizer\": \"https://www.diffbot.com/entity/CSBjRBGmsNUal0z-IBIlMTQ\",\n",
    "    \"Qualcomm\": \"https://app.diffbot.com/entity/C-A4VGPCfN6eH77ZYlVgHhA\",\n",
    "    \"Quora\": \"https://app.diffbot.com/entity/C8e1-u4wZO-6Ii-S6JrAbYQ\",\n",
    "    \"SalesForce\": \"https://app.diffbot.com/entity/CSRC2KU5QOJ6rsk7VEjQRKQ\",\n",
    "    \"SpaceX\": \"https://app.diffbot.com/entity/CluisPVnnNcGbFrFE_s2rYw\",\n",
    "    \"Splunk\": \"https://app.diffbot.com/entity/C9lAI2DnXOmWFy5xwmxZtvg\", \n",
    "    \"Spotify\": \"https://app.diffbot.com/entity/Cggbb05L2Mn6qqNcfL-e5WA\",\n",
    "    \"Square\": \"https://app.diffbot.com/entity/CA_l6NjCdMGOJY9DgBLjCBw\",\n",
    "    \"TigerGraph\": \"https://app.diffbot.com/entity/CasjF7OHeM1ynXsg0Zv45OA\", \n",
    "    \"Twitter\": \"https://app.diffbot.com/entity/C1v2UkreyPXm7leKR5WspGw\",     \n",
    "}\n"
   ]
  },
  {
   "cell_type": "code",
   "execution_count": 193,
   "metadata": {},
   "outputs": [
    {
     "data": {
      "text/plain": [
       "array(['Adobe', 'Affirm, Inc.', 'Airbnb', 'Airtable', 'Airtime',\n",
       "       'Alibaba Group', 'Amazon', 'Amazon Lab126',\n",
       "       'Amazon Web Services (AWS)', 'AMD', 'AngelList', 'App Annie',\n",
       "       'Apple', 'Argo AI', 'Asana', 'Aurora', 'Autodesk', 'Better.com',\n",
       "       'BetterUp', 'BigPanda', 'Blend', 'Blizzard Entertainment',\n",
       "       'Bloomberg LP', 'BlueVine', 'Box', 'Brex', 'brightwheel',\n",
       "       'ByteDance', 'Carrot', 'Chime', 'Cisco', 'Citrix', 'Clari',\n",
       "       'Clever', 'Clumio', 'Cohesity', 'Coinbase', 'Compology',\n",
       "       'ConsumerTrack', 'Couchbase', 'Coupang', 'Course Hero', 'Coursera',\n",
       "       'Credit Karma', 'Credit Sesame', 'Cruise', 'CVS Health',\n",
       "       'Databricks', 'Deloitte', 'Digit', 'Discord', 'DoorDash',\n",
       "       'Dropbox', 'Earnin', 'eBay', 'Etsy', 'Facebook', 'Figma', 'Google',\n",
       "       'Grammarly', 'hims & hers', 'Honor', 'Houzz', 'HOVER', 'Huawei',\n",
       "       'HubSpot', 'Instacart', 'Instagram', 'Intel', 'Intuit', 'InVision',\n",
       "       'Invitae', 'Iterable', 'Juniper Square', 'Khan Academy',\n",
       "       'Kodiak Robotics', 'Komodo Health', 'Labelbox', 'LinkedIn',\n",
       "       'Livongo', 'Lob', 'LogDNA', 'Lyft', 'Microsoft', 'Miro',\n",
       "       'Modern Fertility', 'MuleSoft', 'NerdWallet', 'Netflix',\n",
       "       'Netskope', 'Neuralink', 'Nextdoor', 'Niantic', 'Northrop Grumman',\n",
       "       'Nova Credit', 'Nutanix', 'NVIDIA', 'OpenVPN', 'Oracle',\n",
       "       'Otter.ai', 'Outlier', 'Outschool', 'PagerDuty', 'Parsable',\n",
       "       'PayPal', 'Pensando Systems', 'Pinterest', 'Plaid', 'PlusAI',\n",
       "       'Postmates', 'Poynt', 'Prisma', 'Prodigy Software', 'Quibi',\n",
       "       'Quip', 'Quora', 'Reddit', 'Robinhood', 'Roblox', 'Roche',\n",
       "       'Salesforce', 'ServiceNow', 'Slack', 'Snap Inc.', 'Snapdocs',\n",
       "       'SoFi', 'Square', 'Stride', 'Stripe', 'SurveyMonkey',\n",
       "       'Synthego Corporation', 'Tableau Software', 'Target', 'TaskRabbit',\n",
       "       'Tencent', 'Tesla', 'The Walt Disney Company', 'ThirdLove',\n",
       "       'TikTok', 'Tile', 'Tinder', 'Tipalti', 'Toshiba Corporation',\n",
       "       'Truebill', 'Twitch', 'Twitter', 'Two Chairs', 'Uber', 'Udemy',\n",
       "       'UiPath', 'Veeva Systems', 'Verizon', 'Visa', 'VMware', 'Waymo',\n",
       "       'WeWork', 'WhatsApp', 'Wish', 'Workday', 'Zendesk', 'Zoom', 'Zoox',\n",
       "       'Bain & Company', 'KPMG', 'SpaceX'], dtype=object)"
      ]
     },
     "execution_count": 193,
     "metadata": {},
     "output_type": "execute_result"
    }
   ],
   "source": [
    "hiringCompanies = pd.read_excel(\"Data/WeAreHiringDB_1.xlsm\")\n",
    "hiringCompanies = hiringCompanies[hiringCompanies[\"State\"]==\"California\"]\n",
    "hiringCompanies.reset_index(inplace=True, drop=True)\n",
    "hiringCompanies.drop(hiringCompanies.loc[:, 'Unnamed: 10':].columns, axis = 1, inplace=True) \n",
    "hiringCompanies.set_index([\"Company\", \"City\"]);\n",
    "hiringCompanies['Company'].unique()"
   ]
  },
  {
   "cell_type": "code",
   "execution_count": 194,
   "metadata": {},
   "outputs": [],
   "source": [
    "def create_education_dict(source):\n",
    "    edHistory = {}\n",
    "    for i in range(len(source)):\n",
    "        if 'educations' not in source[i]:\n",
    "            continue \n",
    "        key = source[i]['name']\n",
    "        # edHistory[key] = [[majors], [institution], [from], [to]]\n",
    "        edHistory[key] = {}\n",
    "        n = len(source[i]['educations'])\n",
    "        \n",
    "        for e in source[i]['educations']:\n",
    "            if 'degree' in e and 'name' in e['degree']:\n",
    "                if e['degree']['name'] not in edHistory[key]:\n",
    "                    edHistory[key][e['degree']['name']] = [[], [], [], []]\n",
    "                    \n",
    "                if 'major' in e and 'name' in e['major']: edHistory[key][e['degree']['name']][0].append(e['major']['name'])\n",
    "                else: edHistory[key][e['degree']['name']][0].append(np.nan)\n",
    "                        \n",
    "                if 'institution' in e and 'name' in e['institution']: edHistory[key][e['degree']['name']][1].append(e['institution']['name'])\n",
    "                else: edHistory[key][e['degree']['name']][1].append(np.nan)\n",
    "                    \n",
    "                if 'from' in e: edHistory[key][e['degree']['name']][2].append(e['from']['str'][1:5])\n",
    "                else: edHistory[key][e['degree']['name']][2].append(np.nan)\n",
    "                \n",
    "                if 'to' in e: edHistory[key][e['degree']['name']][3].append(e['to']['str'][1:5])\n",
    "                else: edHistory[key][e['degree']['name']][3].append(np.nan)\n",
    "                \n",
    "    return edHistory\n",
    "\n",
    "def write_education_to_df(education_map, df, k, degree, **kwargs): \n",
    "    other_degree = kwargs.get('other_degree', None) # when degree type not in 'switcher' (next line)\n",
    "    switcher = {\n",
    "        'bachelors': \"Bachelor's (4 year program)\",\n",
    "        'masters': \"Master's (6 year program)\",\n",
    "        'phd': \"PhD or other Doctorate\"\n",
    "    }\n",
    "\n",
    "    df.loc[k]['major_{}'.format(degree)] = education_map[k][switcher.get(degree, other_degree)][0][0]\n",
    "    df.loc[k]['institution_{}'.format(degree)] = education_map[k][switcher.get(degree, other_degree)][1][0]\n",
    "    df.loc[k]['{}_start_date'.format(degree)] = education_map[k][switcher.get(degree, other_degree)][2][0]\n",
    "    df.loc[k]['{}_end_date'.format(degree)] = education_map[k][switcher.get(degree, other_degree)][3][0]\n",
    "    "
   ]
  },
  {
   "cell_type": "code",
   "execution_count": 195,
   "metadata": {},
   "outputs": [],
   "source": [
    "def education_parser(source, df):\n",
    "    bachelors = \"Bachelor's (4 year program)\"\n",
    "    masters = \"Master's (6 year program)\"\n",
    "    phd = \"PhD or other Doctorate\"\n",
    "    education_map = create_education_dict(source)\n",
    "    \n",
    "    for k in education_map:\n",
    "        \n",
    "        if bachelors in education_map[k]:\n",
    "            df.loc[k]['has_bachelors'] = True\n",
    "            write_education_to_df(education_map, df, k, \"bachelors\")\n",
    "            \n",
    "        if masters in education_map[k]:\n",
    "            df.loc[k]['has_bachelors'] = True\n",
    "            df.loc[k]['has_masters'] = True\n",
    "            write_education_to_df(education_map, df, k, \"masters\")\n",
    "        \n",
    "        if phd in education_map[k]:\n",
    "            df.loc[k]['has_bachelors'] = True\n",
    "            df.loc[k]['has_phd'] = True\n",
    "            write_education_to_df(education_map, df, k, \"phd\")\n",
    "            \n",
    "        for degree_type in education_map[k].keys():\n",
    "            if degree_type not in [bachelors, masters, phd]:\n",
    "                write_education_to_df(education_map, df, k, \"other\", other_degree=degree_type)  \n",
    "            \n",
    "            \n",
    "    df['has_masters'].fillna(False, inplace=True)\n",
    "    df['has_phd'].fillna(False, inplace=True)"
   ]
  },
  {
   "cell_type": "code",
   "execution_count": 216,
   "metadata": {},
   "outputs": [],
   "source": [
    "def employment_parser(source, df):\n",
    "    for i in range(len(source)):\n",
    "        key = source[i]['name']\n",
    "        \n",
    "        if key not in df.index.values:\n",
    "            continue \n",
    "        df.loc[key]['current_title'] = source[i]['employments'][0]['title']\n",
    "        df.loc[key]['current_company'] = source[i]['employments'][0]['employer']['name']\n",
    "        if 'description' in source[i]:\n",
    "            df.loc[key]['description'] = source[i]['description']\n",
    "        \n",
    "        if 'location' in source[i]['employments'][0]:\n",
    "             if 'address' in source[i]['employments'][0]['location']:\n",
    "                    df.loc[key][\"current_company_location\"] = source[i]['employments'][0]['location']['address']\n",
    "        \n",
    "        if 'from' in source[i]['employments'][0]:\n",
    "            start_date = source[i]['employments'][0]['from']['str'][1:8]\n",
    "            if start_date[5:] == 'XX': start_date = start_date[:4]\n",
    "            df.loc[key]['from'] = pd.to_datetime(start_date)\n",
    "            \n",
    "        if 'to' in source[i]['employments'][0]:\n",
    "            end_date = source[i]['employments'][0]['to']['str'][1:8]\n",
    "            if end_date[5:] == 'XX': end_date = end_date[:4]\n",
    "            df.loc[key]['to'] = pd.to_datetime(end_date)\n",
    "        \n",
    "\n",
    "        num_experiences = len(source[i]['employments'])\n",
    "        \n",
    "        j = 1\n",
    "        while j < num_experiences and j < 6: \n",
    "            try:\n",
    "                # employer and title \n",
    "                if 'employer' in source[i]['employments'][j]:\n",
    "                    if 'name' in source[i]['employments'][j]['employer']:\n",
    "                        df.loc[key]['prev_company_{}'.format(j)] = source[i]['employments'][j]['employer']['name']\n",
    "                    if 'title' in source[i]['employments'][j]:\n",
    "                        df.loc[key]['prev_title_{}'.format(j)] = source[i]['employments'][j]['title']\n",
    "            except:\n",
    "                print(\"j = {0}, n = {1}\".format(j, num_experiences))\n",
    "            \n",
    "            # location of experience\n",
    "            if 'location' in source[i]['employments'][j]:\n",
    "                if 'address' in source[i]['employments'][j]['location']:\n",
    "                    df.loc[key][\"prev_exp_location_{}\".format(j)] = source[i]['employments'][j]['location']['address']\n",
    "            \n",
    "            # from and to\n",
    "            if 'from' in source[i]['employments'][j]: \n",
    "                start_date = source[i]['employments'][j]['from']['str'][1:8]\n",
    "                if start_date[5:] == 'XX': start_date = start_date[:4]\n",
    "                df.loc[key]['prev_exp_from_{}'.format(j)] = pd.to_datetime(start_date)\n",
    "            if 'to' in source[i]['employments'][j]: \n",
    "                end_date = source[i]['employments'][j]['to']['str'][1:8]\n",
    "                if end_date[5:] == 'XX': end_date = end_date[:4]\n",
    "                df.loc[key]['prev_exp_to_{}'.format(j)] = pd.to_datetime(end_date)\n",
    "                if 'from' in source[i]['employments'][j]:\n",
    "                    df.loc[key]['prev_exp_duration_months_{}'.format(j)] = round((df.loc[key]['prev_exp_to_{}'.format(j)] - df.loc[key]['prev_exp_from_{}'.format(j)]).days/30) \n",
    "                    df.loc[key]['prev_exp_duration_years_{}'.format(j)] = round(df.loc[key]['prev_exp_duration_months_{}'.format(j)]/12)\n",
    "            j += 1\n"
   ]
  },
  {
   "cell_type": "code",
   "execution_count": 197,
   "metadata": {},
   "outputs": [],
   "source": [
    "def age(source, df):\n",
    "    for i in range(len(source)):\n",
    "        if 'age' not in source[i]:\n",
    "            continue \n",
    "        key = source[i]['name']      \n",
    "        if key not in df.index.values:\n",
    "            continue\n",
    "        df.loc[key]['age'] = source[i]['age']"
   ]
  },
  {
   "cell_type": "code",
   "execution_count": 198,
   "metadata": {},
   "outputs": [],
   "source": [
    "def gender(source, df):\n",
    "    for i in range(len(source)):\n",
    "        try:\n",
    "            if 'gender' not in source[i] or 'normalizedValue' not in source[i]['gender']:\n",
    "                continue \n",
    "            key = source[i]['name']      \n",
    "            if key not in df.index.values:\n",
    "                continue\n",
    "            df.loc[key]['gender'] = source[i]['gender']['normalizedValue']\n",
    "        except:\n",
    "            print(i)"
   ]
  },
  {
   "cell_type": "code",
   "execution_count": 212,
   "metadata": {},
   "outputs": [],
   "source": [
    "def total_employment_summation(df):\n",
    "    duration = ['prev_exp_duration_months_{}'.format(i) for i in range(1, 6)] \n",
    "    df['total_months_of_experience'] = df[duration].sum(axis=1)\n",
    "    df['total_years_of_experience'] = round(df['total_months_of_experience']/12,2)\n"
   ]
  },
  {
   "cell_type": "code",
   "execution_count": 356,
   "metadata": {},
   "outputs": [],
   "source": [
    "def my_json_to_csv(role, company, from_docker=True):\n",
    "    if from_docker == False:\n",
    "        file = \"Data/{0}/{0}_{1}.json\".format(role, company)\n",
    "        with open(file) as fh:\n",
    "            json_source = json.load(fh)\n",
    "    else: \n",
    "        json_source = json_appender(role, company, new_json=False)\n",
    "\n",
    "    names = set()\n",
    "    duplicates = 0 \n",
    "    print('len json_source = ', len(json_source))\n",
    "    for i in range(len(json_source)):\n",
    "        names.add(json_source[i]['name'])\n",
    "    \n",
    "    info_cols = ['name', 'age', 'gender', 'description',\n",
    "                 'source_company', 'source_role','current_title', 'current_company', \n",
    "                 'current_company_location','from', 'to'] \n",
    "    \n",
    "    # former employments\n",
    "    for i in range(1, 6):\n",
    "        info_cols.append('prev_title_{}'.format(i))\n",
    "        info_cols.append('prev_company_{}'.format(i))\n",
    "        info_cols.append('prev_exp_location_{}'.format(i))\n",
    "        info_cols.append('prev_exp_from_{}'.format(i))\n",
    "        info_cols.append('prev_exp_to_{}'.format(i))\n",
    "        info_cols.append('prev_exp_duration_months_{}'.format(i))\n",
    "        info_cols.append('prev_exp_duration_years_{}'.format(i))\n",
    "        \n",
    "    # former education\n",
    "    info_cols.extend(['total_months_of_experience', 'total_years_of_experience', 'has_phd', 'major_phd', 'institution_phd', 'phd_start_date', 'phd_end_date',\n",
    "                      'has_masters', 'major_masters', 'institution_masters', 'masters_start_date', 'masters_end_date',\n",
    "                      'has_bachelors', 'major_bachelors', 'institution_bachelors', 'bachelors_start_date', 'bachelors_end_date',\n",
    "                      'major_other', 'institution_other', 'other_start_date', 'other_end_date'])\n",
    "    \n",
    "    df = pd.DataFrame(index=names, columns=info_cols)\n",
    "    df['source_company'] = company\n",
    "    df['source_role'] = role\n",
    "    df['name'] = df.index\n",
    "          \n",
    "    age(json_source, df)\n",
    "    gender(json_source, df)\n",
    "    employment_parser(json_source, df)\n",
    "    education_parser(json_source, df)\n",
    "    total_employment_summation(df)\n",
    "    \n",
    "    # write to csv\n",
    "    df.to_csv('data/{0}/{0}_{1}.csv'.format(role, company))\n",
    "    return df"
   ]
  },
  {
   "cell_type": "code",
   "execution_count": 368,
   "metadata": {},
   "outputs": [
    {
     "name": "stdout",
     "output_type": "stream",
     "text": [
      "len json_source =  255\n"
     ]
    }
   ],
   "source": [
    "df = my_json_to_csv('ML', 'Apple', from_docker=True)\n",
    "#df.insert(df.columns.get_loc('prev_title_1'), 'prev_title_1_level', np.nan)\n"
   ]
  },
  {
   "cell_type": "code",
   "execution_count": 369,
   "metadata": {},
   "outputs": [
    {
     "name": "stdout",
     "output_type": "stream",
     "text": [
      "unique values = 177\n"
     ]
    },
    {
     "data": {
      "text/plain": [
       "50"
      ]
     },
     "execution_count": 369,
     "metadata": {},
     "output_type": "execute_result"
    }
   ],
   "source": [
    "print(\"unique values = {}\".format(df['prev_title_1'].nunique()))\n",
    "df[((df['has_masters'] == False) & (df['has_phd'] == False))].__len__()"
   ]
  },
  {
   "cell_type": "code",
   "execution_count": 309,
   "metadata": {},
   "outputs": [],
   "source": [
    "def skills_json_to_df(role, company, from_docker = True, **kwargs):\n",
    "    \n",
    "    if from_docker == False:\n",
    "        file = \"Data/{0}/{0}_{1}.json\".format(role, company)\n",
    "        with open(file) as fh:\n",
    "            json_source = json.load(fh)\n",
    "    else: \n",
    "        json_source = json_appender(role, company, new_json=False)\n",
    "        \n",
    "    size = kwargs.get('size', None)\n",
    "    all_skills = set()\n",
    "    skills={}\n",
    "    duplicates = 0 \n",
    "\n",
    "    for i in range(len(json_source)):\n",
    "        try:\n",
    "            if json_source[i]['name'] not in skills:\n",
    "                skills[json_source[i]['name']] = []\n",
    "            else: \n",
    "                duplicates += 1\n",
    "            if 'skills' in json_source[i].keys():\n",
    "                for e in json_source[i]['skills']:\n",
    "                    skills[json_source[i]['name']].append(e['name'].lower())\n",
    "                    all_skills.add(e['name'].lower())\n",
    "        except:\n",
    "            print(\"i = {}\".format(i))\n",
    "    all      \n",
    "    df = pd.DataFrame(index=skills.keys(), columns=sorted(all_skills))\n",
    "    \n",
    "    for key in skills.keys():\n",
    "        df.loc[key]['name'] = key\n",
    "        for e in skills[key]:\n",
    "            df.loc[key][e] = 1\n",
    "    \n",
    "    df.loc[:,:] = df.loc[:,:].fillna(0)\n",
    "    df.to_csv('Data/{0}/{0}_{1}_{2}.csv'.format(role, company, 'skills'))\n",
    "    if size:\n",
    "        return df.head(size)\n",
    "    return df        "
   ]
  },
  {
   "cell_type": "code",
   "execution_count": 411,
   "metadata": {},
   "outputs": [],
   "source": [
    "def top_skills(role, company, from_docker = True, n=30, plot=True):\n",
    "    \"\"\" \n",
    "    returns the top n skills relavant to a certain position \n",
    "    \"\"\"\n",
    "    df_skills = skills_json_to_df(role, company, from_docker)\n",
    "    df_skills_t = df_skills.T\n",
    "    df_skills_t.insert(0, 'sum', df_skills_t.sum(axis=1))\n",
    "    top_skills = df_skills_t.sort_values(by=['sum'], ascending=False)['sum'].head(n)\n",
    "    \n",
    "    if plot == True:\n",
    "        fig = px.bar(top_skills, x=list(top_skills.keys()), y='sum', labels=dict(x=\"Skill\", y=\"Count\"))\n",
    "        fig.update_layout(title_text=\"Top {0} skills from {1} employees {2} at {3}\".format(n, len(df_skills), role, company))\n",
    "        fig.show()\n",
    "    return top_skills"
   ]
  },
  {
   "cell_type": "code",
   "execution_count": 472,
   "metadata": {},
   "outputs": [
    {
     "data": {
      "application/vnd.plotly.v1+json": {
       "config": {
        "plotlyServerURL": "https://plot.ly"
       },
       "data": [
        {
         "alignmentgroup": "True",
         "hovertemplate": "Skill=%{x}<br>sum=%{y}<extra></extra>",
         "legendgroup": "",
         "marker": {
          "color": "#636efa"
         },
         "name": "",
         "offsetgroup": "",
         "orientation": "v",
         "showlegend": false,
         "textposition": "auto",
         "type": "bar",
         "x": [
          "teaching",
          "economics",
          "management",
          "human resource management",
          "customer relations",
          "leadership",
          "customer service",
          "microsoft office",
          "supply chain management",
          "human resources",
          "marketing",
          "recruitment",
          "excel",
          "microsoft excel",
          "sales",
          "recruiting",
          "user interface",
          "power point",
          "word",
          "microsoft word",
          "public speaking",
          "mass media",
          "employee relations",
          "law",
          "training",
          "social media",
          "teamwork",
          "time management",
          "powerpoint",
          "performance management"
         ],
         "xaxis": "x",
         "y": [
          811,
          792,
          620,
          479,
          399,
          380,
          338,
          330,
          327,
          303,
          288,
          279,
          278,
          275,
          242,
          235,
          225,
          216,
          210,
          208,
          202,
          195,
          185,
          182,
          179,
          171,
          167,
          157,
          153,
          143
         ],
         "yaxis": "y"
        }
       ],
       "layout": {
        "barmode": "relative",
        "legend": {
         "tracegroupgap": 0
        },
        "margin": {
         "t": 60
        },
        "template": {
         "data": {
          "bar": [
           {
            "error_x": {
             "color": "#2a3f5f"
            },
            "error_y": {
             "color": "#2a3f5f"
            },
            "marker": {
             "line": {
              "color": "#E5ECF6",
              "width": 0.5
             }
            },
            "type": "bar"
           }
          ],
          "barpolar": [
           {
            "marker": {
             "line": {
              "color": "#E5ECF6",
              "width": 0.5
             }
            },
            "type": "barpolar"
           }
          ],
          "carpet": [
           {
            "aaxis": {
             "endlinecolor": "#2a3f5f",
             "gridcolor": "white",
             "linecolor": "white",
             "minorgridcolor": "white",
             "startlinecolor": "#2a3f5f"
            },
            "baxis": {
             "endlinecolor": "#2a3f5f",
             "gridcolor": "white",
             "linecolor": "white",
             "minorgridcolor": "white",
             "startlinecolor": "#2a3f5f"
            },
            "type": "carpet"
           }
          ],
          "choropleth": [
           {
            "colorbar": {
             "outlinewidth": 0,
             "ticks": ""
            },
            "type": "choropleth"
           }
          ],
          "contour": [
           {
            "colorbar": {
             "outlinewidth": 0,
             "ticks": ""
            },
            "colorscale": [
             [
              0,
              "#0d0887"
             ],
             [
              0.1111111111111111,
              "#46039f"
             ],
             [
              0.2222222222222222,
              "#7201a8"
             ],
             [
              0.3333333333333333,
              "#9c179e"
             ],
             [
              0.4444444444444444,
              "#bd3786"
             ],
             [
              0.5555555555555556,
              "#d8576b"
             ],
             [
              0.6666666666666666,
              "#ed7953"
             ],
             [
              0.7777777777777778,
              "#fb9f3a"
             ],
             [
              0.8888888888888888,
              "#fdca26"
             ],
             [
              1,
              "#f0f921"
             ]
            ],
            "type": "contour"
           }
          ],
          "contourcarpet": [
           {
            "colorbar": {
             "outlinewidth": 0,
             "ticks": ""
            },
            "type": "contourcarpet"
           }
          ],
          "heatmap": [
           {
            "colorbar": {
             "outlinewidth": 0,
             "ticks": ""
            },
            "colorscale": [
             [
              0,
              "#0d0887"
             ],
             [
              0.1111111111111111,
              "#46039f"
             ],
             [
              0.2222222222222222,
              "#7201a8"
             ],
             [
              0.3333333333333333,
              "#9c179e"
             ],
             [
              0.4444444444444444,
              "#bd3786"
             ],
             [
              0.5555555555555556,
              "#d8576b"
             ],
             [
              0.6666666666666666,
              "#ed7953"
             ],
             [
              0.7777777777777778,
              "#fb9f3a"
             ],
             [
              0.8888888888888888,
              "#fdca26"
             ],
             [
              1,
              "#f0f921"
             ]
            ],
            "type": "heatmap"
           }
          ],
          "heatmapgl": [
           {
            "colorbar": {
             "outlinewidth": 0,
             "ticks": ""
            },
            "colorscale": [
             [
              0,
              "#0d0887"
             ],
             [
              0.1111111111111111,
              "#46039f"
             ],
             [
              0.2222222222222222,
              "#7201a8"
             ],
             [
              0.3333333333333333,
              "#9c179e"
             ],
             [
              0.4444444444444444,
              "#bd3786"
             ],
             [
              0.5555555555555556,
              "#d8576b"
             ],
             [
              0.6666666666666666,
              "#ed7953"
             ],
             [
              0.7777777777777778,
              "#fb9f3a"
             ],
             [
              0.8888888888888888,
              "#fdca26"
             ],
             [
              1,
              "#f0f921"
             ]
            ],
            "type": "heatmapgl"
           }
          ],
          "histogram": [
           {
            "marker": {
             "colorbar": {
              "outlinewidth": 0,
              "ticks": ""
             }
            },
            "type": "histogram"
           }
          ],
          "histogram2d": [
           {
            "colorbar": {
             "outlinewidth": 0,
             "ticks": ""
            },
            "colorscale": [
             [
              0,
              "#0d0887"
             ],
             [
              0.1111111111111111,
              "#46039f"
             ],
             [
              0.2222222222222222,
              "#7201a8"
             ],
             [
              0.3333333333333333,
              "#9c179e"
             ],
             [
              0.4444444444444444,
              "#bd3786"
             ],
             [
              0.5555555555555556,
              "#d8576b"
             ],
             [
              0.6666666666666666,
              "#ed7953"
             ],
             [
              0.7777777777777778,
              "#fb9f3a"
             ],
             [
              0.8888888888888888,
              "#fdca26"
             ],
             [
              1,
              "#f0f921"
             ]
            ],
            "type": "histogram2d"
           }
          ],
          "histogram2dcontour": [
           {
            "colorbar": {
             "outlinewidth": 0,
             "ticks": ""
            },
            "colorscale": [
             [
              0,
              "#0d0887"
             ],
             [
              0.1111111111111111,
              "#46039f"
             ],
             [
              0.2222222222222222,
              "#7201a8"
             ],
             [
              0.3333333333333333,
              "#9c179e"
             ],
             [
              0.4444444444444444,
              "#bd3786"
             ],
             [
              0.5555555555555556,
              "#d8576b"
             ],
             [
              0.6666666666666666,
              "#ed7953"
             ],
             [
              0.7777777777777778,
              "#fb9f3a"
             ],
             [
              0.8888888888888888,
              "#fdca26"
             ],
             [
              1,
              "#f0f921"
             ]
            ],
            "type": "histogram2dcontour"
           }
          ],
          "mesh3d": [
           {
            "colorbar": {
             "outlinewidth": 0,
             "ticks": ""
            },
            "type": "mesh3d"
           }
          ],
          "parcoords": [
           {
            "line": {
             "colorbar": {
              "outlinewidth": 0,
              "ticks": ""
             }
            },
            "type": "parcoords"
           }
          ],
          "pie": [
           {
            "automargin": true,
            "type": "pie"
           }
          ],
          "scatter": [
           {
            "marker": {
             "colorbar": {
              "outlinewidth": 0,
              "ticks": ""
             }
            },
            "type": "scatter"
           }
          ],
          "scatter3d": [
           {
            "line": {
             "colorbar": {
              "outlinewidth": 0,
              "ticks": ""
             }
            },
            "marker": {
             "colorbar": {
              "outlinewidth": 0,
              "ticks": ""
             }
            },
            "type": "scatter3d"
           }
          ],
          "scattercarpet": [
           {
            "marker": {
             "colorbar": {
              "outlinewidth": 0,
              "ticks": ""
             }
            },
            "type": "scattercarpet"
           }
          ],
          "scattergeo": [
           {
            "marker": {
             "colorbar": {
              "outlinewidth": 0,
              "ticks": ""
             }
            },
            "type": "scattergeo"
           }
          ],
          "scattergl": [
           {
            "marker": {
             "colorbar": {
              "outlinewidth": 0,
              "ticks": ""
             }
            },
            "type": "scattergl"
           }
          ],
          "scattermapbox": [
           {
            "marker": {
             "colorbar": {
              "outlinewidth": 0,
              "ticks": ""
             }
            },
            "type": "scattermapbox"
           }
          ],
          "scatterpolar": [
           {
            "marker": {
             "colorbar": {
              "outlinewidth": 0,
              "ticks": ""
             }
            },
            "type": "scatterpolar"
           }
          ],
          "scatterpolargl": [
           {
            "marker": {
             "colorbar": {
              "outlinewidth": 0,
              "ticks": ""
             }
            },
            "type": "scatterpolargl"
           }
          ],
          "scatterternary": [
           {
            "marker": {
             "colorbar": {
              "outlinewidth": 0,
              "ticks": ""
             }
            },
            "type": "scatterternary"
           }
          ],
          "surface": [
           {
            "colorbar": {
             "outlinewidth": 0,
             "ticks": ""
            },
            "colorscale": [
             [
              0,
              "#0d0887"
             ],
             [
              0.1111111111111111,
              "#46039f"
             ],
             [
              0.2222222222222222,
              "#7201a8"
             ],
             [
              0.3333333333333333,
              "#9c179e"
             ],
             [
              0.4444444444444444,
              "#bd3786"
             ],
             [
              0.5555555555555556,
              "#d8576b"
             ],
             [
              0.6666666666666666,
              "#ed7953"
             ],
             [
              0.7777777777777778,
              "#fb9f3a"
             ],
             [
              0.8888888888888888,
              "#fdca26"
             ],
             [
              1,
              "#f0f921"
             ]
            ],
            "type": "surface"
           }
          ],
          "table": [
           {
            "cells": {
             "fill": {
              "color": "#EBF0F8"
             },
             "line": {
              "color": "white"
             }
            },
            "header": {
             "fill": {
              "color": "#C8D4E3"
             },
             "line": {
              "color": "white"
             }
            },
            "type": "table"
           }
          ]
         },
         "layout": {
          "annotationdefaults": {
           "arrowcolor": "#2a3f5f",
           "arrowhead": 0,
           "arrowwidth": 1
          },
          "coloraxis": {
           "colorbar": {
            "outlinewidth": 0,
            "ticks": ""
           }
          },
          "colorscale": {
           "diverging": [
            [
             0,
             "#8e0152"
            ],
            [
             0.1,
             "#c51b7d"
            ],
            [
             0.2,
             "#de77ae"
            ],
            [
             0.3,
             "#f1b6da"
            ],
            [
             0.4,
             "#fde0ef"
            ],
            [
             0.5,
             "#f7f7f7"
            ],
            [
             0.6,
             "#e6f5d0"
            ],
            [
             0.7,
             "#b8e186"
            ],
            [
             0.8,
             "#7fbc41"
            ],
            [
             0.9,
             "#4d9221"
            ],
            [
             1,
             "#276419"
            ]
           ],
           "sequential": [
            [
             0,
             "#0d0887"
            ],
            [
             0.1111111111111111,
             "#46039f"
            ],
            [
             0.2222222222222222,
             "#7201a8"
            ],
            [
             0.3333333333333333,
             "#9c179e"
            ],
            [
             0.4444444444444444,
             "#bd3786"
            ],
            [
             0.5555555555555556,
             "#d8576b"
            ],
            [
             0.6666666666666666,
             "#ed7953"
            ],
            [
             0.7777777777777778,
             "#fb9f3a"
            ],
            [
             0.8888888888888888,
             "#fdca26"
            ],
            [
             1,
             "#f0f921"
            ]
           ],
           "sequentialminus": [
            [
             0,
             "#0d0887"
            ],
            [
             0.1111111111111111,
             "#46039f"
            ],
            [
             0.2222222222222222,
             "#7201a8"
            ],
            [
             0.3333333333333333,
             "#9c179e"
            ],
            [
             0.4444444444444444,
             "#bd3786"
            ],
            [
             0.5555555555555556,
             "#d8576b"
            ],
            [
             0.6666666666666666,
             "#ed7953"
            ],
            [
             0.7777777777777778,
             "#fb9f3a"
            ],
            [
             0.8888888888888888,
             "#fdca26"
            ],
            [
             1,
             "#f0f921"
            ]
           ]
          },
          "colorway": [
           "#636efa",
           "#EF553B",
           "#00cc96",
           "#ab63fa",
           "#FFA15A",
           "#19d3f3",
           "#FF6692",
           "#B6E880",
           "#FF97FF",
           "#FECB52"
          ],
          "font": {
           "color": "#2a3f5f"
          },
          "geo": {
           "bgcolor": "white",
           "lakecolor": "white",
           "landcolor": "#E5ECF6",
           "showlakes": true,
           "showland": true,
           "subunitcolor": "white"
          },
          "hoverlabel": {
           "align": "left"
          },
          "hovermode": "closest",
          "mapbox": {
           "style": "light"
          },
          "paper_bgcolor": "white",
          "plot_bgcolor": "#E5ECF6",
          "polar": {
           "angularaxis": {
            "gridcolor": "white",
            "linecolor": "white",
            "ticks": ""
           },
           "bgcolor": "#E5ECF6",
           "radialaxis": {
            "gridcolor": "white",
            "linecolor": "white",
            "ticks": ""
           }
          },
          "scene": {
           "xaxis": {
            "backgroundcolor": "#E5ECF6",
            "gridcolor": "white",
            "gridwidth": 2,
            "linecolor": "white",
            "showbackground": true,
            "ticks": "",
            "zerolinecolor": "white"
           },
           "yaxis": {
            "backgroundcolor": "#E5ECF6",
            "gridcolor": "white",
            "gridwidth": 2,
            "linecolor": "white",
            "showbackground": true,
            "ticks": "",
            "zerolinecolor": "white"
           },
           "zaxis": {
            "backgroundcolor": "#E5ECF6",
            "gridcolor": "white",
            "gridwidth": 2,
            "linecolor": "white",
            "showbackground": true,
            "ticks": "",
            "zerolinecolor": "white"
           }
          },
          "shapedefaults": {
           "line": {
            "color": "#2a3f5f"
           }
          },
          "ternary": {
           "aaxis": {
            "gridcolor": "white",
            "linecolor": "white",
            "ticks": ""
           },
           "baxis": {
            "gridcolor": "white",
            "linecolor": "white",
            "ticks": ""
           },
           "bgcolor": "#E5ECF6",
           "caxis": {
            "gridcolor": "white",
            "linecolor": "white",
            "ticks": ""
           }
          },
          "title": {
           "x": 0.05
          },
          "xaxis": {
           "automargin": true,
           "gridcolor": "white",
           "linecolor": "white",
           "ticks": "",
           "title": {
            "standoff": 15
           },
           "zerolinecolor": "white",
           "zerolinewidth": 2
          },
          "yaxis": {
           "automargin": true,
           "gridcolor": "white",
           "linecolor": "white",
           "ticks": "",
           "title": {
            "standoff": 15
           },
           "zerolinecolor": "white",
           "zerolinewidth": 2
          }
         }
        },
        "title": {
         "text": "Top 30 skills from 1000 employees HR at Amazon"
        },
        "xaxis": {
         "anchor": "y",
         "domain": [
          0,
          1
         ],
         "title": {
          "text": "Skill"
         }
        },
        "yaxis": {
         "anchor": "x",
         "domain": [
          0,
          1
         ],
         "title": {
          "text": "sum"
         }
        }
       }
      },
      "text/html": [
       "<div>\n",
       "        \n",
       "        \n",
       "            <div id=\"c5fd848f-6612-472e-9e66-50e112238816\" class=\"plotly-graph-div\" style=\"height:525px; width:100%;\"></div>\n",
       "            <script type=\"text/javascript\">\n",
       "                require([\"plotly\"], function(Plotly) {\n",
       "                    window.PLOTLYENV=window.PLOTLYENV || {};\n",
       "                    \n",
       "                if (document.getElementById(\"c5fd848f-6612-472e-9e66-50e112238816\")) {\n",
       "                    Plotly.newPlot(\n",
       "                        'c5fd848f-6612-472e-9e66-50e112238816',\n",
       "                        [{\"alignmentgroup\": \"True\", \"hovertemplate\": \"Skill=%{x}<br>sum=%{y}<extra></extra>\", \"legendgroup\": \"\", \"marker\": {\"color\": \"#636efa\"}, \"name\": \"\", \"offsetgroup\": \"\", \"orientation\": \"v\", \"showlegend\": false, \"textposition\": \"auto\", \"type\": \"bar\", \"x\": [\"teaching\", \"economics\", \"management\", \"human resource management\", \"customer relations\", \"leadership\", \"customer service\", \"microsoft office\", \"supply chain management\", \"human resources\", \"marketing\", \"recruitment\", \"excel\", \"microsoft excel\", \"sales\", \"recruiting\", \"user interface\", \"power point\", \"word\", \"microsoft word\", \"public speaking\", \"mass media\", \"employee relations\", \"law\", \"training\", \"social media\", \"teamwork\", \"time management\", \"powerpoint\", \"performance management\"], \"xaxis\": \"x\", \"y\": [811, 792, 620, 479, 399, 380, 338, 330, 327, 303, 288, 279, 278, 275, 242, 235, 225, 216, 210, 208, 202, 195, 185, 182, 179, 171, 167, 157, 153, 143], \"yaxis\": \"y\"}],\n",
       "                        {\"barmode\": \"relative\", \"legend\": {\"tracegroupgap\": 0}, \"margin\": {\"t\": 60}, \"template\": {\"data\": {\"bar\": [{\"error_x\": {\"color\": \"#2a3f5f\"}, \"error_y\": {\"color\": \"#2a3f5f\"}, \"marker\": {\"line\": {\"color\": \"#E5ECF6\", \"width\": 0.5}}, \"type\": \"bar\"}], \"barpolar\": [{\"marker\": {\"line\": {\"color\": \"#E5ECF6\", \"width\": 0.5}}, \"type\": \"barpolar\"}], \"carpet\": [{\"aaxis\": {\"endlinecolor\": \"#2a3f5f\", \"gridcolor\": \"white\", \"linecolor\": \"white\", \"minorgridcolor\": \"white\", \"startlinecolor\": \"#2a3f5f\"}, \"baxis\": {\"endlinecolor\": \"#2a3f5f\", \"gridcolor\": \"white\", \"linecolor\": \"white\", \"minorgridcolor\": \"white\", \"startlinecolor\": \"#2a3f5f\"}, \"type\": \"carpet\"}], \"choropleth\": [{\"colorbar\": {\"outlinewidth\": 0, \"ticks\": \"\"}, \"type\": \"choropleth\"}], \"contour\": [{\"colorbar\": {\"outlinewidth\": 0, \"ticks\": \"\"}, \"colorscale\": [[0.0, \"#0d0887\"], [0.1111111111111111, \"#46039f\"], [0.2222222222222222, \"#7201a8\"], [0.3333333333333333, \"#9c179e\"], [0.4444444444444444, \"#bd3786\"], [0.5555555555555556, \"#d8576b\"], [0.6666666666666666, \"#ed7953\"], [0.7777777777777778, \"#fb9f3a\"], [0.8888888888888888, \"#fdca26\"], [1.0, \"#f0f921\"]], \"type\": \"contour\"}], \"contourcarpet\": [{\"colorbar\": {\"outlinewidth\": 0, \"ticks\": \"\"}, \"type\": \"contourcarpet\"}], \"heatmap\": [{\"colorbar\": {\"outlinewidth\": 0, \"ticks\": \"\"}, \"colorscale\": [[0.0, \"#0d0887\"], [0.1111111111111111, \"#46039f\"], [0.2222222222222222, \"#7201a8\"], [0.3333333333333333, \"#9c179e\"], [0.4444444444444444, \"#bd3786\"], [0.5555555555555556, \"#d8576b\"], [0.6666666666666666, \"#ed7953\"], [0.7777777777777778, \"#fb9f3a\"], [0.8888888888888888, \"#fdca26\"], [1.0, \"#f0f921\"]], \"type\": \"heatmap\"}], \"heatmapgl\": [{\"colorbar\": {\"outlinewidth\": 0, \"ticks\": \"\"}, \"colorscale\": [[0.0, \"#0d0887\"], [0.1111111111111111, \"#46039f\"], [0.2222222222222222, \"#7201a8\"], [0.3333333333333333, \"#9c179e\"], [0.4444444444444444, \"#bd3786\"], [0.5555555555555556, \"#d8576b\"], [0.6666666666666666, \"#ed7953\"], [0.7777777777777778, \"#fb9f3a\"], [0.8888888888888888, \"#fdca26\"], [1.0, \"#f0f921\"]], \"type\": \"heatmapgl\"}], \"histogram\": [{\"marker\": {\"colorbar\": {\"outlinewidth\": 0, \"ticks\": \"\"}}, \"type\": \"histogram\"}], \"histogram2d\": [{\"colorbar\": {\"outlinewidth\": 0, \"ticks\": \"\"}, \"colorscale\": [[0.0, \"#0d0887\"], [0.1111111111111111, \"#46039f\"], [0.2222222222222222, \"#7201a8\"], [0.3333333333333333, \"#9c179e\"], [0.4444444444444444, \"#bd3786\"], [0.5555555555555556, \"#d8576b\"], [0.6666666666666666, \"#ed7953\"], [0.7777777777777778, \"#fb9f3a\"], [0.8888888888888888, \"#fdca26\"], [1.0, \"#f0f921\"]], \"type\": \"histogram2d\"}], \"histogram2dcontour\": [{\"colorbar\": {\"outlinewidth\": 0, \"ticks\": \"\"}, \"colorscale\": [[0.0, \"#0d0887\"], [0.1111111111111111, \"#46039f\"], [0.2222222222222222, \"#7201a8\"], [0.3333333333333333, \"#9c179e\"], [0.4444444444444444, \"#bd3786\"], [0.5555555555555556, \"#d8576b\"], [0.6666666666666666, \"#ed7953\"], [0.7777777777777778, \"#fb9f3a\"], [0.8888888888888888, \"#fdca26\"], [1.0, \"#f0f921\"]], \"type\": \"histogram2dcontour\"}], \"mesh3d\": [{\"colorbar\": {\"outlinewidth\": 0, \"ticks\": \"\"}, \"type\": \"mesh3d\"}], \"parcoords\": [{\"line\": {\"colorbar\": {\"outlinewidth\": 0, \"ticks\": \"\"}}, \"type\": \"parcoords\"}], \"pie\": [{\"automargin\": true, \"type\": \"pie\"}], \"scatter\": [{\"marker\": {\"colorbar\": {\"outlinewidth\": 0, \"ticks\": \"\"}}, \"type\": \"scatter\"}], \"scatter3d\": [{\"line\": {\"colorbar\": {\"outlinewidth\": 0, \"ticks\": \"\"}}, \"marker\": {\"colorbar\": {\"outlinewidth\": 0, \"ticks\": \"\"}}, \"type\": \"scatter3d\"}], \"scattercarpet\": [{\"marker\": {\"colorbar\": {\"outlinewidth\": 0, \"ticks\": \"\"}}, \"type\": \"scattercarpet\"}], \"scattergeo\": [{\"marker\": {\"colorbar\": {\"outlinewidth\": 0, \"ticks\": \"\"}}, \"type\": \"scattergeo\"}], \"scattergl\": [{\"marker\": {\"colorbar\": {\"outlinewidth\": 0, \"ticks\": \"\"}}, \"type\": \"scattergl\"}], \"scattermapbox\": [{\"marker\": {\"colorbar\": {\"outlinewidth\": 0, \"ticks\": \"\"}}, \"type\": \"scattermapbox\"}], \"scatterpolar\": [{\"marker\": {\"colorbar\": {\"outlinewidth\": 0, \"ticks\": \"\"}}, \"type\": \"scatterpolar\"}], \"scatterpolargl\": [{\"marker\": {\"colorbar\": {\"outlinewidth\": 0, \"ticks\": \"\"}}, \"type\": \"scatterpolargl\"}], \"scatterternary\": [{\"marker\": {\"colorbar\": {\"outlinewidth\": 0, \"ticks\": \"\"}}, \"type\": \"scatterternary\"}], \"surface\": [{\"colorbar\": {\"outlinewidth\": 0, \"ticks\": \"\"}, \"colorscale\": [[0.0, \"#0d0887\"], [0.1111111111111111, \"#46039f\"], [0.2222222222222222, \"#7201a8\"], [0.3333333333333333, \"#9c179e\"], [0.4444444444444444, \"#bd3786\"], [0.5555555555555556, \"#d8576b\"], [0.6666666666666666, \"#ed7953\"], [0.7777777777777778, \"#fb9f3a\"], [0.8888888888888888, \"#fdca26\"], [1.0, \"#f0f921\"]], \"type\": \"surface\"}], \"table\": [{\"cells\": {\"fill\": {\"color\": \"#EBF0F8\"}, \"line\": {\"color\": \"white\"}}, \"header\": {\"fill\": {\"color\": \"#C8D4E3\"}, \"line\": {\"color\": \"white\"}}, \"type\": \"table\"}]}, \"layout\": {\"annotationdefaults\": {\"arrowcolor\": \"#2a3f5f\", \"arrowhead\": 0, \"arrowwidth\": 1}, \"coloraxis\": {\"colorbar\": {\"outlinewidth\": 0, \"ticks\": \"\"}}, \"colorscale\": {\"diverging\": [[0, \"#8e0152\"], [0.1, \"#c51b7d\"], [0.2, \"#de77ae\"], [0.3, \"#f1b6da\"], [0.4, \"#fde0ef\"], [0.5, \"#f7f7f7\"], [0.6, \"#e6f5d0\"], [0.7, \"#b8e186\"], [0.8, \"#7fbc41\"], [0.9, \"#4d9221\"], [1, \"#276419\"]], \"sequential\": [[0.0, \"#0d0887\"], [0.1111111111111111, \"#46039f\"], [0.2222222222222222, \"#7201a8\"], [0.3333333333333333, \"#9c179e\"], [0.4444444444444444, \"#bd3786\"], [0.5555555555555556, \"#d8576b\"], [0.6666666666666666, \"#ed7953\"], [0.7777777777777778, \"#fb9f3a\"], [0.8888888888888888, \"#fdca26\"], [1.0, \"#f0f921\"]], \"sequentialminus\": [[0.0, \"#0d0887\"], [0.1111111111111111, \"#46039f\"], [0.2222222222222222, \"#7201a8\"], [0.3333333333333333, \"#9c179e\"], [0.4444444444444444, \"#bd3786\"], [0.5555555555555556, \"#d8576b\"], [0.6666666666666666, \"#ed7953\"], [0.7777777777777778, \"#fb9f3a\"], [0.8888888888888888, \"#fdca26\"], [1.0, \"#f0f921\"]]}, \"colorway\": [\"#636efa\", \"#EF553B\", \"#00cc96\", \"#ab63fa\", \"#FFA15A\", \"#19d3f3\", \"#FF6692\", \"#B6E880\", \"#FF97FF\", \"#FECB52\"], \"font\": {\"color\": \"#2a3f5f\"}, \"geo\": {\"bgcolor\": \"white\", \"lakecolor\": \"white\", \"landcolor\": \"#E5ECF6\", \"showlakes\": true, \"showland\": true, \"subunitcolor\": \"white\"}, \"hoverlabel\": {\"align\": \"left\"}, \"hovermode\": \"closest\", \"mapbox\": {\"style\": \"light\"}, \"paper_bgcolor\": \"white\", \"plot_bgcolor\": \"#E5ECF6\", \"polar\": {\"angularaxis\": {\"gridcolor\": \"white\", \"linecolor\": \"white\", \"ticks\": \"\"}, \"bgcolor\": \"#E5ECF6\", \"radialaxis\": {\"gridcolor\": \"white\", \"linecolor\": \"white\", \"ticks\": \"\"}}, \"scene\": {\"xaxis\": {\"backgroundcolor\": \"#E5ECF6\", \"gridcolor\": \"white\", \"gridwidth\": 2, \"linecolor\": \"white\", \"showbackground\": true, \"ticks\": \"\", \"zerolinecolor\": \"white\"}, \"yaxis\": {\"backgroundcolor\": \"#E5ECF6\", \"gridcolor\": \"white\", \"gridwidth\": 2, \"linecolor\": \"white\", \"showbackground\": true, \"ticks\": \"\", \"zerolinecolor\": \"white\"}, \"zaxis\": {\"backgroundcolor\": \"#E5ECF6\", \"gridcolor\": \"white\", \"gridwidth\": 2, \"linecolor\": \"white\", \"showbackground\": true, \"ticks\": \"\", \"zerolinecolor\": \"white\"}}, \"shapedefaults\": {\"line\": {\"color\": \"#2a3f5f\"}}, \"ternary\": {\"aaxis\": {\"gridcolor\": \"white\", \"linecolor\": \"white\", \"ticks\": \"\"}, \"baxis\": {\"gridcolor\": \"white\", \"linecolor\": \"white\", \"ticks\": \"\"}, \"bgcolor\": \"#E5ECF6\", \"caxis\": {\"gridcolor\": \"white\", \"linecolor\": \"white\", \"ticks\": \"\"}}, \"title\": {\"x\": 0.05}, \"xaxis\": {\"automargin\": true, \"gridcolor\": \"white\", \"linecolor\": \"white\", \"ticks\": \"\", \"title\": {\"standoff\": 15}, \"zerolinecolor\": \"white\", \"zerolinewidth\": 2}, \"yaxis\": {\"automargin\": true, \"gridcolor\": \"white\", \"linecolor\": \"white\", \"ticks\": \"\", \"title\": {\"standoff\": 15}, \"zerolinecolor\": \"white\", \"zerolinewidth\": 2}}}, \"title\": {\"text\": \"Top 30 skills from 1000 employees HR at Amazon\"}, \"xaxis\": {\"anchor\": \"y\", \"domain\": [0.0, 1.0], \"title\": {\"text\": \"Skill\"}}, \"yaxis\": {\"anchor\": \"x\", \"domain\": [0.0, 1.0], \"title\": {\"text\": \"sum\"}}},\n",
       "                        {\"responsive\": true}\n",
       "                    ).then(function(){\n",
       "                            \n",
       "var gd = document.getElementById('c5fd848f-6612-472e-9e66-50e112238816');\n",
       "var x = new MutationObserver(function (mutations, observer) {{\n",
       "        var display = window.getComputedStyle(gd).display;\n",
       "        if (!display || display === 'none') {{\n",
       "            console.log([gd, 'removed!']);\n",
       "            Plotly.purge(gd);\n",
       "            observer.disconnect();\n",
       "        }}\n",
       "}});\n",
       "\n",
       "// Listen for the removal of the full notebook cells\n",
       "var notebookContainer = gd.closest('#notebook-container');\n",
       "if (notebookContainer) {{\n",
       "    x.observe(notebookContainer, {childList: true});\n",
       "}}\n",
       "\n",
       "// Listen for the clearing of the current output cell\n",
       "var outputEl = gd.closest('.output');\n",
       "if (outputEl) {{\n",
       "    x.observe(outputEl, {childList: true});\n",
       "}}\n",
       "\n",
       "                        })\n",
       "                };\n",
       "                });\n",
       "            </script>\n",
       "        </div>"
      ]
     },
     "metadata": {},
     "output_type": "display_data"
    }
   ],
   "source": [
    "s = top_skills('HR', 'Amazon', from_docker=True)"
   ]
  },
  {
   "cell_type": "code",
   "execution_count": 467,
   "metadata": {},
   "outputs": [],
   "source": [
    "def previous_experience_length(role, company, from_docker = True, plot=True, prev_experience='total'):\n",
    "    df = my_json_to_csv(role, company, from_docker)\n",
    "    y = 'total_years_of_experience'\n",
    "    if prev_experience != 'total':\n",
    "        y = 'prev_exp_duration_years_{}'.format(prev_experience)\n",
    "     \n",
    "    fig = px.histogram(df, x=y)\n",
    "    fig.update_layout(title_text=\"#years of experience from {0} {1} employees at {2}.\".format(len(df), role, company))\n",
    "    fig.show()"
   ]
  },
  {
   "cell_type": "code",
   "execution_count": 471,
   "metadata": {},
   "outputs": [
    {
     "name": "stdout",
     "output_type": "stream",
     "text": [
      "len json_source =  1000\n"
     ]
    },
    {
     "data": {
      "application/vnd.plotly.v1+json": {
       "config": {
        "plotlyServerURL": "https://plot.ly"
       },
       "data": [
        {
         "alignmentgroup": "True",
         "bingroup": "x",
         "hovertemplate": "total_years_of_experience=%{x}<br>count=%{y}<extra></extra>",
         "legendgroup": "",
         "marker": {
          "color": "#636efa"
         },
         "name": "",
         "offsetgroup": "",
         "orientation": "v",
         "showlegend": false,
         "type": "histogram",
         "x": [
          4,
          0.83,
          1.92,
          4.58,
          17.17,
          5.25,
          0,
          4,
          16.17,
          1,
          3.33,
          13.92,
          5.75,
          10,
          0.25,
          10.67,
          10.92,
          2.33,
          4,
          7.5,
          0.75,
          3.42,
          0,
          10.08,
          6.83,
          2.83,
          3,
          0.33,
          14.08,
          6.42,
          3,
          3,
          4.5,
          5.75,
          14.67,
          2.08,
          14.33,
          0,
          2.08,
          4.08,
          5.92,
          7.08,
          14.08,
          6.83,
          3.08,
          2.42,
          20.08,
          9.92,
          1.17,
          10.75,
          4.92,
          3.42,
          7.08,
          0.5,
          7.25,
          1.67,
          2.92,
          0,
          1.75,
          4.42,
          2.5,
          1.25,
          4,
          14.75,
          0,
          3.5,
          13.08,
          6.17,
          6.08,
          4.25,
          6.42,
          6.58,
          2.17,
          4.08,
          8.75,
          1.83,
          10,
          4.67,
          8.33,
          5.33,
          1.33,
          3.75,
          6.75,
          9.33,
          2.42,
          4.33,
          0,
          10.5,
          17.25,
          9.08,
          6.5,
          2.67,
          7.17,
          12.75,
          0,
          15.92,
          9.58,
          2.67,
          9,
          10.92,
          3.92,
          16.92,
          1.58,
          1.92,
          5.17,
          12.75,
          11,
          14.58,
          5.58,
          9.08,
          1.83,
          1.67,
          2.25,
          3,
          9,
          16.42,
          5.42,
          3.33,
          2.83,
          17.67,
          5,
          1.83,
          0,
          2.75,
          4.17,
          7.17,
          6,
          5.42,
          3.5,
          3,
          3.25,
          6.75,
          11.42,
          4.42,
          8.67,
          3.33,
          6.5,
          1.67,
          17.25,
          0.33,
          0.5,
          12.08,
          2.42,
          4.5,
          2.42,
          2.67,
          9.42,
          8.42,
          1.08,
          10,
          5.08,
          6.58,
          4.83,
          6.92,
          0.5,
          1.17,
          10.17,
          0.75,
          0,
          25.33,
          5.92,
          1.67,
          5.67,
          12.08,
          2.75,
          2.75,
          23.58,
          5.75,
          8.25,
          8.08,
          6,
          5.67,
          4.83,
          7.42,
          2.25,
          5.17,
          1.58,
          2.25,
          2.67,
          3.08,
          9.5,
          20.17,
          8.08,
          3.67,
          0,
          3.75,
          6.58,
          8.83,
          7.25,
          0,
          0,
          4.33,
          1.5,
          6.33,
          2.58,
          16.58,
          6.42,
          5.75,
          5.17,
          1.25,
          2.25,
          6.83,
          2.75,
          7.33,
          0,
          3.25,
          19.17,
          5,
          3,
          1.25,
          2.25,
          4.75,
          0,
          0.33,
          10.5,
          15.67,
          2.25,
          3,
          3.75,
          12.75,
          5.58,
          3.25,
          4.75,
          0,
          6.25,
          7.75,
          3.92,
          11.17,
          5.17,
          1,
          1.92,
          2.67,
          7.33,
          2.5,
          11.17,
          9.83,
          17.75,
          5.42,
          5.75,
          12.42,
          4,
          3.42,
          9.33,
          12.33,
          7.58,
          2.42,
          3.58,
          4.58,
          8,
          33.42,
          7,
          11.5,
          3.58,
          0,
          0.25,
          15.67,
          1.58,
          7.42,
          1,
          12.5,
          8.08,
          7,
          0.25,
          5.83,
          11.67,
          4.67,
          3.83,
          5.67,
          3.08,
          0,
          6.92,
          6,
          0,
          6.08,
          5,
          3.33,
          11.75,
          7.58,
          12.58,
          10.42,
          1.33,
          1.5,
          2.67,
          7.33,
          5.75,
          1.08,
          4.5,
          7.5,
          0.17,
          0,
          2,
          8.67,
          5.75,
          3.5,
          9.08,
          7.83,
          0,
          2.92,
          1.75,
          2.75,
          7.33,
          1,
          13.5,
          5.58,
          0,
          2.67,
          0,
          2.08,
          10.83,
          23.17,
          8.33,
          9.83,
          7.08,
          6.83,
          6.92,
          3.92,
          2.58,
          3.92,
          1.5,
          4.67,
          5,
          1.33,
          5.17,
          3.58,
          3.67,
          1.33,
          5.5,
          13.83,
          6.17,
          4.92,
          4,
          3.08,
          11.67,
          6.42,
          0.92,
          3.08,
          4.58,
          9.75,
          5,
          5.33,
          11.5,
          5.17,
          7.08,
          2.25,
          9.75,
          9.25,
          8.58,
          0.58,
          5.83,
          0.75,
          0,
          14.42,
          0,
          6.75,
          8.92,
          1.17,
          2.92,
          10,
          4.67,
          2.83,
          8.42,
          1.42,
          1.17,
          7.08,
          6.25,
          1.08,
          8.08,
          7.75,
          7.92,
          2.83,
          0,
          4.33,
          13.42,
          1.75,
          13.17,
          4.08,
          5.25,
          3.5,
          4.67,
          20,
          0.58,
          4.08,
          13.67,
          0,
          10,
          1,
          0,
          7.25,
          1.92,
          3.75,
          3.75,
          17.42,
          0.58,
          3.83,
          8,
          5.08,
          1.42,
          20.25,
          4.5,
          5.17,
          6.17,
          1.08,
          4.25,
          8,
          11.42,
          2.83,
          6.25,
          7.08,
          1.08,
          13.33,
          4.5,
          4.17,
          0,
          0,
          3.92,
          0.67,
          2.25,
          5.67,
          8.08,
          8.83,
          7.92,
          10.17,
          8.58,
          14.67,
          20.5,
          21.42,
          3.5,
          0.42,
          4.58,
          11.17,
          2.67,
          3.92,
          2.92,
          7.67,
          8.92,
          13.92,
          4.08,
          0,
          0,
          8.17,
          7.58,
          1.33,
          3.58,
          7.75,
          0,
          12.17,
          2.17,
          3.83,
          12,
          8.33,
          12.92,
          7.17,
          3.42,
          11.83,
          0,
          1.58,
          24.5,
          6.75,
          6.25,
          6.08,
          5.33,
          2,
          3.92,
          10.17,
          8.58,
          3.92,
          4.58,
          4.92,
          24.5,
          13.5,
          0.92,
          3.58,
          2.42,
          2.83,
          7.25,
          8.08,
          0,
          18.92,
          3.67,
          1.92,
          0,
          5.83,
          1.33,
          6.92,
          13.75,
          0,
          0.92,
          26,
          8.17,
          6,
          4.42,
          12.17,
          5.17,
          3.92,
          1,
          10.58,
          3.83,
          1.67,
          0.42,
          -0.08,
          8.5,
          5.75,
          2.17,
          1.25,
          5.5,
          4.42,
          5.08,
          6.25,
          5.25,
          13.5,
          16.08,
          4.67,
          8.83,
          6.83,
          13.08,
          1.5,
          4.75,
          0.83,
          6.17,
          4.58,
          2.33,
          3.25,
          9.42,
          3.5,
          8.75,
          0,
          11.25,
          2.25,
          6.42,
          6.42,
          1,
          3.92,
          3.67,
          3.67,
          6.75,
          8.42,
          0,
          0,
          11.42,
          3.75,
          21.75,
          1.67,
          2.75,
          2.42,
          0,
          0.5,
          9.58,
          10.58,
          0,
          9.33,
          9.58,
          13.83,
          3.58,
          12.42,
          7.17,
          9.33,
          5.58,
          0.92,
          6.17,
          7.67,
          7.33,
          0,
          10.75,
          5.08,
          4.83,
          3.83,
          9.83,
          4.92,
          1.92,
          1.25,
          2.83,
          2,
          5.33,
          2,
          6.75,
          9.75,
          2.08,
          13.92,
          7.92,
          0,
          2.58,
          1.08,
          5.92,
          5.17,
          3.08,
          4.42,
          2.25,
          6.75,
          14.75,
          13.25,
          1.83,
          1.5,
          7.33,
          6.25,
          12.33,
          3.17,
          2.58,
          7.42,
          3.75,
          7,
          7,
          14.33,
          21.42,
          6.58,
          4.92,
          15.08,
          5,
          3,
          11.33,
          0.75,
          11.42,
          4.5,
          0,
          0.83,
          3.33,
          6.5,
          27.75,
          3.33,
          3.25,
          3.58,
          0,
          0,
          2.17,
          4.5,
          2.83,
          4.92,
          0,
          23.25,
          6.83,
          2.5,
          12.75,
          7.08,
          2.5,
          5.67,
          7.67,
          1.58,
          2,
          4.83,
          3.33,
          3.67,
          10.92,
          0.5,
          4.25,
          8.17,
          5.58,
          4.25,
          4,
          3.42,
          1.92,
          0.58,
          2.67,
          2.75,
          1.08,
          19.25,
          2.75,
          7.67,
          10.17,
          3.42,
          14.17,
          1.08,
          1.17,
          3.92,
          2,
          3.33,
          8,
          4,
          2.33,
          0.92,
          2.83,
          8.33,
          11.92,
          1.08,
          0.92,
          21.5,
          0,
          7.33,
          0,
          11.58,
          3.33,
          9.75,
          4.92,
          16.25,
          5.67,
          0.75,
          4.17,
          3.25,
          11.17,
          6.92,
          1,
          3.17,
          6,
          0.83,
          1.67,
          1.83,
          5.67,
          1.67,
          12,
          0,
          0,
          8.83,
          0,
          1.5,
          7.67,
          2.92,
          5,
          6.75,
          7.25,
          0,
          5.58,
          2.25,
          4.42,
          6.17,
          0,
          2.92,
          8.08,
          6.75,
          2.58,
          4.42,
          10.42,
          5.83,
          2.58,
          0,
          3.58,
          7.33,
          3.17,
          6.58,
          8.25,
          4.17,
          0,
          8.5,
          9,
          1.92,
          0,
          8.42,
          5.75,
          11.75,
          6,
          15,
          6.83,
          22,
          0.33,
          1.33,
          6.83,
          5.42,
          3.42,
          1.17,
          5,
          5.42,
          0,
          0,
          4.75,
          4.25,
          7.67,
          16.25,
          11.17,
          2.5,
          6.17,
          2.5,
          5.67,
          5.58,
          9.42,
          3,
          2.92,
          3.25,
          10.42,
          3.42,
          1,
          1.25,
          1.92,
          2.75,
          4.58,
          1.08,
          8.42,
          21.58,
          4.58,
          3.33,
          3.5,
          2.33,
          0.5,
          6.25,
          0.17,
          1.25,
          7.67,
          2,
          0.33,
          4.67,
          7.33,
          2.08,
          3.08,
          3.67,
          0,
          6.42,
          0,
          9,
          2.33,
          8.33,
          22.25,
          8.42,
          1,
          3.75,
          0.58,
          0,
          6.08,
          3.75,
          8.67,
          1.08,
          5.17,
          14.25,
          12.42,
          0,
          1,
          1,
          8.42,
          0,
          5.58,
          2.25,
          10.42,
          2.33,
          1.08,
          0.92,
          18.17,
          3.33,
          6.67,
          3.67,
          1.25,
          3.92,
          9.08,
          17.58,
          10.58,
          1.58,
          1.42,
          3.58,
          1,
          2,
          5.42,
          0,
          10.58,
          2.92,
          4.75,
          1,
          19.5,
          0,
          9.33,
          2.92,
          5.75,
          2.08,
          0,
          0.67,
          7.33,
          4.08,
          2.5,
          3.92,
          3.42,
          1,
          11.42,
          0,
          5.42,
          2.5,
          13.42,
          0,
          9.42,
          4.42,
          3.42,
          0,
          13.42,
          21.08,
          3.67,
          2.08,
          5.58,
          2.67,
          3.83,
          1.17,
          7.08,
          1.92,
          5.33,
          0,
          5.83,
          6.08,
          0,
          0,
          0.83,
          5.25,
          4.25,
          8.42,
          1.25,
          18,
          0.42,
          4.17,
          2.33,
          2.33,
          2.25,
          7.58,
          1.92,
          0.33,
          1.58,
          5.33,
          0,
          11.08,
          0.83,
          2.17,
          4.75,
          2.58,
          0,
          4.08,
          4.75,
          5.42,
          16.75,
          7.58,
          1.92,
          6.17,
          0.83,
          5.58,
          2.42,
          2.08,
          5.33,
          9.25,
          8.33,
          3.08,
          11.17,
          1.58,
          1.92,
          11.08,
          2,
          2.08,
          1.08,
          9.25,
          13.17,
          5.25,
          0.75,
          3.58,
          3.58,
          1,
          7.08,
          10.83,
          0.58,
          27,
          5,
          2.5,
          2.58,
          10.42,
          5.83,
          0,
          1.58,
          0,
          7.25,
          0.5,
          0,
          7.08,
          10.33,
          1.08,
          19.5,
          4,
          4.67,
          0,
          9.33,
          8.5,
          11.75,
          6.42,
          6.92,
          14.33,
          0.75,
          1.5,
          1.08,
          11,
          1.25,
          5.83,
          3.33,
          1.58,
          4.17,
          5.08,
          2.75,
          11.08,
          5.75,
          2.08,
          1.67,
          10,
          10.83,
          8.25,
          3.25,
          6.5,
          0.75,
          6.67,
          3.75,
          5.75,
          9.58,
          0,
          9.5,
          2.5,
          11.08,
          9.83,
          0.42,
          0.5,
          4,
          22.25,
          5.58,
          28.5,
          8.75,
          2.17,
          1,
          1.08
         ],
         "xaxis": "x",
         "yaxis": "y"
        }
       ],
       "layout": {
        "barmode": "relative",
        "legend": {
         "tracegroupgap": 0
        },
        "margin": {
         "t": 60
        },
        "template": {
         "data": {
          "bar": [
           {
            "error_x": {
             "color": "#2a3f5f"
            },
            "error_y": {
             "color": "#2a3f5f"
            },
            "marker": {
             "line": {
              "color": "#E5ECF6",
              "width": 0.5
             }
            },
            "type": "bar"
           }
          ],
          "barpolar": [
           {
            "marker": {
             "line": {
              "color": "#E5ECF6",
              "width": 0.5
             }
            },
            "type": "barpolar"
           }
          ],
          "carpet": [
           {
            "aaxis": {
             "endlinecolor": "#2a3f5f",
             "gridcolor": "white",
             "linecolor": "white",
             "minorgridcolor": "white",
             "startlinecolor": "#2a3f5f"
            },
            "baxis": {
             "endlinecolor": "#2a3f5f",
             "gridcolor": "white",
             "linecolor": "white",
             "minorgridcolor": "white",
             "startlinecolor": "#2a3f5f"
            },
            "type": "carpet"
           }
          ],
          "choropleth": [
           {
            "colorbar": {
             "outlinewidth": 0,
             "ticks": ""
            },
            "type": "choropleth"
           }
          ],
          "contour": [
           {
            "colorbar": {
             "outlinewidth": 0,
             "ticks": ""
            },
            "colorscale": [
             [
              0,
              "#0d0887"
             ],
             [
              0.1111111111111111,
              "#46039f"
             ],
             [
              0.2222222222222222,
              "#7201a8"
             ],
             [
              0.3333333333333333,
              "#9c179e"
             ],
             [
              0.4444444444444444,
              "#bd3786"
             ],
             [
              0.5555555555555556,
              "#d8576b"
             ],
             [
              0.6666666666666666,
              "#ed7953"
             ],
             [
              0.7777777777777778,
              "#fb9f3a"
             ],
             [
              0.8888888888888888,
              "#fdca26"
             ],
             [
              1,
              "#f0f921"
             ]
            ],
            "type": "contour"
           }
          ],
          "contourcarpet": [
           {
            "colorbar": {
             "outlinewidth": 0,
             "ticks": ""
            },
            "type": "contourcarpet"
           }
          ],
          "heatmap": [
           {
            "colorbar": {
             "outlinewidth": 0,
             "ticks": ""
            },
            "colorscale": [
             [
              0,
              "#0d0887"
             ],
             [
              0.1111111111111111,
              "#46039f"
             ],
             [
              0.2222222222222222,
              "#7201a8"
             ],
             [
              0.3333333333333333,
              "#9c179e"
             ],
             [
              0.4444444444444444,
              "#bd3786"
             ],
             [
              0.5555555555555556,
              "#d8576b"
             ],
             [
              0.6666666666666666,
              "#ed7953"
             ],
             [
              0.7777777777777778,
              "#fb9f3a"
             ],
             [
              0.8888888888888888,
              "#fdca26"
             ],
             [
              1,
              "#f0f921"
             ]
            ],
            "type": "heatmap"
           }
          ],
          "heatmapgl": [
           {
            "colorbar": {
             "outlinewidth": 0,
             "ticks": ""
            },
            "colorscale": [
             [
              0,
              "#0d0887"
             ],
             [
              0.1111111111111111,
              "#46039f"
             ],
             [
              0.2222222222222222,
              "#7201a8"
             ],
             [
              0.3333333333333333,
              "#9c179e"
             ],
             [
              0.4444444444444444,
              "#bd3786"
             ],
             [
              0.5555555555555556,
              "#d8576b"
             ],
             [
              0.6666666666666666,
              "#ed7953"
             ],
             [
              0.7777777777777778,
              "#fb9f3a"
             ],
             [
              0.8888888888888888,
              "#fdca26"
             ],
             [
              1,
              "#f0f921"
             ]
            ],
            "type": "heatmapgl"
           }
          ],
          "histogram": [
           {
            "marker": {
             "colorbar": {
              "outlinewidth": 0,
              "ticks": ""
             }
            },
            "type": "histogram"
           }
          ],
          "histogram2d": [
           {
            "colorbar": {
             "outlinewidth": 0,
             "ticks": ""
            },
            "colorscale": [
             [
              0,
              "#0d0887"
             ],
             [
              0.1111111111111111,
              "#46039f"
             ],
             [
              0.2222222222222222,
              "#7201a8"
             ],
             [
              0.3333333333333333,
              "#9c179e"
             ],
             [
              0.4444444444444444,
              "#bd3786"
             ],
             [
              0.5555555555555556,
              "#d8576b"
             ],
             [
              0.6666666666666666,
              "#ed7953"
             ],
             [
              0.7777777777777778,
              "#fb9f3a"
             ],
             [
              0.8888888888888888,
              "#fdca26"
             ],
             [
              1,
              "#f0f921"
             ]
            ],
            "type": "histogram2d"
           }
          ],
          "histogram2dcontour": [
           {
            "colorbar": {
             "outlinewidth": 0,
             "ticks": ""
            },
            "colorscale": [
             [
              0,
              "#0d0887"
             ],
             [
              0.1111111111111111,
              "#46039f"
             ],
             [
              0.2222222222222222,
              "#7201a8"
             ],
             [
              0.3333333333333333,
              "#9c179e"
             ],
             [
              0.4444444444444444,
              "#bd3786"
             ],
             [
              0.5555555555555556,
              "#d8576b"
             ],
             [
              0.6666666666666666,
              "#ed7953"
             ],
             [
              0.7777777777777778,
              "#fb9f3a"
             ],
             [
              0.8888888888888888,
              "#fdca26"
             ],
             [
              1,
              "#f0f921"
             ]
            ],
            "type": "histogram2dcontour"
           }
          ],
          "mesh3d": [
           {
            "colorbar": {
             "outlinewidth": 0,
             "ticks": ""
            },
            "type": "mesh3d"
           }
          ],
          "parcoords": [
           {
            "line": {
             "colorbar": {
              "outlinewidth": 0,
              "ticks": ""
             }
            },
            "type": "parcoords"
           }
          ],
          "pie": [
           {
            "automargin": true,
            "type": "pie"
           }
          ],
          "scatter": [
           {
            "marker": {
             "colorbar": {
              "outlinewidth": 0,
              "ticks": ""
             }
            },
            "type": "scatter"
           }
          ],
          "scatter3d": [
           {
            "line": {
             "colorbar": {
              "outlinewidth": 0,
              "ticks": ""
             }
            },
            "marker": {
             "colorbar": {
              "outlinewidth": 0,
              "ticks": ""
             }
            },
            "type": "scatter3d"
           }
          ],
          "scattercarpet": [
           {
            "marker": {
             "colorbar": {
              "outlinewidth": 0,
              "ticks": ""
             }
            },
            "type": "scattercarpet"
           }
          ],
          "scattergeo": [
           {
            "marker": {
             "colorbar": {
              "outlinewidth": 0,
              "ticks": ""
             }
            },
            "type": "scattergeo"
           }
          ],
          "scattergl": [
           {
            "marker": {
             "colorbar": {
              "outlinewidth": 0,
              "ticks": ""
             }
            },
            "type": "scattergl"
           }
          ],
          "scattermapbox": [
           {
            "marker": {
             "colorbar": {
              "outlinewidth": 0,
              "ticks": ""
             }
            },
            "type": "scattermapbox"
           }
          ],
          "scatterpolar": [
           {
            "marker": {
             "colorbar": {
              "outlinewidth": 0,
              "ticks": ""
             }
            },
            "type": "scatterpolar"
           }
          ],
          "scatterpolargl": [
           {
            "marker": {
             "colorbar": {
              "outlinewidth": 0,
              "ticks": ""
             }
            },
            "type": "scatterpolargl"
           }
          ],
          "scatterternary": [
           {
            "marker": {
             "colorbar": {
              "outlinewidth": 0,
              "ticks": ""
             }
            },
            "type": "scatterternary"
           }
          ],
          "surface": [
           {
            "colorbar": {
             "outlinewidth": 0,
             "ticks": ""
            },
            "colorscale": [
             [
              0,
              "#0d0887"
             ],
             [
              0.1111111111111111,
              "#46039f"
             ],
             [
              0.2222222222222222,
              "#7201a8"
             ],
             [
              0.3333333333333333,
              "#9c179e"
             ],
             [
              0.4444444444444444,
              "#bd3786"
             ],
             [
              0.5555555555555556,
              "#d8576b"
             ],
             [
              0.6666666666666666,
              "#ed7953"
             ],
             [
              0.7777777777777778,
              "#fb9f3a"
             ],
             [
              0.8888888888888888,
              "#fdca26"
             ],
             [
              1,
              "#f0f921"
             ]
            ],
            "type": "surface"
           }
          ],
          "table": [
           {
            "cells": {
             "fill": {
              "color": "#EBF0F8"
             },
             "line": {
              "color": "white"
             }
            },
            "header": {
             "fill": {
              "color": "#C8D4E3"
             },
             "line": {
              "color": "white"
             }
            },
            "type": "table"
           }
          ]
         },
         "layout": {
          "annotationdefaults": {
           "arrowcolor": "#2a3f5f",
           "arrowhead": 0,
           "arrowwidth": 1
          },
          "coloraxis": {
           "colorbar": {
            "outlinewidth": 0,
            "ticks": ""
           }
          },
          "colorscale": {
           "diverging": [
            [
             0,
             "#8e0152"
            ],
            [
             0.1,
             "#c51b7d"
            ],
            [
             0.2,
             "#de77ae"
            ],
            [
             0.3,
             "#f1b6da"
            ],
            [
             0.4,
             "#fde0ef"
            ],
            [
             0.5,
             "#f7f7f7"
            ],
            [
             0.6,
             "#e6f5d0"
            ],
            [
             0.7,
             "#b8e186"
            ],
            [
             0.8,
             "#7fbc41"
            ],
            [
             0.9,
             "#4d9221"
            ],
            [
             1,
             "#276419"
            ]
           ],
           "sequential": [
            [
             0,
             "#0d0887"
            ],
            [
             0.1111111111111111,
             "#46039f"
            ],
            [
             0.2222222222222222,
             "#7201a8"
            ],
            [
             0.3333333333333333,
             "#9c179e"
            ],
            [
             0.4444444444444444,
             "#bd3786"
            ],
            [
             0.5555555555555556,
             "#d8576b"
            ],
            [
             0.6666666666666666,
             "#ed7953"
            ],
            [
             0.7777777777777778,
             "#fb9f3a"
            ],
            [
             0.8888888888888888,
             "#fdca26"
            ],
            [
             1,
             "#f0f921"
            ]
           ],
           "sequentialminus": [
            [
             0,
             "#0d0887"
            ],
            [
             0.1111111111111111,
             "#46039f"
            ],
            [
             0.2222222222222222,
             "#7201a8"
            ],
            [
             0.3333333333333333,
             "#9c179e"
            ],
            [
             0.4444444444444444,
             "#bd3786"
            ],
            [
             0.5555555555555556,
             "#d8576b"
            ],
            [
             0.6666666666666666,
             "#ed7953"
            ],
            [
             0.7777777777777778,
             "#fb9f3a"
            ],
            [
             0.8888888888888888,
             "#fdca26"
            ],
            [
             1,
             "#f0f921"
            ]
           ]
          },
          "colorway": [
           "#636efa",
           "#EF553B",
           "#00cc96",
           "#ab63fa",
           "#FFA15A",
           "#19d3f3",
           "#FF6692",
           "#B6E880",
           "#FF97FF",
           "#FECB52"
          ],
          "font": {
           "color": "#2a3f5f"
          },
          "geo": {
           "bgcolor": "white",
           "lakecolor": "white",
           "landcolor": "#E5ECF6",
           "showlakes": true,
           "showland": true,
           "subunitcolor": "white"
          },
          "hoverlabel": {
           "align": "left"
          },
          "hovermode": "closest",
          "mapbox": {
           "style": "light"
          },
          "paper_bgcolor": "white",
          "plot_bgcolor": "#E5ECF6",
          "polar": {
           "angularaxis": {
            "gridcolor": "white",
            "linecolor": "white",
            "ticks": ""
           },
           "bgcolor": "#E5ECF6",
           "radialaxis": {
            "gridcolor": "white",
            "linecolor": "white",
            "ticks": ""
           }
          },
          "scene": {
           "xaxis": {
            "backgroundcolor": "#E5ECF6",
            "gridcolor": "white",
            "gridwidth": 2,
            "linecolor": "white",
            "showbackground": true,
            "ticks": "",
            "zerolinecolor": "white"
           },
           "yaxis": {
            "backgroundcolor": "#E5ECF6",
            "gridcolor": "white",
            "gridwidth": 2,
            "linecolor": "white",
            "showbackground": true,
            "ticks": "",
            "zerolinecolor": "white"
           },
           "zaxis": {
            "backgroundcolor": "#E5ECF6",
            "gridcolor": "white",
            "gridwidth": 2,
            "linecolor": "white",
            "showbackground": true,
            "ticks": "",
            "zerolinecolor": "white"
           }
          },
          "shapedefaults": {
           "line": {
            "color": "#2a3f5f"
           }
          },
          "ternary": {
           "aaxis": {
            "gridcolor": "white",
            "linecolor": "white",
            "ticks": ""
           },
           "baxis": {
            "gridcolor": "white",
            "linecolor": "white",
            "ticks": ""
           },
           "bgcolor": "#E5ECF6",
           "caxis": {
            "gridcolor": "white",
            "linecolor": "white",
            "ticks": ""
           }
          },
          "title": {
           "x": 0.05
          },
          "xaxis": {
           "automargin": true,
           "gridcolor": "white",
           "linecolor": "white",
           "ticks": "",
           "title": {
            "standoff": 15
           },
           "zerolinecolor": "white",
           "zerolinewidth": 2
          },
          "yaxis": {
           "automargin": true,
           "gridcolor": "white",
           "linecolor": "white",
           "ticks": "",
           "title": {
            "standoff": 15
           },
           "zerolinecolor": "white",
           "zerolinewidth": 2
          }
         }
        },
        "title": {
         "text": "#years of experience from 1000 HR employees at Amazon."
        },
        "xaxis": {
         "anchor": "y",
         "domain": [
          0,
          1
         ],
         "title": {
          "text": "total_years_of_experience"
         }
        },
        "yaxis": {
         "anchor": "x",
         "domain": [
          0,
          1
         ],
         "title": {
          "text": "count"
         }
        }
       }
      },
      "text/html": [
       "<div>\n",
       "        \n",
       "        \n",
       "            <div id=\"a9eaf5cd-bd3c-4d4f-9646-6cab617d434d\" class=\"plotly-graph-div\" style=\"height:525px; width:100%;\"></div>\n",
       "            <script type=\"text/javascript\">\n",
       "                require([\"plotly\"], function(Plotly) {\n",
       "                    window.PLOTLYENV=window.PLOTLYENV || {};\n",
       "                    \n",
       "                if (document.getElementById(\"a9eaf5cd-bd3c-4d4f-9646-6cab617d434d\")) {\n",
       "                    Plotly.newPlot(\n",
       "                        'a9eaf5cd-bd3c-4d4f-9646-6cab617d434d',\n",
       "                        [{\"alignmentgroup\": \"True\", \"bingroup\": \"x\", \"hovertemplate\": \"total_years_of_experience=%{x}<br>count=%{y}<extra></extra>\", \"legendgroup\": \"\", \"marker\": {\"color\": \"#636efa\"}, \"name\": \"\", \"offsetgroup\": \"\", \"orientation\": \"v\", \"showlegend\": false, \"type\": \"histogram\", \"x\": [4.0, 0.83, 1.92, 4.58, 17.17, 5.25, 0.0, 4.0, 16.17, 1.0, 3.33, 13.92, 5.75, 10.0, 0.25, 10.67, 10.92, 2.33, 4.0, 7.5, 0.75, 3.42, 0.0, 10.08, 6.83, 2.83, 3.0, 0.33, 14.08, 6.42, 3.0, 3.0, 4.5, 5.75, 14.67, 2.08, 14.33, 0.0, 2.08, 4.08, 5.92, 7.08, 14.08, 6.83, 3.08, 2.42, 20.08, 9.92, 1.17, 10.75, 4.92, 3.42, 7.08, 0.5, 7.25, 1.67, 2.92, 0.0, 1.75, 4.42, 2.5, 1.25, 4.0, 14.75, 0.0, 3.5, 13.08, 6.17, 6.08, 4.25, 6.42, 6.58, 2.17, 4.08, 8.75, 1.83, 10.0, 4.67, 8.33, 5.33, 1.33, 3.75, 6.75, 9.33, 2.42, 4.33, 0.0, 10.5, 17.25, 9.08, 6.5, 2.67, 7.17, 12.75, 0.0, 15.92, 9.58, 2.67, 9.0, 10.92, 3.92, 16.92, 1.58, 1.92, 5.17, 12.75, 11.0, 14.58, 5.58, 9.08, 1.83, 1.67, 2.25, 3.0, 9.0, 16.42, 5.42, 3.33, 2.83, 17.67, 5.0, 1.83, 0.0, 2.75, 4.17, 7.17, 6.0, 5.42, 3.5, 3.0, 3.25, 6.75, 11.42, 4.42, 8.67, 3.33, 6.5, 1.67, 17.25, 0.33, 0.5, 12.08, 2.42, 4.5, 2.42, 2.67, 9.42, 8.42, 1.08, 10.0, 5.08, 6.58, 4.83, 6.92, 0.5, 1.17, 10.17, 0.75, 0.0, 25.33, 5.92, 1.67, 5.67, 12.08, 2.75, 2.75, 23.58, 5.75, 8.25, 8.08, 6.0, 5.67, 4.83, 7.42, 2.25, 5.17, 1.58, 2.25, 2.67, 3.08, 9.5, 20.17, 8.08, 3.67, 0.0, 3.75, 6.58, 8.83, 7.25, 0.0, 0.0, 4.33, 1.5, 6.33, 2.58, 16.58, 6.42, 5.75, 5.17, 1.25, 2.25, 6.83, 2.75, 7.33, 0.0, 3.25, 19.17, 5.0, 3.0, 1.25, 2.25, 4.75, 0.0, 0.33, 10.5, 15.67, 2.25, 3.0, 3.75, 12.75, 5.58, 3.25, 4.75, 0.0, 6.25, 7.75, 3.92, 11.17, 5.17, 1.0, 1.92, 2.67, 7.33, 2.5, 11.17, 9.83, 17.75, 5.42, 5.75, 12.42, 4.0, 3.42, 9.33, 12.33, 7.58, 2.42, 3.58, 4.58, 8.0, 33.42, 7.0, 11.5, 3.58, 0.0, 0.25, 15.67, 1.58, 7.42, 1.0, 12.5, 8.08, 7.0, 0.25, 5.83, 11.67, 4.67, 3.83, 5.67, 3.08, 0.0, 6.92, 6.0, 0.0, 6.08, 5.0, 3.33, 11.75, 7.58, 12.58, 10.42, 1.33, 1.5, 2.67, 7.33, 5.75, 1.08, 4.5, 7.5, 0.17, 0.0, 2.0, 8.67, 5.75, 3.5, 9.08, 7.83, 0.0, 2.92, 1.75, 2.75, 7.33, 1.0, 13.5, 5.58, 0.0, 2.67, 0.0, 2.08, 10.83, 23.17, 8.33, 9.83, 7.08, 6.83, 6.92, 3.92, 2.58, 3.92, 1.5, 4.67, 5.0, 1.33, 5.17, 3.58, 3.67, 1.33, 5.5, 13.83, 6.17, 4.92, 4.0, 3.08, 11.67, 6.42, 0.92, 3.08, 4.58, 9.75, 5.0, 5.33, 11.5, 5.17, 7.08, 2.25, 9.75, 9.25, 8.58, 0.58, 5.83, 0.75, 0.0, 14.42, 0.0, 6.75, 8.92, 1.17, 2.92, 10.0, 4.67, 2.83, 8.42, 1.42, 1.17, 7.08, 6.25, 1.08, 8.08, 7.75, 7.92, 2.83, 0.0, 4.33, 13.42, 1.75, 13.17, 4.08, 5.25, 3.5, 4.67, 20.0, 0.58, 4.08, 13.67, 0.0, 10.0, 1.0, 0.0, 7.25, 1.92, 3.75, 3.75, 17.42, 0.58, 3.83, 8.0, 5.08, 1.42, 20.25, 4.5, 5.17, 6.17, 1.08, 4.25, 8.0, 11.42, 2.83, 6.25, 7.08, 1.08, 13.33, 4.5, 4.17, 0.0, 0.0, 3.92, 0.67, 2.25, 5.67, 8.08, 8.83, 7.92, 10.17, 8.58, 14.67, 20.5, 21.42, 3.5, 0.42, 4.58, 11.17, 2.67, 3.92, 2.92, 7.67, 8.92, 13.92, 4.08, 0.0, 0.0, 8.17, 7.58, 1.33, 3.58, 7.75, 0.0, 12.17, 2.17, 3.83, 12.0, 8.33, 12.92, 7.17, 3.42, 11.83, 0.0, 1.58, 24.5, 6.75, 6.25, 6.08, 5.33, 2.0, 3.92, 10.17, 8.58, 3.92, 4.58, 4.92, 24.5, 13.5, 0.92, 3.58, 2.42, 2.83, 7.25, 8.08, 0.0, 18.92, 3.67, 1.92, 0.0, 5.83, 1.33, 6.92, 13.75, 0.0, 0.92, 26.0, 8.17, 6.0, 4.42, 12.17, 5.17, 3.92, 1.0, 10.58, 3.83, 1.67, 0.42, -0.08, 8.5, 5.75, 2.17, 1.25, 5.5, 4.42, 5.08, 6.25, 5.25, 13.5, 16.08, 4.67, 8.83, 6.83, 13.08, 1.5, 4.75, 0.83, 6.17, 4.58, 2.33, 3.25, 9.42, 3.5, 8.75, 0.0, 11.25, 2.25, 6.42, 6.42, 1.0, 3.92, 3.67, 3.67, 6.75, 8.42, 0.0, 0.0, 11.42, 3.75, 21.75, 1.67, 2.75, 2.42, 0.0, 0.5, 9.58, 10.58, 0.0, 9.33, 9.58, 13.83, 3.58, 12.42, 7.17, 9.33, 5.58, 0.92, 6.17, 7.67, 7.33, 0.0, 10.75, 5.08, 4.83, 3.83, 9.83, 4.92, 1.92, 1.25, 2.83, 2.0, 5.33, 2.0, 6.75, 9.75, 2.08, 13.92, 7.92, 0.0, 2.58, 1.08, 5.92, 5.17, 3.08, 4.42, 2.25, 6.75, 14.75, 13.25, 1.83, 1.5, 7.33, 6.25, 12.33, 3.17, 2.58, 7.42, 3.75, 7.0, 7.0, 14.33, 21.42, 6.58, 4.92, 15.08, 5.0, 3.0, 11.33, 0.75, 11.42, 4.5, 0.0, 0.83, 3.33, 6.5, 27.75, 3.33, 3.25, 3.58, 0.0, 0.0, 2.17, 4.5, 2.83, 4.92, 0.0, 23.25, 6.83, 2.5, 12.75, 7.08, 2.5, 5.67, 7.67, 1.58, 2.0, 4.83, 3.33, 3.67, 10.92, 0.5, 4.25, 8.17, 5.58, 4.25, 4.0, 3.42, 1.92, 0.58, 2.67, 2.75, 1.08, 19.25, 2.75, 7.67, 10.17, 3.42, 14.17, 1.08, 1.17, 3.92, 2.0, 3.33, 8.0, 4.0, 2.33, 0.92, 2.83, 8.33, 11.92, 1.08, 0.92, 21.5, 0.0, 7.33, 0.0, 11.58, 3.33, 9.75, 4.92, 16.25, 5.67, 0.75, 4.17, 3.25, 11.17, 6.92, 1.0, 3.17, 6.0, 0.83, 1.67, 1.83, 5.67, 1.67, 12.0, 0.0, 0.0, 8.83, 0.0, 1.5, 7.67, 2.92, 5.0, 6.75, 7.25, 0.0, 5.58, 2.25, 4.42, 6.17, 0.0, 2.92, 8.08, 6.75, 2.58, 4.42, 10.42, 5.83, 2.58, 0.0, 3.58, 7.33, 3.17, 6.58, 8.25, 4.17, 0.0, 8.5, 9.0, 1.92, 0.0, 8.42, 5.75, 11.75, 6.0, 15.0, 6.83, 22.0, 0.33, 1.33, 6.83, 5.42, 3.42, 1.17, 5.0, 5.42, 0.0, 0.0, 4.75, 4.25, 7.67, 16.25, 11.17, 2.5, 6.17, 2.5, 5.67, 5.58, 9.42, 3.0, 2.92, 3.25, 10.42, 3.42, 1.0, 1.25, 1.92, 2.75, 4.58, 1.08, 8.42, 21.58, 4.58, 3.33, 3.5, 2.33, 0.5, 6.25, 0.17, 1.25, 7.67, 2.0, 0.33, 4.67, 7.33, 2.08, 3.08, 3.67, 0.0, 6.42, 0.0, 9.0, 2.33, 8.33, 22.25, 8.42, 1.0, 3.75, 0.58, 0.0, 6.08, 3.75, 8.67, 1.08, 5.17, 14.25, 12.42, 0.0, 1.0, 1.0, 8.42, 0.0, 5.58, 2.25, 10.42, 2.33, 1.08, 0.92, 18.17, 3.33, 6.67, 3.67, 1.25, 3.92, 9.08, 17.58, 10.58, 1.58, 1.42, 3.58, 1.0, 2.0, 5.42, 0.0, 10.58, 2.92, 4.75, 1.0, 19.5, 0.0, 9.33, 2.92, 5.75, 2.08, 0.0, 0.67, 7.33, 4.08, 2.5, 3.92, 3.42, 1.0, 11.42, 0.0, 5.42, 2.5, 13.42, 0.0, 9.42, 4.42, 3.42, 0.0, 13.42, 21.08, 3.67, 2.08, 5.58, 2.67, 3.83, 1.17, 7.08, 1.92, 5.33, 0.0, 5.83, 6.08, 0.0, 0.0, 0.83, 5.25, 4.25, 8.42, 1.25, 18.0, 0.42, 4.17, 2.33, 2.33, 2.25, 7.58, 1.92, 0.33, 1.58, 5.33, 0.0, 11.08, 0.83, 2.17, 4.75, 2.58, 0.0, 4.08, 4.75, 5.42, 16.75, 7.58, 1.92, 6.17, 0.83, 5.58, 2.42, 2.08, 5.33, 9.25, 8.33, 3.08, 11.17, 1.58, 1.92, 11.08, 2.0, 2.08, 1.08, 9.25, 13.17, 5.25, 0.75, 3.58, 3.58, 1.0, 7.08, 10.83, 0.58, 27.0, 5.0, 2.5, 2.58, 10.42, 5.83, 0.0, 1.58, 0.0, 7.25, 0.5, 0.0, 7.08, 10.33, 1.08, 19.5, 4.0, 4.67, 0.0, 9.33, 8.5, 11.75, 6.42, 6.92, 14.33, 0.75, 1.5, 1.08, 11.0, 1.25, 5.83, 3.33, 1.58, 4.17, 5.08, 2.75, 11.08, 5.75, 2.08, 1.67, 10.0, 10.83, 8.25, 3.25, 6.5, 0.75, 6.67, 3.75, 5.75, 9.58, 0.0, 9.5, 2.5, 11.08, 9.83, 0.42, 0.5, 4.0, 22.25, 5.58, 28.5, 8.75, 2.17, 1.0, 1.08], \"xaxis\": \"x\", \"yaxis\": \"y\"}],\n",
       "                        {\"barmode\": \"relative\", \"legend\": {\"tracegroupgap\": 0}, \"margin\": {\"t\": 60}, \"template\": {\"data\": {\"bar\": [{\"error_x\": {\"color\": \"#2a3f5f\"}, \"error_y\": {\"color\": \"#2a3f5f\"}, \"marker\": {\"line\": {\"color\": \"#E5ECF6\", \"width\": 0.5}}, \"type\": \"bar\"}], \"barpolar\": [{\"marker\": {\"line\": {\"color\": \"#E5ECF6\", \"width\": 0.5}}, \"type\": \"barpolar\"}], \"carpet\": [{\"aaxis\": {\"endlinecolor\": \"#2a3f5f\", \"gridcolor\": \"white\", \"linecolor\": \"white\", \"minorgridcolor\": \"white\", \"startlinecolor\": \"#2a3f5f\"}, \"baxis\": {\"endlinecolor\": \"#2a3f5f\", \"gridcolor\": \"white\", \"linecolor\": \"white\", \"minorgridcolor\": \"white\", \"startlinecolor\": \"#2a3f5f\"}, \"type\": \"carpet\"}], \"choropleth\": [{\"colorbar\": {\"outlinewidth\": 0, \"ticks\": \"\"}, \"type\": \"choropleth\"}], \"contour\": [{\"colorbar\": {\"outlinewidth\": 0, \"ticks\": \"\"}, \"colorscale\": [[0.0, \"#0d0887\"], [0.1111111111111111, \"#46039f\"], [0.2222222222222222, \"#7201a8\"], [0.3333333333333333, \"#9c179e\"], [0.4444444444444444, \"#bd3786\"], [0.5555555555555556, \"#d8576b\"], [0.6666666666666666, \"#ed7953\"], [0.7777777777777778, \"#fb9f3a\"], [0.8888888888888888, \"#fdca26\"], [1.0, \"#f0f921\"]], \"type\": \"contour\"}], \"contourcarpet\": [{\"colorbar\": {\"outlinewidth\": 0, \"ticks\": \"\"}, \"type\": \"contourcarpet\"}], \"heatmap\": [{\"colorbar\": {\"outlinewidth\": 0, \"ticks\": \"\"}, \"colorscale\": [[0.0, \"#0d0887\"], [0.1111111111111111, \"#46039f\"], [0.2222222222222222, \"#7201a8\"], [0.3333333333333333, \"#9c179e\"], [0.4444444444444444, \"#bd3786\"], [0.5555555555555556, \"#d8576b\"], [0.6666666666666666, \"#ed7953\"], [0.7777777777777778, \"#fb9f3a\"], [0.8888888888888888, \"#fdca26\"], [1.0, \"#f0f921\"]], \"type\": \"heatmap\"}], \"heatmapgl\": [{\"colorbar\": {\"outlinewidth\": 0, \"ticks\": \"\"}, \"colorscale\": [[0.0, \"#0d0887\"], [0.1111111111111111, \"#46039f\"], [0.2222222222222222, \"#7201a8\"], [0.3333333333333333, \"#9c179e\"], [0.4444444444444444, \"#bd3786\"], [0.5555555555555556, \"#d8576b\"], [0.6666666666666666, \"#ed7953\"], [0.7777777777777778, \"#fb9f3a\"], [0.8888888888888888, \"#fdca26\"], [1.0, \"#f0f921\"]], \"type\": \"heatmapgl\"}], \"histogram\": [{\"marker\": {\"colorbar\": {\"outlinewidth\": 0, \"ticks\": \"\"}}, \"type\": \"histogram\"}], \"histogram2d\": [{\"colorbar\": {\"outlinewidth\": 0, \"ticks\": \"\"}, \"colorscale\": [[0.0, \"#0d0887\"], [0.1111111111111111, \"#46039f\"], [0.2222222222222222, \"#7201a8\"], [0.3333333333333333, \"#9c179e\"], [0.4444444444444444, \"#bd3786\"], [0.5555555555555556, \"#d8576b\"], [0.6666666666666666, \"#ed7953\"], [0.7777777777777778, \"#fb9f3a\"], [0.8888888888888888, \"#fdca26\"], [1.0, \"#f0f921\"]], \"type\": \"histogram2d\"}], \"histogram2dcontour\": [{\"colorbar\": {\"outlinewidth\": 0, \"ticks\": \"\"}, \"colorscale\": [[0.0, \"#0d0887\"], [0.1111111111111111, \"#46039f\"], [0.2222222222222222, \"#7201a8\"], [0.3333333333333333, \"#9c179e\"], [0.4444444444444444, \"#bd3786\"], [0.5555555555555556, \"#d8576b\"], [0.6666666666666666, \"#ed7953\"], [0.7777777777777778, \"#fb9f3a\"], [0.8888888888888888, \"#fdca26\"], [1.0, \"#f0f921\"]], \"type\": \"histogram2dcontour\"}], \"mesh3d\": [{\"colorbar\": {\"outlinewidth\": 0, \"ticks\": \"\"}, \"type\": \"mesh3d\"}], \"parcoords\": [{\"line\": {\"colorbar\": {\"outlinewidth\": 0, \"ticks\": \"\"}}, \"type\": \"parcoords\"}], \"pie\": [{\"automargin\": true, \"type\": \"pie\"}], \"scatter\": [{\"marker\": {\"colorbar\": {\"outlinewidth\": 0, \"ticks\": \"\"}}, \"type\": \"scatter\"}], \"scatter3d\": [{\"line\": {\"colorbar\": {\"outlinewidth\": 0, \"ticks\": \"\"}}, \"marker\": {\"colorbar\": {\"outlinewidth\": 0, \"ticks\": \"\"}}, \"type\": \"scatter3d\"}], \"scattercarpet\": [{\"marker\": {\"colorbar\": {\"outlinewidth\": 0, \"ticks\": \"\"}}, \"type\": \"scattercarpet\"}], \"scattergeo\": [{\"marker\": {\"colorbar\": {\"outlinewidth\": 0, \"ticks\": \"\"}}, \"type\": \"scattergeo\"}], \"scattergl\": [{\"marker\": {\"colorbar\": {\"outlinewidth\": 0, \"ticks\": \"\"}}, \"type\": \"scattergl\"}], \"scattermapbox\": [{\"marker\": {\"colorbar\": {\"outlinewidth\": 0, \"ticks\": \"\"}}, \"type\": \"scattermapbox\"}], \"scatterpolar\": [{\"marker\": {\"colorbar\": {\"outlinewidth\": 0, \"ticks\": \"\"}}, \"type\": \"scatterpolar\"}], \"scatterpolargl\": [{\"marker\": {\"colorbar\": {\"outlinewidth\": 0, \"ticks\": \"\"}}, \"type\": \"scatterpolargl\"}], \"scatterternary\": [{\"marker\": {\"colorbar\": {\"outlinewidth\": 0, \"ticks\": \"\"}}, \"type\": \"scatterternary\"}], \"surface\": [{\"colorbar\": {\"outlinewidth\": 0, \"ticks\": \"\"}, \"colorscale\": [[0.0, \"#0d0887\"], [0.1111111111111111, \"#46039f\"], [0.2222222222222222, \"#7201a8\"], [0.3333333333333333, \"#9c179e\"], [0.4444444444444444, \"#bd3786\"], [0.5555555555555556, \"#d8576b\"], [0.6666666666666666, \"#ed7953\"], [0.7777777777777778, \"#fb9f3a\"], [0.8888888888888888, \"#fdca26\"], [1.0, \"#f0f921\"]], \"type\": \"surface\"}], \"table\": [{\"cells\": {\"fill\": {\"color\": \"#EBF0F8\"}, \"line\": {\"color\": \"white\"}}, \"header\": {\"fill\": {\"color\": \"#C8D4E3\"}, \"line\": {\"color\": \"white\"}}, \"type\": \"table\"}]}, \"layout\": {\"annotationdefaults\": {\"arrowcolor\": \"#2a3f5f\", \"arrowhead\": 0, \"arrowwidth\": 1}, \"coloraxis\": {\"colorbar\": {\"outlinewidth\": 0, \"ticks\": \"\"}}, \"colorscale\": {\"diverging\": [[0, \"#8e0152\"], [0.1, \"#c51b7d\"], [0.2, \"#de77ae\"], [0.3, \"#f1b6da\"], [0.4, \"#fde0ef\"], [0.5, \"#f7f7f7\"], [0.6, \"#e6f5d0\"], [0.7, \"#b8e186\"], [0.8, \"#7fbc41\"], [0.9, \"#4d9221\"], [1, \"#276419\"]], \"sequential\": [[0.0, \"#0d0887\"], [0.1111111111111111, \"#46039f\"], [0.2222222222222222, \"#7201a8\"], [0.3333333333333333, \"#9c179e\"], [0.4444444444444444, \"#bd3786\"], [0.5555555555555556, \"#d8576b\"], [0.6666666666666666, \"#ed7953\"], [0.7777777777777778, \"#fb9f3a\"], [0.8888888888888888, \"#fdca26\"], [1.0, \"#f0f921\"]], \"sequentialminus\": [[0.0, \"#0d0887\"], [0.1111111111111111, \"#46039f\"], [0.2222222222222222, \"#7201a8\"], [0.3333333333333333, \"#9c179e\"], [0.4444444444444444, \"#bd3786\"], [0.5555555555555556, \"#d8576b\"], [0.6666666666666666, \"#ed7953\"], [0.7777777777777778, \"#fb9f3a\"], [0.8888888888888888, \"#fdca26\"], [1.0, \"#f0f921\"]]}, \"colorway\": [\"#636efa\", \"#EF553B\", \"#00cc96\", \"#ab63fa\", \"#FFA15A\", \"#19d3f3\", \"#FF6692\", \"#B6E880\", \"#FF97FF\", \"#FECB52\"], \"font\": {\"color\": \"#2a3f5f\"}, \"geo\": {\"bgcolor\": \"white\", \"lakecolor\": \"white\", \"landcolor\": \"#E5ECF6\", \"showlakes\": true, \"showland\": true, \"subunitcolor\": \"white\"}, \"hoverlabel\": {\"align\": \"left\"}, \"hovermode\": \"closest\", \"mapbox\": {\"style\": \"light\"}, \"paper_bgcolor\": \"white\", \"plot_bgcolor\": \"#E5ECF6\", \"polar\": {\"angularaxis\": {\"gridcolor\": \"white\", \"linecolor\": \"white\", \"ticks\": \"\"}, \"bgcolor\": \"#E5ECF6\", \"radialaxis\": {\"gridcolor\": \"white\", \"linecolor\": \"white\", \"ticks\": \"\"}}, \"scene\": {\"xaxis\": {\"backgroundcolor\": \"#E5ECF6\", \"gridcolor\": \"white\", \"gridwidth\": 2, \"linecolor\": \"white\", \"showbackground\": true, \"ticks\": \"\", \"zerolinecolor\": \"white\"}, \"yaxis\": {\"backgroundcolor\": \"#E5ECF6\", \"gridcolor\": \"white\", \"gridwidth\": 2, \"linecolor\": \"white\", \"showbackground\": true, \"ticks\": \"\", \"zerolinecolor\": \"white\"}, \"zaxis\": {\"backgroundcolor\": \"#E5ECF6\", \"gridcolor\": \"white\", \"gridwidth\": 2, \"linecolor\": \"white\", \"showbackground\": true, \"ticks\": \"\", \"zerolinecolor\": \"white\"}}, \"shapedefaults\": {\"line\": {\"color\": \"#2a3f5f\"}}, \"ternary\": {\"aaxis\": {\"gridcolor\": \"white\", \"linecolor\": \"white\", \"ticks\": \"\"}, \"baxis\": {\"gridcolor\": \"white\", \"linecolor\": \"white\", \"ticks\": \"\"}, \"bgcolor\": \"#E5ECF6\", \"caxis\": {\"gridcolor\": \"white\", \"linecolor\": \"white\", \"ticks\": \"\"}}, \"title\": {\"x\": 0.05}, \"xaxis\": {\"automargin\": true, \"gridcolor\": \"white\", \"linecolor\": \"white\", \"ticks\": \"\", \"title\": {\"standoff\": 15}, \"zerolinecolor\": \"white\", \"zerolinewidth\": 2}, \"yaxis\": {\"automargin\": true, \"gridcolor\": \"white\", \"linecolor\": \"white\", \"ticks\": \"\", \"title\": {\"standoff\": 15}, \"zerolinecolor\": \"white\", \"zerolinewidth\": 2}}}, \"title\": {\"text\": \"#years of experience from 1000 HR employees at Amazon.\"}, \"xaxis\": {\"anchor\": \"y\", \"domain\": [0.0, 1.0], \"title\": {\"text\": \"total_years_of_experience\"}}, \"yaxis\": {\"anchor\": \"x\", \"domain\": [0.0, 1.0], \"title\": {\"text\": \"count\"}}},\n",
       "                        {\"responsive\": true}\n",
       "                    ).then(function(){\n",
       "                            \n",
       "var gd = document.getElementById('a9eaf5cd-bd3c-4d4f-9646-6cab617d434d');\n",
       "var x = new MutationObserver(function (mutations, observer) {{\n",
       "        var display = window.getComputedStyle(gd).display;\n",
       "        if (!display || display === 'none') {{\n",
       "            console.log([gd, 'removed!']);\n",
       "            Plotly.purge(gd);\n",
       "            observer.disconnect();\n",
       "        }}\n",
       "}});\n",
       "\n",
       "// Listen for the removal of the full notebook cells\n",
       "var notebookContainer = gd.closest('#notebook-container');\n",
       "if (notebookContainer) {{\n",
       "    x.observe(notebookContainer, {childList: true});\n",
       "}}\n",
       "\n",
       "// Listen for the clearing of the current output cell\n",
       "var outputEl = gd.closest('.output');\n",
       "if (outputEl) {{\n",
       "    x.observe(outputEl, {childList: true});\n",
       "}}\n",
       "\n",
       "                        })\n",
       "                };\n",
       "                });\n",
       "            </script>\n",
       "        </div>"
      ]
     },
     "metadata": {},
     "output_type": "display_data"
    }
   ],
   "source": [
    "previous_experience_length('HR', 'Amazon', from_docker = True, plot=True, prev_experience='total')"
   ]
  },
  {
   "cell_type": "code",
   "execution_count": 473,
   "metadata": {},
   "outputs": [],
   "source": [
    "#df['prev_company_1'].value_counts()\n",
    "def most_common_former_institution(role, company, from_docker = True, y='prev_company_1', n=15):\n",
    "    df = my_json_to_csv(role, company, from_docker)\n",
    "    print('Top {0} from {1} {2}s at {3}'.format(y, len(df), role, company))\n",
    "    df[y].value_counts()[:n].plot(kind = 'barh')\n",
    "    #fig = px.histogram(df, x=y)\n",
    "    #fig.show()"
   ]
  },
  {
   "cell_type": "code",
   "execution_count": 475,
   "metadata": {},
   "outputs": [
    {
     "name": "stdout",
     "output_type": "stream",
     "text": [
      "len json_source =  2135\n",
      "Top prev_company_2 from 1507 SoftwareEngineers at Google\n"
     ]
    },
    {
     "data": {
      "image/png": "[encoded data removed]",
      "text/plain": [
       "<Figure size 432x288 with 1 Axes>"
      ]
     },
     "metadata": {
      "needs_background": "light"
     },
     "output_type": "display_data"
    }
   ],
   "source": [
    "most_common_former_institution('SoftwareEngineer', 'Google', from_docker=False, y='prev_company_2')"
   ]
  },
  {
   "cell_type": "code",
   "execution_count": 14,
   "metadata": {},
   "outputs": [],
   "source": [
    "def checkJsonSize(file):\n",
    "    with open(file) as fh:\n",
    "        l = json.load(fh)\n",
    "        return len(l)\n",
    "\n",
    "def checkNumUnique(file):\n",
    "    keys = {}\n",
    "    duplicates = []\n",
    "    numDuplicates = 0\n",
    "    \n",
    "    with open(file) as fh:\n",
    "        l = json.load(fh)\n",
    "    \n",
    "    for i in range(len(l)):\n",
    "        if l[i]['name'] in keys:\n",
    "            keys[l[i]['name']].append(i)\n",
    "            duplicates.append(i)\n",
    "            numDuplicates += 1\n",
    "        else:\n",
    "            keys[l[i]['name']] = [i]\n",
    "    \n",
    "    return (len(l) - numDuplicates, keys, duplicates)"
   ]
  },
  {
   "cell_type": "code",
   "execution_count": 48,
   "metadata": {},
   "outputs": [],
   "source": [
    "def json_appender(role, company, new_json=False):\n",
    "    path = \"/Users/ratebkahhaleh/Desktop/HOP/Docker/{0}_{1}\".format(company, role)\n",
    "    master_list = []\n",
    "    sizes = []\n",
    "    for file in glob.glob(os.path.join(path, '*.json')): #only process .JSON files\n",
    "        try:\n",
    "            with open(file) as fh:\n",
    "                l = json.load(fh)\n",
    "                master_list.extend(l)\n",
    "                sizes.append(len(l))\n",
    "        except: \n",
    "            print('problematic file: {}'.format(file))\n",
    "\n",
    "    if(new_json == True):\n",
    "        with open('/Users/ratebkahhaleh/Desktop/HOP/Data/{0}/{0}_{1}.json'.format(role, company), 'w') as fh:\n",
    "            json.dump(master_list, fh, indent=6)\n",
    "        \n",
    "    return master_list"
   ]
  },
  {
   "cell_type": "code",
   "execution_count": 16,
   "metadata": {},
   "outputs": [],
   "source": [
    "def csv_concator(role):\n",
    "    path = \"/Users/ratebkahhaleh/Desktop/HOP/Data/{0}\".format(role)\n",
    "    df = pd.DataFrame()\n",
    "    for file in glob.glob(os.path.join(path, '*.csv')): #only process .JSON files\n",
    "        try:\n",
    "            df = pd.concat([df, pd.read_csv(file, index_col='name')])\n",
    "        except: \n",
    "            \"There's an error with {}\".format(file)\n",
    "    if 'Unnamed: 0' in df:      \n",
    "        df.drop(columns=['Unnamed: 0'], inplace = True)\n",
    "    df.to_csv(\"/Users/ratebkahhaleh/Desktop/HOP/Data/All/{}.csv\".format(role))\n",
    "    return df"
   ]
  },
  {
   "cell_type": "code",
   "execution_count": 17,
   "metadata": {},
   "outputs": [],
   "source": [
    "def directory_json_to_csv(role):\n",
    "    path = \"/Users/ratebkahhaleh/Desktop/HOP/Data/{}\".format(role)\n",
    "    for file in glob.glob(os.path.join(path, '*.json')): #only process .JSON files\n",
    "        try:\n",
    "            company = file.split('_')[1].split('.')[0]\n",
    "            my_json_to_csv(role, company);\n",
    "            skills_json_to_df(role, company);\n",
    "            print('{} was processed'.format(file))\n",
    "        except: \n",
    "            print('problematic file: {}'.format(file))\n",
    "\n",
    "    "
   ]
  },
  {
   "cell_type": "code",
   "execution_count": 18,
   "metadata": {},
   "outputs": [],
   "source": [
    "def json_inspect_education(file):\n",
    "    bs = \"Bachelor's (4 year program)\"\n",
    "    ms = \"Master's (6 year program)\"\n",
    "    phd = \"PhD or other Doctorate\"\n",
    "    education_map = {}\n",
    "    education_count = {}\n",
    "    no_education = 0 \n",
    "    with open(file) as fh:\n",
    "        source = json.load(fh)\n",
    "    print('size of json file = {}'.format(len(source)))\n",
    "    \n",
    "    for i in range(len(source)):\n",
    "        if 'educations' not in source[i]:\n",
    "            no_education += 1\n",
    "            continue \n",
    "        key = source[i]['name']     \n",
    "        educations = source[i]['educations']\n",
    "        education_map[key] = set([source[i]['educations'][j]['degree']['name'] for j in range(len(educations)) if 'degree' in source[i]['educations'][j] and 'name' in source[i]['educations'][j]['degree']])\n",
    "        for j in range(len(education_map[key])):\n",
    "            if 'degree' in source[i]['educations'][j] and 'name' in source[i]['educations'][j]['degree']:\n",
    "                if source[i]['educations'][j]['degree']['name'] not in education_count:\n",
    "                    education_count[source[i]['educations'][j]['degree']['name']]=1\n",
    "                else:\n",
    "                    education_count[source[i]['educations'][j]['degree']['name']]+=1\n",
    "        \n",
    "    print('# file w/o listed education = {}'.format(no_education))        \n",
    "    return (education_map, education_count)\n"
   ]
  },
  {
   "cell_type": "code",
   "execution_count": 132,
   "metadata": {},
   "outputs": [
    {
     "name": "stdout",
     "output_type": "stream",
     "text": [
      "size of json file = 900\n",
      "prifile w/o listed education = 46\n"
     ]
    },
    {
     "data": {
      "text/plain": [
       "{\"Master's (6 year program)\": 323,\n",
       " \"Bachelor's (4 year program)\": 649,\n",
       " 'Pre-Japanese': 1,\n",
       " 'High School or Equivalent': 92,\n",
       " 'B-Tech, EEE': 1,\n",
       " 'Computer Science': 8,\n",
       " 'PhD or other Doctorate': 45,\n",
       " 'MCA': 2,\n",
       " 'BTech': 1,\n",
       " 'Certificate/License': 23,\n",
       " 'Diploma, Astrophysics': 1,\n",
       " 'Hospitality Administration/Management, Sophomore': 1,\n",
       " \"Associate's (2 year program)\": 22,\n",
       " 'None': 3,\n",
       " 'H.Dip ACT': 1,\n",
       " 'Math': 1,\n",
       " 'Bechelors': 1,\n",
       " 'Communication, Human Computer Interaction': 1,\n",
       " 'Mathematics; Computer Science, Software Engineering': 1,\n",
       " 'Software Engineering/Full Stack Web Development': 1,\n",
       " 'Diploma of College Studies': 1,\n",
       " 'B-Tech': 1,\n",
       " 'B Tech': 3,\n",
       " 'Engineering': 2,\n",
       " 'Engineer': 5,\n",
       " 'Baccalaureate': 2,\n",
       " 'Accelerator Program, Entrepreneurship/Entrepreneurial Studies': 2,\n",
       " 'Datamatiker': 2,\n",
       " 'HSC': 2,\n",
       " 'BEng': 4,\n",
       " 'Baccalauréat': 2,\n",
       " 'Music Technology': 2,\n",
       " 'Video Editing': 2,\n",
       " 'Music': 2,\n",
       " 'Nanodegree, Android Development': 2,\n",
       " 'LEAD Corporate Innovation': 2,\n",
       " 'worked': 2,\n",
       " '10+2': 2,\n",
       " '+2': 2,\n",
       " 'A.I.S.S.C.E': 2,\n",
       " 'Study Abroad Fall 2017': 2,\n",
       " 'Political Science': 1,\n",
       " 'Advanced Diploma Interactive Media Development': 2,\n",
       " 'GESE 8': 2,\n",
       " 'Diploma': 3,\n",
       " 'Level 1 Paramedic/Combat Medic': 2,\n",
       " 'Affiliate, Management Science and Innovation; Electrical and Electronics Engineering': 2,\n",
       " 'Italian Language and Literature, A+': 2,\n",
       " 'Diploma, Logistics, Materials, and Supply Chain Management': 2,\n",
       " 'B/S, Computer Science, Business': 2,\n",
       " 'Participant': 2,\n",
       " 'Computer Engineer': 2,\n",
       " 'Information Technology': 2,\n",
       " 'Dr. rer. nat.': 1,\n",
       " 'Graduate Diploma in Arts': 2,\n",
       " 'Dottorato': 1,\n",
       " 'Laurea specialistica': 1,\n",
       " 'Electrical and Electronics Engineering': 1,\n",
       " '1994. g. izlaidums': 1,\n",
       " 'Forum & Advanced': 1,\n",
       " 'EMBA': 1,\n",
       " 'none': 1,\n",
       " 'Computer Engineering': 1,\n",
       " 'Information/Computer Science': 1,\n",
       " 'Post Graduate Diploma in Management': 1,\n",
       " 'Software Engineering': 1,\n",
       " 'Summer School': 1,\n",
       " 'سنة التخرج: \\u200f2009\\u200f': 1,\n",
       " 'International Baccalaureate': 1,\n",
       " 'HSC, Computer Science, Physics, Chemistry, Maths': 1,\n",
       " \"Engineer's Degree\": 3,\n",
       " 'Erasmus Semester, Mobile and Security Computing': 1,\n",
       " 'MCA, Computer Software': 1,\n",
       " 'D.Phil': 1,\n",
       " 'BaSc': 1,\n",
       " '学士': 1,\n",
       " 'Interactive Web Design Specialization, Web Design, Web Development, Adobe CS5 Applications, 4.0': 1,\n",
       " 'Transfer': 1,\n",
       " 'BASc': 2,\n",
       " 'Cognitive Systems - Computational Intelligence and Design': 1,\n",
       " 'Graduaat': 2,\n",
       " 'ASA': 1,\n",
       " ', Computer Science': 2,\n",
       " 'Degree': 1,\n",
       " 'HR & PM': 1,\n",
       " \"Engineer's Degree, in Information Systems & Technologies\": 1,\n",
       " '12th Science, Engineering Physics/Applied Physics': 1,\n",
       " 'Hungarian Erettsegi': 1,\n",
       " 'Laurea Specialistica': 1,\n",
       " 'Graduate Research': 1,\n",
       " 'CCNA Training': 1,\n",
       " 'Diploma, PMIR': 1,\n",
       " 'Engineer’s Degree': 1,\n",
       " \"Engineer's degree\": 2,\n",
       " 'BMath': 1,\n",
       " 'Class': 1,\n",
       " 'Skills for Success': 1,\n",
       " 'Foreign Language': 1,\n",
       " 'Engineer’s Degree, Electrical and Electronics Engineering and Software Engineering': 1,\n",
       " 'Computer Science and Cybernetics': 1,\n",
       " 'M': 1,\n",
       " 'BM': 1,\n",
       " 'Dipl.-Ing., Electrical Engineering': 1,\n",
       " 'Abitur, Math, Physics': 1,\n",
       " 'one year of graduate school': 1,\n",
       " 'Higher Diploma in Software Engineering': 1,\n",
       " 'Nano Degree': 1,\n",
       " 'Summer School Student': 1,\n",
       " 'Android Bootcamp': 1,\n",
       " 'Deep Learning Foundation Nanodegree': 1,\n",
       " 'BASc, Electrical Engineering': 1}"
      ]
     },
     "execution_count": 132,
     "metadata": {},
     "output_type": "execute_result"
    }
   ],
   "source": [
    "json_inspect_education('Data/SoftwareEngineer/SoftwareEngineer_Apple.json')[1]"
   ]
  },
  {
   "cell_type": "code",
   "execution_count": 179,
   "metadata": {},
   "outputs": [
    {
     "data": {
      "text/html": [
       "<div>\n",
       "<style scoped>\n",
       "    .dataframe tbody tr th:only-of-type {\n",
       "        vertical-align: middle;\n",
       "    }\n",
       "\n",
       "    .dataframe tbody tr th {\n",
       "        vertical-align: top;\n",
       "    }\n",
       "\n",
       "    .dataframe thead th {\n",
       "        text-align: right;\n",
       "    }\n",
       "</style>\n",
       "<table border=\"1\" class=\"dataframe\">\n",
       "  <thead>\n",
       "    <tr style=\"text-align: right;\">\n",
       "      <th></th>\n",
       "      <th>age</th>\n",
       "      <th>gender</th>\n",
       "      <th>description</th>\n",
       "      <th>source_company</th>\n",
       "      <th>source_role</th>\n",
       "      <th>current_title</th>\n",
       "      <th>current_company</th>\n",
       "      <th>current_company_location</th>\n",
       "      <th>from</th>\n",
       "      <th>to</th>\n",
       "      <th>prev_title_1</th>\n",
       "      <th>prev_company_1</th>\n",
       "      <th>prev_exp_location_1</th>\n",
       "      <th>prev_exp_from_1</th>\n",
       "      <th>prev_exp_to_1</th>\n",
       "      <th>prev_exp_duration_months_1</th>\n",
       "      <th>prev_exp_duration_years_1</th>\n",
       "      <th>prev_title_2</th>\n",
       "      <th>prev_company_2</th>\n",
       "      <th>prev_exp_location_2</th>\n",
       "      <th>prev_exp_from_2</th>\n",
       "      <th>prev_exp_to_2</th>\n",
       "      <th>prev_exp_duration_months_2</th>\n",
       "      <th>prev_exp_duration_years_2</th>\n",
       "      <th>prev_title_3</th>\n",
       "      <th>prev_company_3</th>\n",
       "      <th>prev_exp_location_3</th>\n",
       "      <th>prev_exp_from_3</th>\n",
       "      <th>prev_exp_to_3</th>\n",
       "      <th>prev_exp_duration_months_3</th>\n",
       "      <th>prev_exp_duration_years_3</th>\n",
       "      <th>prev_title_4</th>\n",
       "      <th>prev_company_4</th>\n",
       "      <th>prev_exp_location_4</th>\n",
       "      <th>prev_exp_from_4</th>\n",
       "      <th>prev_exp_to_4</th>\n",
       "      <th>prev_exp_duration_months_4</th>\n",
       "      <th>prev_exp_duration_years_4</th>\n",
       "      <th>prev_title_5</th>\n",
       "      <th>prev_company_5</th>\n",
       "      <th>prev_exp_location_5</th>\n",
       "      <th>prev_exp_from_5</th>\n",
       "      <th>prev_exp_to_5</th>\n",
       "      <th>prev_exp_duration_months_5</th>\n",
       "      <th>prev_exp_duration_years_5</th>\n",
       "      <th>has_phd</th>\n",
       "      <th>major_phd</th>\n",
       "      <th>institution_phd</th>\n",
       "      <th>phd_start_date</th>\n",
       "      <th>phd_end_date</th>\n",
       "      <th>has_masters</th>\n",
       "      <th>major_masters</th>\n",
       "      <th>institution_masters</th>\n",
       "      <th>masters_start_date</th>\n",
       "      <th>masters_end_date</th>\n",
       "      <th>has_bachelors</th>\n",
       "      <th>major_bachelors</th>\n",
       "      <th>institution_bachelors</th>\n",
       "      <th>bachelors_start_date</th>\n",
       "      <th>bachelors_end_date</th>\n",
       "      <th>major_other</th>\n",
       "      <th>institution_other</th>\n",
       "      <th>other_start_date</th>\n",
       "      <th>other_end_date</th>\n",
       "    </tr>\n",
       "    <tr>\n",
       "      <th>name</th>\n",
       "      <th></th>\n",
       "      <th></th>\n",
       "      <th></th>\n",
       "      <th></th>\n",
       "      <th></th>\n",
       "      <th></th>\n",
       "      <th></th>\n",
       "      <th></th>\n",
       "      <th></th>\n",
       "      <th></th>\n",
       "      <th></th>\n",
       "      <th></th>\n",
       "      <th></th>\n",
       "      <th></th>\n",
       "      <th></th>\n",
       "      <th></th>\n",
       "      <th></th>\n",
       "      <th></th>\n",
       "      <th></th>\n",
       "      <th></th>\n",
       "      <th></th>\n",
       "      <th></th>\n",
       "      <th></th>\n",
       "      <th></th>\n",
       "      <th></th>\n",
       "      <th></th>\n",
       "      <th></th>\n",
       "      <th></th>\n",
       "      <th></th>\n",
       "      <th></th>\n",
       "      <th></th>\n",
       "      <th></th>\n",
       "      <th></th>\n",
       "      <th></th>\n",
       "      <th></th>\n",
       "      <th></th>\n",
       "      <th></th>\n",
       "      <th></th>\n",
       "      <th></th>\n",
       "      <th></th>\n",
       "      <th></th>\n",
       "      <th></th>\n",
       "      <th></th>\n",
       "      <th></th>\n",
       "      <th></th>\n",
       "      <th></th>\n",
       "      <th></th>\n",
       "      <th></th>\n",
       "      <th></th>\n",
       "      <th></th>\n",
       "      <th></th>\n",
       "      <th></th>\n",
       "      <th></th>\n",
       "      <th></th>\n",
       "      <th></th>\n",
       "      <th></th>\n",
       "      <th></th>\n",
       "      <th></th>\n",
       "      <th></th>\n",
       "      <th></th>\n",
       "      <th></th>\n",
       "      <th></th>\n",
       "      <th></th>\n",
       "      <th></th>\n",
       "    </tr>\n",
       "  </thead>\n",
       "  <tbody>\n",
       "    <tr>\n",
       "      <th>Mohamed Moussa</th>\n",
       "      <td>41.0</td>\n",
       "      <td>Male</td>\n",
       "      <td>EPM Manager - Hardware Technologies - Battery ...</td>\n",
       "      <td>Apple</td>\n",
       "      <td>EPM</td>\n",
       "      <td>EPM Manager - Hardware Technologies - Battery</td>\n",
       "      <td>Apple Inc.</td>\n",
       "      <td>Cupertino, California</td>\n",
       "      <td>2017-09-01 00:00:00</td>\n",
       "      <td>NaN</td>\n",
       "      <td>Product Engineering Manager</td>\n",
       "      <td>Texas Instruments</td>\n",
       "      <td>NaN</td>\n",
       "      <td>2011-09-01 00:00:00</td>\n",
       "      <td>2017-09-01 00:00:00</td>\n",
       "      <td>73.0</td>\n",
       "      <td>6.0</td>\n",
       "      <td>Staff Product Engineer, Mobile Devices Products</td>\n",
       "      <td>National Semiconductor</td>\n",
       "      <td>Santa Clara, California</td>\n",
       "      <td>2010-11-01 00:00:00</td>\n",
       "      <td>2011-09-01 00:00:00</td>\n",
       "      <td>10.0</td>\n",
       "      <td>1.0</td>\n",
       "      <td>NaN</td>\n",
       "      <td>NaN</td>\n",
       "      <td>NaN</td>\n",
       "      <td>NaN</td>\n",
       "      <td>NaN</td>\n",
       "      <td>NaN</td>\n",
       "      <td>NaN</td>\n",
       "      <td>NaN</td>\n",
       "      <td>NaN</td>\n",
       "      <td>NaN</td>\n",
       "      <td>NaN</td>\n",
       "      <td>NaN</td>\n",
       "      <td>NaN</td>\n",
       "      <td>NaN</td>\n",
       "      <td>NaN</td>\n",
       "      <td>NaN</td>\n",
       "      <td>NaN</td>\n",
       "      <td>NaN</td>\n",
       "      <td>NaN</td>\n",
       "      <td>NaN</td>\n",
       "      <td>NaN</td>\n",
       "      <td>False</td>\n",
       "      <td>NaN</td>\n",
       "      <td>NaN</td>\n",
       "      <td>NaN</td>\n",
       "      <td>NaN</td>\n",
       "      <td>True</td>\n",
       "      <td>MS Electrical Engineering</td>\n",
       "      <td>San Jose State University</td>\n",
       "      <td>2004.0</td>\n",
       "      <td>2006.0</td>\n",
       "      <td>True</td>\n",
       "      <td>BS Electrical Engineering</td>\n",
       "      <td>San Francisco State University</td>\n",
       "      <td>1998.0</td>\n",
       "      <td>2002.0</td>\n",
       "      <td>NaN</td>\n",
       "      <td>NaN</td>\n",
       "      <td>NaN</td>\n",
       "      <td>NaN</td>\n",
       "    </tr>\n",
       "    <tr>\n",
       "      <th>Santosh Singh</th>\n",
       "      <td>42.0</td>\n",
       "      <td>Male</td>\n",
       "      <td>Santosh Singh is an EPM at APPLE INC and is ba...</td>\n",
       "      <td>Apple</td>\n",
       "      <td>EPM</td>\n",
       "      <td>EPM</td>\n",
       "      <td>Apple Inc.</td>\n",
       "      <td>Cupertino, California</td>\n",
       "      <td>2014-01-01 00:00:00</td>\n",
       "      <td>NaN</td>\n",
       "      <td>Team Lead</td>\n",
       "      <td>BlackBerry Ltd</td>\n",
       "      <td>Dallas - Irving</td>\n",
       "      <td>2008-01-01 00:00:00</td>\n",
       "      <td>2013-01-01 00:00:00</td>\n",
       "      <td>61.0</td>\n",
       "      <td>5.0</td>\n",
       "      <td>Senior Software Engineer</td>\n",
       "      <td>Motorola Mobility</td>\n",
       "      <td>Hyderabad Area, India</td>\n",
       "      <td>2005-01-01 00:00:00</td>\n",
       "      <td>2006-01-01 00:00:00</td>\n",
       "      <td>12.0</td>\n",
       "      <td>1.0</td>\n",
       "      <td>Senior Software Engineer</td>\n",
       "      <td>Aricent</td>\n",
       "      <td>NaN</td>\n",
       "      <td>2001-01-01 00:00:00</td>\n",
       "      <td>2005-01-01 00:00:00</td>\n",
       "      <td>49.0</td>\n",
       "      <td>4.0</td>\n",
       "      <td>Network Engineer</td>\n",
       "      <td>HCL</td>\n",
       "      <td>NaN</td>\n",
       "      <td>2000-01-01 00:00:00</td>\n",
       "      <td>2001-01-01 00:00:00</td>\n",
       "      <td>12.0</td>\n",
       "      <td>1.0</td>\n",
       "      <td>NaN</td>\n",
       "      <td>NaN</td>\n",
       "      <td>NaN</td>\n",
       "      <td>NaN</td>\n",
       "      <td>NaN</td>\n",
       "      <td>NaN</td>\n",
       "      <td>NaN</td>\n",
       "      <td>False</td>\n",
       "      <td>NaN</td>\n",
       "      <td>NaN</td>\n",
       "      <td>NaN</td>\n",
       "      <td>NaN</td>\n",
       "      <td>True</td>\n",
       "      <td>Electronics and Communication Engineering</td>\n",
       "      <td>M.B.M. Engineering College, Jodhpur</td>\n",
       "      <td>1997.0</td>\n",
       "      <td>2000.0</td>\n",
       "      <td>True</td>\n",
       "      <td>NaN</td>\n",
       "      <td>NaN</td>\n",
       "      <td>NaN</td>\n",
       "      <td>NaN</td>\n",
       "      <td>NaN</td>\n",
       "      <td>NaN</td>\n",
       "      <td>NaN</td>\n",
       "      <td>NaN</td>\n",
       "    </tr>\n",
       "    <tr>\n",
       "      <th>Christine Ieong</th>\n",
       "      <td>31.0</td>\n",
       "      <td>Female</td>\n",
       "      <td>Proactively engages teams with an eagerness to...</td>\n",
       "      <td>Apple</td>\n",
       "      <td>EPM</td>\n",
       "      <td>Product Design EPM</td>\n",
       "      <td>Apple Inc.</td>\n",
       "      <td>San Francisco, California</td>\n",
       "      <td>2018-03-01 00:00:00</td>\n",
       "      <td>NaN</td>\n",
       "      <td>Lead Project Engineer</td>\n",
       "      <td>Boeing</td>\n",
       "      <td>Everett, Washington</td>\n",
       "      <td>2015-01-01 00:00:00</td>\n",
       "      <td>2016-03-01 00:00:00</td>\n",
       "      <td>14.0</td>\n",
       "      <td>1.0</td>\n",
       "      <td>Design Engineer</td>\n",
       "      <td>Boeing</td>\n",
       "      <td>NaN</td>\n",
       "      <td>2012-05-01 00:00:00</td>\n",
       "      <td>2014-09-01 00:00:00</td>\n",
       "      <td>28.0</td>\n",
       "      <td>2.0</td>\n",
       "      <td>Structural Engineering Intern</td>\n",
       "      <td>Permasteelisa</td>\n",
       "      <td>Singapore</td>\n",
       "      <td>2011-01-01 00:00:00</td>\n",
       "      <td>2011-08-01 00:00:00</td>\n",
       "      <td>7.0</td>\n",
       "      <td>1.0</td>\n",
       "      <td>Research Assistant</td>\n",
       "      <td>INTROMAC</td>\n",
       "      <td>Cáceres, Cáceres, Spain</td>\n",
       "      <td>2010-01-01 00:00:00</td>\n",
       "      <td>2010-05-01 00:00:00</td>\n",
       "      <td>4.0</td>\n",
       "      <td>0.0</td>\n",
       "      <td>NaN</td>\n",
       "      <td>NaN</td>\n",
       "      <td>NaN</td>\n",
       "      <td>NaN</td>\n",
       "      <td>NaN</td>\n",
       "      <td>NaN</td>\n",
       "      <td>NaN</td>\n",
       "      <td>False</td>\n",
       "      <td>NaN</td>\n",
       "      <td>NaN</td>\n",
       "      <td>NaN</td>\n",
       "      <td>NaN</td>\n",
       "      <td>False</td>\n",
       "      <td>NaN</td>\n",
       "      <td>NaN</td>\n",
       "      <td>NaN</td>\n",
       "      <td>NaN</td>\n",
       "      <td>True</td>\n",
       "      <td>Civil Engineering</td>\n",
       "      <td>Iowa State University</td>\n",
       "      <td>2008.0</td>\n",
       "      <td>2012.0</td>\n",
       "      <td>Spanish Language and Literature</td>\n",
       "      <td>Universidad de Extremadura</td>\n",
       "      <td>2010.0</td>\n",
       "      <td>2010.0</td>\n",
       "    </tr>\n",
       "    <tr>\n",
       "      <th>Leanne Hughes-Bland</th>\n",
       "      <td>49.0</td>\n",
       "      <td>Female</td>\n",
       "      <td>Engineering Program Manager, involved in a ran...</td>\n",
       "      <td>Apple</td>\n",
       "      <td>EPM</td>\n",
       "      <td>Release EPM</td>\n",
       "      <td>Apple Inc.</td>\n",
       "      <td>Cupertino, California</td>\n",
       "      <td>2016-05-01 00:00:00</td>\n",
       "      <td>NaN</td>\n",
       "      <td>Managing Director</td>\n",
       "      <td>Actuarial Sparkle Ltd</td>\n",
       "      <td>Southampton, City of Southampton, United Kingdom</td>\n",
       "      <td>2013-05-01 00:00:00</td>\n",
       "      <td>2014-07-01 00:00:00</td>\n",
       "      <td>14.0</td>\n",
       "      <td>1.0</td>\n",
       "      <td>Head of UK Pricing</td>\n",
       "      <td>Skandia</td>\n",
       "      <td>NaN</td>\n",
       "      <td>2011-01-01 00:00:00</td>\n",
       "      <td>2013-01-01 00:00:00</td>\n",
       "      <td>24.0</td>\n",
       "      <td>2.0</td>\n",
       "      <td>Actuarial Assistant</td>\n",
       "      <td>Skandia</td>\n",
       "      <td>NaN</td>\n",
       "      <td>1994-08-01 00:00:00</td>\n",
       "      <td>1999-12-01 00:00:00</td>\n",
       "      <td>65.0</td>\n",
       "      <td>5.0</td>\n",
       "      <td>Actuarial Assistant</td>\n",
       "      <td>BARCLAYS PLC</td>\n",
       "      <td>NaN</td>\n",
       "      <td>1993-07-01 00:00:00</td>\n",
       "      <td>1994-08-01 00:00:00</td>\n",
       "      <td>13.0</td>\n",
       "      <td>1.0</td>\n",
       "      <td>NaN</td>\n",
       "      <td>NaN</td>\n",
       "      <td>NaN</td>\n",
       "      <td>NaN</td>\n",
       "      <td>NaN</td>\n",
       "      <td>NaN</td>\n",
       "      <td>NaN</td>\n",
       "      <td>False</td>\n",
       "      <td>NaN</td>\n",
       "      <td>NaN</td>\n",
       "      <td>NaN</td>\n",
       "      <td>NaN</td>\n",
       "      <td>False</td>\n",
       "      <td>NaN</td>\n",
       "      <td>NaN</td>\n",
       "      <td>NaN</td>\n",
       "      <td>NaN</td>\n",
       "      <td>True</td>\n",
       "      <td>Mathematics with Actuarial Studies</td>\n",
       "      <td>University of Southampton</td>\n",
       "      <td>1990.0</td>\n",
       "      <td>1993.0</td>\n",
       "      <td>NaN</td>\n",
       "      <td>NaN</td>\n",
       "      <td>NaN</td>\n",
       "      <td>NaN</td>\n",
       "    </tr>\n",
       "    <tr>\n",
       "      <th>Sharlene Fulgencio</th>\n",
       "      <td>39.0</td>\n",
       "      <td>Female</td>\n",
       "      <td>Trying to find that passion. Trying to figure ...</td>\n",
       "      <td>Apple</td>\n",
       "      <td>EPM</td>\n",
       "      <td>EPM, Technology Development</td>\n",
       "      <td>Apple Inc.</td>\n",
       "      <td>Cupertino, California</td>\n",
       "      <td>2017-01-01 00:00:00</td>\n",
       "      <td>NaN</td>\n",
       "      <td>EPM, Special Projects</td>\n",
       "      <td>Apple Inc.</td>\n",
       "      <td>Cupertino, California</td>\n",
       "      <td>2015-05-01 00:00:00</td>\n",
       "      <td>2016-12-01 00:00:00</td>\n",
       "      <td>19.0</td>\n",
       "      <td>2.0</td>\n",
       "      <td>Project Manager at metaio, Inc.</td>\n",
       "      <td>Metaio</td>\n",
       "      <td>San Francisco, California</td>\n",
       "      <td>2014-08-01 00:00:00</td>\n",
       "      <td>2015-05-01 00:00:00</td>\n",
       "      <td>9.0</td>\n",
       "      <td>1.0</td>\n",
       "      <td>Technical Project Manager</td>\n",
       "      <td>Log(n)</td>\n",
       "      <td>San Francisco, California</td>\n",
       "      <td>2013-10-01 00:00:00</td>\n",
       "      <td>2014-08-01 00:00:00</td>\n",
       "      <td>10.0</td>\n",
       "      <td>1.0</td>\n",
       "      <td>Project Manager</td>\n",
       "      <td>Art + Science Labs</td>\n",
       "      <td>Culver City, California</td>\n",
       "      <td>2012-04-01 00:00:00</td>\n",
       "      <td>2013-10-01 00:00:00</td>\n",
       "      <td>18.0</td>\n",
       "      <td>2.0</td>\n",
       "      <td>Accounts &amp; Marketing Manager</td>\n",
       "      <td>BIC Photocopy &amp; Legal Services</td>\n",
       "      <td>Los Angeles, California</td>\n",
       "      <td>2009-03-01 00:00:00</td>\n",
       "      <td>2010-03-01 00:00:00</td>\n",
       "      <td>12.0</td>\n",
       "      <td>1.0</td>\n",
       "      <td>False</td>\n",
       "      <td>NaN</td>\n",
       "      <td>NaN</td>\n",
       "      <td>NaN</td>\n",
       "      <td>NaN</td>\n",
       "      <td>False</td>\n",
       "      <td>NaN</td>\n",
       "      <td>NaN</td>\n",
       "      <td>NaN</td>\n",
       "      <td>NaN</td>\n",
       "      <td>True</td>\n",
       "      <td>Computer Science, Computer Engineering</td>\n",
       "      <td>De La Salle University</td>\n",
       "      <td>2000.0</td>\n",
       "      <td>2006.0</td>\n",
       "      <td>NaN</td>\n",
       "      <td>NaN</td>\n",
       "      <td>NaN</td>\n",
       "      <td>NaN</td>\n",
       "    </tr>\n",
       "    <tr>\n",
       "      <th>...</th>\n",
       "      <td>...</td>\n",
       "      <td>...</td>\n",
       "      <td>...</td>\n",
       "      <td>...</td>\n",
       "      <td>...</td>\n",
       "      <td>...</td>\n",
       "      <td>...</td>\n",
       "      <td>...</td>\n",
       "      <td>...</td>\n",
       "      <td>...</td>\n",
       "      <td>...</td>\n",
       "      <td>...</td>\n",
       "      <td>...</td>\n",
       "      <td>...</td>\n",
       "      <td>...</td>\n",
       "      <td>...</td>\n",
       "      <td>...</td>\n",
       "      <td>...</td>\n",
       "      <td>...</td>\n",
       "      <td>...</td>\n",
       "      <td>...</td>\n",
       "      <td>...</td>\n",
       "      <td>...</td>\n",
       "      <td>...</td>\n",
       "      <td>...</td>\n",
       "      <td>...</td>\n",
       "      <td>...</td>\n",
       "      <td>...</td>\n",
       "      <td>...</td>\n",
       "      <td>...</td>\n",
       "      <td>...</td>\n",
       "      <td>...</td>\n",
       "      <td>...</td>\n",
       "      <td>...</td>\n",
       "      <td>...</td>\n",
       "      <td>...</td>\n",
       "      <td>...</td>\n",
       "      <td>...</td>\n",
       "      <td>...</td>\n",
       "      <td>...</td>\n",
       "      <td>...</td>\n",
       "      <td>...</td>\n",
       "      <td>...</td>\n",
       "      <td>...</td>\n",
       "      <td>...</td>\n",
       "      <td>...</td>\n",
       "      <td>...</td>\n",
       "      <td>...</td>\n",
       "      <td>...</td>\n",
       "      <td>...</td>\n",
       "      <td>...</td>\n",
       "      <td>...</td>\n",
       "      <td>...</td>\n",
       "      <td>...</td>\n",
       "      <td>...</td>\n",
       "      <td>...</td>\n",
       "      <td>...</td>\n",
       "      <td>...</td>\n",
       "      <td>...</td>\n",
       "      <td>...</td>\n",
       "      <td>...</td>\n",
       "      <td>...</td>\n",
       "      <td>...</td>\n",
       "      <td>...</td>\n",
       "    </tr>\n",
       "    <tr>\n",
       "      <th>Matthew Pirkowski</th>\n",
       "      <td>34.0</td>\n",
       "      <td>Male</td>\n",
       "      <td>Bringing Order to Chaos, and Chaos to Order.\\n...</td>\n",
       "      <td>Netflix</td>\n",
       "      <td>SoftwareEngineer</td>\n",
       "      <td>Founder</td>\n",
       "      <td>Ouro Industries</td>\n",
       "      <td>San Francisco, California</td>\n",
       "      <td>2018-01-01 00:00:00</td>\n",
       "      <td>NaN</td>\n",
       "      <td>Founder</td>\n",
       "      <td>Catalyzing Coherence</td>\n",
       "      <td>San Francisco, California</td>\n",
       "      <td>2018-05-01 00:00:00</td>\n",
       "      <td>NaN</td>\n",
       "      <td>NaN</td>\n",
       "      <td>NaN</td>\n",
       "      <td>Engineering, User Experience, and Product Deve...</td>\n",
       "      <td>Self Employed</td>\n",
       "      <td>San Francisco, California</td>\n",
       "      <td>2016-07-01 00:00:00</td>\n",
       "      <td>NaN</td>\n",
       "      <td>NaN</td>\n",
       "      <td>NaN</td>\n",
       "      <td>Senior Software Engineer</td>\n",
       "      <td>Netflix</td>\n",
       "      <td>NaN</td>\n",
       "      <td>2013-01-01 00:00:00</td>\n",
       "      <td>NaN</td>\n",
       "      <td>NaN</td>\n",
       "      <td>NaN</td>\n",
       "      <td>Frontend Engineer</td>\n",
       "      <td>HUBSPOT INC</td>\n",
       "      <td>NaN</td>\n",
       "      <td>2011-01-01 00:00:00</td>\n",
       "      <td>NaN</td>\n",
       "      <td>NaN</td>\n",
       "      <td>NaN</td>\n",
       "      <td>Producer</td>\n",
       "      <td>LiveTechnology</td>\n",
       "      <td>NaN</td>\n",
       "      <td>2008-01-01 00:00:00</td>\n",
       "      <td>NaN</td>\n",
       "      <td>NaN</td>\n",
       "      <td>NaN</td>\n",
       "      <td>False</td>\n",
       "      <td>NaN</td>\n",
       "      <td>NaN</td>\n",
       "      <td>NaN</td>\n",
       "      <td>NaN</td>\n",
       "      <td>False</td>\n",
       "      <td>NaN</td>\n",
       "      <td>NaN</td>\n",
       "      <td>NaN</td>\n",
       "      <td>NaN</td>\n",
       "      <td>True</td>\n",
       "      <td>NaN</td>\n",
       "      <td>Yale University, Yale College</td>\n",
       "      <td>2004.0</td>\n",
       "      <td>2008.0</td>\n",
       "      <td>NaN</td>\n",
       "      <td>Lake Mary High School</td>\n",
       "      <td>2002.0</td>\n",
       "      <td>2004.0</td>\n",
       "    </tr>\n",
       "    <tr>\n",
       "      <th>Ryan Blue</th>\n",
       "      <td>37.0</td>\n",
       "      <td>Male</td>\n",
       "      <td>Ryan Blue is a Software Engineer at Cloudera, ...</td>\n",
       "      <td>Netflix</td>\n",
       "      <td>SoftwareEngineer</td>\n",
       "      <td>Senior Software Engineer</td>\n",
       "      <td>Netflix</td>\n",
       "      <td>NaN</td>\n",
       "      <td>2016-02-01 00:00:00</td>\n",
       "      <td>NaN</td>\n",
       "      <td>Software Engineer</td>\n",
       "      <td>CLOUDERA, INC.</td>\n",
       "      <td>NaN</td>\n",
       "      <td>NaN</td>\n",
       "      <td>2016-01-01 00:00:00</td>\n",
       "      <td>NaN</td>\n",
       "      <td>NaN</td>\n",
       "      <td>Software Engineer, Team Lead</td>\n",
       "      <td>National Security Agency (NSA)</td>\n",
       "      <td>NaN</td>\n",
       "      <td>2005-06-01 00:00:00</td>\n",
       "      <td>2013-08-01 00:00:00</td>\n",
       "      <td>99.0</td>\n",
       "      <td>8.0</td>\n",
       "      <td>Vice President, Apache Avro</td>\n",
       "      <td>Apache Software Foundation</td>\n",
       "      <td>NaN</td>\n",
       "      <td>2016-02-01 00:00:00</td>\n",
       "      <td>NaN</td>\n",
       "      <td>NaN</td>\n",
       "      <td>NaN</td>\n",
       "      <td>Senior Software Engineer at Netflix</td>\n",
       "      <td>Member</td>\n",
       "      <td>NaN</td>\n",
       "      <td>NaN</td>\n",
       "      <td>NaN</td>\n",
       "      <td>NaN</td>\n",
       "      <td>NaN</td>\n",
       "      <td>NaN</td>\n",
       "      <td>NaN</td>\n",
       "      <td>NaN</td>\n",
       "      <td>NaN</td>\n",
       "      <td>NaN</td>\n",
       "      <td>NaN</td>\n",
       "      <td>NaN</td>\n",
       "      <td>False</td>\n",
       "      <td>NaN</td>\n",
       "      <td>NaN</td>\n",
       "      <td>NaN</td>\n",
       "      <td>NaN</td>\n",
       "      <td>True</td>\n",
       "      <td>Computer Science</td>\n",
       "      <td>University of Maryland</td>\n",
       "      <td>2007.0</td>\n",
       "      <td>2009.0</td>\n",
       "      <td>True</td>\n",
       "      <td>Computer Science, Mathematics</td>\n",
       "      <td>University of Idaho</td>\n",
       "      <td>2002.0</td>\n",
       "      <td>2005.0</td>\n",
       "      <td>NaN</td>\n",
       "      <td>NaN</td>\n",
       "      <td>NaN</td>\n",
       "      <td>NaN</td>\n",
       "    </tr>\n",
       "    <tr>\n",
       "      <th>Gabriel Grisé</th>\n",
       "      <td>38.0</td>\n",
       "      <td>Male</td>\n",
       "      <td>Specialties: Innovation, challenge, working un...</td>\n",
       "      <td>Netflix</td>\n",
       "      <td>SoftwareEngineer</td>\n",
       "      <td>Cofounder and CTO</td>\n",
       "      <td>Glancee</td>\n",
       "      <td>NaN</td>\n",
       "      <td>2010-11-01 00:00:00</td>\n",
       "      <td>NaN</td>\n",
       "      <td>Senior Software Engineer</td>\n",
       "      <td>Netflix</td>\n",
       "      <td>San Francisco, California</td>\n",
       "      <td>2018-05-01 00:00:00</td>\n",
       "      <td>NaN</td>\n",
       "      <td>NaN</td>\n",
       "      <td>NaN</td>\n",
       "      <td>Software engineer</td>\n",
       "      <td>Facebook</td>\n",
       "      <td>Menlo Park, United States</td>\n",
       "      <td>2012-05-01 00:00:00</td>\n",
       "      <td>2018-05-01 00:00:00</td>\n",
       "      <td>73.0</td>\n",
       "      <td>6.0</td>\n",
       "      <td>Software designer</td>\n",
       "      <td>Ericsson</td>\n",
       "      <td>NaN</td>\n",
       "      <td>2009-05-01 00:00:00</td>\n",
       "      <td>2010-05-01 00:00:00</td>\n",
       "      <td>12.0</td>\n",
       "      <td>1.0</td>\n",
       "      <td>Researcher / Software developer</td>\n",
       "      <td>MASSACHUSETTS INSTITUTE OF TECH</td>\n",
       "      <td>NaN</td>\n",
       "      <td>2007-09-01 00:00:00</td>\n",
       "      <td>2008-09-01 00:00:00</td>\n",
       "      <td>12.0</td>\n",
       "      <td>1.0</td>\n",
       "      <td>NaN</td>\n",
       "      <td>NaN</td>\n",
       "      <td>NaN</td>\n",
       "      <td>NaN</td>\n",
       "      <td>NaN</td>\n",
       "      <td>NaN</td>\n",
       "      <td>NaN</td>\n",
       "      <td>False</td>\n",
       "      <td>NaN</td>\n",
       "      <td>NaN</td>\n",
       "      <td>NaN</td>\n",
       "      <td>NaN</td>\n",
       "      <td>False</td>\n",
       "      <td>NaN</td>\n",
       "      <td>NaN</td>\n",
       "      <td>NaN</td>\n",
       "      <td>NaN</td>\n",
       "      <td>True</td>\n",
       "      <td>software engineering</td>\n",
       "      <td>ÉTS - École de technologie supérieure</td>\n",
       "      <td>2005.0</td>\n",
       "      <td>2010.0</td>\n",
       "      <td>NaN</td>\n",
       "      <td>NaN</td>\n",
       "      <td>NaN</td>\n",
       "      <td>NaN</td>\n",
       "    </tr>\n",
       "    <tr>\n",
       "      <th>Mykyta Protsenko</th>\n",
       "      <td>49.0</td>\n",
       "      <td>Male</td>\n",
       "      <td>Software engineer with 15+ years of experience...</td>\n",
       "      <td>Netflix</td>\n",
       "      <td>SoftwareEngineer</td>\n",
       "      <td>Senior Software Engineer</td>\n",
       "      <td>Netflix</td>\n",
       "      <td>Los Gatos, California</td>\n",
       "      <td>2018-06-01 00:00:00</td>\n",
       "      <td>NaN</td>\n",
       "      <td>Senior Software Engineer</td>\n",
       "      <td>ROKU, INC</td>\n",
       "      <td>Los Gatos, California</td>\n",
       "      <td>2015-12-01 00:00:00</td>\n",
       "      <td>2018-06-01 00:00:00</td>\n",
       "      <td>30.0</td>\n",
       "      <td>2.0</td>\n",
       "      <td>Senior Software Engineer</td>\n",
       "      <td>Tango</td>\n",
       "      <td>Mountain View, California</td>\n",
       "      <td>2012-10-01 00:00:00</td>\n",
       "      <td>2015-12-01 00:00:00</td>\n",
       "      <td>39.0</td>\n",
       "      <td>3.0</td>\n",
       "      <td>Java consultant/software engineer</td>\n",
       "      <td>Protsenko Consulting</td>\n",
       "      <td>Lugansk, Ukraine</td>\n",
       "      <td>2003-10-01 00:00:00</td>\n",
       "      <td>2012-10-01 00:00:00</td>\n",
       "      <td>110.0</td>\n",
       "      <td>9.0</td>\n",
       "      <td>Software engineer</td>\n",
       "      <td>Amigo IT, Ltd.</td>\n",
       "      <td>Донецьк, Donets'k, Ukraine</td>\n",
       "      <td>2001-02-01 00:00:00</td>\n",
       "      <td>2003-08-01 00:00:00</td>\n",
       "      <td>30.0</td>\n",
       "      <td>2.0</td>\n",
       "      <td>Software engineer</td>\n",
       "      <td>Infocom Ltd.</td>\n",
       "      <td>Донецьк, Donets'k, Ukraine</td>\n",
       "      <td>1999-01-01 00:00:00</td>\n",
       "      <td>2000-01-01 00:00:00</td>\n",
       "      <td>12.0</td>\n",
       "      <td>1.0</td>\n",
       "      <td>False</td>\n",
       "      <td>NaN</td>\n",
       "      <td>NaN</td>\n",
       "      <td>NaN</td>\n",
       "      <td>NaN</td>\n",
       "      <td>True</td>\n",
       "      <td>Applied Mathematics</td>\n",
       "      <td>Donetsk National University</td>\n",
       "      <td>1995.0</td>\n",
       "      <td>2000.0</td>\n",
       "      <td>True</td>\n",
       "      <td>NaN</td>\n",
       "      <td>NaN</td>\n",
       "      <td>NaN</td>\n",
       "      <td>NaN</td>\n",
       "      <td>NaN</td>\n",
       "      <td>NaN</td>\n",
       "      <td>NaN</td>\n",
       "      <td>NaN</td>\n",
       "    </tr>\n",
       "    <tr>\n",
       "      <th>Manuel Correa</th>\n",
       "      <td>35.0</td>\n",
       "      <td>Male</td>\n",
       "      <td>Manuel Correa is a senior software engineer at...</td>\n",
       "      <td>Netflix</td>\n",
       "      <td>SoftwareEngineer</td>\n",
       "      <td>Senior Software Engineer</td>\n",
       "      <td>Netflix</td>\n",
       "      <td>San Francisco, California</td>\n",
       "      <td>2017-08-01 00:00:00</td>\n",
       "      <td>NaN</td>\n",
       "      <td>Lead Software Engineer</td>\n",
       "      <td>CareerBuilder Inc</td>\n",
       "      <td>Atlanta, Georgia</td>\n",
       "      <td>2016-05-01 00:00:00</td>\n",
       "      <td>2017-08-01 00:00:00</td>\n",
       "      <td>15.0</td>\n",
       "      <td>1.0</td>\n",
       "      <td>Software Engineer - Android</td>\n",
       "      <td>NCR</td>\n",
       "      <td>Alpharetta, Georgia</td>\n",
       "      <td>2012-09-01 00:00:00</td>\n",
       "      <td>2013-12-01 00:00:00</td>\n",
       "      <td>15.0</td>\n",
       "      <td>1.0</td>\n",
       "      <td>Software Engineer</td>\n",
       "      <td>ITOS -Carl Vinson Institute of Government (UGA)</td>\n",
       "      <td>Athens-Clarke County, Georgia</td>\n",
       "      <td>2007-07-01 00:00:00</td>\n",
       "      <td>2012-08-01 00:00:00</td>\n",
       "      <td>62.0</td>\n",
       "      <td>5.0</td>\n",
       "      <td>Application Analyst Specialist</td>\n",
       "      <td>UGA</td>\n",
       "      <td>NaN</td>\n",
       "      <td>2007-01-01 00:00:00</td>\n",
       "      <td>2012-01-01 00:00:00</td>\n",
       "      <td>61.0</td>\n",
       "      <td>5.0</td>\n",
       "      <td>Freelance Software Engineer</td>\n",
       "      <td>YdeaSoft/Vinculo Legal</td>\n",
       "      <td>Cali, Valle del Cauca, Colombia</td>\n",
       "      <td>2005-06-01 00:00:00</td>\n",
       "      <td>2007-07-01 00:00:00</td>\n",
       "      <td>25.0</td>\n",
       "      <td>2.0</td>\n",
       "      <td>False</td>\n",
       "      <td>NaN</td>\n",
       "      <td>NaN</td>\n",
       "      <td>NaN</td>\n",
       "      <td>NaN</td>\n",
       "      <td>True</td>\n",
       "      <td>MS Computer Science</td>\n",
       "      <td>University of Georgia</td>\n",
       "      <td>2010.0</td>\n",
       "      <td>2012.0</td>\n",
       "      <td>True</td>\n",
       "      <td>NaN</td>\n",
       "      <td>NaN</td>\n",
       "      <td>NaN</td>\n",
       "      <td>NaN</td>\n",
       "      <td>Software Engineering</td>\n",
       "      <td>Icesi University</td>\n",
       "      <td>2001.0</td>\n",
       "      <td>2006.0</td>\n",
       "    </tr>\n",
       "  </tbody>\n",
       "</table>\n",
       "<p>11536 rows × 64 columns</p>\n",
       "</div>"
      ],
      "text/plain": [
       "                      age  gender  \\\n",
       "name                                \n",
       "Mohamed Moussa       41.0    Male   \n",
       "Santosh Singh        42.0    Male   \n",
       "Christine Ieong      31.0  Female   \n",
       "Leanne Hughes-Bland  49.0  Female   \n",
       "Sharlene Fulgencio   39.0  Female   \n",
       "...                   ...     ...   \n",
       "Matthew Pirkowski    34.0    Male   \n",
       "Ryan Blue            37.0    Male   \n",
       "Gabriel Grisé        38.0    Male   \n",
       "Mykyta Protsenko     49.0    Male   \n",
       "Manuel Correa        35.0    Male   \n",
       "\n",
       "                                                           description  \\\n",
       "name                                                                     \n",
       "Mohamed Moussa       EPM Manager - Hardware Technologies - Battery ...   \n",
       "Santosh Singh        Santosh Singh is an EPM at APPLE INC and is ba...   \n",
       "Christine Ieong      Proactively engages teams with an eagerness to...   \n",
       "Leanne Hughes-Bland  Engineering Program Manager, involved in a ran...   \n",
       "Sharlene Fulgencio   Trying to find that passion. Trying to figure ...   \n",
       "...                                                                ...   \n",
       "Matthew Pirkowski    Bringing Order to Chaos, and Chaos to Order.\\n...   \n",
       "Ryan Blue            Ryan Blue is a Software Engineer at Cloudera, ...   \n",
       "Gabriel Grisé        Specialties: Innovation, challenge, working un...   \n",
       "Mykyta Protsenko     Software engineer with 15+ years of experience...   \n",
       "Manuel Correa        Manuel Correa is a senior software engineer at...   \n",
       "\n",
       "                    source_company       source_role  \\\n",
       "name                                                   \n",
       "Mohamed Moussa               Apple               EPM   \n",
       "Santosh Singh                Apple               EPM   \n",
       "Christine Ieong              Apple               EPM   \n",
       "Leanne Hughes-Bland          Apple               EPM   \n",
       "Sharlene Fulgencio           Apple               EPM   \n",
       "...                            ...               ...   \n",
       "Matthew Pirkowski          Netflix  SoftwareEngineer   \n",
       "Ryan Blue                  Netflix  SoftwareEngineer   \n",
       "Gabriel Grisé              Netflix  SoftwareEngineer   \n",
       "Mykyta Protsenko           Netflix  SoftwareEngineer   \n",
       "Manuel Correa              Netflix  SoftwareEngineer   \n",
       "\n",
       "                                                     current_title  \\\n",
       "name                                                                 \n",
       "Mohamed Moussa       EPM Manager - Hardware Technologies - Battery   \n",
       "Santosh Singh                                                  EPM   \n",
       "Christine Ieong                                 Product Design EPM   \n",
       "Leanne Hughes-Bland                                    Release EPM   \n",
       "Sharlene Fulgencio                     EPM, Technology Development   \n",
       "...                                                            ...   \n",
       "Matthew Pirkowski                                          Founder   \n",
       "Ryan Blue                                 Senior Software Engineer   \n",
       "Gabriel Grisé                                    Cofounder and CTO   \n",
       "Mykyta Protsenko                          Senior Software Engineer   \n",
       "Manuel Correa                             Senior Software Engineer   \n",
       "\n",
       "                     current_company   current_company_location  \\\n",
       "name                                                              \n",
       "Mohamed Moussa            Apple Inc.      Cupertino, California   \n",
       "Santosh Singh             Apple Inc.      Cupertino, California   \n",
       "Christine Ieong           Apple Inc.  San Francisco, California   \n",
       "Leanne Hughes-Bland       Apple Inc.      Cupertino, California   \n",
       "Sharlene Fulgencio        Apple Inc.      Cupertino, California   \n",
       "...                              ...                        ...   \n",
       "Matthew Pirkowski    Ouro Industries  San Francisco, California   \n",
       "Ryan Blue                    Netflix                        NaN   \n",
       "Gabriel Grisé                Glancee                        NaN   \n",
       "Mykyta Protsenko             Netflix      Los Gatos, California   \n",
       "Manuel Correa                Netflix  San Francisco, California   \n",
       "\n",
       "                                    from   to                 prev_title_1  \\\n",
       "name                                                                         \n",
       "Mohamed Moussa       2017-09-01 00:00:00  NaN  Product Engineering Manager   \n",
       "Santosh Singh        2014-01-01 00:00:00  NaN                    Team Lead   \n",
       "Christine Ieong      2018-03-01 00:00:00  NaN        Lead Project Engineer   \n",
       "Leanne Hughes-Bland  2016-05-01 00:00:00  NaN            Managing Director   \n",
       "Sharlene Fulgencio   2017-01-01 00:00:00  NaN        EPM, Special Projects   \n",
       "...                                  ...  ...                          ...   \n",
       "Matthew Pirkowski    2018-01-01 00:00:00  NaN                      Founder   \n",
       "Ryan Blue            2016-02-01 00:00:00  NaN            Software Engineer   \n",
       "Gabriel Grisé        2010-11-01 00:00:00  NaN     Senior Software Engineer   \n",
       "Mykyta Protsenko     2018-06-01 00:00:00  NaN     Senior Software Engineer   \n",
       "Manuel Correa        2017-08-01 00:00:00  NaN       Lead Software Engineer   \n",
       "\n",
       "                            prev_company_1  \\\n",
       "name                                         \n",
       "Mohamed Moussa           Texas Instruments   \n",
       "Santosh Singh               BlackBerry Ltd   \n",
       "Christine Ieong                     Boeing   \n",
       "Leanne Hughes-Bland  Actuarial Sparkle Ltd   \n",
       "Sharlene Fulgencio              Apple Inc.   \n",
       "...                                    ...   \n",
       "Matthew Pirkowski     Catalyzing Coherence   \n",
       "Ryan Blue                   CLOUDERA, INC.   \n",
       "Gabriel Grisé                      Netflix   \n",
       "Mykyta Protsenko                 ROKU, INC   \n",
       "Manuel Correa            CareerBuilder Inc   \n",
       "\n",
       "                                                  prev_exp_location_1  \\\n",
       "name                                                                    \n",
       "Mohamed Moussa                                                    NaN   \n",
       "Santosh Singh                                         Dallas - Irving   \n",
       "Christine Ieong                                   Everett, Washington   \n",
       "Leanne Hughes-Bland  Southampton, City of Southampton, United Kingdom   \n",
       "Sharlene Fulgencio                              Cupertino, California   \n",
       "...                                                               ...   \n",
       "Matthew Pirkowski                           San Francisco, California   \n",
       "Ryan Blue                                                         NaN   \n",
       "Gabriel Grisé                               San Francisco, California   \n",
       "Mykyta Protsenko                                Los Gatos, California   \n",
       "Manuel Correa                                        Atlanta, Georgia   \n",
       "\n",
       "                         prev_exp_from_1        prev_exp_to_1  \\\n",
       "name                                                            \n",
       "Mohamed Moussa       2011-09-01 00:00:00  2017-09-01 00:00:00   \n",
       "Santosh Singh        2008-01-01 00:00:00  2013-01-01 00:00:00   \n",
       "Christine Ieong      2015-01-01 00:00:00  2016-03-01 00:00:00   \n",
       "Leanne Hughes-Bland  2013-05-01 00:00:00  2014-07-01 00:00:00   \n",
       "Sharlene Fulgencio   2015-05-01 00:00:00  2016-12-01 00:00:00   \n",
       "...                                  ...                  ...   \n",
       "Matthew Pirkowski    2018-05-01 00:00:00                  NaN   \n",
       "Ryan Blue                            NaN  2016-01-01 00:00:00   \n",
       "Gabriel Grisé        2018-05-01 00:00:00                  NaN   \n",
       "Mykyta Protsenko     2015-12-01 00:00:00  2018-06-01 00:00:00   \n",
       "Manuel Correa        2016-05-01 00:00:00  2017-08-01 00:00:00   \n",
       "\n",
       "                     prev_exp_duration_months_1  prev_exp_duration_years_1  \\\n",
       "name                                                                         \n",
       "Mohamed Moussa                             73.0                        6.0   \n",
       "Santosh Singh                              61.0                        5.0   \n",
       "Christine Ieong                            14.0                        1.0   \n",
       "Leanne Hughes-Bland                        14.0                        1.0   \n",
       "Sharlene Fulgencio                         19.0                        2.0   \n",
       "...                                         ...                        ...   \n",
       "Matthew Pirkowski                           NaN                        NaN   \n",
       "Ryan Blue                                   NaN                        NaN   \n",
       "Gabriel Grisé                               NaN                        NaN   \n",
       "Mykyta Protsenko                           30.0                        2.0   \n",
       "Manuel Correa                              15.0                        1.0   \n",
       "\n",
       "                                                          prev_title_2  \\\n",
       "name                                                                     \n",
       "Mohamed Moussa         Staff Product Engineer, Mobile Devices Products   \n",
       "Santosh Singh                                 Senior Software Engineer   \n",
       "Christine Ieong                                        Design Engineer   \n",
       "Leanne Hughes-Bland                                 Head of UK Pricing   \n",
       "Sharlene Fulgencio                     Project Manager at metaio, Inc.   \n",
       "...                                                                ...   \n",
       "Matthew Pirkowski    Engineering, User Experience, and Product Deve...   \n",
       "Ryan Blue                                 Software Engineer, Team Lead   \n",
       "Gabriel Grisé                                        Software engineer   \n",
       "Mykyta Protsenko                              Senior Software Engineer   \n",
       "Manuel Correa                              Software Engineer - Android   \n",
       "\n",
       "                                     prev_company_2  \\\n",
       "name                                                  \n",
       "Mohamed Moussa               National Semiconductor   \n",
       "Santosh Singh                     Motorola Mobility   \n",
       "Christine Ieong                              Boeing   \n",
       "Leanne Hughes-Bland                         Skandia   \n",
       "Sharlene Fulgencio                           Metaio   \n",
       "...                                             ...   \n",
       "Matthew Pirkowski                     Self Employed   \n",
       "Ryan Blue            National Security Agency (NSA)   \n",
       "Gabriel Grisé                              Facebook   \n",
       "Mykyta Protsenko                              Tango   \n",
       "Manuel Correa                                   NCR   \n",
       "\n",
       "                           prev_exp_location_2      prev_exp_from_2  \\\n",
       "name                                                                  \n",
       "Mohamed Moussa         Santa Clara, California  2010-11-01 00:00:00   \n",
       "Santosh Singh            Hyderabad Area, India  2005-01-01 00:00:00   \n",
       "Christine Ieong                            NaN  2012-05-01 00:00:00   \n",
       "Leanne Hughes-Bland                        NaN  2011-01-01 00:00:00   \n",
       "Sharlene Fulgencio   San Francisco, California  2014-08-01 00:00:00   \n",
       "...                                        ...                  ...   \n",
       "Matthew Pirkowski    San Francisco, California  2016-07-01 00:00:00   \n",
       "Ryan Blue                                  NaN  2005-06-01 00:00:00   \n",
       "Gabriel Grisé        Menlo Park, United States  2012-05-01 00:00:00   \n",
       "Mykyta Protsenko     Mountain View, California  2012-10-01 00:00:00   \n",
       "Manuel Correa              Alpharetta, Georgia  2012-09-01 00:00:00   \n",
       "\n",
       "                           prev_exp_to_2  prev_exp_duration_months_2  \\\n",
       "name                                                                   \n",
       "Mohamed Moussa       2011-09-01 00:00:00                        10.0   \n",
       "Santosh Singh        2006-01-01 00:00:00                        12.0   \n",
       "Christine Ieong      2014-09-01 00:00:00                        28.0   \n",
       "Leanne Hughes-Bland  2013-01-01 00:00:00                        24.0   \n",
       "Sharlene Fulgencio   2015-05-01 00:00:00                         9.0   \n",
       "...                                  ...                         ...   \n",
       "Matthew Pirkowski                    NaN                         NaN   \n",
       "Ryan Blue            2013-08-01 00:00:00                        99.0   \n",
       "Gabriel Grisé        2018-05-01 00:00:00                        73.0   \n",
       "Mykyta Protsenko     2015-12-01 00:00:00                        39.0   \n",
       "Manuel Correa        2013-12-01 00:00:00                        15.0   \n",
       "\n",
       "                     prev_exp_duration_years_2  \\\n",
       "name                                             \n",
       "Mohamed Moussa                             1.0   \n",
       "Santosh Singh                              1.0   \n",
       "Christine Ieong                            2.0   \n",
       "Leanne Hughes-Bland                        2.0   \n",
       "Sharlene Fulgencio                         1.0   \n",
       "...                                        ...   \n",
       "Matthew Pirkowski                          NaN   \n",
       "Ryan Blue                                  8.0   \n",
       "Gabriel Grisé                              6.0   \n",
       "Mykyta Protsenko                           3.0   \n",
       "Manuel Correa                              1.0   \n",
       "\n",
       "                                          prev_title_3  \\\n",
       "name                                                     \n",
       "Mohamed Moussa                                     NaN   \n",
       "Santosh Singh                 Senior Software Engineer   \n",
       "Christine Ieong          Structural Engineering Intern   \n",
       "Leanne Hughes-Bland                Actuarial Assistant   \n",
       "Sharlene Fulgencio           Technical Project Manager   \n",
       "...                                                ...   \n",
       "Matthew Pirkowski             Senior Software Engineer   \n",
       "Ryan Blue                  Vice President, Apache Avro   \n",
       "Gabriel Grisé                        Software designer   \n",
       "Mykyta Protsenko     Java consultant/software engineer   \n",
       "Manuel Correa                        Software Engineer   \n",
       "\n",
       "                                                      prev_company_3  \\\n",
       "name                                                                   \n",
       "Mohamed Moussa                                                   NaN   \n",
       "Santosh Singh                                                Aricent   \n",
       "Christine Ieong                                        Permasteelisa   \n",
       "Leanne Hughes-Bland                                          Skandia   \n",
       "Sharlene Fulgencio                                            Log(n)   \n",
       "...                                                              ...   \n",
       "Matthew Pirkowski                                            Netflix   \n",
       "Ryan Blue                                 Apache Software Foundation   \n",
       "Gabriel Grisé                                               Ericsson   \n",
       "Mykyta Protsenko                                Protsenko Consulting   \n",
       "Manuel Correa        ITOS -Carl Vinson Institute of Government (UGA)   \n",
       "\n",
       "                               prev_exp_location_3      prev_exp_from_3  \\\n",
       "name                                                                      \n",
       "Mohamed Moussa                                 NaN                  NaN   \n",
       "Santosh Singh                                  NaN  2001-01-01 00:00:00   \n",
       "Christine Ieong                          Singapore  2011-01-01 00:00:00   \n",
       "Leanne Hughes-Bland                            NaN  1994-08-01 00:00:00   \n",
       "Sharlene Fulgencio       San Francisco, California  2013-10-01 00:00:00   \n",
       "...                                            ...                  ...   \n",
       "Matthew Pirkowski                              NaN  2013-01-01 00:00:00   \n",
       "Ryan Blue                                      NaN  2016-02-01 00:00:00   \n",
       "Gabriel Grisé                                  NaN  2009-05-01 00:00:00   \n",
       "Mykyta Protsenko                  Lugansk, Ukraine  2003-10-01 00:00:00   \n",
       "Manuel Correa        Athens-Clarke County, Georgia  2007-07-01 00:00:00   \n",
       "\n",
       "                           prev_exp_to_3  prev_exp_duration_months_3  \\\n",
       "name                                                                   \n",
       "Mohamed Moussa                       NaN                         NaN   \n",
       "Santosh Singh        2005-01-01 00:00:00                        49.0   \n",
       "Christine Ieong      2011-08-01 00:00:00                         7.0   \n",
       "Leanne Hughes-Bland  1999-12-01 00:00:00                        65.0   \n",
       "Sharlene Fulgencio   2014-08-01 00:00:00                        10.0   \n",
       "...                                  ...                         ...   \n",
       "Matthew Pirkowski                    NaN                         NaN   \n",
       "Ryan Blue                            NaN                         NaN   \n",
       "Gabriel Grisé        2010-05-01 00:00:00                        12.0   \n",
       "Mykyta Protsenko     2012-10-01 00:00:00                       110.0   \n",
       "Manuel Correa        2012-08-01 00:00:00                        62.0   \n",
       "\n",
       "                     prev_exp_duration_years_3  \\\n",
       "name                                             \n",
       "Mohamed Moussa                             NaN   \n",
       "Santosh Singh                              4.0   \n",
       "Christine Ieong                            1.0   \n",
       "Leanne Hughes-Bland                        5.0   \n",
       "Sharlene Fulgencio                         1.0   \n",
       "...                                        ...   \n",
       "Matthew Pirkowski                          NaN   \n",
       "Ryan Blue                                  NaN   \n",
       "Gabriel Grisé                              1.0   \n",
       "Mykyta Protsenko                           9.0   \n",
       "Manuel Correa                              5.0   \n",
       "\n",
       "                                            prev_title_4  \\\n",
       "name                                                       \n",
       "Mohamed Moussa                                       NaN   \n",
       "Santosh Singh                           Network Engineer   \n",
       "Christine Ieong                       Research Assistant   \n",
       "Leanne Hughes-Bland                  Actuarial Assistant   \n",
       "Sharlene Fulgencio                       Project Manager   \n",
       "...                                                  ...   \n",
       "Matthew Pirkowski                      Frontend Engineer   \n",
       "Ryan Blue            Senior Software Engineer at Netflix   \n",
       "Gabriel Grisé            Researcher / Software developer   \n",
       "Mykyta Protsenko                       Software engineer   \n",
       "Manuel Correa             Application Analyst Specialist   \n",
       "\n",
       "                                      prev_company_4  \\\n",
       "name                                                   \n",
       "Mohamed Moussa                                   NaN   \n",
       "Santosh Singh                                    HCL   \n",
       "Christine Ieong                             INTROMAC   \n",
       "Leanne Hughes-Bland                     BARCLAYS PLC   \n",
       "Sharlene Fulgencio                Art + Science Labs   \n",
       "...                                              ...   \n",
       "Matthew Pirkowski                        HUBSPOT INC   \n",
       "Ryan Blue                                     Member   \n",
       "Gabriel Grisé        MASSACHUSETTS INSTITUTE OF TECH   \n",
       "Mykyta Protsenko                      Amigo IT, Ltd.   \n",
       "Manuel Correa                                    UGA   \n",
       "\n",
       "                            prev_exp_location_4      prev_exp_from_4  \\\n",
       "name                                                                   \n",
       "Mohamed Moussa                              NaN                  NaN   \n",
       "Santosh Singh                               NaN  2000-01-01 00:00:00   \n",
       "Christine Ieong         Cáceres, Cáceres, Spain  2010-01-01 00:00:00   \n",
       "Leanne Hughes-Bland                         NaN  1993-07-01 00:00:00   \n",
       "Sharlene Fulgencio      Culver City, California  2012-04-01 00:00:00   \n",
       "...                                         ...                  ...   \n",
       "Matthew Pirkowski                           NaN  2011-01-01 00:00:00   \n",
       "Ryan Blue                                   NaN                  NaN   \n",
       "Gabriel Grisé                               NaN  2007-09-01 00:00:00   \n",
       "Mykyta Protsenko     Донецьк, Donets'k, Ukraine  2001-02-01 00:00:00   \n",
       "Manuel Correa                               NaN  2007-01-01 00:00:00   \n",
       "\n",
       "                           prev_exp_to_4  prev_exp_duration_months_4  \\\n",
       "name                                                                   \n",
       "Mohamed Moussa                       NaN                         NaN   \n",
       "Santosh Singh        2001-01-01 00:00:00                        12.0   \n",
       "Christine Ieong      2010-05-01 00:00:00                         4.0   \n",
       "Leanne Hughes-Bland  1994-08-01 00:00:00                        13.0   \n",
       "Sharlene Fulgencio   2013-10-01 00:00:00                        18.0   \n",
       "...                                  ...                         ...   \n",
       "Matthew Pirkowski                    NaN                         NaN   \n",
       "Ryan Blue                            NaN                         NaN   \n",
       "Gabriel Grisé        2008-09-01 00:00:00                        12.0   \n",
       "Mykyta Protsenko     2003-08-01 00:00:00                        30.0   \n",
       "Manuel Correa        2012-01-01 00:00:00                        61.0   \n",
       "\n",
       "                     prev_exp_duration_years_4                  prev_title_5  \\\n",
       "name                                                                           \n",
       "Mohamed Moussa                             NaN                           NaN   \n",
       "Santosh Singh                              1.0                           NaN   \n",
       "Christine Ieong                            0.0                           NaN   \n",
       "Leanne Hughes-Bland                        1.0                           NaN   \n",
       "Sharlene Fulgencio                         2.0  Accounts & Marketing Manager   \n",
       "...                                        ...                           ...   \n",
       "Matthew Pirkowski                          NaN                      Producer   \n",
       "Ryan Blue                                  NaN                           NaN   \n",
       "Gabriel Grisé                              1.0                           NaN   \n",
       "Mykyta Protsenko                           2.0             Software engineer   \n",
       "Manuel Correa                              5.0   Freelance Software Engineer   \n",
       "\n",
       "                                     prev_company_5  \\\n",
       "name                                                  \n",
       "Mohamed Moussa                                  NaN   \n",
       "Santosh Singh                                   NaN   \n",
       "Christine Ieong                                 NaN   \n",
       "Leanne Hughes-Bland                             NaN   \n",
       "Sharlene Fulgencio   BIC Photocopy & Legal Services   \n",
       "...                                             ...   \n",
       "Matthew Pirkowski                    LiveTechnology   \n",
       "Ryan Blue                                       NaN   \n",
       "Gabriel Grisé                                   NaN   \n",
       "Mykyta Protsenko                       Infocom Ltd.   \n",
       "Manuel Correa                YdeaSoft/Vinculo Legal   \n",
       "\n",
       "                                 prev_exp_location_5      prev_exp_from_5  \\\n",
       "name                                                                        \n",
       "Mohamed Moussa                                   NaN                  NaN   \n",
       "Santosh Singh                                    NaN                  NaN   \n",
       "Christine Ieong                                  NaN                  NaN   \n",
       "Leanne Hughes-Bland                              NaN                  NaN   \n",
       "Sharlene Fulgencio           Los Angeles, California  2009-03-01 00:00:00   \n",
       "...                                              ...                  ...   \n",
       "Matthew Pirkowski                                NaN  2008-01-01 00:00:00   \n",
       "Ryan Blue                                        NaN                  NaN   \n",
       "Gabriel Grisé                                    NaN                  NaN   \n",
       "Mykyta Protsenko          Донецьк, Donets'k, Ukraine  1999-01-01 00:00:00   \n",
       "Manuel Correa        Cali, Valle del Cauca, Colombia  2005-06-01 00:00:00   \n",
       "\n",
       "                           prev_exp_to_5  prev_exp_duration_months_5  \\\n",
       "name                                                                   \n",
       "Mohamed Moussa                       NaN                         NaN   \n",
       "Santosh Singh                        NaN                         NaN   \n",
       "Christine Ieong                      NaN                         NaN   \n",
       "Leanne Hughes-Bland                  NaN                         NaN   \n",
       "Sharlene Fulgencio   2010-03-01 00:00:00                        12.0   \n",
       "...                                  ...                         ...   \n",
       "Matthew Pirkowski                    NaN                         NaN   \n",
       "Ryan Blue                            NaN                         NaN   \n",
       "Gabriel Grisé                        NaN                         NaN   \n",
       "Mykyta Protsenko     2000-01-01 00:00:00                        12.0   \n",
       "Manuel Correa        2007-07-01 00:00:00                        25.0   \n",
       "\n",
       "                     prev_exp_duration_years_5  has_phd major_phd  \\\n",
       "name                                                                \n",
       "Mohamed Moussa                             NaN    False       NaN   \n",
       "Santosh Singh                              NaN    False       NaN   \n",
       "Christine Ieong                            NaN    False       NaN   \n",
       "Leanne Hughes-Bland                        NaN    False       NaN   \n",
       "Sharlene Fulgencio                         1.0    False       NaN   \n",
       "...                                        ...      ...       ...   \n",
       "Matthew Pirkowski                          NaN    False       NaN   \n",
       "Ryan Blue                                  NaN    False       NaN   \n",
       "Gabriel Grisé                              NaN    False       NaN   \n",
       "Mykyta Protsenko                           1.0    False       NaN   \n",
       "Manuel Correa                              2.0    False       NaN   \n",
       "\n",
       "                    institution_phd  phd_start_date  phd_end_date  \\\n",
       "name                                                                \n",
       "Mohamed Moussa                  NaN             NaN           NaN   \n",
       "Santosh Singh                   NaN             NaN           NaN   \n",
       "Christine Ieong                 NaN             NaN           NaN   \n",
       "Leanne Hughes-Bland             NaN             NaN           NaN   \n",
       "Sharlene Fulgencio              NaN             NaN           NaN   \n",
       "...                             ...             ...           ...   \n",
       "Matthew Pirkowski               NaN             NaN           NaN   \n",
       "Ryan Blue                       NaN             NaN           NaN   \n",
       "Gabriel Grisé                   NaN             NaN           NaN   \n",
       "Mykyta Protsenko                NaN             NaN           NaN   \n",
       "Manuel Correa                   NaN             NaN           NaN   \n",
       "\n",
       "                     has_masters                              major_masters  \\\n",
       "name                                                                          \n",
       "Mohamed Moussa              True                  MS Electrical Engineering   \n",
       "Santosh Singh               True  Electronics and Communication Engineering   \n",
       "Christine Ieong            False                                        NaN   \n",
       "Leanne Hughes-Bland        False                                        NaN   \n",
       "Sharlene Fulgencio         False                                        NaN   \n",
       "...                          ...                                        ...   \n",
       "Matthew Pirkowski          False                                        NaN   \n",
       "Ryan Blue                   True                           Computer Science   \n",
       "Gabriel Grisé              False                                        NaN   \n",
       "Mykyta Protsenko            True                        Applied Mathematics   \n",
       "Manuel Correa               True                        MS Computer Science   \n",
       "\n",
       "                                     institution_masters  masters_start_date  \\\n",
       "name                                                                           \n",
       "Mohamed Moussa                 San Jose State University              2004.0   \n",
       "Santosh Singh        M.B.M. Engineering College, Jodhpur              1997.0   \n",
       "Christine Ieong                                      NaN                 NaN   \n",
       "Leanne Hughes-Bland                                  NaN                 NaN   \n",
       "Sharlene Fulgencio                                   NaN                 NaN   \n",
       "...                                                  ...                 ...   \n",
       "Matthew Pirkowski                                    NaN                 NaN   \n",
       "Ryan Blue                         University of Maryland              2007.0   \n",
       "Gabriel Grisé                                        NaN                 NaN   \n",
       "Mykyta Protsenko             Donetsk National University              1995.0   \n",
       "Manuel Correa                      University of Georgia              2010.0   \n",
       "\n",
       "                     masters_end_date has_bachelors  \\\n",
       "name                                                  \n",
       "Mohamed Moussa                 2006.0          True   \n",
       "Santosh Singh                  2000.0          True   \n",
       "Christine Ieong                   NaN          True   \n",
       "Leanne Hughes-Bland               NaN          True   \n",
       "Sharlene Fulgencio                NaN          True   \n",
       "...                               ...           ...   \n",
       "Matthew Pirkowski                 NaN          True   \n",
       "Ryan Blue                      2009.0          True   \n",
       "Gabriel Grisé                     NaN          True   \n",
       "Mykyta Protsenko               2000.0          True   \n",
       "Manuel Correa                  2012.0          True   \n",
       "\n",
       "                                            major_bachelors  \\\n",
       "name                                                          \n",
       "Mohamed Moussa                    BS Electrical Engineering   \n",
       "Santosh Singh                                           NaN   \n",
       "Christine Ieong                           Civil Engineering   \n",
       "Leanne Hughes-Bland      Mathematics with Actuarial Studies   \n",
       "Sharlene Fulgencio   Computer Science, Computer Engineering   \n",
       "...                                                     ...   \n",
       "Matthew Pirkowski                                       NaN   \n",
       "Ryan Blue                     Computer Science, Mathematics   \n",
       "Gabriel Grisé                          software engineering   \n",
       "Mykyta Protsenko                                        NaN   \n",
       "Manuel Correa                                           NaN   \n",
       "\n",
       "                                     institution_bachelors  \\\n",
       "name                                                         \n",
       "Mohamed Moussa              San Francisco State University   \n",
       "Santosh Singh                                          NaN   \n",
       "Christine Ieong                      Iowa State University   \n",
       "Leanne Hughes-Bland              University of Southampton   \n",
       "Sharlene Fulgencio                  De La Salle University   \n",
       "...                                                    ...   \n",
       "Matthew Pirkowski            Yale University, Yale College   \n",
       "Ryan Blue                              University of Idaho   \n",
       "Gabriel Grisé        ÉTS - École de technologie supérieure   \n",
       "Mykyta Protsenko                                       NaN   \n",
       "Manuel Correa                                          NaN   \n",
       "\n",
       "                     bachelors_start_date  bachelors_end_date  \\\n",
       "name                                                            \n",
       "Mohamed Moussa                     1998.0              2002.0   \n",
       "Santosh Singh                         NaN                 NaN   \n",
       "Christine Ieong                    2008.0              2012.0   \n",
       "Leanne Hughes-Bland                1990.0              1993.0   \n",
       "Sharlene Fulgencio                 2000.0              2006.0   \n",
       "...                                   ...                 ...   \n",
       "Matthew Pirkowski                  2004.0              2008.0   \n",
       "Ryan Blue                          2002.0              2005.0   \n",
       "Gabriel Grisé                      2005.0              2010.0   \n",
       "Mykyta Protsenko                      NaN                 NaN   \n",
       "Manuel Correa                         NaN                 NaN   \n",
       "\n",
       "                                         major_other  \\\n",
       "name                                                   \n",
       "Mohamed Moussa                                   NaN   \n",
       "Santosh Singh                                    NaN   \n",
       "Christine Ieong      Spanish Language and Literature   \n",
       "Leanne Hughes-Bland                              NaN   \n",
       "Sharlene Fulgencio                               NaN   \n",
       "...                                              ...   \n",
       "Matthew Pirkowski                                NaN   \n",
       "Ryan Blue                                        NaN   \n",
       "Gabriel Grisé                                    NaN   \n",
       "Mykyta Protsenko                                 NaN   \n",
       "Manuel Correa                   Software Engineering   \n",
       "\n",
       "                              institution_other  other_start_date  \\\n",
       "name                                                                \n",
       "Mohamed Moussa                              NaN               NaN   \n",
       "Santosh Singh                               NaN               NaN   \n",
       "Christine Ieong      Universidad de Extremadura            2010.0   \n",
       "Leanne Hughes-Bland                         NaN               NaN   \n",
       "Sharlene Fulgencio                          NaN               NaN   \n",
       "...                                         ...               ...   \n",
       "Matthew Pirkowski         Lake Mary High School            2002.0   \n",
       "Ryan Blue                                   NaN               NaN   \n",
       "Gabriel Grisé                               NaN               NaN   \n",
       "Mykyta Protsenko                            NaN               NaN   \n",
       "Manuel Correa                  Icesi University            2001.0   \n",
       "\n",
       "                     other_end_date  \n",
       "name                                 \n",
       "Mohamed Moussa                  NaN  \n",
       "Santosh Singh                   NaN  \n",
       "Christine Ieong              2010.0  \n",
       "Leanne Hughes-Bland             NaN  \n",
       "Sharlene Fulgencio              NaN  \n",
       "...                             ...  \n",
       "Matthew Pirkowski            2004.0  \n",
       "Ryan Blue                       NaN  \n",
       "Gabriel Grisé                   NaN  \n",
       "Mykyta Protsenko                NaN  \n",
       "Manuel Correa                2006.0  \n",
       "\n",
       "[11536 rows x 64 columns]"
      ]
     },
     "execution_count": 179,
     "metadata": {},
     "output_type": "execute_result"
    }
   ],
   "source": [
    "careers = ['Bioinformatics', 'DataEngineer', 'DataScientist', 'EPM', 'FullStack', 'ML', 'PM', 'QA',\n",
    "            'Screener', 'SDET', 'SoftwareEngineer', 'SolutionsArchitect', 'TigerGraph']\n",
    "for c in careers: \n",
    "    #directory_json_to_csv(c)\n",
    "    csv_concator(c)\n",
    "csv_concator('All');"
   ]
  },
  {
   "cell_type": "code",
   "execution_count": 219,
   "metadata": {},
   "outputs": [
    {
     "data": {
      "text/plain": [
       "{'summary': 'Country in North America',\n",
       " 'image': 'https://kg.diffbot.com/image/api/get?fetch=yes&url=g%3Cj7P0St0DnBJf.x0KwLZrUn.%5B%3CR0Aa4Hh%3B%5Bv738ZqOr7U%3FfvEQ%3El%601Nw%7BM0Bf7hu7z%3FRe9s4XwGXedrKUAN%28%3D%5ECHnM%60%29.%7BOV',\n",
       " 'types': ['Place', 'AdministrativeArea'],\n",
       " 'name': 'United States of America',\n",
       " 'diffbotUri': 'http://diffbot.com/entity/A01d4EK33MmCosgI2KXa4-A',\n",
       " 'nbIncomingEdges': 923226326,\n",
       " 'targetDiffbotUri': 'http://diffbot.com/entity/A01d4EK33MmCosgI2KXa4-A',\n",
       " 'type': 'AdministrativeArea'}"
      ]
     },
     "execution_count": 219,
     "metadata": {},
     "output_type": "execute_result"
    }
   ],
   "source": [
    "with open('Data/SoftwareEngineer/SoftwareEngineer_Apple.json') as fh:\n",
    "    json_source = json.load(fh)\n",
    "\n",
    "#create_education_dict(json_source)\n",
    "json_source[0]['employments'][0]['location']['country']"
   ]
  },
  {
   "cell_type": "code",
   "execution_count": 196,
   "metadata": {},
   "outputs": [
    {
     "data": {
      "text/plain": [
       "Index(['Unnamed: 0', 'name', 'age', 'gender', 'description', 'source_company',\n",
       "       'source_role', 'current_title', 'current_company',\n",
       "       'current_company_location', 'from', 'to', 'prev_title_1',\n",
       "       'prev_company_1', 'prev_exp_location_1', 'prev_exp_from_1',\n",
       "       'prev_exp_to_1', 'prev_exp_duration_months_1',\n",
       "       'prev_exp_duration_years_1', 'prev_title_2', 'prev_company_2',\n",
       "       'prev_exp_location_2', 'prev_exp_from_2', 'prev_exp_to_2',\n",
       "       'prev_exp_duration_months_2', 'prev_exp_duration_years_2',\n",
       "       'prev_title_3', 'prev_company_3', 'prev_exp_location_3',\n",
       "       'prev_exp_from_3', 'prev_exp_to_3', 'prev_exp_duration_months_3',\n",
       "       'prev_exp_duration_years_3', 'prev_title_4', 'prev_company_4',\n",
       "       'prev_exp_location_4', 'prev_exp_from_4', 'prev_exp_to_4',\n",
       "       'prev_exp_duration_months_4', 'prev_exp_duration_years_4',\n",
       "       'prev_title_5', 'prev_company_5', 'prev_exp_location_5',\n",
       "       'prev_exp_from_5', 'prev_exp_to_5', 'prev_exp_duration_months_5',\n",
       "       'prev_exp_duration_years_5', 'has_phd', 'major_phd', 'institution_phd',\n",
       "       'phd_start_date', 'phd_end_date', 'has_masters', 'major_masters',\n",
       "       'institution_masters', 'masters_start_date', 'masters_end_date',\n",
       "       'has_bachelors', 'major_bachelors', 'institution_bachelors',\n",
       "       'bachelors_start_date', 'bachelors_end_date', 'major_other',\n",
       "       'institution_other', 'other_start_date', 'other_end_date'],\n",
       "      dtype='object')"
      ]
     },
     "execution_count": 196,
     "metadata": {},
     "output_type": "execute_result"
    }
   ],
   "source": [
    "google_df.columns"
   ]
  },
  {
   "cell_type": "code",
   "execution_count": 221,
   "metadata": {},
   "outputs": [
    {
     "data": {
      "text/html": [
       "<div>\n",
       "<style scoped>\n",
       "    .dataframe tbody tr th:only-of-type {\n",
       "        vertical-align: middle;\n",
       "    }\n",
       "\n",
       "    .dataframe tbody tr th {\n",
       "        vertical-align: top;\n",
       "    }\n",
       "\n",
       "    .dataframe thead th {\n",
       "        text-align: right;\n",
       "    }\n",
       "</style>\n",
       "<table border=\"1\" class=\"dataframe\">\n",
       "  <thead>\n",
       "    <tr style=\"text-align: right;\">\n",
       "      <th></th>\n",
       "      <th>A</th>\n",
       "      <th>B</th>\n",
       "      <th>C</th>\n",
       "    </tr>\n",
       "  </thead>\n",
       "  <tbody>\n",
       "    <tr>\n",
       "      <th>0</th>\n",
       "      <td>10</td>\n",
       "      <td>10</td>\n",
       "      <td>0.0</td>\n",
       "    </tr>\n",
       "    <tr>\n",
       "      <th>1</th>\n",
       "      <td>10</td>\n",
       "      <td>15</td>\n",
       "      <td>NaN</td>\n",
       "    </tr>\n",
       "    <tr>\n",
       "      <th>2</th>\n",
       "      <td>2</td>\n",
       "      <td>14</td>\n",
       "      <td>4.0</td>\n",
       "    </tr>\n",
       "  </tbody>\n",
       "</table>\n",
       "</div>"
      ],
      "text/plain": [
       "    A   B    C\n",
       "0  10  10  0.0\n",
       "1  10  15  NaN\n",
       "2   2  14  4.0"
      ]
     },
     "execution_count": 221,
     "metadata": {},
     "output_type": "execute_result"
    }
   ],
   "source": [
    "data = [[10, 10, 0], [10, 15, np.nan], [2, 14, 4]] \n",
    "  \n",
    "# Create the pandas DataFrame \n",
    "df = pd.DataFrame(data, columns = ['A', 'B', 'C']) \n",
    "df"
   ]
  },
  {
   "cell_type": "code",
   "execution_count": 222,
   "metadata": {},
   "outputs": [
    {
     "data": {
      "text/html": [
       "<div>\n",
       "<style scoped>\n",
       "    .dataframe tbody tr th:only-of-type {\n",
       "        vertical-align: middle;\n",
       "    }\n",
       "\n",
       "    .dataframe tbody tr th {\n",
       "        vertical-align: top;\n",
       "    }\n",
       "\n",
       "    .dataframe thead th {\n",
       "        text-align: right;\n",
       "    }\n",
       "</style>\n",
       "<table border=\"1\" class=\"dataframe\">\n",
       "  <thead>\n",
       "    <tr style=\"text-align: right;\">\n",
       "      <th></th>\n",
       "      <th>A</th>\n",
       "      <th>B</th>\n",
       "      <th>C</th>\n",
       "      <th>D</th>\n",
       "    </tr>\n",
       "  </thead>\n",
       "  <tbody>\n",
       "    <tr>\n",
       "      <th>0</th>\n",
       "      <td>10</td>\n",
       "      <td>10</td>\n",
       "      <td>0.0</td>\n",
       "      <td>10.0</td>\n",
       "    </tr>\n",
       "    <tr>\n",
       "      <th>1</th>\n",
       "      <td>10</td>\n",
       "      <td>15</td>\n",
       "      <td>NaN</td>\n",
       "      <td>10.0</td>\n",
       "    </tr>\n",
       "    <tr>\n",
       "      <th>2</th>\n",
       "      <td>2</td>\n",
       "      <td>14</td>\n",
       "      <td>4.0</td>\n",
       "      <td>6.0</td>\n",
       "    </tr>\n",
       "  </tbody>\n",
       "</table>\n",
       "</div>"
      ],
      "text/plain": [
       "    A   B    C     D\n",
       "0  10  10  0.0  10.0\n",
       "1  10  15  NaN  10.0\n",
       "2   2  14  4.0   6.0"
      ]
     },
     "execution_count": 222,
     "metadata": {},
     "output_type": "execute_result"
    }
   ],
   "source": [
    "df['D'] = df[['A', 'C']].sum(axis=1) \n",
    "df"
   ]
  },
  {
   "cell_type": "code",
   "execution_count": 223,
   "metadata": {},
   "outputs": [],
   "source": [
    "mask = df[['A', 'B']]\n",
    "df['F'] = mask.sum(axis=1)\n",
    "df.insert(2, 'B+', [np.nan, 0, 0])"
   ]
  },
  {
   "cell_type": "code",
   "execution_count": 225,
   "metadata": {},
   "outputs": [
    {
     "data": {
      "text/plain": [
       "2"
      ]
     },
     "execution_count": 225,
     "metadata": {},
     "output_type": "execute_result"
    }
   ],
   "source": [
    "df.columns.get_loc(\"B+\")"
   ]
  },
  {
   "cell_type": "code",
   "execution_count": 226,
   "metadata": {},
   "outputs": [
    {
     "data": {
      "text/html": [
       "<div>\n",
       "<style scoped>\n",
       "    .dataframe tbody tr th:only-of-type {\n",
       "        vertical-align: middle;\n",
       "    }\n",
       "\n",
       "    .dataframe tbody tr th {\n",
       "        vertical-align: top;\n",
       "    }\n",
       "\n",
       "    .dataframe thead th {\n",
       "        text-align: right;\n",
       "    }\n",
       "</style>\n",
       "<table border=\"1\" class=\"dataframe\">\n",
       "  <thead>\n",
       "    <tr style=\"text-align: right;\">\n",
       "      <th></th>\n",
       "      <th>A</th>\n",
       "      <th>B</th>\n",
       "      <th>B+</th>\n",
       "      <th>C</th>\n",
       "      <th>D</th>\n",
       "      <th>F</th>\n",
       "    </tr>\n",
       "  </thead>\n",
       "  <tbody>\n",
       "    <tr>\n",
       "      <th>0</th>\n",
       "      <td>10</td>\n",
       "      <td>10</td>\n",
       "      <td>NaN</td>\n",
       "      <td>0.0</td>\n",
       "      <td>10.0</td>\n",
       "      <td>20</td>\n",
       "    </tr>\n",
       "    <tr>\n",
       "      <th>1</th>\n",
       "      <td>10</td>\n",
       "      <td>15</td>\n",
       "      <td>0.0</td>\n",
       "      <td>NaN</td>\n",
       "      <td>10.0</td>\n",
       "      <td>25</td>\n",
       "    </tr>\n",
       "    <tr>\n",
       "      <th>2</th>\n",
       "      <td>2</td>\n",
       "      <td>14</td>\n",
       "      <td>0.0</td>\n",
       "      <td>4.0</td>\n",
       "      <td>6.0</td>\n",
       "      <td>16</td>\n",
       "    </tr>\n",
       "  </tbody>\n",
       "</table>\n",
       "</div>"
      ],
      "text/plain": [
       "    A   B   B+    C     D   F\n",
       "0  10  10  NaN  0.0  10.0  20\n",
       "1  10  15  0.0  NaN  10.0  25\n",
       "2   2  14  0.0  4.0   6.0  16"
      ]
     },
     "execution_count": 226,
     "metadata": {},
     "output_type": "execute_result"
    }
   ],
   "source": [
    "for i in range()"
   ]
  },
  {
   "cell_type": "code",
   "execution_count": null,
   "metadata": {},
   "outputs": [],
   "source": []
  }
 ],
 "metadata": {
  "kernelspec": {
   "display_name": "Python 3",
   "language": "python",
   "name": "python3"
  },
  "language_info": {
   "codemirror_mode": {
    "name": "ipython",
    "version": 3
   },
   "file_extension": ".py",
   "mimetype": "text/x-python",
   "name": "python",
   "nbconvert_exporter": "python",
   "pygments_lexer": "ipython3",
   "version": "3.7.6"
  }
 },
 "nbformat": 4,
 "nbformat_minor": 4
}
