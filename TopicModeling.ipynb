{
 "cells": [
  {
   "cell_type": "code",
   "execution_count": 9,
   "metadata": {},
   "outputs": [],
   "source": [
    "import pandas as pd\n",
    "import numpy as np\n",
    "import seaborn as sns\n",
    "import json\n",
    "import glob \n",
    "import os\n",
    "\n",
    "import re, nltk, spacy, string\n",
    "\n",
    "from sklearn.decomposition import LatentDirichletAllocation\n",
    "from sklearn.feature_extraction.text import CountVectorizer, TfidfVectorizer\n",
    "from pprint import pprint\n",
    "\n",
    "import pyLDAvis\n",
    "import pyLDAvis.sklearn\n",
    "import matplotlib.pyplot as plt\n",
    "%matplotlib inline\n",
    "\n",
    "from plotly.offline import plot\n",
    "import plotly.graph_objects as go\n",
    "import plotly.express as px\n",
    "\n",
    "import matplotlib as mpl\n",
    "import matplotlib.pyplot as plt\n",
    "%matplotlib inline\n",
    "\n",
    "from subprocess import check_output\n",
    "from wordcloud import WordCloud, STOPWORDS\n",
    "\n"
   ]
  },
  {
   "cell_type": "code",
   "execution_count": 10,
   "metadata": {},
   "outputs": [],
   "source": [
    "def clean_text(text):\n",
    "    '''Make text lowercase, remove text in square brackets, remove punctuation and remove words containing numbers.'''\n",
    "    text = text.lower()\n",
    "    text = re.sub(r'\\[.*?\\]', '', text)\n",
    "    text = re.sub(r'[%s]' %re.escape(string.punctuation), '', text)\n",
    "    text = re.sub(r'\\w*\\d\\w*', '', text)\n",
    "    return text\n",
    "\n",
    "nlp = spacy.load('en') \n",
    "\n",
    "def lemmatizer(text):\n",
    "    sent = []\n",
    "    doc = nlp(text)\n",
    "    for word in doc:\n",
    "        sent.append(word.lemma_)\n",
    "    return \" \".join(sent)"
   ]
  },
  {
   "cell_type": "code",
   "execution_count": 11,
   "metadata": {},
   "outputs": [],
   "source": [
    "def column_cleaner(df, header):\n",
    "    df_clean = pd.DataFrame(df[header].apply(lambda x: clean_text(x)))\n",
    "    df_clean['{}_lemmatize'.format(header)] = df_clean.apply(lambda x: lemmatizer(x[header]), axis=1)\n",
    "    df_clean['{}_clean'.format(header)] = df_clean['{}_lemmatize'.format(header)].str.replace('-PRON-', '')\n",
    "    return df_clean"
   ]
  },
  {
   "cell_type": "code",
   "execution_count": 12,
   "metadata": {},
   "outputs": [],
   "source": [
    "def distributionOfCharLength(df_clean, header):\n",
    "    plt.figure(figsize=(10,6))\n",
    "    doc_lens = [len(d) for d in df_clean[header]]\n",
    "    plt.hist(doc_lens, bins = 30)\n",
    "    plt.title('Distribution of {} character length'.format(header))\n",
    "    plt.ylabel('Number of {}s'.format(header))\n",
    "    plt.xlabel('{} length'.format(header))\n",
    "    sns.despine();"
   ]
  },
  {
   "cell_type": "code",
   "execution_count": 13,
   "metadata": {},
   "outputs": [],
   "source": [
    "def top_words_visual(df_clean, header):\n",
    "    mpl.rcParams['figure.figsize']=(12.0,12.0)  \n",
    "    mpl.rcParams['font.size']=12            \n",
    "    mpl.rcParams['savefig.dpi']=100             \n",
    "    mpl.rcParams['figure.subplot.bottom']=.1 \n",
    "    stopwords = set(STOPWORDS)\n",
    "\n",
    "    wordcloud = WordCloud(\n",
    "                          background_color='white',\n",
    "                          stopwords=stopwords,\n",
    "                          max_words=500,\n",
    "                          max_font_size=40, \n",
    "                          random_state=42\n",
    "                         ).generate(str(df_clean[header]))\n",
    "\n",
    "    print(wordcloud)\n",
    "    fig = plt.figure(1)\n",
    "    plt.imshow(wordcloud)\n",
    "    plt.axis('off')\n",
    "    plt.show();"
   ]
  },
  {
   "cell_type": "code",
   "execution_count": 32,
   "metadata": {},
   "outputs": [],
   "source": [
    "customer_success = pd.read_csv(\"Data/All/CustomerSuccess.csv\")"
   ]
  },
  {
   "cell_type": "code",
   "execution_count": 35,
   "metadata": {},
   "outputs": [
    {
     "data": {
      "text/plain": [
       "Customer Success Manager                                                             16\n",
       "Customer Success Advocate                                                             5\n",
       "Customer Success                                                                      4\n",
       "Customer Success Specialist                                                           3\n",
       "Senior Customer Success Manager                                                       3\n",
       "                                                                                     ..\n",
       "Analytics Platform Services Reference Manager, IBM Analtyics, Cloud Data Services     1\n",
       "Director Customer Experience                                                          1\n",
       "Technical Support Engineer                                                            1\n",
       "Client Relations Manager                                                              1\n",
       "Customer Success Advocate - Cash App                                                  1\n",
       "Name: prev_title_1, Length: 312, dtype: int64"
      ]
     },
     "execution_count": 35,
     "metadata": {},
     "output_type": "execute_result"
    }
   ],
   "source": [
    "customer_success['prev_title_1'].value_counts()"
   ]
  },
  {
   "cell_type": "code",
   "execution_count": 37,
   "metadata": {},
   "outputs": [],
   "source": [
    "df_clean = pd.DataFrame(customer_success[customer_success['prev_title_1'].notna()]['prev_title_1'].apply(lambda x: clean_text(x)))\n",
    "df_clean[\"prev_title_1_lemmatize\"] =  df_clean.apply(lambda x: lemmatizer(x['prev_title_1']), axis=1)\n",
    "df_clean['prev_title_1_clean'] = df_clean['prev_title_1_lemmatize'].str.replace('-PRON-', '')\n"
   ]
  },
  {
   "cell_type": "code",
   "execution_count": 38,
   "metadata": {},
   "outputs": [
    {
     "data": {
      "application/vnd.plotly.v1+json": {
       "config": {
        "plotlyServerURL": "https://plot.ly"
       },
       "data": [
        {
         "type": "bar",
         "x": [
          "manager",
          "customer",
          "success",
          "director",
          "senior",
          "service",
          "account",
          "sale",
          "support",
          "consultant",
          "solution",
          "business",
          "architect",
          "program",
          "cloud",
          "analyst",
          "technology",
          "partner",
          "enterprise",
          "sr",
          "global",
          "specialist",
          "development",
          "representative",
          "technical",
          "management",
          "principal",
          "client",
          "head",
          "marketing"
         ],
         "y": [
          112,
          85,
          74,
          35,
          32,
          24,
          20,
          19,
          18,
          18,
          17,
          16,
          15,
          12,
          12,
          12,
          12,
          12,
          11,
          11,
          11,
          11,
          11,
          11,
          10,
          10,
          10,
          9,
          9,
          9
         ]
        }
       ],
       "layout": {
        "template": {
         "data": {
          "bar": [
           {
            "error_x": {
             "color": "#2a3f5f"
            },
            "error_y": {
             "color": "#2a3f5f"
            },
            "marker": {
             "line": {
              "color": "#E5ECF6",
              "width": 0.5
             }
            },
            "type": "bar"
           }
          ],
          "barpolar": [
           {
            "marker": {
             "line": {
              "color": "#E5ECF6",
              "width": 0.5
             }
            },
            "type": "barpolar"
           }
          ],
          "carpet": [
           {
            "aaxis": {
             "endlinecolor": "#2a3f5f",
             "gridcolor": "white",
             "linecolor": "white",
             "minorgridcolor": "white",
             "startlinecolor": "#2a3f5f"
            },
            "baxis": {
             "endlinecolor": "#2a3f5f",
             "gridcolor": "white",
             "linecolor": "white",
             "minorgridcolor": "white",
             "startlinecolor": "#2a3f5f"
            },
            "type": "carpet"
           }
          ],
          "choropleth": [
           {
            "colorbar": {
             "outlinewidth": 0,
             "ticks": ""
            },
            "type": "choropleth"
           }
          ],
          "contour": [
           {
            "colorbar": {
             "outlinewidth": 0,
             "ticks": ""
            },
            "colorscale": [
             [
              0,
              "#0d0887"
             ],
             [
              0.1111111111111111,
              "#46039f"
             ],
             [
              0.2222222222222222,
              "#7201a8"
             ],
             [
              0.3333333333333333,
              "#9c179e"
             ],
             [
              0.4444444444444444,
              "#bd3786"
             ],
             [
              0.5555555555555556,
              "#d8576b"
             ],
             [
              0.6666666666666666,
              "#ed7953"
             ],
             [
              0.7777777777777778,
              "#fb9f3a"
             ],
             [
              0.8888888888888888,
              "#fdca26"
             ],
             [
              1,
              "#f0f921"
             ]
            ],
            "type": "contour"
           }
          ],
          "contourcarpet": [
           {
            "colorbar": {
             "outlinewidth": 0,
             "ticks": ""
            },
            "type": "contourcarpet"
           }
          ],
          "heatmap": [
           {
            "colorbar": {
             "outlinewidth": 0,
             "ticks": ""
            },
            "colorscale": [
             [
              0,
              "#0d0887"
             ],
             [
              0.1111111111111111,
              "#46039f"
             ],
             [
              0.2222222222222222,
              "#7201a8"
             ],
             [
              0.3333333333333333,
              "#9c179e"
             ],
             [
              0.4444444444444444,
              "#bd3786"
             ],
             [
              0.5555555555555556,
              "#d8576b"
             ],
             [
              0.6666666666666666,
              "#ed7953"
             ],
             [
              0.7777777777777778,
              "#fb9f3a"
             ],
             [
              0.8888888888888888,
              "#fdca26"
             ],
             [
              1,
              "#f0f921"
             ]
            ],
            "type": "heatmap"
           }
          ],
          "heatmapgl": [
           {
            "colorbar": {
             "outlinewidth": 0,
             "ticks": ""
            },
            "colorscale": [
             [
              0,
              "#0d0887"
             ],
             [
              0.1111111111111111,
              "#46039f"
             ],
             [
              0.2222222222222222,
              "#7201a8"
             ],
             [
              0.3333333333333333,
              "#9c179e"
             ],
             [
              0.4444444444444444,
              "#bd3786"
             ],
             [
              0.5555555555555556,
              "#d8576b"
             ],
             [
              0.6666666666666666,
              "#ed7953"
             ],
             [
              0.7777777777777778,
              "#fb9f3a"
             ],
             [
              0.8888888888888888,
              "#fdca26"
             ],
             [
              1,
              "#f0f921"
             ]
            ],
            "type": "heatmapgl"
           }
          ],
          "histogram": [
           {
            "marker": {
             "colorbar": {
              "outlinewidth": 0,
              "ticks": ""
             }
            },
            "type": "histogram"
           }
          ],
          "histogram2d": [
           {
            "colorbar": {
             "outlinewidth": 0,
             "ticks": ""
            },
            "colorscale": [
             [
              0,
              "#0d0887"
             ],
             [
              0.1111111111111111,
              "#46039f"
             ],
             [
              0.2222222222222222,
              "#7201a8"
             ],
             [
              0.3333333333333333,
              "#9c179e"
             ],
             [
              0.4444444444444444,
              "#bd3786"
             ],
             [
              0.5555555555555556,
              "#d8576b"
             ],
             [
              0.6666666666666666,
              "#ed7953"
             ],
             [
              0.7777777777777778,
              "#fb9f3a"
             ],
             [
              0.8888888888888888,
              "#fdca26"
             ],
             [
              1,
              "#f0f921"
             ]
            ],
            "type": "histogram2d"
           }
          ],
          "histogram2dcontour": [
           {
            "colorbar": {
             "outlinewidth": 0,
             "ticks": ""
            },
            "colorscale": [
             [
              0,
              "#0d0887"
             ],
             [
              0.1111111111111111,
              "#46039f"
             ],
             [
              0.2222222222222222,
              "#7201a8"
             ],
             [
              0.3333333333333333,
              "#9c179e"
             ],
             [
              0.4444444444444444,
              "#bd3786"
             ],
             [
              0.5555555555555556,
              "#d8576b"
             ],
             [
              0.6666666666666666,
              "#ed7953"
             ],
             [
              0.7777777777777778,
              "#fb9f3a"
             ],
             [
              0.8888888888888888,
              "#fdca26"
             ],
             [
              1,
              "#f0f921"
             ]
            ],
            "type": "histogram2dcontour"
           }
          ],
          "mesh3d": [
           {
            "colorbar": {
             "outlinewidth": 0,
             "ticks": ""
            },
            "type": "mesh3d"
           }
          ],
          "parcoords": [
           {
            "line": {
             "colorbar": {
              "outlinewidth": 0,
              "ticks": ""
             }
            },
            "type": "parcoords"
           }
          ],
          "pie": [
           {
            "automargin": true,
            "type": "pie"
           }
          ],
          "scatter": [
           {
            "marker": {
             "colorbar": {
              "outlinewidth": 0,
              "ticks": ""
             }
            },
            "type": "scatter"
           }
          ],
          "scatter3d": [
           {
            "line": {
             "colorbar": {
              "outlinewidth": 0,
              "ticks": ""
             }
            },
            "marker": {
             "colorbar": {
              "outlinewidth": 0,
              "ticks": ""
             }
            },
            "type": "scatter3d"
           }
          ],
          "scattercarpet": [
           {
            "marker": {
             "colorbar": {
              "outlinewidth": 0,
              "ticks": ""
             }
            },
            "type": "scattercarpet"
           }
          ],
          "scattergeo": [
           {
            "marker": {
             "colorbar": {
              "outlinewidth": 0,
              "ticks": ""
             }
            },
            "type": "scattergeo"
           }
          ],
          "scattergl": [
           {
            "marker": {
             "colorbar": {
              "outlinewidth": 0,
              "ticks": ""
             }
            },
            "type": "scattergl"
           }
          ],
          "scattermapbox": [
           {
            "marker": {
             "colorbar": {
              "outlinewidth": 0,
              "ticks": ""
             }
            },
            "type": "scattermapbox"
           }
          ],
          "scatterpolar": [
           {
            "marker": {
             "colorbar": {
              "outlinewidth": 0,
              "ticks": ""
             }
            },
            "type": "scatterpolar"
           }
          ],
          "scatterpolargl": [
           {
            "marker": {
             "colorbar": {
              "outlinewidth": 0,
              "ticks": ""
             }
            },
            "type": "scatterpolargl"
           }
          ],
          "scatterternary": [
           {
            "marker": {
             "colorbar": {
              "outlinewidth": 0,
              "ticks": ""
             }
            },
            "type": "scatterternary"
           }
          ],
          "surface": [
           {
            "colorbar": {
             "outlinewidth": 0,
             "ticks": ""
            },
            "colorscale": [
             [
              0,
              "#0d0887"
             ],
             [
              0.1111111111111111,
              "#46039f"
             ],
             [
              0.2222222222222222,
              "#7201a8"
             ],
             [
              0.3333333333333333,
              "#9c179e"
             ],
             [
              0.4444444444444444,
              "#bd3786"
             ],
             [
              0.5555555555555556,
              "#d8576b"
             ],
             [
              0.6666666666666666,
              "#ed7953"
             ],
             [
              0.7777777777777778,
              "#fb9f3a"
             ],
             [
              0.8888888888888888,
              "#fdca26"
             ],
             [
              1,
              "#f0f921"
             ]
            ],
            "type": "surface"
           }
          ],
          "table": [
           {
            "cells": {
             "fill": {
              "color": "#EBF0F8"
             },
             "line": {
              "color": "white"
             }
            },
            "header": {
             "fill": {
              "color": "#C8D4E3"
             },
             "line": {
              "color": "white"
             }
            },
            "type": "table"
           }
          ]
         },
         "layout": {
          "annotationdefaults": {
           "arrowcolor": "#2a3f5f",
           "arrowhead": 0,
           "arrowwidth": 1
          },
          "coloraxis": {
           "colorbar": {
            "outlinewidth": 0,
            "ticks": ""
           }
          },
          "colorscale": {
           "diverging": [
            [
             0,
             "#8e0152"
            ],
            [
             0.1,
             "#c51b7d"
            ],
            [
             0.2,
             "#de77ae"
            ],
            [
             0.3,
             "#f1b6da"
            ],
            [
             0.4,
             "#fde0ef"
            ],
            [
             0.5,
             "#f7f7f7"
            ],
            [
             0.6,
             "#e6f5d0"
            ],
            [
             0.7,
             "#b8e186"
            ],
            [
             0.8,
             "#7fbc41"
            ],
            [
             0.9,
             "#4d9221"
            ],
            [
             1,
             "#276419"
            ]
           ],
           "sequential": [
            [
             0,
             "#0d0887"
            ],
            [
             0.1111111111111111,
             "#46039f"
            ],
            [
             0.2222222222222222,
             "#7201a8"
            ],
            [
             0.3333333333333333,
             "#9c179e"
            ],
            [
             0.4444444444444444,
             "#bd3786"
            ],
            [
             0.5555555555555556,
             "#d8576b"
            ],
            [
             0.6666666666666666,
             "#ed7953"
            ],
            [
             0.7777777777777778,
             "#fb9f3a"
            ],
            [
             0.8888888888888888,
             "#fdca26"
            ],
            [
             1,
             "#f0f921"
            ]
           ],
           "sequentialminus": [
            [
             0,
             "#0d0887"
            ],
            [
             0.1111111111111111,
             "#46039f"
            ],
            [
             0.2222222222222222,
             "#7201a8"
            ],
            [
             0.3333333333333333,
             "#9c179e"
            ],
            [
             0.4444444444444444,
             "#bd3786"
            ],
            [
             0.5555555555555556,
             "#d8576b"
            ],
            [
             0.6666666666666666,
             "#ed7953"
            ],
            [
             0.7777777777777778,
             "#fb9f3a"
            ],
            [
             0.8888888888888888,
             "#fdca26"
            ],
            [
             1,
             "#f0f921"
            ]
           ]
          },
          "colorway": [
           "#636efa",
           "#EF553B",
           "#00cc96",
           "#ab63fa",
           "#FFA15A",
           "#19d3f3",
           "#FF6692",
           "#B6E880",
           "#FF97FF",
           "#FECB52"
          ],
          "font": {
           "color": "#2a3f5f"
          },
          "geo": {
           "bgcolor": "white",
           "lakecolor": "white",
           "landcolor": "#E5ECF6",
           "showlakes": true,
           "showland": true,
           "subunitcolor": "white"
          },
          "hoverlabel": {
           "align": "left"
          },
          "hovermode": "closest",
          "mapbox": {
           "style": "light"
          },
          "paper_bgcolor": "white",
          "plot_bgcolor": "#E5ECF6",
          "polar": {
           "angularaxis": {
            "gridcolor": "white",
            "linecolor": "white",
            "ticks": ""
           },
           "bgcolor": "#E5ECF6",
           "radialaxis": {
            "gridcolor": "white",
            "linecolor": "white",
            "ticks": ""
           }
          },
          "scene": {
           "xaxis": {
            "backgroundcolor": "#E5ECF6",
            "gridcolor": "white",
            "gridwidth": 2,
            "linecolor": "white",
            "showbackground": true,
            "ticks": "",
            "zerolinecolor": "white"
           },
           "yaxis": {
            "backgroundcolor": "#E5ECF6",
            "gridcolor": "white",
            "gridwidth": 2,
            "linecolor": "white",
            "showbackground": true,
            "ticks": "",
            "zerolinecolor": "white"
           },
           "zaxis": {
            "backgroundcolor": "#E5ECF6",
            "gridcolor": "white",
            "gridwidth": 2,
            "linecolor": "white",
            "showbackground": true,
            "ticks": "",
            "zerolinecolor": "white"
           }
          },
          "shapedefaults": {
           "line": {
            "color": "#2a3f5f"
           }
          },
          "ternary": {
           "aaxis": {
            "gridcolor": "white",
            "linecolor": "white",
            "ticks": ""
           },
           "baxis": {
            "gridcolor": "white",
            "linecolor": "white",
            "ticks": ""
           },
           "bgcolor": "#E5ECF6",
           "caxis": {
            "gridcolor": "white",
            "linecolor": "white",
            "ticks": ""
           }
          },
          "title": {
           "x": 0.05
          },
          "xaxis": {
           "automargin": true,
           "gridcolor": "white",
           "linecolor": "white",
           "ticks": "",
           "title": {
            "standoff": 15
           },
           "zerolinecolor": "white",
           "zerolinewidth": 2
          },
          "yaxis": {
           "automargin": true,
           "gridcolor": "white",
           "linecolor": "white",
           "ticks": "",
           "title": {
            "standoff": 15
           },
           "zerolinecolor": "white",
           "zerolinewidth": 2
          }
         }
        },
        "title": {
         "text": "Top 30 unigrams in the question text after removing stop words and lemmatization"
        }
       }
      },
      "text/html": [
       "<div>\n",
       "        \n",
       "        \n",
       "            <div id=\"5b9811cd-7cdd-4124-9047-668f775e5481\" class=\"plotly-graph-div\" style=\"height:525px; width:100%;\"></div>\n",
       "            <script type=\"text/javascript\">\n",
       "                require([\"plotly\"], function(Plotly) {\n",
       "                    window.PLOTLYENV=window.PLOTLYENV || {};\n",
       "                    \n",
       "                if (document.getElementById(\"5b9811cd-7cdd-4124-9047-668f775e5481\")) {\n",
       "                    Plotly.newPlot(\n",
       "                        '5b9811cd-7cdd-4124-9047-668f775e5481',\n",
       "                        [{\"type\": \"bar\", \"x\": [\"manager\", \"customer\", \"success\", \"director\", \"senior\", \"service\", \"account\", \"sale\", \"support\", \"consultant\", \"solution\", \"business\", \"architect\", \"program\", \"cloud\", \"analyst\", \"technology\", \"partner\", \"enterprise\", \"sr\", \"global\", \"specialist\", \"development\", \"representative\", \"technical\", \"management\", \"principal\", \"client\", \"head\", \"marketing\"], \"y\": [112, 85, 74, 35, 32, 24, 20, 19, 18, 18, 17, 16, 15, 12, 12, 12, 12, 12, 11, 11, 11, 11, 11, 11, 10, 10, 10, 9, 9, 9]}],\n",
       "                        {\"template\": {\"data\": {\"bar\": [{\"error_x\": {\"color\": \"#2a3f5f\"}, \"error_y\": {\"color\": \"#2a3f5f\"}, \"marker\": {\"line\": {\"color\": \"#E5ECF6\", \"width\": 0.5}}, \"type\": \"bar\"}], \"barpolar\": [{\"marker\": {\"line\": {\"color\": \"#E5ECF6\", \"width\": 0.5}}, \"type\": \"barpolar\"}], \"carpet\": [{\"aaxis\": {\"endlinecolor\": \"#2a3f5f\", \"gridcolor\": \"white\", \"linecolor\": \"white\", \"minorgridcolor\": \"white\", \"startlinecolor\": \"#2a3f5f\"}, \"baxis\": {\"endlinecolor\": \"#2a3f5f\", \"gridcolor\": \"white\", \"linecolor\": \"white\", \"minorgridcolor\": \"white\", \"startlinecolor\": \"#2a3f5f\"}, \"type\": \"carpet\"}], \"choropleth\": [{\"colorbar\": {\"outlinewidth\": 0, \"ticks\": \"\"}, \"type\": \"choropleth\"}], \"contour\": [{\"colorbar\": {\"outlinewidth\": 0, \"ticks\": \"\"}, \"colorscale\": [[0.0, \"#0d0887\"], [0.1111111111111111, \"#46039f\"], [0.2222222222222222, \"#7201a8\"], [0.3333333333333333, \"#9c179e\"], [0.4444444444444444, \"#bd3786\"], [0.5555555555555556, \"#d8576b\"], [0.6666666666666666, \"#ed7953\"], [0.7777777777777778, \"#fb9f3a\"], [0.8888888888888888, \"#fdca26\"], [1.0, \"#f0f921\"]], \"type\": \"contour\"}], \"contourcarpet\": [{\"colorbar\": {\"outlinewidth\": 0, \"ticks\": \"\"}, \"type\": \"contourcarpet\"}], \"heatmap\": [{\"colorbar\": {\"outlinewidth\": 0, \"ticks\": \"\"}, \"colorscale\": [[0.0, \"#0d0887\"], [0.1111111111111111, \"#46039f\"], [0.2222222222222222, \"#7201a8\"], [0.3333333333333333, \"#9c179e\"], [0.4444444444444444, \"#bd3786\"], [0.5555555555555556, \"#d8576b\"], [0.6666666666666666, \"#ed7953\"], [0.7777777777777778, \"#fb9f3a\"], [0.8888888888888888, \"#fdca26\"], [1.0, \"#f0f921\"]], \"type\": \"heatmap\"}], \"heatmapgl\": [{\"colorbar\": {\"outlinewidth\": 0, \"ticks\": \"\"}, \"colorscale\": [[0.0, \"#0d0887\"], [0.1111111111111111, \"#46039f\"], [0.2222222222222222, \"#7201a8\"], [0.3333333333333333, \"#9c179e\"], [0.4444444444444444, \"#bd3786\"], [0.5555555555555556, \"#d8576b\"], [0.6666666666666666, \"#ed7953\"], [0.7777777777777778, \"#fb9f3a\"], [0.8888888888888888, \"#fdca26\"], [1.0, \"#f0f921\"]], \"type\": \"heatmapgl\"}], \"histogram\": [{\"marker\": {\"colorbar\": {\"outlinewidth\": 0, \"ticks\": \"\"}}, \"type\": \"histogram\"}], \"histogram2d\": [{\"colorbar\": {\"outlinewidth\": 0, \"ticks\": \"\"}, \"colorscale\": [[0.0, \"#0d0887\"], [0.1111111111111111, \"#46039f\"], [0.2222222222222222, \"#7201a8\"], [0.3333333333333333, \"#9c179e\"], [0.4444444444444444, \"#bd3786\"], [0.5555555555555556, \"#d8576b\"], [0.6666666666666666, \"#ed7953\"], [0.7777777777777778, \"#fb9f3a\"], [0.8888888888888888, \"#fdca26\"], [1.0, \"#f0f921\"]], \"type\": \"histogram2d\"}], \"histogram2dcontour\": [{\"colorbar\": {\"outlinewidth\": 0, \"ticks\": \"\"}, \"colorscale\": [[0.0, \"#0d0887\"], [0.1111111111111111, \"#46039f\"], [0.2222222222222222, \"#7201a8\"], [0.3333333333333333, \"#9c179e\"], [0.4444444444444444, \"#bd3786\"], [0.5555555555555556, \"#d8576b\"], [0.6666666666666666, \"#ed7953\"], [0.7777777777777778, \"#fb9f3a\"], [0.8888888888888888, \"#fdca26\"], [1.0, \"#f0f921\"]], \"type\": \"histogram2dcontour\"}], \"mesh3d\": [{\"colorbar\": {\"outlinewidth\": 0, \"ticks\": \"\"}, \"type\": \"mesh3d\"}], \"parcoords\": [{\"line\": {\"colorbar\": {\"outlinewidth\": 0, \"ticks\": \"\"}}, \"type\": \"parcoords\"}], \"pie\": [{\"automargin\": true, \"type\": \"pie\"}], \"scatter\": [{\"marker\": {\"colorbar\": {\"outlinewidth\": 0, \"ticks\": \"\"}}, \"type\": \"scatter\"}], \"scatter3d\": [{\"line\": {\"colorbar\": {\"outlinewidth\": 0, \"ticks\": \"\"}}, \"marker\": {\"colorbar\": {\"outlinewidth\": 0, \"ticks\": \"\"}}, \"type\": \"scatter3d\"}], \"scattercarpet\": [{\"marker\": {\"colorbar\": {\"outlinewidth\": 0, \"ticks\": \"\"}}, \"type\": \"scattercarpet\"}], \"scattergeo\": [{\"marker\": {\"colorbar\": {\"outlinewidth\": 0, \"ticks\": \"\"}}, \"type\": \"scattergeo\"}], \"scattergl\": [{\"marker\": {\"colorbar\": {\"outlinewidth\": 0, \"ticks\": \"\"}}, \"type\": \"scattergl\"}], \"scattermapbox\": [{\"marker\": {\"colorbar\": {\"outlinewidth\": 0, \"ticks\": \"\"}}, \"type\": \"scattermapbox\"}], \"scatterpolar\": [{\"marker\": {\"colorbar\": {\"outlinewidth\": 0, \"ticks\": \"\"}}, \"type\": \"scatterpolar\"}], \"scatterpolargl\": [{\"marker\": {\"colorbar\": {\"outlinewidth\": 0, \"ticks\": \"\"}}, \"type\": \"scatterpolargl\"}], \"scatterternary\": [{\"marker\": {\"colorbar\": {\"outlinewidth\": 0, \"ticks\": \"\"}}, \"type\": \"scatterternary\"}], \"surface\": [{\"colorbar\": {\"outlinewidth\": 0, \"ticks\": \"\"}, \"colorscale\": [[0.0, \"#0d0887\"], [0.1111111111111111, \"#46039f\"], [0.2222222222222222, \"#7201a8\"], [0.3333333333333333, \"#9c179e\"], [0.4444444444444444, \"#bd3786\"], [0.5555555555555556, \"#d8576b\"], [0.6666666666666666, \"#ed7953\"], [0.7777777777777778, \"#fb9f3a\"], [0.8888888888888888, \"#fdca26\"], [1.0, \"#f0f921\"]], \"type\": \"surface\"}], \"table\": [{\"cells\": {\"fill\": {\"color\": \"#EBF0F8\"}, \"line\": {\"color\": \"white\"}}, \"header\": {\"fill\": {\"color\": \"#C8D4E3\"}, \"line\": {\"color\": \"white\"}}, \"type\": \"table\"}]}, \"layout\": {\"annotationdefaults\": {\"arrowcolor\": \"#2a3f5f\", \"arrowhead\": 0, \"arrowwidth\": 1}, \"coloraxis\": {\"colorbar\": {\"outlinewidth\": 0, \"ticks\": \"\"}}, \"colorscale\": {\"diverging\": [[0, \"#8e0152\"], [0.1, \"#c51b7d\"], [0.2, \"#de77ae\"], [0.3, \"#f1b6da\"], [0.4, \"#fde0ef\"], [0.5, \"#f7f7f7\"], [0.6, \"#e6f5d0\"], [0.7, \"#b8e186\"], [0.8, \"#7fbc41\"], [0.9, \"#4d9221\"], [1, \"#276419\"]], \"sequential\": [[0.0, \"#0d0887\"], [0.1111111111111111, \"#46039f\"], [0.2222222222222222, \"#7201a8\"], [0.3333333333333333, \"#9c179e\"], [0.4444444444444444, \"#bd3786\"], [0.5555555555555556, \"#d8576b\"], [0.6666666666666666, \"#ed7953\"], [0.7777777777777778, \"#fb9f3a\"], [0.8888888888888888, \"#fdca26\"], [1.0, \"#f0f921\"]], \"sequentialminus\": [[0.0, \"#0d0887\"], [0.1111111111111111, \"#46039f\"], [0.2222222222222222, \"#7201a8\"], [0.3333333333333333, \"#9c179e\"], [0.4444444444444444, \"#bd3786\"], [0.5555555555555556, \"#d8576b\"], [0.6666666666666666, \"#ed7953\"], [0.7777777777777778, \"#fb9f3a\"], [0.8888888888888888, \"#fdca26\"], [1.0, \"#f0f921\"]]}, \"colorway\": [\"#636efa\", \"#EF553B\", \"#00cc96\", \"#ab63fa\", \"#FFA15A\", \"#19d3f3\", \"#FF6692\", \"#B6E880\", \"#FF97FF\", \"#FECB52\"], \"font\": {\"color\": \"#2a3f5f\"}, \"geo\": {\"bgcolor\": \"white\", \"lakecolor\": \"white\", \"landcolor\": \"#E5ECF6\", \"showlakes\": true, \"showland\": true, \"subunitcolor\": \"white\"}, \"hoverlabel\": {\"align\": \"left\"}, \"hovermode\": \"closest\", \"mapbox\": {\"style\": \"light\"}, \"paper_bgcolor\": \"white\", \"plot_bgcolor\": \"#E5ECF6\", \"polar\": {\"angularaxis\": {\"gridcolor\": \"white\", \"linecolor\": \"white\", \"ticks\": \"\"}, \"bgcolor\": \"#E5ECF6\", \"radialaxis\": {\"gridcolor\": \"white\", \"linecolor\": \"white\", \"ticks\": \"\"}}, \"scene\": {\"xaxis\": {\"backgroundcolor\": \"#E5ECF6\", \"gridcolor\": \"white\", \"gridwidth\": 2, \"linecolor\": \"white\", \"showbackground\": true, \"ticks\": \"\", \"zerolinecolor\": \"white\"}, \"yaxis\": {\"backgroundcolor\": \"#E5ECF6\", \"gridcolor\": \"white\", \"gridwidth\": 2, \"linecolor\": \"white\", \"showbackground\": true, \"ticks\": \"\", \"zerolinecolor\": \"white\"}, \"zaxis\": {\"backgroundcolor\": \"#E5ECF6\", \"gridcolor\": \"white\", \"gridwidth\": 2, \"linecolor\": \"white\", \"showbackground\": true, \"ticks\": \"\", \"zerolinecolor\": \"white\"}}, \"shapedefaults\": {\"line\": {\"color\": \"#2a3f5f\"}}, \"ternary\": {\"aaxis\": {\"gridcolor\": \"white\", \"linecolor\": \"white\", \"ticks\": \"\"}, \"baxis\": {\"gridcolor\": \"white\", \"linecolor\": \"white\", \"ticks\": \"\"}, \"bgcolor\": \"#E5ECF6\", \"caxis\": {\"gridcolor\": \"white\", \"linecolor\": \"white\", \"ticks\": \"\"}}, \"title\": {\"x\": 0.05}, \"xaxis\": {\"automargin\": true, \"gridcolor\": \"white\", \"linecolor\": \"white\", \"ticks\": \"\", \"title\": {\"standoff\": 15}, \"zerolinecolor\": \"white\", \"zerolinewidth\": 2}, \"yaxis\": {\"automargin\": true, \"gridcolor\": \"white\", \"linecolor\": \"white\", \"ticks\": \"\", \"title\": {\"standoff\": 15}, \"zerolinecolor\": \"white\", \"zerolinewidth\": 2}}}, \"title\": {\"text\": \"Top 30 unigrams in the question text after removing stop words and lemmatization\"}},\n",
       "                        {\"responsive\": true}\n",
       "                    ).then(function(){\n",
       "                            \n",
       "var gd = document.getElementById('5b9811cd-7cdd-4124-9047-668f775e5481');\n",
       "var x = new MutationObserver(function (mutations, observer) {{\n",
       "        var display = window.getComputedStyle(gd).display;\n",
       "        if (!display || display === 'none') {{\n",
       "            console.log([gd, 'removed!']);\n",
       "            Plotly.purge(gd);\n",
       "            observer.disconnect();\n",
       "        }}\n",
       "}});\n",
       "\n",
       "// Listen for the removal of the full notebook cells\n",
       "var notebookContainer = gd.closest('#notebook-container');\n",
       "if (notebookContainer) {{\n",
       "    x.observe(notebookContainer, {childList: true});\n",
       "}}\n",
       "\n",
       "// Listen for the clearing of the current output cell\n",
       "var outputEl = gd.closest('.output');\n",
       "if (outputEl) {{\n",
       "    x.observe(outputEl, {childList: true});\n",
       "}}\n",
       "\n",
       "                        })\n",
       "                };\n",
       "                });\n",
       "            </script>\n",
       "        </div>"
      ]
     },
     "metadata": {},
     "output_type": "display_data"
    }
   ],
   "source": [
    "def get_top_n_words(corpus, n=None):\n",
    "    vec = CountVectorizer(stop_words='english').fit(corpus)\n",
    "    bag_of_words = vec.transform(corpus)\n",
    "    sum_words = bag_of_words.sum(axis=0) \n",
    "    words_freq = [(word, sum_words[0, idx]) for word, idx in vec.vocabulary_.items()]\n",
    "    words_freq =sorted(words_freq, key = lambda x: x[1], reverse=True)\n",
    "    return words_freq[:n]\n",
    "common_words = get_top_n_words(df_clean['prev_title_1_clean'], 30)\n",
    "df2 = pd.DataFrame(common_words, columns = ['unigram' , 'count'])\n",
    "\n",
    "fig = go.Figure([go.Bar(x=df2['unigram'], y=df2['count'])])\n",
    "fig.update_layout(title=go.layout.Title(text=\"Top 30 unigrams in the question text after removing stop words and lemmatization\"))\n",
    "\n"
   ]
  },
  {
   "cell_type": "code",
   "execution_count": 39,
   "metadata": {},
   "outputs": [
    {
     "data": {
      "application/vnd.plotly.v1+json": {
       "config": {
        "plotlyServerURL": "https://plot.ly"
       },
       "data": [
        {
         "type": "bar",
         "x": [
          "customer success",
          "success manager",
          "account manager",
          "solution architect",
          "manager customer",
          "program manager",
          "senior manager",
          "success advocate",
          "customer service",
          "vice president",
          "technical support",
          "development manager",
          "director customer",
          "product manager",
          "sale representative",
          "sale manager",
          "enterprise account",
          "support engineer",
          "senior account",
          "senior director"
         ],
         "y": [
          68,
          29,
          9,
          7,
          7,
          6,
          6,
          6,
          5,
          4,
          4,
          4,
          4,
          4,
          4,
          3,
          3,
          3,
          3,
          3
         ]
        }
       ],
       "layout": {
        "template": {
         "data": {
          "bar": [
           {
            "error_x": {
             "color": "#2a3f5f"
            },
            "error_y": {
             "color": "#2a3f5f"
            },
            "marker": {
             "line": {
              "color": "#E5ECF6",
              "width": 0.5
             }
            },
            "type": "bar"
           }
          ],
          "barpolar": [
           {
            "marker": {
             "line": {
              "color": "#E5ECF6",
              "width": 0.5
             }
            },
            "type": "barpolar"
           }
          ],
          "carpet": [
           {
            "aaxis": {
             "endlinecolor": "#2a3f5f",
             "gridcolor": "white",
             "linecolor": "white",
             "minorgridcolor": "white",
             "startlinecolor": "#2a3f5f"
            },
            "baxis": {
             "endlinecolor": "#2a3f5f",
             "gridcolor": "white",
             "linecolor": "white",
             "minorgridcolor": "white",
             "startlinecolor": "#2a3f5f"
            },
            "type": "carpet"
           }
          ],
          "choropleth": [
           {
            "colorbar": {
             "outlinewidth": 0,
             "ticks": ""
            },
            "type": "choropleth"
           }
          ],
          "contour": [
           {
            "colorbar": {
             "outlinewidth": 0,
             "ticks": ""
            },
            "colorscale": [
             [
              0,
              "#0d0887"
             ],
             [
              0.1111111111111111,
              "#46039f"
             ],
             [
              0.2222222222222222,
              "#7201a8"
             ],
             [
              0.3333333333333333,
              "#9c179e"
             ],
             [
              0.4444444444444444,
              "#bd3786"
             ],
             [
              0.5555555555555556,
              "#d8576b"
             ],
             [
              0.6666666666666666,
              "#ed7953"
             ],
             [
              0.7777777777777778,
              "#fb9f3a"
             ],
             [
              0.8888888888888888,
              "#fdca26"
             ],
             [
              1,
              "#f0f921"
             ]
            ],
            "type": "contour"
           }
          ],
          "contourcarpet": [
           {
            "colorbar": {
             "outlinewidth": 0,
             "ticks": ""
            },
            "type": "contourcarpet"
           }
          ],
          "heatmap": [
           {
            "colorbar": {
             "outlinewidth": 0,
             "ticks": ""
            },
            "colorscale": [
             [
              0,
              "#0d0887"
             ],
             [
              0.1111111111111111,
              "#46039f"
             ],
             [
              0.2222222222222222,
              "#7201a8"
             ],
             [
              0.3333333333333333,
              "#9c179e"
             ],
             [
              0.4444444444444444,
              "#bd3786"
             ],
             [
              0.5555555555555556,
              "#d8576b"
             ],
             [
              0.6666666666666666,
              "#ed7953"
             ],
             [
              0.7777777777777778,
              "#fb9f3a"
             ],
             [
              0.8888888888888888,
              "#fdca26"
             ],
             [
              1,
              "#f0f921"
             ]
            ],
            "type": "heatmap"
           }
          ],
          "heatmapgl": [
           {
            "colorbar": {
             "outlinewidth": 0,
             "ticks": ""
            },
            "colorscale": [
             [
              0,
              "#0d0887"
             ],
             [
              0.1111111111111111,
              "#46039f"
             ],
             [
              0.2222222222222222,
              "#7201a8"
             ],
             [
              0.3333333333333333,
              "#9c179e"
             ],
             [
              0.4444444444444444,
              "#bd3786"
             ],
             [
              0.5555555555555556,
              "#d8576b"
             ],
             [
              0.6666666666666666,
              "#ed7953"
             ],
             [
              0.7777777777777778,
              "#fb9f3a"
             ],
             [
              0.8888888888888888,
              "#fdca26"
             ],
             [
              1,
              "#f0f921"
             ]
            ],
            "type": "heatmapgl"
           }
          ],
          "histogram": [
           {
            "marker": {
             "colorbar": {
              "outlinewidth": 0,
              "ticks": ""
             }
            },
            "type": "histogram"
           }
          ],
          "histogram2d": [
           {
            "colorbar": {
             "outlinewidth": 0,
             "ticks": ""
            },
            "colorscale": [
             [
              0,
              "#0d0887"
             ],
             [
              0.1111111111111111,
              "#46039f"
             ],
             [
              0.2222222222222222,
              "#7201a8"
             ],
             [
              0.3333333333333333,
              "#9c179e"
             ],
             [
              0.4444444444444444,
              "#bd3786"
             ],
             [
              0.5555555555555556,
              "#d8576b"
             ],
             [
              0.6666666666666666,
              "#ed7953"
             ],
             [
              0.7777777777777778,
              "#fb9f3a"
             ],
             [
              0.8888888888888888,
              "#fdca26"
             ],
             [
              1,
              "#f0f921"
             ]
            ],
            "type": "histogram2d"
           }
          ],
          "histogram2dcontour": [
           {
            "colorbar": {
             "outlinewidth": 0,
             "ticks": ""
            },
            "colorscale": [
             [
              0,
              "#0d0887"
             ],
             [
              0.1111111111111111,
              "#46039f"
             ],
             [
              0.2222222222222222,
              "#7201a8"
             ],
             [
              0.3333333333333333,
              "#9c179e"
             ],
             [
              0.4444444444444444,
              "#bd3786"
             ],
             [
              0.5555555555555556,
              "#d8576b"
             ],
             [
              0.6666666666666666,
              "#ed7953"
             ],
             [
              0.7777777777777778,
              "#fb9f3a"
             ],
             [
              0.8888888888888888,
              "#fdca26"
             ],
             [
              1,
              "#f0f921"
             ]
            ],
            "type": "histogram2dcontour"
           }
          ],
          "mesh3d": [
           {
            "colorbar": {
             "outlinewidth": 0,
             "ticks": ""
            },
            "type": "mesh3d"
           }
          ],
          "parcoords": [
           {
            "line": {
             "colorbar": {
              "outlinewidth": 0,
              "ticks": ""
             }
            },
            "type": "parcoords"
           }
          ],
          "pie": [
           {
            "automargin": true,
            "type": "pie"
           }
          ],
          "scatter": [
           {
            "marker": {
             "colorbar": {
              "outlinewidth": 0,
              "ticks": ""
             }
            },
            "type": "scatter"
           }
          ],
          "scatter3d": [
           {
            "line": {
             "colorbar": {
              "outlinewidth": 0,
              "ticks": ""
             }
            },
            "marker": {
             "colorbar": {
              "outlinewidth": 0,
              "ticks": ""
             }
            },
            "type": "scatter3d"
           }
          ],
          "scattercarpet": [
           {
            "marker": {
             "colorbar": {
              "outlinewidth": 0,
              "ticks": ""
             }
            },
            "type": "scattercarpet"
           }
          ],
          "scattergeo": [
           {
            "marker": {
             "colorbar": {
              "outlinewidth": 0,
              "ticks": ""
             }
            },
            "type": "scattergeo"
           }
          ],
          "scattergl": [
           {
            "marker": {
             "colorbar": {
              "outlinewidth": 0,
              "ticks": ""
             }
            },
            "type": "scattergl"
           }
          ],
          "scattermapbox": [
           {
            "marker": {
             "colorbar": {
              "outlinewidth": 0,
              "ticks": ""
             }
            },
            "type": "scattermapbox"
           }
          ],
          "scatterpolar": [
           {
            "marker": {
             "colorbar": {
              "outlinewidth": 0,
              "ticks": ""
             }
            },
            "type": "scatterpolar"
           }
          ],
          "scatterpolargl": [
           {
            "marker": {
             "colorbar": {
              "outlinewidth": 0,
              "ticks": ""
             }
            },
            "type": "scatterpolargl"
           }
          ],
          "scatterternary": [
           {
            "marker": {
             "colorbar": {
              "outlinewidth": 0,
              "ticks": ""
             }
            },
            "type": "scatterternary"
           }
          ],
          "surface": [
           {
            "colorbar": {
             "outlinewidth": 0,
             "ticks": ""
            },
            "colorscale": [
             [
              0,
              "#0d0887"
             ],
             [
              0.1111111111111111,
              "#46039f"
             ],
             [
              0.2222222222222222,
              "#7201a8"
             ],
             [
              0.3333333333333333,
              "#9c179e"
             ],
             [
              0.4444444444444444,
              "#bd3786"
             ],
             [
              0.5555555555555556,
              "#d8576b"
             ],
             [
              0.6666666666666666,
              "#ed7953"
             ],
             [
              0.7777777777777778,
              "#fb9f3a"
             ],
             [
              0.8888888888888888,
              "#fdca26"
             ],
             [
              1,
              "#f0f921"
             ]
            ],
            "type": "surface"
           }
          ],
          "table": [
           {
            "cells": {
             "fill": {
              "color": "#EBF0F8"
             },
             "line": {
              "color": "white"
             }
            },
            "header": {
             "fill": {
              "color": "#C8D4E3"
             },
             "line": {
              "color": "white"
             }
            },
            "type": "table"
           }
          ]
         },
         "layout": {
          "annotationdefaults": {
           "arrowcolor": "#2a3f5f",
           "arrowhead": 0,
           "arrowwidth": 1
          },
          "coloraxis": {
           "colorbar": {
            "outlinewidth": 0,
            "ticks": ""
           }
          },
          "colorscale": {
           "diverging": [
            [
             0,
             "#8e0152"
            ],
            [
             0.1,
             "#c51b7d"
            ],
            [
             0.2,
             "#de77ae"
            ],
            [
             0.3,
             "#f1b6da"
            ],
            [
             0.4,
             "#fde0ef"
            ],
            [
             0.5,
             "#f7f7f7"
            ],
            [
             0.6,
             "#e6f5d0"
            ],
            [
             0.7,
             "#b8e186"
            ],
            [
             0.8,
             "#7fbc41"
            ],
            [
             0.9,
             "#4d9221"
            ],
            [
             1,
             "#276419"
            ]
           ],
           "sequential": [
            [
             0,
             "#0d0887"
            ],
            [
             0.1111111111111111,
             "#46039f"
            ],
            [
             0.2222222222222222,
             "#7201a8"
            ],
            [
             0.3333333333333333,
             "#9c179e"
            ],
            [
             0.4444444444444444,
             "#bd3786"
            ],
            [
             0.5555555555555556,
             "#d8576b"
            ],
            [
             0.6666666666666666,
             "#ed7953"
            ],
            [
             0.7777777777777778,
             "#fb9f3a"
            ],
            [
             0.8888888888888888,
             "#fdca26"
            ],
            [
             1,
             "#f0f921"
            ]
           ],
           "sequentialminus": [
            [
             0,
             "#0d0887"
            ],
            [
             0.1111111111111111,
             "#46039f"
            ],
            [
             0.2222222222222222,
             "#7201a8"
            ],
            [
             0.3333333333333333,
             "#9c179e"
            ],
            [
             0.4444444444444444,
             "#bd3786"
            ],
            [
             0.5555555555555556,
             "#d8576b"
            ],
            [
             0.6666666666666666,
             "#ed7953"
            ],
            [
             0.7777777777777778,
             "#fb9f3a"
            ],
            [
             0.8888888888888888,
             "#fdca26"
            ],
            [
             1,
             "#f0f921"
            ]
           ]
          },
          "colorway": [
           "#636efa",
           "#EF553B",
           "#00cc96",
           "#ab63fa",
           "#FFA15A",
           "#19d3f3",
           "#FF6692",
           "#B6E880",
           "#FF97FF",
           "#FECB52"
          ],
          "font": {
           "color": "#2a3f5f"
          },
          "geo": {
           "bgcolor": "white",
           "lakecolor": "white",
           "landcolor": "#E5ECF6",
           "showlakes": true,
           "showland": true,
           "subunitcolor": "white"
          },
          "hoverlabel": {
           "align": "left"
          },
          "hovermode": "closest",
          "mapbox": {
           "style": "light"
          },
          "paper_bgcolor": "white",
          "plot_bgcolor": "#E5ECF6",
          "polar": {
           "angularaxis": {
            "gridcolor": "white",
            "linecolor": "white",
            "ticks": ""
           },
           "bgcolor": "#E5ECF6",
           "radialaxis": {
            "gridcolor": "white",
            "linecolor": "white",
            "ticks": ""
           }
          },
          "scene": {
           "xaxis": {
            "backgroundcolor": "#E5ECF6",
            "gridcolor": "white",
            "gridwidth": 2,
            "linecolor": "white",
            "showbackground": true,
            "ticks": "",
            "zerolinecolor": "white"
           },
           "yaxis": {
            "backgroundcolor": "#E5ECF6",
            "gridcolor": "white",
            "gridwidth": 2,
            "linecolor": "white",
            "showbackground": true,
            "ticks": "",
            "zerolinecolor": "white"
           },
           "zaxis": {
            "backgroundcolor": "#E5ECF6",
            "gridcolor": "white",
            "gridwidth": 2,
            "linecolor": "white",
            "showbackground": true,
            "ticks": "",
            "zerolinecolor": "white"
           }
          },
          "shapedefaults": {
           "line": {
            "color": "#2a3f5f"
           }
          },
          "ternary": {
           "aaxis": {
            "gridcolor": "white",
            "linecolor": "white",
            "ticks": ""
           },
           "baxis": {
            "gridcolor": "white",
            "linecolor": "white",
            "ticks": ""
           },
           "bgcolor": "#E5ECF6",
           "caxis": {
            "gridcolor": "white",
            "linecolor": "white",
            "ticks": ""
           }
          },
          "title": {
           "x": 0.05
          },
          "xaxis": {
           "automargin": true,
           "gridcolor": "white",
           "linecolor": "white",
           "ticks": "",
           "title": {
            "standoff": 15
           },
           "zerolinecolor": "white",
           "zerolinewidth": 2
          },
          "yaxis": {
           "automargin": true,
           "gridcolor": "white",
           "linecolor": "white",
           "ticks": "",
           "title": {
            "standoff": 15
           },
           "zerolinecolor": "white",
           "zerolinewidth": 2
          }
         }
        },
        "title": {
         "text": "Top 20 bigrams text after removing stop words and lemmatization"
        }
       }
      },
      "text/html": [
       "<div>\n",
       "        \n",
       "        \n",
       "            <div id=\"69ea3bba-cefa-45b0-b039-d53e486b9dd5\" class=\"plotly-graph-div\" style=\"height:525px; width:100%;\"></div>\n",
       "            <script type=\"text/javascript\">\n",
       "                require([\"plotly\"], function(Plotly) {\n",
       "                    window.PLOTLYENV=window.PLOTLYENV || {};\n",
       "                    \n",
       "                if (document.getElementById(\"69ea3bba-cefa-45b0-b039-d53e486b9dd5\")) {\n",
       "                    Plotly.newPlot(\n",
       "                        '69ea3bba-cefa-45b0-b039-d53e486b9dd5',\n",
       "                        [{\"type\": \"bar\", \"x\": [\"customer success\", \"success manager\", \"account manager\", \"solution architect\", \"manager customer\", \"program manager\", \"senior manager\", \"success advocate\", \"customer service\", \"vice president\", \"technical support\", \"development manager\", \"director customer\", \"product manager\", \"sale representative\", \"sale manager\", \"enterprise account\", \"support engineer\", \"senior account\", \"senior director\"], \"y\": [68, 29, 9, 7, 7, 6, 6, 6, 5, 4, 4, 4, 4, 4, 4, 3, 3, 3, 3, 3]}],\n",
       "                        {\"template\": {\"data\": {\"bar\": [{\"error_x\": {\"color\": \"#2a3f5f\"}, \"error_y\": {\"color\": \"#2a3f5f\"}, \"marker\": {\"line\": {\"color\": \"#E5ECF6\", \"width\": 0.5}}, \"type\": \"bar\"}], \"barpolar\": [{\"marker\": {\"line\": {\"color\": \"#E5ECF6\", \"width\": 0.5}}, \"type\": \"barpolar\"}], \"carpet\": [{\"aaxis\": {\"endlinecolor\": \"#2a3f5f\", \"gridcolor\": \"white\", \"linecolor\": \"white\", \"minorgridcolor\": \"white\", \"startlinecolor\": \"#2a3f5f\"}, \"baxis\": {\"endlinecolor\": \"#2a3f5f\", \"gridcolor\": \"white\", \"linecolor\": \"white\", \"minorgridcolor\": \"white\", \"startlinecolor\": \"#2a3f5f\"}, \"type\": \"carpet\"}], \"choropleth\": [{\"colorbar\": {\"outlinewidth\": 0, \"ticks\": \"\"}, \"type\": \"choropleth\"}], \"contour\": [{\"colorbar\": {\"outlinewidth\": 0, \"ticks\": \"\"}, \"colorscale\": [[0.0, \"#0d0887\"], [0.1111111111111111, \"#46039f\"], [0.2222222222222222, \"#7201a8\"], [0.3333333333333333, \"#9c179e\"], [0.4444444444444444, \"#bd3786\"], [0.5555555555555556, \"#d8576b\"], [0.6666666666666666, \"#ed7953\"], [0.7777777777777778, \"#fb9f3a\"], [0.8888888888888888, \"#fdca26\"], [1.0, \"#f0f921\"]], \"type\": \"contour\"}], \"contourcarpet\": [{\"colorbar\": {\"outlinewidth\": 0, \"ticks\": \"\"}, \"type\": \"contourcarpet\"}], \"heatmap\": [{\"colorbar\": {\"outlinewidth\": 0, \"ticks\": \"\"}, \"colorscale\": [[0.0, \"#0d0887\"], [0.1111111111111111, \"#46039f\"], [0.2222222222222222, \"#7201a8\"], [0.3333333333333333, \"#9c179e\"], [0.4444444444444444, \"#bd3786\"], [0.5555555555555556, \"#d8576b\"], [0.6666666666666666, \"#ed7953\"], [0.7777777777777778, \"#fb9f3a\"], [0.8888888888888888, \"#fdca26\"], [1.0, \"#f0f921\"]], \"type\": \"heatmap\"}], \"heatmapgl\": [{\"colorbar\": {\"outlinewidth\": 0, \"ticks\": \"\"}, \"colorscale\": [[0.0, \"#0d0887\"], [0.1111111111111111, \"#46039f\"], [0.2222222222222222, \"#7201a8\"], [0.3333333333333333, \"#9c179e\"], [0.4444444444444444, \"#bd3786\"], [0.5555555555555556, \"#d8576b\"], [0.6666666666666666, \"#ed7953\"], [0.7777777777777778, \"#fb9f3a\"], [0.8888888888888888, \"#fdca26\"], [1.0, \"#f0f921\"]], \"type\": \"heatmapgl\"}], \"histogram\": [{\"marker\": {\"colorbar\": {\"outlinewidth\": 0, \"ticks\": \"\"}}, \"type\": \"histogram\"}], \"histogram2d\": [{\"colorbar\": {\"outlinewidth\": 0, \"ticks\": \"\"}, \"colorscale\": [[0.0, \"#0d0887\"], [0.1111111111111111, \"#46039f\"], [0.2222222222222222, \"#7201a8\"], [0.3333333333333333, \"#9c179e\"], [0.4444444444444444, \"#bd3786\"], [0.5555555555555556, \"#d8576b\"], [0.6666666666666666, \"#ed7953\"], [0.7777777777777778, \"#fb9f3a\"], [0.8888888888888888, \"#fdca26\"], [1.0, \"#f0f921\"]], \"type\": \"histogram2d\"}], \"histogram2dcontour\": [{\"colorbar\": {\"outlinewidth\": 0, \"ticks\": \"\"}, \"colorscale\": [[0.0, \"#0d0887\"], [0.1111111111111111, \"#46039f\"], [0.2222222222222222, \"#7201a8\"], [0.3333333333333333, \"#9c179e\"], [0.4444444444444444, \"#bd3786\"], [0.5555555555555556, \"#d8576b\"], [0.6666666666666666, \"#ed7953\"], [0.7777777777777778, \"#fb9f3a\"], [0.8888888888888888, \"#fdca26\"], [1.0, \"#f0f921\"]], \"type\": \"histogram2dcontour\"}], \"mesh3d\": [{\"colorbar\": {\"outlinewidth\": 0, \"ticks\": \"\"}, \"type\": \"mesh3d\"}], \"parcoords\": [{\"line\": {\"colorbar\": {\"outlinewidth\": 0, \"ticks\": \"\"}}, \"type\": \"parcoords\"}], \"pie\": [{\"automargin\": true, \"type\": \"pie\"}], \"scatter\": [{\"marker\": {\"colorbar\": {\"outlinewidth\": 0, \"ticks\": \"\"}}, \"type\": \"scatter\"}], \"scatter3d\": [{\"line\": {\"colorbar\": {\"outlinewidth\": 0, \"ticks\": \"\"}}, \"marker\": {\"colorbar\": {\"outlinewidth\": 0, \"ticks\": \"\"}}, \"type\": \"scatter3d\"}], \"scattercarpet\": [{\"marker\": {\"colorbar\": {\"outlinewidth\": 0, \"ticks\": \"\"}}, \"type\": \"scattercarpet\"}], \"scattergeo\": [{\"marker\": {\"colorbar\": {\"outlinewidth\": 0, \"ticks\": \"\"}}, \"type\": \"scattergeo\"}], \"scattergl\": [{\"marker\": {\"colorbar\": {\"outlinewidth\": 0, \"ticks\": \"\"}}, \"type\": \"scattergl\"}], \"scattermapbox\": [{\"marker\": {\"colorbar\": {\"outlinewidth\": 0, \"ticks\": \"\"}}, \"type\": \"scattermapbox\"}], \"scatterpolar\": [{\"marker\": {\"colorbar\": {\"outlinewidth\": 0, \"ticks\": \"\"}}, \"type\": \"scatterpolar\"}], \"scatterpolargl\": [{\"marker\": {\"colorbar\": {\"outlinewidth\": 0, \"ticks\": \"\"}}, \"type\": \"scatterpolargl\"}], \"scatterternary\": [{\"marker\": {\"colorbar\": {\"outlinewidth\": 0, \"ticks\": \"\"}}, \"type\": \"scatterternary\"}], \"surface\": [{\"colorbar\": {\"outlinewidth\": 0, \"ticks\": \"\"}, \"colorscale\": [[0.0, \"#0d0887\"], [0.1111111111111111, \"#46039f\"], [0.2222222222222222, \"#7201a8\"], [0.3333333333333333, \"#9c179e\"], [0.4444444444444444, \"#bd3786\"], [0.5555555555555556, \"#d8576b\"], [0.6666666666666666, \"#ed7953\"], [0.7777777777777778, \"#fb9f3a\"], [0.8888888888888888, \"#fdca26\"], [1.0, \"#f0f921\"]], \"type\": \"surface\"}], \"table\": [{\"cells\": {\"fill\": {\"color\": \"#EBF0F8\"}, \"line\": {\"color\": \"white\"}}, \"header\": {\"fill\": {\"color\": \"#C8D4E3\"}, \"line\": {\"color\": \"white\"}}, \"type\": \"table\"}]}, \"layout\": {\"annotationdefaults\": {\"arrowcolor\": \"#2a3f5f\", \"arrowhead\": 0, \"arrowwidth\": 1}, \"coloraxis\": {\"colorbar\": {\"outlinewidth\": 0, \"ticks\": \"\"}}, \"colorscale\": {\"diverging\": [[0, \"#8e0152\"], [0.1, \"#c51b7d\"], [0.2, \"#de77ae\"], [0.3, \"#f1b6da\"], [0.4, \"#fde0ef\"], [0.5, \"#f7f7f7\"], [0.6, \"#e6f5d0\"], [0.7, \"#b8e186\"], [0.8, \"#7fbc41\"], [0.9, \"#4d9221\"], [1, \"#276419\"]], \"sequential\": [[0.0, \"#0d0887\"], [0.1111111111111111, \"#46039f\"], [0.2222222222222222, \"#7201a8\"], [0.3333333333333333, \"#9c179e\"], [0.4444444444444444, \"#bd3786\"], [0.5555555555555556, \"#d8576b\"], [0.6666666666666666, \"#ed7953\"], [0.7777777777777778, \"#fb9f3a\"], [0.8888888888888888, \"#fdca26\"], [1.0, \"#f0f921\"]], \"sequentialminus\": [[0.0, \"#0d0887\"], [0.1111111111111111, \"#46039f\"], [0.2222222222222222, \"#7201a8\"], [0.3333333333333333, \"#9c179e\"], [0.4444444444444444, \"#bd3786\"], [0.5555555555555556, \"#d8576b\"], [0.6666666666666666, \"#ed7953\"], [0.7777777777777778, \"#fb9f3a\"], [0.8888888888888888, \"#fdca26\"], [1.0, \"#f0f921\"]]}, \"colorway\": [\"#636efa\", \"#EF553B\", \"#00cc96\", \"#ab63fa\", \"#FFA15A\", \"#19d3f3\", \"#FF6692\", \"#B6E880\", \"#FF97FF\", \"#FECB52\"], \"font\": {\"color\": \"#2a3f5f\"}, \"geo\": {\"bgcolor\": \"white\", \"lakecolor\": \"white\", \"landcolor\": \"#E5ECF6\", \"showlakes\": true, \"showland\": true, \"subunitcolor\": \"white\"}, \"hoverlabel\": {\"align\": \"left\"}, \"hovermode\": \"closest\", \"mapbox\": {\"style\": \"light\"}, \"paper_bgcolor\": \"white\", \"plot_bgcolor\": \"#E5ECF6\", \"polar\": {\"angularaxis\": {\"gridcolor\": \"white\", \"linecolor\": \"white\", \"ticks\": \"\"}, \"bgcolor\": \"#E5ECF6\", \"radialaxis\": {\"gridcolor\": \"white\", \"linecolor\": \"white\", \"ticks\": \"\"}}, \"scene\": {\"xaxis\": {\"backgroundcolor\": \"#E5ECF6\", \"gridcolor\": \"white\", \"gridwidth\": 2, \"linecolor\": \"white\", \"showbackground\": true, \"ticks\": \"\", \"zerolinecolor\": \"white\"}, \"yaxis\": {\"backgroundcolor\": \"#E5ECF6\", \"gridcolor\": \"white\", \"gridwidth\": 2, \"linecolor\": \"white\", \"showbackground\": true, \"ticks\": \"\", \"zerolinecolor\": \"white\"}, \"zaxis\": {\"backgroundcolor\": \"#E5ECF6\", \"gridcolor\": \"white\", \"gridwidth\": 2, \"linecolor\": \"white\", \"showbackground\": true, \"ticks\": \"\", \"zerolinecolor\": \"white\"}}, \"shapedefaults\": {\"line\": {\"color\": \"#2a3f5f\"}}, \"ternary\": {\"aaxis\": {\"gridcolor\": \"white\", \"linecolor\": \"white\", \"ticks\": \"\"}, \"baxis\": {\"gridcolor\": \"white\", \"linecolor\": \"white\", \"ticks\": \"\"}, \"bgcolor\": \"#E5ECF6\", \"caxis\": {\"gridcolor\": \"white\", \"linecolor\": \"white\", \"ticks\": \"\"}}, \"title\": {\"x\": 0.05}, \"xaxis\": {\"automargin\": true, \"gridcolor\": \"white\", \"linecolor\": \"white\", \"ticks\": \"\", \"title\": {\"standoff\": 15}, \"zerolinecolor\": \"white\", \"zerolinewidth\": 2}, \"yaxis\": {\"automargin\": true, \"gridcolor\": \"white\", \"linecolor\": \"white\", \"ticks\": \"\", \"title\": {\"standoff\": 15}, \"zerolinecolor\": \"white\", \"zerolinewidth\": 2}}}, \"title\": {\"text\": \"Top 20 bigrams text after removing stop words and lemmatization\"}},\n",
       "                        {\"responsive\": true}\n",
       "                    ).then(function(){\n",
       "                            \n",
       "var gd = document.getElementById('69ea3bba-cefa-45b0-b039-d53e486b9dd5');\n",
       "var x = new MutationObserver(function (mutations, observer) {{\n",
       "        var display = window.getComputedStyle(gd).display;\n",
       "        if (!display || display === 'none') {{\n",
       "            console.log([gd, 'removed!']);\n",
       "            Plotly.purge(gd);\n",
       "            observer.disconnect();\n",
       "        }}\n",
       "}});\n",
       "\n",
       "// Listen for the removal of the full notebook cells\n",
       "var notebookContainer = gd.closest('#notebook-container');\n",
       "if (notebookContainer) {{\n",
       "    x.observe(notebookContainer, {childList: true});\n",
       "}}\n",
       "\n",
       "// Listen for the clearing of the current output cell\n",
       "var outputEl = gd.closest('.output');\n",
       "if (outputEl) {{\n",
       "    x.observe(outputEl, {childList: true});\n",
       "}}\n",
       "\n",
       "                        })\n",
       "                };\n",
       "                });\n",
       "            </script>\n",
       "        </div>"
      ]
     },
     "metadata": {},
     "output_type": "display_data"
    }
   ],
   "source": [
    "def get_top_n_bigram(corpus, n=None):\n",
    "    vec = CountVectorizer(ngram_range=(2, 2), stop_words='english').fit(corpus)\n",
    "    bag_of_words = vec.transform(corpus)\n",
    "    sum_words = bag_of_words.sum(axis=0) \n",
    "    words_freq = [(word, sum_words[0, idx]) for word, idx in vec.vocabulary_.items()]\n",
    "    words_freq =sorted(words_freq, key = lambda x: x[1], reverse=True)\n",
    "    return words_freq[:n]\n",
    "common_words = get_top_n_bigram(df_clean['prev_title_1_clean'], 20)\n",
    "df3 = pd.DataFrame(common_words, columns = ['bigram' , 'count'])\n",
    "\n",
    "fig = go.Figure([go.Bar(x=df3['bigram'], y=df3['count'])])\n",
    "fig.update_layout(title=go.layout.Title(text=\"Top 20 bigrams text after removing stop words and lemmatization\"))\n",
    "fig.show()"
   ]
  },
  {
   "cell_type": "code",
   "execution_count": 40,
   "metadata": {},
   "outputs": [
    {
     "data": {
      "application/vnd.plotly.v1+json": {
       "config": {
        "plotlyServerURL": "https://plot.ly"
       },
       "data": [
        {
         "type": "bar",
         "x": [
          "customer success manager",
          "customer success advocate",
          "manager customer success",
          "cloud solution architect",
          "customer success unit",
          "director customer success",
          "head customer success",
          "customer success specialist",
          "senior customer success",
          "enterprise account manager",
          "manager public sector",
          "senior information systems",
          "information systems security",
          "success manager global",
          "vice president customer",
          "president customer success",
          "program manager customer",
          "architect customer success",
          "program portfolio manager",
          "partner development manager"
         ],
         "y": [
          28,
          6,
          4,
          3,
          3,
          3,
          3,
          3,
          3,
          2,
          2,
          2,
          2,
          2,
          2,
          2,
          2,
          2,
          2,
          2
         ]
        }
       ],
       "layout": {
        "template": {
         "data": {
          "bar": [
           {
            "error_x": {
             "color": "#2a3f5f"
            },
            "error_y": {
             "color": "#2a3f5f"
            },
            "marker": {
             "line": {
              "color": "#E5ECF6",
              "width": 0.5
             }
            },
            "type": "bar"
           }
          ],
          "barpolar": [
           {
            "marker": {
             "line": {
              "color": "#E5ECF6",
              "width": 0.5
             }
            },
            "type": "barpolar"
           }
          ],
          "carpet": [
           {
            "aaxis": {
             "endlinecolor": "#2a3f5f",
             "gridcolor": "white",
             "linecolor": "white",
             "minorgridcolor": "white",
             "startlinecolor": "#2a3f5f"
            },
            "baxis": {
             "endlinecolor": "#2a3f5f",
             "gridcolor": "white",
             "linecolor": "white",
             "minorgridcolor": "white",
             "startlinecolor": "#2a3f5f"
            },
            "type": "carpet"
           }
          ],
          "choropleth": [
           {
            "colorbar": {
             "outlinewidth": 0,
             "ticks": ""
            },
            "type": "choropleth"
           }
          ],
          "contour": [
           {
            "colorbar": {
             "outlinewidth": 0,
             "ticks": ""
            },
            "colorscale": [
             [
              0,
              "#0d0887"
             ],
             [
              0.1111111111111111,
              "#46039f"
             ],
             [
              0.2222222222222222,
              "#7201a8"
             ],
             [
              0.3333333333333333,
              "#9c179e"
             ],
             [
              0.4444444444444444,
              "#bd3786"
             ],
             [
              0.5555555555555556,
              "#d8576b"
             ],
             [
              0.6666666666666666,
              "#ed7953"
             ],
             [
              0.7777777777777778,
              "#fb9f3a"
             ],
             [
              0.8888888888888888,
              "#fdca26"
             ],
             [
              1,
              "#f0f921"
             ]
            ],
            "type": "contour"
           }
          ],
          "contourcarpet": [
           {
            "colorbar": {
             "outlinewidth": 0,
             "ticks": ""
            },
            "type": "contourcarpet"
           }
          ],
          "heatmap": [
           {
            "colorbar": {
             "outlinewidth": 0,
             "ticks": ""
            },
            "colorscale": [
             [
              0,
              "#0d0887"
             ],
             [
              0.1111111111111111,
              "#46039f"
             ],
             [
              0.2222222222222222,
              "#7201a8"
             ],
             [
              0.3333333333333333,
              "#9c179e"
             ],
             [
              0.4444444444444444,
              "#bd3786"
             ],
             [
              0.5555555555555556,
              "#d8576b"
             ],
             [
              0.6666666666666666,
              "#ed7953"
             ],
             [
              0.7777777777777778,
              "#fb9f3a"
             ],
             [
              0.8888888888888888,
              "#fdca26"
             ],
             [
              1,
              "#f0f921"
             ]
            ],
            "type": "heatmap"
           }
          ],
          "heatmapgl": [
           {
            "colorbar": {
             "outlinewidth": 0,
             "ticks": ""
            },
            "colorscale": [
             [
              0,
              "#0d0887"
             ],
             [
              0.1111111111111111,
              "#46039f"
             ],
             [
              0.2222222222222222,
              "#7201a8"
             ],
             [
              0.3333333333333333,
              "#9c179e"
             ],
             [
              0.4444444444444444,
              "#bd3786"
             ],
             [
              0.5555555555555556,
              "#d8576b"
             ],
             [
              0.6666666666666666,
              "#ed7953"
             ],
             [
              0.7777777777777778,
              "#fb9f3a"
             ],
             [
              0.8888888888888888,
              "#fdca26"
             ],
             [
              1,
              "#f0f921"
             ]
            ],
            "type": "heatmapgl"
           }
          ],
          "histogram": [
           {
            "marker": {
             "colorbar": {
              "outlinewidth": 0,
              "ticks": ""
             }
            },
            "type": "histogram"
           }
          ],
          "histogram2d": [
           {
            "colorbar": {
             "outlinewidth": 0,
             "ticks": ""
            },
            "colorscale": [
             [
              0,
              "#0d0887"
             ],
             [
              0.1111111111111111,
              "#46039f"
             ],
             [
              0.2222222222222222,
              "#7201a8"
             ],
             [
              0.3333333333333333,
              "#9c179e"
             ],
             [
              0.4444444444444444,
              "#bd3786"
             ],
             [
              0.5555555555555556,
              "#d8576b"
             ],
             [
              0.6666666666666666,
              "#ed7953"
             ],
             [
              0.7777777777777778,
              "#fb9f3a"
             ],
             [
              0.8888888888888888,
              "#fdca26"
             ],
             [
              1,
              "#f0f921"
             ]
            ],
            "type": "histogram2d"
           }
          ],
          "histogram2dcontour": [
           {
            "colorbar": {
             "outlinewidth": 0,
             "ticks": ""
            },
            "colorscale": [
             [
              0,
              "#0d0887"
             ],
             [
              0.1111111111111111,
              "#46039f"
             ],
             [
              0.2222222222222222,
              "#7201a8"
             ],
             [
              0.3333333333333333,
              "#9c179e"
             ],
             [
              0.4444444444444444,
              "#bd3786"
             ],
             [
              0.5555555555555556,
              "#d8576b"
             ],
             [
              0.6666666666666666,
              "#ed7953"
             ],
             [
              0.7777777777777778,
              "#fb9f3a"
             ],
             [
              0.8888888888888888,
              "#fdca26"
             ],
             [
              1,
              "#f0f921"
             ]
            ],
            "type": "histogram2dcontour"
           }
          ],
          "mesh3d": [
           {
            "colorbar": {
             "outlinewidth": 0,
             "ticks": ""
            },
            "type": "mesh3d"
           }
          ],
          "parcoords": [
           {
            "line": {
             "colorbar": {
              "outlinewidth": 0,
              "ticks": ""
             }
            },
            "type": "parcoords"
           }
          ],
          "pie": [
           {
            "automargin": true,
            "type": "pie"
           }
          ],
          "scatter": [
           {
            "marker": {
             "colorbar": {
              "outlinewidth": 0,
              "ticks": ""
             }
            },
            "type": "scatter"
           }
          ],
          "scatter3d": [
           {
            "line": {
             "colorbar": {
              "outlinewidth": 0,
              "ticks": ""
             }
            },
            "marker": {
             "colorbar": {
              "outlinewidth": 0,
              "ticks": ""
             }
            },
            "type": "scatter3d"
           }
          ],
          "scattercarpet": [
           {
            "marker": {
             "colorbar": {
              "outlinewidth": 0,
              "ticks": ""
             }
            },
            "type": "scattercarpet"
           }
          ],
          "scattergeo": [
           {
            "marker": {
             "colorbar": {
              "outlinewidth": 0,
              "ticks": ""
             }
            },
            "type": "scattergeo"
           }
          ],
          "scattergl": [
           {
            "marker": {
             "colorbar": {
              "outlinewidth": 0,
              "ticks": ""
             }
            },
            "type": "scattergl"
           }
          ],
          "scattermapbox": [
           {
            "marker": {
             "colorbar": {
              "outlinewidth": 0,
              "ticks": ""
             }
            },
            "type": "scattermapbox"
           }
          ],
          "scatterpolar": [
           {
            "marker": {
             "colorbar": {
              "outlinewidth": 0,
              "ticks": ""
             }
            },
            "type": "scatterpolar"
           }
          ],
          "scatterpolargl": [
           {
            "marker": {
             "colorbar": {
              "outlinewidth": 0,
              "ticks": ""
             }
            },
            "type": "scatterpolargl"
           }
          ],
          "scatterternary": [
           {
            "marker": {
             "colorbar": {
              "outlinewidth": 0,
              "ticks": ""
             }
            },
            "type": "scatterternary"
           }
          ],
          "surface": [
           {
            "colorbar": {
             "outlinewidth": 0,
             "ticks": ""
            },
            "colorscale": [
             [
              0,
              "#0d0887"
             ],
             [
              0.1111111111111111,
              "#46039f"
             ],
             [
              0.2222222222222222,
              "#7201a8"
             ],
             [
              0.3333333333333333,
              "#9c179e"
             ],
             [
              0.4444444444444444,
              "#bd3786"
             ],
             [
              0.5555555555555556,
              "#d8576b"
             ],
             [
              0.6666666666666666,
              "#ed7953"
             ],
             [
              0.7777777777777778,
              "#fb9f3a"
             ],
             [
              0.8888888888888888,
              "#fdca26"
             ],
             [
              1,
              "#f0f921"
             ]
            ],
            "type": "surface"
           }
          ],
          "table": [
           {
            "cells": {
             "fill": {
              "color": "#EBF0F8"
             },
             "line": {
              "color": "white"
             }
            },
            "header": {
             "fill": {
              "color": "#C8D4E3"
             },
             "line": {
              "color": "white"
             }
            },
            "type": "table"
           }
          ]
         },
         "layout": {
          "annotationdefaults": {
           "arrowcolor": "#2a3f5f",
           "arrowhead": 0,
           "arrowwidth": 1
          },
          "coloraxis": {
           "colorbar": {
            "outlinewidth": 0,
            "ticks": ""
           }
          },
          "colorscale": {
           "diverging": [
            [
             0,
             "#8e0152"
            ],
            [
             0.1,
             "#c51b7d"
            ],
            [
             0.2,
             "#de77ae"
            ],
            [
             0.3,
             "#f1b6da"
            ],
            [
             0.4,
             "#fde0ef"
            ],
            [
             0.5,
             "#f7f7f7"
            ],
            [
             0.6,
             "#e6f5d0"
            ],
            [
             0.7,
             "#b8e186"
            ],
            [
             0.8,
             "#7fbc41"
            ],
            [
             0.9,
             "#4d9221"
            ],
            [
             1,
             "#276419"
            ]
           ],
           "sequential": [
            [
             0,
             "#0d0887"
            ],
            [
             0.1111111111111111,
             "#46039f"
            ],
            [
             0.2222222222222222,
             "#7201a8"
            ],
            [
             0.3333333333333333,
             "#9c179e"
            ],
            [
             0.4444444444444444,
             "#bd3786"
            ],
            [
             0.5555555555555556,
             "#d8576b"
            ],
            [
             0.6666666666666666,
             "#ed7953"
            ],
            [
             0.7777777777777778,
             "#fb9f3a"
            ],
            [
             0.8888888888888888,
             "#fdca26"
            ],
            [
             1,
             "#f0f921"
            ]
           ],
           "sequentialminus": [
            [
             0,
             "#0d0887"
            ],
            [
             0.1111111111111111,
             "#46039f"
            ],
            [
             0.2222222222222222,
             "#7201a8"
            ],
            [
             0.3333333333333333,
             "#9c179e"
            ],
            [
             0.4444444444444444,
             "#bd3786"
            ],
            [
             0.5555555555555556,
             "#d8576b"
            ],
            [
             0.6666666666666666,
             "#ed7953"
            ],
            [
             0.7777777777777778,
             "#fb9f3a"
            ],
            [
             0.8888888888888888,
             "#fdca26"
            ],
            [
             1,
             "#f0f921"
            ]
           ]
          },
          "colorway": [
           "#636efa",
           "#EF553B",
           "#00cc96",
           "#ab63fa",
           "#FFA15A",
           "#19d3f3",
           "#FF6692",
           "#B6E880",
           "#FF97FF",
           "#FECB52"
          ],
          "font": {
           "color": "#2a3f5f"
          },
          "geo": {
           "bgcolor": "white",
           "lakecolor": "white",
           "landcolor": "#E5ECF6",
           "showlakes": true,
           "showland": true,
           "subunitcolor": "white"
          },
          "hoverlabel": {
           "align": "left"
          },
          "hovermode": "closest",
          "mapbox": {
           "style": "light"
          },
          "paper_bgcolor": "white",
          "plot_bgcolor": "#E5ECF6",
          "polar": {
           "angularaxis": {
            "gridcolor": "white",
            "linecolor": "white",
            "ticks": ""
           },
           "bgcolor": "#E5ECF6",
           "radialaxis": {
            "gridcolor": "white",
            "linecolor": "white",
            "ticks": ""
           }
          },
          "scene": {
           "xaxis": {
            "backgroundcolor": "#E5ECF6",
            "gridcolor": "white",
            "gridwidth": 2,
            "linecolor": "white",
            "showbackground": true,
            "ticks": "",
            "zerolinecolor": "white"
           },
           "yaxis": {
            "backgroundcolor": "#E5ECF6",
            "gridcolor": "white",
            "gridwidth": 2,
            "linecolor": "white",
            "showbackground": true,
            "ticks": "",
            "zerolinecolor": "white"
           },
           "zaxis": {
            "backgroundcolor": "#E5ECF6",
            "gridcolor": "white",
            "gridwidth": 2,
            "linecolor": "white",
            "showbackground": true,
            "ticks": "",
            "zerolinecolor": "white"
           }
          },
          "shapedefaults": {
           "line": {
            "color": "#2a3f5f"
           }
          },
          "ternary": {
           "aaxis": {
            "gridcolor": "white",
            "linecolor": "white",
            "ticks": ""
           },
           "baxis": {
            "gridcolor": "white",
            "linecolor": "white",
            "ticks": ""
           },
           "bgcolor": "#E5ECF6",
           "caxis": {
            "gridcolor": "white",
            "linecolor": "white",
            "ticks": ""
           }
          },
          "title": {
           "x": 0.05
          },
          "xaxis": {
           "automargin": true,
           "gridcolor": "white",
           "linecolor": "white",
           "ticks": "",
           "title": {
            "standoff": 15
           },
           "zerolinecolor": "white",
           "zerolinewidth": 2
          },
          "yaxis": {
           "automargin": true,
           "gridcolor": "white",
           "linecolor": "white",
           "ticks": "",
           "title": {
            "standoff": 15
           },
           "zerolinecolor": "white",
           "zerolinewidth": 2
          }
         }
        },
        "title": {
         "text": "Top 20 trigrams in the question text"
        }
       }
      },
      "text/html": [
       "<div>\n",
       "        \n",
       "        \n",
       "            <div id=\"2e380367-6282-4eee-a223-b56625d84e05\" class=\"plotly-graph-div\" style=\"height:525px; width:100%;\"></div>\n",
       "            <script type=\"text/javascript\">\n",
       "                require([\"plotly\"], function(Plotly) {\n",
       "                    window.PLOTLYENV=window.PLOTLYENV || {};\n",
       "                    \n",
       "                if (document.getElementById(\"2e380367-6282-4eee-a223-b56625d84e05\")) {\n",
       "                    Plotly.newPlot(\n",
       "                        '2e380367-6282-4eee-a223-b56625d84e05',\n",
       "                        [{\"type\": \"bar\", \"x\": [\"customer success manager\", \"customer success advocate\", \"manager customer success\", \"cloud solution architect\", \"customer success unit\", \"director customer success\", \"head customer success\", \"customer success specialist\", \"senior customer success\", \"enterprise account manager\", \"manager public sector\", \"senior information systems\", \"information systems security\", \"success manager global\", \"vice president customer\", \"president customer success\", \"program manager customer\", \"architect customer success\", \"program portfolio manager\", \"partner development manager\"], \"y\": [28, 6, 4, 3, 3, 3, 3, 3, 3, 2, 2, 2, 2, 2, 2, 2, 2, 2, 2, 2]}],\n",
       "                        {\"template\": {\"data\": {\"bar\": [{\"error_x\": {\"color\": \"#2a3f5f\"}, \"error_y\": {\"color\": \"#2a3f5f\"}, \"marker\": {\"line\": {\"color\": \"#E5ECF6\", \"width\": 0.5}}, \"type\": \"bar\"}], \"barpolar\": [{\"marker\": {\"line\": {\"color\": \"#E5ECF6\", \"width\": 0.5}}, \"type\": \"barpolar\"}], \"carpet\": [{\"aaxis\": {\"endlinecolor\": \"#2a3f5f\", \"gridcolor\": \"white\", \"linecolor\": \"white\", \"minorgridcolor\": \"white\", \"startlinecolor\": \"#2a3f5f\"}, \"baxis\": {\"endlinecolor\": \"#2a3f5f\", \"gridcolor\": \"white\", \"linecolor\": \"white\", \"minorgridcolor\": \"white\", \"startlinecolor\": \"#2a3f5f\"}, \"type\": \"carpet\"}], \"choropleth\": [{\"colorbar\": {\"outlinewidth\": 0, \"ticks\": \"\"}, \"type\": \"choropleth\"}], \"contour\": [{\"colorbar\": {\"outlinewidth\": 0, \"ticks\": \"\"}, \"colorscale\": [[0.0, \"#0d0887\"], [0.1111111111111111, \"#46039f\"], [0.2222222222222222, \"#7201a8\"], [0.3333333333333333, \"#9c179e\"], [0.4444444444444444, \"#bd3786\"], [0.5555555555555556, \"#d8576b\"], [0.6666666666666666, \"#ed7953\"], [0.7777777777777778, \"#fb9f3a\"], [0.8888888888888888, \"#fdca26\"], [1.0, \"#f0f921\"]], \"type\": \"contour\"}], \"contourcarpet\": [{\"colorbar\": {\"outlinewidth\": 0, \"ticks\": \"\"}, \"type\": \"contourcarpet\"}], \"heatmap\": [{\"colorbar\": {\"outlinewidth\": 0, \"ticks\": \"\"}, \"colorscale\": [[0.0, \"#0d0887\"], [0.1111111111111111, \"#46039f\"], [0.2222222222222222, \"#7201a8\"], [0.3333333333333333, \"#9c179e\"], [0.4444444444444444, \"#bd3786\"], [0.5555555555555556, \"#d8576b\"], [0.6666666666666666, \"#ed7953\"], [0.7777777777777778, \"#fb9f3a\"], [0.8888888888888888, \"#fdca26\"], [1.0, \"#f0f921\"]], \"type\": \"heatmap\"}], \"heatmapgl\": [{\"colorbar\": {\"outlinewidth\": 0, \"ticks\": \"\"}, \"colorscale\": [[0.0, \"#0d0887\"], [0.1111111111111111, \"#46039f\"], [0.2222222222222222, \"#7201a8\"], [0.3333333333333333, \"#9c179e\"], [0.4444444444444444, \"#bd3786\"], [0.5555555555555556, \"#d8576b\"], [0.6666666666666666, \"#ed7953\"], [0.7777777777777778, \"#fb9f3a\"], [0.8888888888888888, \"#fdca26\"], [1.0, \"#f0f921\"]], \"type\": \"heatmapgl\"}], \"histogram\": [{\"marker\": {\"colorbar\": {\"outlinewidth\": 0, \"ticks\": \"\"}}, \"type\": \"histogram\"}], \"histogram2d\": [{\"colorbar\": {\"outlinewidth\": 0, \"ticks\": \"\"}, \"colorscale\": [[0.0, \"#0d0887\"], [0.1111111111111111, \"#46039f\"], [0.2222222222222222, \"#7201a8\"], [0.3333333333333333, \"#9c179e\"], [0.4444444444444444, \"#bd3786\"], [0.5555555555555556, \"#d8576b\"], [0.6666666666666666, \"#ed7953\"], [0.7777777777777778, \"#fb9f3a\"], [0.8888888888888888, \"#fdca26\"], [1.0, \"#f0f921\"]], \"type\": \"histogram2d\"}], \"histogram2dcontour\": [{\"colorbar\": {\"outlinewidth\": 0, \"ticks\": \"\"}, \"colorscale\": [[0.0, \"#0d0887\"], [0.1111111111111111, \"#46039f\"], [0.2222222222222222, \"#7201a8\"], [0.3333333333333333, \"#9c179e\"], [0.4444444444444444, \"#bd3786\"], [0.5555555555555556, \"#d8576b\"], [0.6666666666666666, \"#ed7953\"], [0.7777777777777778, \"#fb9f3a\"], [0.8888888888888888, \"#fdca26\"], [1.0, \"#f0f921\"]], \"type\": \"histogram2dcontour\"}], \"mesh3d\": [{\"colorbar\": {\"outlinewidth\": 0, \"ticks\": \"\"}, \"type\": \"mesh3d\"}], \"parcoords\": [{\"line\": {\"colorbar\": {\"outlinewidth\": 0, \"ticks\": \"\"}}, \"type\": \"parcoords\"}], \"pie\": [{\"automargin\": true, \"type\": \"pie\"}], \"scatter\": [{\"marker\": {\"colorbar\": {\"outlinewidth\": 0, \"ticks\": \"\"}}, \"type\": \"scatter\"}], \"scatter3d\": [{\"line\": {\"colorbar\": {\"outlinewidth\": 0, \"ticks\": \"\"}}, \"marker\": {\"colorbar\": {\"outlinewidth\": 0, \"ticks\": \"\"}}, \"type\": \"scatter3d\"}], \"scattercarpet\": [{\"marker\": {\"colorbar\": {\"outlinewidth\": 0, \"ticks\": \"\"}}, \"type\": \"scattercarpet\"}], \"scattergeo\": [{\"marker\": {\"colorbar\": {\"outlinewidth\": 0, \"ticks\": \"\"}}, \"type\": \"scattergeo\"}], \"scattergl\": [{\"marker\": {\"colorbar\": {\"outlinewidth\": 0, \"ticks\": \"\"}}, \"type\": \"scattergl\"}], \"scattermapbox\": [{\"marker\": {\"colorbar\": {\"outlinewidth\": 0, \"ticks\": \"\"}}, \"type\": \"scattermapbox\"}], \"scatterpolar\": [{\"marker\": {\"colorbar\": {\"outlinewidth\": 0, \"ticks\": \"\"}}, \"type\": \"scatterpolar\"}], \"scatterpolargl\": [{\"marker\": {\"colorbar\": {\"outlinewidth\": 0, \"ticks\": \"\"}}, \"type\": \"scatterpolargl\"}], \"scatterternary\": [{\"marker\": {\"colorbar\": {\"outlinewidth\": 0, \"ticks\": \"\"}}, \"type\": \"scatterternary\"}], \"surface\": [{\"colorbar\": {\"outlinewidth\": 0, \"ticks\": \"\"}, \"colorscale\": [[0.0, \"#0d0887\"], [0.1111111111111111, \"#46039f\"], [0.2222222222222222, \"#7201a8\"], [0.3333333333333333, \"#9c179e\"], [0.4444444444444444, \"#bd3786\"], [0.5555555555555556, \"#d8576b\"], [0.6666666666666666, \"#ed7953\"], [0.7777777777777778, \"#fb9f3a\"], [0.8888888888888888, \"#fdca26\"], [1.0, \"#f0f921\"]], \"type\": \"surface\"}], \"table\": [{\"cells\": {\"fill\": {\"color\": \"#EBF0F8\"}, \"line\": {\"color\": \"white\"}}, \"header\": {\"fill\": {\"color\": \"#C8D4E3\"}, \"line\": {\"color\": \"white\"}}, \"type\": \"table\"}]}, \"layout\": {\"annotationdefaults\": {\"arrowcolor\": \"#2a3f5f\", \"arrowhead\": 0, \"arrowwidth\": 1}, \"coloraxis\": {\"colorbar\": {\"outlinewidth\": 0, \"ticks\": \"\"}}, \"colorscale\": {\"diverging\": [[0, \"#8e0152\"], [0.1, \"#c51b7d\"], [0.2, \"#de77ae\"], [0.3, \"#f1b6da\"], [0.4, \"#fde0ef\"], [0.5, \"#f7f7f7\"], [0.6, \"#e6f5d0\"], [0.7, \"#b8e186\"], [0.8, \"#7fbc41\"], [0.9, \"#4d9221\"], [1, \"#276419\"]], \"sequential\": [[0.0, \"#0d0887\"], [0.1111111111111111, \"#46039f\"], [0.2222222222222222, \"#7201a8\"], [0.3333333333333333, \"#9c179e\"], [0.4444444444444444, \"#bd3786\"], [0.5555555555555556, \"#d8576b\"], [0.6666666666666666, \"#ed7953\"], [0.7777777777777778, \"#fb9f3a\"], [0.8888888888888888, \"#fdca26\"], [1.0, \"#f0f921\"]], \"sequentialminus\": [[0.0, \"#0d0887\"], [0.1111111111111111, \"#46039f\"], [0.2222222222222222, \"#7201a8\"], [0.3333333333333333, \"#9c179e\"], [0.4444444444444444, \"#bd3786\"], [0.5555555555555556, \"#d8576b\"], [0.6666666666666666, \"#ed7953\"], [0.7777777777777778, \"#fb9f3a\"], [0.8888888888888888, \"#fdca26\"], [1.0, \"#f0f921\"]]}, \"colorway\": [\"#636efa\", \"#EF553B\", \"#00cc96\", \"#ab63fa\", \"#FFA15A\", \"#19d3f3\", \"#FF6692\", \"#B6E880\", \"#FF97FF\", \"#FECB52\"], \"font\": {\"color\": \"#2a3f5f\"}, \"geo\": {\"bgcolor\": \"white\", \"lakecolor\": \"white\", \"landcolor\": \"#E5ECF6\", \"showlakes\": true, \"showland\": true, \"subunitcolor\": \"white\"}, \"hoverlabel\": {\"align\": \"left\"}, \"hovermode\": \"closest\", \"mapbox\": {\"style\": \"light\"}, \"paper_bgcolor\": \"white\", \"plot_bgcolor\": \"#E5ECF6\", \"polar\": {\"angularaxis\": {\"gridcolor\": \"white\", \"linecolor\": \"white\", \"ticks\": \"\"}, \"bgcolor\": \"#E5ECF6\", \"radialaxis\": {\"gridcolor\": \"white\", \"linecolor\": \"white\", \"ticks\": \"\"}}, \"scene\": {\"xaxis\": {\"backgroundcolor\": \"#E5ECF6\", \"gridcolor\": \"white\", \"gridwidth\": 2, \"linecolor\": \"white\", \"showbackground\": true, \"ticks\": \"\", \"zerolinecolor\": \"white\"}, \"yaxis\": {\"backgroundcolor\": \"#E5ECF6\", \"gridcolor\": \"white\", \"gridwidth\": 2, \"linecolor\": \"white\", \"showbackground\": true, \"ticks\": \"\", \"zerolinecolor\": \"white\"}, \"zaxis\": {\"backgroundcolor\": \"#E5ECF6\", \"gridcolor\": \"white\", \"gridwidth\": 2, \"linecolor\": \"white\", \"showbackground\": true, \"ticks\": \"\", \"zerolinecolor\": \"white\"}}, \"shapedefaults\": {\"line\": {\"color\": \"#2a3f5f\"}}, \"ternary\": {\"aaxis\": {\"gridcolor\": \"white\", \"linecolor\": \"white\", \"ticks\": \"\"}, \"baxis\": {\"gridcolor\": \"white\", \"linecolor\": \"white\", \"ticks\": \"\"}, \"bgcolor\": \"#E5ECF6\", \"caxis\": {\"gridcolor\": \"white\", \"linecolor\": \"white\", \"ticks\": \"\"}}, \"title\": {\"x\": 0.05}, \"xaxis\": {\"automargin\": true, \"gridcolor\": \"white\", \"linecolor\": \"white\", \"ticks\": \"\", \"title\": {\"standoff\": 15}, \"zerolinecolor\": \"white\", \"zerolinewidth\": 2}, \"yaxis\": {\"automargin\": true, \"gridcolor\": \"white\", \"linecolor\": \"white\", \"ticks\": \"\", \"title\": {\"standoff\": 15}, \"zerolinecolor\": \"white\", \"zerolinewidth\": 2}}}, \"title\": {\"text\": \"Top 20 trigrams in the question text\"}},\n",
       "                        {\"responsive\": true}\n",
       "                    ).then(function(){\n",
       "                            \n",
       "var gd = document.getElementById('2e380367-6282-4eee-a223-b56625d84e05');\n",
       "var x = new MutationObserver(function (mutations, observer) {{\n",
       "        var display = window.getComputedStyle(gd).display;\n",
       "        if (!display || display === 'none') {{\n",
       "            console.log([gd, 'removed!']);\n",
       "            Plotly.purge(gd);\n",
       "            observer.disconnect();\n",
       "        }}\n",
       "}});\n",
       "\n",
       "// Listen for the removal of the full notebook cells\n",
       "var notebookContainer = gd.closest('#notebook-container');\n",
       "if (notebookContainer) {{\n",
       "    x.observe(notebookContainer, {childList: true});\n",
       "}}\n",
       "\n",
       "// Listen for the clearing of the current output cell\n",
       "var outputEl = gd.closest('.output');\n",
       "if (outputEl) {{\n",
       "    x.observe(outputEl, {childList: true});\n",
       "}}\n",
       "\n",
       "                        })\n",
       "                };\n",
       "                });\n",
       "            </script>\n",
       "        </div>"
      ]
     },
     "metadata": {},
     "output_type": "display_data"
    }
   ],
   "source": [
    "def get_top_n_trigram(corpus, n=None):\n",
    "    vec = CountVectorizer(ngram_range=(3, 3), stop_words='english').fit(corpus)\n",
    "    bag_of_words = vec.transform(corpus)\n",
    "    sum_words = bag_of_words.sum(axis=0) \n",
    "    words_freq = [(word, sum_words[0, idx]) for word, idx in vec.vocabulary_.items()]\n",
    "    words_freq =sorted(words_freq, key = lambda x: x[1], reverse=True)\n",
    "    return words_freq[:n]\n",
    "common_words = get_top_n_trigram(df_clean['prev_title_1'], 20)\n",
    "df4 = pd.DataFrame(common_words, columns = ['trigram' , 'count'])\n",
    "\n",
    "fig = go.Figure([go.Bar(x=df4['trigram'], y=df4['count'])])\n",
    "fig.update_layout(title=go.layout.Title(text=\"Top 20 trigrams in the question text\"))\n",
    "fig.show()"
   ]
  },
  {
   "cell_type": "markdown",
   "metadata": {},
   "source": [
    "## Description"
   ]
  },
  {
   "cell_type": "code",
   "execution_count": 41,
   "metadata": {},
   "outputs": [
    {
     "data": {
      "text/html": [
       "<div>\n",
       "<style scoped>\n",
       "    .dataframe tbody tr th:only-of-type {\n",
       "        vertical-align: middle;\n",
       "    }\n",
       "\n",
       "    .dataframe tbody tr th {\n",
       "        vertical-align: top;\n",
       "    }\n",
       "\n",
       "    .dataframe thead th {\n",
       "        text-align: right;\n",
       "    }\n",
       "</style>\n",
       "<table border=\"1\" class=\"dataframe\">\n",
       "  <thead>\n",
       "    <tr style=\"text-align: right;\">\n",
       "      <th></th>\n",
       "      <th>prev_title_1</th>\n",
       "      <th>prev_title_1_lemmatize</th>\n",
       "      <th>prev_title_1_clean</th>\n",
       "    </tr>\n",
       "  </thead>\n",
       "  <tbody>\n",
       "    <tr>\n",
       "      <th>0</th>\n",
       "      <td>customer engagement director</td>\n",
       "      <td>customer engagement director</td>\n",
       "      <td>customer engagement director</td>\n",
       "    </tr>\n",
       "    <tr>\n",
       "      <th>1</th>\n",
       "      <td>ibm  senior project manager</td>\n",
       "      <td>ibm   senior project manager</td>\n",
       "      <td>ibm   senior project manager</td>\n",
       "    </tr>\n",
       "    <tr>\n",
       "      <th>2</th>\n",
       "      <td>tivoli software sales manager  west region</td>\n",
       "      <td>tivoli software sale manager   west region</td>\n",
       "      <td>tivoli software sale manager   west region</td>\n",
       "    </tr>\n",
       "    <tr>\n",
       "      <th>3</th>\n",
       "      <td>manager watson expert cognitive architects</td>\n",
       "      <td>manager watson expert cognitive architect</td>\n",
       "      <td>manager watson expert cognitive architect</td>\n",
       "    </tr>\n",
       "    <tr>\n",
       "      <th>4</th>\n",
       "      <td>founder managing director</td>\n",
       "      <td>founder manage director</td>\n",
       "      <td>founder manage director</td>\n",
       "    </tr>\n",
       "    <tr>\n",
       "      <th>...</th>\n",
       "      <td>...</td>\n",
       "      <td>...</td>\n",
       "      <td>...</td>\n",
       "    </tr>\n",
       "    <tr>\n",
       "      <th>343</th>\n",
       "      <td>global head customer success</td>\n",
       "      <td>global head customer success</td>\n",
       "      <td>global head customer success</td>\n",
       "    </tr>\n",
       "    <tr>\n",
       "      <th>344</th>\n",
       "      <td>customer success manager  global</td>\n",
       "      <td>customer success manager   global</td>\n",
       "      <td>customer success manager   global</td>\n",
       "    </tr>\n",
       "    <tr>\n",
       "      <th>345</th>\n",
       "      <td>head of partner success south india ubereats</td>\n",
       "      <td>head of partner success south india ubereats</td>\n",
       "      <td>head of partner success south india ubereats</td>\n",
       "    </tr>\n",
       "    <tr>\n",
       "      <th>346</th>\n",
       "      <td>specialist public and social sector practice</td>\n",
       "      <td>specialist public and social sector practice</td>\n",
       "      <td>specialist public and social sector practice</td>\n",
       "    </tr>\n",
       "    <tr>\n",
       "      <th>347</th>\n",
       "      <td>senior customer success manager</td>\n",
       "      <td>senior customer success manager</td>\n",
       "      <td>senior customer success manager</td>\n",
       "    </tr>\n",
       "  </tbody>\n",
       "</table>\n",
       "<p>346 rows × 3 columns</p>\n",
       "</div>"
      ],
      "text/plain": [
       "                                     prev_title_1  \\\n",
       "0                    customer engagement director   \n",
       "1                     ibm  senior project manager   \n",
       "2      tivoli software sales manager  west region   \n",
       "3      manager watson expert cognitive architects   \n",
       "4                       founder managing director   \n",
       "..                                            ...   \n",
       "343                  global head customer success   \n",
       "344              customer success manager  global   \n",
       "345  head of partner success south india ubereats   \n",
       "346  specialist public and social sector practice   \n",
       "347               senior customer success manager   \n",
       "\n",
       "                           prev_title_1_lemmatize  \\\n",
       "0                    customer engagement director   \n",
       "1                    ibm   senior project manager   \n",
       "2      tivoli software sale manager   west region   \n",
       "3       manager watson expert cognitive architect   \n",
       "4                         founder manage director   \n",
       "..                                            ...   \n",
       "343                  global head customer success   \n",
       "344             customer success manager   global   \n",
       "345  head of partner success south india ubereats   \n",
       "346  specialist public and social sector practice   \n",
       "347               senior customer success manager   \n",
       "\n",
       "                               prev_title_1_clean  \n",
       "0                    customer engagement director  \n",
       "1                    ibm   senior project manager  \n",
       "2      tivoli software sale manager   west region  \n",
       "3       manager watson expert cognitive architect  \n",
       "4                         founder manage director  \n",
       "..                                            ...  \n",
       "343                  global head customer success  \n",
       "344             customer success manager   global  \n",
       "345  head of partner success south india ubereats  \n",
       "346  specialist public and social sector practice  \n",
       "347               senior customer success manager  \n",
       "\n",
       "[346 rows x 3 columns]"
      ]
     },
     "execution_count": 41,
     "metadata": {},
     "output_type": "execute_result"
    }
   ],
   "source": [
    "df_clean['']"
   ]
  },
  {
   "cell_type": "code",
   "execution_count": 50,
   "metadata": {},
   "outputs": [
    {
     "data": {
      "text/html": [
       "\n",
       "<link rel=\"stylesheet\" type=\"text/css\" href=\"https://cdn.rawgit.com/bmabey/pyLDAvis/files/ldavis.v1.0.0.css\">\n",
       "\n",
       "\n",
       "<div id=\"ldavis_el200871404258231898407969240305\"></div>\n",
       "<script type=\"text/javascript\">\n",
       "\n",
       "var ldavis_el200871404258231898407969240305_data = {\"mdsDat\": {\"x\": [32.42095184326172, 0.648955225944519, 71.01968383789062, 3.7859814167022705, -42.666500091552734, -3.6216893196105957, -3.632401704788208, -36.58440017700195, 44.391380310058594, 40.235809326171875], \"y\": [8.115229606628418, 71.70709991455078, 9.971006393432617, 33.18513488769531, -9.22206974029541, -43.52651596069336, -4.171707630157471, 35.804412841796875, 50.61538314819336, -31.591665267944336], \"topics\": [1, 2, 3, 4, 5, 6, 7, 8, 9, 10], \"cluster\": [1, 1, 1, 1, 1, 1, 1, 1, 1, 1], \"Freq\": [25.87315799091617, 14.2902313750874, 11.102166640513156, 10.486612279687217, 10.230240833945386, 7.0439778284778, 6.684666606386138, 5.186277484877184, 5.020923978507313, 4.081744981602233]}, \"tinfo\": {\"Term\": [\"customer\", \"success\", \"manager\", \"consultant\", \"specialist\", \"support\", \"account\", \"executive\", \"business\", \"sales\", \"head\", \"analyst\", \"senior\", \"services\", \"development\", \"leader\", \"management\", \"architect\", \"director\", \"associate\", \"service\", \"technology\", \"intern\", \"representative\", \"solution\", \"partner\", \"analytics\", \"cloud\", \"team\", \"data\", \"success\", \"customer\", \"director\", \"assistant\", \"advocate\", \"engagement\", \"google\", \"programs\", \"global\", \"experience\", \"project\", \"head\", \"coordinator\", \"manager\", \"enterprise\", \"operations\", \"unit\", \"representative\", \"digital\", \"care\", \"marketing\", \"cloud\", \"solutions\", \"lead\", \"client\", \"support\", \"specialist\", \"member\", \"windows\", \"intelligence\", \"executive\", \"senior\", \"partner\", \"program\", \"principal\", \"founder\", \"server\", \"windows\", \"product\", \"manager\", \"senior\", \"strategist\", \"account\", \"enterprise\", \"marketing\", \"solutions\", \"client\", \"project\", \"regional\", \"ibm\", \"partner\", \"engagement\", \"lead\", \"global\", \"platform\", \"owner\", \"president\", \"data\", \"cloud\", \"technology\", \"information\", \"expert\", \"experience\", \"leader\", \"business\", \"vice\", \"consultant\", \"architect\", \"chief\", \"sales\", \"insights\", \"solution\", \"operations\", \"officer\", \"representative\", \"strategy\", \"unit\", \"technology\", \"data\", \"associate\", \"summer\", \"programs\", \"cloud\", \"senior\", \"global\", \"professional\", \"client\", \"director\", \"analytics\", \"services\", \"engineer\", \"strategist\", \"project\", \"server\", \"windows\", \"information\", \"splunk\", \"executive\", \"technical\", \"intern\", \"principal\", \"success\", \"manager\", \"customer\", \"development\", \"business\", \"president\", \"vice\", \"sector\", \"north\", \"public\", \"digital\", \"america\", \"partner\", \"strategy\", \"practice\", \"google\", \"strategist\", \"ibm\", \"enterprise\", \"delivery\", \"technical\", \"marketing\", \"unit\", \"solutions\", \"cloud\", \"national\", \"service\", \"sales\", \"global\", \"leader\", \"services\", \"senior\", \"manager\", \"analyst\", \"support\", \"security\", \"engineer\", \"store\", \"expert\", \"professional\", \"information\", \"services\", \"technical\", \"intelligence\", \"premier\", \"lead\", \"regional\", \"solutions\", \"experience\", \"officer\", \"solution\", \"marketing\", \"principal\", \"partner\", \"cloud\", \"intern\", \"senior\", \"business\", \"project\", \"server\", \"sales\", \"microsoft\", \"ibm\", \"manager\", \"google\", \"consultant\", \"consultant\", \"owner\", \"management\", \"microsoft\", \"technology\", \"coordinator\", \"summer\", \"talent\", \"product\", \"acquisition\", \"splunk\", \"senior\", \"lead\", \"change\", \"assistant\", \"analyst\", \"project\", \"server\", \"public\", \"windows\", \"strategist\", \"intelligence\", \"expert\", \"information\", \"programs\", \"experience\", \"premier\", \"officer\", \"ibm\", \"store\", \"chief\", \"sector\", \"architect\", \"founder\", \"care\", \"services\", \"associate\", \"security\", \"engineer\", \"client\", \"success\", \"support\", \"manager\", \"customer\", \"specialist\", \"member\", \"national\", \"service\", \"team\", \"practice\", \"premier\", \"care\", \"microsoft\", \"acquisition\", \"account\", \"platform\", \"talent\", \"advocate\", \"technical\", \"management\", \"client\", \"customer\", \"services\", \"public\", \"project\", \"experience\", \"server\", \"strategist\", \"windows\", \"information\", \"owner\", \"expert\", \"programs\", \"intelligence\", \"sector\", \"manager\", \"sales\", \"digital\", \"professional\", \"support\", \"unit\", \"operations\", \"solution\", \"cloud\", \"architect\", \"executive\", \"delivery\", \"splunk\", \"associate\", \"america\", \"intelligence\", \"account\", \"service\", \"practice\", \"client\", \"data\", \"representative\", \"project\", \"server\", \"windows\", \"information\", \"premier\", \"strategist\", \"expert\", \"experience\", \"owner\", \"programs\", \"ibm\", \"store\", \"member\", \"public\", \"care\", \"intern\", \"summer\", \"acquisition\", \"manager\", \"sector\", \"coordinator\", \"solutions\", \"director\", \"engagement\", \"vice\", \"customer\", \"services\", \"sales\", \"professional\", \"senior\", \"team\", \"analytics\", \"platform\", \"head\", \"data\", \"ibm\", \"care\", \"cloud\", \"change\", \"services\", \"management\", \"client\", \"partner\", \"project\", \"windows\", \"strategist\", \"server\", \"information\", \"expert\", \"programs\", \"premier\", \"intelligence\", \"owner\", \"experience\", \"public\", \"member\", \"store\", \"summer\", \"north\", \"acquisition\", \"insights\", \"sector\", \"manager\", \"lead\", \"regional\", \"america\", \"google\", \"talent\", \"representative\", \"solutions\", \"product\", \"sales\", \"account\", \"service\", \"leader\", \"intern\", \"team\", \"change\", \"acquisition\", \"talent\", \"regional\", \"enterprise\", \"marketing\", \"global\", \"support\", \"windows\", \"project\", \"information\", \"server\", \"strategist\", \"expert\", \"ibm\", \"experience\", \"programs\", \"owner\", \"public\", \"intelligence\", \"premier\", \"summer\", \"member\", \"store\", \"care\", \"lead\", \"north\", \"splunk\", \"analytics\", \"founder\", \"account\", \"strategy\", \"digital\", \"officer\", \"manager\", \"associate\", \"operations\", \"services\", \"product\", \"head\", \"cloud\", \"customer\", \"specialist\"], \"Freq\": [68.0, 59.0, 92.0, 18.0, 12.0, 17.0, 18.0, 9.0, 15.0, 18.0, 11.0, 13.0, 31.0, 17.0, 11.0, 7.0, 12.0, 12.0, 28.0, 8.0, 10.0, 10.0, 5.0, 12.0, 10.0, 12.0, 5.0, 12.0, 5.0, 7.0, 58.11941723659997, 62.18867570207532, 24.09267769179625, 4.463213255284728, 4.150421843331187, 3.785387760102827, 3.021794223219652, 1.8084768385995351, 5.206755634678937, 1.7466202126014354, 1.395426552672333, 4.588663871041063, 2.4721821356590907, 30.456158337328326, 2.67614784547533, 1.9258518193802374, 1.0369052173344437, 2.498413715565453, 0.9050084941407059, 0.77067151144532, 1.804073775980355, 2.2855468523303526, 0.9765722050299291, 0.7713890548987928, 1.2874613435052062, 0.995354644885298, 0.6221769220493962, 0.18451493976988637, 0.11904867754750806, 0.11470505886180672, 0.2942094714249281, 0.7789239801463436, 0.3163816146514013, 6.866561280516541, 7.486098806277861, 4.0745863828822415, 2.2457614921220674, 2.28575023170768, 5.018980684566869, 49.1696120954302, 15.196650860840776, 1.6139546441952626, 8.360670109009213, 2.995661777518101, 2.715836627531998, 1.945311278021047, 2.5093493437379224, 0.7932590451160199, 1.2578865646834603, 0.7979504746588199, 2.5890011551842464, 0.8618458107466566, 0.8565752490687293, 0.8049656231364085, 0.29404646477126795, 0.16862866661840484, 0.23025767630048868, 0.2905373690705148, 0.48895620495483816, 0.36518721441706653, 0.10605136395554944, 0.10715319765774067, 0.10987143070751666, 0.1629837009263249, 0.23287884089187622, 0.12323584453770796, 0.22235856095222253, 10.711944993924591, 4.772190118628049, 13.958758870600407, 3.4616903833280066, 8.052779962033476, 5.699257191745103, 3.1872123932787466, 7.238839445583234, 3.0184417046662775, 2.006703865416906, 4.397374891789076, 2.780043167671359, 3.0542068987366124, 1.3981881500617526, 0.8959764577321958, 2.7639380448797257, 5.287096346010499, 1.6458699218940773, 0.9787646067291219, 1.411540603651481, 3.71043064678001, 0.37343174794950523, 0.9243414860212409, 0.32484085944799895, 0.12799275066369006, 0.11973773752328189, 0.11905390557095447, 0.12021584319470847, 0.11965434901362203, 0.15897453714838797, 0.3080530034734586, 0.22090787780855928, 0.13673350861390657, 0.1548193280537148, 0.19695484640874397, 0.20032385442488226, 0.17630236937585636, 10.57323630031526, 13.223090745232254, 4.155913234680298, 3.4837852676664, 3.44614031731576, 3.2262049928343326, 2.710868596277308, 2.5887862356503173, 3.2227054114809026, 6.224064840481377, 2.7162064827891834, 1.4060623084070978, 1.4771816071361537, 0.8349402012883788, 0.8357656458486284, 2.0510093672199727, 1.0940026013119655, 2.0480234345555375, 2.0309829317096626, 0.917636781981535, 1.3056306043361268, 2.218552659546042, 0.8330970189700078, 1.5568739094201758, 2.4930098776543543, 1.3072394179131703, 0.8525970242942761, 1.2069097799990087, 1.9805982917503702, 5.491530996297059, 11.422600697129312, 13.93503289866414, 4.666390509692083, 5.122509030272385, 2.8350589601795626, 2.483307329637523, 4.406340561982225, 2.351146908896365, 10.10751066711786, 5.422967206044106, 1.6754050902743243, 1.6020287821711938, 2.3633120592540604, 2.1543406979218274, 2.285438876885328, 0.9229782173871071, 0.9097768358659561, 1.6727231273208845, 1.3539090267974094, 0.863717526606499, 0.966452584174822, 0.927986722722317, 0.39072464480167746, 1.8536385120261636, 0.8820278567348053, 0.12872259680146628, 0.1314136293076871, 0.7025026965466915, 0.17318049229752694, 0.13169570505819939, 0.8002096556740048, 0.14909136823755048, 0.1909488297534472, 17.279059240658864, 2.475394554632843, 7.2518015043127795, 2.3802046821521836, 5.148777968691513, 2.6902087920617475, 1.6878498481109798, 1.7210490449296088, 2.2198795653766035, 0.9758058860286466, 0.9095775733730515, 5.280240219999301, 0.9967855170319609, 0.9150412007440842, 0.9780439007669444, 1.4481756674483601, 0.12340747480623898, 0.12310402164820328, 0.13539088922612846, 0.11846499935054437, 0.11841381587832894, 0.12503991772441939, 0.1223898273612722, 0.11575540435474971, 0.12373332850100786, 0.12209588536619854, 0.11712131190670784, 0.16186810138658914, 0.11930660961987154, 0.12275491832691578, 0.179115464510137, 0.14043960471245265, 0.2816350291674245, 0.1471947279157457, 0.12588747772148673, 0.19794157848086702, 0.1564963677713425, 0.1377021459480993, 0.1407539993689234, 0.1388840024300045, 0.15555290491457968, 0.13993883814963728, 0.15383109850511795, 0.13821260611046216, 10.655715820614903, 2.755063129456867, 3.380416821982617, 5.136329849777241, 1.9426399785389092, 1.754352918919015, 1.0066453469587817, 1.0768763063649873, 1.1905905596419648, 1.0733942693327432, 4.439943086557502, 1.0082452940419717, 1.0756154478788806, 1.0104079484109918, 1.4045708281395362, 1.5640758497718388, 1.0065642417883738, 5.549267397966482, 1.070832497829872, 0.17419867917684084, 0.13958463324927695, 0.15142424431211418, 0.13461491964486783, 0.13490914642211818, 0.1324544446794806, 0.131393094173841, 0.133200226174833, 0.13116444214431283, 0.13157772317873362, 0.1291762126443545, 0.16052449716155517, 2.517597039987929, 0.4488861522186852, 0.1557343377119866, 0.17590398767120058, 0.2596171775490645, 0.15013205572007185, 0.1556618824308901, 0.15998046291150186, 0.15926155759159694, 0.15560733512064742, 8.429899139846627, 3.1744768544723185, 2.7052410254293977, 4.72100551429597, 1.5900563178313165, 0.9969160609456056, 4.971171954016514, 2.598858263012325, 0.998529978633218, 1.6345971571150406, 1.0148197520533997, 1.6104459641538629, 0.13299678622222702, 0.13538350076205177, 0.1348947097626027, 0.1338485126025353, 0.1383760754582315, 0.13259942870038882, 0.13642238046213256, 0.13730154301396064, 0.13197456420544038, 0.1333406266929598, 0.13403456925667126, 0.13797384726144687, 0.13512048238704313, 0.13250558100288137, 0.13773704640100068, 0.1811902271129983, 0.13415643076685765, 0.13353312794494845, 2.113610641691773, 0.13901725256093433, 0.14945936706149332, 0.1534156753265356, 0.1741567373626993, 0.14072822242266758, 0.13732183543896584, 0.18578007526435794, 0.1535579364979421, 0.15291995798108937, 0.1385363052251255, 0.1439567485351634, 0.13715251660207436, 4.046003048493638, 2.2400236686996884, 5.501353166909904, 2.59722445741249, 1.3152831739620239, 1.3983003300006498, 3.3086574702305325, 1.3127137843288568, 3.280328689225619, 2.1403787770541753, 1.7337723984655693, 1.9766075435630743, 0.18199593262492977, 0.18499096451069544, 0.1783936209531104, 0.17276284340859932, 0.17485548525092798, 0.17245548945650419, 0.1780881878069872, 0.17077095629032965, 0.17389198247792814, 0.1690141033035705, 0.16963551949557945, 0.1776160000150044, 0.17643148875668024, 0.17061598655992877, 0.1744931983426764, 0.18162676124861998, 0.17430356599873312, 0.17553926019893443, 0.17720463455575686, 1.4392569886336446, 0.18614075961493098, 0.18108443572090324, 0.17922331249201304, 0.17736316639757696, 0.1760029360729783, 0.1819456917776977, 0.17817709535374757, 0.17814431717112414, 0.1786183739146747, 0.17765803961751345, 0.1768259911772991, 5.754079808450803, 4.1310580977133595, 2.4374510605785504, 2.4185766167553076, 1.3415262250452413, 1.3473949839135404, 1.3387467760383887, 1.354742008954559, 1.2616371632259722, 1.2588253366829913, 1.258297951620366, 0.17389165320223163, 0.16233226249773924, 0.17019063200405649, 0.16544149909914824, 0.16274504546899443, 0.16752298060240034, 0.17577805405786273, 0.17113837471716342, 0.16910370535287597, 0.16505300253706545, 0.17520466507542481, 0.1649318931190206, 0.16110076179003388, 0.17665726417887795, 0.167973981944413, 0.16677137939719613, 0.17091553754478195, 0.22540278746417589, 0.16690855940628013, 0.1686498084843318, 0.17238950947760867, 0.17062811901055536, 0.18546505077689346, 0.17224337389639202, 0.16737525491515698, 0.1684833522361805, 0.1911842025741599, 0.17279009070158, 0.17147088073450992, 0.174638603604237, 0.17089618161575995, 0.1710397990824317, 0.1711952377277727, 0.17390108418647823, 0.1710214813270242], \"Total\": [68.0, 59.0, 92.0, 18.0, 12.0, 17.0, 18.0, 9.0, 15.0, 18.0, 11.0, 13.0, 31.0, 17.0, 11.0, 7.0, 12.0, 12.0, 28.0, 8.0, 10.0, 10.0, 5.0, 12.0, 10.0, 12.0, 5.0, 12.0, 5.0, 7.0, 59.50897219749439, 68.99357554149569, 28.90243794964401, 6.49687605318854, 6.219621082339753, 5.716318685453253, 5.607383017779615, 3.77195876886023, 10.90155893253322, 3.761551209895524, 3.2901215352660618, 11.101498327447473, 6.231047772776888, 92.53331491054712, 9.912761477653147, 8.713531529489202, 4.933959840743433, 12.32326711938879, 4.579205831118656, 4.144006069440492, 9.842398048710299, 12.58264507065375, 7.374954809213359, 5.904833796345786, 10.128815264620126, 17.260289624647946, 12.333719416246845, 3.9912357940989773, 3.499784473326921, 3.71883377879003, 9.98514619766542, 31.01774462724318, 12.744290343573216, 8.08211695987588, 9.44982185086106, 5.291930380106943, 3.43514421132788, 3.499784473326921, 8.300917268190783, 92.53331491054712, 31.01774462724318, 3.512264343612843, 18.703135406452617, 9.912761477653147, 9.842398048710299, 7.374954809213359, 10.128815264620126, 3.2901215352660618, 5.63900096824954, 3.8572900379757353, 12.744290343573216, 5.716318685453253, 5.904833796345786, 10.90155893253322, 4.401554948856634, 3.6991251129139577, 5.480053229677614, 7.414234770362953, 12.58264507065375, 10.973000363998777, 3.5208233501371002, 3.649093746152391, 3.761551209895524, 7.662503368643289, 15.350863831893918, 4.6974034337128, 18.757237440810723, 12.141846870969669, 5.9863099250184, 18.459950637845125, 4.6156509446469896, 10.966349288256763, 8.713531529489202, 5.198121961028223, 12.32326711938879, 6.824910796429771, 4.933959840743433, 10.973000363998777, 7.414234770362953, 8.850692827758103, 4.157950951875277, 3.77195876886023, 12.58264507065375, 31.01774462724318, 10.90155893253322, 6.484416947650488, 10.128815264620126, 28.90243794964401, 5.413863631910177, 17.349102946513238, 6.537208022705425, 3.512264343612843, 3.2901215352660618, 3.43514421132788, 3.499784473326921, 3.5208233501371002, 4.693306139391066, 9.98514619766542, 9.918509799376956, 5.580534231089205, 9.44982185086106, 59.50897219749439, 92.53331491054712, 68.99357554149569, 11.783637499299314, 15.350863831893918, 5.480053229677614, 4.6974034337128, 4.669855096436879, 4.405976981693285, 3.941278952478746, 4.579205831118656, 5.852992816878217, 12.744290343573216, 6.824910796429771, 5.0696023884209165, 5.607383017779615, 3.512264343612843, 3.8572900379757353, 9.912761477653147, 5.291845446329928, 9.918509799376956, 9.842398048710299, 4.933959840743433, 7.374954809213359, 12.58264507065375, 5.2512797560130124, 10.258952792402166, 18.459950637845125, 10.90155893253322, 7.662503368643289, 17.349102946513238, 31.01774462724318, 92.53331491054712, 13.925725742543685, 17.260289624647946, 5.892887391980813, 6.537208022705425, 4.019123596954903, 3.649093746152391, 6.484416947650488, 3.5208233501371002, 17.349102946513238, 9.918509799376956, 3.71883377879003, 3.648808975876247, 5.904833796345786, 5.63900096824954, 7.374954809213359, 3.761551209895524, 5.198121961028223, 10.966349288256763, 9.842398048710299, 9.44982185086106, 12.744290343573216, 12.58264507065375, 5.580534231089205, 31.01774462724318, 15.350863831893918, 3.2901215352660618, 3.43514421132788, 18.459950637845125, 4.663407229362402, 3.8572900379757353, 92.53331491054712, 5.607383017779615, 18.757237440810723, 18.757237440810723, 3.6991251129139577, 12.110899012727087, 4.663407229362402, 10.973000363998777, 6.231047772776888, 4.157950951875277, 5.051339738574255, 8.300917268190783, 4.247123560770987, 4.693306139391066, 31.01774462724318, 5.904833796345786, 5.470154924017555, 6.49687605318854, 13.925725742543685, 3.2901215352660618, 3.43514421132788, 3.941278952478746, 3.499784473326921, 3.512264343612843, 3.71883377879003, 3.649093746152391, 3.5208233501371002, 3.77195876886023, 3.761551209895524, 3.648808975876247, 5.198121961028223, 3.8572900379757353, 4.019123596954903, 5.9863099250184, 4.669855096436879, 12.141846870969669, 5.291930380106943, 4.144006069440492, 17.349102946513238, 8.850692827758103, 5.892887391980813, 6.537208022705425, 10.128815264620126, 59.50897219749439, 17.260289624647946, 92.53331491054712, 68.99357554149569, 12.333719416246845, 3.9912357940989773, 5.2512797560130124, 10.258952792402166, 5.361208053269831, 5.0696023884209165, 3.648808975876247, 4.144006069440492, 4.663407229362402, 4.247123560770987, 18.703135406452617, 4.401554948856634, 5.051339738574255, 6.219621082339753, 9.918509799376956, 12.110899012727087, 10.128815264620126, 68.99357554149569, 17.349102946513238, 3.941278952478746, 3.2901215352660618, 3.761551209895524, 3.43514421132788, 3.512264343612843, 3.499784473326921, 3.5208233501371002, 3.6991251129139577, 3.649093746152391, 3.77195876886023, 3.71883377879003, 4.669855096436879, 92.53331491054712, 18.459950637845125, 4.579205831118656, 6.484416947650488, 17.260289624647946, 4.933959840743433, 8.713531529489202, 10.966349288256763, 12.58264507065375, 12.141846870969669, 9.98514619766542, 5.291845446329928, 4.693306139391066, 8.850692827758103, 5.852992816878217, 3.71883377879003, 18.703135406452617, 10.258952792402166, 5.0696023884209165, 10.128815264620126, 7.414234770362953, 12.32326711938879, 3.2901215352660618, 3.43514421132788, 3.499784473326921, 3.5208233501371002, 3.648808975876247, 3.512264343612843, 3.649093746152391, 3.761551209895524, 3.6991251129139577, 3.77195876886023, 3.8572900379757353, 4.019123596954903, 3.9912357940989773, 3.941278952478746, 4.144006069440492, 5.580534231089205, 4.157950951875277, 4.247123560770987, 92.53331491054712, 4.669855096436879, 6.231047772776888, 7.374954809213359, 28.90243794964401, 5.716318685453253, 4.6974034337128, 68.99357554149569, 17.349102946513238, 18.459950637845125, 6.484416947650488, 31.01774462724318, 5.361208053269831, 5.413863631910177, 4.401554948856634, 11.101498327447473, 7.414234770362953, 3.8572900379757353, 4.144006069440492, 12.58264507065375, 5.470154924017555, 17.349102946513238, 12.110899012727087, 10.128815264620126, 12.744290343573216, 3.2901215352660618, 3.499784473326921, 3.512264343612843, 3.43514421132788, 3.5208233501371002, 3.649093746152391, 3.77195876886023, 3.648808975876247, 3.71883377879003, 3.6991251129139577, 3.761551209895524, 3.941278952478746, 3.9912357940989773, 4.019123596954903, 4.157950951875277, 4.405976981693285, 4.247123560770987, 4.6156509446469896, 4.669855096436879, 92.53331491054712, 5.904833796345786, 5.63900096824954, 5.852992816878217, 5.607383017779615, 5.051339738574255, 12.32326711938879, 7.374954809213359, 8.300917268190783, 18.459950637845125, 18.703135406452617, 10.258952792402166, 7.662503368643289, 5.580534231089205, 5.361208053269831, 5.470154924017555, 4.247123560770987, 5.051339738574255, 5.63900096824954, 9.912761477653147, 9.842398048710299, 10.90155893253322, 17.260289624647946, 3.499784473326921, 3.2901215352660618, 3.5208233501371002, 3.43514421132788, 3.512264343612843, 3.649093746152391, 3.8572900379757353, 3.761551209895524, 3.77195876886023, 3.6991251129139577, 3.941278952478746, 3.71883377879003, 3.648808975876247, 4.157950951875277, 3.9912357940989773, 4.019123596954903, 4.144006069440492, 5.904833796345786, 4.405976981693285, 4.693306139391066, 5.413863631910177, 5.291930380106943, 18.703135406452617, 6.824910796429771, 4.579205831118656, 5.198121961028223, 92.53331491054712, 8.850692827758103, 8.713531529489202, 17.349102946513238, 8.300917268190783, 11.101498327447473, 12.58264507065375, 68.99357554149569, 12.333719416246845], \"Category\": [\"Default\", \"Default\", \"Default\", \"Default\", \"Default\", \"Default\", \"Default\", \"Default\", \"Default\", \"Default\", \"Default\", \"Default\", \"Default\", \"Default\", \"Default\", \"Default\", \"Default\", \"Default\", \"Default\", \"Default\", \"Default\", \"Default\", \"Default\", \"Default\", \"Default\", \"Default\", \"Default\", \"Default\", \"Default\", \"Default\", \"Topic1\", \"Topic1\", \"Topic1\", \"Topic1\", \"Topic1\", \"Topic1\", \"Topic1\", \"Topic1\", \"Topic1\", \"Topic1\", \"Topic1\", \"Topic1\", \"Topic1\", \"Topic1\", \"Topic1\", \"Topic1\", \"Topic1\", \"Topic1\", \"Topic1\", \"Topic1\", \"Topic1\", \"Topic1\", \"Topic1\", \"Topic1\", \"Topic1\", \"Topic1\", \"Topic1\", \"Topic1\", \"Topic1\", \"Topic1\", \"Topic1\", \"Topic1\", \"Topic1\", \"Topic2\", \"Topic2\", \"Topic2\", \"Topic2\", \"Topic2\", \"Topic2\", \"Topic2\", \"Topic2\", \"Topic2\", \"Topic2\", \"Topic2\", \"Topic2\", \"Topic2\", \"Topic2\", \"Topic2\", \"Topic2\", \"Topic2\", \"Topic2\", \"Topic2\", \"Topic2\", \"Topic2\", \"Topic2\", \"Topic2\", \"Topic2\", \"Topic2\", \"Topic2\", \"Topic2\", \"Topic2\", \"Topic2\", \"Topic2\", \"Topic2\", \"Topic2\", \"Topic2\", \"Topic2\", \"Topic3\", \"Topic3\", \"Topic3\", \"Topic3\", \"Topic3\", \"Topic3\", \"Topic3\", \"Topic3\", \"Topic3\", \"Topic3\", \"Topic3\", \"Topic3\", \"Topic3\", \"Topic3\", \"Topic3\", \"Topic3\", \"Topic3\", \"Topic3\", \"Topic3\", \"Topic3\", \"Topic3\", \"Topic3\", \"Topic3\", \"Topic3\", \"Topic3\", \"Topic3\", \"Topic3\", \"Topic3\", \"Topic3\", \"Topic3\", \"Topic3\", \"Topic3\", \"Topic3\", \"Topic3\", \"Topic3\", \"Topic3\", \"Topic3\", \"Topic4\", \"Topic4\", \"Topic4\", \"Topic4\", \"Topic4\", \"Topic4\", \"Topic4\", \"Topic4\", \"Topic4\", \"Topic4\", \"Topic4\", \"Topic4\", \"Topic4\", \"Topic4\", \"Topic4\", \"Topic4\", \"Topic4\", \"Topic4\", \"Topic4\", \"Topic4\", \"Topic4\", \"Topic4\", \"Topic4\", \"Topic4\", \"Topic4\", \"Topic4\", \"Topic4\", \"Topic4\", \"Topic4\", \"Topic4\", \"Topic5\", \"Topic5\", \"Topic5\", \"Topic5\", \"Topic5\", \"Topic5\", \"Topic5\", \"Topic5\", \"Topic5\", \"Topic5\", \"Topic5\", \"Topic5\", \"Topic5\", \"Topic5\", \"Topic5\", \"Topic5\", \"Topic5\", \"Topic5\", \"Topic5\", \"Topic5\", \"Topic5\", \"Topic5\", \"Topic5\", \"Topic5\", \"Topic5\", \"Topic5\", \"Topic5\", \"Topic5\", \"Topic5\", \"Topic5\", \"Topic5\", \"Topic5\", \"Topic5\", \"Topic6\", \"Topic6\", \"Topic6\", \"Topic6\", \"Topic6\", \"Topic6\", \"Topic6\", \"Topic6\", \"Topic6\", \"Topic6\", \"Topic6\", \"Topic6\", \"Topic6\", \"Topic6\", \"Topic6\", \"Topic6\", \"Topic6\", \"Topic6\", \"Topic6\", \"Topic6\", \"Topic6\", \"Topic6\", \"Topic6\", \"Topic6\", \"Topic6\", \"Topic6\", \"Topic6\", \"Topic6\", \"Topic6\", \"Topic6\", \"Topic6\", \"Topic6\", \"Topic6\", \"Topic6\", \"Topic6\", \"Topic6\", \"Topic6\", \"Topic6\", \"Topic6\", \"Topic6\", \"Topic6\", \"Topic6\", \"Topic6\", \"Topic6\", \"Topic7\", \"Topic7\", \"Topic7\", \"Topic7\", \"Topic7\", \"Topic7\", \"Topic7\", \"Topic7\", \"Topic7\", \"Topic7\", \"Topic7\", \"Topic7\", \"Topic7\", \"Topic7\", \"Topic7\", \"Topic7\", \"Topic7\", \"Topic7\", \"Topic7\", \"Topic7\", \"Topic7\", \"Topic7\", \"Topic7\", \"Topic7\", \"Topic7\", \"Topic7\", \"Topic7\", \"Topic7\", \"Topic7\", \"Topic7\", \"Topic7\", \"Topic7\", \"Topic7\", \"Topic7\", \"Topic7\", \"Topic7\", \"Topic7\", \"Topic7\", \"Topic7\", \"Topic7\", \"Topic7\", \"Topic8\", \"Topic8\", \"Topic8\", \"Topic8\", \"Topic8\", \"Topic8\", \"Topic8\", \"Topic8\", \"Topic8\", \"Topic8\", \"Topic8\", \"Topic8\", \"Topic8\", \"Topic8\", \"Topic8\", \"Topic8\", \"Topic8\", \"Topic8\", \"Topic8\", \"Topic8\", \"Topic8\", \"Topic8\", \"Topic8\", \"Topic8\", \"Topic8\", \"Topic8\", \"Topic8\", \"Topic8\", \"Topic8\", \"Topic8\", \"Topic8\", \"Topic8\", \"Topic8\", \"Topic8\", \"Topic8\", \"Topic8\", \"Topic8\", \"Topic8\", \"Topic8\", \"Topic8\", \"Topic8\", \"Topic8\", \"Topic8\", \"Topic9\", \"Topic9\", \"Topic9\", \"Topic9\", \"Topic9\", \"Topic9\", \"Topic9\", \"Topic9\", \"Topic9\", \"Topic9\", \"Topic9\", \"Topic9\", \"Topic9\", \"Topic9\", \"Topic9\", \"Topic9\", \"Topic9\", \"Topic9\", \"Topic9\", \"Topic9\", \"Topic9\", \"Topic9\", \"Topic9\", \"Topic9\", \"Topic9\", \"Topic9\", \"Topic9\", \"Topic9\", \"Topic9\", \"Topic9\", \"Topic9\", \"Topic9\", \"Topic9\", \"Topic9\", \"Topic9\", \"Topic9\", \"Topic9\", \"Topic9\", \"Topic9\", \"Topic9\", \"Topic9\", \"Topic9\", \"Topic9\", \"Topic10\", \"Topic10\", \"Topic10\", \"Topic10\", \"Topic10\", \"Topic10\", \"Topic10\", \"Topic10\", \"Topic10\", \"Topic10\", \"Topic10\", \"Topic10\", \"Topic10\", \"Topic10\", \"Topic10\", \"Topic10\", \"Topic10\", \"Topic10\", \"Topic10\", \"Topic10\", \"Topic10\", \"Topic10\", \"Topic10\", \"Topic10\", \"Topic10\", \"Topic10\", \"Topic10\", \"Topic10\", \"Topic10\", \"Topic10\", \"Topic10\", \"Topic10\", \"Topic10\", \"Topic10\", \"Topic10\", \"Topic10\", \"Topic10\", \"Topic10\", \"Topic10\", \"Topic10\", \"Topic10\", \"Topic10\", \"Topic10\", \"Topic10\", \"Topic10\", \"Topic10\"], \"logprob\": [30.0, 29.0, 28.0, 27.0, 26.0, 25.0, 24.0, 23.0, 22.0, 21.0, 20.0, 19.0, 18.0, 17.0, 16.0, 15.0, 14.0, 13.0, 12.0, 11.0, 10.0, 9.0, 8.0, 7.0, 6.0, 5.0, 4.0, 3.0, 2.0, 1.0, -1.3924, -1.3247, -2.273, -3.959, -4.0317, -4.1237, -4.349, -4.8624, -3.8049, -4.8972, -5.1217, -3.9313, -4.5498, -2.0386, -4.4705, -4.7995, -5.4186, -4.5392, -5.5547, -5.7154, -4.8648, -4.6283, -5.4786, -5.7144, -5.2022, -5.4595, -5.9294, -7.1449, -7.5831, -7.6203, -6.6783, -5.7047, -6.6057, -2.9346, -2.8482, -3.4565, -4.0522, -4.0345, -3.248, -0.966, -2.1402, -4.3825, -2.7377, -3.7641, -3.8621, -4.1958, -3.9412, -5.0928, -4.6318, -5.0869, -3.91, -5.0099, -5.016, -5.0782, -6.0853, -6.6413, -6.3298, -6.0973, -5.5767, -5.8686, -7.1051, -7.0947, -7.0697, -6.6753, -6.3185, -6.9549, -6.3647, -2.2374, -3.046, -1.9727, -3.367, -2.5228, -2.8685, -3.4497, -2.6293, -3.5041, -3.9123, -3.1278, -3.5863, -3.4923, -4.2736, -4.7186, -3.5921, -2.9435, -4.1105, -4.6303, -4.2641, -3.2977, -5.5938, -4.6875, -5.7332, -6.6646, -6.7313, -6.737, -6.7273, -6.7319, -6.4478, -5.7863, -6.1188, -6.5985, -6.4743, -6.2336, -6.2166, -6.3444, -2.1934, -1.9698, -3.1272, -3.3036, -3.3145, -3.3805, -3.5545, -3.6006, -3.3815, -2.7233, -3.5525, -4.211, -4.1616, -4.7322, -4.7312, -3.8334, -4.4619, -3.8349, -3.8432, -4.6377, -4.2851, -3.7549, -4.7344, -4.1091, -3.6383, -4.2838, -4.7112, -4.3637, -3.8684, -2.8486, -2.0914, -1.8926, -2.9866, -2.8934, -3.4849, -3.6174, -3.044, -3.6721, -2.2137, -2.8364, -4.011, -4.0557, -3.6669, -3.7595, -3.7004, -4.6072, -4.6216, -4.0126, -4.224, -4.6735, -4.5611, -4.6017, -5.4668, -3.9099, -4.6525, -6.5771, -6.5564, -4.8801, -6.2804, -6.5543, -4.7499, -6.4302, -6.1828, -1.3043, -3.2474, -2.1726, -3.2866, -2.5151, -3.1642, -3.6304, -3.6109, -3.3564, -4.1783, -4.2486, -2.4899, -4.1571, -4.2426, -4.176, -3.7835, -6.2461, -6.2486, -6.1534, -6.287, -6.2874, -6.233, -6.2544, -6.3101, -6.2435, -6.2568, -6.2984, -5.9748, -6.2799, -6.2514, -5.8736, -6.1168, -5.421, -6.0698, -6.2262, -5.7736, -6.0086, -6.1365, -6.1146, -6.1279, -6.0146, -6.1204, -6.0257, -6.1328, -1.7354, -3.088, -2.8835, -2.4651, -3.4374, -3.5394, -4.0949, -4.0274, -3.927, -4.0306, -2.6108, -4.0933, -4.0286, -4.0911, -3.7617, -3.6542, -4.0949, -2.3878, -4.033, -5.849, -6.0706, -5.9891, -6.1068, -6.1046, -6.123, -6.131, -6.1174, -6.1328, -6.1296, -6.1481, -5.9308, -3.1782, -4.9025, -5.9611, -5.8393, -5.45, -5.9977, -5.9615, -5.9342, -5.9387, -5.9619, -1.7159, -2.6925, -2.8525, -2.2957, -3.3839, -3.8508, -2.244, -2.8926, -3.8491, -3.3563, -3.833, -3.3712, -5.8651, -5.8473, -5.8509, -5.8587, -5.8255, -5.8681, -5.8397, -5.8333, -5.8728, -5.8625, -5.8573, -5.8284, -5.8493, -5.8688, -5.8301, -5.5559, -5.8564, -5.8611, -3.0993, -5.8208, -5.7484, -5.7223, -5.5955, -5.8086, -5.8331, -5.5309, -5.7214, -5.7255, -5.8243, -5.7859, -5.8343, -2.4175, -3.0088, -2.1103, -2.8608, -3.5412, -3.48, -2.6187, -3.5432, -2.6273, -3.0543, -3.265, -3.1339, -5.519, -5.5027, -5.539, -5.5711, -5.5591, -5.5729, -5.5407, -5.5827, -5.5646, -5.593, -5.5894, -5.5434, -5.5501, -5.5836, -5.5611, -5.5211, -5.5622, -5.5552, -5.5457, -3.4511, -5.4965, -5.5241, -5.5344, -5.5448, -5.5525, -5.5193, -5.5403, -5.5404, -5.5378, -5.5432, -5.5479, -1.8583, -2.1897, -2.7172, -2.725, -3.3144, -3.31, -3.3164, -3.3046, -3.3758, -3.378, -3.3784, -5.3575, -5.4263, -5.379, -5.4073, -5.4238, -5.3948, -5.3467, -5.3735, -5.3854, -5.4097, -5.35, -5.4104, -5.4339, -5.3417, -5.3921, -5.3993, -5.3748, -5.0981, -5.3985, -5.3881, -5.3662, -5.3765, -5.2931, -5.367, -5.3957, -5.3891, -5.2627, -5.3639, -5.3715, -5.3532, -5.3749, -5.374, -5.3731, -5.3575, -5.3741], \"loglift\": [30.0, 29.0, 28.0, 27.0, 26.0, 25.0, 24.0, 23.0, 22.0, 21.0, 20.0, 19.0, 18.0, 17.0, 16.0, 15.0, 14.0, 13.0, 12.0, 11.0, 10.0, 9.0, 8.0, 7.0, 6.0, 5.0, 4.0, 3.0, 2.0, 1.0, 1.3283, 1.2481, 1.1699, 0.9765, 0.9475, 0.9398, 0.7337, 0.6169, 0.613, 0.5848, 0.4942, 0.4685, 0.4275, 0.2407, 0.0425, -0.1575, -0.2079, -0.2439, -0.2694, -0.3302, -0.3447, -0.3537, -0.6698, -0.6834, -0.7107, -1.5011, -1.6349, -1.7222, -2.029, -2.1268, -2.1726, -2.3324, -2.3439, 1.7826, 1.7126, 1.6842, 1.5206, 1.5196, 1.4425, 1.3133, 1.2321, 1.168, 1.1404, 0.7489, 0.658, 0.6129, 0.5502, 0.5231, 0.4453, 0.3699, 0.3518, 0.0536, 0.015, -0.6603, -0.7604, -1.1426, -1.2241, -1.2938, -1.3022, -1.4572, -1.5569, -1.5824, -1.5877, -1.9048, -2.2428, -1.6951, -2.4894, 2.0727, 1.9714, 1.9185, 1.9103, 1.8892, 1.7735, 1.7089, 1.666, 1.3822, 1.2984, 1.2836, 1.2171, 1.1341, 1.1082, 0.7606, 0.6824, 0.4287, 0.3074, 0.3072, 0.2273, 0.1453, -0.476, -0.7342, -0.8039, -1.114, -1.1153, -1.1642, -1.1731, -1.1838, -1.1871, -1.2806, -1.6064, -1.511, -1.9135, -3.5129, -3.9374, -3.7715, 2.1467, 2.1059, 1.9785, 1.9562, 1.9512, 1.9434, 1.8808, 1.6847, 1.6583, 1.5384, 1.3337, 0.9726, 0.9211, 0.8184, 0.7257, 0.6796, 0.6787, 0.6775, 0.6769, 0.573, 0.5237, 0.5196, 0.414, 0.3696, 0.253, 0.1341, 0.0593, -0.4104, -0.4961, -0.5693, 2.0817, 2.0658, 2.0465, 2.036, 1.9308, 1.8949, 1.8935, 1.876, 1.7396, 1.6761, 1.4825, 1.4567, 1.3641, 1.3176, 1.1083, 0.8748, 0.537, 0.3994, 0.2961, -0.1127, -0.2994, -0.3272, -0.3792, -0.5376, -0.5769, -0.9612, -0.9836, -0.9889, -1.0133, -1.0974, -2.4706, -1.3475, -2.3075, 2.5709, 2.2513, 2.1401, 1.9804, 1.8963, 1.8131, 1.7514, 1.5763, 1.3341, 1.1823, 1.0121, 0.8824, 0.874, 0.8649, 0.7595, 0.3896, -0.6302, -0.6758, -0.7181, -0.7328, -0.7368, -0.7395, -0.742, -0.762, -0.7642, -0.7748, -0.7859, -0.8163, -0.823, -0.8356, -0.8562, -0.8511, -1.1108, -0.9292, -0.841, -1.8203, -1.3822, -1.1034, -1.1853, -1.6365, -3.2939, -2.162, -3.7465, -3.56, 2.5591, 2.3347, 2.2649, 2.0135, 1.6902, 1.6442, 1.4176, 1.3578, 1.3401, 1.3299, 1.2673, 1.2316, 1.1586, 0.888, 0.7507, 0.6585, 0.3965, 0.185, -0.0798, -0.4137, -0.4547, -0.5071, -0.534, -0.5541, -0.5689, -0.5829, -0.6186, -0.6204, -0.6504, -0.6546, -0.6651, -0.8989, -1.0112, -0.6758, -0.9019, -1.4916, -0.787, -1.3196, -1.5222, -1.6642, -1.6517, 2.7898, 2.4481, 2.4082, 2.3307, 1.656, 1.6427, 1.6341, 1.5861, 1.3344, 1.1352, 0.9705, 0.9242, -0.2492, -0.2745, -0.2968, -0.3106, -0.313, -0.3175, -0.3273, -0.3513, -0.3741, -0.3833, -0.4005, -0.4126, -0.4265, -0.4335, -0.4449, -0.4683, -0.4746, -0.5005, -0.82, -0.5551, -0.7711, -0.9135, -2.1526, -0.7451, -0.5733, -2.9581, -1.7681, -1.8343, -0.8869, -2.4136, -0.7067, 2.7003, 2.3161, 2.2895, 1.9426, 1.9156, 1.9052, 1.6558, 1.5643, 1.326, 1.2584, 1.2265, 1.1279, 0.0969, 0.0514, 0.0115, 0.0017, -0.0109, -0.0605, -0.0615, -0.0703, -0.0712, -0.0943, -0.1074, -0.1081, -0.1274, -0.1678, -0.1793, -0.1972, -0.2016, -0.2778, -0.28, -1.1719, -0.4655, -0.4469, -0.4945, -0.4621, -0.3654, -1.224, -0.7315, -0.85, -1.6466, -1.665, -1.0692, 2.9122, 2.8979, 2.4104, 2.3825, 2.0462, 1.8772, 1.7607, 1.2084, 1.1444, 1.0399, 0.58, 0.1966, 0.1896, 0.1691, 0.1654, 0.1268, 0.1175, 0.1101, 0.1085, 0.0938, 0.0891, 0.0853, 0.083, 0.0785, 0.0401, 0.0306, 0.0165, 0.0104, -0.067, -0.0746, -0.1274, -0.2483, -0.2358, -1.4149, -0.4808, -0.1104, -0.2306, -2.9834, -0.7375, -0.7296, -1.3999, -0.6844, -0.9743, -1.0986, -2.7846, -1.0797]}, \"token.table\": {\"Topic\": [2, 7, 8, 6, 7, 10, 1, 7, 4, 8, 5, 6, 9, 3, 1, 6, 3, 8, 4, 5, 1, 7, 9, 6, 9, 10, 3, 1, 2, 3, 7, 8, 9, 1, 3, 4, 5, 9, 6, 1, 6, 1, 7, 3, 8, 9, 4, 8, 4, 1, 4, 1, 3, 1, 2, 5, 1, 2, 4, 10, 8, 1, 5, 5, 2, 1, 2, 3, 4, 10, 1, 4, 1, 9, 2, 4, 9, 5, 3, 5, 8, 10, 1, 2, 5, 6, 4, 10, 6, 7, 9, 1, 2, 4, 5, 7, 8, 9, 1, 2, 4, 5, 10, 7, 6, 7, 4, 7, 4, 3, 5, 1, 3, 6, 2, 4, 5, 9, 7, 9, 4, 7, 8, 5, 7, 4, 2, 5, 2, 6, 3, 5, 2, 1, 3, 1, 2, 4, 2, 5, 10, 1, 3, 8, 3, 4, 5, 4, 5, 1, 2, 3, 4, 5, 6, 2, 4, 7, 8, 3, 4, 5, 7, 9, 3, 5, 1, 2, 4, 5, 1, 7, 6, 8, 5, 2, 4, 3, 4, 1, 3, 6, 1, 5, 10, 6, 7, 10, 7, 10, 4, 5, 7, 3, 6, 1, 3, 4, 4, 2], \"Freq\": [0.42773576869041885, 0.21386788434520942, 0.2673348554315118, 0.23545347473207687, 0.23545347473207687, 0.23545347473207687, 0.6431259954658274, 0.16078149886645685, 0.5125582917766326, 0.34170552785108843, 0.7899049718029798, 0.07180954289117998, 0.73884387785894, 0.9059577275925175, 0.6156805158745299, 0.15392012896863247, 0.3389565154256863, 0.5649275257094771, 0.8468578799448657, 0.06514291384191274, 0.2413123878785767, 0.2413123878785767, 0.2413123878785767, 0.18281017885057452, 0.18281017885057452, 0.36562035770114903, 0.8352390809409407, 0.09872822969661539, 0.2961846890898462, 0.09872822969661539, 0.09872822969661539, 0.19745645939323078, 0.19745645939323078, 0.15894909128960172, 0.23842363693440258, 0.15894909128960172, 0.07947454564480086, 0.23842363693440258, 0.9063168312308376, 0.32097330544276875, 0.4814599581641531, 0.8986343947736198, 0.08696461884905998, 0.4046270576691139, 0.1348756858897046, 0.4046270576691139, 0.18896999357634933, 0.566909980729048, 0.9334978270210781, 0.21837847803310245, 0.6551354340993074, 0.8303797777133748, 0.1383966296188958, 0.6997510496010486, 0.17493776240026215, 0.7648525154215222, 0.302640188282857, 0.302640188282857, 0.20176012552190464, 0.10088006276095232, 0.8011900718960372, 0.531695539525979, 0.2658477697629895, 0.5480812878838212, 0.7558678426754294, 0.4586499995958045, 0.09172999991916089, 0.18345999983832179, 0.09172999991916089, 0.09172999991916089, 0.5350089320611321, 0.17833631068704406, 0.45038965484847593, 0.5404675858181711, 0.2592493668235509, 0.2592493668235509, 0.2592493668235509, 0.5680489479604595, 0.6499624941264798, 0.5378030100207183, 0.26890150501035914, 0.71677725363926, 0.16935277680785044, 0.16935277680785044, 0.33870555361570087, 0.16935277680785044, 0.13050565225096383, 0.783033913505783, 0.577991773578811, 0.16514050673680314, 0.16514050673680314, 0.32420755734300993, 0.5295390103269162, 0.05403459289050165, 0.01080691857810033, 0.03242075573430099, 0.02161383715620066, 0.01080691857810033, 0.2032025112276444, 0.3048037668414666, 0.2032025112276444, 0.1016012556138222, 0.1016012556138222, 0.7516468970426367, 0.42887097386805895, 0.21443548693402947, 0.19042977073444686, 0.5712893122033406, 0.6808932530662141, 0.5771315145146345, 0.19237717150487815, 0.22952806141016424, 0.6885841842304927, 0.5406683848074864, 0.23539953336929914, 0.4707990667385983, 0.07846651112309971, 0.15693302224619943, 0.2271924380405075, 0.454384876081015, 0.19725412830876482, 0.39450825661752964, 0.19725412830876482, 0.5481240627346647, 0.27406203136733237, 0.7299199172624308, 0.7407547052712073, 0.10582210075302963, 0.6023430710675869, 0.24093722842703474, 0.15421586984198046, 0.6168634793679219, 0.8661097129318829, 0.530228489375651, 0.2651142446878255, 0.3039401399860851, 0.3039401399860851, 0.7611742371377297, 0.17733637671468963, 0.35467275342937926, 0.17733637671468963, 0.16229462370845663, 0.5680311829795982, 0.16229462370845663, 0.758398561006892, 0.10834265157241313, 0.054171325786206564, 0.6424182202760453, 0.8484804930778287, 0.0322396103268479, 0.48359415490271845, 0.16119805163423948, 0.0644792206536958, 0.0644792206536958, 0.16119805163423948, 0.5822171870993694, 0.19495167201482888, 0.4873791800370722, 0.2924275080222433, 0.057639867783537274, 0.057639867783537274, 0.5763986778353728, 0.057639867783537274, 0.17291960335061182, 0.7295043947366097, 0.18237609868415242, 0.13559405120024917, 0.27118810240049834, 0.13559405120024917, 0.27118810240049834, 0.08107854299674837, 0.891863972964232, 0.21306941637728863, 0.6392082491318659, 0.7464313867513196, 0.5694332215162162, 0.2847166107581081, 0.4395661847433012, 0.4395661847433012, 0.9746429464033337, 0.24050307749517588, 0.48100615499035176, 0.05793645539829096, 0.8111103755760735, 0.05793645539829096, 0.39593456459226434, 0.19796728229613217, 0.19796728229613217, 0.3730502491467737, 0.3730502491467737, 0.20164319443689338, 0.5041079860922335, 0.10082159721844669, 0.3645311097522211, 0.45566388719027634, 0.20267696379330954, 0.4053539275866191, 0.20267696379330954, 0.6386507018897496, 0.571463761623808], \"Term\": [\"account\", \"account\", \"account\", \"acquisition\", \"acquisition\", \"acquisition\", \"advocate\", \"advocate\", \"america\", \"america\", \"analyst\", \"analyst\", \"analytics\", \"architect\", \"assistant\", \"assistant\", \"associate\", \"associate\", \"business\", \"business\", \"care\", \"care\", \"care\", \"change\", \"change\", \"change\", \"chief\", \"client\", \"client\", \"client\", \"client\", \"client\", \"client\", \"cloud\", \"cloud\", \"cloud\", \"cloud\", \"cloud\", \"consultant\", \"coordinator\", \"coordinator\", \"customer\", \"customer\", \"data\", \"data\", \"data\", \"delivery\", \"delivery\", \"development\", \"digital\", \"digital\", \"director\", \"director\", \"engagement\", \"engagement\", \"engineer\", \"enterprise\", \"enterprise\", \"enterprise\", \"enterprise\", \"executive\", \"experience\", \"experience\", \"expert\", \"founder\", \"global\", \"global\", \"global\", \"global\", \"global\", \"google\", \"google\", \"head\", \"head\", \"ibm\", \"ibm\", \"ibm\", \"information\", \"insights\", \"intelligence\", \"intelligence\", \"intern\", \"lead\", \"lead\", \"lead\", \"lead\", \"leader\", \"leader\", \"management\", \"management\", \"management\", \"manager\", \"manager\", \"manager\", \"manager\", \"manager\", \"manager\", \"manager\", \"marketing\", \"marketing\", \"marketing\", \"marketing\", \"marketing\", \"member\", \"microsoft\", \"microsoft\", \"national\", \"national\", \"north\", \"officer\", \"officer\", \"operations\", \"operations\", \"owner\", \"partner\", \"partner\", \"partner\", \"partner\", \"platform\", \"platform\", \"practice\", \"practice\", \"practice\", \"premier\", \"premier\", \"president\", \"principal\", \"principal\", \"product\", \"product\", \"professional\", \"professional\", \"program\", \"programs\", \"programs\", \"project\", \"project\", \"public\", \"regional\", \"regional\", \"regional\", \"representative\", \"representative\", \"representative\", \"sales\", \"sales\", \"sales\", \"sector\", \"security\", \"senior\", \"senior\", \"senior\", \"senior\", \"senior\", \"senior\", \"server\", \"service\", \"service\", \"service\", \"services\", \"services\", \"services\", \"services\", \"services\", \"solution\", \"solution\", \"solutions\", \"solutions\", \"solutions\", \"solutions\", \"specialist\", \"specialist\", \"splunk\", \"splunk\", \"store\", \"strategist\", \"strategist\", \"strategy\", \"strategy\", \"success\", \"summer\", \"summer\", \"support\", \"support\", \"support\", \"talent\", \"talent\", \"talent\", \"team\", \"team\", \"technical\", \"technical\", \"technical\", \"technology\", \"technology\", \"unit\", \"unit\", \"unit\", \"vice\", \"windows\"]}, \"R\": 30, \"lambda.step\": 0.01, \"plot.opts\": {\"xlab\": \"PC1\", \"ylab\": \"PC2\"}, \"topic.order\": [2, 5, 10, 9, 8, 4, 1, 7, 3, 6]};\n",
       "\n",
       "function LDAvis_load_lib(url, callback){\n",
       "  var s = document.createElement('script');\n",
       "  s.src = url;\n",
       "  s.async = true;\n",
       "  s.onreadystatechange = s.onload = callback;\n",
       "  s.onerror = function(){console.warn(\"failed to load library \" + url);};\n",
       "  document.getElementsByTagName(\"head\")[0].appendChild(s);\n",
       "}\n",
       "\n",
       "if(typeof(LDAvis) !== \"undefined\"){\n",
       "   // already loaded: just create the visualization\n",
       "   !function(LDAvis){\n",
       "       new LDAvis(\"#\" + \"ldavis_el200871404258231898407969240305\", ldavis_el200871404258231898407969240305_data);\n",
       "   }(LDAvis);\n",
       "}else if(typeof define === \"function\" && define.amd){\n",
       "   // require.js is available: use it to load d3/LDAvis\n",
       "   require.config({paths: {d3: \"https://cdnjs.cloudflare.com/ajax/libs/d3/3.5.5/d3.min\"}});\n",
       "   require([\"d3\"], function(d3){\n",
       "      window.d3 = d3;\n",
       "      LDAvis_load_lib(\"https://cdn.rawgit.com/bmabey/pyLDAvis/files/ldavis.v1.0.0.js\", function(){\n",
       "        new LDAvis(\"#\" + \"ldavis_el200871404258231898407969240305\", ldavis_el200871404258231898407969240305_data);\n",
       "      });\n",
       "    });\n",
       "}else{\n",
       "    // require.js not available: dynamically load d3 & LDAvis\n",
       "    LDAvis_load_lib(\"https://cdnjs.cloudflare.com/ajax/libs/d3/3.5.5/d3.min.js\", function(){\n",
       "         LDAvis_load_lib(\"https://cdn.rawgit.com/bmabey/pyLDAvis/files/ldavis.v1.0.0.js\", function(){\n",
       "                 new LDAvis(\"#\" + \"ldavis_el200871404258231898407969240305\", ldavis_el200871404258231898407969240305_data);\n",
       "            })\n",
       "         });\n",
       "}\n",
       "</script>"
      ],
      "text/plain": [
       "PreparedData(topic_coordinates=               x          y  topics  cluster       Freq\n",
       "topic                                                  \n",
       "1      32.420952   8.115230       1        1  25.873158\n",
       "4       0.648955  71.707100       2        1  14.290231\n",
       "9      71.019684   9.971006       3        1  11.102167\n",
       "8       3.785981  33.185135       4        1  10.486612\n",
       "7     -42.666500  -9.222070       5        1  10.230241\n",
       "3      -3.621689 -43.526516       6        1   7.043978\n",
       "0      -3.632402  -4.171708       7        1   6.684667\n",
       "6     -36.584400  35.804413       8        1   5.186277\n",
       "2      44.391380  50.615383       9        1   5.020924\n",
       "5      40.235809 -31.591665      10        1   4.081745, topic_info=          Term       Freq      Total Category  logprob  loglift\n",
       "17    customer  68.000000  68.000000  Default  30.0000  30.0000\n",
       "78     success  59.000000  59.000000  Default  29.0000  29.0000\n",
       "41     manager  92.000000  92.000000  Default  28.0000  28.0000\n",
       "15  consultant  18.000000  18.000000  Default  27.0000  27.0000\n",
       "73  specialist  12.000000  12.000000  Default  26.0000  26.0000\n",
       "..         ...        ...        ...      ...      ...      ...\n",
       "56     product   0.170896   8.300917  Topic10  -5.3749  -0.6844\n",
       "32        head   0.171040  11.101498  Topic10  -5.3740  -0.9743\n",
       "14       cloud   0.171195  12.582645  Topic10  -5.3731  -1.0986\n",
       "17    customer   0.173901  68.993576  Topic10  -5.3575  -2.7846\n",
       "73  specialist   0.171021  12.333719  Topic10  -5.3741  -1.0797\n",
       "\n",
       "[414 rows x 6 columns], token_table=      Topic      Freq         Term\n",
       "term                              \n",
       "0         2  0.427736      account\n",
       "0         7  0.213868      account\n",
       "0         8  0.267335      account\n",
       "1         6  0.235453  acquisition\n",
       "1         7  0.235453  acquisition\n",
       "...     ...       ...          ...\n",
       "85        1  0.202677         unit\n",
       "85        3  0.405354         unit\n",
       "85        4  0.202677         unit\n",
       "86        4  0.638651         vice\n",
       "87        2  0.571464      windows\n",
       "\n",
       "[200 rows x 3 columns], R=30, lambda_step=0.01, plot_opts={'xlab': 'PC1', 'ylab': 'PC2'}, topic_order=[2, 5, 10, 9, 8, 4, 1, 7, 3, 6])"
      ]
     },
     "execution_count": 50,
     "metadata": {},
     "output_type": "execute_result"
    }
   ],
   "source": [
    "vectorizer = CountVectorizer(analyzer='word',       \n",
    "                             min_df=3,                       \n",
    "                             stop_words='english',             \n",
    "                             lowercase=True,                   \n",
    "                             token_pattern='[a-zA-Z0-9]{3,}',  \n",
    "                             max_features=5000,          \n",
    "                            )\n",
    "\n",
    "data_vectorized = vectorizer.fit_transform(df_clean_1['prev_title_1'])\n",
    "\n",
    "lda_model = LatentDirichletAllocation(n_components=10, # Number of topics\n",
    "                                      learning_method='online',\n",
    "                                      random_state=0,       \n",
    "                                      n_jobs = -1  # Use all available CPUs\n",
    "                                     )\n",
    "lda_output = lda_model.fit_transform(data_vectorized)\n",
    "\n",
    "pyLDAvis.enable_notebook()\n",
    "pyLDAvis.sklearn.prepare(lda_model, data_vectorized, vectorizer, mds='tsne')"
   ]
  },
  {
   "cell_type": "code",
   "execution_count": null,
   "metadata": {},
   "outputs": [],
   "source": [
    "def show_topics(vectorizer=vectorizer, lda_model=lda_model, n_words=20):\n",
    "    keywords = np.array(vectorizer.get_feature_names())\n",
    "    topic_keywords = []\n",
    "    for topic_weights in lda_model.components_:\n",
    "        top_keyword_locs = (-topic_weights).argsort()[:n_words]\n",
    "        topic_keywords.append(keywords.take(top_keyword_locs))\n",
    "    return topic_keywords\n",
    "\n",
    "topic_keywords = show_topics(vectorizer=vectorizer, lda_model=lda_model, n_words=20)\n",
    "\n",
    "df_topic_keywords = pd.DataFrame(topic_keywords)\n",
    "df_topic_keywords.columns = ['Word '+str(i) for i in range(df_topic_keywords.shape[1])]\n",
    "df_topic_keywords.index = ['Topic '+str(i) for i in range(df_topic_keywords.shape[0])]\n",
    "df_topic_keywords"
   ]
  },
  {
   "cell_type": "code",
   "execution_count": 8,
   "metadata": {},
   "outputs": [],
   "source": [
    "apple_sw = pd.read_csv('Data/SoftwareEngineer/SoftwareEngineer_Apple.csv')"
   ]
  },
  {
   "cell_type": "code",
   "execution_count": 47,
   "metadata": {},
   "outputs": [],
   "source": [
    "#df_clean_1 = column_cleaner(customer_success, 'description')\n",
    "df_clean_1 = column_cleaner(customer_success[customer_success['prev_title_1'].notna()], 'prev_title_1')"
   ]
  },
  {
   "cell_type": "code",
   "execution_count": null,
   "metadata": {},
   "outputs": [],
   "source": [
    "df['level'=='senior']['total_years_of_prior_exp' > 6]['has_masters' == False]"
   ]
  }
 ],
 "metadata": {
  "kernelspec": {
   "display_name": "Python 3",
   "language": "python",
   "name": "python3"
  },
  "language_info": {
   "codemirror_mode": {
    "name": "ipython",
    "version": 3
   },
   "file_extension": ".py",
   "mimetype": "text/x-python",
   "name": "python",
   "nbconvert_exporter": "python",
   "pygments_lexer": "ipython3",
   "version": "3.7.6"
  }
 },
 "nbformat": 4,
 "nbformat_minor": 4
}
