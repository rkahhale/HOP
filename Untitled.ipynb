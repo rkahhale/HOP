{
 "cells": [
  {
   "cell_type": "code",
   "execution_count": 75,
   "metadata": {},
   "outputs": [],
   "source": [
    "import pandas as pd\n",
    "import numpy as np\n",
    "import seaborn as sns\n",
    "import json\n",
    "import glob \n",
    "import os\n",
    "import datetime\n",
    "import plotly\n",
    "import matplotlib.pyplot as plt\n",
    "import plotly.express as px\n",
    "import re, nltk, spacy, string\n",
    "from sklearn.decomposition import LatentDirichletAllocation\n",
    "from sklearn.feature_extraction.text import CountVectorizer, TfidfVectorizer"
   ]
  },
  {
   "cell_type": "code",
   "execution_count": 93,
   "metadata": {},
   "outputs": [],
   "source": [
    "# Company\n",
    "df = pd.read_csv(\"Data/HR/HR_Amazon.csv\")"
   ]
  },
  {
   "cell_type": "code",
   "execution_count": 94,
   "metadata": {},
   "outputs": [],
   "source": [
    "def clean_text(text):\n",
    "    '''Make text lowercase, remove text in square brackets, remove punctuation and remove words containing numbers.'''\n",
    "    if(type(text) != str):\n",
    "        return\n",
    "    text = text.lower()\n",
    "    text = re.sub(r'\\[.*?\\]', '', text)\n",
    "    text = re.sub(r'[%s]' %re.escape(string.punctuation), '', text)\n",
    "    text = re.sub(r'\\w*\\d\\w*', '', text)\n",
    "    return text\n",
    "\n",
    "\n",
    "nlp = spacy.load('en')\n",
    "\n",
    "def lemmatizer(text):\n",
    "    if(type(text) != str):\n",
    "        return\n",
    "    sent = []\n",
    "    doc = nlp(text)\n",
    "    for word in doc:\n",
    "        sent.append(word.lemma_)\n",
    "    s = \" \".join(sent)\n",
    "    s =  s.replace('-PRON-', '')\n",
    "    s = re.sub('\\n{1,}', '', s)\n",
    "    s = re.sub(' +', ' ', s)\n",
    "    return s"
   ]
  },
  {
   "cell_type": "code",
   "execution_count": 95,
   "metadata": {},
   "outputs": [],
   "source": [
    "def column_cleaner_and_lemmatizer(df, data):\n",
    "    if type(data) != list:\n",
    "        data = [data]\n",
    "    for c in data:\n",
    "        insert_index = df.columns.get_loc(c) + 1\n",
    "        df_clean = pd.DataFrame(df[c].apply(lambda x: clean_text(x)))\n",
    "        srs =  df_clean.apply(lambda x: lemmatizer(x[c]), axis=1)\n",
    "        cleaned_col = c + '_clean'\n",
    "        if cleaned_col not in df.columns:\n",
    "            df.insert(insert_index, cleaned_col, srs)\n",
    "        else:\n",
    "            df[cleaned_col] = srs"
   ]
  },
  {
   "cell_type": "code",
   "execution_count": 107,
   "metadata": {},
   "outputs": [],
   "source": [
    "column_cleaner_and_lemmatizer(df, ['prev_title_1', 'prev_title_2', \n",
    "                                          'prev_title_3', 'prev_title_4', 'prev_title_5'])"
   ]
  },
  {
   "cell_type": "code",
   "execution_count": 109,
   "metadata": {},
   "outputs": [
    {
     "data": {
      "text/plain": [
       "human resource intern                       20\n",
       "angel investor                              16\n",
       "intern                                      12\n",
       "hr intern                                    8\n",
       "sale associate                               8\n",
       "                                            ..\n",
       "hr business partner international market     1\n",
       "corporate human resource manager             1\n",
       "sale assistant                               1\n",
       "director                                     1\n",
       "management intern                            1\n",
       "Name: prev_title_3_clean, Length: 604, dtype: int64"
      ]
     },
     "execution_count": 109,
     "metadata": {},
     "output_type": "execute_result"
    }
   ],
   "source": [
    "df['prev_title_3_clean'].value_counts()"
   ]
  },
  {
   "cell_type": "code",
   "execution_count": 106,
   "metadata": {},
   "outputs": [
    {
     "data": {
      "text/plain": [
       "human resource intern                       20\n",
       "angel investor                              16\n",
       "intern                                      12\n",
       "hr intern                                    8\n",
       "sale associate                               8\n",
       "                                            ..\n",
       "hr business partner international market     1\n",
       "corporate human resource manager             1\n",
       "sale assistant                               1\n",
       "director                                     1\n",
       "management intern                            1\n",
       "Name: prev_title_3_clean, Length: 604, dtype: int64"
      ]
     },
     "execution_count": 106,
     "metadata": {},
     "output_type": "execute_result"
    }
   ],
   "source": [
    "df['prev_title_3_clean'].value_counts()"
   ]
  },
  {
   "cell_type": "code",
   "execution_count": 51,
   "metadata": {},
   "outputs": [
    {
     "data": {
      "text/plain": [
       "Index(['Unnamed: 0', 'name', 'age', 'gender', 'description',\n",
       "       'description_clean', 'source_company', 'source_role', 'current_title',\n",
       "       'current_company', 'current_company_location', 'from', 'to',\n",
       "       'prev_title_1', 'prev_company_1', 'prev_exp_location_1',\n",
       "       'prev_exp_from_1', 'prev_exp_to_1', 'prev_exp_duration_months_1',\n",
       "       'prev_exp_duration_years_1', 'prev_title_2', 'prev_company_2',\n",
       "       'prev_exp_location_2', 'prev_exp_from_2', 'prev_exp_to_2',\n",
       "       'prev_exp_duration_months_2', 'prev_exp_duration_years_2',\n",
       "       'prev_title_3', 'prev_company_3', 'prev_exp_location_3',\n",
       "       'prev_exp_from_3', 'prev_exp_to_3', 'prev_exp_duration_months_3',\n",
       "       'prev_exp_duration_years_3', 'prev_title_4', 'prev_company_4',\n",
       "       'prev_exp_location_4', 'prev_exp_from_4', 'prev_exp_to_4',\n",
       "       'prev_exp_duration_months_4', 'prev_exp_duration_years_4',\n",
       "       'prev_title_5', 'prev_company_5', 'prev_exp_location_5',\n",
       "       'prev_exp_from_5', 'prev_exp_to_5', 'prev_exp_duration_months_5',\n",
       "       'prev_exp_duration_years_5', 'total_months_of_experience',\n",
       "       'total_years_of_experience', 'has_phd', 'major_phd', 'institution_phd',\n",
       "       'phd_start_date', 'phd_end_date', 'has_masters', 'major_masters',\n",
       "       'institution_masters', 'masters_start_date', 'masters_end_date',\n",
       "       'has_bachelors', 'major_bachelors', 'institution_bachelors',\n",
       "       'bachelors_start_date', 'bachelors_end_date', 'major_other',\n",
       "       'institution_other', 'other_start_date', 'other_end_date'],\n",
       "      dtype='object')"
      ]
     },
     "execution_count": 51,
     "metadata": {},
     "output_type": "execute_result"
    }
   ],
   "source": [
    "amazon_hr.columns"
   ]
  },
  {
   "cell_type": "code",
   "execution_count": null,
   "metadata": {},
   "outputs": [],
   "source": []
  },
  {
   "cell_type": "code",
   "execution_count": null,
   "metadata": {},
   "outputs": [],
   "source": []
  }
 ],
 "metadata": {
  "kernelspec": {
   "display_name": "Python 3",
   "language": "python",
   "name": "python3"
  },
  "language_info": {
   "codemirror_mode": {
    "name": "ipython",
    "version": 3
   },
   "file_extension": ".py",
   "mimetype": "text/x-python",
   "name": "python",
   "nbconvert_exporter": "python",
   "pygments_lexer": "ipython3",
   "version": "3.7.6"
  }
 },
 "nbformat": 4,
 "nbformat_minor": 4
}
