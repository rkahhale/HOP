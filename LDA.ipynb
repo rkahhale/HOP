{
 "cells": [
  {
   "cell_type": "code",
   "execution_count": 68,
   "metadata": {},
   "outputs": [],
   "source": [
    "import pandas as pd\n",
    "import numpy as np\n",
    "import seaborn as sns\n",
    "import json\n",
    "import glob \n",
    "import os\n",
    "\n",
    "import re, nltk, spacy, string\n",
    "\n",
    "from sklearn.decomposition import LatentDirichletAllocation\n",
    "from sklearn.feature_extraction.text import CountVectorizer, TfidfVectorizer\n",
    "from pprint import pprint\n",
    "\n",
    "import pyLDAvis\n",
    "import pyLDAvis.sklearn\n",
    "import matplotlib.pyplot as plt\n",
    "%matplotlib inline\n",
    "\n",
    "from plotly.offline import plot\n",
    "import plotly.graph_objects as go\n",
    "import plotly.express as px\n",
    "\n",
    "pd.set_option('display.max_columns', 50)"
   ]
  },
  {
   "cell_type": "code",
   "execution_count": 90,
   "metadata": {},
   "outputs": [],
   "source": [
    "def clean_text(text):\n",
    "    '''Make text lowercase, remove text in square brackets, remove punctuation and remove words containing numbers.'''\n",
    "    text = text.lower()\n",
    "    text = re.sub(r'\\[.*?\\]', '', text)\n",
    "    text = re.sub(r'[%s]' %re.escape(string.punctuation), '', text)\n",
    "    text = re.sub(r'\\w*\\d\\w*', '', text)\n",
    "    return text\n",
    "\n",
    "\n",
    "nlp = spacy.load('en')\n",
    "\n",
    "def lemmatizer(text):\n",
    "    sent = []\n",
    "    doc = nlp(text)\n",
    "    for word in doc:\n",
    "        sent.append(word.lemma_)\n",
    "    s = \" \".join(sent)\n",
    "    return s.replace('-PRON-', '')"
   ]
  },
  {
   "cell_type": "code",
   "execution_count": 91,
   "metadata": {},
   "outputs": [
    {
     "data": {
      "text/plain": [
       "'i love weed and sucking lolis afh f f mr u  '"
      ]
     },
     "execution_count": 91,
     "metadata": {},
     "output_type": "execute_result"
    }
   ],
   "source": [
    "s=\"I love weeds and sucking lolis afh f f mR% u 5p;n ;\"\n",
    "s=clean_text(s)\n",
    "s=lemmatizer(s)\n",
    "\n",
    "s"
   ]
  },
  {
   "cell_type": "code",
   "execution_count": 71,
   "metadata": {},
   "outputs": [],
   "source": [
    "df = pd.read_csv(\"~/Desktop/HOP/Data/HR/HR_Amazon.csv\")\n",
    "#df.set_index('name', inplace=True)\n",
    "#df = df[df.columns[0:51]]"
   ]
  },
  {
   "cell_type": "code",
   "execution_count": 72,
   "metadata": {},
   "outputs": [
    {
     "data": {
      "text/plain": [
       "5.658979999999999"
      ]
     },
     "execution_count": 72,
     "metadata": {},
     "output_type": "execute_result"
    }
   ],
   "source": [
    "df['total_years_of_experience'].mean()\n"
   ]
  },
  {
   "cell_type": "code",
   "execution_count": 73,
   "metadata": {},
   "outputs": [
    {
     "data": {
      "text/html": [
       "<div>\n",
       "<style scoped>\n",
       "    .dataframe tbody tr th:only-of-type {\n",
       "        vertical-align: middle;\n",
       "    }\n",
       "\n",
       "    .dataframe tbody tr th {\n",
       "        vertical-align: top;\n",
       "    }\n",
       "\n",
       "    .dataframe thead th {\n",
       "        text-align: right;\n",
       "    }\n",
       "</style>\n",
       "<table border=\"1\" class=\"dataframe\">\n",
       "  <thead>\n",
       "    <tr style=\"text-align: right;\">\n",
       "      <th></th>\n",
       "      <th>Unnamed: 0</th>\n",
       "      <th>name</th>\n",
       "      <th>age</th>\n",
       "      <th>gender</th>\n",
       "      <th>description</th>\n",
       "      <th>source_company</th>\n",
       "      <th>source_role</th>\n",
       "      <th>current_title</th>\n",
       "      <th>current_company</th>\n",
       "      <th>current_company_location</th>\n",
       "      <th>from</th>\n",
       "      <th>to</th>\n",
       "      <th>prev_title_1</th>\n",
       "      <th>prev_company_1</th>\n",
       "      <th>prev_exp_location_1</th>\n",
       "      <th>prev_exp_from_1</th>\n",
       "      <th>prev_exp_to_1</th>\n",
       "      <th>prev_exp_duration_months_1</th>\n",
       "      <th>prev_exp_duration_years_1</th>\n",
       "      <th>prev_title_2</th>\n",
       "      <th>prev_company_2</th>\n",
       "      <th>prev_exp_location_2</th>\n",
       "      <th>prev_exp_from_2</th>\n",
       "      <th>prev_exp_to_2</th>\n",
       "      <th>prev_exp_duration_months_2</th>\n",
       "      <th>...</th>\n",
       "      <th>prev_exp_from_5</th>\n",
       "      <th>prev_exp_to_5</th>\n",
       "      <th>prev_exp_duration_months_5</th>\n",
       "      <th>prev_exp_duration_years_5</th>\n",
       "      <th>total_months_of_experience</th>\n",
       "      <th>total_years_of_experience</th>\n",
       "      <th>has_phd</th>\n",
       "      <th>major_phd</th>\n",
       "      <th>institution_phd</th>\n",
       "      <th>phd_start_date</th>\n",
       "      <th>phd_end_date</th>\n",
       "      <th>has_masters</th>\n",
       "      <th>major_masters</th>\n",
       "      <th>institution_masters</th>\n",
       "      <th>masters_start_date</th>\n",
       "      <th>masters_end_date</th>\n",
       "      <th>has_bachelors</th>\n",
       "      <th>major_bachelors</th>\n",
       "      <th>institution_bachelors</th>\n",
       "      <th>bachelors_start_date</th>\n",
       "      <th>bachelors_end_date</th>\n",
       "      <th>major_other</th>\n",
       "      <th>institution_other</th>\n",
       "      <th>other_start_date</th>\n",
       "      <th>other_end_date</th>\n",
       "    </tr>\n",
       "  </thead>\n",
       "  <tbody>\n",
       "    <tr>\n",
       "      <th>1</th>\n",
       "      <td>Regie Dela Cueva</td>\n",
       "      <td>Regie Dela Cueva</td>\n",
       "      <td>38.0</td>\n",
       "      <td>Male</td>\n",
       "      <td>Regie Dela Cueva is a Sales Manager at NETSUIT...</td>\n",
       "      <td>Amazon</td>\n",
       "      <td>HR</td>\n",
       "      <td>Sales Manager</td>\n",
       "      <td>NETSUITE INC</td>\n",
       "      <td>Frankfurt am Main, Hessen, Germany</td>\n",
       "      <td>2016-06-01 00:00:00</td>\n",
       "      <td>NaN</td>\n",
       "      <td>Human Resources Recruiter</td>\n",
       "      <td>Amazon.com Inc.</td>\n",
       "      <td>Frankfurt am Main, Hessen, Germany</td>\n",
       "      <td>2017-07-01 00:00:00</td>\n",
       "      <td>NaN</td>\n",
       "      <td>NaN</td>\n",
       "      <td>NaN</td>\n",
       "      <td>Senior Recruiting Specialist</td>\n",
       "      <td>Zalando SE</td>\n",
       "      <td>Munich Area, Germany</td>\n",
       "      <td>2009-08-01 00:00:00</td>\n",
       "      <td>2010-06-01 00:00:00</td>\n",
       "      <td>10.0</td>\n",
       "      <td>...</td>\n",
       "      <td>NaN</td>\n",
       "      <td>NaN</td>\n",
       "      <td>NaN</td>\n",
       "      <td>NaN</td>\n",
       "      <td>10.0</td>\n",
       "      <td>0.83</td>\n",
       "      <td>False</td>\n",
       "      <td>NaN</td>\n",
       "      <td>NaN</td>\n",
       "      <td>NaN</td>\n",
       "      <td>NaN</td>\n",
       "      <td>False</td>\n",
       "      <td>NaN</td>\n",
       "      <td>NaN</td>\n",
       "      <td>NaN</td>\n",
       "      <td>NaN</td>\n",
       "      <td>NaN</td>\n",
       "      <td>NaN</td>\n",
       "      <td>NaN</td>\n",
       "      <td>NaN</td>\n",
       "      <td>NaN</td>\n",
       "      <td>NaN</td>\n",
       "      <td>NaN</td>\n",
       "      <td>NaN</td>\n",
       "      <td>NaN</td>\n",
       "    </tr>\n",
       "    <tr>\n",
       "      <th>2</th>\n",
       "      <td>Safia Khan</td>\n",
       "      <td>Safia Khan</td>\n",
       "      <td>28.0</td>\n",
       "      <td>Female</td>\n",
       "      <td>Data-driven innovation that impacts and improv...</td>\n",
       "      <td>Amazon</td>\n",
       "      <td>HR</td>\n",
       "      <td>Sr. Human Resources</td>\n",
       "      <td>Amazon.com Inc.</td>\n",
       "      <td>Greater Los Angeles Area</td>\n",
       "      <td>2019-11-01 00:00:00</td>\n",
       "      <td>NaN</td>\n",
       "      <td>Adjunct Professor of Management</td>\n",
       "      <td>Chaminade University of Honolulu</td>\n",
       "      <td>Remote</td>\n",
       "      <td>2018-01-01 00:00:00</td>\n",
       "      <td>NaN</td>\n",
       "      <td>NaN</td>\n",
       "      <td>NaN</td>\n",
       "      <td>HR Employee Engagement and Communication</td>\n",
       "      <td>Warner Bros. Entertainment Group of Companies</td>\n",
       "      <td>Burbank, Califronia</td>\n",
       "      <td>2016-08-01 00:00:00</td>\n",
       "      <td>NaN</td>\n",
       "      <td>NaN</td>\n",
       "      <td>...</td>\n",
       "      <td>2017-04-01 00:00:00</td>\n",
       "      <td>2018-08-01 00:00:00</td>\n",
       "      <td>16.0</td>\n",
       "      <td>1.0</td>\n",
       "      <td>23.0</td>\n",
       "      <td>1.92</td>\n",
       "      <td>False</td>\n",
       "      <td>NaN</td>\n",
       "      <td>NaN</td>\n",
       "      <td>NaN</td>\n",
       "      <td>NaN</td>\n",
       "      <td>True</td>\n",
       "      <td>NaN</td>\n",
       "      <td>Claremont Graduate University</td>\n",
       "      <td>2015.0</td>\n",
       "      <td>2017.0</td>\n",
       "      <td>True</td>\n",
       "      <td>NaN</td>\n",
       "      <td>Oregon State University</td>\n",
       "      <td>2011.0</td>\n",
       "      <td>2014.0</td>\n",
       "      <td>NaN</td>\n",
       "      <td>NaN</td>\n",
       "      <td>NaN</td>\n",
       "      <td>NaN</td>\n",
       "    </tr>\n",
       "    <tr>\n",
       "      <th>6</th>\n",
       "      <td>Alex Golod</td>\n",
       "      <td>Alex Golod</td>\n",
       "      <td>56.0</td>\n",
       "      <td>Male</td>\n",
       "      <td>Alex Golod is the founder and president of Fus...</td>\n",
       "      <td>Amazon</td>\n",
       "      <td>HR</td>\n",
       "      <td>Founder and President</td>\n",
       "      <td>Fusion Software Solutions</td>\n",
       "      <td>Northbrook, Illinois</td>\n",
       "      <td>2007-01-01 00:00:00</td>\n",
       "      <td>NaN</td>\n",
       "      <td>Advisor and Angel Investor</td>\n",
       "      <td>Mirow</td>\n",
       "      <td>Greater New York City Area</td>\n",
       "      <td>2018-11-01 00:00:00</td>\n",
       "      <td>NaN</td>\n",
       "      <td>NaN</td>\n",
       "      <td>NaN</td>\n",
       "      <td>Strategic Advisor and Investor</td>\n",
       "      <td>Blip.fm</td>\n",
       "      <td>San Francisco, California</td>\n",
       "      <td>2018-11-01 00:00:00</td>\n",
       "      <td>NaN</td>\n",
       "      <td>NaN</td>\n",
       "      <td>...</td>\n",
       "      <td>2017-11-01 00:00:00</td>\n",
       "      <td>NaN</td>\n",
       "      <td>NaN</td>\n",
       "      <td>NaN</td>\n",
       "      <td>0.0</td>\n",
       "      <td>0.00</td>\n",
       "      <td>False</td>\n",
       "      <td>NaN</td>\n",
       "      <td>NaN</td>\n",
       "      <td>NaN</td>\n",
       "      <td>NaN</td>\n",
       "      <td>True</td>\n",
       "      <td>IT Project Management</td>\n",
       "      <td>GEORGE WASHINGTON UNIVERSITY</td>\n",
       "      <td>2000.0</td>\n",
       "      <td>2003.0</td>\n",
       "      <td>True</td>\n",
       "      <td>NaN</td>\n",
       "      <td>NaN</td>\n",
       "      <td>NaN</td>\n",
       "      <td>NaN</td>\n",
       "      <td>NaN</td>\n",
       "      <td>NaN</td>\n",
       "      <td>NaN</td>\n",
       "      <td>NaN</td>\n",
       "    </tr>\n",
       "    <tr>\n",
       "      <th>9</th>\n",
       "      <td>Audrey Mondragon</td>\n",
       "      <td>Audrey Mondragon</td>\n",
       "      <td>27.0</td>\n",
       "      <td>Female</td>\n",
       "      <td>Human Resources Specialist at Amazon Web Services</td>\n",
       "      <td>Amazon</td>\n",
       "      <td>HR</td>\n",
       "      <td>Human Resources Specialist</td>\n",
       "      <td>Amazon.com Inc.</td>\n",
       "      <td>Palo Alto, California</td>\n",
       "      <td>2017-08-01 00:00:00</td>\n",
       "      <td>NaN</td>\n",
       "      <td>Area Manager</td>\n",
       "      <td>Amazon.com Inc.</td>\n",
       "      <td>Tracy, California</td>\n",
       "      <td>2016-02-01 00:00:00</td>\n",
       "      <td>2016-10-01 00:00:00</td>\n",
       "      <td>8.0</td>\n",
       "      <td>1.0</td>\n",
       "      <td>Team Lead</td>\n",
       "      <td>Staff Management</td>\n",
       "      <td>Tracy, California</td>\n",
       "      <td>2015-10-01 00:00:00</td>\n",
       "      <td>2016-02-01 00:00:00</td>\n",
       "      <td>4.0</td>\n",
       "      <td>...</td>\n",
       "      <td>NaN</td>\n",
       "      <td>NaN</td>\n",
       "      <td>NaN</td>\n",
       "      <td>NaN</td>\n",
       "      <td>12.0</td>\n",
       "      <td>1.00</td>\n",
       "      <td>False</td>\n",
       "      <td>NaN</td>\n",
       "      <td>NaN</td>\n",
       "      <td>NaN</td>\n",
       "      <td>NaN</td>\n",
       "      <td>False</td>\n",
       "      <td>NaN</td>\n",
       "      <td>NaN</td>\n",
       "      <td>NaN</td>\n",
       "      <td>NaN</td>\n",
       "      <td>True</td>\n",
       "      <td>Psychology</td>\n",
       "      <td>University of California Davis</td>\n",
       "      <td>2011.0</td>\n",
       "      <td>2015.0</td>\n",
       "      <td>NaN</td>\n",
       "      <td>Turlock High School</td>\n",
       "      <td>2007.0</td>\n",
       "      <td>2011.0</td>\n",
       "    </tr>\n",
       "    <tr>\n",
       "      <th>14</th>\n",
       "      <td>Rachel Silverman</td>\n",
       "      <td>Rachel Silverman</td>\n",
       "      <td>26.0</td>\n",
       "      <td>Female</td>\n",
       "      <td>Rachel Silverman is a Sr Human Resources Assis...</td>\n",
       "      <td>Amazon</td>\n",
       "      <td>HR</td>\n",
       "      <td>Sr Human Resources Assistant</td>\n",
       "      <td>Amazon.com Inc.</td>\n",
       "      <td>NaN</td>\n",
       "      <td>2017-05-01 00:00:00</td>\n",
       "      <td>NaN</td>\n",
       "      <td>HR Shared Services Coordinator</td>\n",
       "      <td>Hitachi Vantara</td>\n",
       "      <td>NaN</td>\n",
       "      <td>2019-02-01 00:00:00</td>\n",
       "      <td>NaN</td>\n",
       "      <td>NaN</td>\n",
       "      <td>NaN</td>\n",
       "      <td>Human Resources Intern</td>\n",
       "      <td>Shedd Aquarium</td>\n",
       "      <td>NaN</td>\n",
       "      <td>2015-05-01 00:00:00</td>\n",
       "      <td>2015-08-01 00:00:00</td>\n",
       "      <td>3.0</td>\n",
       "      <td>...</td>\n",
       "      <td>NaN</td>\n",
       "      <td>NaN</td>\n",
       "      <td>NaN</td>\n",
       "      <td>NaN</td>\n",
       "      <td>3.0</td>\n",
       "      <td>0.25</td>\n",
       "      <td>False</td>\n",
       "      <td>NaN</td>\n",
       "      <td>NaN</td>\n",
       "      <td>NaN</td>\n",
       "      <td>NaN</td>\n",
       "      <td>False</td>\n",
       "      <td>NaN</td>\n",
       "      <td>NaN</td>\n",
       "      <td>NaN</td>\n",
       "      <td>NaN</td>\n",
       "      <td>True</td>\n",
       "      <td>Business</td>\n",
       "      <td>Purdue University</td>\n",
       "      <td>2013.0</td>\n",
       "      <td>2017.0</td>\n",
       "      <td>NaN</td>\n",
       "      <td>NaN</td>\n",
       "      <td>NaN</td>\n",
       "      <td>NaN</td>\n",
       "    </tr>\n",
       "    <tr>\n",
       "      <th>...</th>\n",
       "      <td>...</td>\n",
       "      <td>...</td>\n",
       "      <td>...</td>\n",
       "      <td>...</td>\n",
       "      <td>...</td>\n",
       "      <td>...</td>\n",
       "      <td>...</td>\n",
       "      <td>...</td>\n",
       "      <td>...</td>\n",
       "      <td>...</td>\n",
       "      <td>...</td>\n",
       "      <td>...</td>\n",
       "      <td>...</td>\n",
       "      <td>...</td>\n",
       "      <td>...</td>\n",
       "      <td>...</td>\n",
       "      <td>...</td>\n",
       "      <td>...</td>\n",
       "      <td>...</td>\n",
       "      <td>...</td>\n",
       "      <td>...</td>\n",
       "      <td>...</td>\n",
       "      <td>...</td>\n",
       "      <td>...</td>\n",
       "      <td>...</td>\n",
       "      <td>...</td>\n",
       "      <td>...</td>\n",
       "      <td>...</td>\n",
       "      <td>...</td>\n",
       "      <td>...</td>\n",
       "      <td>...</td>\n",
       "      <td>...</td>\n",
       "      <td>...</td>\n",
       "      <td>...</td>\n",
       "      <td>...</td>\n",
       "      <td>...</td>\n",
       "      <td>...</td>\n",
       "      <td>...</td>\n",
       "      <td>...</td>\n",
       "      <td>...</td>\n",
       "      <td>...</td>\n",
       "      <td>...</td>\n",
       "      <td>...</td>\n",
       "      <td>...</td>\n",
       "      <td>...</td>\n",
       "      <td>...</td>\n",
       "      <td>...</td>\n",
       "      <td>...</td>\n",
       "      <td>...</td>\n",
       "      <td>...</td>\n",
       "      <td>...</td>\n",
       "    </tr>\n",
       "    <tr>\n",
       "      <th>985</th>\n",
       "      <td>Adnan Zulfiqar</td>\n",
       "      <td>Adnan Zulfiqar</td>\n",
       "      <td>27.0</td>\n",
       "      <td>Male</td>\n",
       "      <td>Adnan Zulfiqar is an Human Resources Recruiter...</td>\n",
       "      <td>Amazon</td>\n",
       "      <td>HR</td>\n",
       "      <td>Investment</td>\n",
       "      <td>Nayyarinternational</td>\n",
       "      <td>NaN</td>\n",
       "      <td>2012-03-01 00:00:00</td>\n",
       "      <td>NaN</td>\n",
       "      <td>Human Resources Recruiter</td>\n",
       "      <td>Amazon.com Inc.</td>\n",
       "      <td>Leipzig, Sachsen, Germany</td>\n",
       "      <td>2017-10-01 00:00:00</td>\n",
       "      <td>NaN</td>\n",
       "      <td>NaN</td>\n",
       "      <td>NaN</td>\n",
       "      <td>NaN</td>\n",
       "      <td>NaN</td>\n",
       "      <td>NaN</td>\n",
       "      <td>NaN</td>\n",
       "      <td>NaN</td>\n",
       "      <td>NaN</td>\n",
       "      <td>...</td>\n",
       "      <td>NaN</td>\n",
       "      <td>NaN</td>\n",
       "      <td>NaN</td>\n",
       "      <td>NaN</td>\n",
       "      <td>0.0</td>\n",
       "      <td>0.00</td>\n",
       "      <td>False</td>\n",
       "      <td>NaN</td>\n",
       "      <td>NaN</td>\n",
       "      <td>NaN</td>\n",
       "      <td>NaN</td>\n",
       "      <td>False</td>\n",
       "      <td>NaN</td>\n",
       "      <td>NaN</td>\n",
       "      <td>NaN</td>\n",
       "      <td>NaN</td>\n",
       "      <td>True</td>\n",
       "      <td>NaN</td>\n",
       "      <td>London School of Business and Finance (LSBF)</td>\n",
       "      <td>2012.0</td>\n",
       "      <td>2015.0</td>\n",
       "      <td>Accounting and Finance</td>\n",
       "      <td>A-Levels</td>\n",
       "      <td>2009.0</td>\n",
       "      <td>2012.0</td>\n",
       "    </tr>\n",
       "    <tr>\n",
       "      <th>990</th>\n",
       "      <td>Amanda Wong</td>\n",
       "      <td>Amanda Wong</td>\n",
       "      <td>23.0</td>\n",
       "      <td>Female</td>\n",
       "      <td>Experienced Senior Human Resources Assistant w...</td>\n",
       "      <td>Amazon</td>\n",
       "      <td>HR</td>\n",
       "      <td>Senior Human Resources Assistant</td>\n",
       "      <td>Amazon.com Inc.</td>\n",
       "      <td>NaN</td>\n",
       "      <td>2018-06-01 00:00:00</td>\n",
       "      <td>NaN</td>\n",
       "      <td>Human Resources Intern/Administrative Assistant</td>\n",
       "      <td>E &amp; S Home Care Solutions</td>\n",
       "      <td>South Plainfield, New Jersey</td>\n",
       "      <td>2017-05-01 00:00:00</td>\n",
       "      <td>2017-08-01 00:00:00</td>\n",
       "      <td>3.0</td>\n",
       "      <td>0.0</td>\n",
       "      <td>Retail Assistant</td>\n",
       "      <td>Primark</td>\n",
       "      <td>Freehold, New Jersey</td>\n",
       "      <td>2016-06-01 00:00:00</td>\n",
       "      <td>2016-08-01 00:00:00</td>\n",
       "      <td>2.0</td>\n",
       "      <td>...</td>\n",
       "      <td>NaN</td>\n",
       "      <td>NaN</td>\n",
       "      <td>NaN</td>\n",
       "      <td>NaN</td>\n",
       "      <td>5.0</td>\n",
       "      <td>0.42</td>\n",
       "      <td>False</td>\n",
       "      <td>NaN</td>\n",
       "      <td>NaN</td>\n",
       "      <td>NaN</td>\n",
       "      <td>NaN</td>\n",
       "      <td>False</td>\n",
       "      <td>NaN</td>\n",
       "      <td>NaN</td>\n",
       "      <td>NaN</td>\n",
       "      <td>NaN</td>\n",
       "      <td>True</td>\n",
       "      <td>NaN</td>\n",
       "      <td>Rutgers University</td>\n",
       "      <td>2016.0</td>\n",
       "      <td>2018.0</td>\n",
       "      <td>NaN</td>\n",
       "      <td>University of Maryland College Park</td>\n",
       "      <td>2014.0</td>\n",
       "      <td>2016.0</td>\n",
       "    </tr>\n",
       "    <tr>\n",
       "      <th>991</th>\n",
       "      <td>Kamakshi Devi</td>\n",
       "      <td>Kamakshi Devi</td>\n",
       "      <td>26.0</td>\n",
       "      <td>Female</td>\n",
       "      <td>People oriented, young dynamic individual with...</td>\n",
       "      <td>Amazon</td>\n",
       "      <td>HR</td>\n",
       "      <td>human resources</td>\n",
       "      <td>Amazon.com Inc.</td>\n",
       "      <td>Bengaluru Area, India</td>\n",
       "      <td>2019-09-01 00:00:00</td>\n",
       "      <td>NaN</td>\n",
       "      <td>Manager</td>\n",
       "      <td>Trent Limited A Tata Enterprises.</td>\n",
       "      <td>Bangalore, Karnataka, India</td>\n",
       "      <td>2019-05-01 00:00:00</td>\n",
       "      <td>2019-09-01 00:00:00</td>\n",
       "      <td>4.0</td>\n",
       "      <td>0.0</td>\n",
       "      <td>Management Intern</td>\n",
       "      <td>Nikkos Store</td>\n",
       "      <td>Bangalore, Karnataka, India</td>\n",
       "      <td>2018-04-01 00:00:00</td>\n",
       "      <td>2018-06-01 00:00:00</td>\n",
       "      <td>2.0</td>\n",
       "      <td>...</td>\n",
       "      <td>NaN</td>\n",
       "      <td>NaN</td>\n",
       "      <td>NaN</td>\n",
       "      <td>NaN</td>\n",
       "      <td>6.0</td>\n",
       "      <td>0.50</td>\n",
       "      <td>False</td>\n",
       "      <td>NaN</td>\n",
       "      <td>NaN</td>\n",
       "      <td>NaN</td>\n",
       "      <td>NaN</td>\n",
       "      <td>True</td>\n",
       "      <td>Business analytics</td>\n",
       "      <td>University at Buffalo School of Management, Th...</td>\n",
       "      <td>2017.0</td>\n",
       "      <td>2019.0</td>\n",
       "      <td>True</td>\n",
       "      <td>Electronics and Instrumentation</td>\n",
       "      <td>Amrita Vishwa Vidyapeetham, Coimbatore</td>\n",
       "      <td>2013.0</td>\n",
       "      <td>2017.0</td>\n",
       "      <td>NaN</td>\n",
       "      <td>NaN</td>\n",
       "      <td>NaN</td>\n",
       "      <td>NaN</td>\n",
       "    </tr>\n",
       "    <tr>\n",
       "      <th>998</th>\n",
       "      <td>Andrei Marin-Balulescu</td>\n",
       "      <td>Andrei Marin-Balulescu</td>\n",
       "      <td>26.0</td>\n",
       "      <td>Male</td>\n",
       "      <td>Experienced in Human Resources with internatio...</td>\n",
       "      <td>Amazon</td>\n",
       "      <td>HR</td>\n",
       "      <td>Human Resources for UK Offices</td>\n",
       "      <td>Amazon.com Inc.</td>\n",
       "      <td>Czech Republic</td>\n",
       "      <td>2017-09-01 00:00:00</td>\n",
       "      <td>NaN</td>\n",
       "      <td>Resourcer</td>\n",
       "      <td>Nonstop Recruitment</td>\n",
       "      <td>Czech Republic</td>\n",
       "      <td>2017-08-01 00:00:00</td>\n",
       "      <td>2017-09-01 00:00:00</td>\n",
       "      <td>1.0</td>\n",
       "      <td>0.0</td>\n",
       "      <td>European Business Development Analyst</td>\n",
       "      <td>WanderZoom</td>\n",
       "      <td>Kuala Lumpur, Kuala Lumpur, Malaysia</td>\n",
       "      <td>2016-06-01 00:00:00</td>\n",
       "      <td>2016-08-01 00:00:00</td>\n",
       "      <td>2.0</td>\n",
       "      <td>...</td>\n",
       "      <td>NaN</td>\n",
       "      <td>NaN</td>\n",
       "      <td>NaN</td>\n",
       "      <td>NaN</td>\n",
       "      <td>12.0</td>\n",
       "      <td>1.00</td>\n",
       "      <td>False</td>\n",
       "      <td>NaN</td>\n",
       "      <td>NaN</td>\n",
       "      <td>NaN</td>\n",
       "      <td>NaN</td>\n",
       "      <td>False</td>\n",
       "      <td>NaN</td>\n",
       "      <td>NaN</td>\n",
       "      <td>NaN</td>\n",
       "      <td>NaN</td>\n",
       "      <td>True</td>\n",
       "      <td>Business Management and Theatre Studies (Joint...</td>\n",
       "      <td>University of Derby</td>\n",
       "      <td>2013.0</td>\n",
       "      <td>2017.0</td>\n",
       "      <td>Mathematics and Computer Science</td>\n",
       "      <td>Gheorghe Lazar National College</td>\n",
       "      <td>2009.0</td>\n",
       "      <td>2013.0</td>\n",
       "    </tr>\n",
       "    <tr>\n",
       "      <th>999</th>\n",
       "      <td>Dylan Endlich</td>\n",
       "      <td>Dylan Endlich</td>\n",
       "      <td>24.0</td>\n",
       "      <td>Male</td>\n",
       "      <td>Senior Human Resources Assistant at Amazon</td>\n",
       "      <td>Amazon</td>\n",
       "      <td>HR</td>\n",
       "      <td>Senior Human Resources Assistant</td>\n",
       "      <td>Amazon.com Inc.</td>\n",
       "      <td>Harrisburg, Pennsylvania Area</td>\n",
       "      <td>2018-04-01 00:00:00</td>\n",
       "      <td>NaN</td>\n",
       "      <td>Human Resources Intern, DHL Express Americas</td>\n",
       "      <td>DHL</td>\n",
       "      <td>Plantation, Florida</td>\n",
       "      <td>2017-05-01 00:00:00</td>\n",
       "      <td>2017-08-01 00:00:00</td>\n",
       "      <td>3.0</td>\n",
       "      <td>0.0</td>\n",
       "      <td>Data Collector - Bureau of Economic &amp; Business...</td>\n",
       "      <td>University of Florida</td>\n",
       "      <td>Gainesville, Florida</td>\n",
       "      <td>2016-08-01 00:00:00</td>\n",
       "      <td>2017-03-01 00:00:00</td>\n",
       "      <td>7.0</td>\n",
       "      <td>...</td>\n",
       "      <td>NaN</td>\n",
       "      <td>NaN</td>\n",
       "      <td>NaN</td>\n",
       "      <td>NaN</td>\n",
       "      <td>13.0</td>\n",
       "      <td>1.08</td>\n",
       "      <td>False</td>\n",
       "      <td>NaN</td>\n",
       "      <td>NaN</td>\n",
       "      <td>NaN</td>\n",
       "      <td>NaN</td>\n",
       "      <td>False</td>\n",
       "      <td>NaN</td>\n",
       "      <td>NaN</td>\n",
       "      <td>NaN</td>\n",
       "      <td>NaN</td>\n",
       "      <td>True</td>\n",
       "      <td>Food and Agribusiness Marketing &amp; Management</td>\n",
       "      <td>University of Florida</td>\n",
       "      <td>2015.0</td>\n",
       "      <td>2017.0</td>\n",
       "      <td>NaN</td>\n",
       "      <td>NaN</td>\n",
       "      <td>NaN</td>\n",
       "      <td>NaN</td>\n",
       "    </tr>\n",
       "  </tbody>\n",
       "</table>\n",
       "<p>250 rows × 68 columns</p>\n",
       "</div>"
      ],
      "text/plain": [
       "                 Unnamed: 0                    name   age  gender  \\\n",
       "1          Regie Dela Cueva        Regie Dela Cueva  38.0    Male   \n",
       "2                Safia Khan              Safia Khan  28.0  Female   \n",
       "6                Alex Golod              Alex Golod  56.0    Male   \n",
       "9          Audrey Mondragon        Audrey Mondragon  27.0  Female   \n",
       "14         Rachel Silverman        Rachel Silverman  26.0  Female   \n",
       "..                      ...                     ...   ...     ...   \n",
       "985          Adnan Zulfiqar          Adnan Zulfiqar  27.0    Male   \n",
       "990             Amanda Wong             Amanda Wong  23.0  Female   \n",
       "991           Kamakshi Devi           Kamakshi Devi  26.0  Female   \n",
       "998  Andrei Marin-Balulescu  Andrei Marin-Balulescu  26.0    Male   \n",
       "999           Dylan Endlich           Dylan Endlich  24.0    Male   \n",
       "\n",
       "                                           description source_company  \\\n",
       "1    Regie Dela Cueva is a Sales Manager at NETSUIT...         Amazon   \n",
       "2    Data-driven innovation that impacts and improv...         Amazon   \n",
       "6    Alex Golod is the founder and president of Fus...         Amazon   \n",
       "9    Human Resources Specialist at Amazon Web Services         Amazon   \n",
       "14   Rachel Silverman is a Sr Human Resources Assis...         Amazon   \n",
       "..                                                 ...            ...   \n",
       "985  Adnan Zulfiqar is an Human Resources Recruiter...         Amazon   \n",
       "990  Experienced Senior Human Resources Assistant w...         Amazon   \n",
       "991  People oriented, young dynamic individual with...         Amazon   \n",
       "998  Experienced in Human Resources with internatio...         Amazon   \n",
       "999         Senior Human Resources Assistant at Amazon         Amazon   \n",
       "\n",
       "    source_role                     current_title            current_company  \\\n",
       "1            HR                     Sales Manager               NETSUITE INC   \n",
       "2            HR               Sr. Human Resources            Amazon.com Inc.   \n",
       "6            HR             Founder and President  Fusion Software Solutions   \n",
       "9            HR        Human Resources Specialist            Amazon.com Inc.   \n",
       "14           HR      Sr Human Resources Assistant            Amazon.com Inc.   \n",
       "..          ...                               ...                        ...   \n",
       "985          HR                        Investment        Nayyarinternational   \n",
       "990          HR  Senior Human Resources Assistant            Amazon.com Inc.   \n",
       "991          HR                   human resources            Amazon.com Inc.   \n",
       "998          HR    Human Resources for UK Offices            Amazon.com Inc.   \n",
       "999          HR  Senior Human Resources Assistant            Amazon.com Inc.   \n",
       "\n",
       "               current_company_location                 from   to  \\\n",
       "1    Frankfurt am Main, Hessen, Germany  2016-06-01 00:00:00  NaN   \n",
       "2              Greater Los Angeles Area  2019-11-01 00:00:00  NaN   \n",
       "6                  Northbrook, Illinois  2007-01-01 00:00:00  NaN   \n",
       "9                 Palo Alto, California  2017-08-01 00:00:00  NaN   \n",
       "14                                  NaN  2017-05-01 00:00:00  NaN   \n",
       "..                                  ...                  ...  ...   \n",
       "985                                 NaN  2012-03-01 00:00:00  NaN   \n",
       "990                                 NaN  2018-06-01 00:00:00  NaN   \n",
       "991               Bengaluru Area, India  2019-09-01 00:00:00  NaN   \n",
       "998                      Czech Republic  2017-09-01 00:00:00  NaN   \n",
       "999       Harrisburg, Pennsylvania Area  2018-04-01 00:00:00  NaN   \n",
       "\n",
       "                                        prev_title_1  \\\n",
       "1                          Human Resources Recruiter   \n",
       "2                    Adjunct Professor of Management   \n",
       "6                         Advisor and Angel Investor   \n",
       "9                                       Area Manager   \n",
       "14                    HR Shared Services Coordinator   \n",
       "..                                               ...   \n",
       "985                        Human Resources Recruiter   \n",
       "990  Human Resources Intern/Administrative Assistant   \n",
       "991                                          Manager   \n",
       "998                                        Resourcer   \n",
       "999     Human Resources Intern, DHL Express Americas   \n",
       "\n",
       "                        prev_company_1                 prev_exp_location_1  \\\n",
       "1                      Amazon.com Inc.  Frankfurt am Main, Hessen, Germany   \n",
       "2     Chaminade University of Honolulu                              Remote   \n",
       "6                                Mirow          Greater New York City Area   \n",
       "9                      Amazon.com Inc.                   Tracy, California   \n",
       "14                     Hitachi Vantara                                 NaN   \n",
       "..                                 ...                                 ...   \n",
       "985                    Amazon.com Inc.           Leipzig, Sachsen, Germany   \n",
       "990          E & S Home Care Solutions        South Plainfield, New Jersey   \n",
       "991  Trent Limited A Tata Enterprises.         Bangalore, Karnataka, India   \n",
       "998                Nonstop Recruitment                      Czech Republic   \n",
       "999                                DHL                 Plantation, Florida   \n",
       "\n",
       "         prev_exp_from_1        prev_exp_to_1  prev_exp_duration_months_1  \\\n",
       "1    2017-07-01 00:00:00                  NaN                         NaN   \n",
       "2    2018-01-01 00:00:00                  NaN                         NaN   \n",
       "6    2018-11-01 00:00:00                  NaN                         NaN   \n",
       "9    2016-02-01 00:00:00  2016-10-01 00:00:00                         8.0   \n",
       "14   2019-02-01 00:00:00                  NaN                         NaN   \n",
       "..                   ...                  ...                         ...   \n",
       "985  2017-10-01 00:00:00                  NaN                         NaN   \n",
       "990  2017-05-01 00:00:00  2017-08-01 00:00:00                         3.0   \n",
       "991  2019-05-01 00:00:00  2019-09-01 00:00:00                         4.0   \n",
       "998  2017-08-01 00:00:00  2017-09-01 00:00:00                         1.0   \n",
       "999  2017-05-01 00:00:00  2017-08-01 00:00:00                         3.0   \n",
       "\n",
       "     prev_exp_duration_years_1  \\\n",
       "1                          NaN   \n",
       "2                          NaN   \n",
       "6                          NaN   \n",
       "9                          1.0   \n",
       "14                         NaN   \n",
       "..                         ...   \n",
       "985                        NaN   \n",
       "990                        0.0   \n",
       "991                        0.0   \n",
       "998                        0.0   \n",
       "999                        0.0   \n",
       "\n",
       "                                          prev_title_2  \\\n",
       "1                         Senior Recruiting Specialist   \n",
       "2             HR Employee Engagement and Communication   \n",
       "6                       Strategic Advisor and Investor   \n",
       "9                                            Team Lead   \n",
       "14                              Human Resources Intern   \n",
       "..                                                 ...   \n",
       "985                                                NaN   \n",
       "990                                   Retail Assistant   \n",
       "991                                  Management Intern   \n",
       "998              European Business Development Analyst   \n",
       "999  Data Collector - Bureau of Economic & Business...   \n",
       "\n",
       "                                    prev_company_2  \\\n",
       "1                                       Zalando SE   \n",
       "2    Warner Bros. Entertainment Group of Companies   \n",
       "6                                          Blip.fm   \n",
       "9                                 Staff Management   \n",
       "14                                  Shedd Aquarium   \n",
       "..                                             ...   \n",
       "985                                            NaN   \n",
       "990                                        Primark   \n",
       "991                                   Nikkos Store   \n",
       "998                                     WanderZoom   \n",
       "999                          University of Florida   \n",
       "\n",
       "                      prev_exp_location_2      prev_exp_from_2  \\\n",
       "1                    Munich Area, Germany  2009-08-01 00:00:00   \n",
       "2                     Burbank, Califronia  2016-08-01 00:00:00   \n",
       "6               San Francisco, California  2018-11-01 00:00:00   \n",
       "9                       Tracy, California  2015-10-01 00:00:00   \n",
       "14                                    NaN  2015-05-01 00:00:00   \n",
       "..                                    ...                  ...   \n",
       "985                                   NaN                  NaN   \n",
       "990                  Freehold, New Jersey  2016-06-01 00:00:00   \n",
       "991           Bangalore, Karnataka, India  2018-04-01 00:00:00   \n",
       "998  Kuala Lumpur, Kuala Lumpur, Malaysia  2016-06-01 00:00:00   \n",
       "999                  Gainesville, Florida  2016-08-01 00:00:00   \n",
       "\n",
       "           prev_exp_to_2  prev_exp_duration_months_2  ...  \\\n",
       "1    2010-06-01 00:00:00                        10.0  ...   \n",
       "2                    NaN                         NaN  ...   \n",
       "6                    NaN                         NaN  ...   \n",
       "9    2016-02-01 00:00:00                         4.0  ...   \n",
       "14   2015-08-01 00:00:00                         3.0  ...   \n",
       "..                   ...                         ...  ...   \n",
       "985                  NaN                         NaN  ...   \n",
       "990  2016-08-01 00:00:00                         2.0  ...   \n",
       "991  2018-06-01 00:00:00                         2.0  ...   \n",
       "998  2016-08-01 00:00:00                         2.0  ...   \n",
       "999  2017-03-01 00:00:00                         7.0  ...   \n",
       "\n",
       "         prev_exp_from_5        prev_exp_to_5 prev_exp_duration_months_5  \\\n",
       "1                    NaN                  NaN                        NaN   \n",
       "2    2017-04-01 00:00:00  2018-08-01 00:00:00                       16.0   \n",
       "6    2017-11-01 00:00:00                  NaN                        NaN   \n",
       "9                    NaN                  NaN                        NaN   \n",
       "14                   NaN                  NaN                        NaN   \n",
       "..                   ...                  ...                        ...   \n",
       "985                  NaN                  NaN                        NaN   \n",
       "990                  NaN                  NaN                        NaN   \n",
       "991                  NaN                  NaN                        NaN   \n",
       "998                  NaN                  NaN                        NaN   \n",
       "999                  NaN                  NaN                        NaN   \n",
       "\n",
       "    prev_exp_duration_years_5 total_months_of_experience  \\\n",
       "1                         NaN                       10.0   \n",
       "2                         1.0                       23.0   \n",
       "6                         NaN                        0.0   \n",
       "9                         NaN                       12.0   \n",
       "14                        NaN                        3.0   \n",
       "..                        ...                        ...   \n",
       "985                       NaN                        0.0   \n",
       "990                       NaN                        5.0   \n",
       "991                       NaN                        6.0   \n",
       "998                       NaN                       12.0   \n",
       "999                       NaN                       13.0   \n",
       "\n",
       "    total_years_of_experience  has_phd  major_phd institution_phd  \\\n",
       "1                        0.83    False        NaN             NaN   \n",
       "2                        1.92    False        NaN             NaN   \n",
       "6                        0.00    False        NaN             NaN   \n",
       "9                        1.00    False        NaN             NaN   \n",
       "14                       0.25    False        NaN             NaN   \n",
       "..                        ...      ...        ...             ...   \n",
       "985                      0.00    False        NaN             NaN   \n",
       "990                      0.42    False        NaN             NaN   \n",
       "991                      0.50    False        NaN             NaN   \n",
       "998                      1.00    False        NaN             NaN   \n",
       "999                      1.08    False        NaN             NaN   \n",
       "\n",
       "    phd_start_date phd_end_date has_masters          major_masters  \\\n",
       "1              NaN          NaN       False                    NaN   \n",
       "2              NaN          NaN        True                    NaN   \n",
       "6              NaN          NaN        True  IT Project Management   \n",
       "9              NaN          NaN       False                    NaN   \n",
       "14             NaN          NaN       False                    NaN   \n",
       "..             ...          ...         ...                    ...   \n",
       "985            NaN          NaN       False                    NaN   \n",
       "990            NaN          NaN       False                    NaN   \n",
       "991            NaN          NaN        True     Business analytics   \n",
       "998            NaN          NaN       False                    NaN   \n",
       "999            NaN          NaN       False                    NaN   \n",
       "\n",
       "                                   institution_masters  masters_start_date  \\\n",
       "1                                                  NaN                 NaN   \n",
       "2                        Claremont Graduate University              2015.0   \n",
       "6                         GEORGE WASHINGTON UNIVERSITY              2000.0   \n",
       "9                                                  NaN                 NaN   \n",
       "14                                                 NaN                 NaN   \n",
       "..                                                 ...                 ...   \n",
       "985                                                NaN                 NaN   \n",
       "990                                                NaN                 NaN   \n",
       "991  University at Buffalo School of Management, Th...              2017.0   \n",
       "998                                                NaN                 NaN   \n",
       "999                                                NaN                 NaN   \n",
       "\n",
       "    masters_end_date has_bachelors  \\\n",
       "1                NaN           NaN   \n",
       "2             2017.0          True   \n",
       "6             2003.0          True   \n",
       "9                NaN          True   \n",
       "14               NaN          True   \n",
       "..               ...           ...   \n",
       "985              NaN          True   \n",
       "990              NaN          True   \n",
       "991           2019.0          True   \n",
       "998              NaN          True   \n",
       "999              NaN          True   \n",
       "\n",
       "                                       major_bachelors  \\\n",
       "1                                                  NaN   \n",
       "2                                                  NaN   \n",
       "6                                                  NaN   \n",
       "9                                           Psychology   \n",
       "14                                            Business   \n",
       "..                                                 ...   \n",
       "985                                                NaN   \n",
       "990                                                NaN   \n",
       "991                    Electronics and Instrumentation   \n",
       "998  Business Management and Theatre Studies (Joint...   \n",
       "999       Food and Agribusiness Marketing & Management   \n",
       "\n",
       "                            institution_bachelors bachelors_start_date  \\\n",
       "1                                             NaN                  NaN   \n",
       "2                         Oregon State University               2011.0   \n",
       "6                                             NaN                  NaN   \n",
       "9                  University of California Davis               2011.0   \n",
       "14                              Purdue University               2013.0   \n",
       "..                                            ...                  ...   \n",
       "985  London School of Business and Finance (LSBF)               2012.0   \n",
       "990                            Rutgers University               2016.0   \n",
       "991        Amrita Vishwa Vidyapeetham, Coimbatore               2013.0   \n",
       "998                           University of Derby               2013.0   \n",
       "999                         University of Florida               2015.0   \n",
       "\n",
       "     bachelors_end_date                       major_other  \\\n",
       "1                   NaN                               NaN   \n",
       "2                2014.0                               NaN   \n",
       "6                   NaN                               NaN   \n",
       "9                2015.0                               NaN   \n",
       "14               2017.0                               NaN   \n",
       "..                  ...                               ...   \n",
       "985              2015.0            Accounting and Finance   \n",
       "990              2018.0                               NaN   \n",
       "991              2017.0                               NaN   \n",
       "998              2017.0  Mathematics and Computer Science   \n",
       "999              2017.0                               NaN   \n",
       "\n",
       "                       institution_other  other_start_date  other_end_date  \n",
       "1                                    NaN               NaN             NaN  \n",
       "2                                    NaN               NaN             NaN  \n",
       "6                                    NaN               NaN             NaN  \n",
       "9                    Turlock High School            2007.0          2011.0  \n",
       "14                                   NaN               NaN             NaN  \n",
       "..                                   ...               ...             ...  \n",
       "985                             A-Levels            2009.0          2012.0  \n",
       "990  University of Maryland College Park            2014.0          2016.0  \n",
       "991                                  NaN               NaN             NaN  \n",
       "998      Gheorghe Lazar National College            2009.0          2013.0  \n",
       "999                                  NaN               NaN             NaN  \n",
       "\n",
       "[250 rows x 68 columns]"
      ]
     },
     "execution_count": 73,
     "metadata": {},
     "output_type": "execute_result"
    }
   ],
   "source": [
    "df[df['total_years_of_experience'] <= 2]"
   ]
  },
  {
   "cell_type": "code",
   "execution_count": 74,
   "metadata": {},
   "outputs": [],
   "source": [
    "df_clean = pd.DataFrame(df['description'].apply(lambda x: clean_text(x)))\n",
    "df_clean[\"description_clean\"] =  df_clean.apply(lambda x: lemmatizer(x['description']), axis=1)\n",
    "df_clean['description_clean'] = df_clean['description_clean'].str.replace('-PRON-', '')"
   ]
  },
  {
   "cell_type": "code",
   "execution_count": 95,
   "metadata": {},
   "outputs": [
    {
     "ename": "TypeError",
     "evalue": "string indices must be integers",
     "output_type": "error",
     "traceback": [
      "\u001b[0;31m---------------------------------------------------------------------------\u001b[0m",
      "\u001b[0;31mTypeError\u001b[0m                                 Traceback (most recent call last)",
      "\u001b[0;32m<ipython-input-95-52a99c1acd37>\u001b[0m in \u001b[0;36m<module>\u001b[0;34m\u001b[0m\n\u001b[1;32m      1\u001b[0m \u001b[0ma\u001b[0m \u001b[0;34m=\u001b[0m \u001b[0mdf\u001b[0m\u001b[0;34m[\u001b[0m\u001b[0;34m'description'\u001b[0m\u001b[0;34m]\u001b[0m\u001b[0;34m.\u001b[0m\u001b[0mapply\u001b[0m\u001b[0;34m(\u001b[0m\u001b[0;32mlambda\u001b[0m \u001b[0mx\u001b[0m\u001b[0;34m:\u001b[0m \u001b[0mclean_text\u001b[0m\u001b[0;34m(\u001b[0m\u001b[0mx\u001b[0m\u001b[0;34m)\u001b[0m\u001b[0;34m)\u001b[0m\u001b[0;34m\u001b[0m\u001b[0;34m\u001b[0m\u001b[0m\n\u001b[0;32m----> 2\u001b[0;31m \u001b[0ma\u001b[0m \u001b[0;34m=\u001b[0m \u001b[0ma\u001b[0m\u001b[0;34m.\u001b[0m\u001b[0mapply\u001b[0m\u001b[0;34m(\u001b[0m\u001b[0;32mlambda\u001b[0m \u001b[0mx\u001b[0m\u001b[0;34m:\u001b[0m \u001b[0mlemmatizer\u001b[0m\u001b[0;34m(\u001b[0m\u001b[0mx\u001b[0m\u001b[0;34m[\u001b[0m\u001b[0;34m'description'\u001b[0m\u001b[0;34m]\u001b[0m\u001b[0;34m)\u001b[0m\u001b[0;34m)\u001b[0m\u001b[0;34m\u001b[0m\u001b[0;34m\u001b[0m\u001b[0m\n\u001b[0m",
      "\u001b[0;32m~/opt/anaconda3/lib/python3.7/site-packages/pandas/core/series.py\u001b[0m in \u001b[0;36mapply\u001b[0;34m(self, func, convert_dtype, args, **kwds)\u001b[0m\n\u001b[1;32m   3846\u001b[0m             \u001b[0;32melse\u001b[0m\u001b[0;34m:\u001b[0m\u001b[0;34m\u001b[0m\u001b[0;34m\u001b[0m\u001b[0m\n\u001b[1;32m   3847\u001b[0m                 \u001b[0mvalues\u001b[0m \u001b[0;34m=\u001b[0m \u001b[0mself\u001b[0m\u001b[0;34m.\u001b[0m\u001b[0mastype\u001b[0m\u001b[0;34m(\u001b[0m\u001b[0mobject\u001b[0m\u001b[0;34m)\u001b[0m\u001b[0;34m.\u001b[0m\u001b[0mvalues\u001b[0m\u001b[0;34m\u001b[0m\u001b[0;34m\u001b[0m\u001b[0m\n\u001b[0;32m-> 3848\u001b[0;31m                 \u001b[0mmapped\u001b[0m \u001b[0;34m=\u001b[0m \u001b[0mlib\u001b[0m\u001b[0;34m.\u001b[0m\u001b[0mmap_infer\u001b[0m\u001b[0;34m(\u001b[0m\u001b[0mvalues\u001b[0m\u001b[0;34m,\u001b[0m \u001b[0mf\u001b[0m\u001b[0;34m,\u001b[0m \u001b[0mconvert\u001b[0m\u001b[0;34m=\u001b[0m\u001b[0mconvert_dtype\u001b[0m\u001b[0;34m)\u001b[0m\u001b[0;34m\u001b[0m\u001b[0;34m\u001b[0m\u001b[0m\n\u001b[0m\u001b[1;32m   3849\u001b[0m \u001b[0;34m\u001b[0m\u001b[0m\n\u001b[1;32m   3850\u001b[0m         \u001b[0;32mif\u001b[0m \u001b[0mlen\u001b[0m\u001b[0;34m(\u001b[0m\u001b[0mmapped\u001b[0m\u001b[0;34m)\u001b[0m \u001b[0;32mand\u001b[0m \u001b[0misinstance\u001b[0m\u001b[0;34m(\u001b[0m\u001b[0mmapped\u001b[0m\u001b[0;34m[\u001b[0m\u001b[0;36m0\u001b[0m\u001b[0;34m]\u001b[0m\u001b[0;34m,\u001b[0m \u001b[0mSeries\u001b[0m\u001b[0;34m)\u001b[0m\u001b[0;34m:\u001b[0m\u001b[0;34m\u001b[0m\u001b[0;34m\u001b[0m\u001b[0m\n",
      "\u001b[0;32mpandas/_libs/lib.pyx\u001b[0m in \u001b[0;36mpandas._libs.lib.map_infer\u001b[0;34m()\u001b[0m\n",
      "\u001b[0;32m<ipython-input-95-52a99c1acd37>\u001b[0m in \u001b[0;36m<lambda>\u001b[0;34m(x)\u001b[0m\n\u001b[1;32m      1\u001b[0m \u001b[0ma\u001b[0m \u001b[0;34m=\u001b[0m \u001b[0mdf\u001b[0m\u001b[0;34m[\u001b[0m\u001b[0;34m'description'\u001b[0m\u001b[0;34m]\u001b[0m\u001b[0;34m.\u001b[0m\u001b[0mapply\u001b[0m\u001b[0;34m(\u001b[0m\u001b[0;32mlambda\u001b[0m \u001b[0mx\u001b[0m\u001b[0;34m:\u001b[0m \u001b[0mclean_text\u001b[0m\u001b[0;34m(\u001b[0m\u001b[0mx\u001b[0m\u001b[0;34m)\u001b[0m\u001b[0;34m)\u001b[0m\u001b[0;34m\u001b[0m\u001b[0;34m\u001b[0m\u001b[0m\n\u001b[0;32m----> 2\u001b[0;31m \u001b[0ma\u001b[0m \u001b[0;34m=\u001b[0m \u001b[0ma\u001b[0m\u001b[0;34m.\u001b[0m\u001b[0mapply\u001b[0m\u001b[0;34m(\u001b[0m\u001b[0;32mlambda\u001b[0m \u001b[0mx\u001b[0m\u001b[0;34m:\u001b[0m \u001b[0mlemmatizer\u001b[0m\u001b[0;34m(\u001b[0m\u001b[0mx\u001b[0m\u001b[0;34m[\u001b[0m\u001b[0;34m'description'\u001b[0m\u001b[0;34m]\u001b[0m\u001b[0;34m)\u001b[0m\u001b[0;34m)\u001b[0m\u001b[0;34m\u001b[0m\u001b[0;34m\u001b[0m\u001b[0m\n\u001b[0m",
      "\u001b[0;31mTypeError\u001b[0m: string indices must be integers"
     ]
    }
   ],
   "source": [
    "a = df['description'].apply(lambda x: clean_text(x))\n",
    "a = a.apply(lambda x: lemmatizer(x['description']))"
   ]
  },
  {
   "cell_type": "code",
   "execution_count": 76,
   "metadata": {},
   "outputs": [
    {
     "data": {
      "text/plain": [
       "Angel Investor                      37\n",
       "nan                                 35\n",
       "Senior Human Resources Assistant    31\n",
       "Human Resources Business Partner    26\n",
       "Human Resources Manager             24\n",
       "                                    ..\n",
       "Presentence Investigator             1\n",
       "Human resource Intern                1\n",
       "Recruitment Specialist               1\n",
       "Facility Supervisor                  1\n",
       "Team Manager Intern                  1\n",
       "Name: prev_title_1, Length: 640, dtype: int64"
      ]
     },
     "execution_count": 76,
     "metadata": {},
     "output_type": "execute_result"
    }
   ],
   "source": [
    "df_clean['prev_title_1'] = df['prev_title_1'].astype(str)\n",
    "df_clean['prev_title_1'].value_counts()"
   ]
  },
  {
   "cell_type": "code",
   "execution_count": 77,
   "metadata": {},
   "outputs": [
    {
     "data": {
      "image/png": "[encoded data removed]",
      "text/plain": [
       "<Figure size 720x432 with 1 Axes>"
      ]
     },
     "metadata": {
      "needs_background": "light"
     },
     "output_type": "display_data"
    }
   ],
   "source": [
    "plt.figure(figsize=(10,6))\n",
    "doc_lens = [len(d) for d in df_clean.description]\n",
    "plt.hist(doc_lens, bins = 100)\n",
    "plt.title('Distribution of Question character length')\n",
    "plt.ylabel('Number of questions')\n",
    "plt.xlabel('Question character length')\n",
    "sns.despine();"
   ]
  },
  {
   "cell_type": "code",
   "execution_count": 78,
   "metadata": {},
   "outputs": [
    {
     "name": "stdout",
     "output_type": "stream",
     "text": [
      "<wordcloud.wordcloud.WordCloud object at 0x7fb646db70d0>\n"
     ]
    },
    {
     "data": {
      "image/png": "[encoded data removed]",
      "text/plain": [
       "<Figure size 864x864 with 1 Axes>"
      ]
     },
     "metadata": {
      "needs_background": "light"
     },
     "output_type": "display_data"
    }
   ],
   "source": [
    "\n",
    "import matplotlib as mpl\n",
    "import matplotlib.pyplot as plt\n",
    "%matplotlib inline\n",
    "\n",
    "from subprocess import check_output\n",
    "from wordcloud import WordCloud, STOPWORDS\n",
    "\n",
    "mpl.rcParams['figure.figsize']=(12.0,12.0)  \n",
    "mpl.rcParams['font.size']=12            \n",
    "mpl.rcParams['savefig.dpi']=100             \n",
    "mpl.rcParams['figure.subplot.bottom']=.1 \n",
    "stopwords = set(STOPWORDS)\n",
    "\n",
    "wordcloud = WordCloud(\n",
    "                          background_color='white',\n",
    "                          stopwords=stopwords,\n",
    "                          max_words=500,\n",
    "                          max_font_size=40, \n",
    "                          random_state=42\n",
    "                         ).generate(str(df_clean['description_clean']))\n",
    "\n",
    "print(wordcloud)\n",
    "fig = plt.figure(1)\n",
    "plt.imshow(wordcloud)\n",
    "plt.axis('off')\n",
    "plt.show();"
   ]
  },
  {
   "cell_type": "code",
   "execution_count": 79,
   "metadata": {},
   "outputs": [
    {
     "data": {
      "application/vnd.plotly.v1+json": {
       "config": {
        "plotlyServerURL": "https://plot.ly"
       },
       "data": [
        {
         "type": "bar",
         "x": [
          "human",
          "resource",
          "management",
          "work",
          "business",
          "hr",
          "amazon",
          "university",
          "experience",
          "professional",
          "development",
          "com",
          "team",
          "employee",
          "base",
          "customer",
          "company",
          "service",
          "strong",
          "partner",
          "skill",
          "assistant",
          "manager",
          "year",
          "focus",
          "leadership",
          "industry",
          "talent",
          "strategic",
          "new"
         ],
         "y": [
          959,
          923,
          651,
          623,
          578,
          482,
          431,
          420,
          388,
          344,
          290,
          283,
          278,
          266,
          259,
          211,
          211,
          207,
          204,
          203,
          202,
          196,
          194,
          194,
          173,
          171,
          163,
          152,
          151,
          151
         ]
        }
       ],
       "layout": {
        "template": {
         "data": {
          "bar": [
           {
            "error_x": {
             "color": "#2a3f5f"
            },
            "error_y": {
             "color": "#2a3f5f"
            },
            "marker": {
             "line": {
              "color": "#E5ECF6",
              "width": 0.5
             }
            },
            "type": "bar"
           }
          ],
          "barpolar": [
           {
            "marker": {
             "line": {
              "color": "#E5ECF6",
              "width": 0.5
             }
            },
            "type": "barpolar"
           }
          ],
          "carpet": [
           {
            "aaxis": {
             "endlinecolor": "#2a3f5f",
             "gridcolor": "white",
             "linecolor": "white",
             "minorgridcolor": "white",
             "startlinecolor": "#2a3f5f"
            },
            "baxis": {
             "endlinecolor": "#2a3f5f",
             "gridcolor": "white",
             "linecolor": "white",
             "minorgridcolor": "white",
             "startlinecolor": "#2a3f5f"
            },
            "type": "carpet"
           }
          ],
          "choropleth": [
           {
            "colorbar": {
             "outlinewidth": 0,
             "ticks": ""
            },
            "type": "choropleth"
           }
          ],
          "contour": [
           {
            "colorbar": {
             "outlinewidth": 0,
             "ticks": ""
            },
            "colorscale": [
             [
              0,
              "#0d0887"
             ],
             [
              0.1111111111111111,
              "#46039f"
             ],
             [
              0.2222222222222222,
              "#7201a8"
             ],
             [
              0.3333333333333333,
              "#9c179e"
             ],
             [
              0.4444444444444444,
              "#bd3786"
             ],
             [
              0.5555555555555556,
              "#d8576b"
             ],
             [
              0.6666666666666666,
              "#ed7953"
             ],
             [
              0.7777777777777778,
              "#fb9f3a"
             ],
             [
              0.8888888888888888,
              "#fdca26"
             ],
             [
              1,
              "#f0f921"
             ]
            ],
            "type": "contour"
           }
          ],
          "contourcarpet": [
           {
            "colorbar": {
             "outlinewidth": 0,
             "ticks": ""
            },
            "type": "contourcarpet"
           }
          ],
          "heatmap": [
           {
            "colorbar": {
             "outlinewidth": 0,
             "ticks": ""
            },
            "colorscale": [
             [
              0,
              "#0d0887"
             ],
             [
              0.1111111111111111,
              "#46039f"
             ],
             [
              0.2222222222222222,
              "#7201a8"
             ],
             [
              0.3333333333333333,
              "#9c179e"
             ],
             [
              0.4444444444444444,
              "#bd3786"
             ],
             [
              0.5555555555555556,
              "#d8576b"
             ],
             [
              0.6666666666666666,
              "#ed7953"
             ],
             [
              0.7777777777777778,
              "#fb9f3a"
             ],
             [
              0.8888888888888888,
              "#fdca26"
             ],
             [
              1,
              "#f0f921"
             ]
            ],
            "type": "heatmap"
           }
          ],
          "heatmapgl": [
           {
            "colorbar": {
             "outlinewidth": 0,
             "ticks": ""
            },
            "colorscale": [
             [
              0,
              "#0d0887"
             ],
             [
              0.1111111111111111,
              "#46039f"
             ],
             [
              0.2222222222222222,
              "#7201a8"
             ],
             [
              0.3333333333333333,
              "#9c179e"
             ],
             [
              0.4444444444444444,
              "#bd3786"
             ],
             [
              0.5555555555555556,
              "#d8576b"
             ],
             [
              0.6666666666666666,
              "#ed7953"
             ],
             [
              0.7777777777777778,
              "#fb9f3a"
             ],
             [
              0.8888888888888888,
              "#fdca26"
             ],
             [
              1,
              "#f0f921"
             ]
            ],
            "type": "heatmapgl"
           }
          ],
          "histogram": [
           {
            "marker": {
             "colorbar": {
              "outlinewidth": 0,
              "ticks": ""
             }
            },
            "type": "histogram"
           }
          ],
          "histogram2d": [
           {
            "colorbar": {
             "outlinewidth": 0,
             "ticks": ""
            },
            "colorscale": [
             [
              0,
              "#0d0887"
             ],
             [
              0.1111111111111111,
              "#46039f"
             ],
             [
              0.2222222222222222,
              "#7201a8"
             ],
             [
              0.3333333333333333,
              "#9c179e"
             ],
             [
              0.4444444444444444,
              "#bd3786"
             ],
             [
              0.5555555555555556,
              "#d8576b"
             ],
             [
              0.6666666666666666,
              "#ed7953"
             ],
             [
              0.7777777777777778,
              "#fb9f3a"
             ],
             [
              0.8888888888888888,
              "#fdca26"
             ],
             [
              1,
              "#f0f921"
             ]
            ],
            "type": "histogram2d"
           }
          ],
          "histogram2dcontour": [
           {
            "colorbar": {
             "outlinewidth": 0,
             "ticks": ""
            },
            "colorscale": [
             [
              0,
              "#0d0887"
             ],
             [
              0.1111111111111111,
              "#46039f"
             ],
             [
              0.2222222222222222,
              "#7201a8"
             ],
             [
              0.3333333333333333,
              "#9c179e"
             ],
             [
              0.4444444444444444,
              "#bd3786"
             ],
             [
              0.5555555555555556,
              "#d8576b"
             ],
             [
              0.6666666666666666,
              "#ed7953"
             ],
             [
              0.7777777777777778,
              "#fb9f3a"
             ],
             [
              0.8888888888888888,
              "#fdca26"
             ],
             [
              1,
              "#f0f921"
             ]
            ],
            "type": "histogram2dcontour"
           }
          ],
          "mesh3d": [
           {
            "colorbar": {
             "outlinewidth": 0,
             "ticks": ""
            },
            "type": "mesh3d"
           }
          ],
          "parcoords": [
           {
            "line": {
             "colorbar": {
              "outlinewidth": 0,
              "ticks": ""
             }
            },
            "type": "parcoords"
           }
          ],
          "pie": [
           {
            "automargin": true,
            "type": "pie"
           }
          ],
          "scatter": [
           {
            "marker": {
             "colorbar": {
              "outlinewidth": 0,
              "ticks": ""
             }
            },
            "type": "scatter"
           }
          ],
          "scatter3d": [
           {
            "line": {
             "colorbar": {
              "outlinewidth": 0,
              "ticks": ""
             }
            },
            "marker": {
             "colorbar": {
              "outlinewidth": 0,
              "ticks": ""
             }
            },
            "type": "scatter3d"
           }
          ],
          "scattercarpet": [
           {
            "marker": {
             "colorbar": {
              "outlinewidth": 0,
              "ticks": ""
             }
            },
            "type": "scattercarpet"
           }
          ],
          "scattergeo": [
           {
            "marker": {
             "colorbar": {
              "outlinewidth": 0,
              "ticks": ""
             }
            },
            "type": "scattergeo"
           }
          ],
          "scattergl": [
           {
            "marker": {
             "colorbar": {
              "outlinewidth": 0,
              "ticks": ""
             }
            },
            "type": "scattergl"
           }
          ],
          "scattermapbox": [
           {
            "marker": {
             "colorbar": {
              "outlinewidth": 0,
              "ticks": ""
             }
            },
            "type": "scattermapbox"
           }
          ],
          "scatterpolar": [
           {
            "marker": {
             "colorbar": {
              "outlinewidth": 0,
              "ticks": ""
             }
            },
            "type": "scatterpolar"
           }
          ],
          "scatterpolargl": [
           {
            "marker": {
             "colorbar": {
              "outlinewidth": 0,
              "ticks": ""
             }
            },
            "type": "scatterpolargl"
           }
          ],
          "scatterternary": [
           {
            "marker": {
             "colorbar": {
              "outlinewidth": 0,
              "ticks": ""
             }
            },
            "type": "scatterternary"
           }
          ],
          "surface": [
           {
            "colorbar": {
             "outlinewidth": 0,
             "ticks": ""
            },
            "colorscale": [
             [
              0,
              "#0d0887"
             ],
             [
              0.1111111111111111,
              "#46039f"
             ],
             [
              0.2222222222222222,
              "#7201a8"
             ],
             [
              0.3333333333333333,
              "#9c179e"
             ],
             [
              0.4444444444444444,
              "#bd3786"
             ],
             [
              0.5555555555555556,
              "#d8576b"
             ],
             [
              0.6666666666666666,
              "#ed7953"
             ],
             [
              0.7777777777777778,
              "#fb9f3a"
             ],
             [
              0.8888888888888888,
              "#fdca26"
             ],
             [
              1,
              "#f0f921"
             ]
            ],
            "type": "surface"
           }
          ],
          "table": [
           {
            "cells": {
             "fill": {
              "color": "#EBF0F8"
             },
             "line": {
              "color": "white"
             }
            },
            "header": {
             "fill": {
              "color": "#C8D4E3"
             },
             "line": {
              "color": "white"
             }
            },
            "type": "table"
           }
          ]
         },
         "layout": {
          "annotationdefaults": {
           "arrowcolor": "#2a3f5f",
           "arrowhead": 0,
           "arrowwidth": 1
          },
          "coloraxis": {
           "colorbar": {
            "outlinewidth": 0,
            "ticks": ""
           }
          },
          "colorscale": {
           "diverging": [
            [
             0,
             "#8e0152"
            ],
            [
             0.1,
             "#c51b7d"
            ],
            [
             0.2,
             "#de77ae"
            ],
            [
             0.3,
             "#f1b6da"
            ],
            [
             0.4,
             "#fde0ef"
            ],
            [
             0.5,
             "#f7f7f7"
            ],
            [
             0.6,
             "#e6f5d0"
            ],
            [
             0.7,
             "#b8e186"
            ],
            [
             0.8,
             "#7fbc41"
            ],
            [
             0.9,
             "#4d9221"
            ],
            [
             1,
             "#276419"
            ]
           ],
           "sequential": [
            [
             0,
             "#0d0887"
            ],
            [
             0.1111111111111111,
             "#46039f"
            ],
            [
             0.2222222222222222,
             "#7201a8"
            ],
            [
             0.3333333333333333,
             "#9c179e"
            ],
            [
             0.4444444444444444,
             "#bd3786"
            ],
            [
             0.5555555555555556,
             "#d8576b"
            ],
            [
             0.6666666666666666,
             "#ed7953"
            ],
            [
             0.7777777777777778,
             "#fb9f3a"
            ],
            [
             0.8888888888888888,
             "#fdca26"
            ],
            [
             1,
             "#f0f921"
            ]
           ],
           "sequentialminus": [
            [
             0,
             "#0d0887"
            ],
            [
             0.1111111111111111,
             "#46039f"
            ],
            [
             0.2222222222222222,
             "#7201a8"
            ],
            [
             0.3333333333333333,
             "#9c179e"
            ],
            [
             0.4444444444444444,
             "#bd3786"
            ],
            [
             0.5555555555555556,
             "#d8576b"
            ],
            [
             0.6666666666666666,
             "#ed7953"
            ],
            [
             0.7777777777777778,
             "#fb9f3a"
            ],
            [
             0.8888888888888888,
             "#fdca26"
            ],
            [
             1,
             "#f0f921"
            ]
           ]
          },
          "colorway": [
           "#636efa",
           "#EF553B",
           "#00cc96",
           "#ab63fa",
           "#FFA15A",
           "#19d3f3",
           "#FF6692",
           "#B6E880",
           "#FF97FF",
           "#FECB52"
          ],
          "font": {
           "color": "#2a3f5f"
          },
          "geo": {
           "bgcolor": "white",
           "lakecolor": "white",
           "landcolor": "#E5ECF6",
           "showlakes": true,
           "showland": true,
           "subunitcolor": "white"
          },
          "hoverlabel": {
           "align": "left"
          },
          "hovermode": "closest",
          "mapbox": {
           "style": "light"
          },
          "paper_bgcolor": "white",
          "plot_bgcolor": "#E5ECF6",
          "polar": {
           "angularaxis": {
            "gridcolor": "white",
            "linecolor": "white",
            "ticks": ""
           },
           "bgcolor": "#E5ECF6",
           "radialaxis": {
            "gridcolor": "white",
            "linecolor": "white",
            "ticks": ""
           }
          },
          "scene": {
           "xaxis": {
            "backgroundcolor": "#E5ECF6",
            "gridcolor": "white",
            "gridwidth": 2,
            "linecolor": "white",
            "showbackground": true,
            "ticks": "",
            "zerolinecolor": "white"
           },
           "yaxis": {
            "backgroundcolor": "#E5ECF6",
            "gridcolor": "white",
            "gridwidth": 2,
            "linecolor": "white",
            "showbackground": true,
            "ticks": "",
            "zerolinecolor": "white"
           },
           "zaxis": {
            "backgroundcolor": "#E5ECF6",
            "gridcolor": "white",
            "gridwidth": 2,
            "linecolor": "white",
            "showbackground": true,
            "ticks": "",
            "zerolinecolor": "white"
           }
          },
          "shapedefaults": {
           "line": {
            "color": "#2a3f5f"
           }
          },
          "ternary": {
           "aaxis": {
            "gridcolor": "white",
            "linecolor": "white",
            "ticks": ""
           },
           "baxis": {
            "gridcolor": "white",
            "linecolor": "white",
            "ticks": ""
           },
           "bgcolor": "#E5ECF6",
           "caxis": {
            "gridcolor": "white",
            "linecolor": "white",
            "ticks": ""
           }
          },
          "title": {
           "x": 0.05
          },
          "xaxis": {
           "automargin": true,
           "gridcolor": "white",
           "linecolor": "white",
           "ticks": "",
           "title": {
            "standoff": 15
           },
           "zerolinecolor": "white",
           "zerolinewidth": 2
          },
          "yaxis": {
           "automargin": true,
           "gridcolor": "white",
           "linecolor": "white",
           "ticks": "",
           "title": {
            "standoff": 15
           },
           "zerolinecolor": "white",
           "zerolinewidth": 2
          }
         }
        },
        "title": {
         "text": "Top 30 unigrams in the question text after removing stop words and lemmatization"
        }
       }
      },
      "text/html": [
       "<div>\n",
       "        \n",
       "        \n",
       "            <div id=\"1e58cac9-232a-43bc-b406-d14f3c4e9a82\" class=\"plotly-graph-div\" style=\"height:525px; width:100%;\"></div>\n",
       "            <script type=\"text/javascript\">\n",
       "                require([\"plotly\"], function(Plotly) {\n",
       "                    window.PLOTLYENV=window.PLOTLYENV || {};\n",
       "                    \n",
       "                if (document.getElementById(\"1e58cac9-232a-43bc-b406-d14f3c4e9a82\")) {\n",
       "                    Plotly.newPlot(\n",
       "                        '1e58cac9-232a-43bc-b406-d14f3c4e9a82',\n",
       "                        [{\"type\": \"bar\", \"x\": [\"human\", \"resource\", \"management\", \"work\", \"business\", \"hr\", \"amazon\", \"university\", \"experience\", \"professional\", \"development\", \"com\", \"team\", \"employee\", \"base\", \"customer\", \"company\", \"service\", \"strong\", \"partner\", \"skill\", \"assistant\", \"manager\", \"year\", \"focus\", \"leadership\", \"industry\", \"talent\", \"strategic\", \"new\"], \"y\": [959, 923, 651, 623, 578, 482, 431, 420, 388, 344, 290, 283, 278, 266, 259, 211, 211, 207, 204, 203, 202, 196, 194, 194, 173, 171, 163, 152, 151, 151]}],\n",
       "                        {\"template\": {\"data\": {\"bar\": [{\"error_x\": {\"color\": \"#2a3f5f\"}, \"error_y\": {\"color\": \"#2a3f5f\"}, \"marker\": {\"line\": {\"color\": \"#E5ECF6\", \"width\": 0.5}}, \"type\": \"bar\"}], \"barpolar\": [{\"marker\": {\"line\": {\"color\": \"#E5ECF6\", \"width\": 0.5}}, \"type\": \"barpolar\"}], \"carpet\": [{\"aaxis\": {\"endlinecolor\": \"#2a3f5f\", \"gridcolor\": \"white\", \"linecolor\": \"white\", \"minorgridcolor\": \"white\", \"startlinecolor\": \"#2a3f5f\"}, \"baxis\": {\"endlinecolor\": \"#2a3f5f\", \"gridcolor\": \"white\", \"linecolor\": \"white\", \"minorgridcolor\": \"white\", \"startlinecolor\": \"#2a3f5f\"}, \"type\": \"carpet\"}], \"choropleth\": [{\"colorbar\": {\"outlinewidth\": 0, \"ticks\": \"\"}, \"type\": \"choropleth\"}], \"contour\": [{\"colorbar\": {\"outlinewidth\": 0, \"ticks\": \"\"}, \"colorscale\": [[0.0, \"#0d0887\"], [0.1111111111111111, \"#46039f\"], [0.2222222222222222, \"#7201a8\"], [0.3333333333333333, \"#9c179e\"], [0.4444444444444444, \"#bd3786\"], [0.5555555555555556, \"#d8576b\"], [0.6666666666666666, \"#ed7953\"], [0.7777777777777778, \"#fb9f3a\"], [0.8888888888888888, \"#fdca26\"], [1.0, \"#f0f921\"]], \"type\": \"contour\"}], \"contourcarpet\": [{\"colorbar\": {\"outlinewidth\": 0, \"ticks\": \"\"}, \"type\": \"contourcarpet\"}], \"heatmap\": [{\"colorbar\": {\"outlinewidth\": 0, \"ticks\": \"\"}, \"colorscale\": [[0.0, \"#0d0887\"], [0.1111111111111111, \"#46039f\"], [0.2222222222222222, \"#7201a8\"], [0.3333333333333333, \"#9c179e\"], [0.4444444444444444, \"#bd3786\"], [0.5555555555555556, \"#d8576b\"], [0.6666666666666666, \"#ed7953\"], [0.7777777777777778, \"#fb9f3a\"], [0.8888888888888888, \"#fdca26\"], [1.0, \"#f0f921\"]], \"type\": \"heatmap\"}], \"heatmapgl\": [{\"colorbar\": {\"outlinewidth\": 0, \"ticks\": \"\"}, \"colorscale\": [[0.0, \"#0d0887\"], [0.1111111111111111, \"#46039f\"], [0.2222222222222222, \"#7201a8\"], [0.3333333333333333, \"#9c179e\"], [0.4444444444444444, \"#bd3786\"], [0.5555555555555556, \"#d8576b\"], [0.6666666666666666, \"#ed7953\"], [0.7777777777777778, \"#fb9f3a\"], [0.8888888888888888, \"#fdca26\"], [1.0, \"#f0f921\"]], \"type\": \"heatmapgl\"}], \"histogram\": [{\"marker\": {\"colorbar\": {\"outlinewidth\": 0, \"ticks\": \"\"}}, \"type\": \"histogram\"}], \"histogram2d\": [{\"colorbar\": {\"outlinewidth\": 0, \"ticks\": \"\"}, \"colorscale\": [[0.0, \"#0d0887\"], [0.1111111111111111, \"#46039f\"], [0.2222222222222222, \"#7201a8\"], [0.3333333333333333, \"#9c179e\"], [0.4444444444444444, \"#bd3786\"], [0.5555555555555556, \"#d8576b\"], [0.6666666666666666, \"#ed7953\"], [0.7777777777777778, \"#fb9f3a\"], [0.8888888888888888, \"#fdca26\"], [1.0, \"#f0f921\"]], \"type\": \"histogram2d\"}], \"histogram2dcontour\": [{\"colorbar\": {\"outlinewidth\": 0, \"ticks\": \"\"}, \"colorscale\": [[0.0, \"#0d0887\"], [0.1111111111111111, \"#46039f\"], [0.2222222222222222, \"#7201a8\"], [0.3333333333333333, \"#9c179e\"], [0.4444444444444444, \"#bd3786\"], [0.5555555555555556, \"#d8576b\"], [0.6666666666666666, \"#ed7953\"], [0.7777777777777778, \"#fb9f3a\"], [0.8888888888888888, \"#fdca26\"], [1.0, \"#f0f921\"]], \"type\": \"histogram2dcontour\"}], \"mesh3d\": [{\"colorbar\": {\"outlinewidth\": 0, \"ticks\": \"\"}, \"type\": \"mesh3d\"}], \"parcoords\": [{\"line\": {\"colorbar\": {\"outlinewidth\": 0, \"ticks\": \"\"}}, \"type\": \"parcoords\"}], \"pie\": [{\"automargin\": true, \"type\": \"pie\"}], \"scatter\": [{\"marker\": {\"colorbar\": {\"outlinewidth\": 0, \"ticks\": \"\"}}, \"type\": \"scatter\"}], \"scatter3d\": [{\"line\": {\"colorbar\": {\"outlinewidth\": 0, \"ticks\": \"\"}}, \"marker\": {\"colorbar\": {\"outlinewidth\": 0, \"ticks\": \"\"}}, \"type\": \"scatter3d\"}], \"scattercarpet\": [{\"marker\": {\"colorbar\": {\"outlinewidth\": 0, \"ticks\": \"\"}}, \"type\": \"scattercarpet\"}], \"scattergeo\": [{\"marker\": {\"colorbar\": {\"outlinewidth\": 0, \"ticks\": \"\"}}, \"type\": \"scattergeo\"}], \"scattergl\": [{\"marker\": {\"colorbar\": {\"outlinewidth\": 0, \"ticks\": \"\"}}, \"type\": \"scattergl\"}], \"scattermapbox\": [{\"marker\": {\"colorbar\": {\"outlinewidth\": 0, \"ticks\": \"\"}}, \"type\": \"scattermapbox\"}], \"scatterpolar\": [{\"marker\": {\"colorbar\": {\"outlinewidth\": 0, \"ticks\": \"\"}}, \"type\": \"scatterpolar\"}], \"scatterpolargl\": [{\"marker\": {\"colorbar\": {\"outlinewidth\": 0, \"ticks\": \"\"}}, \"type\": \"scatterpolargl\"}], \"scatterternary\": [{\"marker\": {\"colorbar\": {\"outlinewidth\": 0, \"ticks\": \"\"}}, \"type\": \"scatterternary\"}], \"surface\": [{\"colorbar\": {\"outlinewidth\": 0, \"ticks\": \"\"}, \"colorscale\": [[0.0, \"#0d0887\"], [0.1111111111111111, \"#46039f\"], [0.2222222222222222, \"#7201a8\"], [0.3333333333333333, \"#9c179e\"], [0.4444444444444444, \"#bd3786\"], [0.5555555555555556, \"#d8576b\"], [0.6666666666666666, \"#ed7953\"], [0.7777777777777778, \"#fb9f3a\"], [0.8888888888888888, \"#fdca26\"], [1.0, \"#f0f921\"]], \"type\": \"surface\"}], \"table\": [{\"cells\": {\"fill\": {\"color\": \"#EBF0F8\"}, \"line\": {\"color\": \"white\"}}, \"header\": {\"fill\": {\"color\": \"#C8D4E3\"}, \"line\": {\"color\": \"white\"}}, \"type\": \"table\"}]}, \"layout\": {\"annotationdefaults\": {\"arrowcolor\": \"#2a3f5f\", \"arrowhead\": 0, \"arrowwidth\": 1}, \"coloraxis\": {\"colorbar\": {\"outlinewidth\": 0, \"ticks\": \"\"}}, \"colorscale\": {\"diverging\": [[0, \"#8e0152\"], [0.1, \"#c51b7d\"], [0.2, \"#de77ae\"], [0.3, \"#f1b6da\"], [0.4, \"#fde0ef\"], [0.5, \"#f7f7f7\"], [0.6, \"#e6f5d0\"], [0.7, \"#b8e186\"], [0.8, \"#7fbc41\"], [0.9, \"#4d9221\"], [1, \"#276419\"]], \"sequential\": [[0.0, \"#0d0887\"], [0.1111111111111111, \"#46039f\"], [0.2222222222222222, \"#7201a8\"], [0.3333333333333333, \"#9c179e\"], [0.4444444444444444, \"#bd3786\"], [0.5555555555555556, \"#d8576b\"], [0.6666666666666666, \"#ed7953\"], [0.7777777777777778, \"#fb9f3a\"], [0.8888888888888888, \"#fdca26\"], [1.0, \"#f0f921\"]], \"sequentialminus\": [[0.0, \"#0d0887\"], [0.1111111111111111, \"#46039f\"], [0.2222222222222222, \"#7201a8\"], [0.3333333333333333, \"#9c179e\"], [0.4444444444444444, \"#bd3786\"], [0.5555555555555556, \"#d8576b\"], [0.6666666666666666, \"#ed7953\"], [0.7777777777777778, \"#fb9f3a\"], [0.8888888888888888, \"#fdca26\"], [1.0, \"#f0f921\"]]}, \"colorway\": [\"#636efa\", \"#EF553B\", \"#00cc96\", \"#ab63fa\", \"#FFA15A\", \"#19d3f3\", \"#FF6692\", \"#B6E880\", \"#FF97FF\", \"#FECB52\"], \"font\": {\"color\": \"#2a3f5f\"}, \"geo\": {\"bgcolor\": \"white\", \"lakecolor\": \"white\", \"landcolor\": \"#E5ECF6\", \"showlakes\": true, \"showland\": true, \"subunitcolor\": \"white\"}, \"hoverlabel\": {\"align\": \"left\"}, \"hovermode\": \"closest\", \"mapbox\": {\"style\": \"light\"}, \"paper_bgcolor\": \"white\", \"plot_bgcolor\": \"#E5ECF6\", \"polar\": {\"angularaxis\": {\"gridcolor\": \"white\", \"linecolor\": \"white\", \"ticks\": \"\"}, \"bgcolor\": \"#E5ECF6\", \"radialaxis\": {\"gridcolor\": \"white\", \"linecolor\": \"white\", \"ticks\": \"\"}}, \"scene\": {\"xaxis\": {\"backgroundcolor\": \"#E5ECF6\", \"gridcolor\": \"white\", \"gridwidth\": 2, \"linecolor\": \"white\", \"showbackground\": true, \"ticks\": \"\", \"zerolinecolor\": \"white\"}, \"yaxis\": {\"backgroundcolor\": \"#E5ECF6\", \"gridcolor\": \"white\", \"gridwidth\": 2, \"linecolor\": \"white\", \"showbackground\": true, \"ticks\": \"\", \"zerolinecolor\": \"white\"}, \"zaxis\": {\"backgroundcolor\": \"#E5ECF6\", \"gridcolor\": \"white\", \"gridwidth\": 2, \"linecolor\": \"white\", \"showbackground\": true, \"ticks\": \"\", \"zerolinecolor\": \"white\"}}, \"shapedefaults\": {\"line\": {\"color\": \"#2a3f5f\"}}, \"ternary\": {\"aaxis\": {\"gridcolor\": \"white\", \"linecolor\": \"white\", \"ticks\": \"\"}, \"baxis\": {\"gridcolor\": \"white\", \"linecolor\": \"white\", \"ticks\": \"\"}, \"bgcolor\": \"#E5ECF6\", \"caxis\": {\"gridcolor\": \"white\", \"linecolor\": \"white\", \"ticks\": \"\"}}, \"title\": {\"x\": 0.05}, \"xaxis\": {\"automargin\": true, \"gridcolor\": \"white\", \"linecolor\": \"white\", \"ticks\": \"\", \"title\": {\"standoff\": 15}, \"zerolinecolor\": \"white\", \"zerolinewidth\": 2}, \"yaxis\": {\"automargin\": true, \"gridcolor\": \"white\", \"linecolor\": \"white\", \"ticks\": \"\", \"title\": {\"standoff\": 15}, \"zerolinecolor\": \"white\", \"zerolinewidth\": 2}}}, \"title\": {\"text\": \"Top 30 unigrams in the question text after removing stop words and lemmatization\"}},\n",
       "                        {\"responsive\": true}\n",
       "                    ).then(function(){\n",
       "                            \n",
       "var gd = document.getElementById('1e58cac9-232a-43bc-b406-d14f3c4e9a82');\n",
       "var x = new MutationObserver(function (mutations, observer) {{\n",
       "        var display = window.getComputedStyle(gd).display;\n",
       "        if (!display || display === 'none') {{\n",
       "            console.log([gd, 'removed!']);\n",
       "            Plotly.purge(gd);\n",
       "            observer.disconnect();\n",
       "        }}\n",
       "}});\n",
       "\n",
       "// Listen for the removal of the full notebook cells\n",
       "var notebookContainer = gd.closest('#notebook-container');\n",
       "if (notebookContainer) {{\n",
       "    x.observe(notebookContainer, {childList: true});\n",
       "}}\n",
       "\n",
       "// Listen for the clearing of the current output cell\n",
       "var outputEl = gd.closest('.output');\n",
       "if (outputEl) {{\n",
       "    x.observe(outputEl, {childList: true});\n",
       "}}\n",
       "\n",
       "                        })\n",
       "                };\n",
       "                });\n",
       "            </script>\n",
       "        </div>"
      ]
     },
     "metadata": {},
     "output_type": "display_data"
    }
   ],
   "source": [
    "\n",
    "def get_top_n_words(corpus, n=None):\n",
    "    vec = CountVectorizer(stop_words='english').fit(corpus)\n",
    "    bag_of_words = vec.transform(corpus)\n",
    "    sum_words = bag_of_words.sum(axis=0) \n",
    "    words_freq = [(word, sum_words[0, idx]) for word, idx in vec.vocabulary_.items()]\n",
    "    words_freq =sorted(words_freq, key = lambda x: x[1], reverse=True)\n",
    "    return words_freq[:n]\n",
    "common_words = get_top_n_words(df_clean['description_clean'], 30)\n",
    "df2 = pd.DataFrame(common_words, columns = ['unigram' , 'count'])\n",
    "\n",
    "fig = go.Figure([go.Bar(x=df2['unigram'], y=df2['count'])])\n",
    "fig.update_layout(title=go.layout.Title(text=\"Top 30 unigrams in the question text after removing stop words and lemmatization\"))\n",
    "fig.show()"
   ]
  },
  {
   "cell_type": "code",
   "execution_count": 80,
   "metadata": {},
   "outputs": [
    {
     "data": {
      "application/vnd.plotly.v1+json": {
       "config": {
        "plotlyServerURL": "https://plot.ly"
       },
       "data": [
        {
         "type": "bar",
         "x": [
          "human resource",
          "amazon com",
          "com base",
          "business partner",
          "resource professional",
          "resource assistant",
          "customer service",
          "demonstrate history",
          "history work",
          "resource business",
          "assistant amazon",
          "resource management",
          "partner amazon",
          "senior human",
          "state university",
          "employee relation",
          "industry skille",
          "experienced human",
          "performance management",
          "strong human"
         ],
         "y": [
          897,
          283,
          193,
          148,
          119,
          117,
          108,
          104,
          102,
          95,
          88,
          86,
          81,
          79,
          78,
          74,
          72,
          72,
          63,
          56
         ]
        }
       ],
       "layout": {
        "template": {
         "data": {
          "bar": [
           {
            "error_x": {
             "color": "#2a3f5f"
            },
            "error_y": {
             "color": "#2a3f5f"
            },
            "marker": {
             "line": {
              "color": "#E5ECF6",
              "width": 0.5
             }
            },
            "type": "bar"
           }
          ],
          "barpolar": [
           {
            "marker": {
             "line": {
              "color": "#E5ECF6",
              "width": 0.5
             }
            },
            "type": "barpolar"
           }
          ],
          "carpet": [
           {
            "aaxis": {
             "endlinecolor": "#2a3f5f",
             "gridcolor": "white",
             "linecolor": "white",
             "minorgridcolor": "white",
             "startlinecolor": "#2a3f5f"
            },
            "baxis": {
             "endlinecolor": "#2a3f5f",
             "gridcolor": "white",
             "linecolor": "white",
             "minorgridcolor": "white",
             "startlinecolor": "#2a3f5f"
            },
            "type": "carpet"
           }
          ],
          "choropleth": [
           {
            "colorbar": {
             "outlinewidth": 0,
             "ticks": ""
            },
            "type": "choropleth"
           }
          ],
          "contour": [
           {
            "colorbar": {
             "outlinewidth": 0,
             "ticks": ""
            },
            "colorscale": [
             [
              0,
              "#0d0887"
             ],
             [
              0.1111111111111111,
              "#46039f"
             ],
             [
              0.2222222222222222,
              "#7201a8"
             ],
             [
              0.3333333333333333,
              "#9c179e"
             ],
             [
              0.4444444444444444,
              "#bd3786"
             ],
             [
              0.5555555555555556,
              "#d8576b"
             ],
             [
              0.6666666666666666,
              "#ed7953"
             ],
             [
              0.7777777777777778,
              "#fb9f3a"
             ],
             [
              0.8888888888888888,
              "#fdca26"
             ],
             [
              1,
              "#f0f921"
             ]
            ],
            "type": "contour"
           }
          ],
          "contourcarpet": [
           {
            "colorbar": {
             "outlinewidth": 0,
             "ticks": ""
            },
            "type": "contourcarpet"
           }
          ],
          "heatmap": [
           {
            "colorbar": {
             "outlinewidth": 0,
             "ticks": ""
            },
            "colorscale": [
             [
              0,
              "#0d0887"
             ],
             [
              0.1111111111111111,
              "#46039f"
             ],
             [
              0.2222222222222222,
              "#7201a8"
             ],
             [
              0.3333333333333333,
              "#9c179e"
             ],
             [
              0.4444444444444444,
              "#bd3786"
             ],
             [
              0.5555555555555556,
              "#d8576b"
             ],
             [
              0.6666666666666666,
              "#ed7953"
             ],
             [
              0.7777777777777778,
              "#fb9f3a"
             ],
             [
              0.8888888888888888,
              "#fdca26"
             ],
             [
              1,
              "#f0f921"
             ]
            ],
            "type": "heatmap"
           }
          ],
          "heatmapgl": [
           {
            "colorbar": {
             "outlinewidth": 0,
             "ticks": ""
            },
            "colorscale": [
             [
              0,
              "#0d0887"
             ],
             [
              0.1111111111111111,
              "#46039f"
             ],
             [
              0.2222222222222222,
              "#7201a8"
             ],
             [
              0.3333333333333333,
              "#9c179e"
             ],
             [
              0.4444444444444444,
              "#bd3786"
             ],
             [
              0.5555555555555556,
              "#d8576b"
             ],
             [
              0.6666666666666666,
              "#ed7953"
             ],
             [
              0.7777777777777778,
              "#fb9f3a"
             ],
             [
              0.8888888888888888,
              "#fdca26"
             ],
             [
              1,
              "#f0f921"
             ]
            ],
            "type": "heatmapgl"
           }
          ],
          "histogram": [
           {
            "marker": {
             "colorbar": {
              "outlinewidth": 0,
              "ticks": ""
             }
            },
            "type": "histogram"
           }
          ],
          "histogram2d": [
           {
            "colorbar": {
             "outlinewidth": 0,
             "ticks": ""
            },
            "colorscale": [
             [
              0,
              "#0d0887"
             ],
             [
              0.1111111111111111,
              "#46039f"
             ],
             [
              0.2222222222222222,
              "#7201a8"
             ],
             [
              0.3333333333333333,
              "#9c179e"
             ],
             [
              0.4444444444444444,
              "#bd3786"
             ],
             [
              0.5555555555555556,
              "#d8576b"
             ],
             [
              0.6666666666666666,
              "#ed7953"
             ],
             [
              0.7777777777777778,
              "#fb9f3a"
             ],
             [
              0.8888888888888888,
              "#fdca26"
             ],
             [
              1,
              "#f0f921"
             ]
            ],
            "type": "histogram2d"
           }
          ],
          "histogram2dcontour": [
           {
            "colorbar": {
             "outlinewidth": 0,
             "ticks": ""
            },
            "colorscale": [
             [
              0,
              "#0d0887"
             ],
             [
              0.1111111111111111,
              "#46039f"
             ],
             [
              0.2222222222222222,
              "#7201a8"
             ],
             [
              0.3333333333333333,
              "#9c179e"
             ],
             [
              0.4444444444444444,
              "#bd3786"
             ],
             [
              0.5555555555555556,
              "#d8576b"
             ],
             [
              0.6666666666666666,
              "#ed7953"
             ],
             [
              0.7777777777777778,
              "#fb9f3a"
             ],
             [
              0.8888888888888888,
              "#fdca26"
             ],
             [
              1,
              "#f0f921"
             ]
            ],
            "type": "histogram2dcontour"
           }
          ],
          "mesh3d": [
           {
            "colorbar": {
             "outlinewidth": 0,
             "ticks": ""
            },
            "type": "mesh3d"
           }
          ],
          "parcoords": [
           {
            "line": {
             "colorbar": {
              "outlinewidth": 0,
              "ticks": ""
             }
            },
            "type": "parcoords"
           }
          ],
          "pie": [
           {
            "automargin": true,
            "type": "pie"
           }
          ],
          "scatter": [
           {
            "marker": {
             "colorbar": {
              "outlinewidth": 0,
              "ticks": ""
             }
            },
            "type": "scatter"
           }
          ],
          "scatter3d": [
           {
            "line": {
             "colorbar": {
              "outlinewidth": 0,
              "ticks": ""
             }
            },
            "marker": {
             "colorbar": {
              "outlinewidth": 0,
              "ticks": ""
             }
            },
            "type": "scatter3d"
           }
          ],
          "scattercarpet": [
           {
            "marker": {
             "colorbar": {
              "outlinewidth": 0,
              "ticks": ""
             }
            },
            "type": "scattercarpet"
           }
          ],
          "scattergeo": [
           {
            "marker": {
             "colorbar": {
              "outlinewidth": 0,
              "ticks": ""
             }
            },
            "type": "scattergeo"
           }
          ],
          "scattergl": [
           {
            "marker": {
             "colorbar": {
              "outlinewidth": 0,
              "ticks": ""
             }
            },
            "type": "scattergl"
           }
          ],
          "scattermapbox": [
           {
            "marker": {
             "colorbar": {
              "outlinewidth": 0,
              "ticks": ""
             }
            },
            "type": "scattermapbox"
           }
          ],
          "scatterpolar": [
           {
            "marker": {
             "colorbar": {
              "outlinewidth": 0,
              "ticks": ""
             }
            },
            "type": "scatterpolar"
           }
          ],
          "scatterpolargl": [
           {
            "marker": {
             "colorbar": {
              "outlinewidth": 0,
              "ticks": ""
             }
            },
            "type": "scatterpolargl"
           }
          ],
          "scatterternary": [
           {
            "marker": {
             "colorbar": {
              "outlinewidth": 0,
              "ticks": ""
             }
            },
            "type": "scatterternary"
           }
          ],
          "surface": [
           {
            "colorbar": {
             "outlinewidth": 0,
             "ticks": ""
            },
            "colorscale": [
             [
              0,
              "#0d0887"
             ],
             [
              0.1111111111111111,
              "#46039f"
             ],
             [
              0.2222222222222222,
              "#7201a8"
             ],
             [
              0.3333333333333333,
              "#9c179e"
             ],
             [
              0.4444444444444444,
              "#bd3786"
             ],
             [
              0.5555555555555556,
              "#d8576b"
             ],
             [
              0.6666666666666666,
              "#ed7953"
             ],
             [
              0.7777777777777778,
              "#fb9f3a"
             ],
             [
              0.8888888888888888,
              "#fdca26"
             ],
             [
              1,
              "#f0f921"
             ]
            ],
            "type": "surface"
           }
          ],
          "table": [
           {
            "cells": {
             "fill": {
              "color": "#EBF0F8"
             },
             "line": {
              "color": "white"
             }
            },
            "header": {
             "fill": {
              "color": "#C8D4E3"
             },
             "line": {
              "color": "white"
             }
            },
            "type": "table"
           }
          ]
         },
         "layout": {
          "annotationdefaults": {
           "arrowcolor": "#2a3f5f",
           "arrowhead": 0,
           "arrowwidth": 1
          },
          "coloraxis": {
           "colorbar": {
            "outlinewidth": 0,
            "ticks": ""
           }
          },
          "colorscale": {
           "diverging": [
            [
             0,
             "#8e0152"
            ],
            [
             0.1,
             "#c51b7d"
            ],
            [
             0.2,
             "#de77ae"
            ],
            [
             0.3,
             "#f1b6da"
            ],
            [
             0.4,
             "#fde0ef"
            ],
            [
             0.5,
             "#f7f7f7"
            ],
            [
             0.6,
             "#e6f5d0"
            ],
            [
             0.7,
             "#b8e186"
            ],
            [
             0.8,
             "#7fbc41"
            ],
            [
             0.9,
             "#4d9221"
            ],
            [
             1,
             "#276419"
            ]
           ],
           "sequential": [
            [
             0,
             "#0d0887"
            ],
            [
             0.1111111111111111,
             "#46039f"
            ],
            [
             0.2222222222222222,
             "#7201a8"
            ],
            [
             0.3333333333333333,
             "#9c179e"
            ],
            [
             0.4444444444444444,
             "#bd3786"
            ],
            [
             0.5555555555555556,
             "#d8576b"
            ],
            [
             0.6666666666666666,
             "#ed7953"
            ],
            [
             0.7777777777777778,
             "#fb9f3a"
            ],
            [
             0.8888888888888888,
             "#fdca26"
            ],
            [
             1,
             "#f0f921"
            ]
           ],
           "sequentialminus": [
            [
             0,
             "#0d0887"
            ],
            [
             0.1111111111111111,
             "#46039f"
            ],
            [
             0.2222222222222222,
             "#7201a8"
            ],
            [
             0.3333333333333333,
             "#9c179e"
            ],
            [
             0.4444444444444444,
             "#bd3786"
            ],
            [
             0.5555555555555556,
             "#d8576b"
            ],
            [
             0.6666666666666666,
             "#ed7953"
            ],
            [
             0.7777777777777778,
             "#fb9f3a"
            ],
            [
             0.8888888888888888,
             "#fdca26"
            ],
            [
             1,
             "#f0f921"
            ]
           ]
          },
          "colorway": [
           "#636efa",
           "#EF553B",
           "#00cc96",
           "#ab63fa",
           "#FFA15A",
           "#19d3f3",
           "#FF6692",
           "#B6E880",
           "#FF97FF",
           "#FECB52"
          ],
          "font": {
           "color": "#2a3f5f"
          },
          "geo": {
           "bgcolor": "white",
           "lakecolor": "white",
           "landcolor": "#E5ECF6",
           "showlakes": true,
           "showland": true,
           "subunitcolor": "white"
          },
          "hoverlabel": {
           "align": "left"
          },
          "hovermode": "closest",
          "mapbox": {
           "style": "light"
          },
          "paper_bgcolor": "white",
          "plot_bgcolor": "#E5ECF6",
          "polar": {
           "angularaxis": {
            "gridcolor": "white",
            "linecolor": "white",
            "ticks": ""
           },
           "bgcolor": "#E5ECF6",
           "radialaxis": {
            "gridcolor": "white",
            "linecolor": "white",
            "ticks": ""
           }
          },
          "scene": {
           "xaxis": {
            "backgroundcolor": "#E5ECF6",
            "gridcolor": "white",
            "gridwidth": 2,
            "linecolor": "white",
            "showbackground": true,
            "ticks": "",
            "zerolinecolor": "white"
           },
           "yaxis": {
            "backgroundcolor": "#E5ECF6",
            "gridcolor": "white",
            "gridwidth": 2,
            "linecolor": "white",
            "showbackground": true,
            "ticks": "",
            "zerolinecolor": "white"
           },
           "zaxis": {
            "backgroundcolor": "#E5ECF6",
            "gridcolor": "white",
            "gridwidth": 2,
            "linecolor": "white",
            "showbackground": true,
            "ticks": "",
            "zerolinecolor": "white"
           }
          },
          "shapedefaults": {
           "line": {
            "color": "#2a3f5f"
           }
          },
          "ternary": {
           "aaxis": {
            "gridcolor": "white",
            "linecolor": "white",
            "ticks": ""
           },
           "baxis": {
            "gridcolor": "white",
            "linecolor": "white",
            "ticks": ""
           },
           "bgcolor": "#E5ECF6",
           "caxis": {
            "gridcolor": "white",
            "linecolor": "white",
            "ticks": ""
           }
          },
          "title": {
           "x": 0.05
          },
          "xaxis": {
           "automargin": true,
           "gridcolor": "white",
           "linecolor": "white",
           "ticks": "",
           "title": {
            "standoff": 15
           },
           "zerolinecolor": "white",
           "zerolinewidth": 2
          },
          "yaxis": {
           "automargin": true,
           "gridcolor": "white",
           "linecolor": "white",
           "ticks": "",
           "title": {
            "standoff": 15
           },
           "zerolinecolor": "white",
           "zerolinewidth": 2
          }
         }
        },
        "title": {
         "text": "Top 20 bigrams in the question text after removing stop words and lemmatization"
        }
       }
      },
      "text/html": [
       "<div>\n",
       "        \n",
       "        \n",
       "            <div id=\"7b37d2ea-80f8-4816-b335-480b231ae676\" class=\"plotly-graph-div\" style=\"height:525px; width:100%;\"></div>\n",
       "            <script type=\"text/javascript\">\n",
       "                require([\"plotly\"], function(Plotly) {\n",
       "                    window.PLOTLYENV=window.PLOTLYENV || {};\n",
       "                    \n",
       "                if (document.getElementById(\"7b37d2ea-80f8-4816-b335-480b231ae676\")) {\n",
       "                    Plotly.newPlot(\n",
       "                        '7b37d2ea-80f8-4816-b335-480b231ae676',\n",
       "                        [{\"type\": \"bar\", \"x\": [\"human resource\", \"amazon com\", \"com base\", \"business partner\", \"resource professional\", \"resource assistant\", \"customer service\", \"demonstrate history\", \"history work\", \"resource business\", \"assistant amazon\", \"resource management\", \"partner amazon\", \"senior human\", \"state university\", \"employee relation\", \"industry skille\", \"experienced human\", \"performance management\", \"strong human\"], \"y\": [897, 283, 193, 148, 119, 117, 108, 104, 102, 95, 88, 86, 81, 79, 78, 74, 72, 72, 63, 56]}],\n",
       "                        {\"template\": {\"data\": {\"bar\": [{\"error_x\": {\"color\": \"#2a3f5f\"}, \"error_y\": {\"color\": \"#2a3f5f\"}, \"marker\": {\"line\": {\"color\": \"#E5ECF6\", \"width\": 0.5}}, \"type\": \"bar\"}], \"barpolar\": [{\"marker\": {\"line\": {\"color\": \"#E5ECF6\", \"width\": 0.5}}, \"type\": \"barpolar\"}], \"carpet\": [{\"aaxis\": {\"endlinecolor\": \"#2a3f5f\", \"gridcolor\": \"white\", \"linecolor\": \"white\", \"minorgridcolor\": \"white\", \"startlinecolor\": \"#2a3f5f\"}, \"baxis\": {\"endlinecolor\": \"#2a3f5f\", \"gridcolor\": \"white\", \"linecolor\": \"white\", \"minorgridcolor\": \"white\", \"startlinecolor\": \"#2a3f5f\"}, \"type\": \"carpet\"}], \"choropleth\": [{\"colorbar\": {\"outlinewidth\": 0, \"ticks\": \"\"}, \"type\": \"choropleth\"}], \"contour\": [{\"colorbar\": {\"outlinewidth\": 0, \"ticks\": \"\"}, \"colorscale\": [[0.0, \"#0d0887\"], [0.1111111111111111, \"#46039f\"], [0.2222222222222222, \"#7201a8\"], [0.3333333333333333, \"#9c179e\"], [0.4444444444444444, \"#bd3786\"], [0.5555555555555556, \"#d8576b\"], [0.6666666666666666, \"#ed7953\"], [0.7777777777777778, \"#fb9f3a\"], [0.8888888888888888, \"#fdca26\"], [1.0, \"#f0f921\"]], \"type\": \"contour\"}], \"contourcarpet\": [{\"colorbar\": {\"outlinewidth\": 0, \"ticks\": \"\"}, \"type\": \"contourcarpet\"}], \"heatmap\": [{\"colorbar\": {\"outlinewidth\": 0, \"ticks\": \"\"}, \"colorscale\": [[0.0, \"#0d0887\"], [0.1111111111111111, \"#46039f\"], [0.2222222222222222, \"#7201a8\"], [0.3333333333333333, \"#9c179e\"], [0.4444444444444444, \"#bd3786\"], [0.5555555555555556, \"#d8576b\"], [0.6666666666666666, \"#ed7953\"], [0.7777777777777778, \"#fb9f3a\"], [0.8888888888888888, \"#fdca26\"], [1.0, \"#f0f921\"]], \"type\": \"heatmap\"}], \"heatmapgl\": [{\"colorbar\": {\"outlinewidth\": 0, \"ticks\": \"\"}, \"colorscale\": [[0.0, \"#0d0887\"], [0.1111111111111111, \"#46039f\"], [0.2222222222222222, \"#7201a8\"], [0.3333333333333333, \"#9c179e\"], [0.4444444444444444, \"#bd3786\"], [0.5555555555555556, \"#d8576b\"], [0.6666666666666666, \"#ed7953\"], [0.7777777777777778, \"#fb9f3a\"], [0.8888888888888888, \"#fdca26\"], [1.0, \"#f0f921\"]], \"type\": \"heatmapgl\"}], \"histogram\": [{\"marker\": {\"colorbar\": {\"outlinewidth\": 0, \"ticks\": \"\"}}, \"type\": \"histogram\"}], \"histogram2d\": [{\"colorbar\": {\"outlinewidth\": 0, \"ticks\": \"\"}, \"colorscale\": [[0.0, \"#0d0887\"], [0.1111111111111111, \"#46039f\"], [0.2222222222222222, \"#7201a8\"], [0.3333333333333333, \"#9c179e\"], [0.4444444444444444, \"#bd3786\"], [0.5555555555555556, \"#d8576b\"], [0.6666666666666666, \"#ed7953\"], [0.7777777777777778, \"#fb9f3a\"], [0.8888888888888888, \"#fdca26\"], [1.0, \"#f0f921\"]], \"type\": \"histogram2d\"}], \"histogram2dcontour\": [{\"colorbar\": {\"outlinewidth\": 0, \"ticks\": \"\"}, \"colorscale\": [[0.0, \"#0d0887\"], [0.1111111111111111, \"#46039f\"], [0.2222222222222222, \"#7201a8\"], [0.3333333333333333, \"#9c179e\"], [0.4444444444444444, \"#bd3786\"], [0.5555555555555556, \"#d8576b\"], [0.6666666666666666, \"#ed7953\"], [0.7777777777777778, \"#fb9f3a\"], [0.8888888888888888, \"#fdca26\"], [1.0, \"#f0f921\"]], \"type\": \"histogram2dcontour\"}], \"mesh3d\": [{\"colorbar\": {\"outlinewidth\": 0, \"ticks\": \"\"}, \"type\": \"mesh3d\"}], \"parcoords\": [{\"line\": {\"colorbar\": {\"outlinewidth\": 0, \"ticks\": \"\"}}, \"type\": \"parcoords\"}], \"pie\": [{\"automargin\": true, \"type\": \"pie\"}], \"scatter\": [{\"marker\": {\"colorbar\": {\"outlinewidth\": 0, \"ticks\": \"\"}}, \"type\": \"scatter\"}], \"scatter3d\": [{\"line\": {\"colorbar\": {\"outlinewidth\": 0, \"ticks\": \"\"}}, \"marker\": {\"colorbar\": {\"outlinewidth\": 0, \"ticks\": \"\"}}, \"type\": \"scatter3d\"}], \"scattercarpet\": [{\"marker\": {\"colorbar\": {\"outlinewidth\": 0, \"ticks\": \"\"}}, \"type\": \"scattercarpet\"}], \"scattergeo\": [{\"marker\": {\"colorbar\": {\"outlinewidth\": 0, \"ticks\": \"\"}}, \"type\": \"scattergeo\"}], \"scattergl\": [{\"marker\": {\"colorbar\": {\"outlinewidth\": 0, \"ticks\": \"\"}}, \"type\": \"scattergl\"}], \"scattermapbox\": [{\"marker\": {\"colorbar\": {\"outlinewidth\": 0, \"ticks\": \"\"}}, \"type\": \"scattermapbox\"}], \"scatterpolar\": [{\"marker\": {\"colorbar\": {\"outlinewidth\": 0, \"ticks\": \"\"}}, \"type\": \"scatterpolar\"}], \"scatterpolargl\": [{\"marker\": {\"colorbar\": {\"outlinewidth\": 0, \"ticks\": \"\"}}, \"type\": \"scatterpolargl\"}], \"scatterternary\": [{\"marker\": {\"colorbar\": {\"outlinewidth\": 0, \"ticks\": \"\"}}, \"type\": \"scatterternary\"}], \"surface\": [{\"colorbar\": {\"outlinewidth\": 0, \"ticks\": \"\"}, \"colorscale\": [[0.0, \"#0d0887\"], [0.1111111111111111, \"#46039f\"], [0.2222222222222222, \"#7201a8\"], [0.3333333333333333, \"#9c179e\"], [0.4444444444444444, \"#bd3786\"], [0.5555555555555556, \"#d8576b\"], [0.6666666666666666, \"#ed7953\"], [0.7777777777777778, \"#fb9f3a\"], [0.8888888888888888, \"#fdca26\"], [1.0, \"#f0f921\"]], \"type\": \"surface\"}], \"table\": [{\"cells\": {\"fill\": {\"color\": \"#EBF0F8\"}, \"line\": {\"color\": \"white\"}}, \"header\": {\"fill\": {\"color\": \"#C8D4E3\"}, \"line\": {\"color\": \"white\"}}, \"type\": \"table\"}]}, \"layout\": {\"annotationdefaults\": {\"arrowcolor\": \"#2a3f5f\", \"arrowhead\": 0, \"arrowwidth\": 1}, \"coloraxis\": {\"colorbar\": {\"outlinewidth\": 0, \"ticks\": \"\"}}, \"colorscale\": {\"diverging\": [[0, \"#8e0152\"], [0.1, \"#c51b7d\"], [0.2, \"#de77ae\"], [0.3, \"#f1b6da\"], [0.4, \"#fde0ef\"], [0.5, \"#f7f7f7\"], [0.6, \"#e6f5d0\"], [0.7, \"#b8e186\"], [0.8, \"#7fbc41\"], [0.9, \"#4d9221\"], [1, \"#276419\"]], \"sequential\": [[0.0, \"#0d0887\"], [0.1111111111111111, \"#46039f\"], [0.2222222222222222, \"#7201a8\"], [0.3333333333333333, \"#9c179e\"], [0.4444444444444444, \"#bd3786\"], [0.5555555555555556, \"#d8576b\"], [0.6666666666666666, \"#ed7953\"], [0.7777777777777778, \"#fb9f3a\"], [0.8888888888888888, \"#fdca26\"], [1.0, \"#f0f921\"]], \"sequentialminus\": [[0.0, \"#0d0887\"], [0.1111111111111111, \"#46039f\"], [0.2222222222222222, \"#7201a8\"], [0.3333333333333333, \"#9c179e\"], [0.4444444444444444, \"#bd3786\"], [0.5555555555555556, \"#d8576b\"], [0.6666666666666666, \"#ed7953\"], [0.7777777777777778, \"#fb9f3a\"], [0.8888888888888888, \"#fdca26\"], [1.0, \"#f0f921\"]]}, \"colorway\": [\"#636efa\", \"#EF553B\", \"#00cc96\", \"#ab63fa\", \"#FFA15A\", \"#19d3f3\", \"#FF6692\", \"#B6E880\", \"#FF97FF\", \"#FECB52\"], \"font\": {\"color\": \"#2a3f5f\"}, \"geo\": {\"bgcolor\": \"white\", \"lakecolor\": \"white\", \"landcolor\": \"#E5ECF6\", \"showlakes\": true, \"showland\": true, \"subunitcolor\": \"white\"}, \"hoverlabel\": {\"align\": \"left\"}, \"hovermode\": \"closest\", \"mapbox\": {\"style\": \"light\"}, \"paper_bgcolor\": \"white\", \"plot_bgcolor\": \"#E5ECF6\", \"polar\": {\"angularaxis\": {\"gridcolor\": \"white\", \"linecolor\": \"white\", \"ticks\": \"\"}, \"bgcolor\": \"#E5ECF6\", \"radialaxis\": {\"gridcolor\": \"white\", \"linecolor\": \"white\", \"ticks\": \"\"}}, \"scene\": {\"xaxis\": {\"backgroundcolor\": \"#E5ECF6\", \"gridcolor\": \"white\", \"gridwidth\": 2, \"linecolor\": \"white\", \"showbackground\": true, \"ticks\": \"\", \"zerolinecolor\": \"white\"}, \"yaxis\": {\"backgroundcolor\": \"#E5ECF6\", \"gridcolor\": \"white\", \"gridwidth\": 2, \"linecolor\": \"white\", \"showbackground\": true, \"ticks\": \"\", \"zerolinecolor\": \"white\"}, \"zaxis\": {\"backgroundcolor\": \"#E5ECF6\", \"gridcolor\": \"white\", \"gridwidth\": 2, \"linecolor\": \"white\", \"showbackground\": true, \"ticks\": \"\", \"zerolinecolor\": \"white\"}}, \"shapedefaults\": {\"line\": {\"color\": \"#2a3f5f\"}}, \"ternary\": {\"aaxis\": {\"gridcolor\": \"white\", \"linecolor\": \"white\", \"ticks\": \"\"}, \"baxis\": {\"gridcolor\": \"white\", \"linecolor\": \"white\", \"ticks\": \"\"}, \"bgcolor\": \"#E5ECF6\", \"caxis\": {\"gridcolor\": \"white\", \"linecolor\": \"white\", \"ticks\": \"\"}}, \"title\": {\"x\": 0.05}, \"xaxis\": {\"automargin\": true, \"gridcolor\": \"white\", \"linecolor\": \"white\", \"ticks\": \"\", \"title\": {\"standoff\": 15}, \"zerolinecolor\": \"white\", \"zerolinewidth\": 2}, \"yaxis\": {\"automargin\": true, \"gridcolor\": \"white\", \"linecolor\": \"white\", \"ticks\": \"\", \"title\": {\"standoff\": 15}, \"zerolinecolor\": \"white\", \"zerolinewidth\": 2}}}, \"title\": {\"text\": \"Top 20 bigrams in the question text after removing stop words and lemmatization\"}},\n",
       "                        {\"responsive\": true}\n",
       "                    ).then(function(){\n",
       "                            \n",
       "var gd = document.getElementById('7b37d2ea-80f8-4816-b335-480b231ae676');\n",
       "var x = new MutationObserver(function (mutations, observer) {{\n",
       "        var display = window.getComputedStyle(gd).display;\n",
       "        if (!display || display === 'none') {{\n",
       "            console.log([gd, 'removed!']);\n",
       "            Plotly.purge(gd);\n",
       "            observer.disconnect();\n",
       "        }}\n",
       "}});\n",
       "\n",
       "// Listen for the removal of the full notebook cells\n",
       "var notebookContainer = gd.closest('#notebook-container');\n",
       "if (notebookContainer) {{\n",
       "    x.observe(notebookContainer, {childList: true});\n",
       "}}\n",
       "\n",
       "// Listen for the clearing of the current output cell\n",
       "var outputEl = gd.closest('.output');\n",
       "if (outputEl) {{\n",
       "    x.observe(outputEl, {childList: true});\n",
       "}}\n",
       "\n",
       "                        })\n",
       "                };\n",
       "                });\n",
       "            </script>\n",
       "        </div>"
      ]
     },
     "metadata": {},
     "output_type": "display_data"
    }
   ],
   "source": [
    "def get_top_n_bigram(corpus, n=None):\n",
    "    vec = CountVectorizer(ngram_range=(2, 2), stop_words='english').fit(corpus)\n",
    "    bag_of_words = vec.transform(corpus)\n",
    "    sum_words = bag_of_words.sum(axis=0) \n",
    "    words_freq = [(word, sum_words[0, idx]) for word, idx in vec.vocabulary_.items()]\n",
    "    words_freq =sorted(words_freq, key = lambda x: x[1], reverse=True)\n",
    "    return words_freq[:n]\n",
    "common_words = get_top_n_bigram(df_clean['description_clean'], 20)\n",
    "df3 = pd.DataFrame(common_words, columns = ['bigram' , 'count'])\n",
    "\n",
    "fig = go.Figure([go.Bar(x=df3['bigram'], y=df3['count'])])\n",
    "fig.update_layout(title=go.layout.Title(text=\"Top 20 bigrams in the question text after removing stop words and lemmatization\"))\n",
    "fig.show()"
   ]
  },
  {
   "cell_type": "code",
   "execution_count": 81,
   "metadata": {},
   "outputs": [
    {
     "data": {
      "application/vnd.plotly.v1+json": {
       "config": {
        "plotlyServerURL": "https://plot.ly"
       },
       "data": [
        {
         "type": "bar",
         "x": [
          "amazon com base",
          "human resource professional",
          "human resource assistant",
          "demonstrate history work",
          "human resource business",
          "resource business partner",
          "human resource management",
          "resource assistant amazon",
          "senior human resource",
          "business partner amazon",
          "assistant amazon com",
          "experienced human resource",
          "partner amazon com",
          "strong human resource",
          "human resource manager",
          "work human resource",
          "hr business partner",
          "sr human resource",
          "manager amazon com",
          "history work internet"
         ],
         "y": [
          193,
          118,
          117,
          97,
          95,
          90,
          84,
          82,
          78,
          77,
          74,
          72,
          62,
          56,
          50,
          43,
          36,
          36,
          33,
          31
         ]
        }
       ],
       "layout": {
        "template": {
         "data": {
          "bar": [
           {
            "error_x": {
             "color": "#2a3f5f"
            },
            "error_y": {
             "color": "#2a3f5f"
            },
            "marker": {
             "line": {
              "color": "#E5ECF6",
              "width": 0.5
             }
            },
            "type": "bar"
           }
          ],
          "barpolar": [
           {
            "marker": {
             "line": {
              "color": "#E5ECF6",
              "width": 0.5
             }
            },
            "type": "barpolar"
           }
          ],
          "carpet": [
           {
            "aaxis": {
             "endlinecolor": "#2a3f5f",
             "gridcolor": "white",
             "linecolor": "white",
             "minorgridcolor": "white",
             "startlinecolor": "#2a3f5f"
            },
            "baxis": {
             "endlinecolor": "#2a3f5f",
             "gridcolor": "white",
             "linecolor": "white",
             "minorgridcolor": "white",
             "startlinecolor": "#2a3f5f"
            },
            "type": "carpet"
           }
          ],
          "choropleth": [
           {
            "colorbar": {
             "outlinewidth": 0,
             "ticks": ""
            },
            "type": "choropleth"
           }
          ],
          "contour": [
           {
            "colorbar": {
             "outlinewidth": 0,
             "ticks": ""
            },
            "colorscale": [
             [
              0,
              "#0d0887"
             ],
             [
              0.1111111111111111,
              "#46039f"
             ],
             [
              0.2222222222222222,
              "#7201a8"
             ],
             [
              0.3333333333333333,
              "#9c179e"
             ],
             [
              0.4444444444444444,
              "#bd3786"
             ],
             [
              0.5555555555555556,
              "#d8576b"
             ],
             [
              0.6666666666666666,
              "#ed7953"
             ],
             [
              0.7777777777777778,
              "#fb9f3a"
             ],
             [
              0.8888888888888888,
              "#fdca26"
             ],
             [
              1,
              "#f0f921"
             ]
            ],
            "type": "contour"
           }
          ],
          "contourcarpet": [
           {
            "colorbar": {
             "outlinewidth": 0,
             "ticks": ""
            },
            "type": "contourcarpet"
           }
          ],
          "heatmap": [
           {
            "colorbar": {
             "outlinewidth": 0,
             "ticks": ""
            },
            "colorscale": [
             [
              0,
              "#0d0887"
             ],
             [
              0.1111111111111111,
              "#46039f"
             ],
             [
              0.2222222222222222,
              "#7201a8"
             ],
             [
              0.3333333333333333,
              "#9c179e"
             ],
             [
              0.4444444444444444,
              "#bd3786"
             ],
             [
              0.5555555555555556,
              "#d8576b"
             ],
             [
              0.6666666666666666,
              "#ed7953"
             ],
             [
              0.7777777777777778,
              "#fb9f3a"
             ],
             [
              0.8888888888888888,
              "#fdca26"
             ],
             [
              1,
              "#f0f921"
             ]
            ],
            "type": "heatmap"
           }
          ],
          "heatmapgl": [
           {
            "colorbar": {
             "outlinewidth": 0,
             "ticks": ""
            },
            "colorscale": [
             [
              0,
              "#0d0887"
             ],
             [
              0.1111111111111111,
              "#46039f"
             ],
             [
              0.2222222222222222,
              "#7201a8"
             ],
             [
              0.3333333333333333,
              "#9c179e"
             ],
             [
              0.4444444444444444,
              "#bd3786"
             ],
             [
              0.5555555555555556,
              "#d8576b"
             ],
             [
              0.6666666666666666,
              "#ed7953"
             ],
             [
              0.7777777777777778,
              "#fb9f3a"
             ],
             [
              0.8888888888888888,
              "#fdca26"
             ],
             [
              1,
              "#f0f921"
             ]
            ],
            "type": "heatmapgl"
           }
          ],
          "histogram": [
           {
            "marker": {
             "colorbar": {
              "outlinewidth": 0,
              "ticks": ""
             }
            },
            "type": "histogram"
           }
          ],
          "histogram2d": [
           {
            "colorbar": {
             "outlinewidth": 0,
             "ticks": ""
            },
            "colorscale": [
             [
              0,
              "#0d0887"
             ],
             [
              0.1111111111111111,
              "#46039f"
             ],
             [
              0.2222222222222222,
              "#7201a8"
             ],
             [
              0.3333333333333333,
              "#9c179e"
             ],
             [
              0.4444444444444444,
              "#bd3786"
             ],
             [
              0.5555555555555556,
              "#d8576b"
             ],
             [
              0.6666666666666666,
              "#ed7953"
             ],
             [
              0.7777777777777778,
              "#fb9f3a"
             ],
             [
              0.8888888888888888,
              "#fdca26"
             ],
             [
              1,
              "#f0f921"
             ]
            ],
            "type": "histogram2d"
           }
          ],
          "histogram2dcontour": [
           {
            "colorbar": {
             "outlinewidth": 0,
             "ticks": ""
            },
            "colorscale": [
             [
              0,
              "#0d0887"
             ],
             [
              0.1111111111111111,
              "#46039f"
             ],
             [
              0.2222222222222222,
              "#7201a8"
             ],
             [
              0.3333333333333333,
              "#9c179e"
             ],
             [
              0.4444444444444444,
              "#bd3786"
             ],
             [
              0.5555555555555556,
              "#d8576b"
             ],
             [
              0.6666666666666666,
              "#ed7953"
             ],
             [
              0.7777777777777778,
              "#fb9f3a"
             ],
             [
              0.8888888888888888,
              "#fdca26"
             ],
             [
              1,
              "#f0f921"
             ]
            ],
            "type": "histogram2dcontour"
           }
          ],
          "mesh3d": [
           {
            "colorbar": {
             "outlinewidth": 0,
             "ticks": ""
            },
            "type": "mesh3d"
           }
          ],
          "parcoords": [
           {
            "line": {
             "colorbar": {
              "outlinewidth": 0,
              "ticks": ""
             }
            },
            "type": "parcoords"
           }
          ],
          "pie": [
           {
            "automargin": true,
            "type": "pie"
           }
          ],
          "scatter": [
           {
            "marker": {
             "colorbar": {
              "outlinewidth": 0,
              "ticks": ""
             }
            },
            "type": "scatter"
           }
          ],
          "scatter3d": [
           {
            "line": {
             "colorbar": {
              "outlinewidth": 0,
              "ticks": ""
             }
            },
            "marker": {
             "colorbar": {
              "outlinewidth": 0,
              "ticks": ""
             }
            },
            "type": "scatter3d"
           }
          ],
          "scattercarpet": [
           {
            "marker": {
             "colorbar": {
              "outlinewidth": 0,
              "ticks": ""
             }
            },
            "type": "scattercarpet"
           }
          ],
          "scattergeo": [
           {
            "marker": {
             "colorbar": {
              "outlinewidth": 0,
              "ticks": ""
             }
            },
            "type": "scattergeo"
           }
          ],
          "scattergl": [
           {
            "marker": {
             "colorbar": {
              "outlinewidth": 0,
              "ticks": ""
             }
            },
            "type": "scattergl"
           }
          ],
          "scattermapbox": [
           {
            "marker": {
             "colorbar": {
              "outlinewidth": 0,
              "ticks": ""
             }
            },
            "type": "scattermapbox"
           }
          ],
          "scatterpolar": [
           {
            "marker": {
             "colorbar": {
              "outlinewidth": 0,
              "ticks": ""
             }
            },
            "type": "scatterpolar"
           }
          ],
          "scatterpolargl": [
           {
            "marker": {
             "colorbar": {
              "outlinewidth": 0,
              "ticks": ""
             }
            },
            "type": "scatterpolargl"
           }
          ],
          "scatterternary": [
           {
            "marker": {
             "colorbar": {
              "outlinewidth": 0,
              "ticks": ""
             }
            },
            "type": "scatterternary"
           }
          ],
          "surface": [
           {
            "colorbar": {
             "outlinewidth": 0,
             "ticks": ""
            },
            "colorscale": [
             [
              0,
              "#0d0887"
             ],
             [
              0.1111111111111111,
              "#46039f"
             ],
             [
              0.2222222222222222,
              "#7201a8"
             ],
             [
              0.3333333333333333,
              "#9c179e"
             ],
             [
              0.4444444444444444,
              "#bd3786"
             ],
             [
              0.5555555555555556,
              "#d8576b"
             ],
             [
              0.6666666666666666,
              "#ed7953"
             ],
             [
              0.7777777777777778,
              "#fb9f3a"
             ],
             [
              0.8888888888888888,
              "#fdca26"
             ],
             [
              1,
              "#f0f921"
             ]
            ],
            "type": "surface"
           }
          ],
          "table": [
           {
            "cells": {
             "fill": {
              "color": "#EBF0F8"
             },
             "line": {
              "color": "white"
             }
            },
            "header": {
             "fill": {
              "color": "#C8D4E3"
             },
             "line": {
              "color": "white"
             }
            },
            "type": "table"
           }
          ]
         },
         "layout": {
          "annotationdefaults": {
           "arrowcolor": "#2a3f5f",
           "arrowhead": 0,
           "arrowwidth": 1
          },
          "coloraxis": {
           "colorbar": {
            "outlinewidth": 0,
            "ticks": ""
           }
          },
          "colorscale": {
           "diverging": [
            [
             0,
             "#8e0152"
            ],
            [
             0.1,
             "#c51b7d"
            ],
            [
             0.2,
             "#de77ae"
            ],
            [
             0.3,
             "#f1b6da"
            ],
            [
             0.4,
             "#fde0ef"
            ],
            [
             0.5,
             "#f7f7f7"
            ],
            [
             0.6,
             "#e6f5d0"
            ],
            [
             0.7,
             "#b8e186"
            ],
            [
             0.8,
             "#7fbc41"
            ],
            [
             0.9,
             "#4d9221"
            ],
            [
             1,
             "#276419"
            ]
           ],
           "sequential": [
            [
             0,
             "#0d0887"
            ],
            [
             0.1111111111111111,
             "#46039f"
            ],
            [
             0.2222222222222222,
             "#7201a8"
            ],
            [
             0.3333333333333333,
             "#9c179e"
            ],
            [
             0.4444444444444444,
             "#bd3786"
            ],
            [
             0.5555555555555556,
             "#d8576b"
            ],
            [
             0.6666666666666666,
             "#ed7953"
            ],
            [
             0.7777777777777778,
             "#fb9f3a"
            ],
            [
             0.8888888888888888,
             "#fdca26"
            ],
            [
             1,
             "#f0f921"
            ]
           ],
           "sequentialminus": [
            [
             0,
             "#0d0887"
            ],
            [
             0.1111111111111111,
             "#46039f"
            ],
            [
             0.2222222222222222,
             "#7201a8"
            ],
            [
             0.3333333333333333,
             "#9c179e"
            ],
            [
             0.4444444444444444,
             "#bd3786"
            ],
            [
             0.5555555555555556,
             "#d8576b"
            ],
            [
             0.6666666666666666,
             "#ed7953"
            ],
            [
             0.7777777777777778,
             "#fb9f3a"
            ],
            [
             0.8888888888888888,
             "#fdca26"
            ],
            [
             1,
             "#f0f921"
            ]
           ]
          },
          "colorway": [
           "#636efa",
           "#EF553B",
           "#00cc96",
           "#ab63fa",
           "#FFA15A",
           "#19d3f3",
           "#FF6692",
           "#B6E880",
           "#FF97FF",
           "#FECB52"
          ],
          "font": {
           "color": "#2a3f5f"
          },
          "geo": {
           "bgcolor": "white",
           "lakecolor": "white",
           "landcolor": "#E5ECF6",
           "showlakes": true,
           "showland": true,
           "subunitcolor": "white"
          },
          "hoverlabel": {
           "align": "left"
          },
          "hovermode": "closest",
          "mapbox": {
           "style": "light"
          },
          "paper_bgcolor": "white",
          "plot_bgcolor": "#E5ECF6",
          "polar": {
           "angularaxis": {
            "gridcolor": "white",
            "linecolor": "white",
            "ticks": ""
           },
           "bgcolor": "#E5ECF6",
           "radialaxis": {
            "gridcolor": "white",
            "linecolor": "white",
            "ticks": ""
           }
          },
          "scene": {
           "xaxis": {
            "backgroundcolor": "#E5ECF6",
            "gridcolor": "white",
            "gridwidth": 2,
            "linecolor": "white",
            "showbackground": true,
            "ticks": "",
            "zerolinecolor": "white"
           },
           "yaxis": {
            "backgroundcolor": "#E5ECF6",
            "gridcolor": "white",
            "gridwidth": 2,
            "linecolor": "white",
            "showbackground": true,
            "ticks": "",
            "zerolinecolor": "white"
           },
           "zaxis": {
            "backgroundcolor": "#E5ECF6",
            "gridcolor": "white",
            "gridwidth": 2,
            "linecolor": "white",
            "showbackground": true,
            "ticks": "",
            "zerolinecolor": "white"
           }
          },
          "shapedefaults": {
           "line": {
            "color": "#2a3f5f"
           }
          },
          "ternary": {
           "aaxis": {
            "gridcolor": "white",
            "linecolor": "white",
            "ticks": ""
           },
           "baxis": {
            "gridcolor": "white",
            "linecolor": "white",
            "ticks": ""
           },
           "bgcolor": "#E5ECF6",
           "caxis": {
            "gridcolor": "white",
            "linecolor": "white",
            "ticks": ""
           }
          },
          "title": {
           "x": 0.05
          },
          "xaxis": {
           "automargin": true,
           "gridcolor": "white",
           "linecolor": "white",
           "ticks": "",
           "title": {
            "standoff": 15
           },
           "zerolinecolor": "white",
           "zerolinewidth": 2
          },
          "yaxis": {
           "automargin": true,
           "gridcolor": "white",
           "linecolor": "white",
           "ticks": "",
           "title": {
            "standoff": 15
           },
           "zerolinecolor": "white",
           "zerolinewidth": 2
          }
         }
        },
        "title": {
         "text": "Top 20 bigrams in the question text after removing stop words and lemmatization"
        }
       }
      },
      "text/html": [
       "<div>\n",
       "        \n",
       "        \n",
       "            <div id=\"c8250948-e672-416c-b81f-e65f05fe50b9\" class=\"plotly-graph-div\" style=\"height:525px; width:100%;\"></div>\n",
       "            <script type=\"text/javascript\">\n",
       "                require([\"plotly\"], function(Plotly) {\n",
       "                    window.PLOTLYENV=window.PLOTLYENV || {};\n",
       "                    \n",
       "                if (document.getElementById(\"c8250948-e672-416c-b81f-e65f05fe50b9\")) {\n",
       "                    Plotly.newPlot(\n",
       "                        'c8250948-e672-416c-b81f-e65f05fe50b9',\n",
       "                        [{\"type\": \"bar\", \"x\": [\"amazon com base\", \"human resource professional\", \"human resource assistant\", \"demonstrate history work\", \"human resource business\", \"resource business partner\", \"human resource management\", \"resource assistant amazon\", \"senior human resource\", \"business partner amazon\", \"assistant amazon com\", \"experienced human resource\", \"partner amazon com\", \"strong human resource\", \"human resource manager\", \"work human resource\", \"hr business partner\", \"sr human resource\", \"manager amazon com\", \"history work internet\"], \"y\": [193, 118, 117, 97, 95, 90, 84, 82, 78, 77, 74, 72, 62, 56, 50, 43, 36, 36, 33, 31]}],\n",
       "                        {\"template\": {\"data\": {\"bar\": [{\"error_x\": {\"color\": \"#2a3f5f\"}, \"error_y\": {\"color\": \"#2a3f5f\"}, \"marker\": {\"line\": {\"color\": \"#E5ECF6\", \"width\": 0.5}}, \"type\": \"bar\"}], \"barpolar\": [{\"marker\": {\"line\": {\"color\": \"#E5ECF6\", \"width\": 0.5}}, \"type\": \"barpolar\"}], \"carpet\": [{\"aaxis\": {\"endlinecolor\": \"#2a3f5f\", \"gridcolor\": \"white\", \"linecolor\": \"white\", \"minorgridcolor\": \"white\", \"startlinecolor\": \"#2a3f5f\"}, \"baxis\": {\"endlinecolor\": \"#2a3f5f\", \"gridcolor\": \"white\", \"linecolor\": \"white\", \"minorgridcolor\": \"white\", \"startlinecolor\": \"#2a3f5f\"}, \"type\": \"carpet\"}], \"choropleth\": [{\"colorbar\": {\"outlinewidth\": 0, \"ticks\": \"\"}, \"type\": \"choropleth\"}], \"contour\": [{\"colorbar\": {\"outlinewidth\": 0, \"ticks\": \"\"}, \"colorscale\": [[0.0, \"#0d0887\"], [0.1111111111111111, \"#46039f\"], [0.2222222222222222, \"#7201a8\"], [0.3333333333333333, \"#9c179e\"], [0.4444444444444444, \"#bd3786\"], [0.5555555555555556, \"#d8576b\"], [0.6666666666666666, \"#ed7953\"], [0.7777777777777778, \"#fb9f3a\"], [0.8888888888888888, \"#fdca26\"], [1.0, \"#f0f921\"]], \"type\": \"contour\"}], \"contourcarpet\": [{\"colorbar\": {\"outlinewidth\": 0, \"ticks\": \"\"}, \"type\": \"contourcarpet\"}], \"heatmap\": [{\"colorbar\": {\"outlinewidth\": 0, \"ticks\": \"\"}, \"colorscale\": [[0.0, \"#0d0887\"], [0.1111111111111111, \"#46039f\"], [0.2222222222222222, \"#7201a8\"], [0.3333333333333333, \"#9c179e\"], [0.4444444444444444, \"#bd3786\"], [0.5555555555555556, \"#d8576b\"], [0.6666666666666666, \"#ed7953\"], [0.7777777777777778, \"#fb9f3a\"], [0.8888888888888888, \"#fdca26\"], [1.0, \"#f0f921\"]], \"type\": \"heatmap\"}], \"heatmapgl\": [{\"colorbar\": {\"outlinewidth\": 0, \"ticks\": \"\"}, \"colorscale\": [[0.0, \"#0d0887\"], [0.1111111111111111, \"#46039f\"], [0.2222222222222222, \"#7201a8\"], [0.3333333333333333, \"#9c179e\"], [0.4444444444444444, \"#bd3786\"], [0.5555555555555556, \"#d8576b\"], [0.6666666666666666, \"#ed7953\"], [0.7777777777777778, \"#fb9f3a\"], [0.8888888888888888, \"#fdca26\"], [1.0, \"#f0f921\"]], \"type\": \"heatmapgl\"}], \"histogram\": [{\"marker\": {\"colorbar\": {\"outlinewidth\": 0, \"ticks\": \"\"}}, \"type\": \"histogram\"}], \"histogram2d\": [{\"colorbar\": {\"outlinewidth\": 0, \"ticks\": \"\"}, \"colorscale\": [[0.0, \"#0d0887\"], [0.1111111111111111, \"#46039f\"], [0.2222222222222222, \"#7201a8\"], [0.3333333333333333, \"#9c179e\"], [0.4444444444444444, \"#bd3786\"], [0.5555555555555556, \"#d8576b\"], [0.6666666666666666, \"#ed7953\"], [0.7777777777777778, \"#fb9f3a\"], [0.8888888888888888, \"#fdca26\"], [1.0, \"#f0f921\"]], \"type\": \"histogram2d\"}], \"histogram2dcontour\": [{\"colorbar\": {\"outlinewidth\": 0, \"ticks\": \"\"}, \"colorscale\": [[0.0, \"#0d0887\"], [0.1111111111111111, \"#46039f\"], [0.2222222222222222, \"#7201a8\"], [0.3333333333333333, \"#9c179e\"], [0.4444444444444444, \"#bd3786\"], [0.5555555555555556, \"#d8576b\"], [0.6666666666666666, \"#ed7953\"], [0.7777777777777778, \"#fb9f3a\"], [0.8888888888888888, \"#fdca26\"], [1.0, \"#f0f921\"]], \"type\": \"histogram2dcontour\"}], \"mesh3d\": [{\"colorbar\": {\"outlinewidth\": 0, \"ticks\": \"\"}, \"type\": \"mesh3d\"}], \"parcoords\": [{\"line\": {\"colorbar\": {\"outlinewidth\": 0, \"ticks\": \"\"}}, \"type\": \"parcoords\"}], \"pie\": [{\"automargin\": true, \"type\": \"pie\"}], \"scatter\": [{\"marker\": {\"colorbar\": {\"outlinewidth\": 0, \"ticks\": \"\"}}, \"type\": \"scatter\"}], \"scatter3d\": [{\"line\": {\"colorbar\": {\"outlinewidth\": 0, \"ticks\": \"\"}}, \"marker\": {\"colorbar\": {\"outlinewidth\": 0, \"ticks\": \"\"}}, \"type\": \"scatter3d\"}], \"scattercarpet\": [{\"marker\": {\"colorbar\": {\"outlinewidth\": 0, \"ticks\": \"\"}}, \"type\": \"scattercarpet\"}], \"scattergeo\": [{\"marker\": {\"colorbar\": {\"outlinewidth\": 0, \"ticks\": \"\"}}, \"type\": \"scattergeo\"}], \"scattergl\": [{\"marker\": {\"colorbar\": {\"outlinewidth\": 0, \"ticks\": \"\"}}, \"type\": \"scattergl\"}], \"scattermapbox\": [{\"marker\": {\"colorbar\": {\"outlinewidth\": 0, \"ticks\": \"\"}}, \"type\": \"scattermapbox\"}], \"scatterpolar\": [{\"marker\": {\"colorbar\": {\"outlinewidth\": 0, \"ticks\": \"\"}}, \"type\": \"scatterpolar\"}], \"scatterpolargl\": [{\"marker\": {\"colorbar\": {\"outlinewidth\": 0, \"ticks\": \"\"}}, \"type\": \"scatterpolargl\"}], \"scatterternary\": [{\"marker\": {\"colorbar\": {\"outlinewidth\": 0, \"ticks\": \"\"}}, \"type\": \"scatterternary\"}], \"surface\": [{\"colorbar\": {\"outlinewidth\": 0, \"ticks\": \"\"}, \"colorscale\": [[0.0, \"#0d0887\"], [0.1111111111111111, \"#46039f\"], [0.2222222222222222, \"#7201a8\"], [0.3333333333333333, \"#9c179e\"], [0.4444444444444444, \"#bd3786\"], [0.5555555555555556, \"#d8576b\"], [0.6666666666666666, \"#ed7953\"], [0.7777777777777778, \"#fb9f3a\"], [0.8888888888888888, \"#fdca26\"], [1.0, \"#f0f921\"]], \"type\": \"surface\"}], \"table\": [{\"cells\": {\"fill\": {\"color\": \"#EBF0F8\"}, \"line\": {\"color\": \"white\"}}, \"header\": {\"fill\": {\"color\": \"#C8D4E3\"}, \"line\": {\"color\": \"white\"}}, \"type\": \"table\"}]}, \"layout\": {\"annotationdefaults\": {\"arrowcolor\": \"#2a3f5f\", \"arrowhead\": 0, \"arrowwidth\": 1}, \"coloraxis\": {\"colorbar\": {\"outlinewidth\": 0, \"ticks\": \"\"}}, \"colorscale\": {\"diverging\": [[0, \"#8e0152\"], [0.1, \"#c51b7d\"], [0.2, \"#de77ae\"], [0.3, \"#f1b6da\"], [0.4, \"#fde0ef\"], [0.5, \"#f7f7f7\"], [0.6, \"#e6f5d0\"], [0.7, \"#b8e186\"], [0.8, \"#7fbc41\"], [0.9, \"#4d9221\"], [1, \"#276419\"]], \"sequential\": [[0.0, \"#0d0887\"], [0.1111111111111111, \"#46039f\"], [0.2222222222222222, \"#7201a8\"], [0.3333333333333333, \"#9c179e\"], [0.4444444444444444, \"#bd3786\"], [0.5555555555555556, \"#d8576b\"], [0.6666666666666666, \"#ed7953\"], [0.7777777777777778, \"#fb9f3a\"], [0.8888888888888888, \"#fdca26\"], [1.0, \"#f0f921\"]], \"sequentialminus\": [[0.0, \"#0d0887\"], [0.1111111111111111, \"#46039f\"], [0.2222222222222222, \"#7201a8\"], [0.3333333333333333, \"#9c179e\"], [0.4444444444444444, \"#bd3786\"], [0.5555555555555556, \"#d8576b\"], [0.6666666666666666, \"#ed7953\"], [0.7777777777777778, \"#fb9f3a\"], [0.8888888888888888, \"#fdca26\"], [1.0, \"#f0f921\"]]}, \"colorway\": [\"#636efa\", \"#EF553B\", \"#00cc96\", \"#ab63fa\", \"#FFA15A\", \"#19d3f3\", \"#FF6692\", \"#B6E880\", \"#FF97FF\", \"#FECB52\"], \"font\": {\"color\": \"#2a3f5f\"}, \"geo\": {\"bgcolor\": \"white\", \"lakecolor\": \"white\", \"landcolor\": \"#E5ECF6\", \"showlakes\": true, \"showland\": true, \"subunitcolor\": \"white\"}, \"hoverlabel\": {\"align\": \"left\"}, \"hovermode\": \"closest\", \"mapbox\": {\"style\": \"light\"}, \"paper_bgcolor\": \"white\", \"plot_bgcolor\": \"#E5ECF6\", \"polar\": {\"angularaxis\": {\"gridcolor\": \"white\", \"linecolor\": \"white\", \"ticks\": \"\"}, \"bgcolor\": \"#E5ECF6\", \"radialaxis\": {\"gridcolor\": \"white\", \"linecolor\": \"white\", \"ticks\": \"\"}}, \"scene\": {\"xaxis\": {\"backgroundcolor\": \"#E5ECF6\", \"gridcolor\": \"white\", \"gridwidth\": 2, \"linecolor\": \"white\", \"showbackground\": true, \"ticks\": \"\", \"zerolinecolor\": \"white\"}, \"yaxis\": {\"backgroundcolor\": \"#E5ECF6\", \"gridcolor\": \"white\", \"gridwidth\": 2, \"linecolor\": \"white\", \"showbackground\": true, \"ticks\": \"\", \"zerolinecolor\": \"white\"}, \"zaxis\": {\"backgroundcolor\": \"#E5ECF6\", \"gridcolor\": \"white\", \"gridwidth\": 2, \"linecolor\": \"white\", \"showbackground\": true, \"ticks\": \"\", \"zerolinecolor\": \"white\"}}, \"shapedefaults\": {\"line\": {\"color\": \"#2a3f5f\"}}, \"ternary\": {\"aaxis\": {\"gridcolor\": \"white\", \"linecolor\": \"white\", \"ticks\": \"\"}, \"baxis\": {\"gridcolor\": \"white\", \"linecolor\": \"white\", \"ticks\": \"\"}, \"bgcolor\": \"#E5ECF6\", \"caxis\": {\"gridcolor\": \"white\", \"linecolor\": \"white\", \"ticks\": \"\"}}, \"title\": {\"x\": 0.05}, \"xaxis\": {\"automargin\": true, \"gridcolor\": \"white\", \"linecolor\": \"white\", \"ticks\": \"\", \"title\": {\"standoff\": 15}, \"zerolinecolor\": \"white\", \"zerolinewidth\": 2}, \"yaxis\": {\"automargin\": true, \"gridcolor\": \"white\", \"linecolor\": \"white\", \"ticks\": \"\", \"title\": {\"standoff\": 15}, \"zerolinecolor\": \"white\", \"zerolinewidth\": 2}}}, \"title\": {\"text\": \"Top 20 bigrams in the question text after removing stop words and lemmatization\"}},\n",
       "                        {\"responsive\": true}\n",
       "                    ).then(function(){\n",
       "                            \n",
       "var gd = document.getElementById('c8250948-e672-416c-b81f-e65f05fe50b9');\n",
       "var x = new MutationObserver(function (mutations, observer) {{\n",
       "        var display = window.getComputedStyle(gd).display;\n",
       "        if (!display || display === 'none') {{\n",
       "            console.log([gd, 'removed!']);\n",
       "            Plotly.purge(gd);\n",
       "            observer.disconnect();\n",
       "        }}\n",
       "}});\n",
       "\n",
       "// Listen for the removal of the full notebook cells\n",
       "var notebookContainer = gd.closest('#notebook-container');\n",
       "if (notebookContainer) {{\n",
       "    x.observe(notebookContainer, {childList: true});\n",
       "}}\n",
       "\n",
       "// Listen for the clearing of the current output cell\n",
       "var outputEl = gd.closest('.output');\n",
       "if (outputEl) {{\n",
       "    x.observe(outputEl, {childList: true});\n",
       "}}\n",
       "\n",
       "                        })\n",
       "                };\n",
       "                });\n",
       "            </script>\n",
       "        </div>"
      ]
     },
     "metadata": {},
     "output_type": "display_data"
    }
   ],
   "source": [
    "def get_top_n_bigram(corpus, n=None):\n",
    "    vec = CountVectorizer(ngram_range=(3, 3), stop_words='english').fit(corpus)\n",
    "    bag_of_words = vec.transform(corpus)\n",
    "    sum_words = bag_of_words.sum(axis=0) \n",
    "    words_freq = [(word, sum_words[0, idx]) for word, idx in vec.vocabulary_.items()]\n",
    "    words_freq =sorted(words_freq, key = lambda x: x[1], reverse=True)\n",
    "    return words_freq[:n]\n",
    "\n",
    "common_words = get_top_n_bigram(df_clean['description_clean'], 20)\n",
    "df3 = pd.DataFrame(common_words, columns = ['bigram' , 'count'])\n",
    "\n",
    "fig = go.Figure([go.Bar(x=df3['bigram'], y=df3['count'])])\n",
    "fig.update_layout(title=go.layout.Title(text=\"Top 20 bigrams in the question text after removing stop words and lemmatization\"))\n",
    "fig.show()"
   ]
  },
  {
   "cell_type": "code",
   "execution_count": 42,
   "metadata": {},
   "outputs": [
    {
     "data": {
      "text/html": [
       "\n",
       "<link rel=\"stylesheet\" type=\"text/css\" href=\"https://cdn.rawgit.com/bmabey/pyLDAvis/files/ldavis.v1.0.0.css\">\n",
       "\n",
       "\n",
       "<div id=\"ldavis_el478811404207273253927958347447\"></div>\n",
       "<script type=\"text/javascript\">\n",
       "\n",
       "var ldavis_el478811404207273253927958347447_data = {\"mdsDat\": {\"x\": [-10.878067970275879, -60.88402557373047, -2.3361191749572754, -61.385318756103516, -28.737743377685547, 1.0666056871414185, 45.14072036743164, -140.7959747314453, 61.531681060791016, -72.56305694580078, 15.984491348266602, -160.85162353515625, 85.96183013916016, -99.02083587646484, -176.76412963867188, -117.18988037109375, 108.82991790771484, 47.588096618652344, -106.46783447265625, -50.61380386352539], \"y\": [10.538727760314941, -75.5918197631836, -53.2890739440918, -12.914633750915527, 126.2969970703125, -123.55281066894531, -7.947869300842285, -98.53054809570312, -83.24056243896484, -140.39688110351562, 63.57818603515625, 68.94514465332031, 51.922935485839844, 109.93634796142578, -8.681683540344238, -37.42020034790039, -22.946203231811523, 121.934814453125, 30.176889419555664, 59.32884216308594], \"topics\": [1, 2, 3, 4, 5, 6, 7, 8, 9, 10, 11, 12, 13, 14, 15, 16, 17, 18, 19, 20], \"cluster\": [1, 1, 1, 1, 1, 1, 1, 1, 1, 1, 1, 1, 1, 1, 1, 1, 1, 1, 1, 1], \"Freq\": [34.775897011853786, 30.76059359685741, 14.000409865450344, 6.899189157360065, 3.160659314190589, 2.378754268419135, 1.942715025163904, 1.3065440904413879, 0.8862002366255012, 0.6770400517983368, 0.6278453773299825, 0.5019018538016325, 0.3096899467340237, 0.30497378240252143, 0.2834853503452073, 0.2737798322800495, 0.2633402559007598, 0.2344797959606942, 0.2195750959557393, 0.19292609112893427]}, \"tinfo\": {\"Term\": [\"sale\", \"nike\", \"university\", \"base\", \"new\", \"management\", \"assistant\", \"experience\", \"retail\", \"marketing\", \"director\", \"business\", \"brand\", \"year\", \"associate\", \"student\", \"communication\", \"industry\", \"product\", \"attend\", \"great\", \"personal\", \"professional\", \"customer\", \"australia\", \"account\", \"team\", \"california\", \"good\", \"san\", \"goal\", \"individual\", \"make\", \"love\", \"able\", \"grow\", \"learn\", \"enjoy\", \"positive\", \"change\", \"allow\", \"person\", \"know\", \"seek\", \"life\", \"obtain\", \"position\", \"look\", \"want\", \"field\", \"complete\", \"career\", \"value\", \"set\", \"reach\", \"try\", \"way\", \"gain\", \"psychology\", \"past\", \"passion\", \"role\", \"help\", \"major\", \"provide\", \"environment\", \"people\", \"different\", \"currently\", \"skill\", \"year\", \"sport\", \"experience\", \"time\", \"opportunity\", \"work\", \"team\", \"customer\", \"new\", \"good\", \"student\", \"knowledge\", \"university\", \"industry\", \"service\", \"study\", \"business\", \"communication\", \"management\", \"marketing\", \"attend\", \"canada\", \"york\", \"base\", \"portland\", \"corp\", \"berlin\", \"coordinator\", \"und\", \"kingdom\", \"amsterdam\", \"germany\", \"boston\", \"associate\", \"united\", \"universit\", \"grammar\", \"head\", \"beaverton\", \"farm\", \"virginia\", \"milano\", \"noordholland\", \"manager\", \"graduating\", \"starbucks\", \"frankfurt\", \"park\", \"oregon\", \"crew\", \"nike\", \"intern\", \"assistant\", \"north\", \"cashier\", \"netherlands\", \"sale\", \"specialist\", \"area\", \"executive\", \"study\", \"representative\", \"school\", \"college\", \"university\", \"director\", \"account\", \"work\", \"student\", \"california\", \"state\", \"group\", \"high\", \"business\", \"new\", \"retail\", \"marketing\", \"service\", \"skille\", \"experienced\", \"microsoft\", \"history\", \"salesperson\", \"negotiation\", \"analysis\", \"demonstrate\", \"write\", \"data\", \"speak\", \"sporting\", \"word\", \"fmcg\", \"banking\", \"complex\", \"enable\", \"powerpoint\", \"hospitality\", \"crm\", \"optimization\", \"verbal\", \"execute\", \"crossfunctional\", \"bba\", \"proficient\", \"excel\", \"client\", \"asset\", \"unique\", \"professional\", \"focus\", \"strong\", \"industry\", \"bachelor\", \"management\", \"relationship\", \"general\", \"public\", \"good\", \"relation\", \"degree\", \"leadership\", \"customer\", \"service\", \"marketing\", \"communication\", \"sale\", \"retail\", \"business\", \"work\", \"university\", \"experience\", \"graduate\", \"supply\", \"chain\", \"effective\", \"security\", \"solver\", \"execution\", \"cross\", \"solution\", \"application\", \"als\", \"entrepreneurial\", \"stakeholder\", \"native\", \"lake\", \"functional\", \"brown\", \"fluent\", \"conduct\", \"grant\", \"blue\", \"swoosh\", \"italian\", \"scale\", \"accomplished\", \"rank\", \"demand\", \"worldwide\", \"productive\", \"software\", \"capacity\", \"activity\", \"end\", \"revenue\", \"skillset\", \"project\", \"result\", \"process\", \"planning\", \"certify\", \"operation\", \"deliver\", \"prove\", \"lead\", \"strategic\", \"business\", \"experience\", \"management\", \"problem\", \"development\", \"record\", \"leader\", \"team\", \"english\", \"partner\", \"knowledge\", \"strategy\", \"skill\", \"international\", \"technology\", \"include\", \"nike\", \"company\", \"sale\", \"year\", \"opportunity\", \"customer\", \"plan\", \"golf\", \"designer\", \"graphic\", \"australian\", \"pga\", \"campaign\", \"web\", \"website\", \"olympics\", \"later\", \"additional\", \"presentation\", \"criminology\", \"rmit\", \"research\", \"honour\", \"entrepreneurship\", \"award\", \"budget\", \"section\", \"tool\", \"design\", \"space\", \"represent\", \"committee\", \"recruitment\", \"advisory\", \"prior\", \"involvement\", \"select\", \"msc\", \"football\", \"range\", \"national\", \"mentor\", \"fastpaced\", \"manage\", \"club\", \"brand\", \"marketing\", \"digital\", \"year\", \"fashion\", \"project\", \"account\", \"category\", \"nike\", \"sale\", \"rep\", \"currently\", \"emea\", \"distribution\", \"wholesale\", \"online\", \"kpi\", \"trade\", \"channel\", \"accessory\", \"portfolio\", \"exp\", \"enterprise\", \"rience\", \"direction\", \"unit\", \"marketplace\", \"site\", \"assortment\", \"product\", \"solid\", \"organisation\", \"line\", \"tracking\", \"broad\", \"commercial\", \"matrix\", \"logistic\", \"retailer\", \"plus\", \"coaching\", \"distributor\", \"performance\", \"market\", \"sportswear\", \"strategy\", \"retail\", \"management\", \"financial\", \"expertise\", \"experience\", \"sale\", \"development\", \"account\", \"team\", \"planning\", \"company\", \"business\", \"new\", \"challenge\", \"good\", \"executive\", \"app\", \"las\", \"irvine\", \"cticas\", \"newark\", \"vegas\", \"rock\", \"slippery\", \"orientation\", \"del\", \"early\", \"outreach\", \"childhood\", \"sneaker\", \"rutgers\", \"jersey\", \"inspiration\", \"wisconsin\", \"employee\", \"della\", \"mobile\", \"majoring\", \"nevada\", \"writing\", \"entertainment\", \"list\", \"johnson\", \"exchange\", \"sophomore\", \"innovation\", \"technical\", \"human\", \"factory\", \"community\", \"resource\", \"cofounder\", \"athlete\", \"education\", \"store\", \"event\", \"student\", \"service\", \"management\", \"university\", \"nike\", \"graduate\", \"sydney\", \"unsw\", \"south\", \"wales\", \"clinic\", \"tutor\", \"macewan\", \"waiter\", \"mcdonald\", \"dame\", \"mathematics\", \"primary\", \"vice\", \"eye\", \"australia\", \"president\", \"notre\", \"francisco\", \"tour\", \"dental\", \"studio\", \"alternative\", \"physical\", \"prevent\", \"therapist\", \"society\", \"therapy\", \"zealand\", \"little\", \"colorado\", \"receptionist\", \"new\", \"assistant\", \"california\", \"university\", \"graduating\", \"customer\", \"san\", \"student\", \"paris\", \"gion\", \"alexandre\", \"near\", \"listen\", \"water\", \"gym\", \"france\", \"trainer\", \"kid\", \"pro\", \"freshman\", \"sea\", \"bear\", \"personal\", \"cap\", \"music\", \"campus\", \"king\", \"indiana\", \"training\", \"personable\", \"plant\", \"advisor\", \"robert\", \"big\", \"start\", \"digital\", \"connect\", \"lot\", \"play\", \"communication\", \"marketing\", \"office\", \"trading\", \"jean\", \"mvp\", \"dick\", \"jordan\", \"avenue\", \"merchandise\", \"view\", \"couple\", \"buyer\", \"oxford\", \"zone\", \"month\", \"cover\", \"men\", \"age\", \"select\", \"brand\", \"journey\", \"women\", \"district\", \"expert\", \"wear\", \"nassau\", \"entertainment\", \"july\", \"footwear\", \"say\", \"ecommerce\", \"planner\", \"director\", \"demand\", \"pay\", \"search\", \"esc\", \"video\", \"iowa\", \"gestion\", \"cole\", \"lyc\", \"ecole\", \"conditioning\", \"que\", \"seo\", \"production\", \"adobe\", \"shoot\", \"mission\", \"stage\", \"pro\", \"france\", \"attain\", \"editor\", \"suite\", \"ann\", \"majoring\", \"christian\", \"firm\", \"grande\", \"organise\", \"aspiration\", \"promote\", \"strength\", \"section\", \"creative\", \"massachusetts\", \"vice\", \"music\", \"diego\", \"ashley\", \"marcos\", \"san\", \"owner\", \"handson\", \"engineer\", \"vista\", \"committee\", \"advance\", \"enterprise\", \"recruitment\", \"california\", \"great\", \"trend\", \"standard\", \"club\", \"soccer\", \"lifeguard\", \"healthcare\", \"provide\", \"trainee\", \"insight\", \"com\", \"empresas\", \"incoming\", \"cole\", \"rio\", \"editor\", \"personable\", \"deep\", \"analytical\", \"decision\", \"datum\", \"crm\", \"operation\", \"analyst\", \"university\", \"nike\", \"nutrition\", \"content\", \"clinical\", \"easy\", \"empower\", \"healthy\", \"collaboration\", \"ultimately\", \"setting\", \"practice\", \"platform\", \"skilled\", \"food\", \"education\", \"create\", \"com\", \"empresas\", \"incoming\", \"great\", \"cole\", \"rio\", \"editor\", \"joy\", \"personable\", \"workforce\", \"female\", \"freshman\", \"register\", \"phone\", \"volume\", \"time\", \"current\", \"live\", \"leadership\", \"health\", \"community\", \"version\", \"various\", \"include\", \"use\", \"help\", \"highly\", \"dental\", \"passion\", \"communication\", \"make\", \"strong\", \"critical\", \"thinking\", \"advisory\", \"universal\", \"bridge\", \"scholarship\", \"universidad\", \"studio\", \"organisation\", \"hold\", \"photographer\", \"require\", \"consulting\", \"los\", \"analysis\", \"success\", \"empresas\", \"com\", \"design\", \"incoming\", \"cole\", \"rio\", \"editor\", \"personable\", \"joy\", \"workforce\", \"asian\", \"female\", \"phone\", \"freshman\", \"strategic\", \"operation\", \"analytical\", \"comercial\", \"experiencia\", \"responsible\", \"collaborate\", \"determine\", \"challenge\", \"equipment\", \"basic\", \"begin\", \"different\", \"meet\", \"delta\", \"produce\", \"proficiency\", \"joy\", \"activity\", \"outdoor\", \"instructor\", \"detailoriente\", \"camp\", \"quality\", \"corporation\", \"additionally\", \"travel\", \"secondary\", \"com\", \"empresas\", \"incoming\", \"cole\", \"rio\", \"editor\", \"personable\", \"efficiently\", \"workforce\", \"freshman\", \"female\", \"register\", \"phone\", \"ireland\", \"advisory\", \"related\", \"test\", \"visit\", \"world\", \"soccer\", \"especially\", \"leader\", \"hockey\", \"stop\", \"dick\", \"love\", \"type\", \"explore\", \"expectation\", \"basketball\", \"country\", \"graduate\", \"solver\", \"continue\", \"past\", \"build\", \"know\", \"learn\", \"team\", \"problem\", \"universidade\", \"com\", \"wear\", \"incoming\", \"comercial\", \"rio\", \"register\", \"mall\", \"hello\", \"spa\", \"outlet\", \"receptionist\", \"floor\", \"summer\", \"handle\", \"employ\", \"empresas\", \"cole\", \"editor\", \"personable\", \"workforce\", \"joy\", \"female\", \"freshman\", \"related\", \"advisory\", \"phone\", \"ireland\", \"asian\", \"volume\", \"passionn\", \"efficiently\", \"avenue\", \"grande\", \"beach\", \"egypt\", \"technological\", \"past\", \"olympics\", \"dedication\", \"store\", \"product\", \"image\", \"control\", \"outlook\", \"gain\", \"critical\", \"design\", \"california\", \"customer\", \"service\", \"group\", \"high\", \"experience\", \"school\", \"nike\", \"work\", \"base\", \"experiencia\", \"empresas\", \"comercial\", \"que\", \"del\", \"general\", \"com\", \"incoming\", \"cole\", \"rio\", \"editor\", \"personable\", \"joy\", \"workforce\", \"female\", \"freshman\", \"phone\", \"related\", \"register\", \"advisory\", \"ireland\", \"volume\", \"vista\", \"monash\", \"fundraising\", \"asian\", \"test\", \"box\", \"developer\", \"hill\", \"universal\", \"women\", \"srl\", \"avenue\", \"regi\", \"invest\", \"magazine\", \"pursuit\", \"king\", \"mathematics\", \"recruit\", \"achiever\", \"preparation\", \"incredible\", \"canadian\", \"village\", \"tracking\", \"timely\", \"universidade\", \"cap\", \"orlando\", \"numerous\", \"esc\", \"textile\", \"olympics\", \"stakeholder\", \"personal\", \"operation\", \"career\", \"supply\", \"barista\", \"concept\", \"opportunity\", \"exercise\", \"read\", \"hospitality\", \"james\", \"financial\", \"quickly\", \"background\", \"enthusiastic\", \"test\", \"draw\", \"practice\", \"forward\", \"learning\", \"certify\", \"month\", \"medical\", \"com\", \"empresas\", \"incoming\", \"cole\", \"rio\", \"editor\", \"personable\", \"joy\", \"workforce\", \"freshman\", \"female\", \"advisory\", \"related\", \"phone\", \"register\", \"fundraising\", \"ireland\", \"volume\", \"vista\", \"asian\", \"box\", \"hill\", \"adapt\", \"urban\", \"universal\", \"importance\", \"select\", \"internal\", \"authority\", \"suite\", \"dame\", \"majoring\", \"satisfy\", \"use\", \"tracking\", \"tend\", \"surround\", \"maximize\", \"extra\", \"assistant\", \"look\", \"learn\", \"college\", \"emphasis\", \"attend\", \"skill\", \"year\", \"cap\", \"option\", \"communicator\", \"excel\", \"singapore\", \"summer\", \"johnson\", \"sport\", \"try\", \"macewan\", \"oregon\", \"supervisor\", \"box\", \"union\", \"com\", \"empresas\", \"incoming\", \"register\", \"cole\", \"rio\", \"editor\", \"personable\", \"joy\", \"workforce\", \"female\", \"freshman\", \"advisory\", \"related\", \"phone\", \"ireland\", \"software\", \"fundraising\", \"volume\", \"monash\", \"asian\", \"hill\", \"vista\", \"developer\", \"test\", \"budgeting\", \"efficiently\", \"authority\", \"usa\", \"eugene\", \"importance\", \"james\", \"stanford\", \"women\", \"focused\", \"remove\", \"specifically\", \"numerous\", \"proficiency\", \"medicine\", \"river\", \"professionalism\", \"shift\", \"australian\", \"advanced\", \"lifeguard\", \"proficient\", \"page\", \"issue\", \"office\", \"kpi\", \"engineer\", \"small\", \"leader\", \"communicate\", \"deal\", \"certificate\", \"operate\", \"study\", \"california\", \"city\", \"computer\", \"lead\", \"support\", \"national\", \"technical\", \"science\", \"role\", \"experience\", \"university\", \"work\", \"associate\", \"sale\", \"base\", \"nike\", \"field\", \"bachelor\", \"com\", \"empresas\", \"incoming\", \"personable\", \"cole\", \"rio\", \"editor\", \"workforce\", \"joy\", \"freshman\", \"register\", \"female\", \"phone\", \"advisory\", \"related\", \"ireland\", \"hill\", \"fundraising\", \"asian\", \"invest\", \"box\", \"volume\", \"budgeting\", \"monash\", \"vista\", \"developer\", \"test\", \"break\", \"qui\", \"authority\", \"passionn\", \"exchange\", \"srl\", \"charismatic\", \"dame\", \"robert\", \"version\", \"inspiration\", \"surround\", \"figure\", \"summary\", \"longterm\", \"barrier\", \"teaching\", \"youth\", \"diploma\", \"firm\", \"kid\", \"real\", \"financial\", \"big\", \"lesson\", \"childhood\", \"obtain\", \"board\", \"nonprofit\", \"hardworke\", \"interested\", \"finance\", \"start\", \"gain\", \"cash\", \"train\", \"exhibit\", \"goal\", \"begin\", \"contact\", \"current\", \"building\", \"want\", \"job\", \"create\", \"major\", \"nike\", \"volunteer\", \"relationship\", \"student\", \"future\", \"experience\", \"skill\"], \"Freq\": [844.0, 660.0, 399.0, 385.0, 136.0, 238.0, 140.0, 251.0, 156.0, 175.0, 68.0, 233.0, 55.0, 169.0, 257.0, 167.0, 103.0, 158.0, 62.0, 168.0, 47.0, 40.0, 132.0, 165.0, 40.0, 100.0, 156.0, 38.0, 127.0, 27.0, 63.18783792859127, 51.44139473156117, 42.70817157088253, 33.51833007777832, 31.728424472267296, 28.949229996020367, 78.42465489413128, 26.88063008249188, 26.146920119397933, 25.98921095830488, 25.3102759314546, 24.137570951984863, 20.989766290589756, 29.387819078458932, 41.79936614548508, 21.386811546142102, 40.43068887536304, 53.324253645768415, 18.415039658724424, 51.2034520702827, 18.08655829800778, 65.04480322824463, 17.84709477568947, 17.684488477913934, 17.07329976894048, 16.7803534600343, 16.756673583406144, 39.15755882017014, 16.135926969052072, 18.55212640094662, 60.26147789951718, 30.45696059980666, 51.94577474936467, 42.08189941192834, 25.131326991828793, 48.42773817655788, 44.683592039995396, 37.646625414488454, 78.33778803001296, 130.3891270622011, 124.6003902786976, 105.852100671911, 152.7473606977028, 51.50800400941549, 55.27258456700208, 238.55221762655376, 79.48087492389796, 78.6616096178241, 65.68095516816105, 62.60622810475256, 64.48569899785298, 43.116586130843324, 83.62835869099673, 58.03649848333007, 57.453219796568845, 56.30716277614485, 55.760456289733575, 47.372905638656825, 48.65924163753334, 45.00820504257786, 166.25885467270828, 30.873702648703052, 29.846796135176962, 372.3317626577326, 19.040349415102707, 17.924937872899633, 18.073075386983202, 16.85612391196287, 12.768398228087941, 13.3594084346716, 20.13567946289758, 12.583735839766563, 12.855926457741955, 240.41569748888577, 24.466198969091423, 10.882262106226372, 10.398718211063148, 10.30376260811148, 10.8098640834909, 9.896247062200615, 9.88007329134632, 9.751578427082865, 9.591664769731748, 152.0090847179952, 45.113097382945696, 9.18850227993075, 8.661017225623631, 8.508313232459852, 45.071426978750196, 8.193083689002624, 592.8599247537942, 49.98969883462588, 120.29194319316362, 29.967912797053746, 27.805459177866673, 22.240508031237162, 588.6187316474754, 36.318067852225596, 78.16843625222829, 50.73678372114119, 154.8451991553934, 43.23382936826233, 99.44757988107315, 94.57669819963968, 253.85095295242397, 52.17826572060909, 71.74402103303245, 352.34024420271083, 90.1077576695418, 30.655413660435368, 43.022109960235255, 28.09359367535652, 38.24320520216189, 51.787347378757296, 42.35389144587879, 40.79017209741128, 40.0272741998807, 32.23170051881741, 62.000004718725634, 65.56074024341582, 54.142720970094686, 67.2660453331897, 19.271182670815286, 12.078977961358284, 21.053756696362175, 68.66249552808314, 9.237689642408188, 8.675691838027976, 7.6731649088784195, 49.33035219170644, 20.714753096139546, 6.077150474394703, 5.892358535143599, 5.755955780162924, 5.707811362117877, 6.32164241249563, 6.9143108218522356, 5.4450620216559535, 5.337514910960098, 5.306535771043193, 5.052182759726738, 4.963314670794463, 4.739891964678077, 12.227005436584715, 24.143002395996955, 18.02322353079521, 4.117350223593, 4.121254004013056, 94.85029918669579, 44.13444500744209, 80.76459157647565, 99.73277603032973, 35.962044674553425, 109.66181596763802, 25.291267229276905, 11.597654162005869, 22.441638652807125, 57.70708499911676, 16.504078489905684, 37.34898807733003, 30.25563200298254, 61.710074492810186, 54.040456920710156, 57.545748154008486, 40.26847399359343, 151.90986270248976, 52.243324255113166, 64.13139408163575, 84.41159899480078, 45.5132995728516, 33.88825033003446, 25.02468662788107, 27.533261993094367, 22.83205333746201, 15.941618306609593, 8.729221427543566, 6.051997984631939, 5.307880558491629, 6.562121150399522, 5.25368812724918, 5.151233799558476, 4.616666249131669, 4.71088785024931, 4.605684254704521, 4.37323046765355, 4.496097481379649, 5.52609007375357, 4.232234359363045, 4.896434675312835, 7.399437300196171, 3.781404027754991, 3.6434628863302345, 3.6283166883630202, 3.6545820275501235, 3.4615617134766032, 3.5929355963744882, 4.211040684394819, 8.286312936036692, 2.679712670389737, 2.6680608084418695, 2.559642445971433, 2.6406113256810104, 6.189649966223472, 6.141819957612861, 5.993144937979816, 5.579990798918431, 41.335985022377024, 21.463805251213408, 16.524369504002607, 29.66054269004396, 10.374603142241686, 27.192575967858456, 13.78268260361255, 9.91874090584958, 25.21034402790713, 20.3670811368515, 52.59393264098878, 47.73260096532906, 41.58961631410887, 14.258758732904889, 17.103974930413003, 8.201065326494442, 13.989335619659629, 27.26311411644067, 9.736740565381501, 8.179095585774094, 16.68154147507598, 13.26459277299893, 22.847662965890642, 13.520129706557046, 9.767686346918174, 12.368062450488514, 24.661536912503234, 13.170386060406399, 25.53185387091202, 15.689024659945828, 11.51576933215055, 12.114536837701094, 10.887582119793645, 25.614524269466425, 15.615165243001226, 11.882446112233156, 5.6812498686338495, 5.322059660469794, 6.07801316077279, 5.335568275740809, 4.198802346595762, 2.793667383883294, 2.794041860578901, 2.7868391264795833, 5.361288334201453, 2.748183510722619, 2.834080183525092, 9.767163613301808, 4.484931059210755, 2.480628738905196, 7.675851678155323, 4.717271693038279, 3.687431281918252, 4.210190871292163, 26.32966256313134, 3.5864280397698955, 4.471619388569822, 1.9967336219837581, 2.828960682097059, 1.8157091599378694, 2.4410887806229455, 2.762029734254454, 1.737343552174388, 3.1246562486966214, 16.623340189880043, 5.7088454151916315, 12.002029784868736, 4.669725461304919, 3.6132798988606103, 11.879211406807165, 12.432805738372478, 13.024882087784043, 22.561500982711237, 8.80107149618588, 17.481491661020556, 7.726432759454603, 9.213775653154057, 10.286110901520221, 7.301226060909361, 15.970456137193066, 13.222659024675256, 5.510803059693643, 6.906420838250145, 5.268707659469853, 13.06083504920965, 7.803627431003473, 7.417877699360338, 5.505549701735538, 3.9844672039668083, 11.121467904073704, 3.0868388441217425, 2.638877571643295, 2.684234781543315, 3.557872705233493, 2.4833258004883456, 4.443988421697331, 5.669128354802902, 7.244835052399345, 2.9142713199018724, 2.873040961947653, 39.033101094839964, 4.490985219265925, 2.9447221630419147, 10.120152983679588, 1.9032820944219164, 3.3829295119396394, 7.917620229825681, 2.3396576781945506, 4.444021474903448, 4.067577581033393, 1.7169544085983295, 5.363475822192097, 3.4103718816382016, 7.5586630861610775, 15.113090394674524, 5.492225319284005, 10.433385712896483, 22.61975043361603, 21.601960697556073, 5.683690348167309, 5.058328318614647, 14.786476366387566, 22.301402751394672, 7.487535437354187, 9.546832684162027, 9.280136941009125, 7.119092644840422, 6.819971897292502, 8.243610741254194, 7.3156606780481015, 5.226585134368391, 5.564314016081814, 5.206148663333857, 5.278589941801154, 5.195292514172437, 4.355592781078841, 4.729944167349975, 3.6311152083872353, 3.2624463013744682, 3.512243637384305, 3.503250298320532, 2.712398703431826, 9.863527643912555, 3.453158600471746, 4.699751646003069, 2.808576133044607, 5.059673458802262, 4.596349671735541, 5.025856065027542, 2.2523625659494964, 2.877579778644658, 16.760805506028667, 2.156997735939868, 2.8506304994248564, 1.8689680553490764, 3.944939339689751, 3.2215732461311215, 4.768892539619618, 1.8618897106569139, 4.427858504905254, 1.6468446913234953, 2.328888198056867, 4.459460885212689, 8.678631143323297, 5.5871080572482645, 4.366385624492393, 11.169013006432618, 4.2553747601429786, 3.361888804228387, 6.518155654026615, 5.256347927579998, 5.8829847989139, 5.2827002837825265, 7.13003089601214, 6.0780370301251345, 6.065580791501499, 5.341228384511253, 5.288570288907119, 3.5138939143894907, 18.302828914783962, 8.740376991300465, 24.553616492071225, 15.496495058394125, 5.94347469757485, 5.550421410335652, 4.0583226251430204, 3.3524835069188157, 3.153632096731028, 2.5057647714339937, 2.5407451110037815, 3.4063216396012383, 3.6767767768531145, 4.0097615264545805, 23.227246694161693, 4.462774629724445, 2.357623404853904, 5.125812883693055, 1.9003424361380328, 3.242511668638642, 1.7151628607985479, 0.9845476321006001, 3.057072381550782, 0.913468907010846, 1.4238656201591045, 1.7778867682430308, 1.4155933826037972, 0.7874024729771469, 1.9287374447041836, 0.9926279047684932, 1.9645068597185311, 14.281508948222555, 9.913729180067808, 3.662048216247003, 10.410866170607783, 3.226317710515085, 3.8114155937774665, 2.3395655367409187, 2.61214622365669, 10.045484018906569, 5.781939443463981, 4.081773586445545, 2.6494690724927374, 2.5504133582422557, 2.87756230837071, 3.571151061262912, 13.967216019753204, 11.958305044542644, 3.8265516939394772, 2.592640229203549, 1.5961389906643026, 1.7626089987657434, 2.237994569628739, 16.43632682029184, 1.6985589962558758, 3.6536340148009496, 2.4415797635090786, 0.9829303889022879, 2.3889714967265827, 6.3783794045819855, 0.7675079068634576, 1.5466605036911085, 1.888550104329087, 0.7684723608178986, 2.1626108683200562, 3.352318116365597, 3.9337530077762413, 1.5806361947792422, 0.872411840807989, 1.9673920399417852, 4.805749633835614, 3.988650694514098, 1.6294437431076496, 3.4470742322375076, 3.3038515167079354, 3.302704175258744, 2.389186720687733, 11.720801963021584, 1.583978404531805, 8.306829946818224, 1.541742333906859, 1.6066494475363282, 1.594019575956377, 1.4781777400984544, 1.0269397554261064, 3.1663261672181138, 1.4197527453814043, 0.9841189961821638, 1.4508256387494587, 0.8380909666566789, 12.914630556964037, 1.661052849603895, 0.6866378164354556, 1.4980778422765688, 1.9803945213974103, 0.79975555528052, 0.7765282909334195, 1.6516378649351813, 0.7667564553249308, 3.6137990762842813, 0.8398539534663515, 0.8816531909792324, 2.5694232906833503, 5.582045707541748, 0.8072545991554456, 5.657508991306084, 4.8601354309891684, 3.792646794934224, 3.840501966519033, 6.783000370607337, 5.111771644945591, 2.2356070712011515, 2.8132066670721962, 4.585403390260604, 2.0940834513742863, 2.349301276724993, 1.5359555233291216, 4.838610017509585, 1.6137522520960759, 1.6558046024590303, 3.746915841570041, 1.5804780748619829, 1.5827677820525086, 5.981936721175084, 1.3385928265901221, 0.7816431318890916, 0.8133463978035393, 0.766585066852579, 0.7182300479059776, 1.3303978275316333, 0.9175516007671225, 0.7506075148792289, 0.8127906527833996, 0.761545434142994, 0.7642085898704615, 2.0945223232936003, 0.8096105346083418, 2.750678097386982, 1.0764981891573269, 0.8088146567912201, 0.7867246383635629, 7.714121850606387, 4.381174997548623, 3.8087013395007263, 21.56694734639821, 1.8504062833697426, 1.1465629217636952, 1.3243838917416593, 0.6644740024393905, 0.6684631590749116, 1.040034234893111, 0.68158353923929, 0.6831557160275482, 3.8933789305035478, 3.8477834119136776, 0.5784903094822265, 0.6827566804655136, 1.960552185475324, 1.040522890630902, 0.16727548427909117, 0.6828800416279199, 0.8165730507004073, 0.14311136390919094, 0.0813017931167837, 0.041895538092970946, 0.041915968384408336, 0.041998432005191946, 0.04175687924030923, 0.041728826995664846, 0.04182395791429832, 0.04195850503105061, 0.07201926850644318, 0.11597493164765132, 0.09516195974579228, 0.09123815410730222, 0.055674979222566964, 0.07097168794141386, 0.06054981931270074, 0.07657527527845494, 0.061078765300743104, 4.522758987599168, 2.670705637793366, 0.950914907065566, 1.187628784126923, 0.6106299541813236, 0.8420698978651496, 0.6327078975375625, 0.5484048182875337, 0.5302600948876416, 0.5366786558294265, 0.6477028381624352, 0.6332267849356603, 0.42780907664923146, 1.127753737824669, 0.6519346809200979, 0.039939689793522526, 0.039794861385821494, 0.03971975491281405, 0.6539694457742994, 0.03970485079634691, 0.03966783320724882, 0.039699997358285076, 0.03992647589514974, 0.03951884934025813, 0.03964384932587929, 0.039653399085560155, 0.03958491311874818, 0.03968996557712607, 0.039590182558158556, 0.04002981543020503, 0.6489547616447557, 0.12995811679398012, 0.08263018841973423, 0.10603360263595496, 0.07910420047142744, 0.08895177783334873, 0.040429172340290045, 0.055404220323822036, 0.057428719177780994, 0.05210637831010724, 0.05029518896986028, 0.04745577163169066, 0.04154978557309907, 0.044516809724212986, 0.044163016068869076, 0.04322100099181876, 0.044049341752674914, 2.426750386716791, 2.832540011167296, 0.6508096359730208, 0.6224884543007853, 0.6500322979179816, 0.6502807671019089, 1.3188464388351395, 0.6500402627821932, 0.6207074056695213, 0.5809200563846675, 0.583097998399014, 0.4052729612510386, 0.6506013827783934, 0.5346130675197759, 0.6507838026579379, 0.6320238113610496, 0.052950068547237925, 0.03998206985421116, 0.5749140096993249, 0.04002693249707631, 0.03980925775228731, 0.040009201859302804, 0.040002553272323764, 0.039798032971207535, 0.039740419199918046, 0.03990201683818333, 0.040753081601945795, 0.03974928154115255, 0.039925953430816036, 0.039679223450359, 0.6403326432684037, 0.6257515144061205, 0.1319207841383751, 0.05245583307947187, 0.050903331093865, 0.061000305215016204, 0.08064750072135558, 0.053087055958516295, 0.12835622002993183, 0.06747804985143001, 0.05354683225892059, 0.05331584059631106, 0.06219996219263157, 0.052620222963150574, 3.2812580032954703, 1.3647765177961493, 0.7356659587222892, 0.5857359473964344, 1.2230307422847586, 0.5850884460459942, 0.6267584794527711, 0.7363427573141904, 0.8709258927977119, 0.980556246923638, 0.6277821337085496, 0.21689284067119666, 1.1459382303723407, 0.37840684783514406, 0.038507853146716155, 0.0386693971051402, 0.0383569065991931, 0.038388134639482714, 0.03848874225279787, 0.038347912803534015, 0.038429715484884316, 0.039840707512483114, 0.03832697576337458, 0.03847020440612945, 0.038398601617045815, 0.03849381643103311, 0.038412166496867295, 0.03852425190264335, 0.03836771862009307, 0.03822327512872727, 0.038641964106201764, 0.05192097104339489, 0.06879117603561322, 0.06367990101436388, 0.04735036275168508, 0.06921916131640687, 0.04485209493768647, 0.040299140474642614, 0.03991781151522124, 0.05619854774454042, 0.043972660767838324, 0.043740716869069, 0.0399346099616699, 0.04759450247772842, 0.04358879081391426, 0.047700908603905974, 0.04087494097314234, 0.04213167655356767, 0.04246328201210969, 0.04346907308743162, 0.04256575595622309, 0.04417867509860526, 0.044287519935995535, 0.04298220468109171, 2.913535349466294, 1.8544229969227526, 2.353338910755442, 1.223815231473783, 1.2374407750146843, 0.631204775845808, 0.5443154738182769, 0.568107944988916, 0.6856402564781944, 0.685558807551264, 0.5490561155188419, 0.6874265416402584, 0.5102780511956553, 0.40717857051361656, 0.24769736563644912, 0.3277377155249305, 0.03544999399292459, 0.03555582656936913, 0.03532609995293269, 0.03553678321114798, 0.035703803580022286, 0.035423775041902396, 0.035524654596062126, 0.03551151427220024, 0.03563407309247125, 0.035638720554438355, 0.035459572274345375, 0.0355060553651095, 0.03568102272300864, 0.03554919399655708, 0.035735249201583746, 0.03567163253912321, 0.03565738976888, 0.03746818114720837, 0.03740514695056971, 0.03580509309892234, 0.03565912363589449, 0.04125715111652631, 0.035845353146302016, 0.03570557517270586, 0.04097804215927492, 0.04108805395616244, 0.035812428584597926, 0.035833427310519854, 0.03572496965422846, 0.039101249704147654, 0.03581876216814784, 0.037741509094026834, 0.03757312972404373, 0.03802732616068104, 0.03800696725105983, 0.037381657237244376, 0.03746406702331083, 0.03772020844576218, 0.037419095144586724, 0.03760665858319053, 0.03754488619355434, 0.037477932660781074, 3.63597927438822, 1.8529757051247733, 2.5401151291743744, 1.2296970736205046, 1.5315596773872575, 0.6449077625833893, 0.03630478016132808, 0.03642180448091102, 0.03649080838818758, 0.036411843659714296, 0.03643294104287051, 0.03642070283644619, 0.03646387197655253, 0.036535622454873844, 0.03651044266630573, 0.03643786591571138, 0.03659113040387122, 0.03649432464240277, 0.03642965271533073, 0.03643171728917826, 0.036510273038971995, 0.03659893543220449, 0.03658529024219908, 0.03664225745285741, 0.03653323397861138, 0.03642237905454962, 0.03647935159668012, 0.03650823669362714, 0.03663116079126733, 0.036431334065888527, 0.03660667816828704, 0.036695961389334605, 0.03661643672010708, 0.036562789024951775, 0.03663715807137565, 0.03661174249233003, 0.03670681511875418, 0.036769596586364986, 0.036706707500437516, 0.03664964113539408, 0.036633567025347445, 0.03673650530164398, 0.03657852352586753, 0.0365911373179368, 0.0366604731996404, 0.03676926199229539, 0.03667000062349311, 0.03663014621321909, 0.03669165336122115, 0.03678073066488852, 0.03679148888202653, 0.036773382292541394, 0.036787907612535364, 0.036726598675837385, 0.03664086257455584, 0.036791817111051894, 0.036900126285361635, 0.036861775077148266, 0.036855331325966294, 0.03681362309362189, 0.03680851072137094, 0.03680381503115001, 0.03678976663578892, 0.03678099845622298, 0.036756452222309895, 0.03675197457451798, 0.03673709041009355, 0.0367347474862629, 0.036727042172318536, 0.03672439344465127, 0.0367210813818186, 2.4158516509793633, 0.5429681803574725, 0.5095737632029933, 0.4405789849667823, 0.44149985304106637, 0.5730603044249115, 0.34344066494733533, 0.45709395875912867, 0.03591607956524205, 0.03581274717099643, 0.03578511246196547, 0.035913098084770306, 0.03577696562410225, 0.03577378207511806, 0.03575931706090969, 0.03580743440503656, 0.035761824816690206, 0.03592988242553353, 0.035719199929395554, 0.035836374844749386, 0.03564818055379392, 0.03564695358934307, 0.035628086615700064, 0.03604625419498499, 0.035704658052164474, 0.03576581714828384, 0.035797039133174634, 0.03575105053710457, 0.03585229131705154, 0.03583076299369497, 0.07499851383684104, 0.03596218094176335, 0.03586857050013942, 0.035901451674508686, 0.035956893826132985, 0.035924201084871064, 0.03592344496974716, 0.03605965860343747, 0.03590047111497191, 0.035926610681430035, 0.03596505062669003, 0.043215839454809064, 0.03608607095347901, 0.03599007163699573, 0.03598007516194278, 0.03602248436989798, 0.03597748087874552, 0.039543718032318875, 0.03879619457297819, 0.03878458739571529, 0.03891582956664905, 0.036084864184717444, 0.038739022349025, 0.03816392472765809, 0.03783783307508358, 0.03607455655981129, 0.03599042442852747, 0.03615853154271888, 0.03614834622972957, 0.03611016085224495, 0.03609634212925317, 0.03609443265919698, 0.03609177258527643, 0.03606357134322139, 0.0360602950070115, 0.03605645518164585, 2.7315846987192725, 0.5686207946190021, 0.06032469755900162, 0.034679572750311784, 0.03471001134570006, 0.03493912318837433, 0.03837939930966237, 0.034800164063399794, 0.034855981835120474, 0.03507484240797643, 0.03477619658884306, 0.03470177664463459, 0.03475596206474465, 0.03479825763794642, 0.03476821330968768, 0.03484013570534004, 0.03475638055974463, 0.03470458261831144, 0.034822160724029654, 0.03610059112853523, 0.03494270506289413, 0.03478318318990026, 0.034885996379994656, 0.034749249913181464, 0.03473237017528118, 0.0346149430838705, 0.03486284114893766, 0.03464820940375045, 0.034722746120025, 0.03490059397105374, 0.035047577121102215, 0.04893567567265416, 0.03519795401627046, 0.03487716351471703, 0.0414791509476006, 0.03501681387419064, 0.03491686056947346, 0.035027104350885234, 0.03618271036676032, 0.036992811219085084, 0.03618539592654182, 0.034990241596868636, 0.0365920670926177, 0.035102312661595234, 0.035088478929507325, 0.038641212920222844, 0.03670122754781471, 0.03646717827530914, 0.03501780645009405, 0.03841728638651576, 0.03644969084415124, 0.036130573778194085, 0.03926466641944524, 0.036066183143551624, 0.03583560037604006, 0.03617063777147767, 0.038382610832353864, 0.0360466347034847, 0.035971388400193594, 0.035821299903645125, 0.03600054558981637, 0.038735977139490355, 0.03727507870638861, 0.03698136076053008, 0.03601488419888343, 0.03726339713959834, 0.03675592647532496, 0.0367273023476488, 0.03656209238369272, 0.03670527097860558, 0.036651883305138355, 0.03698630832894673, 0.03675473498570628, 0.03675115207073687, 0.036718453962874945, 0.036673387270938836, 0.0366693309410053, 0.03666837906767924, 0.036654368510734406, 0.03664092968589522, 0.03272628126710138, 0.03266611322614425, 0.032707808678104654, 0.03369018333321988, 0.03252406620724823, 0.03270560196523872, 0.032788804877182186, 0.03275777319791427, 0.03252534698401874, 0.03287429741351773, 0.03284650409471854, 0.0326487576964869, 0.03271338525903381, 0.032712345859687984, 0.03256131600250188, 0.03273460741036881, 0.032835315408006695, 0.032732919564918285, 0.03269184504703641, 0.03347583307987867, 0.032801281291031034, 0.03261200356309015, 0.0327836613509553, 0.03272145237868885, 0.03259714376063332, 0.0327440482481072, 0.032522543755801187, 0.03287360466232248, 0.032843819503968495, 0.032914411652285064, 0.03279158147681459, 0.03285615555189546, 0.03280379316865287, 0.033224605983535146, 0.032797202537677324, 0.03403092349462692, 0.03295258588015158, 0.032893722816845716, 0.03295293474894711, 0.03289429174039514, 0.03286734256813615, 0.03351508831154796, 0.033021846355942415, 0.03375718520905923, 0.03362325129235172, 0.03287179342939203, 0.033583215320804154, 0.03418265943476271, 0.033706627936455874, 0.03549111026576834, 0.034815066380014664, 0.03306586862460365, 0.032999372237020486, 0.03520271552991412, 0.0334192356741595, 0.03394489060274093, 0.033101037992960554, 0.03443091873459004, 0.0345427438769533, 0.03459955899213995, 0.034756632289186344, 0.03368181483740033, 0.03351403648292264, 0.03292728900973596, 0.03484912889816081, 0.033511338743195736, 0.03359250702880065, 0.03361629719826677, 0.03345134100119959, 0.0336871655565108, 0.033918366743047844, 0.03379402849654731, 0.0338175774636633, 0.03381146677054932, 0.03365784623881541, 0.03362164416342542, 0.03361791989336858, 0.03359717177736441, 0.033576627173746744, 0.033572424739682236], \"Total\": [844.0, 660.0, 399.0, 385.0, 136.0, 238.0, 140.0, 251.0, 156.0, 175.0, 68.0, 233.0, 55.0, 169.0, 257.0, 167.0, 103.0, 158.0, 62.0, 168.0, 47.0, 40.0, 132.0, 165.0, 40.0, 100.0, 156.0, 38.0, 127.0, 27.0, 64.06729681339925, 52.292283499735795, 43.718682529415496, 34.37738084638189, 32.582393911852165, 29.806443678309915, 80.77472442599715, 27.72188852637262, 26.993681606588698, 26.83177358032873, 26.150543768146967, 24.97484264490636, 21.828042003550134, 30.572962735709684, 43.48849353519983, 22.286686285104103, 42.19639633280137, 55.776641347103954, 19.26912163272882, 53.57942790308865, 18.92682632648682, 68.0859406447702, 18.682060209978758, 18.519781015099593, 17.91282221938412, 17.60915469134396, 17.598263732277182, 41.147958327380806, 16.968822523811248, 19.542174869095327, 63.511820915812166, 32.40551123278181, 56.39814626327303, 45.4811421705612, 26.74418224535953, 54.140204748521064, 50.70638423736429, 42.091862568868585, 96.98546374801414, 174.27413093822622, 169.8851856121965, 155.3603180644453, 251.8457963866047, 64.63269825372706, 72.02198862979132, 686.845558777852, 156.53949667124886, 165.75427676185495, 136.1235812348452, 127.71759448795426, 167.41386791109832, 66.5935825981377, 399.50428628373413, 158.69510036140252, 157.9944374025164, 218.07292950826204, 233.5875527297158, 103.8975324838762, 238.93719493635692, 175.29501193821122, 168.19465072627196, 31.71463488783301, 30.71836998101341, 385.6536266640513, 19.893304907162857, 18.762960869537373, 18.933134970341932, 17.70599471309313, 13.59938151928573, 14.231046437425892, 21.450584300527154, 13.421649350378553, 13.714900858490578, 257.1386619464421, 26.2667998608897, 11.710821620149236, 11.229540090382363, 11.131411059640874, 11.684187558583558, 10.72452469823981, 10.71601443914078, 10.587075516068687, 10.43403713432427, 165.52210565414384, 49.131220801016525, 10.016924125283941, 9.490005748992193, 9.344577443025466, 49.57050020855414, 9.028774082136199, 660.1739238074925, 55.27629722096786, 140.08525540450242, 33.7761503630984, 31.59237347444157, 25.450442466271706, 844.155455421531, 43.40003453450603, 99.06234233544289, 63.92659258931483, 218.07292950826204, 53.80106178983591, 136.52236818457183, 129.28425092951312, 399.50428628373413, 68.05548849141883, 100.7667658655635, 686.845558777852, 167.41386791109832, 38.97329127698398, 67.88859149176272, 36.57260988884368, 82.01735005975802, 233.5875527297158, 136.1235812348452, 156.28382523411454, 175.29501193821122, 157.9944374025164, 62.86043521051082, 66.49118479312791, 55.0696031807643, 69.10263553722856, 20.137564034761553, 12.924057711451738, 22.55214638570651, 73.63791262125623, 10.077211816713396, 9.510871879361948, 8.502901739021334, 54.91348790568092, 23.458767537186137, 6.927845962736533, 6.731783692424621, 6.5932033642441175, 6.548936437114433, 7.263394059383117, 7.98892260389929, 6.292866287410265, 6.1702998229293495, 6.138300568215692, 5.883450933139203, 5.795829433307425, 5.576424448522264, 14.5838581965581, 28.8409781054076, 21.671492382869083, 4.963143607011575, 4.984820193585529, 132.86764647693502, 62.50157935588309, 120.61527661040837, 158.69510036140252, 62.114806497930374, 238.93719493635692, 41.673773369119, 15.919174332032162, 36.02537051882714, 127.71759448795426, 25.59912708593041, 75.30341304257172, 59.152302927125774, 165.75427676185495, 157.9944374025164, 175.29501193821122, 103.8975324838762, 844.155455421531, 156.28382523411454, 233.5875527297158, 686.845558777852, 399.50428628373413, 251.8457963866047, 77.44162461969805, 28.375024678150613, 23.686852790825764, 16.805121446677873, 9.55966693998594, 6.932887846364749, 6.13835679724446, 7.602155783492143, 6.0914821810483755, 5.981357993391053, 5.443692350046363, 5.561688747682947, 5.473617219234684, 5.225500224082702, 5.373551729224187, 6.620855642812798, 5.076046493108193, 5.932134151530503, 9.02422644410043, 4.636585011696816, 4.473322155682126, 4.469058605643308, 4.545008910879438, 4.319308505168315, 4.498563985112378, 5.379948073655117, 10.804917518446992, 3.5094780606781177, 3.5028485676610543, 3.392566124158812, 3.5125583146440804, 8.269291930632871, 8.215129277189616, 8.146238269058188, 7.58163601602797, 68.12735939710248, 34.391978789958735, 27.829132660645822, 64.18407482926524, 17.12193339769827, 60.75587852758323, 25.35618248868022, 16.471720611302135, 66.31011125752583, 53.29254015765268, 233.5875527297158, 251.8457963866047, 238.93719493635692, 38.000310663983065, 52.34611770709027, 14.616430090813871, 41.08693071691085, 156.53949667124886, 20.56682555585791, 14.748806381903325, 66.5935825981377, 41.79309728792769, 174.27413093822622, 61.182113784961935, 24.494635989617866, 50.959992829094304, 660.1739238074925, 71.97050462163789, 844.155455421531, 169.8851856121965, 72.02198862979132, 165.75427676185495, 46.83638155279415, 26.456136231491374, 16.453140263419158, 12.712248434070219, 6.512553866216131, 6.150850419746915, 7.13303587993732, 6.363020363191009, 5.02607016053295, 3.6212823665546487, 3.6240180331572778, 3.6215119987120143, 7.042793780189927, 3.669693252011265, 3.812216248521766, 13.45487484971537, 6.20430940539979, 3.4348149495095073, 10.7732907153171, 6.6330742761107455, 5.301160059837872, 6.1831617964735965, 39.44653715532727, 5.552268917616451, 7.239778285063858, 3.520346314206156, 5.068785673569659, 3.25460773997955, 4.413335454037744, 5.287861441805712, 3.35711088151832, 6.0387268610258085, 33.79314872086658, 11.49663101467596, 26.909021619203877, 9.571856017502292, 7.192303565462134, 32.317289820769645, 38.314313263933, 55.320347923922824, 175.29501193821122, 34.293297984570366, 169.8851856121965, 32.01885759465418, 68.12735939710248, 100.7667658655635, 42.59341360235057, 660.1739238074925, 844.155455421531, 24.294090434818006, 96.98546374801414, 31.429273870384847, 13.983998545972849, 8.700367762891556, 8.450153532211806, 6.337338482905697, 4.823814478814361, 13.85256927061845, 3.9146438605215415, 3.4642462702712717, 3.5756101584755013, 5.045103077188643, 3.5387686127745086, 6.527693056869512, 8.3957589013489, 10.785052034780955, 4.47361391790838, 4.538654371783128, 62.90279952581126, 7.909635015608626, 5.273962981937015, 18.460736221242502, 3.5533541413184317, 6.3188796783274945, 14.943214205089598, 4.5977816846018404, 8.826649897502662, 8.368016784907152, 3.557788270525327, 12.236658201879603, 7.976366274482046, 18.254244897562288, 45.87262206496158, 16.450267033227995, 41.79309728792769, 156.28382523411454, 238.93719493635692, 20.988300285357152, 17.308579057896086, 251.8457963866047, 844.155455421531, 52.34611770709027, 100.7667658655635, 156.53949667124886, 64.18407482926524, 71.97050462163789, 233.5875527297158, 136.1235812348452, 31.40038460137657, 127.71759448795426, 63.92659258931483, 6.113653682281187, 6.051375344281402, 5.187762410120877, 5.749218433048567, 4.458470956445002, 4.1135187870954555, 4.565144171829839, 4.563950096857597, 3.5414402503007283, 12.904588350312359, 4.566460085641333, 6.303100328769087, 3.774037537260116, 6.921974221888063, 6.335427835524031, 7.545943541977369, 3.4336292470334295, 4.528681193076019, 28.31745890833014, 3.799553145128257, 5.127051954254858, 3.369421760812156, 7.235551694687983, 5.970582361813199, 9.223635731053143, 3.7053405092522227, 8.919314648135085, 3.3512999578799945, 4.883718048752706, 10.283694322278457, 22.127455142862505, 15.721602696276966, 11.616828222788943, 56.00687497685495, 12.96753045948697, 8.975942664699561, 60.50137843498342, 35.41910908196719, 56.147509889254756, 46.69667836835477, 167.41386791109832, 157.9944374025164, 238.93719493635692, 399.50428628373413, 660.1739238074925, 77.44162461969805, 19.13932091407207, 9.580349723932331, 27.89664645876321, 17.616996573904295, 6.79507847866121, 6.554783070976791, 4.893823555916492, 4.182746922134878, 4.16072830624839, 3.3434285576001606, 3.4135978944387286, 4.8746783902163315, 5.3214558711941145, 6.858956232753623, 40.1541002624565, 7.905094432710946, 4.203904632398195, 9.220024598295726, 3.636042990020329, 6.53643422836844, 4.860625046653247, 3.479341026339518, 12.050142660400804, 3.678223645683272, 5.869670880298508, 7.507925178749139, 6.122527327093377, 3.4654108007227142, 8.677699819540663, 4.702809429618049, 10.181501544518834, 136.1235812348452, 140.08525540450242, 38.97329127698398, 399.50428628373413, 49.131220801016525, 165.75427676185495, 27.211917894907113, 167.41386791109832, 10.876003121804025, 6.631150834996059, 4.913550663052211, 3.4806730593826702, 3.4709394391991872, 4.11879929660776, 5.24826444114904, 21.70514349006207, 19.052226830383905, 7.305933482701213, 4.972225854966988, 3.2363352484605494, 4.168157027616565, 5.310158596884536, 40.27747081777137, 4.291649355439957, 10.306867136943758, 7.382533420525331, 3.462364211340181, 8.613342494473729, 25.28763420697438, 3.185703169898111, 6.61461681294853, 9.332405144578317, 4.20814376186108, 13.056077911226827, 28.47954404037989, 34.293297984570366, 14.023149371100892, 8.723337675421051, 20.740651950134875, 103.8975324838762, 175.29501193821122, 38.49719965226831, 4.277712551140783, 4.162627588740772, 4.198391860557455, 4.013405341817912, 21.067558051073053, 3.329550201189062, 17.67370579531091, 3.4007424513337683, 4.08075158841522, 4.148485403099952, 4.030344627667862, 3.4865558785890642, 11.04665264116822, 5.021594675837734, 3.5757500281311065, 5.300871516256242, 3.35711088151832, 55.320347923922824, 7.782783250033526, 3.354785662508629, 7.409118380163596, 10.110272792767002, 4.104623449679757, 4.167430114324563, 9.223635731053143, 4.386543537749043, 21.3702292352299, 5.3311731368428115, 6.623276365218978, 19.89701176021506, 68.05548849141883, 10.804917518446992, 6.5185464196767136, 5.757690015054881, 4.6603172442726315, 4.737586158866603, 8.539840567292726, 6.929729533584123, 3.095806758259539, 3.964328940954656, 7.935467772193358, 3.743211187470604, 4.42722446329667, 3.3975097400896086, 11.086433461576279, 4.036408890441555, 4.226815842184764, 9.758818618012691, 4.858414870732647, 4.972225854966988, 21.70514349006207, 4.876045011136399, 3.1499385600292618, 3.426447001608627, 3.4049132495592374, 3.369421760812156, 6.946996085858194, 5.116459645164874, 4.389135385885067, 5.078432112627253, 4.901850103036793, 4.9863349316499415, 14.15751632496372, 5.301160059837872, 38.4114045057973, 10.132638500850392, 5.3214558711941145, 10.306867136943758, 8.58267025433889, 5.222151202870131, 4.64683845486218, 27.211917894907113, 4.013118215247865, 3.92690314357151, 5.642384587723692, 3.292191635128678, 3.520346314206156, 5.910876624315572, 5.045103077188643, 5.068785673569659, 38.97329127698398, 47.88376408394096, 8.623550387557314, 11.57203814604076, 38.314313263933, 21.449096589848022, 3.4810427909818817, 14.870992080318912, 26.74418224535953, 7.432204328208028, 5.183590663273689, 2.6975654276860395, 2.715344237555504, 2.884741109235247, 3.095806758259539, 3.1132086677055346, 3.1499385600292618, 3.185703169898111, 5.792737795387534, 13.634262476145821, 10.278514763012055, 21.171831791730348, 6.292866287410265, 60.75587852758323, 27.80829918250727, 399.50428628373413, 660.1739238074925, 5.397814918687879, 5.2417958951668275, 4.8474845009846455, 6.3864285071350775, 3.3457176816715104, 5.758515985017138, 4.954078024632311, 4.936653691473446, 5.940404523097989, 6.283378848237667, 7.609283381771024, 12.02067873475507, 12.691072925856044, 35.41910908196719, 32.3932885919287, 2.6975654276860395, 2.715344237555504, 2.884741109235247, 47.88376408394096, 3.095806758259539, 3.1132086677055346, 3.1499385600292618, 3.195098878882056, 3.185703169898111, 3.2176040706312263, 3.2348579005817046, 3.2363352484605494, 3.252011866377519, 3.2514690611840833, 3.2886080931634223, 64.63269825372706, 14.723018058216164, 18.575942443809197, 59.152302927125774, 36.827852344355904, 56.00687497685495, 3.4635024901944154, 20.50957376600722, 50.959992829094304, 30.912125398077585, 56.39814626327303, 30.361674665040972, 6.53643422836844, 63.511820915812166, 103.8975324838762, 43.718682529415496, 120.61527661040837, 3.7013873465586524, 11.288032600826305, 3.25460773997955, 3.3241771679351952, 4.193305957802332, 4.208787197669462, 8.74180813198256, 4.860625046653247, 5.273962981937015, 5.690181094866859, 7.280692260599537, 5.334366696940091, 9.04152309859951, 15.239740851702898, 22.55214638570651, 25.50553391956942, 2.715344237555504, 2.6975654276860395, 39.44653715532727, 2.884741109235247, 3.095806758259539, 3.1132086677055346, 3.1499385600292618, 3.185703169898111, 3.195098878882056, 3.2176040706312263, 3.2907433036611966, 3.2348579005817046, 3.2514690611840833, 3.2363352484605494, 53.29254015765268, 60.75587852758323, 13.634262476145821, 4.603373154086593, 4.573144473810539, 6.039858065268051, 10.076852146545578, 5.2264575414910155, 31.40038460137657, 9.195304354187144, 6.7294729032074505, 9.30393513502868, 42.091862568868585, 21.31405744650661, 4.181502047574665, 4.717515306732627, 3.422754156253241, 3.195098878882056, 8.269291930632871, 4.882573154631178, 5.511576117800066, 6.740342959651602, 8.797921566993772, 11.267230559660083, 8.830905472589759, 4.195401840150153, 23.16227025885421, 7.760867289452963, 2.6975654276860395, 2.715344237555504, 2.884741109235247, 3.095806758259539, 3.1132086677055346, 3.1499385600292618, 3.185703169898111, 3.334049344655398, 3.2176040706312263, 3.2363352484605494, 3.2348579005817046, 3.252011866377519, 3.2514690611840833, 3.2673263642555423, 3.25460773997955, 3.2483219544244073, 3.298753442255922, 6.628303251982671, 25.733901576381864, 21.449096589848022, 7.402173638438658, 41.08693071691085, 7.833734748066886, 4.202920530337545, 4.013405341817912, 34.37738084638189, 9.200487012299792, 9.441515091709338, 4.357457783764351, 33.10046292736953, 12.488238638438695, 77.44162461969805, 6.932887846364749, 15.341164599004893, 19.542174869095327, 43.23664898825503, 21.828042003550134, 80.77472442599715, 156.53949667124886, 38.000310663983065, 3.775470135489019, 2.6975654276860395, 4.104623449679757, 2.884741109235247, 4.603373154086593, 3.1132086677055346, 3.252011866377519, 4.18458649498841, 5.155211734814383, 5.1850140055280045, 4.306722861343001, 10.181501544518834, 10.633555266187706, 12.339992050321074, 8.361978537232536, 13.178164372949793, 2.715344237555504, 3.095806758259539, 3.1499385600292618, 3.185703169898111, 3.2176040706312263, 3.195098878882056, 3.2348579005817046, 3.2363352484605494, 3.2483219544244073, 3.25460773997955, 3.2514690611840833, 3.2673263642555423, 3.2907433036611966, 3.2886080931634223, 3.3391243254553102, 3.334049344655398, 3.329550201189062, 4.389135385885067, 4.429320009512619, 3.424282928207994, 3.3499777704665346, 19.542174869095327, 3.6212823665546487, 3.411800031837272, 56.147509889254756, 62.90279952581126, 3.6453286147799795, 3.716164550106425, 3.4547513908782577, 41.147958327380806, 3.7013873465586524, 39.44653715532727, 38.97329127698398, 165.75427676185495, 157.9944374025164, 36.57260988884368, 82.01735005975802, 251.8457963866047, 136.52236818457183, 660.1739238074925, 686.845558777852, 385.6536266640513, 4.573144473810539, 2.715344237555504, 4.603373154086593, 4.42722446329667, 12.904588350312359, 15.919174332032162, 2.6975654276860395, 2.884741109235247, 3.095806758259539, 3.1132086677055346, 3.1499385600292618, 3.185703169898111, 3.195098878882056, 3.2176040706312263, 3.2348579005817046, 3.2363352484605494, 3.2514690611840833, 3.2483219544244073, 3.252011866377519, 3.25460773997955, 3.2673263642555423, 3.2886080931634223, 3.292191635128678, 3.302938929244585, 3.2948143336327136, 3.2907433036611966, 3.298753442255922, 3.3025770508674657, 3.31666581541121, 3.3023487808689853, 3.3241771679351952, 3.354785662508629, 3.3429731022076377, 3.329550201189062, 3.3802545026168453, 3.370289417801953, 3.4445183160370814, 3.521723274198112, 3.462364211340181, 3.4135978944387286, 3.4035749172624477, 3.598988303871485, 3.3538080952270724, 3.375069839443126, 3.4875577786141263, 3.7608407183222106, 3.5533541413184317, 3.4800983804529957, 3.775470135489019, 4.291649355439957, 4.382284166483863, 4.466658815520037, 4.6603172442726315, 4.501604633382392, 3.6212823665546487, 5.473617219234684, 40.27747081777137, 60.75587852758323, 68.0859406447702, 28.375024678150613, 8.46181840524682, 8.530356009365198, 72.02198862979132, 15.911119899650867, 5.434552786211837, 7.98892260389929, 6.576221706608772, 20.988300285357152, 10.792226871340693, 23.33993807904605, 12.928192961789776, 3.298753442255922, 4.165125145742108, 6.283378848237667, 8.063829367551948, 8.348917573883323, 17.12193339769827, 11.04665264116822, 16.796008758168515, 2.6975654276860395, 2.715344237555504, 2.884741109235247, 3.095806758259539, 3.1132086677055346, 3.1499385600292618, 3.185703169898111, 3.195098878882056, 3.2176040706312263, 3.2363352484605494, 3.2348579005817046, 3.25460773997955, 3.2483219544244073, 3.2514690611840833, 3.252011866377519, 3.2948143336327136, 3.2673263642555423, 3.2886080931634223, 3.292191635128678, 3.2907433036611966, 3.3025770508674657, 3.3023487808689853, 14.294913761694444, 3.3336804924251147, 3.3241771679351952, 3.335369302608482, 3.35711088151832, 3.3475670088946403, 3.348395297147047, 3.426447001608627, 3.3434285576001606, 3.369421760812156, 3.4103538823149964, 30.912125398077585, 3.5533541413184317, 3.4533802692127917, 3.4886625393296864, 3.7149891319812456, 3.59759398793992, 140.08525540450242, 55.776641347103954, 80.77472442599715, 129.28425092951312, 4.1776454564085075, 168.19465072627196, 174.27413093822622, 169.8851856121965, 4.291649355439957, 3.7148963026088357, 6.767381259150181, 28.8409781054076, 5.205713506540546, 12.339992050321074, 8.919314648135085, 155.3603180644453, 17.60915469134396, 4.893823555916492, 49.57050020855414, 13.391027249635624, 3.3025770508674657, 3.5122532233083796, 2.6975654276860395, 2.715344237555504, 2.884741109235247, 3.252011866377519, 3.095806758259539, 3.1132086677055346, 3.1499385600292618, 3.185703169898111, 3.195098878882056, 3.2176040706312263, 3.2348579005817046, 3.2363352484605494, 3.25460773997955, 3.2483219544244073, 3.2514690611840833, 3.2673263642555423, 3.392566124158812, 3.2948143336327136, 3.2886080931634223, 3.302938929244585, 3.2907433036611966, 3.3023487808689853, 3.292191635128678, 3.31666581541121, 3.298753442255922, 3.3082737439828587, 3.334049344655398, 3.348395297147047, 4.730491698807458, 3.3902876951503376, 3.335369302608482, 6.576221706608772, 3.394477467006486, 3.354785662508629, 3.4110103336416557, 4.2473875291570655, 5.300499735602191, 4.466658815520037, 3.422754156253241, 5.299661165248229, 3.5290544179002468, 3.5190062181238684, 9.838804354076755, 6.512553866216131, 5.983985766228633, 3.4810427909818817, 14.5838581965581, 6.698079078813881, 6.026335760381165, 38.49719965226831, 6.337338482905697, 5.642384587723692, 7.345919704809713, 41.08693071691085, 7.560838146017446, 7.733618831269058, 6.731415468899331, 8.101165173428164, 218.07292950826204, 38.97329127698398, 27.654771614067574, 8.475312842860962, 66.31011125752583, 25.495189652080178, 26.909021619203877, 22.127455142862505, 33.59906684157369, 32.40551123278181, 251.8457963866047, 399.50428628373413, 686.845558777852, 257.1386619464421, 844.155455421531, 385.6536266640513, 660.1739238074925, 53.57942790308865, 62.114806497930374, 2.6975654276860395, 2.715344237555504, 2.884741109235247, 3.185703169898111, 3.095806758259539, 3.1132086677055346, 3.1499385600292618, 3.2176040706312263, 3.195098878882056, 3.2363352484605494, 3.252011866377519, 3.2348579005817046, 3.2514690611840833, 3.25460773997955, 3.2483219544244073, 3.2673263642555423, 3.3023487808689853, 3.2948143336327136, 3.2907433036611966, 3.370289417801953, 3.3025770508674657, 3.2886080931634223, 3.3082737439828587, 3.302938929244585, 3.292191635128678, 3.31666581541121, 3.298753442255922, 3.3356594802388098, 3.340345309319012, 3.348395297147047, 3.3391243254553102, 3.3512999578799945, 3.3429731022076377, 3.4897150204622602, 3.3434285576001606, 4.20814376186108, 3.4635024901944154, 3.4336292470334295, 3.4886625393296864, 3.441699714660517, 3.428488970503475, 4.243588590559678, 3.6442405947781316, 5.022354700298392, 5.033157287298072, 3.460401311283696, 5.116459645164874, 7.305933482701213, 5.690736918747468, 20.988300285357152, 13.056077911226827, 3.9490808869625766, 3.774037537260116, 22.286686285104103, 5.331243216618521, 9.022308875289422, 4.127477254300043, 15.919644175773302, 23.83371847154589, 28.47954404037989, 41.147958327380806, 9.585292408550227, 8.342647491221404, 3.602883111398716, 64.06729681339925, 9.30393513502868, 12.816963973154907, 14.723018058216164, 9.407512274356085, 19.26912163272882, 43.00254943154126, 32.3932885919287, 45.4811421705612, 660.1739238074925, 31.08990892102392, 41.673773369119, 167.41386791109832, 20.080210921256473, 251.8457963866047, 174.27413093822622], \"Category\": [\"Default\", \"Default\", \"Default\", \"Default\", \"Default\", \"Default\", \"Default\", \"Default\", \"Default\", \"Default\", \"Default\", \"Default\", \"Default\", \"Default\", \"Default\", \"Default\", \"Default\", \"Default\", \"Default\", \"Default\", \"Default\", \"Default\", \"Default\", \"Default\", \"Default\", \"Default\", \"Default\", \"Default\", \"Default\", \"Default\", \"Topic1\", \"Topic1\", \"Topic1\", \"Topic1\", \"Topic1\", \"Topic1\", \"Topic1\", \"Topic1\", \"Topic1\", \"Topic1\", \"Topic1\", \"Topic1\", \"Topic1\", \"Topic1\", \"Topic1\", \"Topic1\", \"Topic1\", \"Topic1\", \"Topic1\", \"Topic1\", \"Topic1\", \"Topic1\", \"Topic1\", \"Topic1\", \"Topic1\", \"Topic1\", \"Topic1\", \"Topic1\", \"Topic1\", \"Topic1\", \"Topic1\", \"Topic1\", \"Topic1\", \"Topic1\", \"Topic1\", \"Topic1\", \"Topic1\", \"Topic1\", \"Topic1\", \"Topic1\", \"Topic1\", \"Topic1\", \"Topic1\", \"Topic1\", \"Topic1\", \"Topic1\", \"Topic1\", \"Topic1\", \"Topic1\", \"Topic1\", \"Topic1\", \"Topic1\", \"Topic1\", \"Topic1\", \"Topic1\", \"Topic1\", \"Topic1\", \"Topic1\", \"Topic1\", \"Topic1\", \"Topic2\", \"Topic2\", \"Topic2\", \"Topic2\", \"Topic2\", \"Topic2\", \"Topic2\", \"Topic2\", \"Topic2\", \"Topic2\", \"Topic2\", \"Topic2\", \"Topic2\", \"Topic2\", \"Topic2\", \"Topic2\", \"Topic2\", \"Topic2\", \"Topic2\", \"Topic2\", \"Topic2\", \"Topic2\", \"Topic2\", \"Topic2\", \"Topic2\", \"Topic2\", \"Topic2\", \"Topic2\", \"Topic2\", \"Topic2\", \"Topic2\", \"Topic2\", \"Topic2\", \"Topic2\", \"Topic2\", \"Topic2\", \"Topic2\", \"Topic2\", \"Topic2\", \"Topic2\", \"Topic2\", \"Topic2\", \"Topic2\", \"Topic2\", \"Topic2\", \"Topic2\", \"Topic2\", \"Topic2\", \"Topic2\", \"Topic2\", \"Topic2\", \"Topic2\", \"Topic2\", \"Topic2\", \"Topic2\", \"Topic2\", \"Topic2\", \"Topic2\", \"Topic3\", \"Topic3\", \"Topic3\", \"Topic3\", \"Topic3\", \"Topic3\", \"Topic3\", \"Topic3\", \"Topic3\", \"Topic3\", \"Topic3\", \"Topic3\", \"Topic3\", \"Topic3\", \"Topic3\", \"Topic3\", \"Topic3\", \"Topic3\", \"Topic3\", \"Topic3\", \"Topic3\", \"Topic3\", \"Topic3\", \"Topic3\", \"Topic3\", \"Topic3\", \"Topic3\", \"Topic3\", \"Topic3\", \"Topic3\", \"Topic3\", \"Topic3\", \"Topic3\", \"Topic3\", \"Topic3\", \"Topic3\", \"Topic3\", \"Topic3\", \"Topic3\", \"Topic3\", \"Topic3\", \"Topic3\", \"Topic3\", \"Topic3\", \"Topic3\", \"Topic3\", \"Topic3\", \"Topic3\", \"Topic3\", \"Topic3\", \"Topic3\", \"Topic3\", \"Topic3\", \"Topic3\", \"Topic4\", \"Topic4\", \"Topic4\", \"Topic4\", \"Topic4\", \"Topic4\", \"Topic4\", \"Topic4\", \"Topic4\", \"Topic4\", \"Topic4\", \"Topic4\", \"Topic4\", \"Topic4\", \"Topic4\", \"Topic4\", \"Topic4\", \"Topic4\", \"Topic4\", \"Topic4\", \"Topic4\", \"Topic4\", \"Topic4\", \"Topic4\", \"Topic4\", \"Topic4\", \"Topic4\", \"Topic4\", \"Topic4\", \"Topic4\", \"Topic4\", \"Topic4\", \"Topic4\", \"Topic4\", \"Topic4\", \"Topic4\", \"Topic4\", \"Topic4\", \"Topic4\", \"Topic4\", \"Topic4\", \"Topic4\", \"Topic4\", \"Topic4\", \"Topic4\", \"Topic4\", \"Topic4\", \"Topic4\", \"Topic4\", \"Topic4\", \"Topic4\", \"Topic4\", \"Topic4\", \"Topic4\", \"Topic4\", \"Topic4\", \"Topic4\", \"Topic4\", \"Topic4\", \"Topic4\", \"Topic4\", \"Topic4\", \"Topic4\", \"Topic4\", \"Topic4\", \"Topic4\", \"Topic4\", \"Topic5\", \"Topic5\", \"Topic5\", \"Topic5\", \"Topic5\", \"Topic5\", \"Topic5\", \"Topic5\", \"Topic5\", \"Topic5\", \"Topic5\", \"Topic5\", \"Topic5\", \"Topic5\", \"Topic5\", \"Topic5\", \"Topic5\", \"Topic5\", \"Topic5\", \"Topic5\", \"Topic5\", \"Topic5\", \"Topic5\", \"Topic5\", \"Topic5\", \"Topic5\", \"Topic5\", \"Topic5\", \"Topic5\", \"Topic5\", \"Topic5\", \"Topic5\", \"Topic5\", \"Topic5\", \"Topic5\", \"Topic5\", \"Topic5\", \"Topic5\", \"Topic5\", \"Topic5\", \"Topic5\", \"Topic5\", \"Topic5\", \"Topic5\", \"Topic5\", \"Topic5\", \"Topic5\", \"Topic5\", \"Topic5\", \"Topic5\", \"Topic5\", \"Topic6\", \"Topic6\", \"Topic6\", \"Topic6\", \"Topic6\", \"Topic6\", \"Topic6\", \"Topic6\", \"Topic6\", \"Topic6\", \"Topic6\", \"Topic6\", \"Topic6\", \"Topic6\", \"Topic6\", \"Topic6\", \"Topic6\", \"Topic6\", \"Topic6\", \"Topic6\", \"Topic6\", \"Topic6\", \"Topic6\", \"Topic6\", \"Topic6\", \"Topic6\", \"Topic6\", \"Topic6\", \"Topic6\", \"Topic6\", \"Topic6\", \"Topic6\", \"Topic6\", \"Topic6\", \"Topic6\", \"Topic6\", \"Topic6\", \"Topic6\", \"Topic6\", \"Topic6\", \"Topic6\", \"Topic6\", \"Topic6\", \"Topic6\", \"Topic6\", \"Topic6\", \"Topic6\", \"Topic6\", \"Topic6\", \"Topic7\", \"Topic7\", \"Topic7\", \"Topic7\", \"Topic7\", \"Topic7\", \"Topic7\", \"Topic7\", \"Topic7\", \"Topic7\", \"Topic7\", \"Topic7\", \"Topic7\", \"Topic7\", \"Topic7\", \"Topic7\", \"Topic7\", \"Topic7\", \"Topic7\", \"Topic7\", \"Topic7\", \"Topic7\", \"Topic7\", \"Topic7\", \"Topic7\", \"Topic7\", \"Topic7\", \"Topic7\", \"Topic7\", \"Topic7\", \"Topic7\", \"Topic7\", \"Topic7\", \"Topic7\", \"Topic7\", \"Topic7\", \"Topic7\", \"Topic7\", \"Topic7\", \"Topic7\", \"Topic7\", \"Topic7\", \"Topic7\", \"Topic7\", \"Topic7\", \"Topic7\", \"Topic8\", \"Topic8\", \"Topic8\", \"Topic8\", \"Topic8\", \"Topic8\", \"Topic8\", \"Topic8\", \"Topic8\", \"Topic8\", \"Topic8\", \"Topic8\", \"Topic8\", \"Topic8\", \"Topic8\", \"Topic8\", \"Topic8\", \"Topic8\", \"Topic8\", \"Topic8\", \"Topic8\", \"Topic8\", \"Topic8\", \"Topic8\", \"Topic8\", \"Topic8\", \"Topic8\", \"Topic8\", \"Topic8\", \"Topic8\", \"Topic8\", \"Topic8\", \"Topic8\", \"Topic8\", \"Topic8\", \"Topic8\", \"Topic8\", \"Topic8\", \"Topic8\", \"Topic9\", \"Topic9\", \"Topic9\", \"Topic9\", \"Topic9\", \"Topic9\", \"Topic9\", \"Topic9\", \"Topic9\", \"Topic9\", \"Topic9\", \"Topic9\", \"Topic9\", \"Topic9\", \"Topic9\", \"Topic9\", \"Topic9\", \"Topic9\", \"Topic9\", \"Topic9\", \"Topic9\", \"Topic9\", \"Topic9\", \"Topic9\", \"Topic9\", \"Topic9\", \"Topic9\", \"Topic9\", \"Topic9\", \"Topic9\", \"Topic9\", \"Topic9\", \"Topic9\", \"Topic9\", \"Topic10\", \"Topic10\", \"Topic10\", \"Topic10\", \"Topic10\", \"Topic10\", \"Topic10\", \"Topic10\", \"Topic10\", \"Topic10\", \"Topic10\", \"Topic10\", \"Topic10\", \"Topic10\", \"Topic10\", \"Topic10\", \"Topic10\", \"Topic10\", \"Topic10\", \"Topic10\", \"Topic10\", \"Topic10\", \"Topic10\", \"Topic10\", \"Topic10\", \"Topic10\", \"Topic10\", \"Topic10\", \"Topic10\", \"Topic10\", \"Topic10\", \"Topic10\", \"Topic11\", \"Topic11\", \"Topic11\", \"Topic11\", \"Topic11\", \"Topic11\", \"Topic11\", \"Topic11\", \"Topic11\", \"Topic11\", \"Topic11\", \"Topic11\", \"Topic11\", \"Topic11\", \"Topic11\", \"Topic11\", \"Topic11\", \"Topic11\", \"Topic11\", \"Topic11\", \"Topic11\", \"Topic11\", \"Topic11\", \"Topic11\", \"Topic11\", \"Topic11\", \"Topic11\", \"Topic11\", \"Topic11\", \"Topic11\", \"Topic11\", \"Topic11\", \"Topic11\", \"Topic11\", \"Topic11\", \"Topic11\", \"Topic12\", \"Topic12\", \"Topic12\", \"Topic12\", \"Topic12\", \"Topic12\", \"Topic12\", \"Topic12\", \"Topic12\", \"Topic12\", \"Topic12\", \"Topic12\", \"Topic12\", \"Topic12\", \"Topic12\", \"Topic12\", \"Topic12\", \"Topic12\", \"Topic12\", \"Topic12\", \"Topic12\", \"Topic12\", \"Topic12\", \"Topic12\", \"Topic12\", \"Topic12\", \"Topic12\", \"Topic12\", \"Topic12\", \"Topic12\", \"Topic12\", \"Topic12\", \"Topic12\", \"Topic12\", \"Topic12\", \"Topic12\", \"Topic12\", \"Topic12\", \"Topic12\", \"Topic13\", \"Topic13\", \"Topic13\", \"Topic13\", \"Topic13\", \"Topic13\", \"Topic13\", \"Topic13\", \"Topic13\", \"Topic13\", \"Topic13\", \"Topic13\", \"Topic13\", \"Topic13\", \"Topic13\", \"Topic13\", \"Topic13\", \"Topic13\", \"Topic13\", \"Topic13\", \"Topic13\", \"Topic13\", \"Topic13\", \"Topic13\", \"Topic13\", \"Topic13\", \"Topic13\", \"Topic13\", \"Topic13\", \"Topic13\", \"Topic13\", \"Topic13\", \"Topic13\", \"Topic13\", \"Topic13\", \"Topic13\", \"Topic13\", \"Topic13\", \"Topic13\", \"Topic13\", \"Topic13\", \"Topic13\", \"Topic13\", \"Topic13\", \"Topic13\", \"Topic13\", \"Topic13\", \"Topic14\", \"Topic14\", \"Topic14\", \"Topic14\", \"Topic14\", \"Topic14\", \"Topic14\", \"Topic14\", \"Topic14\", \"Topic14\", \"Topic14\", \"Topic14\", \"Topic14\", \"Topic14\", \"Topic14\", \"Topic14\", \"Topic14\", \"Topic14\", \"Topic14\", \"Topic14\", \"Topic14\", \"Topic14\", \"Topic14\", \"Topic14\", \"Topic14\", \"Topic14\", \"Topic14\", \"Topic14\", \"Topic14\", \"Topic14\", \"Topic14\", \"Topic14\", \"Topic14\", \"Topic14\", \"Topic14\", \"Topic14\", \"Topic14\", \"Topic14\", \"Topic14\", \"Topic14\", \"Topic14\", \"Topic14\", \"Topic14\", \"Topic14\", \"Topic15\", \"Topic15\", \"Topic15\", \"Topic15\", \"Topic15\", \"Topic15\", \"Topic15\", \"Topic15\", \"Topic15\", \"Topic15\", \"Topic15\", \"Topic15\", \"Topic15\", \"Topic15\", \"Topic15\", \"Topic15\", \"Topic15\", \"Topic15\", \"Topic15\", \"Topic15\", \"Topic15\", \"Topic15\", \"Topic15\", \"Topic15\", \"Topic15\", \"Topic15\", \"Topic15\", \"Topic15\", \"Topic15\", \"Topic15\", \"Topic15\", \"Topic15\", \"Topic15\", \"Topic15\", \"Topic15\", \"Topic15\", \"Topic15\", \"Topic15\", \"Topic15\", \"Topic15\", \"Topic15\", \"Topic15\", \"Topic15\", \"Topic15\", \"Topic15\", \"Topic15\", \"Topic15\", \"Topic15\", \"Topic15\", \"Topic15\", \"Topic15\", \"Topic15\", \"Topic15\", \"Topic15\", \"Topic16\", \"Topic16\", \"Topic16\", \"Topic16\", \"Topic16\", \"Topic16\", \"Topic16\", \"Topic16\", \"Topic16\", \"Topic16\", \"Topic16\", \"Topic16\", \"Topic16\", \"Topic16\", \"Topic16\", \"Topic16\", \"Topic16\", \"Topic16\", \"Topic16\", \"Topic16\", \"Topic16\", \"Topic16\", \"Topic16\", \"Topic16\", \"Topic16\", \"Topic16\", \"Topic16\", \"Topic16\", \"Topic16\", \"Topic16\", \"Topic16\", \"Topic16\", \"Topic16\", \"Topic16\", \"Topic16\", \"Topic16\", \"Topic16\", \"Topic16\", \"Topic16\", \"Topic16\", \"Topic16\", \"Topic16\", \"Topic16\", \"Topic16\", \"Topic16\", \"Topic16\", \"Topic16\", \"Topic16\", \"Topic16\", \"Topic16\", \"Topic16\", \"Topic16\", \"Topic16\", \"Topic16\", \"Topic16\", \"Topic16\", \"Topic16\", \"Topic16\", \"Topic17\", \"Topic17\", \"Topic17\", \"Topic17\", \"Topic17\", \"Topic17\", \"Topic17\", \"Topic17\", \"Topic17\", \"Topic17\", \"Topic17\", \"Topic17\", \"Topic17\", \"Topic17\", \"Topic17\", \"Topic17\", \"Topic17\", \"Topic17\", \"Topic17\", \"Topic17\", \"Topic17\", \"Topic17\", \"Topic17\", \"Topic17\", \"Topic17\", \"Topic17\", \"Topic17\", \"Topic17\", \"Topic17\", \"Topic17\", \"Topic17\", \"Topic17\", \"Topic17\", \"Topic17\", \"Topic17\", \"Topic17\", \"Topic17\", \"Topic17\", \"Topic17\", \"Topic17\", \"Topic17\", \"Topic17\", \"Topic17\", \"Topic17\", \"Topic17\", \"Topic17\", \"Topic17\", \"Topic17\", \"Topic17\", \"Topic17\", \"Topic17\", \"Topic17\", \"Topic17\", \"Topic17\", \"Topic17\", \"Topic17\", \"Topic17\", \"Topic17\", \"Topic17\", \"Topic17\", \"Topic17\", \"Topic17\", \"Topic17\", \"Topic17\", \"Topic17\", \"Topic17\", \"Topic17\", \"Topic17\", \"Topic17\", \"Topic17\", \"Topic17\", \"Topic18\", \"Topic18\", \"Topic18\", \"Topic18\", \"Topic18\", \"Topic18\", \"Topic18\", \"Topic18\", \"Topic18\", \"Topic18\", \"Topic18\", \"Topic18\", \"Topic18\", \"Topic18\", \"Topic18\", \"Topic18\", \"Topic18\", \"Topic18\", \"Topic18\", \"Topic18\", \"Topic18\", \"Topic18\", \"Topic18\", \"Topic18\", \"Topic18\", \"Topic18\", \"Topic18\", \"Topic18\", \"Topic18\", \"Topic18\", \"Topic18\", \"Topic18\", \"Topic18\", \"Topic18\", \"Topic18\", \"Topic18\", \"Topic18\", \"Topic18\", \"Topic18\", \"Topic18\", \"Topic18\", \"Topic18\", \"Topic18\", \"Topic18\", \"Topic18\", \"Topic18\", \"Topic18\", \"Topic18\", \"Topic18\", \"Topic18\", \"Topic18\", \"Topic18\", \"Topic18\", \"Topic18\", \"Topic18\", \"Topic18\", \"Topic18\", \"Topic18\", \"Topic18\", \"Topic18\", \"Topic18\", \"Topic18\", \"Topic18\", \"Topic18\", \"Topic18\", \"Topic18\", \"Topic19\", \"Topic19\", \"Topic19\", \"Topic19\", \"Topic19\", \"Topic19\", \"Topic19\", \"Topic19\", \"Topic19\", \"Topic19\", \"Topic19\", \"Topic19\", \"Topic19\", \"Topic19\", \"Topic19\", \"Topic19\", \"Topic19\", \"Topic19\", \"Topic19\", \"Topic19\", \"Topic19\", \"Topic19\", \"Topic19\", \"Topic19\", \"Topic19\", \"Topic19\", \"Topic19\", \"Topic19\", \"Topic19\", \"Topic19\", \"Topic19\", \"Topic19\", \"Topic19\", \"Topic19\", \"Topic19\", \"Topic19\", \"Topic19\", \"Topic19\", \"Topic19\", \"Topic19\", \"Topic19\", \"Topic19\", \"Topic19\", \"Topic19\", \"Topic19\", \"Topic19\", \"Topic19\", \"Topic19\", \"Topic19\", \"Topic19\", \"Topic19\", \"Topic19\", \"Topic19\", \"Topic19\", \"Topic19\", \"Topic19\", \"Topic19\", \"Topic19\", \"Topic19\", \"Topic19\", \"Topic19\", \"Topic19\", \"Topic19\", \"Topic19\", \"Topic19\", \"Topic19\", \"Topic19\", \"Topic19\", \"Topic19\", \"Topic19\", \"Topic19\", \"Topic19\", \"Topic19\", \"Topic19\", \"Topic19\", \"Topic19\", \"Topic19\", \"Topic19\", \"Topic19\", \"Topic19\", \"Topic20\", \"Topic20\", \"Topic20\", \"Topic20\", \"Topic20\", \"Topic20\", \"Topic20\", \"Topic20\", \"Topic20\", \"Topic20\", \"Topic20\", \"Topic20\", \"Topic20\", \"Topic20\", \"Topic20\", \"Topic20\", \"Topic20\", \"Topic20\", \"Topic20\", \"Topic20\", \"Topic20\", \"Topic20\", \"Topic20\", \"Topic20\", \"Topic20\", \"Topic20\", \"Topic20\", \"Topic20\", \"Topic20\", \"Topic20\", \"Topic20\", \"Topic20\", \"Topic20\", \"Topic20\", \"Topic20\", \"Topic20\", \"Topic20\", \"Topic20\", \"Topic20\", \"Topic20\", \"Topic20\", \"Topic20\", \"Topic20\", \"Topic20\", \"Topic20\", \"Topic20\", \"Topic20\", \"Topic20\", \"Topic20\", \"Topic20\", \"Topic20\", \"Topic20\", \"Topic20\", \"Topic20\", \"Topic20\", \"Topic20\", \"Topic20\", \"Topic20\", \"Topic20\", \"Topic20\", \"Topic20\", \"Topic20\", \"Topic20\", \"Topic20\", \"Topic20\", \"Topic20\", \"Topic20\", \"Topic20\", \"Topic20\", \"Topic20\", \"Topic20\", \"Topic20\", \"Topic20\", \"Topic20\", \"Topic20\", \"Topic20\", \"Topic20\", \"Topic20\", \"Topic20\", \"Topic20\"], \"logprob\": [30.0, 29.0, 28.0, 27.0, 26.0, 25.0, 24.0, 23.0, 22.0, 21.0, 20.0, 19.0, 18.0, 17.0, 16.0, 15.0, 14.0, 13.0, 12.0, 11.0, 10.0, 9.0, 8.0, 7.0, 6.0, 5.0, 4.0, 3.0, 2.0, 1.0, -4.8444, -5.0501, -5.2361, -5.4784, -5.5333, -5.625, -4.6284, -5.6991, -5.7268, -5.7328, -5.7593, -5.8067, -5.9465, -5.6099, -5.2576, -5.9277, -5.2909, -5.0141, -6.0774, -5.0547, -6.0954, -4.8154, -6.1087, -6.1178, -6.153, -6.1703, -6.1717, -5.3229, -6.2095, -6.0699, -4.8918, -5.5742, -5.0403, -5.2509, -5.7664, -5.1104, -5.1909, -5.3623, -4.6295, -4.12, -4.1654, -4.3285, -3.9617, -5.0488, -4.9782, -3.5159, -4.615, -4.6254, -4.8057, -4.8537, -4.8241, -5.2266, -4.5641, -4.9294, -4.9395, -4.9597, -4.9695, -5.1325, -5.1057, -5.1837, -3.7543, -5.4379, -5.4718, -2.948, -5.9213, -5.9816, -5.9734, -6.0431, -6.3209, -6.2756, -5.8653, -6.3354, -6.314, -3.3855, -5.6705, -6.4807, -6.5261, -6.5353, -6.4874, -6.5757, -6.5773, -6.5904, -6.6069, -3.8439, -5.0587, -6.6499, -6.709, -6.7268, -5.0596, -6.7645, -2.4829, -4.956, -4.0779, -5.4677, -5.5426, -5.7659, -2.4901, -5.2755, -4.509, -4.9412, -3.8254, -5.1012, -4.2682, -4.3184, -3.3311, -4.9132, -4.5947, -3.0032, -4.3668, -5.445, -5.1061, -5.5323, -5.2239, -4.9207, -5.1218, -5.1594, -5.1783, -5.3949, -3.9535, -3.8977, -4.0891, -3.872, -5.1221, -5.5892, -5.0336, -3.8515, -5.8574, -5.9202, -6.043, -4.1821, -5.0498, -6.2761, -6.307, -6.3304, -6.3388, -6.2367, -6.1471, -6.386, -6.4059, -6.4117, -6.4609, -6.4786, -6.5247, -5.577, -4.8967, -5.189, -6.6655, -6.6645, -3.5284, -4.2934, -3.6891, -3.4782, -4.4982, -3.3833, -4.8502, -5.6299, -4.9698, -4.0253, -5.2771, -4.4604, -4.671, -3.9582, -4.0909, -4.0281, -4.3851, -3.0574, -4.1248, -3.9197, -3.645, -4.2627, -4.5576, -4.8608, -4.0576, -4.2448, -4.6041, -5.2063, -5.5726, -5.7038, -5.4917, -5.7141, -5.7338, -5.8433, -5.8231, -5.8457, -5.8975, -5.8698, -5.6635, -5.9303, -5.7845, -5.3716, -6.0429, -6.0801, -6.0842, -6.077, -6.1313, -6.094, -5.9353, -5.2584, -6.3873, -6.3916, -6.4331, -6.402, -5.5501, -5.5579, -5.5824, -5.6538, -3.6513, -4.3066, -4.5682, -3.9832, -5.0336, -4.0701, -4.7496, -5.0786, -4.1457, -4.3591, -3.4104, -3.5074, -3.6451, -4.7156, -4.5337, -5.2687, -4.7347, -4.0675, -5.0971, -5.2714, -4.5587, -4.7879, -4.2441, -4.7688, -5.0939, -4.8579, -4.1678, -4.795, -4.1331, -4.62, -4.9293, -4.8786, -4.9854, -3.3492, -3.8441, -4.1173, -4.8552, -4.9205, -4.7877, -4.918, -5.1576, -5.565, -5.5649, -5.5675, -4.9132, -5.5814, -5.5507, -4.3133, -5.0917, -5.6839, -4.5543, -5.0411, -5.2874, -5.1549, -3.3217, -5.3152, -5.0946, -5.9009, -5.5525, -5.9959, -5.6999, -5.5764, -6.04, -5.4531, -3.7816, -4.8504, -4.1073, -5.0513, -5.3078, -4.1176, -4.072, -4.0255, -3.4761, -4.4175, -3.7312, -4.5477, -4.3717, -4.2616, -4.6043, -3.8216, -4.0104, -4.8857, -4.6599, -4.9306, -3.7386, -4.2536, -4.3043, -4.6024, -4.9258, -3.8993, -5.181, -5.3378, -5.3208, -5.039, -5.3986, -4.8166, -4.5731, -4.3279, -5.2386, -5.2528, -2.6438, -4.8061, -5.2282, -3.9936, -5.6646, -5.0894, -4.2391, -5.4582, -4.8166, -4.9051, -5.7676, -4.6286, -5.0814, -4.2855, -3.5926, -4.6048, -3.9632, -3.1893, -3.2354, -4.5706, -4.6871, -3.6145, -3.2035, -4.2949, -4.052, -4.0803, -4.3454, -4.3883, -4.1987, -4.3182, -4.6544, -4.5918, -4.6583, -4.442, -4.4579, -4.6342, -4.5518, -4.8161, -4.9232, -4.8494, -4.852, -5.1078, -3.8168, -4.8664, -4.5582, -5.073, -4.4844, -4.5804, -4.4911, -5.2937, -5.0487, -3.2866, -5.337, -5.0581, -5.4803, -4.7332, -4.9358, -4.5436, -5.4841, -4.6178, -5.6068, -5.2603, -4.6107, -3.9448, -4.3852, -4.6317, -3.6925, -4.6575, -4.8932, -4.2311, -4.4462, -4.3336, -4.4412, -4.1414, -4.301, -4.3031, -4.4302, -4.4401, -4.849, -2.8019, -3.541, -2.5081, -2.9684, -3.9267, -3.9951, -4.3082, -4.4993, -4.5604, -4.7904, -4.7765, -4.4833, -4.4069, -4.3202, -2.5637, -4.2132, -4.8513, -4.0747, -5.0669, -4.5326, -5.1695, -5.7246, -4.5915, -5.7995, -5.3556, -5.1336, -5.3614, -5.948, -5.0521, -5.7164, -5.0337, -3.05, -3.4151, -4.411, -3.3661, -4.5376, -4.371, -4.859, -4.7488, -3.0137, -3.566, -3.9143, -4.3464, -4.3845, -4.2638, -4.0479, -2.6841, -2.8394, -3.9788, -4.3681, -4.8532, -4.754, -4.5152, -2.5213, -4.791, -4.0251, -4.4281, -5.338, -4.4499, -3.4679, -5.5854, -4.8847, -4.685, -5.5841, -4.5495, -4.1111, -3.9512, -4.863, -5.4573, -4.6441, -3.751, -3.9373, -4.8325, -3.814, -3.8565, -3.8568, -4.1806, -2.5902, -4.5916, -2.9345, -4.6187, -4.5774, -4.5853, -4.6608, -5.025, -3.899, -4.7011, -5.0676, -4.6794, -5.2282, -2.4932, -4.5441, -5.4275, -4.6474, -4.3683, -5.275, -5.3045, -4.5498, -5.3172, -3.7668, -5.2261, -5.1775, -4.1079, -3.332, -5.2657, -3.2431, -3.3951, -3.6431, -3.6305, -3.0617, -3.3446, -4.1716, -3.9418, -3.4533, -4.237, -4.122, -4.547, -3.3995, -4.4976, -4.4718, -3.6552, -4.5184, -4.517, -3.1874, -4.6845, -5.2225, -5.1827, -5.2419, -5.3071, -4.6907, -5.0622, -5.263, -5.1834, -5.2485, -5.245, -4.2368, -5.1873, -3.9643, -4.9024, -5.1883, -5.216, -2.7092, -3.2749, -3.415, -1.6811, -4.1368, -4.6155, -4.4713, -5.161, -5.155, -4.713, -5.1356, -5.1333, -3.393, -3.4047, -5.2996, -5.1339, -4.079, -4.7125, -6.5404, -5.1337, -4.9549, -6.6964, -7.2618, -7.9248, -7.9243, -7.9224, -7.9281, -7.9288, -7.9265, -7.9233, -7.3831, -6.9066, -7.1044, -7.1465, -7.6405, -7.3977, -7.5565, -7.3217, -7.5478, -2.7603, -3.2871, -4.3197, -4.0975, -4.7627, -4.4413, -4.7272, -4.8702, -4.9038, -4.8918, -4.7037, -4.7263, -5.1185, -4.1492, -4.6972, -7.4898, -7.4934, -7.4953, -4.6941, -7.4957, -7.4966, -7.4958, -7.4901, -7.5004, -7.4972, -7.497, -7.4987, -7.4961, -7.4986, -7.4875, -4.7018, -6.31, -6.7628, -6.5134, -6.8064, -6.6891, -7.4776, -7.1625, -7.1266, -7.2239, -7.2593, -7.3174, -7.4503, -7.3813, -7.3893, -7.4108, -7.3919, -3.3675, -3.2129, -4.6836, -4.7281, -4.6848, -4.6844, -3.9773, -4.6848, -4.731, -4.7972, -4.7935, -5.1573, -4.6839, -4.8803, -4.6836, -4.7129, -7.1925, -7.4734, -4.8076, -7.4723, -7.4777, -7.4727, -7.4729, -7.478, -7.4795, -7.4754, -7.4543, -7.4792, -7.4748, -7.481, -4.6998, -4.7229, -6.2796, -7.2018, -7.2319, -7.0509, -6.7717, -7.1899, -6.307, -6.95, -7.1813, -7.1856, -7.0315, -7.1987, -2.9928, -3.87, -4.488, -4.7159, -3.9797, -4.717, -4.6482, -4.4871, -4.3192, -4.2006, -4.6466, -5.7094, -4.0448, -5.1528, -7.4379, -7.4337, -7.4418, -7.441, -7.4384, -7.4421, -7.4399, -7.4039, -7.4426, -7.4389, -7.4407, -7.4383, -7.4404, -7.4375, -7.4415, -7.4453, -7.4344, -7.139, -6.8577, -6.9349, -7.2312, -6.8515, -7.2854, -7.3924, -7.4019, -7.0599, -7.3052, -7.3105, -7.4015, -7.226, -7.314, -7.2238, -7.3782, -7.348, -7.3401, -7.3167, -7.3377, -7.3005, -7.2981, -7.328, -3.0768, -3.5286, -3.2903, -3.9442, -3.9331, -4.6063, -4.7544, -4.7116, -4.5236, -4.5237, -4.7457, -4.521, -4.819, -5.0447, -5.5417, -5.2617, -7.4858, -7.4828, -7.4893, -7.4834, -7.4787, -7.4865, -7.4837, -7.4841, -7.4806, -7.4805, -7.4855, -7.4842, -7.4793, -7.483, -7.4778, -7.4796, -7.48, -7.4304, -7.4321, -7.4758, -7.4799, -7.3341, -7.4747, -7.4786, -7.3409, -7.3382, -7.4756, -7.475, -7.4781, -7.3878, -7.4754, -7.4232, -7.4276, -7.4156, -7.4161, -7.4327, -7.4305, -7.4237, -7.4317, -7.4267, -7.4284, -7.4302, -2.8164, -3.4905, -3.1751, -3.9005, -3.681, -4.5459, -7.4231, -7.4199, -7.418, -7.4201, -7.4196, -7.4199, -7.4187, -7.4168, -7.4174, -7.4194, -7.4152, -7.4179, -7.4197, -7.4196, -7.4174, -7.415, -7.4154, -7.4138, -7.4168, -7.4199, -7.4183, -7.4175, -7.4141, -7.4196, -7.4148, -7.4124, -7.4145, -7.416, -7.414, -7.4147, -7.4121, -7.4104, -7.4121, -7.4136, -7.4141, -7.4113, -7.4156, -7.4152, -7.4133, -7.4104, -7.4131, -7.4142, -7.4125, -7.4101, -7.4098, -7.4103, -7.4099, -7.4115, -7.4139, -7.4098, -7.4068, -7.4079, -7.408, -7.4092, -7.4093, -7.4094, -7.4098, -7.4101, -7.4107, -7.4108, -7.4113, -7.4113, -7.4115, -7.4116, -7.4117, -3.1092, -4.6019, -4.6654, -4.8109, -4.8088, -4.548, -5.0599, -4.7741, -7.3178, -7.3207, -7.3214, -7.3179, -7.3217, -7.3217, -7.3222, -7.3208, -7.3221, -7.3174, -7.3233, -7.32, -7.3253, -7.3253, -7.3258, -7.3142, -7.3237, -7.322, -7.3211, -7.3224, -7.3196, -7.3202, -6.5815, -7.3165, -7.3191, -7.3182, -7.3166, -7.3176, -7.3176, -7.3138, -7.3182, -7.3175, -7.3164, -7.1328, -7.3131, -7.3157, -7.316, -7.3148, -7.3161, -7.2216, -7.2406, -7.2409, -7.2376, -7.3131, -7.2421, -7.2571, -7.2657, -7.3134, -7.3157, -7.3111, -7.3113, -7.3124, -7.3128, -7.3128, -7.3129, -7.3137, -7.3138, -7.3139, -2.9207, -4.4901, -6.7335, -7.2871, -7.2863, -7.2797, -7.1858, -7.2837, -7.2821, -7.2758, -7.2844, -7.2865, -7.2849, -7.2837, -7.2846, -7.2825, -7.2849, -7.2864, -7.283, -7.247, -7.2796, -7.2842, -7.2812, -7.2851, -7.2856, -7.289, -7.2819, -7.288, -7.2859, -7.2808, -7.2766, -6.9428, -7.2723, -7.2815, -7.1081, -7.2775, -7.2803, -7.2772, -7.2447, -7.2226, -7.2446, -7.2782, -7.2335, -7.275, -7.2754, -7.179, -7.2305, -7.2369, -7.2774, -7.1848, -7.2374, -7.2461, -7.163, -7.2479, -7.2543, -7.245, -7.1857, -7.2485, -7.2506, -7.2547, -7.2498, -7.1765, -7.215, -7.2229, -7.2494, -7.2153, -7.229, -7.2298, -7.2343, -7.2304, -7.2318, -7.2227, -7.229, -7.2291, -7.23, -7.2312, -7.2313, -7.2314, -7.2318, -7.2321, -7.2157, -7.2176, -7.2163, -7.1867, -7.2219, -7.2164, -7.2138, -7.2148, -7.2219, -7.2112, -7.2121, -7.2181, -7.2161, -7.2161, -7.2208, -7.2155, -7.2124, -7.2155, -7.2168, -7.1931, -7.2134, -7.2192, -7.214, -7.2159, -7.2197, -7.2152, -7.222, -7.2112, -7.2121, -7.21, -7.2137, -7.2118, -7.2134, -7.2006, -7.2136, -7.1766, -7.2088, -7.2106, -7.2088, -7.2106, -7.2114, -7.1919, -7.2067, -7.1847, -7.1887, -7.2113, -7.1899, -7.1722, -7.1862, -7.1346, -7.1539, -7.2054, -7.2074, -7.1428, -7.1948, -7.1792, -7.2043, -7.1649, -7.1617, -7.1601, -7.1555, -7.1869, -7.1919, -7.2096, -7.1529, -7.192, -7.1896, -7.1889, -7.1938, -7.1868, -7.1799, -7.1836, -7.1829, -7.1831, -7.1877, -7.1887, -7.1888, -7.1895, -7.1901, -7.1902], \"loglift\": [30.0, 29.0, 28.0, 27.0, 26.0, 25.0, 24.0, 23.0, 22.0, 21.0, 20.0, 19.0, 18.0, 17.0, 16.0, 15.0, 14.0, 13.0, 12.0, 11.0, 10.0, 9.0, 8.0, 7.0, 6.0, 5.0, 4.0, 3.0, 2.0, 1.0, 1.0424, 1.0398, 1.0329, 1.0309, 1.0297, 1.0271, 1.0267, 1.0254, 1.0244, 1.0243, 1.0236, 1.0221, 1.0171, 1.0167, 1.0166, 1.015, 1.0135, 1.0113, 1.0109, 1.0109, 1.0108, 1.0106, 1.0105, 1.0101, 1.0082, 1.008, 1.0072, 1.0067, 1.0059, 1.0043, 1.0037, 0.9942, 0.974, 0.9786, 0.994, 0.9447, 0.9298, 0.9446, 0.8427, 0.7661, 0.7462, 0.6725, 0.5562, 0.8293, 0.7916, -0.0013, 0.3785, 0.3109, 0.3275, 0.3433, 0.1022, 0.6215, -0.5076, 0.0503, 0.0447, -0.2978, -0.3762, 0.2709, -0.5351, -0.3034, 1.1674, 1.1521, 1.1502, 1.1438, 1.1351, 1.1332, 1.1324, 1.1297, 1.1159, 1.1157, 1.1157, 1.1145, 1.1143, 1.1117, 1.1079, 1.1056, 1.1021, 1.1017, 1.1012, 1.0986, 1.0977, 1.0967, 1.0948, 1.0938, 1.0936, 1.0926, 1.0875, 1.0852, 1.0838, 1.0818, 1.0714, 1.0784, 1.0266, 1.0593, 1.0513, 1.0441, 0.8184, 1.0008, 0.9421, 0.9479, 0.8365, 0.9603, 0.8621, 0.8663, 0.7255, 0.9133, 0.8392, 0.5114, 0.5595, 0.9389, 0.7228, 0.9152, 0.416, -0.3275, 0.0114, -0.1643, -0.298, -0.4107, 1.9523, 1.952, 1.9491, 1.9391, 1.9221, 1.8985, 1.8973, 1.8961, 1.8791, 1.8742, 1.8634, 1.8589, 1.8417, 1.8351, 1.8329, 1.8303, 1.8286, 1.8272, 1.8216, 1.8214, 1.8211, 1.8205, 1.8138, 1.811, 1.8036, 1.7898, 1.7883, 1.7817, 1.7793, 1.7758, 1.629, 1.6181, 1.565, 1.5016, 1.4196, 1.1873, 1.4667, 1.6494, 1.4928, 1.1716, 1.5271, 1.2649, 1.2957, 0.978, 0.8933, 0.8522, 1.0182, 0.251, 0.8703, 0.6735, -0.1303, -0.2061, -0.0397, 0.8364, 2.6437, 2.637, 2.621, 2.5829, 2.5379, 2.5284, 2.5266, 2.5258, 2.5244, 2.509, 2.5077, 2.5011, 2.4957, 2.4955, 2.493, 2.492, 2.4819, 2.4753, 2.4699, 2.4686, 2.4654, 2.4557, 2.4524, 2.449, 2.4288, 2.4084, 2.404, 2.4015, 2.392, 2.3884, 2.3841, 2.3829, 2.3668, 2.3672, 2.1741, 2.2023, 2.1525, 1.9018, 2.1728, 1.8698, 2.0642, 2.1665, 1.7067, 1.7119, 1.1828, 1.0106, 0.9254, 1.6935, 1.5552, 2.0959, 1.5964, 0.926, 1.926, 2.0842, 1.2895, 1.5261, 0.642, 1.1641, 1.7544, 1.2578, -0.6135, 0.9755, -0.8246, 0.2916, 0.8405, 0.0577, 1.2147, 3.4221, 3.4021, 3.3869, 3.3178, 3.3097, 3.2943, 3.2783, 3.2746, 3.1949, 3.1943, 3.1924, 3.1816, 3.1652, 3.1579, 3.1341, 3.1299, 3.1289, 3.1154, 3.1136, 3.0914, 3.0701, 3.0501, 3.0173, 2.9725, 2.8873, 2.8712, 2.8708, 2.8622, 2.8049, 2.7957, 2.7955, 2.7449, 2.7544, 2.647, 2.7367, 2.766, 2.4536, 2.3289, 2.0081, 1.4042, 2.0943, 1.1804, 2.0327, 1.4537, 1.1724, 1.6907, -0.2674, -0.702, 1.9709, 0.8123, 1.6684, 3.6703, 3.6298, 3.6083, 3.5979, 3.5474, 3.519, 3.501, 3.4665, 3.4519, 3.3893, 3.3844, 3.3541, 3.3459, 3.3407, 3.31, 3.2813, 3.2614, 3.1726, 3.1558, 3.1375, 3.1143, 3.1138, 3.1034, 3.063, 3.0524, 3.0172, 3.01, 2.9138, 2.8889, 2.8569, 2.6283, 2.6416, 2.3509, 1.8057, 1.3352, 2.4322, 2.5084, 0.9035, 0.1049, 1.794, 1.382, 0.9132, 1.5396, 1.3822, 0.3945, 0.815, 1.9455, 0.6051, 1.2307, 3.7942, 3.7886, 3.7662, 3.7459, 3.7358, 3.7093, 3.6789, 3.6766, 3.6744, 3.6723, 3.6616, 3.6476, 3.6456, 3.6277, 3.6202, 3.5347, 3.5194, 3.4876, 3.4166, 3.3749, 3.3541, 3.3517, 3.3345, 3.3241, 3.2814, 3.2529, 3.2408, 3.2306, 3.2006, 3.1056, 3.0051, 2.9065, 2.9626, 2.3288, 2.8268, 2.959, 1.713, 2.0333, 1.6852, 1.7618, 0.7849, 0.6832, 0.2675, -0.3737, -0.8859, 0.8483, 4.2931, 4.246, 4.2101, 4.2095, 4.2039, 4.1715, 4.1506, 4.1165, 4.0606, 4.0494, 4.0425, 3.9794, 3.9681, 3.801, 3.7904, 3.766, 3.7594, 3.7507, 3.6889, 3.6367, 3.2961, 3.0754, 2.9662, 2.9448, 2.9214, 2.8973, 2.8734, 2.8559, 2.8339, 2.7822, 2.6925, 2.0832, 1.6895, 1.9729, 0.6904, 1.6146, 0.5653, 1.8841, 0.1775, 4.6465, 4.5889, 4.5405, 4.4531, 4.4178, 4.3674, 4.341, 4.2851, 4.2602, 4.0793, 4.0748, 4.0191, 3.8653, 3.8619, 3.8297, 3.7991, 3.6889, 3.6195, 3.4668, 3.4435, 3.3486, 3.3027, 3.2728, 3.1283, 3.0256, 2.928, 2.5864, 2.5606, 2.5431, 2.4235, 2.3706, 1.6524, 0.943, 1.5636, 4.7793, 4.7641, 4.7552, 4.4765, 4.4088, 4.2523, 4.2402, 4.2041, 4.0631, 4.0387, 3.9922, 3.7729, 3.7456, 3.7319, 3.705, 3.6995, 3.6075, 3.5404, 3.4507, 3.4089, 3.3967, 3.3649, 3.3596, 3.315, 3.2752, 3.2511, 3.218, 3.1471, 2.9786, 2.9483, 2.4944, 2.4011, 4.929, 4.9012, 4.8646, 4.8607, 4.8403, 4.7664, 4.7451, 4.7276, 4.5222, 4.4898, 4.437, 4.2767, 4.2415, 4.1538, 4.1335, 4.1134, 3.9476, 3.9259, 3.7818, 3.7779, 3.6769, 3.6325, 3.5796, 3.5249, 3.4178, 3.3521, 3.3046, 3.2383, 3.2086, 3.195, 3.1597, 3.1915, 2.4341, 2.8286, 3.1867, 2.4979, 5.1878, 5.1189, 5.0956, 5.062, 4.5204, 4.0634, 3.8452, 3.6942, 3.6332, 3.557, 3.2928, 3.2904, 2.9909, 2.7732, 2.5927, 2.4643, 2.3219, 2.2686, 2.2591, 2.2137, 1.8056, 1.3446, 1.1394, 1.1296, 1.1235, 1.065, 0.9886, 0.9823, 0.9729, 0.9648, 0.9071, 0.5276, 0.6123, -0.1524, 0.5669, -1.4578, -0.8351, -3.2652, -3.9936, 5.6005, 5.103, 4.1486, 4.0951, 4.0764, 3.8548, 3.7194, 3.5799, 3.3612, 3.3171, 3.3137, 2.8338, 2.3874, 2.3303, 1.8716, 1.5646, 1.5544, 1.492, 1.4839, 1.421, 1.4145, 1.4036, 1.395, 1.3877, 1.3809, 1.3758, 1.3736, 1.3714, 1.3691, 1.3688, 1.1762, 1.0474, 0.3621, -0.5468, -0.3659, -0.6678, 1.3269, -0.1366, -1.0109, -0.6083, -1.2449, -0.6838, 0.7191, -1.4858, -1.9859, -1.1419, -2.1377, 5.3705, 4.4101, 4.1831, 4.1174, 3.9285, 3.9252, 3.9013, 3.7808, 3.653, 3.5108, 3.2681, 3.2153, 3.161, 2.4426, 2.2473, 2.095, 1.8554, 1.581, 1.5642, 1.5151, 1.439, 1.4384, 1.4265, 1.4101, 1.4057, 1.4027, 1.4014, 1.3936, 1.3929, 1.3913, 1.3711, 1.217, 1.1546, 1.3181, 1.2947, 1.1974, 0.9648, 1.2031, 0.2929, 0.8781, 0.959, 0.6307, -0.7246, -0.2113, 5.6233, 4.6255, 4.3283, 4.1693, 3.9545, 3.7441, 3.6917, 3.6516, 3.5531, 3.4242, 3.2219, 2.9034, 2.8595, 2.8449, 1.6165, 1.6141, 1.5455, 1.4757, 1.4727, 1.4573, 1.4482, 1.4387, 1.4355, 1.4335, 1.432, 1.4292, 1.4273, 1.4253, 1.4252, 1.4233, 1.4188, 1.0164, -0.0587, 0.0462, 0.8138, -0.5204, 0.7029, 1.2186, 1.2552, -0.5505, 0.5223, 0.4912, 1.1734, -0.6788, 0.208, -1.5266, 0.7323, -0.0317, -0.2659, -1.0366, -0.3741, -1.6454, -2.3046, -0.9188, 5.6414, 5.5258, 5.3443, 5.0431, 4.5869, 4.3048, 4.1131, 3.9037, 3.8832, 3.8773, 3.8409, 3.2052, 2.8638, 2.4893, 2.3814, 2.2065, 1.5621, 1.4339, 1.4101, 1.4047, 1.3995, 1.3986, 1.3891, 1.3883, 1.388, 1.3862, 1.3821, 1.3786, 1.3764, 1.3733, 1.3633, 1.363, 1.364, 1.1372, 1.1264, 1.34, 1.3579, -0.2599, 1.2852, 1.3409, -1.3221, -1.433, 1.2777, 1.259, 1.3289, -1.0582, 1.2626, -1.0513, -1.0437, -2.4794, -2.4319, -0.9853, -1.7907, -2.9058, -2.3015, -3.8725, -3.9137, -3.3383, 5.7102, 5.5574, 5.3449, 4.6585, 3.8082, 2.7333, 1.6313, 1.5675, 1.4987, 1.491, 1.4798, 1.4682, 1.4664, 1.4614, 1.4553, 1.4529, 1.4524, 1.4507, 1.4478, 1.4471, 1.4453, 1.4413, 1.4398, 1.4381, 1.4376, 1.4358, 1.4349, 1.4346, 1.4337, 1.4325, 1.4307, 1.424, 1.4254, 1.4279, 1.4148, 1.4171, 1.3979, 1.3774, 1.3927, 1.4054, 1.4079, 1.3548, 1.4211, 1.4151, 1.3842, 1.3117, 1.3658, 1.3855, 1.3057, 1.18, 1.1594, 1.1399, 1.0978, 1.1308, 1.3461, 0.9371, -1.0559, -1.468, -1.582, -0.7079, 0.5019, 0.4937, -1.64, -0.1303, 0.9433, 0.5579, 0.752, -0.4085, 0.2564, -0.515, 0.0757, 5.7441, 4.0181, 3.5435, 3.1485, 3.1158, 2.6584, 2.5847, 2.4515, 1.7366, 1.7272, 1.6659, 1.5989, 1.5895, 1.5776, 1.5659, 1.5643, 1.556, 1.5549, 1.5495, 1.5467, 1.5434, 1.5424, 1.5417, 1.5403, 1.5391, 1.5343, 1.5341, 1.5333, 1.5325, 1.532, 0.8054, 1.5262, 1.5264, 1.524, 1.519, 1.521, 1.5207, 1.5015, 1.5216, 1.5145, 1.5035, -0.5171, 1.4658, 1.4917, 1.4812, 1.4196, 1.4504, -2.117, -1.2152, -1.5858, -2.0528, 1.3039, -2.3205, -2.3709, -2.354, 1.2767, 1.4187, 0.8236, -0.6264, 1.0846, 0.2211, 0.5457, -2.3119, -0.1353, 1.145, -1.1705, 4.5315, 4.362, 2.057, 1.7673, 1.7616, 1.7076, 1.6817, 1.633, 1.629, 1.6236, 1.6037, 1.5986, 1.5932, 1.5891, 1.5877, 1.5842, 1.5837, 1.5812, 1.5798, 1.5782, 1.5748, 1.5721, 1.5707, 1.5705, 1.5665, 1.5662, 1.5659, 1.5652, 1.5644, 1.5618, 1.5617, 1.55, 1.5535, 1.5607, 1.0552, 1.5472, 1.5561, 1.5426, 1.3558, 1.1564, 1.3055, 1.5381, 1.1457, 1.5107, 1.5132, 0.5815, 0.9426, 1.0208, 1.522, 0.1821, 0.9076, 1.0045, -0.7668, 0.9524, 1.0621, 0.8076, -0.8546, 0.7753, 0.7506, 0.8852, 0.705, -2.5146, -0.8311, -0.4959, 0.6603, -1.3629, -0.4207, -0.4755, -0.2843, -0.6981, -0.6634, -2.7048, -3.1725, -3.7145, -2.7329, -3.9228, -3.1395, -3.6771, -1.1662, -1.3143, 1.8387, 1.8303, 1.771, 1.7014, 1.6948, 1.6948, 1.6856, 1.6634, 1.6633, 1.6611, 1.6554, 1.6547, 1.6515, 1.6505, 1.6478, 1.6473, 1.6397, 1.6389, 1.6389, 1.6387, 1.6386, 1.6371, 1.6364, 1.6361, 1.6355, 1.6326, 1.6313, 1.6309, 1.6286, 1.6283, 1.6273, 1.6257, 1.6265, 1.5963, 1.6262, 1.4331, 1.5957, 1.6025, 1.5884, 1.6002, 1.6032, 1.4094, 1.5469, 1.2482, 1.242, 1.5941, 1.2244, 0.8859, 1.1217, -0.1318, 0.3237, 1.4679, 1.5112, -0.2, 1.1784, 0.6679, 1.4248, 0.1143, -0.286, -0.4625, -0.8259, 0.5996, 0.7334, 1.5554, -1.266, 0.6243, 0.3064, 0.1685, 0.6114, -0.0985, -0.8944, -0.6148, -0.9535, -3.6288, -0.5778, -0.8718, -2.2625, -0.1424, -2.6721, -2.3041]}, \"token.table\": {\"Topic\": [1, 6, 4, 1, 2, 4, 5, 6, 1, 4, 15, 1, 3, 5, 1, 3, 11, 1, 12, 1, 5, 7, 2, 9, 5, 14, 1, 10, 9, 1, 4, 1, 6, 8, 2, 7, 3, 14, 2, 3, 4, 1, 3, 4, 6, 2, 11, 7, 4, 1, 2, 3, 4, 12, 3, 1, 11, 3, 2, 3, 7, 8, 1, 2, 3, 7, 1, 6, 1, 2, 3, 4, 7, 1, 11, 1, 2, 1, 2, 8, 5, 2, 1, 10, 1, 3, 5, 1, 3, 1, 3, 5, 3, 2, 1, 1, 2, 3, 8, 1, 2, 1, 2, 3, 3, 2, 1, 8, 9, 2, 1, 2, 1, 3, 4, 9, 4, 1, 5, 7, 2, 1, 19, 1, 2, 3, 5, 10, 1, 7, 1, 4, 14, 1, 6, 4, 4, 5, 3, 7, 1, 3, 4, 8, 3, 5, 6, 9, 1, 2, 3, 4, 6, 6, 10, 2, 8, 12, 2, 4, 15, 5, 4, 9, 2, 2, 2, 3, 9, 4, 1, 5, 7, 1, 3, 1, 2, 2, 3, 5, 1, 2, 3, 4, 18, 4, 1, 6, 1, 2, 6, 1, 7, 2, 11, 1, 2, 3, 1, 3, 8, 1, 3, 13, 1, 2, 5, 8, 12, 1, 4, 6, 8, 2, 7, 11, 1, 1, 3, 13, 1, 2, 3, 7, 1, 8, 16, 16, 17, 2, 4, 6, 5, 12, 1, 4, 1, 2, 3, 4, 9, 3, 4, 5, 7, 1, 2, 3, 4, 7, 10, 1, 2, 4, 6, 7, 1, 3, 1, 3, 1, 7, 11, 4, 5, 1, 9, 2, 3, 7, 14, 1, 4, 5, 7, 13, 1, 2, 4, 2, 2, 2, 4, 15, 1, 4, 7, 1, 6, 10, 1, 10, 1, 4, 13, 1, 3, 11, 2, 5, 14, 3, 4, 3, 7, 1, 7, 1, 3, 4, 5, 7, 1, 2, 3, 4, 7, 8, 8, 3, 1, 3, 4, 5, 1, 1, 4, 5, 1, 5, 3, 4, 1, 3, 2, 7, 17, 1, 4, 2, 7, 15, 4, 7, 10, 1, 3, 1, 8, 2, 3, 4, 5, 6, 7, 14, 5, 1, 3, 15, 1, 4, 1, 2, 3, 4, 5, 6, 9, 1, 10, 12, 1, 3, 5, 1, 2, 3, 4, 5, 9, 1, 7, 3, 6, 2, 3, 5, 10, 6, 2, 6, 2, 10, 1, 18, 7, 1, 13, 2, 11, 3, 10, 2, 11, 1, 2, 3, 5, 7, 13, 4, 1, 2, 3, 2, 5, 1, 4, 1, 2, 1, 7, 1, 13, 17, 3, 4, 5, 4, 12, 1, 3, 4, 1, 6, 12, 2, 3, 7, 10, 1, 3, 7, 4, 5, 1, 3, 4, 1, 2, 4, 11, 1, 1, 2, 1, 2, 3, 7, 1, 3, 5, 2, 7, 3, 4, 2, 3, 6, 1, 7, 8, 1, 6, 1, 1, 3, 4, 5, 6, 7, 3, 17, 1, 2, 3, 10, 1, 3, 4, 6, 1, 1, 1, 8, 1, 4, 7, 2, 1, 2, 3, 5, 3, 5, 1, 4, 5, 1, 4, 1, 1, 2, 3, 1, 2, 6, 9, 1, 11, 1, 2, 16, 4, 3, 1, 3, 4, 7, 8, 1, 1, 2, 1, 2, 5, 1, 2, 5, 10, 1, 2, 9, 11, 3, 8, 2, 7, 9, 4, 1, 3, 7, 1, 4, 7, 1, 3, 2, 3, 17, 2, 6, 11, 9, 1, 5, 1, 3, 6, 7, 1, 2, 3, 7, 2, 8, 2, 2, 7, 11, 4, 5, 1, 2, 12, 13, 1, 2, 6, 1, 1, 9, 1, 1, 12, 1, 2, 1, 2, 3, 1, 3, 7, 12, 1, 13, 1, 16, 1, 4, 5, 1, 2, 3, 4, 7, 1, 3, 4, 2, 1, 3, 1, 1, 2, 14, 1, 5, 3, 1, 7, 2, 1, 1, 3, 4, 5, 6, 7, 16, 1, 1, 5, 9, 1, 1, 3, 3, 7, 4, 6, 7, 2, 15, 1, 7, 2, 5, 7, 1, 7, 1, 2, 3, 4, 1, 4, 5, 5, 11, 2, 7, 1, 3, 4, 2, 10, 2, 7, 1, 4, 7, 2, 7, 2, 10, 1, 10, 1, 7, 15, 1, 3, 10, 7, 9, 2, 9, 2, 1, 1, 3, 4, 6, 6, 4, 7, 5, 1, 2, 3, 4, 5, 1, 2, 3, 4, 6, 1, 3, 4, 1, 4, 7, 1, 2, 1, 1, 7, 2, 3, 1, 2, 6, 5, 7, 9, 1, 8, 1, 2, 2, 3, 4, 6, 1, 1, 5, 2, 3, 8, 14, 1, 9, 1, 11, 8, 2, 4, 1, 5, 7, 11, 1, 1, 4, 16, 1, 3, 5, 6, 1, 2, 3, 4, 6, 7, 1, 2, 4, 5, 12, 1, 2, 3, 5, 6, 1, 2, 3, 4, 5, 6, 9, 2, 5, 6, 2, 11, 8, 4, 6, 4, 5, 8, 1, 2, 3, 1, 1, 4, 2, 10, 5, 7, 8, 9, 1, 2, 3, 10, 3, 2, 1, 7, 11, 4, 7, 2, 1, 10, 3, 5, 1, 9, 11, 10, 2, 10, 1, 2, 5, 6, 4, 9, 3, 2, 3, 3, 7, 1, 2, 3, 4, 6, 8, 7, 1, 2, 4, 5, 6, 7, 1, 7, 2, 1, 2, 2, 8, 1, 13, 1, 1, 2, 3, 4, 9, 5, 6, 1, 4, 5, 2, 3, 4, 14, 1, 4, 5, 3, 1, 2, 3, 5, 1, 6, 14, 1, 11, 7, 2, 1, 2, 15, 1, 2, 16, 3, 5, 3, 7, 2, 12, 2, 10, 2, 4, 9, 2, 1, 2, 4, 1, 4, 7, 2, 1, 11, 1, 4, 1, 3, 5, 6, 1, 3, 9, 1, 2, 3, 9, 5, 3, 2, 3, 14, 1, 8, 1, 3, 4, 2, 4, 9, 10, 2, 3, 4, 5, 6, 4, 9, 4, 5, 13, 1, 9, 4, 6, 6, 2, 1, 5, 1, 3, 1, 13, 18, 2, 3, 5, 7, 5, 8, 1, 8, 1, 8, 1, 5, 9, 11, 1, 4, 3, 4, 6, 1, 5, 15, 1, 2, 3, 4, 5, 6, 2, 11, 4, 1, 3, 5, 7, 1, 3, 15, 3, 4, 1, 2, 3, 4, 5, 1, 10, 11, 3, 4, 6, 1, 12, 1, 1, 3, 7, 1, 1, 2, 15, 11, 17, 2, 1, 1, 4, 5, 4, 1, 1, 5, 8, 1, 2, 3, 8, 16, 3, 4, 6, 3, 3, 5, 12, 2, 1, 16, 3, 1, 3, 7, 1, 3, 5, 6, 1, 2, 5, 1, 5, 2, 3, 4, 6, 1, 3, 5, 7, 1, 6, 7, 1, 6, 1, 4, 1, 2, 3, 4, 6, 3, 4, 5, 6, 1, 4, 6, 2, 16, 2, 5, 2, 9, 7, 1, 5, 3, 7, 1, 2, 3, 4, 5, 6, 8, 3, 2, 3, 8, 12, 1, 1, 5, 7, 10, 4, 1, 3, 14, 1, 2, 3, 4, 1, 2, 3, 7, 3, 7, 9, 11, 1, 2, 5, 11, 4, 1, 5, 10, 5, 11, 1, 2, 3, 4, 7, 1, 1, 13, 2, 3, 1, 11, 2, 3, 3, 6, 1, 3, 4, 3, 1, 3, 4, 5, 13, 1, 4, 7, 1, 3, 9, 1, 7, 1, 2, 12, 1, 4, 8, 4, 1, 3, 6, 4, 4, 1, 7, 5, 7, 8, 2, 16, 1, 5, 3, 2, 4, 5, 1, 1, 2, 3, 4, 5, 7, 1, 3, 6, 2, 6, 2, 1, 3, 5, 11, 4, 1, 3, 12, 2, 4, 2, 1, 2, 9, 1, 2, 3, 4, 1, 1, 2, 3, 4, 7, 2, 3, 4, 5, 14, 1, 3, 4, 6, 1, 5, 7, 11, 1, 3, 4, 6, 1, 2, 3, 4, 7, 8, 3, 8, 14, 1, 2, 3, 5, 8, 1, 2, 4, 5, 14, 4, 11, 1, 1, 2, 7, 2, 3, 19, 4, 1, 3, 4, 5, 1, 4, 8, 1, 2, 1, 2, 3, 4, 5, 6, 7, 1, 2, 4, 7, 2, 3, 1, 2, 3, 4, 1, 18, 1, 1, 8, 1, 8, 1, 3, 5, 14, 1, 2, 3, 4, 13, 1, 3, 5, 6, 1, 8, 5, 6, 6, 10, 1, 3, 2, 2, 9, 1, 2, 3, 4, 7, 9, 1, 2, 3, 6, 15, 2, 3, 5, 12, 1, 8, 1, 1, 13, 2, 2, 3, 1, 6, 7, 2, 5, 2, 14, 2, 14, 16, 2, 1, 2, 3, 7, 8, 8, 2, 4, 2, 1, 3, 1, 1, 3, 4, 7, 3, 1, 4, 8, 11, 11, 1, 10, 2, 2, 1, 3, 1, 2, 12, 1, 2, 1, 2, 7, 8, 7, 8, 1, 9, 1, 10, 16, 5, 5, 6, 5, 7, 1, 2, 10, 1, 3, 1, 2, 3, 4, 5, 7, 3, 1, 5, 7, 4, 3, 3, 7, 1, 3, 4, 5, 6, 2, 1, 2, 8, 1, 10], \"Freq\": [0.9821255027046888, 0.7663532384783313, 0.889172636698659, 0.01984781373918729, 0.7145212946107424, 0.06946734808715552, 0.09923906869593645, 0.09923906869593645, 0.833567588083811, 0.7255760287980066, 0.12092933813300111, 0.7695044673495196, 0.20986485473168714, 0.8283832832990601, 0.7150685713320444, 0.4954899402625223, 0.4954899402625223, 0.676718573949793, 0.16917964348744824, 0.1671126969658959, 0.3342253939317918, 0.3342253939317918, 0.7500745940146701, 0.21430702686133432, 0.6145133791184823, 0.3072566895592411, 0.565944673588082, 0.18864822452936064, 0.8140752531724728, 0.9560030652384214, 0.918494227536098, 0.28741074600901134, 0.28741074600901134, 0.28741074600901134, 0.9323755343815271, 0.046618776719076355, 0.9311752256676439, 0.044341677412744945, 0.7911307288379232, 0.07192097534890211, 0.10788146302335316, 0.14668926929484832, 0.29337853858969665, 0.440067807884545, 0.14668926929484832, 0.5873864775435609, 0.29369323877178044, 0.8178415493980599, 0.8359305705367612, 0.11104118619315526, 0.7873829566423736, 0.02018930658057368, 0.060567919741721044, 0.7659678635504794, 0.6077654242355675, 0.6120138186480735, 0.20400460621602448, 0.8059408142752681, 0.8566212029488375, 0.05710808019658917, 0.007138510024573646, 0.07138510024573645, 0.03500057102216141, 0.9333485605909709, 0.023333714014774274, 0.003888952335795712, 0.22032962153210273, 0.6609888645963081, 0.3801566277488451, 0.3801566277488451, 0.049585647097675455, 0.08264274516279242, 0.1156998432279094, 0.6152527290351709, 0.20508424301172365, 0.005945492295277856, 0.9869517210161242, 0.04980811391433344, 0.3486567974003341, 0.5727933100148346, 0.9212975621015583, 0.5973010419958694, 0.30034086875845156, 0.6006817375169031, 0.09282214937152247, 0.18564429874304494, 0.7425771949721798, 0.40248052613402224, 0.579571957632992, 0.5998302117420274, 0.2999151058710137, 0.04284501512443053, 0.8912942355459061, 0.9454232668287391, 0.8232167778106445, 0.015558002272403601, 0.9645961408890233, 0.010372001514935735, 0.005186000757467868, 0.7430002426515253, 0.14860004853030506, 0.5740100989430458, 0.36253269406929206, 0.03021105783910767, 0.8966318913053659, 0.9030731560170431, 0.1883182925245771, 0.1883182925245771, 0.3766365850491542, 0.9414432920429343, 0.8598512225091237, 0.9507141859072122, 0.5361487613351902, 0.1531853603814829, 0.07659268019074145, 0.1531853603814829, 0.8941900137728956, 0.37514701894777774, 0.18757350947388887, 0.37514701894777774, 0.9478741504683936, 0.6055876877951034, 0.3027938438975517, 0.10845918771608719, 0.18076531286014533, 0.19884184414615985, 0.23499490671818893, 0.23499490671818893, 0.5995815855450611, 0.29979079277253057, 0.4769506494699421, 0.23847532473497104, 0.23847532473497104, 0.3165118030114743, 0.47476770451721145, 0.7880148468755844, 0.15075965658963533, 0.7537982829481766, 0.6045448940365447, 0.30227244701827233, 0.6475987537240925, 0.11564263459358795, 0.1850282153497407, 0.023128526918717588, 0.637788165991065, 0.1062980276651775, 0.1062980276651775, 0.1062980276651775, 0.23973880177081872, 0.22261460164433167, 0.2739872020237928, 0.2268956516759534, 0.0342484002529741, 0.48210366089404627, 0.48210366089404627, 0.7954165271719641, 0.10263439060283408, 0.10263439060283408, 0.6819792554766074, 0.11366320924610124, 0.11366320924610124, 0.8411565707773677, 0.5418194232455457, 0.27090971162277283, 0.9774667155916976, 0.8602008025203614, 0.23301064862916446, 0.23301064862916446, 0.4660212972583289, 0.8540783472527155, 0.9546758021473081, 0.014687320033035509, 0.014687320033035509, 0.8346119929386691, 0.10432649911733363, 0.09495962696272311, 0.8862898516520824, 0.657378632795348, 0.14086684988471743, 0.164344658198837, 0.8913429913398397, 0.11680923839295293, 0.1752138575894294, 0.5840461919647647, 0.058404619196476465, 0.971002783827331, 0.7961685921166717, 0.15923371842333434, 0.9690004248940692, 0.14437754909784398, 0.7940765200381419, 0.8596690510283013, 0.7949046532743145, 0.7197355429893448, 0.14394710859786897, 0.1446405002298142, 0.7593626262065245, 0.0723202501149071, 0.13843070643217192, 0.8305842385930315, 0.8829920094141636, 0.4125851252528502, 0.2062925626264251, 0.2062925626264251, 0.15659943997085995, 0.4175985065889599, 0.3131988799417199, 0.026099906661809995, 0.05219981332361999, 0.32688663309935245, 0.08172165827483811, 0.4086082913741906, 0.08172165827483811, 0.5570445564078653, 0.33422673384471924, 0.6460351553481325, 0.893136057680996, 0.20185390602002468, 0.605561718060074, 0.20185390602002468, 0.15469788358756992, 0.7348149470409572, 0.09281873015254195, 0.015469788358756993, 0.6379165570916304, 0.2126388523638768, 0.7414092646181308, 0.2172320093391215, 0.6516960280173646, 0.13384001410612237, 0.26768002821224474, 0.5353600564244895, 0.5681259232732627, 0.28406296163663136, 0.3967814073073636, 0.5290418764098181, 0.4523687798581155, 0.028874602969666947, 0.384994706262226, 0.07699894125244519, 0.04812433828277825, 0.2955352925174415, 0.2955352925174415, 0.2955352925174415, 0.14776764625872074, 0.19640445935513792, 0.3570990170093417, 0.10712970510280251, 0.12498465595326959, 0.19640445935513792, 0.017854950850467084, 0.597466979369658, 0.0972620664090141, 0.18062955190245475, 0.0972620664090141, 0.013894580915573442, 0.9510310756542533, 0.9100280498761583, 0.11798974486733352, 0.707938469204001, 0.9378272127466969, 0.2671503022183819, 0.5343006044367637, 0.7756897550566493, 0.11081282215094991, 0.8557278883964377, 0.14262131473273962, 0.11060083451591196, 0.6636050070954718, 0.11060083451591196, 0.11060083451591196, 0.46812958299383395, 0.31208638866255595, 0.15604319433127797, 0.38154862188436034, 0.5723229328265405, 0.9125773933035118, 0.26909465028166246, 0.5381893005633249, 0.9601267974754863, 0.9593368618715141, 0.5661933553155445, 0.2264773421262178, 0.1132386710631089, 0.5605274052382422, 0.16015068721092635, 0.24022603081638952, 0.2450528973238371, 0.2450528973238371, 0.4901057946476742, 0.39827985512716585, 0.19913992756358292, 0.8026353954836901, 0.1543529606699404, 0.03087059213398808, 0.754984108837341, 0.13016967393747259, 0.07810180436248355, 0.8860560611244366, 0.8175070214263214, 0.5403379362226141, 0.7945504912448529, 0.9207914438165413, 0.8626892936610662, 0.8696834288393374, 0.7471294239064974, 0.20376257015631746, 0.8042442339880765, 0.06186494107600589, 0.04124329405067059, 0.07217576458867353, 0.020621647025335296, 0.47660912009831335, 0.042231187856812576, 0.3740476638746257, 0.07239632204025014, 0.012066053673375023, 0.024132107346750045, 0.8972825195204213, 0.9462854840395325, 0.14169770615558125, 0.33062798102968954, 0.37786054974821665, 0.09446513743705416, 0.9051389980195502, 0.48645160466109805, 0.1945806418644392, 0.1945806418644392, 0.5862008269350386, 0.2931004134675193, 0.34525988757725223, 0.5178898313658783, 0.49134559118963933, 0.49134559118963933, 0.07749181708502889, 0.7749181708502889, 0.15498363417005778, 0.43381924723529414, 0.5521335873903744, 0.26318884400450837, 0.5263776880090167, 0.7174455413073505, 0.7404036158852467, 0.09255045198565584, 0.09255045198565584, 0.05431984500393571, 0.937017326317891, 0.4589658359874342, 0.4589658359874342, 0.12675383850074526, 0.0507015354002981, 0.02535076770014905, 0.6591199602038753, 0.02535076770014905, 0.0507015354002981, 0.02535076770014905, 0.9724587369849, 0.5934416132746387, 0.14836040331865968, 0.14836040331865968, 0.7653367444861843, 0.6030152301467352, 0.13372529437941205, 0.17193252134495834, 0.17193252134495834, 0.3247614292071435, 0.01910361348277315, 0.13372529437941205, 0.01910361348277315, 0.24916496462005502, 0.49832992924011005, 0.9321108423052458, 0.9027873246955113, 0.04751512235239533, 0.023757561176197664, 0.08748065004858367, 0.2332817334628898, 0.20412151678002857, 0.08748065004858367, 0.262441950145751, 0.1166408667314449, 0.5779676459716937, 0.28898382298584685, 0.1531934775866392, 0.6127739103465568, 0.7640823856044575, 0.11755113624683962, 0.014693892030854952, 0.08816335218512972, 0.9296339639382883, 0.5014814844695362, 0.37611111335215214, 0.6748441236121264, 0.1349688247224253, 0.7202664734016017, 0.24008882446720053, 0.6569640254675887, 0.6263281575188856, 0.1565820393797214, 0.37804954743969704, 0.6300825790661617, 0.7549133879203137, 0.15098267758406275, 0.6349330191321004, 0.3174665095660502, 0.6493669828558706, 0.08470004124207008, 0.05646669416138005, 0.028233347080690026, 0.14116673540345012, 0.028233347080690026, 0.9520907094166206, 0.8998067184605738, 0.5840638878069127, 0.2920319439034563, 0.7954367671076544, 0.15908735342153088, 0.23936928359155038, 0.47873856718310076, 0.37941551330648665, 0.5311817186290813, 0.3884529341283562, 0.6003363527438231, 0.5977790687350542, 0.2988895343675271, 0.7365548619354816, 0.9161792998931132, 0.7303597785928685, 0.12172662976547809, 0.7089201272637321, 0.17723003181593303, 0.14586597196792628, 0.340353934591828, 0.4862199065597543, 0.9739596194651072, 0.792848022884991, 0.19821200572124775, 0.1084171176267627, 0.1084171176267627, 0.5420855881338135, 0.2168342352535254, 0.850853636893517, 0.07735033062668337, 0.07735033062668337, 0.8990075185496578, 0.5822729985164414, 0.8865869684637867, 0.05541168552898667, 0.03694112368599111, 0.3262534750830656, 0.43500463344408746, 0.21750231672204373, 0.8583106664929006, 0.9456681701777144, 0.2949602186948493, 0.5899204373896986, 0.38546638923675935, 0.1284887964122531, 0.3640515898347172, 0.10707399701021093, 0.06934577574624648, 0.8321493089549576, 0.06934577574624648, 0.29839167265486793, 0.5967833453097359, 0.8498413697710869, 0.8145502396088357, 0.7977900578502681, 0.109500596175527, 0.07821471155394785, 0.817038654852023, 0.06284912729630947, 0.06284912729630947, 0.8326664804940996, 0.8390176409161678, 0.9179664378858197, 0.6075146069348404, 0.1350032459855201, 0.1905928178619107, 0.003970683705456474, 0.0595602555818471, 0.007941367410912947, 0.9926127832635842, 0.8746716887925102, 0.19781859906201754, 0.19781859906201754, 0.2967278985930263, 0.19781859906201754, 0.057774817716408966, 0.28887408858204483, 0.28887408858204483, 0.28887408858204483, 0.9532368388525868, 0.8338906530466718, 0.29158955563083866, 0.5831791112616773, 0.34432806642979596, 0.17216403321489798, 0.34432806642979596, 0.9324422556126217, 0.09369478567845205, 0.09369478567845205, 0.5309371188445616, 0.24985276180920546, 0.41711253879858146, 0.5561500517314419, 0.3091325896634211, 0.3091325896634211, 0.3091325896634211, 0.9518578677668196, 0.037327759520267435, 0.8716623321962051, 0.6713178230707789, 0.12587209182577105, 0.16782945576769473, 0.3335191466115848, 0.2858735542385013, 0.2858735542385013, 0.04764559237308355, 0.5863429418103672, 0.1954476472701224, 0.28212577307415887, 0.5642515461483177, 0.09404192435805296, 0.8428669804626703, 0.866070064529837, 0.1279967655608847, 0.703982210584866, 0.14399636125599533, 0.01599959569511059, 0.01599959569511059, 0.8795048113492949, 0.4727732662993334, 0.3939777219161112, 0.11836718836235824, 0.38469336217766426, 0.5030605505400225, 0.23397034935672323, 0.46794069871344646, 0.04679406987134465, 0.1871762794853786, 0.8680739238068835, 0.046072028985104874, 0.6450084057914682, 0.27643217391062924, 0.3253787414574289, 0.5422979024290482, 0.9483661272761368, 0.30899147437697533, 0.6179829487539507, 0.9062272799306896, 0.3035072385694781, 0.3035072385694781, 0.3035072385694781, 0.6474035582085687, 0.24900136854175717, 0.04980027370835143, 0.9477991517758609, 0.0243025423532272, 0.18845198484719622, 0.7538079393887849, 0.06281732828239874, 0.9685843863618251, 0.14430577631545605, 0.7215288815772802, 0.9048203169101289, 0.9833410044361972, 0.9827587737113167, 0.4932758109998844, 0.45412693711100466, 0.04697864866665565, 0.007829774777775942, 0.5036051373085472, 0.11621657014812627, 0.3228238059670174, 0.05165180895472279, 0.9159145501849396, 0.06106097001232931, 0.8905084197138747, 0.45567061030556505, 0.22783530515278252, 0.22783530515278252, 0.8627039059801797, 0.9439714824828852, 0.6056332570088384, 0.29237467579737025, 0.0835356216563915, 0.020883905414097875, 0.1914000674623804, 0.7656002698495216, 0.027342866780340053, 0.9729439819451939, 0.19053917942081877, 0.7621567176832751, 0.8371224547912683, 0.5093071886109736, 0.2546535943054868, 0.7268362283219303, 0.8983587028114497, 0.7059874074895562, 0.19007353278564976, 0.05430672365304279, 0.7396951017516851, 0.06724500925015318, 0.06724500925015318, 0.06724500925015318, 0.6946234082543917, 0.17365585206359793, 0.7759138141673289, 0.1939784535418322, 0.9220161201266798, 0.03546215846641076, 0.03546215846641076, 0.4023538919016053, 0.46331660279578796, 0.0487701687153461, 0.0487701687153461, 0.02438508435767305, 0.7575339718162072, 0.09880877893254876, 0.09880877893254876, 0.6056295481526082, 0.014471228083062867, 0.969572281565212, 0.8935712307245754, 0.35148266226609376, 0.5272239933991407, 0.17574133113304688, 0.16117829312794607, 0.6447131725117843, 0.8762132701828141, 0.5724607200594943, 0.3816404800396629, 0.8229710725766957, 0.8994506238495987, 0.3728414967349139, 0.25510207671336216, 0.23547884004310352, 0.03924647334051725, 0.09811618335129313, 0.346651558019743, 0.346651558019743, 0.592580330228068, 0.34829684317380655, 0.34829684317380655, 0.23219789544920436, 0.9752873002812676, 0.36548072289512623, 0.63013917740539, 0.4862065949556734, 0.3889652759645387, 0.5787494026593054, 0.3858329351062036, 0.5824740693037695, 0.7257452159794522, 0.18143630399486305, 0.8794166405619394, 0.06281547432585281, 0.9045468403956983, 0.0542728104237419, 0.036181873615827934, 0.5974488321476187, 0.29872441607380934, 0.06537858456572593, 0.39227150739435557, 0.31054827668719814, 0.22882504598004075, 0.8901312700784464, 0.3782247364100817, 0.5673371046151225, 0.1170982048341702, 0.8196874338391915, 0.6121212811428767, 0.7710453339567643, 0.4978149441527716, 0.3318766294351811, 0.8800862833129229, 0.7603149989568101, 0.7206986299025429, 0.26504306437944963, 0.6626076609486241, 0.790650797439974, 0.18603548175058213, 0.023254435218822766, 0.4484649502567273, 0.4484649502567273, 0.42719711407376876, 0.5695961520983583, 0.6424436913334907, 0.2569774765333963, 0.31297935929603954, 0.31297935929603954, 0.31297935929603954, 0.22796992470138583, 0.45593984940277166, 0.22796992470138583, 0.41062514558930996, 0.54750019411908, 0.5776399817932089, 0.28881999089660443, 0.9134957191771652, 0.9620652185195786, 0.6457078643671365, 0.04504938588607929, 0.2552798533544493, 0.04504938588607929, 0.946769691438191, 0.7443866183042226, 0.826258447961758, 0.8278104503211792, 0.16588721978281346, 0.2865324705339505, 0.15080656343892132, 0.3770164085973033, 0.015080656343892131, 0.146031837747629, 0.21904775662144352, 0.21904775662144352, 0.3407409547444677, 0.0730159188738145, 0.3381102511704324, 0.5071653767556487, 0.13524410046817298, 0.9656486054800565, 0.01238011032666739, 0.01238011032666739, 0.598880029147821, 0.23955201165912843, 0.759670436203053, 0.965772704129311, 0.022994588193555026, 0.574540481140098, 0.287270240570049, 0.10833804112853468, 0.27084510282133667, 0.5416902056426733, 0.2698807295855815, 0.539761459171163, 0.864319315433564, 0.6914274663533588, 0.23047582211778628, 0.645996833608797, 0.3229984168043985, 0.11329326659743597, 0.11329326659743597, 0.11329326659743597, 0.45317306638974386, 0.7069488325691666, 0.950218563182666, 0.035857304271044, 0.656179136988579, 0.1312358273977158, 0.1312358273977158, 0.0656179136988579, 0.8024451489162523, 0.11463502127375033, 0.9890224084240667, 0.7567485051524422, 0.8173568078816644, 0.5806327086978594, 0.2903163543489297, 0.9234596581258583, 0.04397426943456468, 0.5935736580266893, 0.29678682901334463, 0.9835612034069887, 0.23897223804493728, 0.47794447608987456, 0.23897223804493728, 0.24754551029395316, 0.2784886990806973, 0.3713182654409298, 0.06188637757348829, 0.20507481061310523, 0.04603720238253382, 0.46037202382533826, 0.17577840909694734, 0.09207440476506765, 0.025111201299563905, 0.012082978234816397, 0.9183063458460461, 0.06041489117408198, 0.006041489117408198, 0.860800313773472, 0.26159394121849944, 0.1089974755077081, 0.26159394121849944, 0.021799495101541617, 0.32699242652312427, 0.2567100997480853, 0.22818675533163135, 0.33087079523086543, 0.011409337766581568, 0.131207384315688, 0.01711400664987235, 0.022818675533163135, 0.18544184984459558, 0.09272092492229779, 0.6490464744560845, 0.7895278213397815, 0.09869097766747269, 0.8788381328941693, 0.2174961902495373, 0.4349923804990746, 0.5383595830153552, 0.2691797915076776, 0.7210276132413497, 0.17861386256666423, 0.4763036335111046, 0.2976897709444404, 0.7547652340925923, 0.6568434956665001, 0.32842174783325007, 0.5593232145048225, 0.27966160725241124, 0.5223647316526095, 0.2089458926610438, 0.2089458926610438, 0.1044729463305219, 0.39606860502663804, 0.05658122928951972, 0.05658122928951972, 0.45264983431615774, 0.9805772491722274, 0.9445479051152847, 0.40988567946296856, 0.10247141986574214, 0.40988567946296856, 0.19504385930205292, 0.5851315779061588, 0.6055213380700987, 0.633676121390174, 0.2715754805957889, 0.3311956387542683, 0.4967934581314024, 0.48511346207986766, 0.3880907696638941, 0.09702269241597353, 0.7145593121461667, 0.7198681004123391, 0.2399560334707797, 0.03716225785356464, 0.3716225785356464, 0.4459470942427757, 0.11148677356069392, 0.7654769550224583, 0.8619022668368852, 0.9285009606052015, 0.8644250499438499, 0.07858409544944091, 0.27641292390576244, 0.5528258478115249, 0.48485353824283, 0.3085431606999827, 0.03673132865475985, 0.00734626573095197, 0.05142386011666379, 0.10284772023332758, 0.8971685672231973, 0.028780294578160923, 0.8982481413078646, 0.0378688086554749, 0.024236037539503937, 0.001514752346218996, 0.00757376173109498, 0.775854617344327, 0.11083637390633243, 0.9584018027982244, 0.08882006882813982, 0.8882006882813982, 0.2378740926455155, 0.475748185291031, 0.8955239621395381, 0.9263007486028103, 0.9422665950135398, 0.10390366146448562, 0.3117109843934569, 0.4675664765901853, 0.07792774609836423, 0.05195183073224281, 0.828435812602554, 0.8283873154867718, 0.37031710078446556, 0.37031710078446556, 0.12343903359482186, 0.3950235035956887, 0.13167450119856292, 0.4444014415451498, 0.016459312649820364, 0.7636556702524829, 0.16661578260054175, 0.05553859420018058, 0.8103333944032318, 0.8075595536524693, 0.9077979808691656, 0.040346576927518474, 0.040346576927518474, 0.18961073549908025, 0.5688322064972408, 0.18961073549908025, 0.5907335046461798, 0.19691116821539328, 0.8471129788919209, 0.9127660023949131, 0.2048100393644872, 0.6144301180934616, 0.2048100393644872, 0.4643902253269957, 0.23219511266349785, 0.23219511266349785, 0.28945642880131606, 0.5789128576026321, 0.1586520835525534, 0.793260417762767, 0.24918279162584706, 0.4983655832516941, 0.4962354797826035, 0.24811773989130176, 0.4478896060646765, 0.2985930707097843, 0.9194554183192694, 0.9631254120235635, 0.13560419387252823, 0.27120838774505646, 0.5424167754901129, 0.9447060269226536, 0.015745100448710893, 0.015745100448710893, 0.5989594291992371, 0.9722561653077447, 0.9204506056578131, 0.8874622136208364, 0.09860691262453739, 0.438254227709432, 0.054781778463679, 0.054781778463679, 0.438254227709432, 0.9609670155377263, 0.6278048811634784, 0.3139024405817392, 0.2482777542126047, 0.09931110168504188, 0.19862220337008377, 0.39724440674016753, 0.8128957231585111, 0.6151065756325119, 0.6867478834475925, 0.13734957668951853, 0.13734957668951853, 0.6638925550889627, 0.24895970815836102, 0.5124221642303239, 0.23486015860556514, 0.23486015860556514, 0.7036232459787558, 0.050258803284196844, 0.050258803284196844, 0.15077640985259053, 0.18696226489079973, 0.2025424536316997, 0.46740566222699936, 0.015580188740899979, 0.10906132118629984, 0.6047213486607036, 0.3023606743303518, 0.5256736803340105, 0.3942552602505079, 0.13141842008350263, 0.8678608581483355, 0.09642898423870394, 0.2810734995908974, 0.5621469991817948, 0.8659892415111359, 0.9550951985438473, 0.9479482485784219, 0.023698706214460546, 0.9631883630743368, 0.8260600968288346, 0.6366001631625159, 0.15915004079062897, 0.15915004079062897, 0.2981685211575274, 0.5963370423150548, 0.7099455352596113, 0.14198910705192228, 0.37950210785416133, 0.5060028104722152, 0.5437407272249964, 0.2718703636124982, 0.20514173858259835, 0.6154252157477951, 0.2265859938394449, 0.4531719876788898, 0.6033515144938881, 0.4022343429959254, 0.6052582096861525, 0.3684180406785276, 0.3234021020255232, 0.6108706371593216, 0.0359335668917248, 0.42395198954536284, 0.21197599477268142, 0.21197599477268142, 0.1589754363141921, 0.03179508726283842, 0.01589754363141921, 0.14307789268277288, 0.03179508726283842, 0.6200042016253491, 0.45100166950256476, 0.45100166950256476, 0.8564458160414226, 0.23331488757408977, 0.7149972361141461, 0.037631433479691896, 0.00752628669593838, 0.8525134126075592, 0.5843247597394854, 0.2921623798697427, 0.8228275287833017, 0.1371379214638836, 0.029356781441393455, 0.07339195360348363, 0.13210551648627053, 0.6018140195485658, 0.13210551648627053, 0.6016443021021298, 0.2005481007007099, 0.2005481007007099, 0.30355055904537565, 0.6071011180907513, 0.06071011180907513, 0.934782741556356, 0.03739130966225424, 0.9429057306450249, 0.2775821554638535, 0.6106807420204777, 0.08327464663915606, 0.851855687236838, 0.7987765895394544, 0.08875295439327271, 0.08875295439327271, 0.45175030463911203, 0.22587515231955602, 0.8981107407160857, 0.9265928264124532, 0.34792801429338926, 0.08698200357334732, 0.521892021440084, 0.7435015998736981, 0.9490408486052901, 0.18400778119905822, 0.36801556239811645, 0.18400778119905822, 0.7028966647223609, 0.49108670053600567, 0.19643468021440227, 0.19643468021440227, 0.09821734010720114, 0.20524847595210263, 0.547329269205607, 0.13683231730140175, 0.8814261689332669, 0.19728591114324165, 0.5918577334297249, 0.19728591114324165, 0.8875071381984792, 0.6150039059444884, 0.3075019529722442, 0.6157025159639368, 0.23438299203950877, 0.6640851441119415, 0.07812766401316959, 0.33594270132433574, 0.5998976809363138, 0.02399590723745255, 0.02399590723745255, 0.7063165250182336, 0.7409209267700185, 0.24697364225667284, 0.2762515537424858, 0.5525031074849716, 0.799240731864581, 0.14869595011434064, 0.01858699376429258, 0.01858699376429258, 0.749854711393292, 0.14864500951060935, 0.7432250475530469, 0.07432250475530468, 0.4626941127105998, 0.15423137090353328, 0.30846274180706656, 0.4967004137483583, 0.3311336091655722, 0.348918568288475, 0.6106074945048312, 0.23674874827624467, 0.2623432075493522, 0.33272797055039793, 0.012797229636553767, 0.1471681408203683, 0.11950262836513845, 0.11950262836513845, 0.11950262836513845, 0.4780105134605538, 0.12275604603885631, 0.7365362762331379, 0.565168344937912, 0.6424240111967887, 0.32121200559839436, 0.8500860697367685, 0.7869438154677839, 0.7129034010647084, 0.23763446702156946, 0.8762045292419947, 0.9257684529183305, 0.030858948430611016, 0.15784253659915384, 0.7892126829957693, 0.04738463720527152, 0.6977387828476231, 0.18006162138003176, 0.030800014183426486, 0.015400007091713243, 0.026061550462899336, 0.001184615930131788, 0.9435103455016761, 0.03674860419107601, 0.07349720838215203, 0.07349720838215203, 0.8084692922036724, 0.8796741052466841, 0.3751519503612343, 0.18757597518061714, 0.18757597518061714, 0.18757597518061714, 0.6945556207458481, 0.2375981376662929, 0.4751962753325858, 0.2375981376662929, 0.16847056131420954, 0.7251558943524672, 0.08057287715027413, 0.01464961402732257, 0.625017358339718, 0.08928819404853115, 0.23810185079608306, 0.029762731349510383, 0.23991418590384056, 0.23991418590384056, 0.4798283718076811, 0.8684038194008854, 0.38655473520040823, 0.5154063136005442, 0.7545518254210822, 0.18863795635527056, 0.9414553934253735, 0.948550529783218, 0.5957503551671371, 0.2978751775835686, 0.2943332253621811, 0.5886664507243622, 0.3607721951297771, 0.20253877621320818, 0.3417841848597888, 0.04430535729663929, 0.037976020539976535, 0.9719337385968115, 0.8416935211328744, 0.16833870422657488, 0.711468563464169, 0.203276732418334, 0.4731694198832747, 0.4731694198832747, 0.7683865035934715, 0.19209662589836787, 0.22353292401851835, 0.6705987720555551, 0.7459512166270978, 0.11476172563493812, 0.13197598448017886, 0.9863119749707532, 0.08318997804248163, 0.49913986825488976, 0.08318997804248163, 0.16637995608496325, 0.08318997804248163, 0.13189765347293755, 0.7913859208376254, 0.8764337723048524, 0.2722599865460696, 0.5445199730921392, 0.1361299932730348, 0.14446745508497955, 0.7223372754248978, 0.46622010200341285, 0.46622010200341285, 0.04662201020034129, 0.266385179977674, 0.39957776996651106, 0.266385179977674, 0.8842863750353137, 0.2528561679588581, 0.12642808397942906, 0.5057123359177162, 0.8208182920662298, 0.8654402224530565, 0.4095240511500857, 0.4095240511500857, 0.03584660261864087, 0.07169320523728175, 0.8961650654660218, 0.7714540396101918, 0.19286350990254794, 0.18010655010371737, 0.7204262004148695, 0.9408552804140463, 0.8294924275089577, 0.09216582527877308, 0.04608291263938654, 0.7546458257761914, 0.6822849059566803, 0.14804295129248723, 0.10298640089912156, 0.02574660022478039, 0.0064366500561950975, 0.01930995016858529, 0.07284184910764321, 0.8923126515686294, 0.018210462276910803, 0.6078928676234215, 0.30394643381171077, 0.8974047676359871, 0.20582844952662524, 0.20582844952662524, 0.20582844952662524, 0.4116568990532505, 0.9134727182656546, 0.6913216063617201, 0.17283040159043003, 0.08641520079521502, 0.2945961520498404, 0.5891923040996808, 0.8984794022032072, 0.5266938255307796, 0.3160162953184678, 0.10533876510615593, 0.29460030854266145, 0.6333906633667221, 0.04419004628139922, 0.014730015427133073, 0.713789370592516, 0.4096352633512182, 0.4274454921925755, 0.01781022884135731, 0.03562045768271462, 0.10686137304814387, 0.2627009325992811, 0.3002296372563213, 0.37528704657040163, 0.03752870465704016, 0.01876435232852008, 0.14356437759718646, 0.2632013589281752, 0.3110561514605707, 0.23927396266197745, 0.5650708652826153, 0.14126771632065382, 0.07063385816032691, 0.14126771632065382, 0.27359718376794984, 0.6715567237940586, 0.04145411875271967, 0.008290823750543934, 0.3822861319588284, 0.5375898730671025, 0.005973220811856693, 0.011946441623713387, 0.04181254568299685, 0.01791966243557008, 0.4114697144510432, 0.4114697144510432, 0.2057348572255216, 0.2567948260532647, 0.7107713935402862, 0.018342487575233192, 0.004585621893808298, 0.004585621893808298, 0.66652202042148, 0.07841435534370353, 0.1176215330155553, 0.07841435534370353, 0.039207177671851764, 0.5836950050769945, 0.2918475025384972, 0.583347362994812, 0.4051866467669163, 0.32414931741353303, 0.16207465870676652, 0.6720918292691022, 0.07467686991878912, 0.22403060975636738, 0.9867832827493753, 0.43145393896305057, 0.3137846828822186, 0.19611542680138663, 0.03922308536027733, 0.8599284012653232, 0.8950430846776088, 0.940472239365902, 0.5973293761632888, 0.19910979205442964, 0.5046649674996029, 0.11498695462016269, 0.11498695462016269, 0.17248043193024404, 0.012776328291129187, 0.057493477310081344, 0.012776328291129187, 0.22596362607983025, 0.0903854504319321, 0.2711563512957963, 0.40673452694369444, 0.5970188870003964, 0.2985094435001982, 0.081650529562787, 0.326602118251148, 0.163301059125574, 0.408252647813935, 0.8687140616239922, 0.6062896287975551, 0.8885720372547469, 0.681469213789475, 0.17036730344736875, 0.6533249728913777, 0.16333124322284442, 0.17717879374777817, 0.26576819062166723, 0.26576819062166723, 0.26576819062166723, 0.8045463272454575, 0.06188817901888135, 0.09283226852832202, 0.015472044754720337, 0.015472044754720337, 0.5746963968701554, 0.2873481984350777, 0.6469182162241484, 0.1617295540560371, 0.2750242510181127, 0.5500485020362254, 0.28142424318814485, 0.5628484863762897, 0.8292192864314207, 0.7013093947137607, 0.7191961552149402, 0.23973205173831338, 0.8072975035451769, 0.314923817221795, 0.62984763444359, 0.316360159852106, 0.23727011988907953, 0.03954501998151325, 0.03954501998151325, 0.03954501998151325, 0.23727011988907953, 0.5180839298519443, 0.04317366082099536, 0.3022156257469675, 0.04317366082099536, 0.04317366082099536, 0.34788455626450776, 0.11596151875483592, 0.34788455626450776, 0.11596151875483592, 0.9654069316772259, 0.9153621004738883, 0.8695191884196015, 0.8102654652297714, 0.20256636630744285, 0.9559258251240523, 0.5694350244246036, 0.8024361651293267, 0.11910775568356727, 0.7146465341014037, 0.11910775568356727, 0.9137009505194851, 0.03807087293831188, 0.6016526493509055, 0.3008263246754527, 0.6863568622661198, 0.11439281037768663, 0.7946030275277026, 0.9393021563127372, 0.21026057262459982, 0.635787921983909, 0.11514269453251895, 0.012515510275273799, 0.025031020550547598, 0.939422908280417, 0.5999375178708511, 0.2999687589354256, 0.8455780613690512, 0.7440446007452585, 0.22644835674855693, 0.9634911673384692, 0.5850926078185459, 0.24378858659106079, 0.14627315195463647, 0.7293026129870411, 0.8145577011803808, 0.5774501406198599, 0.28872507030992994, 0.7516739961431673, 0.18791849903579183, 0.8443118216465199, 0.29405343518671956, 0.5881068703734391, 0.7976939798020382, 0.9331827664840109, 0.7543408637051104, 0.15086817274102207, 0.3037490252176387, 0.3037490252176387, 0.3037490252176387, 0.6081600310349334, 0.3040800155174667, 0.6432955481087115, 0.225153441838049, 0.09649433221630671, 0.7172320142354673, 0.05676336461808025, 0.8514504692712037, 0.9341370272647405, 0.7283676100631555, 0.966004388763654, 0.2436277072085675, 0.487255414417135, 0.7857903502751853, 0.7958504104080893, 0.9195013610943281, 0.2208148371161383, 0.6624445113484149, 0.2980816363845504, 0.2980816363845504, 0.2980816363845504, 0.08525597079342126, 0.8951876933309232, 0.34796759904114094, 0.5124878446128938, 0.12229823564625873, 0.008735588260447052, 0.0014559313767411753, 0.004367794130223526, 0.6215805164641162, 0.7771849107542892, 0.07771849107542891, 0.11657773661314337, 0.8548279681851968, 0.8931041803719156, 0.33497569898568863, 0.5024635484785329, 0.7357910552915564, 0.04709062753865961, 0.09418125507731923, 0.10006758351965167, 0.023545313769329806, 0.9766143196576699, 0.7947297832504859, 0.5771321540242497, 0.28856607701212483, 0.5736319937626693, 0.28681599688133463], \"Term\": [\"able\", \"accessory\", \"accomplished\", \"account\", \"account\", \"account\", \"account\", \"account\", \"achiever\", \"activity\", \"activity\", \"adapt\", \"adapt\", \"additional\", \"additionally\", \"adobe\", \"adobe\", \"advance\", \"advance\", \"advanced\", \"advanced\", \"advanced\", \"advisor\", \"advisor\", \"advisory\", \"advisory\", \"age\", \"age\", \"alexandre\", \"allow\", \"als\", \"alternative\", \"alternative\", \"alternative\", \"amsterdam\", \"amsterdam\", \"analysis\", \"analysis\", \"analyst\", \"analyst\", \"analyst\", \"analytical\", \"analytical\", \"analytical\", \"analytical\", \"ann\", \"ann\", \"app\", \"application\", \"area\", \"area\", \"area\", \"area\", \"ashley\", \"asian\", \"aspiration\", \"aspiration\", \"asset\", \"assistant\", \"assistant\", \"assistant\", \"assistant\", \"associate\", \"associate\", \"associate\", \"associate\", \"assortment\", \"assortment\", \"athlete\", \"athlete\", \"athlete\", \"athlete\", \"athlete\", \"attain\", \"attain\", \"attend\", \"attend\", \"australia\", \"australia\", \"australia\", \"australian\", \"authority\", \"avenue\", \"avenue\", \"award\", \"award\", \"award\", \"bachelor\", \"bachelor\", \"background\", \"background\", \"background\", \"banking\", \"barista\", \"barrier\", \"base\", \"base\", \"base\", \"base\", \"basic\", \"basic\", \"basketball\", \"basketball\", \"basketball\", \"bba\", \"beach\", \"bear\", \"bear\", \"bear\", \"beaverton\", \"begin\", \"berlin\", \"big\", \"big\", \"big\", \"big\", \"blue\", \"board\", \"board\", \"board\", \"boston\", \"box\", \"box\", \"brand\", \"brand\", \"brand\", \"brand\", \"brand\", \"break\", \"break\", \"bridge\", \"bridge\", \"bridge\", \"broad\", \"broad\", \"brown\", \"budget\", \"budget\", \"budgeting\", \"budgeting\", \"build\", \"build\", \"build\", \"build\", \"building\", \"building\", \"building\", \"building\", \"business\", \"business\", \"business\", \"business\", \"business\", \"buyer\", \"buyer\", \"california\", \"california\", \"california\", \"camp\", \"camp\", \"camp\", \"campaign\", \"campus\", \"campus\", \"canada\", \"canadian\", \"cap\", \"cap\", \"cap\", \"capacity\", \"career\", \"career\", \"career\", \"cash\", \"cash\", \"cashier\", \"cashier\", \"category\", \"category\", \"category\", \"certificate\", \"certify\", \"certify\", \"certify\", \"certify\", \"chain\", \"challenge\", \"challenge\", \"change\", \"channel\", \"channel\", \"charismatic\", \"childhood\", \"christian\", \"christian\", \"city\", \"city\", \"city\", \"client\", \"client\", \"clinic\", \"clinical\", \"clinical\", \"clinical\", \"club\", \"club\", \"club\", \"club\", \"club\", \"coaching\", \"coaching\", \"coaching\", \"coaching\", \"cofounder\", \"cofounder\", \"cole\", \"collaborate\", \"collaboration\", \"collaboration\", \"collaboration\", \"college\", \"college\", \"college\", \"college\", \"colorado\", \"colorado\", \"com\", \"comercial\", \"comercial\", \"commercial\", \"commercial\", \"commercial\", \"committee\", \"committee\", \"communicate\", \"communicate\", \"communication\", \"communication\", \"communication\", \"communication\", \"communication\", \"communicator\", \"communicator\", \"communicator\", \"communicator\", \"community\", \"community\", \"community\", \"community\", \"community\", \"community\", \"company\", \"company\", \"company\", \"company\", \"company\", \"complete\", \"complex\", \"computer\", \"computer\", \"concept\", \"conditioning\", \"conditioning\", \"conduct\", \"conduct\", \"connect\", \"connect\", \"consulting\", \"consulting\", \"consulting\", \"consulting\", \"contact\", \"contact\", \"contact\", \"content\", \"content\", \"continue\", \"control\", \"control\", \"coordinator\", \"corp\", \"corporation\", \"corporation\", \"corporation\", \"country\", \"country\", \"country\", \"couple\", \"couple\", \"couple\", \"cover\", \"cover\", \"create\", \"create\", \"create\", \"creative\", \"creative\", \"creative\", \"crew\", \"criminology\", \"critical\", \"crm\", \"cross\", \"crossfunctional\", \"cticas\", \"current\", \"current\", \"currently\", \"currently\", \"currently\", \"currently\", \"currently\", \"customer\", \"customer\", \"customer\", \"customer\", \"customer\", \"customer\", \"dame\", \"data\", \"datum\", \"datum\", \"datum\", \"datum\", \"deal\", \"decision\", \"decision\", \"decision\", \"dedication\", \"dedication\", \"deep\", \"deep\", \"degree\", \"degree\", \"del\", \"del\", \"del\", \"deliver\", \"deliver\", \"della\", \"della\", \"delta\", \"demand\", \"demand\", \"demand\", \"demonstrate\", \"demonstrate\", \"dental\", \"dental\", \"design\", \"design\", \"design\", \"design\", \"design\", \"design\", \"design\", \"designer\", \"detailoriente\", \"detailoriente\", \"detailoriente\", \"determine\", \"developer\", \"development\", \"development\", \"development\", \"development\", \"development\", \"development\", \"development\", \"dick\", \"dick\", \"diego\", \"different\", \"different\", \"different\", \"digital\", \"digital\", \"digital\", \"digital\", \"digital\", \"digital\", \"diploma\", \"diploma\", \"direction\", \"direction\", \"director\", \"director\", \"director\", \"director\", \"distribution\", \"distributor\", \"distributor\", \"district\", \"district\", \"draw\", \"draw\", \"early\", \"easy\", \"easy\", \"ecole\", \"ecole\", \"ecommerce\", \"ecommerce\", \"editor\", \"editor\", \"education\", \"education\", \"education\", \"education\", \"education\", \"education\", \"effective\", \"efficiently\", \"egypt\", \"egypt\", \"emea\", \"emea\", \"emphasis\", \"emphasis\", \"employ\", \"employ\", \"employee\", \"employee\", \"empower\", \"empower\", \"empresas\", \"enable\", \"end\", \"end\", \"engineer\", \"engineer\", \"english\", \"english\", \"english\", \"enjoy\", \"enterprise\", \"enterprise\", \"entertainment\", \"entertainment\", \"entertainment\", \"entertainment\", \"enthusiastic\", \"enthusiastic\", \"enthusiastic\", \"entrepreneurial\", \"entrepreneurship\", \"environment\", \"environment\", \"environment\", \"equipment\", \"equipment\", \"equipment\", \"esc\", \"especially\", \"eugene\", \"eugene\", \"event\", \"event\", \"event\", \"event\", \"excel\", \"excel\", \"excel\", \"exchange\", \"exchange\", \"execute\", \"execution\", \"executive\", \"executive\", \"executive\", \"exercise\", \"exercise\", \"exercise\", \"exhibit\", \"exp\", \"expectation\", \"experience\", \"experience\", \"experience\", \"experience\", \"experience\", \"experience\", \"experienced\", \"experiencia\", \"expert\", \"expert\", \"expert\", \"expert\", \"expertise\", \"expertise\", \"expertise\", \"expertise\", \"explore\", \"extra\", \"eye\", \"eye\", \"factory\", \"factory\", \"factory\", \"farm\", \"fashion\", \"fashion\", \"fashion\", \"fashion\", \"fastpaced\", \"fastpaced\", \"female\", \"female\", \"female\", \"field\", \"field\", \"figure\", \"finance\", \"finance\", \"finance\", \"financial\", \"financial\", \"financial\", \"financial\", \"firm\", \"firm\", \"floor\", \"floor\", \"floor\", \"fluent\", \"fmcg\", \"focus\", \"focus\", \"focus\", \"focus\", \"focus\", \"focused\", \"food\", \"food\", \"football\", \"football\", \"football\", \"footwear\", \"footwear\", \"footwear\", \"footwear\", \"forward\", \"france\", \"france\", \"france\", \"francisco\", \"francisco\", \"frankfurt\", \"freshman\", \"freshman\", \"functional\", \"fundraising\", \"fundraising\", \"fundraising\", \"future\", \"future\", \"future\", \"gain\", \"gain\", \"general\", \"general\", \"general\", \"germany\", \"gestion\", \"gestion\", \"gion\", \"goal\", \"golf\", \"good\", \"good\", \"good\", \"good\", \"graduate\", \"graduate\", \"graduate\", \"graduate\", \"graduating\", \"graduating\", \"grammar\", \"grande\", \"grande\", \"grande\", \"grant\", \"graphic\", \"great\", \"great\", \"great\", \"great\", \"group\", \"group\", \"group\", \"grow\", \"gym\", \"gym\", \"handle\", \"handson\", \"handson\", \"hardworke\", \"head\", \"health\", \"health\", \"health\", \"healthcare\", \"healthcare\", \"healthcare\", \"healthcare\", \"healthy\", \"healthy\", \"hello\", \"hello\", \"help\", \"help\", \"help\", \"high\", \"high\", \"high\", \"high\", \"high\", \"highly\", \"highly\", \"highly\", \"hill\", \"history\", \"history\", \"hockey\", \"hold\", \"hold\", \"hold\", \"honour\", \"honour\", \"hospitality\", \"human\", \"human\", \"image\", \"importance\", \"include\", \"include\", \"include\", \"include\", \"include\", \"incoming\", \"incoming\", \"incredible\", \"indiana\", \"indiana\", \"indiana\", \"individual\", \"industry\", \"industry\", \"innovation\", \"innovation\", \"insight\", \"insight\", \"inspiration\", \"instructor\", \"instructor\", \"interested\", \"interested\", \"intern\", \"intern\", \"intern\", \"internal\", \"internal\", \"international\", \"international\", \"international\", \"international\", \"invest\", \"involvement\", \"involvement\", \"iowa\", \"iowa\", \"ireland\", \"irvine\", \"issue\", \"issue\", \"italian\", \"james\", \"jean\", \"jersey\", \"jersey\", \"job\", \"job\", \"job\", \"johnson\", \"johnson\", \"jordan\", \"jordan\", \"journey\", \"journey\", \"joy\", \"joy\", \"joy\", \"july\", \"july\", \"july\", \"kid\", \"kid\", \"king\", \"king\", \"kingdom\", \"know\", \"knowledge\", \"knowledge\", \"knowledge\", \"knowledge\", \"kpi\", \"lake\", \"las\", \"later\", \"lead\", \"lead\", \"lead\", \"lead\", \"lead\", \"leader\", \"leader\", \"leader\", \"leader\", \"leader\", \"leadership\", \"leadership\", \"leadership\", \"learn\", \"learn\", \"learn\", \"learning\", \"learning\", \"lesson\", \"life\", \"life\", \"lifeguard\", \"lifeguard\", \"line\", \"line\", \"line\", \"list\", \"list\", \"listen\", \"little\", \"little\", \"live\", \"live\", \"logistic\", \"logistic\", \"logistic\", \"logistic\", \"longterm\", \"look\", \"look\", \"los\", \"los\", \"los\", \"los\", \"lot\", \"lot\", \"love\", \"lyc\", \"macewan\", \"magazine\", \"magazine\", \"major\", \"major\", \"majoring\", \"majoring\", \"make\", \"mall\", \"mall\", \"mall\", \"manage\", \"manage\", \"manage\", \"manage\", \"management\", \"management\", \"management\", \"management\", \"management\", \"management\", \"manager\", \"manager\", \"manager\", \"manager\", \"marcos\", \"market\", \"market\", \"market\", \"market\", \"market\", \"marketing\", \"marketing\", \"marketing\", \"marketing\", \"marketing\", \"marketing\", \"marketing\", \"marketplace\", \"marketplace\", \"marketplace\", \"massachusetts\", \"massachusetts\", \"mathematics\", \"matrix\", \"matrix\", \"maximize\", \"maximize\", \"mcdonald\", \"medical\", \"medical\", \"medical\", \"medicine\", \"meet\", \"meet\", \"men\", \"men\", \"mentor\", \"mentor\", \"mentor\", \"mentor\", \"merchandise\", \"merchandise\", \"merchandise\", \"merchandise\", \"microsoft\", \"milano\", \"mission\", \"mission\", \"mission\", \"mobile\", \"mobile\", \"monash\", \"month\", \"month\", \"msc\", \"msc\", \"music\", \"music\", \"music\", \"mvp\", \"nassau\", \"nassau\", \"national\", \"national\", \"national\", \"national\", \"native\", \"near\", \"negotiation\", \"netherlands\", \"netherlands\", \"nevada\", \"nevada\", \"new\", \"new\", \"new\", \"new\", \"new\", \"new\", \"newark\", \"nike\", \"nike\", \"nike\", \"nike\", \"nike\", \"nike\", \"nonprofit\", \"nonprofit\", \"noordholland\", \"north\", \"north\", \"notre\", \"notre\", \"numerous\", \"nutrition\", \"obtain\", \"office\", \"office\", \"office\", \"office\", \"office\", \"olympics\", \"online\", \"operate\", \"operate\", \"operate\", \"operation\", \"operation\", \"operation\", \"operation\", \"opportunity\", \"opportunity\", \"opportunity\", \"optimization\", \"option\", \"oregon\", \"oregon\", \"oregon\", \"organisation\", \"organisation\", \"organisation\", \"organise\", \"organise\", \"orientation\", \"orlando\", \"outdoor\", \"outdoor\", \"outdoor\", \"outlet\", \"outlet\", \"outlet\", \"outlook\", \"outlook\", \"outreach\", \"outreach\", \"owner\", \"owner\", \"oxford\", \"oxford\", \"page\", \"page\", \"paris\", \"park\", \"partner\", \"partner\", \"partner\", \"passion\", \"passion\", \"passion\", \"passionn\", \"past\", \"pay\", \"people\", \"people\", \"performance\", \"performance\", \"performance\", \"performance\", \"person\", \"personable\", \"personable\", \"personal\", \"personal\", \"personal\", \"personal\", \"pga\", \"phone\", \"photographer\", \"photographer\", \"photographer\", \"physical\", \"physical\", \"plan\", \"plan\", \"plan\", \"planner\", \"planner\", \"planner\", \"planner\", \"planning\", \"planning\", \"planning\", \"planning\", \"planning\", \"plant\", \"plant\", \"platform\", \"platform\", \"platform\", \"play\", \"play\", \"plus\", \"plus\", \"portfolio\", \"portland\", \"position\", \"position\", \"positive\", \"powerpoint\", \"practice\", \"practice\", \"practice\", \"preparation\", \"preparation\", \"presentation\", \"presentation\", \"president\", \"president\", \"prevent\", \"prevent\", \"primary\", \"primary\", \"prior\", \"prior\", \"pro\", \"pro\", \"problem\", \"problem\", \"process\", \"process\", \"process\", \"produce\", \"produce\", \"produce\", \"product\", \"product\", \"product\", \"product\", \"product\", \"product\", \"production\", \"production\", \"productive\", \"professional\", \"professional\", \"professional\", \"professional\", \"professionalism\", \"proficiency\", \"proficiency\", \"proficient\", \"proficient\", \"project\", \"project\", \"project\", \"project\", \"project\", \"promote\", \"promote\", \"promote\", \"prove\", \"prove\", \"prove\", \"provide\", \"provide\", \"psychology\", \"public\", \"public\", \"public\", \"pursuit\", \"quality\", \"quality\", \"quality\", \"que\", \"que\", \"qui\", \"quickly\", \"range\", \"range\", \"range\", \"rank\", \"reach\", \"read\", \"read\", \"read\", \"real\", \"receptionist\", \"receptionist\", \"receptionist\", \"receptionist\", \"record\", \"record\", \"record\", \"recruit\", \"recruitment\", \"recruitment\", \"recruitment\", \"regi\", \"register\", \"register\", \"related\", \"relation\", \"relation\", \"relation\", \"relationship\", \"relationship\", \"relationship\", \"relationship\", \"remove\", \"rep\", \"rep\", \"represent\", \"represent\", \"representative\", \"representative\", \"representative\", \"representative\", \"require\", \"research\", \"research\", \"research\", \"resource\", \"resource\", \"resource\", \"responsible\", \"responsible\", \"result\", \"result\", \"retail\", \"retail\", \"retail\", \"retail\", \"retail\", \"retailer\", \"retailer\", \"retailer\", \"retailer\", \"revenue\", \"revenue\", \"rience\", \"rio\", \"rio\", \"river\", \"rmit\", \"robert\", \"robert\", \"rock\", \"role\", \"role\", \"rutgers\", \"rutgers\", \"sale\", \"sale\", \"sale\", \"sale\", \"sale\", \"sale\", \"sale\", \"salesperson\", \"san\", \"san\", \"san\", \"san\", \"satisfy\", \"say\", \"say\", \"say\", \"say\", \"scale\", \"scholarship\", \"scholarship\", \"scholarship\", \"school\", \"school\", \"school\", \"school\", \"science\", \"science\", \"science\", \"science\", \"sea\", \"sea\", \"sea\", \"search\", \"secondary\", \"secondary\", \"section\", \"section\", \"security\", \"seek\", \"select\", \"select\", \"seo\", \"seo\", \"service\", \"service\", \"service\", \"service\", \"service\", \"set\", \"setting\", \"setting\", \"shift\", \"shift\", \"shoot\", \"shoot\", \"singapore\", \"singapore\", \"site\", \"site\", \"skill\", \"skill\", \"skill\", \"skille\", \"skilled\", \"skilled\", \"skilled\", \"skilled\", \"skilled\", \"skillset\", \"skillset\", \"slippery\", \"small\", \"small\", \"small\", \"sneaker\", \"sneaker\", \"soccer\", \"soccer\", \"soccer\", \"society\", \"society\", \"society\", \"software\", \"solid\", \"solid\", \"solid\", \"solution\", \"solver\", \"sophomore\", \"sophomore\", \"south\", \"south\", \"south\", \"spa\", \"spa\", \"space\", \"space\", \"speak\", \"specialist\", \"specialist\", \"specialist\", \"specifically\", \"sport\", \"sport\", \"sport\", \"sport\", \"sport\", \"sport\", \"sporting\", \"sporting\", \"sporting\", \"sportswear\", \"sportswear\", \"srl\", \"stage\", \"stage\", \"stage\", \"stage\", \"stakeholder\", \"standard\", \"standard\", \"standard\", \"stanford\", \"stanford\", \"starbucks\", \"start\", \"start\", \"start\", \"state\", \"state\", \"state\", \"state\", \"stop\", \"store\", \"store\", \"store\", \"store\", \"store\", \"strategic\", \"strategic\", \"strategic\", \"strategic\", \"strategic\", \"strategy\", \"strategy\", \"strategy\", \"strategy\", \"strength\", \"strength\", \"strength\", \"strength\", \"strong\", \"strong\", \"strong\", \"strong\", \"student\", \"student\", \"student\", \"student\", \"student\", \"student\", \"studio\", \"studio\", \"studio\", \"study\", \"study\", \"study\", \"study\", \"study\", \"success\", \"success\", \"success\", \"success\", \"success\", \"suite\", \"suite\", \"summary\", \"summer\", \"summer\", \"summer\", \"supervisor\", \"supervisor\", \"supervisor\", \"supply\", \"support\", \"support\", \"support\", \"support\", \"surround\", \"swoosh\", \"sydney\", \"teaching\", \"teaching\", \"team\", \"team\", \"team\", \"team\", \"team\", \"team\", \"team\", \"technical\", \"technical\", \"technical\", \"technical\", \"technological\", \"technological\", \"technology\", \"technology\", \"technology\", \"technology\", \"tend\", \"test\", \"textile\", \"therapist\", \"therapist\", \"therapy\", \"therapy\", \"thinking\", \"thinking\", \"thinking\", \"thinking\", \"time\", \"time\", \"time\", \"time\", \"time\", \"timely\", \"timely\", \"tool\", \"tool\", \"tour\", \"tour\", \"tracking\", \"tracking\", \"trade\", \"trading\", \"train\", \"train\", \"trainee\", \"trainer\", \"trainer\", \"training\", \"training\", \"training\", \"training\", \"training\", \"training\", \"travel\", \"travel\", \"travel\", \"travel\", \"travel\", \"trend\", \"trend\", \"trend\", \"trend\", \"try\", \"tutor\", \"type\", \"ultimately\", \"ultimately\", \"und\", \"union\", \"unique\", \"unit\", \"unit\", \"unit\", \"united\", \"united\", \"universal\", \"universal\", \"universidad\", \"universidad\", \"universidade\", \"universit\", \"university\", \"university\", \"university\", \"university\", \"university\", \"unsw\", \"urban\", \"urban\", \"usa\", \"use\", \"use\", \"value\", \"various\", \"various\", \"various\", \"vegas\", \"verbal\", \"version\", \"version\", \"vice\", \"vice\", \"video\", \"view\", \"view\", \"village\", \"virginia\", \"visit\", \"visit\", \"vista\", \"vista\", \"vista\", \"volume\", \"volume\", \"volunteer\", \"volunteer\", \"volunteer\", \"waiter\", \"wales\", \"wales\", \"want\", \"water\", \"way\", \"wear\", \"wear\", \"web\", \"website\", \"wholesale\", \"wisconsin\", \"wisconsin\", \"women\", \"women\", \"women\", \"word\", \"word\", \"work\", \"work\", \"work\", \"work\", \"work\", \"work\", \"workforce\", \"world\", \"world\", \"world\", \"worldwide\", \"write\", \"writing\", \"writing\", \"year\", \"year\", \"year\", \"year\", \"year\", \"york\", \"youth\", \"zealand\", \"zealand\", \"zone\", \"zone\"]}, \"R\": 30, \"lambda.step\": 0.01, \"plot.opts\": {\"xlab\": \"PC1\", \"ylab\": \"PC2\"}, \"topic.order\": [15, 2, 8, 3, 16, 11, 19, 5, 9, 20, 6, 13, 17, 7, 14, 10, 18, 4, 1, 12]};\n",
       "\n",
       "function LDAvis_load_lib(url, callback){\n",
       "  var s = document.createElement('script');\n",
       "  s.src = url;\n",
       "  s.async = true;\n",
       "  s.onreadystatechange = s.onload = callback;\n",
       "  s.onerror = function(){console.warn(\"failed to load library \" + url);};\n",
       "  document.getElementsByTagName(\"head\")[0].appendChild(s);\n",
       "}\n",
       "\n",
       "if(typeof(LDAvis) !== \"undefined\"){\n",
       "   // already loaded: just create the visualization\n",
       "   !function(LDAvis){\n",
       "       new LDAvis(\"#\" + \"ldavis_el478811404207273253927958347447\", ldavis_el478811404207273253927958347447_data);\n",
       "   }(LDAvis);\n",
       "}else if(typeof define === \"function\" && define.amd){\n",
       "   // require.js is available: use it to load d3/LDAvis\n",
       "   require.config({paths: {d3: \"https://cdnjs.cloudflare.com/ajax/libs/d3/3.5.5/d3.min\"}});\n",
       "   require([\"d3\"], function(d3){\n",
       "      window.d3 = d3;\n",
       "      LDAvis_load_lib(\"https://cdn.rawgit.com/bmabey/pyLDAvis/files/ldavis.v1.0.0.js\", function(){\n",
       "        new LDAvis(\"#\" + \"ldavis_el478811404207273253927958347447\", ldavis_el478811404207273253927958347447_data);\n",
       "      });\n",
       "    });\n",
       "}else{\n",
       "    // require.js not available: dynamically load d3 & LDAvis\n",
       "    LDAvis_load_lib(\"https://cdnjs.cloudflare.com/ajax/libs/d3/3.5.5/d3.min.js\", function(){\n",
       "         LDAvis_load_lib(\"https://cdn.rawgit.com/bmabey/pyLDAvis/files/ldavis.v1.0.0.js\", function(){\n",
       "                 new LDAvis(\"#\" + \"ldavis_el478811404207273253927958347447\", ldavis_el478811404207273253927958347447_data);\n",
       "            })\n",
       "         });\n",
       "}\n",
       "</script>"
      ],
      "text/plain": [
       "PreparedData(topic_coordinates=                x           y  topics  cluster       Freq\n",
       "topic                                                    \n",
       "14     -10.878068   10.538728       1        1  34.775897\n",
       "1      -60.884026  -75.591820       2        1  30.760594\n",
       "7       -2.336119  -53.289074       3        1  14.000410\n",
       "2      -61.385319  -12.914634       4        1   6.899189\n",
       "15     -28.737743  126.296997       5        1   3.160659\n",
       "10       1.066606 -123.552811       6        1   2.378754\n",
       "18      45.140720   -7.947869       7        1   1.942715\n",
       "4     -140.795975  -98.530548       8        1   1.306544\n",
       "8       61.531681  -83.240562       9        1   0.886200\n",
       "19     -72.563057 -140.396881      10        1   0.677040\n",
       "5       15.984491   63.578186      11        1   0.627845\n",
       "12    -160.851624   68.945145      12        1   0.501902\n",
       "16      85.961830   51.922935      13        1   0.309690\n",
       "6      -99.020836  109.936348      14        1   0.304974\n",
       "13    -176.764130   -8.681684      15        1   0.283485\n",
       "9     -117.189880  -37.420200      16        1   0.273780\n",
       "17     108.829918  -22.946203      17        1   0.263340\n",
       "3       47.588097  121.934814      18        1   0.234480\n",
       "0     -106.467834   30.176889      19        1   0.219575\n",
       "11     -50.613804   59.328842      20        1   0.192926, topic_info=              Term        Freq       Total Category  logprob  loglift\n",
       "1074          sale  844.000000  844.000000  Default  30.0000  30.0000\n",
       "839           nike  660.000000  660.000000  Default  29.0000  29.0000\n",
       "1285    university  399.000000  399.000000  Default  28.0000  28.0000\n",
       "125           base  385.000000  385.000000  Default  27.0000  27.0000\n",
       "835            new  136.000000  136.000000  Default  26.0000  26.0000\n",
       "...            ...         ...         ...      ...      ...      ...\n",
       "1036  relationship    0.033622   41.673773  Topic20  -7.1887  -0.8718\n",
       "1190       student    0.033618  167.413868  Topic20  -7.1888  -2.2625\n",
       "532         future    0.033597   20.080211  Topic20  -7.1895  -0.1424\n",
       "461     experience    0.033577  251.845796  Topic20  -7.1901  -2.6721\n",
       "1127         skill    0.033572  174.274131  Topic20  -7.1902  -2.3041\n",
       "\n",
       "[1095 rows x 6 columns], token_table=      Topic      Freq          Term\n",
       "term                               \n",
       "1         1  0.982126          able\n",
       "6         6  0.766353     accessory\n",
       "8         4  0.889173  accomplished\n",
       "9         1  0.019848       account\n",
       "9         2  0.714521       account\n",
       "...     ...       ...           ...\n",
       "1356      1  0.794730         youth\n",
       "1357      2  0.577132       zealand\n",
       "1357      8  0.288566       zealand\n",
       "1358      1  0.573632          zone\n",
       "1358     10  0.286816          zone\n",
       "\n",
       "[1474 rows x 3 columns], R=30, lambda_step=0.01, plot_opts={'xlab': 'PC1', 'ylab': 'PC2'}, topic_order=[15, 2, 8, 3, 16, 11, 19, 5, 9, 20, 6, 13, 17, 7, 14, 10, 18, 4, 1, 12])"
      ]
     },
     "execution_count": 42,
     "metadata": {},
     "output_type": "execute_result"
    }
   ],
   "source": [
    "vectorizer = CountVectorizer(analyzer='word',       \n",
    "                             min_df=3,                       \n",
    "                             stop_words='english',             \n",
    "                             lowercase=True,                   \n",
    "                             token_pattern='[a-zA-Z0-9]{3,}',  \n",
    "                             max_features=5000,          \n",
    "                            )\n",
    "\n",
    "data_vectorized = vectorizer.fit_transform(df_clean['description_clean'])\n",
    "\n",
    "lda_model = LatentDirichletAllocation(n_components=20, # Number of topics\n",
    "                                      learning_method='online',\n",
    "                                      random_state=0,       \n",
    "                                      n_jobs = -1  # Use all available CPUs\n",
    "                                     )\n",
    "lda_output = lda_model.fit_transform(data_vectorized)\n",
    "\n",
    "pyLDAvis.enable_notebook()\n",
    "pyLDAvis.sklearn.prepare(lda_model, data_vectorized, vectorizer, mds='tsne')"
   ]
  },
  {
   "cell_type": "code",
   "execution_count": 43,
   "metadata": {},
   "outputs": [
    {
     "data": {
      "text/html": [
       "<div>\n",
       "<style scoped>\n",
       "    .dataframe tbody tr th:only-of-type {\n",
       "        vertical-align: middle;\n",
       "    }\n",
       "\n",
       "    .dataframe tbody tr th {\n",
       "        vertical-align: top;\n",
       "    }\n",
       "\n",
       "    .dataframe thead th {\n",
       "        text-align: right;\n",
       "    }\n",
       "</style>\n",
       "<table border=\"1\" class=\"dataframe\">\n",
       "  <thead>\n",
       "    <tr style=\"text-align: right;\">\n",
       "      <th></th>\n",
       "      <th>Word 0</th>\n",
       "      <th>Word 1</th>\n",
       "      <th>Word 2</th>\n",
       "      <th>Word 3</th>\n",
       "      <th>Word 4</th>\n",
       "      <th>Word 5</th>\n",
       "      <th>Word 6</th>\n",
       "      <th>Word 7</th>\n",
       "      <th>Word 8</th>\n",
       "      <th>Word 9</th>\n",
       "      <th>Word 10</th>\n",
       "      <th>Word 11</th>\n",
       "      <th>Word 12</th>\n",
       "      <th>Word 13</th>\n",
       "      <th>Word 14</th>\n",
       "      <th>Word 15</th>\n",
       "      <th>Word 16</th>\n",
       "      <th>Word 17</th>\n",
       "      <th>Word 18</th>\n",
       "      <th>Word 19</th>\n",
       "    </tr>\n",
       "  </thead>\n",
       "  <tbody>\n",
       "    <tr>\n",
       "      <th>Topic 0</th>\n",
       "      <td>supervisor</td>\n",
       "      <td>box</td>\n",
       "      <td>union</td>\n",
       "      <td>usa</td>\n",
       "      <td>james</td>\n",
       "      <td>office</td>\n",
       "      <td>study</td>\n",
       "      <td>shift</td>\n",
       "      <td>proficient</td>\n",
       "      <td>leader</td>\n",
       "      <td>register</td>\n",
       "      <td>california</td>\n",
       "      <td>lead</td>\n",
       "      <td>specifically</td>\n",
       "      <td>experience</td>\n",
       "      <td>city</td>\n",
       "      <td>support</td>\n",
       "      <td>university</td>\n",
       "      <td>work</td>\n",
       "      <td>national</td>\n",
       "    </tr>\n",
       "    <tr>\n",
       "      <th>Topic 1</th>\n",
       "      <td>nike</td>\n",
       "      <td>sale</td>\n",
       "      <td>base</td>\n",
       "      <td>work</td>\n",
       "      <td>university</td>\n",
       "      <td>associate</td>\n",
       "      <td>attend</td>\n",
       "      <td>study</td>\n",
       "      <td>manager</td>\n",
       "      <td>assistant</td>\n",
       "      <td>school</td>\n",
       "      <td>college</td>\n",
       "      <td>student</td>\n",
       "      <td>area</td>\n",
       "      <td>account</td>\n",
       "      <td>director</td>\n",
       "      <td>business</td>\n",
       "      <td>executive</td>\n",
       "      <td>intern</td>\n",
       "      <td>graduating</td>\n",
       "    </tr>\n",
       "    <tr>\n",
       "      <th>Topic 2</th>\n",
       "      <td>business</td>\n",
       "      <td>experience</td>\n",
       "      <td>management</td>\n",
       "      <td>project</td>\n",
       "      <td>planning</td>\n",
       "      <td>supply</td>\n",
       "      <td>team</td>\n",
       "      <td>operation</td>\n",
       "      <td>sale</td>\n",
       "      <td>lead</td>\n",
       "      <td>nike</td>\n",
       "      <td>skill</td>\n",
       "      <td>chain</td>\n",
       "      <td>result</td>\n",
       "      <td>strategic</td>\n",
       "      <td>development</td>\n",
       "      <td>knowledge</td>\n",
       "      <td>process</td>\n",
       "      <td>effective</td>\n",
       "      <td>year</td>\n",
       "    </tr>\n",
       "    <tr>\n",
       "      <th>Topic 3</th>\n",
       "      <td>test</td>\n",
       "      <td>certify</td>\n",
       "      <td>draw</td>\n",
       "      <td>practice</td>\n",
       "      <td>medical</td>\n",
       "      <td>learning</td>\n",
       "      <td>forward</td>\n",
       "      <td>month</td>\n",
       "      <td>adapt</td>\n",
       "      <td>use</td>\n",
       "      <td>assistant</td>\n",
       "      <td>college</td>\n",
       "      <td>look</td>\n",
       "      <td>learn</td>\n",
       "      <td>attend</td>\n",
       "      <td>skill</td>\n",
       "      <td>year</td>\n",
       "      <td>communicator</td>\n",
       "      <td>excel</td>\n",
       "      <td>singapore</td>\n",
       "    </tr>\n",
       "    <tr>\n",
       "      <th>Topic 4</th>\n",
       "      <td>south</td>\n",
       "      <td>australia</td>\n",
       "      <td>sydney</td>\n",
       "      <td>wales</td>\n",
       "      <td>new</td>\n",
       "      <td>university</td>\n",
       "      <td>assistant</td>\n",
       "      <td>unsw</td>\n",
       "      <td>clinic</td>\n",
       "      <td>tutor</td>\n",
       "      <td>francisco</td>\n",
       "      <td>president</td>\n",
       "      <td>macewan</td>\n",
       "      <td>eye</td>\n",
       "      <td>customer</td>\n",
       "      <td>vice</td>\n",
       "      <td>california</td>\n",
       "      <td>primary</td>\n",
       "      <td>waiter</td>\n",
       "      <td>dental</td>\n",
       "    </tr>\n",
       "    <tr>\n",
       "      <th>Topic 5</th>\n",
       "      <td>iowa</td>\n",
       "      <td>france</td>\n",
       "      <td>pay</td>\n",
       "      <td>gestion</td>\n",
       "      <td>search</td>\n",
       "      <td>production</td>\n",
       "      <td>ecole</td>\n",
       "      <td>video</td>\n",
       "      <td>esc</td>\n",
       "      <td>mission</td>\n",
       "      <td>lyc</td>\n",
       "      <td>creative</td>\n",
       "      <td>que</td>\n",
       "      <td>cole</td>\n",
       "      <td>strength</td>\n",
       "      <td>conditioning</td>\n",
       "      <td>shoot</td>\n",
       "      <td>adobe</td>\n",
       "      <td>pro</td>\n",
       "      <td>stage</td>\n",
       "    </tr>\n",
       "    <tr>\n",
       "      <th>Topic 6</th>\n",
       "      <td>thinking</td>\n",
       "      <td>critical</td>\n",
       "      <td>universidad</td>\n",
       "      <td>advisory</td>\n",
       "      <td>analysis</td>\n",
       "      <td>consulting</td>\n",
       "      <td>scholarship</td>\n",
       "      <td>studio</td>\n",
       "      <td>bridge</td>\n",
       "      <td>strategic</td>\n",
       "      <td>success</td>\n",
       "      <td>operation</td>\n",
       "      <td>universal</td>\n",
       "      <td>organisation</td>\n",
       "      <td>photographer</td>\n",
       "      <td>hold</td>\n",
       "      <td>design</td>\n",
       "      <td>los</td>\n",
       "      <td>require</td>\n",
       "      <td>analytical</td>\n",
       "    </tr>\n",
       "    <tr>\n",
       "      <th>Topic 7</th>\n",
       "      <td>sale</td>\n",
       "      <td>management</td>\n",
       "      <td>industry</td>\n",
       "      <td>professional</td>\n",
       "      <td>work</td>\n",
       "      <td>strong</td>\n",
       "      <td>demonstrate</td>\n",
       "      <td>history</td>\n",
       "      <td>experienced</td>\n",
       "      <td>business</td>\n",
       "      <td>skille</td>\n",
       "      <td>customer</td>\n",
       "      <td>good</td>\n",
       "      <td>marketing</td>\n",
       "      <td>microsoft</td>\n",
       "      <td>service</td>\n",
       "      <td>retail</td>\n",
       "      <td>sporting</td>\n",
       "      <td>university</td>\n",
       "      <td>focus</td>\n",
       "    </tr>\n",
       "    <tr>\n",
       "      <th>Topic 8</th>\n",
       "      <td>personal</td>\n",
       "      <td>france</td>\n",
       "      <td>trainer</td>\n",
       "      <td>paris</td>\n",
       "      <td>training</td>\n",
       "      <td>gion</td>\n",
       "      <td>communication</td>\n",
       "      <td>alexandre</td>\n",
       "      <td>marketing</td>\n",
       "      <td>digital</td>\n",
       "      <td>kid</td>\n",
       "      <td>music</td>\n",
       "      <td>gym</td>\n",
       "      <td>start</td>\n",
       "      <td>water</td>\n",
       "      <td>near</td>\n",
       "      <td>pro</td>\n",
       "      <td>listen</td>\n",
       "      <td>campus</td>\n",
       "      <td>indiana</td>\n",
       "    </tr>\n",
       "    <tr>\n",
       "      <th>Topic 9</th>\n",
       "      <td>universidade</td>\n",
       "      <td>wear</td>\n",
       "      <td>com</td>\n",
       "      <td>comercial</td>\n",
       "      <td>incoming</td>\n",
       "      <td>receptionist</td>\n",
       "      <td>hello</td>\n",
       "      <td>spa</td>\n",
       "      <td>rio</td>\n",
       "      <td>mall</td>\n",
       "      <td>outlet</td>\n",
       "      <td>register</td>\n",
       "      <td>floor</td>\n",
       "      <td>summer</td>\n",
       "      <td>employ</td>\n",
       "      <td>handle</td>\n",
       "      <td>past</td>\n",
       "      <td>product</td>\n",
       "      <td>store</td>\n",
       "      <td>gain</td>\n",
       "    </tr>\n",
       "    <tr>\n",
       "      <th>Topic 10</th>\n",
       "      <td>product</td>\n",
       "      <td>retail</td>\n",
       "      <td>sale</td>\n",
       "      <td>management</td>\n",
       "      <td>market</td>\n",
       "      <td>experience</td>\n",
       "      <td>distribution</td>\n",
       "      <td>channel</td>\n",
       "      <td>strategy</td>\n",
       "      <td>line</td>\n",
       "      <td>account</td>\n",
       "      <td>team</td>\n",
       "      <td>business</td>\n",
       "      <td>commercial</td>\n",
       "      <td>wholesale</td>\n",
       "      <td>performance</td>\n",
       "      <td>development</td>\n",
       "      <td>online</td>\n",
       "      <td>new</td>\n",
       "      <td>marketplace</td>\n",
       "    </tr>\n",
       "    <tr>\n",
       "      <th>Topic 11</th>\n",
       "      <td>financial</td>\n",
       "      <td>obtain</td>\n",
       "      <td>goal</td>\n",
       "      <td>big</td>\n",
       "      <td>gain</td>\n",
       "      <td>start</td>\n",
       "      <td>finance</td>\n",
       "      <td>interested</td>\n",
       "      <td>kid</td>\n",
       "      <td>robert</td>\n",
       "      <td>nonprofit</td>\n",
       "      <td>job</td>\n",
       "      <td>major</td>\n",
       "      <td>nike</td>\n",
       "      <td>create</td>\n",
       "      <td>teaching</td>\n",
       "      <td>real</td>\n",
       "      <td>personable</td>\n",
       "      <td>want</td>\n",
       "      <td>cash</td>\n",
       "    </tr>\n",
       "    <tr>\n",
       "      <th>Topic 12</th>\n",
       "      <td>san</td>\n",
       "      <td>diego</td>\n",
       "      <td>ashley</td>\n",
       "      <td>california</td>\n",
       "      <td>great</td>\n",
       "      <td>marcos</td>\n",
       "      <td>club</td>\n",
       "      <td>owner</td>\n",
       "      <td>engineer</td>\n",
       "      <td>handson</td>\n",
       "      <td>soccer</td>\n",
       "      <td>advance</td>\n",
       "      <td>provide</td>\n",
       "      <td>recruitment</td>\n",
       "      <td>healthcare</td>\n",
       "      <td>standard</td>\n",
       "      <td>enterprise</td>\n",
       "      <td>committee</td>\n",
       "      <td>vista</td>\n",
       "      <td>trend</td>\n",
       "    </tr>\n",
       "    <tr>\n",
       "      <th>Topic 13</th>\n",
       "      <td>delta</td>\n",
       "      <td>produce</td>\n",
       "      <td>activity</td>\n",
       "      <td>travel</td>\n",
       "      <td>quality</td>\n",
       "      <td>camp</td>\n",
       "      <td>detailoriente</td>\n",
       "      <td>proficiency</td>\n",
       "      <td>corporation</td>\n",
       "      <td>instructor</td>\n",
       "      <td>joy</td>\n",
       "      <td>outdoor</td>\n",
       "      <td>secondary</td>\n",
       "      <td>additionally</td>\n",
       "      <td>leader</td>\n",
       "      <td>world</td>\n",
       "      <td>soccer</td>\n",
       "      <td>love</td>\n",
       "      <td>visit</td>\n",
       "      <td>graduate</td>\n",
       "    </tr>\n",
       "    <tr>\n",
       "      <th>Topic 14</th>\n",
       "      <td>work</td>\n",
       "      <td>experience</td>\n",
       "      <td>skill</td>\n",
       "      <td>year</td>\n",
       "      <td>sport</td>\n",
       "      <td>university</td>\n",
       "      <td>team</td>\n",
       "      <td>customer</td>\n",
       "      <td>learn</td>\n",
       "      <td>currently</td>\n",
       "      <td>new</td>\n",
       "      <td>career</td>\n",
       "      <td>student</td>\n",
       "      <td>goal</td>\n",
       "      <td>good</td>\n",
       "      <td>passion</td>\n",
       "      <td>industry</td>\n",
       "      <td>service</td>\n",
       "      <td>study</td>\n",
       "      <td>business</td>\n",
       "    </tr>\n",
       "    <tr>\n",
       "      <th>Topic 15</th>\n",
       "      <td>design</td>\n",
       "      <td>golf</td>\n",
       "      <td>marketing</td>\n",
       "      <td>year</td>\n",
       "      <td>football</td>\n",
       "      <td>nike</td>\n",
       "      <td>designer</td>\n",
       "      <td>sale</td>\n",
       "      <td>brand</td>\n",
       "      <td>club</td>\n",
       "      <td>national</td>\n",
       "      <td>graphic</td>\n",
       "      <td>manage</td>\n",
       "      <td>account</td>\n",
       "      <td>research</td>\n",
       "      <td>project</td>\n",
       "      <td>digital</td>\n",
       "      <td>fashion</td>\n",
       "      <td>award</td>\n",
       "      <td>category</td>\n",
       "    </tr>\n",
       "    <tr>\n",
       "      <th>Topic 16</th>\n",
       "      <td>nutrition</td>\n",
       "      <td>content</td>\n",
       "      <td>easy</td>\n",
       "      <td>education</td>\n",
       "      <td>clinical</td>\n",
       "      <td>healthy</td>\n",
       "      <td>great</td>\n",
       "      <td>create</td>\n",
       "      <td>time</td>\n",
       "      <td>platform</td>\n",
       "      <td>skilled</td>\n",
       "      <td>collaboration</td>\n",
       "      <td>empower</td>\n",
       "      <td>ultimately</td>\n",
       "      <td>practice</td>\n",
       "      <td>setting</td>\n",
       "      <td>food</td>\n",
       "      <td>current</td>\n",
       "      <td>leadership</td>\n",
       "      <td>community</td>\n",
       "    </tr>\n",
       "    <tr>\n",
       "      <th>Topic 17</th>\n",
       "      <td>experiencia</td>\n",
       "      <td>comercial</td>\n",
       "      <td>empresas</td>\n",
       "      <td>del</td>\n",
       "      <td>que</td>\n",
       "      <td>general</td>\n",
       "      <td>personal</td>\n",
       "      <td>operation</td>\n",
       "      <td>career</td>\n",
       "      <td>supply</td>\n",
       "      <td>barista</td>\n",
       "      <td>concept</td>\n",
       "      <td>stakeholder</td>\n",
       "      <td>orlando</td>\n",
       "      <td>opportunity</td>\n",
       "      <td>esc</td>\n",
       "      <td>exercise</td>\n",
       "      <td>cap</td>\n",
       "      <td>numerous</td>\n",
       "      <td>pursuit</td>\n",
       "    </tr>\n",
       "    <tr>\n",
       "      <th>Topic 18</th>\n",
       "      <td>employee</td>\n",
       "      <td>community</td>\n",
       "      <td>del</td>\n",
       "      <td>technical</td>\n",
       "      <td>student</td>\n",
       "      <td>athlete</td>\n",
       "      <td>service</td>\n",
       "      <td>management</td>\n",
       "      <td>store</td>\n",
       "      <td>human</td>\n",
       "      <td>university</td>\n",
       "      <td>nike</td>\n",
       "      <td>event</td>\n",
       "      <td>app</td>\n",
       "      <td>education</td>\n",
       "      <td>las</td>\n",
       "      <td>sneaker</td>\n",
       "      <td>jersey</td>\n",
       "      <td>entertainment</td>\n",
       "      <td>cticas</td>\n",
       "    </tr>\n",
       "    <tr>\n",
       "      <th>Topic 19</th>\n",
       "      <td>brand</td>\n",
       "      <td>jordan</td>\n",
       "      <td>merchandise</td>\n",
       "      <td>director</td>\n",
       "      <td>footwear</td>\n",
       "      <td>trading</td>\n",
       "      <td>jean</td>\n",
       "      <td>mvp</td>\n",
       "      <td>month</td>\n",
       "      <td>planner</td>\n",
       "      <td>dick</td>\n",
       "      <td>expert</td>\n",
       "      <td>journey</td>\n",
       "      <td>entertainment</td>\n",
       "      <td>couple</td>\n",
       "      <td>buyer</td>\n",
       "      <td>avenue</td>\n",
       "      <td>view</td>\n",
       "      <td>district</td>\n",
       "      <td>oxford</td>\n",
       "    </tr>\n",
       "  </tbody>\n",
       "</table>\n",
       "</div>"
      ],
      "text/plain": [
       "                Word 0      Word 1       Word 2        Word 3      Word 4  \\\n",
       "Topic 0     supervisor         box        union           usa       james   \n",
       "Topic 1           nike        sale         base          work  university   \n",
       "Topic 2       business  experience   management       project    planning   \n",
       "Topic 3           test     certify         draw      practice     medical   \n",
       "Topic 4          south   australia       sydney         wales         new   \n",
       "Topic 5           iowa      france          pay       gestion      search   \n",
       "Topic 6       thinking    critical  universidad      advisory    analysis   \n",
       "Topic 7           sale  management     industry  professional        work   \n",
       "Topic 8       personal      france      trainer         paris    training   \n",
       "Topic 9   universidade        wear          com     comercial    incoming   \n",
       "Topic 10       product      retail         sale    management      market   \n",
       "Topic 11     financial      obtain         goal           big        gain   \n",
       "Topic 12           san       diego       ashley    california       great   \n",
       "Topic 13         delta     produce     activity        travel     quality   \n",
       "Topic 14          work  experience        skill          year       sport   \n",
       "Topic 15        design        golf    marketing          year    football   \n",
       "Topic 16     nutrition     content         easy     education    clinical   \n",
       "Topic 17   experiencia   comercial     empresas           del         que   \n",
       "Topic 18      employee   community          del     technical     student   \n",
       "Topic 19         brand      jordan  merchandise      director    footwear   \n",
       "\n",
       "                Word 5         Word 6       Word 7       Word 8      Word 9  \\\n",
       "Topic 0         office          study        shift   proficient      leader   \n",
       "Topic 1      associate         attend        study      manager   assistant   \n",
       "Topic 2         supply           team    operation         sale        lead   \n",
       "Topic 3       learning        forward        month        adapt         use   \n",
       "Topic 4     university      assistant         unsw       clinic       tutor   \n",
       "Topic 5     production          ecole        video          esc     mission   \n",
       "Topic 6     consulting    scholarship       studio       bridge   strategic   \n",
       "Topic 7         strong    demonstrate      history  experienced    business   \n",
       "Topic 8           gion  communication    alexandre    marketing     digital   \n",
       "Topic 9   receptionist          hello          spa          rio        mall   \n",
       "Topic 10    experience   distribution      channel     strategy        line   \n",
       "Topic 11         start        finance   interested          kid      robert   \n",
       "Topic 12        marcos           club        owner     engineer     handson   \n",
       "Topic 13          camp  detailoriente  proficiency  corporation  instructor   \n",
       "Topic 14    university           team     customer        learn   currently   \n",
       "Topic 15          nike       designer         sale        brand        club   \n",
       "Topic 16       healthy          great       create         time    platform   \n",
       "Topic 17       general       personal    operation       career      supply   \n",
       "Topic 18       athlete        service   management        store       human   \n",
       "Topic 19       trading           jean          mvp        month     planner   \n",
       "\n",
       "             Word 10        Word 11      Word 12        Word 13       Word 14  \\\n",
       "Topic 0     register     california         lead   specifically    experience   \n",
       "Topic 1       school        college      student           area       account   \n",
       "Topic 2         nike          skill        chain         result     strategic   \n",
       "Topic 3    assistant        college         look          learn        attend   \n",
       "Topic 4    francisco      president      macewan            eye      customer   \n",
       "Topic 5          lyc       creative          que           cole      strength   \n",
       "Topic 6      success      operation    universal   organisation  photographer   \n",
       "Topic 7       skille       customer         good      marketing     microsoft   \n",
       "Topic 8          kid          music          gym          start         water   \n",
       "Topic 9       outlet       register        floor         summer        employ   \n",
       "Topic 10     account           team     business     commercial     wholesale   \n",
       "Topic 11   nonprofit            job        major           nike        create   \n",
       "Topic 12      soccer        advance      provide    recruitment    healthcare   \n",
       "Topic 13         joy        outdoor    secondary   additionally        leader   \n",
       "Topic 14         new         career      student           goal          good   \n",
       "Topic 15    national        graphic       manage        account      research   \n",
       "Topic 16     skilled  collaboration      empower     ultimately      practice   \n",
       "Topic 17     barista        concept  stakeholder        orlando   opportunity   \n",
       "Topic 18  university           nike        event            app     education   \n",
       "Topic 19        dick         expert      journey  entertainment        couple   \n",
       "\n",
       "               Word 15      Word 16       Word 17        Word 18      Word 19  \n",
       "Topic 0           city      support    university           work     national  \n",
       "Topic 1       director     business     executive         intern   graduating  \n",
       "Topic 2    development    knowledge       process      effective         year  \n",
       "Topic 3          skill         year  communicator          excel    singapore  \n",
       "Topic 4           vice   california       primary         waiter       dental  \n",
       "Topic 5   conditioning        shoot         adobe            pro        stage  \n",
       "Topic 6           hold       design           los        require   analytical  \n",
       "Topic 7        service       retail      sporting     university        focus  \n",
       "Topic 8           near          pro        listen         campus      indiana  \n",
       "Topic 9         handle         past       product          store         gain  \n",
       "Topic 10   performance  development        online            new  marketplace  \n",
       "Topic 11      teaching         real    personable           want         cash  \n",
       "Topic 12      standard   enterprise     committee          vista        trend  \n",
       "Topic 13         world       soccer          love          visit     graduate  \n",
       "Topic 14       passion     industry       service          study     business  \n",
       "Topic 15       project      digital       fashion          award     category  \n",
       "Topic 16       setting         food       current     leadership    community  \n",
       "Topic 17           esc     exercise           cap       numerous      pursuit  \n",
       "Topic 18           las      sneaker        jersey  entertainment       cticas  \n",
       "Topic 19         buyer       avenue          view       district       oxford  "
      ]
     },
     "execution_count": 43,
     "metadata": {},
     "output_type": "execute_result"
    }
   ],
   "source": [
    "def show_topics(vectorizer=vectorizer, lda_model=lda_model, n_words=20):\n",
    "    keywords = np.array(vectorizer.get_feature_names())\n",
    "    topic_keywords = []\n",
    "    for topic_weights in lda_model.components_:\n",
    "        top_keyword_locs = (-topic_weights).argsort()[:n_words]\n",
    "        topic_keywords.append(keywords.take(top_keyword_locs))\n",
    "    return topic_keywords\n",
    "\n",
    "topic_keywords = show_topics(vectorizer=vectorizer, lda_model=lda_model, n_words=20)\n",
    "\n",
    "df_topic_keywords = pd.DataFrame(topic_keywords)\n",
    "df_topic_keywords.columns = ['Word '+str(i) for i in range(df_topic_keywords.shape[1])]\n",
    "df_topic_keywords.index = ['Topic '+str(i) for i in range(df_topic_keywords.shape[0])]\n",
    "df_topic_keywords"
   ]
  },
  {
   "cell_type": "code",
   "execution_count": 115,
   "metadata": {},
   "outputs": [],
   "source": [
    "df[(df['has_BS'] == True) & (df['source_company'] == 'Qualcomm')].shape[0]/df[df['source_company'] == 'Qualcomm'].shape[0]"
   ]
  },
  {
   "cell_type": "code",
   "execution_count": 105,
   "metadata": {},
   "outputs": [],
   "source": [
    "df = df.rename(columns={'soruce_company': 'source_company'})"
   ]
  },
  {
   "cell_type": "code",
   "execution_count": 135,
   "metadata": {},
   "outputs": [],
   "source": [
    "df['has_PhD'] = df['has_PhD'].fillna(False)"
   ]
  },
  {
   "cell_type": "code",
   "execution_count": 178,
   "metadata": {},
   "outputs": [],
   "source": [
    "df.iloc[:, [38]] = df.iloc[:, [27]].astype(str)\n",
    "df.iloc[:, [35]]"
   ]
  },
  {
   "cell_type": "code",
   "execution_count": 164,
   "metadata": {},
   "outputs": [],
   "source": [
    "df[df['source_company'] == 'Illumina']"
   ]
  },
  {
   "cell_type": "code",
   "execution_count": 52,
   "metadata": {},
   "outputs": [
    {
     "data": {
      "text/plain": [
       "Nike                                               7\n",
       "IBM                                                2\n",
       "Tiffany & Co.                                      2\n",
       "House of Fraser                                    2\n",
       "Foot Locker                                        2\n",
       "                                                  ..\n",
       "Weworski & Associates                              1\n",
       "Freedom & Enterprise Agency                        1\n",
       "Bus Stop Cafe                                      1\n",
       "International Latino Cultural Center of Chicago    1\n",
       "CIP Agency                                         1\n",
       "Name: prev_company_5, Length: 204, dtype: int64"
      ]
     },
     "execution_count": 52,
     "metadata": {},
     "output_type": "execute_result"
    }
   ],
   "source": [
    "df['prev_company_5'].value_counts()"
   ]
  },
  {
   "cell_type": "code",
   "execution_count": 56,
   "metadata": {},
   "outputs": [
    {
     "data": {
      "text/plain": [
       "Sales Associate                        239\n",
       "Sales Assistant                         29\n",
       "Sales Representative                    25\n",
       "Sales Specialist                        13\n",
       "Sales                                   12\n",
       "                                      ... \n",
       "Student Ambassador                       1\n",
       "Licensed Sales AE                        1\n",
       "General Executive                        1\n",
       "North America Sales Director - Golf      1\n",
       "Sales Associate (Operations)             1\n",
       "Name: current_title, Length: 531, dtype: int64"
      ]
     },
     "execution_count": 56,
     "metadata": {},
     "output_type": "execute_result"
    }
   ],
   "source": [
    "df['current_title'].value_counts()"
   ]
  },
  {
   "cell_type": "code",
   "execution_count": null,
   "metadata": {},
   "outputs": [],
   "source": []
  }
 ],
 "metadata": {
  "kernelspec": {
   "display_name": "Python 3",
   "language": "python",
   "name": "python3"
  },
  "language_info": {
   "codemirror_mode": {
    "name": "ipython",
    "version": 3
   },
   "file_extension": ".py",
   "mimetype": "text/x-python",
   "name": "python",
   "nbconvert_exporter": "python",
   "pygments_lexer": "ipython3",
   "version": "3.7.6"
  }
 },
 "nbformat": 4,
 "nbformat_minor": 1
}
